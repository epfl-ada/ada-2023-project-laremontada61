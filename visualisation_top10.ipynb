{
 "cells": [
  {
   "cell_type": "code",
   "execution_count": 1,
   "metadata": {},
   "outputs": [],
   "source": [
    "import pandas as pd\n",
    "import seaborn as sns\n",
    "import matplotlib.pyplot as plt\n",
    "%matplotlib inline\n",
    "\n",
    "from PIL import Image, ImageDraw\n",
    "from matplotlib.lines import Line2D\n",
    "from matplotlib.offsetbox import OffsetImage, AnnotationBbox"
   ]
  },
  {
   "cell_type": "code",
   "execution_count": 7,
   "metadata": {},
   "outputs": [
    {
     "name": "stdout",
     "output_type": "stream",
     "text": [
      "Unnamed: 0                           1\n",
      "beer_name     Weihenstephaner Original\n",
      "year                            2000.0\n",
      "new_rating                    1.272458\n",
      "rank_0                             1.0\n",
      "rank_1                             1.0\n",
      "rank_2                             1.0\n",
      "rank_3                             1.0\n",
      "rank_4                             1.0\n",
      "rank_5                             1.0\n",
      "rank_6                             1.0\n",
      "rank_7                             1.0\n",
      "rank_8                             1.0\n",
      "rank_9                             1.0\n",
      "rank_10                            1.0\n",
      "rank_11                            1.0\n",
      "rank_12                            1.0\n",
      "rank_13                            1.0\n",
      "rank_14                            1.0\n",
      "rank_15                            1.0\n",
      "rank_16                            1.0\n",
      "rank_17                            1.0\n",
      "Name: 0, dtype: object\n"
     ]
    },
    {
     "ename": "KeyError",
     "evalue": "1.0",
     "output_type": "error",
     "traceback": [
      "\u001b[1;31m---------------------------------------------------------------------------\u001b[0m",
      "\u001b[1;31mKeyError\u001b[0m                                  Traceback (most recent call last)",
      "File \u001b[1;32mc:\\Users\\julie\\anaconda3\\envs\\ada\\lib\\site-packages\\pandas\\core\\indexes\\base.py:3790\u001b[0m, in \u001b[0;36mIndex.get_loc\u001b[1;34m(self, key)\u001b[0m\n\u001b[0;32m   3789\u001b[0m \u001b[38;5;28;01mtry\u001b[39;00m:\n\u001b[1;32m-> 3790\u001b[0m     \u001b[38;5;28;01mreturn\u001b[39;00m \u001b[38;5;28;43mself\u001b[39;49m\u001b[38;5;241;43m.\u001b[39;49m\u001b[43m_engine\u001b[49m\u001b[38;5;241;43m.\u001b[39;49m\u001b[43mget_loc\u001b[49m\u001b[43m(\u001b[49m\u001b[43mcasted_key\u001b[49m\u001b[43m)\u001b[49m\n\u001b[0;32m   3791\u001b[0m \u001b[38;5;28;01mexcept\u001b[39;00m \u001b[38;5;167;01mKeyError\u001b[39;00m \u001b[38;5;28;01mas\u001b[39;00m err:\n",
      "File \u001b[1;32mindex.pyx:152\u001b[0m, in \u001b[0;36mpandas._libs.index.IndexEngine.get_loc\u001b[1;34m()\u001b[0m\n",
      "File \u001b[1;32mindex.pyx:181\u001b[0m, in \u001b[0;36mpandas._libs.index.IndexEngine.get_loc\u001b[1;34m()\u001b[0m\n",
      "File \u001b[1;32mpandas\\_libs\\hashtable_class_helper.pxi:7080\u001b[0m, in \u001b[0;36mpandas._libs.hashtable.PyObjectHashTable.get_item\u001b[1;34m()\u001b[0m\n",
      "File \u001b[1;32mpandas\\_libs\\hashtable_class_helper.pxi:7088\u001b[0m, in \u001b[0;36mpandas._libs.hashtable.PyObjectHashTable.get_item\u001b[1;34m()\u001b[0m\n",
      "\u001b[1;31mKeyError\u001b[0m: 1.0",
      "\nThe above exception was the direct cause of the following exception:\n",
      "\u001b[1;31mKeyError\u001b[0m                                  Traceback (most recent call last)",
      "Cell \u001b[1;32mIn[7], line 30\u001b[0m\n\u001b[0;32m     28\u001b[0m     \u001b[38;5;28mprint\u001b[39m(row)\n\u001b[0;32m     29\u001b[0m     \u001b[38;5;28;01mfor\u001b[39;00m j, rc \u001b[38;5;129;01min\u001b[39;00m \u001b[38;5;28menumerate\u001b[39m(rank_columns):\n\u001b[1;32m---> 30\u001b[0m         add_pie_and_flag(fig, j, \u001b[38;5;241m-\u001b[39mrow[rc], name\u001b[38;5;241m=\u001b[39mrow\u001b[38;5;241m.\u001b[39mbeer_name, ratio\u001b[38;5;241m=\u001b[39m\u001b[43mrow\u001b[49m\u001b[43m[\u001b[49m\u001b[43mrow\u001b[49m\u001b[43m[\u001b[49m\u001b[43mrc\u001b[49m\u001b[43m]\u001b[49m\u001b[43m]\u001b[49m \u001b[38;5;241m/\u001b[39m row[rank_columns]\u001b[38;5;241m.\u001b[39mmax())\n\u001b[0;32m     32\u001b[0m     add_text(fig, row\u001b[38;5;241m.\u001b[39mbeer_name, \u001b[38;5;28mlen\u001b[39m(years) \u001b[38;5;241m-\u001b[39m \u001b[38;5;241m0.5\u001b[39m, \u001b[38;5;241m-\u001b[39m(i \u001b[38;5;241m+\u001b[39m \u001b[38;5;241m1\u001b[39m), \u001b[38;5;124mf\u001b[39m\u001b[38;5;124m\"\u001b[39m\u001b[38;5;132;01m{\u001b[39;00mrow\u001b[38;5;241m.\u001b[39mbeer_name\u001b[38;5;132;01m}\u001b[39;00m\u001b[38;5;124m (\u001b[39m\u001b[38;5;132;01m{\u001b[39;00mrow[rank_columns[\u001b[38;5;241m-\u001b[39m\u001b[38;5;241m1\u001b[39m]]\u001b[38;5;132;01m:\u001b[39;00m\u001b[38;5;124m.1f\u001b[39m\u001b[38;5;132;01m}\u001b[39;00m\u001b[38;5;124m)\u001b[39m\u001b[38;5;124m\"\u001b[39m)\n\u001b[0;32m     34\u001b[0m fig\u001b[38;5;241m.\u001b[39mupdate_layout(\n\u001b[0;32m     35\u001b[0m     title_text\u001b[38;5;241m=\u001b[39m\u001b[38;5;124m\"\u001b[39m\u001b[38;5;124mTop 10 Beers Each Year\u001b[39m\u001b[38;5;124m\"\u001b[39m,\n\u001b[0;32m     36\u001b[0m     xaxis\u001b[38;5;241m=\u001b[39m\u001b[38;5;28mdict\u001b[39m(visible\u001b[38;5;241m=\u001b[39m\u001b[38;5;28;01mFalse\u001b[39;00m),\n\u001b[1;32m   (...)\u001b[0m\n\u001b[0;32m     40\u001b[0m     height\u001b[38;5;241m=\u001b[39m\u001b[38;5;241m600\u001b[39m,\n\u001b[0;32m     41\u001b[0m )\n",
      "File \u001b[1;32mc:\\Users\\julie\\anaconda3\\envs\\ada\\lib\\site-packages\\pandas\\core\\series.py:1040\u001b[0m, in \u001b[0;36mSeries.__getitem__\u001b[1;34m(self, key)\u001b[0m\n\u001b[0;32m   1037\u001b[0m     \u001b[38;5;28;01mreturn\u001b[39;00m \u001b[38;5;28mself\u001b[39m\u001b[38;5;241m.\u001b[39m_values[key]\n\u001b[0;32m   1039\u001b[0m \u001b[38;5;28;01melif\u001b[39;00m key_is_scalar:\n\u001b[1;32m-> 1040\u001b[0m     \u001b[38;5;28;01mreturn\u001b[39;00m \u001b[38;5;28;43mself\u001b[39;49m\u001b[38;5;241;43m.\u001b[39;49m\u001b[43m_get_value\u001b[49m\u001b[43m(\u001b[49m\u001b[43mkey\u001b[49m\u001b[43m)\u001b[49m\n\u001b[0;32m   1042\u001b[0m \u001b[38;5;66;03m# Convert generator to list before going through hashable part\u001b[39;00m\n\u001b[0;32m   1043\u001b[0m \u001b[38;5;66;03m# (We will iterate through the generator there to check for slices)\u001b[39;00m\n\u001b[0;32m   1044\u001b[0m \u001b[38;5;28;01mif\u001b[39;00m is_iterator(key):\n",
      "File \u001b[1;32mc:\\Users\\julie\\anaconda3\\envs\\ada\\lib\\site-packages\\pandas\\core\\series.py:1156\u001b[0m, in \u001b[0;36mSeries._get_value\u001b[1;34m(self, label, takeable)\u001b[0m\n\u001b[0;32m   1153\u001b[0m     \u001b[38;5;28;01mreturn\u001b[39;00m \u001b[38;5;28mself\u001b[39m\u001b[38;5;241m.\u001b[39m_values[label]\n\u001b[0;32m   1155\u001b[0m \u001b[38;5;66;03m# Similar to Index.get_value, but we do not fall back to positional\u001b[39;00m\n\u001b[1;32m-> 1156\u001b[0m loc \u001b[38;5;241m=\u001b[39m \u001b[38;5;28;43mself\u001b[39;49m\u001b[38;5;241;43m.\u001b[39;49m\u001b[43mindex\u001b[49m\u001b[38;5;241;43m.\u001b[39;49m\u001b[43mget_loc\u001b[49m\u001b[43m(\u001b[49m\u001b[43mlabel\u001b[49m\u001b[43m)\u001b[49m\n\u001b[0;32m   1158\u001b[0m \u001b[38;5;28;01mif\u001b[39;00m is_integer(loc):\n\u001b[0;32m   1159\u001b[0m     \u001b[38;5;28;01mreturn\u001b[39;00m \u001b[38;5;28mself\u001b[39m\u001b[38;5;241m.\u001b[39m_values[loc]\n",
      "File \u001b[1;32mc:\\Users\\julie\\anaconda3\\envs\\ada\\lib\\site-packages\\pandas\\core\\indexes\\base.py:3797\u001b[0m, in \u001b[0;36mIndex.get_loc\u001b[1;34m(self, key)\u001b[0m\n\u001b[0;32m   3792\u001b[0m     \u001b[38;5;28;01mif\u001b[39;00m \u001b[38;5;28misinstance\u001b[39m(casted_key, \u001b[38;5;28mslice\u001b[39m) \u001b[38;5;129;01mor\u001b[39;00m (\n\u001b[0;32m   3793\u001b[0m         \u001b[38;5;28misinstance\u001b[39m(casted_key, abc\u001b[38;5;241m.\u001b[39mIterable)\n\u001b[0;32m   3794\u001b[0m         \u001b[38;5;129;01mand\u001b[39;00m \u001b[38;5;28many\u001b[39m(\u001b[38;5;28misinstance\u001b[39m(x, \u001b[38;5;28mslice\u001b[39m) \u001b[38;5;28;01mfor\u001b[39;00m x \u001b[38;5;129;01min\u001b[39;00m casted_key)\n\u001b[0;32m   3795\u001b[0m     ):\n\u001b[0;32m   3796\u001b[0m         \u001b[38;5;28;01mraise\u001b[39;00m InvalidIndexError(key)\n\u001b[1;32m-> 3797\u001b[0m     \u001b[38;5;28;01mraise\u001b[39;00m \u001b[38;5;167;01mKeyError\u001b[39;00m(key) \u001b[38;5;28;01mfrom\u001b[39;00m \u001b[38;5;21;01merr\u001b[39;00m\n\u001b[0;32m   3798\u001b[0m \u001b[38;5;28;01mexcept\u001b[39;00m \u001b[38;5;167;01mTypeError\u001b[39;00m:\n\u001b[0;32m   3799\u001b[0m     \u001b[38;5;66;03m# If we have a listlike key, _check_indexing_error will raise\u001b[39;00m\n\u001b[0;32m   3800\u001b[0m     \u001b[38;5;66;03m#  InvalidIndexError. Otherwise we fall through and re-raise\u001b[39;00m\n\u001b[0;32m   3801\u001b[0m     \u001b[38;5;66;03m#  the TypeError.\u001b[39;00m\n\u001b[0;32m   3802\u001b[0m     \u001b[38;5;28mself\u001b[39m\u001b[38;5;241m.\u001b[39m_check_indexing_error(key)\n",
      "\u001b[1;31mKeyError\u001b[0m: 1.0"
     ]
    }
   ],
   "source": [
    "import pandas as pd\n",
    "import plotly.graph_objects as go\n",
    "\n",
    "def create_rankings(df, years):\n",
    "    rank_columns = [\"rank_{}\".format(i) for i in range(len(years))]\n",
    "    for i, year in enumerate(years):\n",
    "        df[rank_columns[i]] = df.groupby('year')['new_rating'].rank(ascending=False)\n",
    "        \n",
    "    return df, rank_columns\n",
    "\n",
    "def add_text(fig, beer_name, x, y, text, font_size=12):\n",
    "    fig.add_trace(go.Scatter(x=[x], y=[y], text=[text], mode=\"text\", showlegend=False,\n",
    "                             textfont=dict(size=font_size), hoverinfo='text+x+y'))\n",
    "\n",
    "def add_pie_and_flag(fig, x, y, name, ratio):\n",
    "    fig.add_trace(go.Pie(labels=[name], values=[ratio], hole=0.4,\n",
    "                         marker=dict(colors=['rgba(255, 255, 255, 0)']),\n",
    "                         domain=dict(x=[x-0.15, x+0.15], y=[y-0.15, y+0.15]),\n",
    "                         hoverinfo='label+percent+name', showlegend=False))\n",
    "\n",
    "years = [\"2000\", \"2001\", \"2002\", \"2003\", \"2004\", \"2005\", \"2006\", \"2007\", \"2008\", \"2009\", \"2010\", \"2011\", \"2012\", \"2013\", \"2014\", \"2015\", \"2016\", \"2017\"]\n",
    "df = pd.read_csv(\"./../../Project/top_10_beers_by_year.csv\", index_col=None)\n",
    "df, rank_columns = create_rankings(df, years)\n"
   ]
  },
  {
   "cell_type": "code",
   "execution_count": 133,
   "metadata": {},
   "outputs": [],
   "source": [
    "import plotly.graph_objects as go\n",
    "from random import sample\n",
    "fig = {\n",
    "    \"data\": [],\n",
    "    \"layout\": {},\n",
    "    \"frames\": []\n",
    "}"
   ]
  },
  {
   "cell_type": "code",
   "execution_count": 341,
   "metadata": {},
   "outputs": [
    {
     "data": {
      "application/vnd.plotly.v1+json": {
       "config": {
        "plotlyServerURL": "https://plot.ly"
       },
       "data": [
        {
         "type": "bar"
        }
       ],
       "frames": [
        {
         "data": [
          {
           "hoverinfo": "all",
           "marker": {
            "color": [
             "rgb(18, 172, 29)",
             "rgb(247, 136, 129)",
             "rgb(98, 212, 246)",
             "rgb(156, 162, 176)",
             "rgb(24, 86, 189)",
             "rgb(154, 163, 130)",
             "rgb(46, 14, 232)",
             "rgb(70, 108, 179)",
             "rgb(159, 120, 96)",
             "rgb(251, 14, 20)"
            ]
           },
           "orientation": "h",
           "text": [
            "Smuttynose Portsmouth Lager",
            "Wellington Iron Duke Strong Ale",
            "Beck's Oktoberfest",
            "Unibroue Blanche de Chambly",
            "Guinness Extra Stout (North America)",
            "Alley Kat Scona Gold",
            "Unibroue Maudite",
            "Unibroue Eau Bénite",
            "Unibroue La Fin du Monde",
            "Weihenstephaner Original"
           ],
           "textposition": "outside",
           "type": "bar",
           "width": 0.5,
           "x": [
            0.0856980269090535,
            0.1413983790078688,
            0.1474960597172014,
            0.2916820056995468,
            0.3633911590367735,
            0.4020559589920901,
            0.7832398558263911,
            0.7922630921178851,
            0.8024114516969543,
            1.2724582070724737
           ]
          }
         ],
         "layout": {
          "bargap": 0,
          "bargroupgap": 0,
          "font": {
           "size": 14
          },
          "plot_bgcolor": "white",
          "title": {
           "text": "Top 10 Beers in 2000"
          },
          "xaxis": {
           "range": [
            0,
            4.796358605054868
           ],
           "showline": true,
           "visible": true
          },
          "yaxis": {
           "showline": true,
           "ticktext": [
            10,
            9,
            8,
            7,
            6,
            5,
            4,
            3,
            2,
            1
           ],
           "tickvals": [
            0,
            1,
            2,
            3,
            4,
            5,
            6,
            7,
            8,
            9,
            10
           ],
           "title": {
            "text": "Top 10 Beers"
           },
           "visible": true
          }
         },
         "name": "2000"
        },
        {
         "data": [
          {
           "hoverinfo": "all",
           "marker": {
            "color": [
             "rgb(65, 244, 20)",
             "rgb(211, 208, 220)",
             "rgb(15, 143, 238)",
             "rgb(70, 108, 179)",
             "rgb(186, 211, 70)",
             "rgb(211, 85, 253)",
             "rgb(46, 231, 168)",
             "rgb(206, 250, 243)",
             "rgb(197, 221, 111)",
             "rgb(7, 95, 203)"
            ]
           },
           "orientation": "h",
           "text": [
            "Olands Premium Red Draught",
            "Apollo Pilsner",
            "Wellington Imperial Russian Stout",
            "Unibroue Eau Bénite",
            "Samuel Smith's Organic Best Ale",
            "Hancock Old Gambrinus Beer Light",
            "Paulaner Oktoberfest-Märzen",
            "Ayinger Celebrator Doppelbock",
            "Creemore Springs Premium Lager",
            "Okanagan Spring Pale Ale"
           ],
           "textposition": "outside",
           "type": "bar",
           "width": 0.5,
           "x": [
            0.9785837672582662,
            1.0058875532587828,
            1.063970250411699,
            1.0725839073783556,
            1.1062115555022047,
            1.1406137542872845,
            1.1540869577021826,
            1.2406882489229227,
            1.292176928309711,
            1.6237857546298675
           ]
          }
         ],
         "layout": {
          "bargap": 0,
          "bargroupgap": 0,
          "font": {
           "size": 14
          },
          "plot_bgcolor": "white",
          "title": {
           "text": "Top 10 Beers in 2001"
          },
          "xaxis": {
           "range": [
            0,
            4.796358605054868
           ],
           "showline": true,
           "visible": true
          },
          "yaxis": {
           "showline": true,
           "ticktext": [
            10,
            9,
            8,
            7,
            6,
            5,
            4,
            3,
            2,
            1
           ],
           "tickvals": [
            0,
            1,
            2,
            3,
            4,
            5,
            6,
            7,
            8,
            9,
            10
           ],
           "title": {
            "text": "Top 10 Beers"
           },
           "visible": true
          }
         },
         "name": "2001"
        },
        {
         "data": [
          {
           "hoverinfo": "all",
           "marker": {
            "color": [
             "rgb(171, 63, 243)",
             "rgb(169, 55, 3)",
             "rgb(26, 12, 66)",
             "rgb(245, 197, 166)",
             "rgb(161, 94, 243)",
             "rgb(176, 158, 171)",
             "rgb(56, 195, 212)",
             "rgb(193, 86, 181)",
             "rgb(3, 134, 182)",
             "rgb(204, 113, 154)"
            ]
           },
           "orientation": "h",
           "text": [
            "Traquair House Ale",
            "Noche Buena",
            "Rickards Gold",
            "Schwarzer Abt",
            "Thomas Hardy's Ale (1968-1999)",
            "Upper Canada Dark Ale",
            "Hancock Old Gambrinus Beer Dark",
            "Le Cheval Blanc Bière dHiver",
            "Brava Cerveza",
            "Casta Bruna"
           ],
           "textposition": "outside",
           "type": "bar",
           "width": 0.5,
           "x": [
            1.0971892330254818,
            1.117999273528437,
            1.1892809268470006,
            1.1946513838248962,
            1.2298686075598522,
            1.2363237954738322,
            1.2464736767652496,
            1.296739938062742,
            1.3506758306197617,
            1.7157031714601243
           ]
          }
         ],
         "layout": {
          "bargap": 0,
          "bargroupgap": 0,
          "font": {
           "size": 14
          },
          "plot_bgcolor": "white",
          "title": {
           "text": "Top 10 Beers in 2002"
          },
          "xaxis": {
           "range": [
            0,
            4.796358605054868
           ],
           "showline": true,
           "visible": true
          },
          "yaxis": {
           "showline": true,
           "ticktext": [
            10,
            9,
            8,
            7,
            6,
            5,
            4,
            3,
            2,
            1
           ],
           "tickvals": [
            0,
            1,
            2,
            3,
            4,
            5,
            6,
            7,
            8,
            9,
            10
           ],
           "title": {
            "text": "Top 10 Beers"
           },
           "visible": true
          }
         },
         "name": "2002"
        },
        {
         "data": [
          {
           "hoverinfo": "all",
           "marker": {
            "color": [
             "rgb(85, 189, 16)",
             "rgb(126, 127, 39)",
             "rgb(247, 208, 9)",
             "rgb(163, 164, 199)",
             "rgb(56, 195, 212)",
             "rgb(134, 42, 142)",
             "rgb(214, 58, 210)",
             "rgb(89, 120, 157)",
             "rgb(156, 242, 176)",
             "rgb(209, 67, 216)"
            ]
           },
           "orientation": "h",
           "text": [
            "Éphémère (Cranberry)",
            "Trappistes Rochefort 10",
            "Thornbury Pickup No. 26 Pilsener",
            "Brooklyn Black Chocolate Stout",
            "Hancock Old Gambrinus Beer Dark",
            "Harvest Ale (Limited Edition)",
            "Trafalgar Winter Warmer",
            "Tsingtao Dark",
            "Ørbæk Påskebryg",
            "Val-Dieu Triple"
           ],
           "textposition": "outside",
           "type": "bar",
           "width": 0.5,
           "x": [
            1.020106685335022,
            1.0497129223965398,
            1.051065535567698,
            1.0984893371560656,
            1.0993684957865837,
            1.1365903819140273,
            1.1370635087602423,
            1.138117036597784,
            1.141220885476117,
            1.1624204770873334
           ]
          }
         ],
         "layout": {
          "bargap": 0,
          "bargroupgap": 0,
          "font": {
           "size": 14
          },
          "plot_bgcolor": "white",
          "title": {
           "text": "Top 10 Beers in 2003"
          },
          "xaxis": {
           "range": [
            0,
            4.796358605054868
           ],
           "showline": true,
           "visible": true
          },
          "yaxis": {
           "showline": true,
           "ticktext": [
            10,
            9,
            8,
            7,
            6,
            5,
            4,
            3,
            2,
            1
           ],
           "tickvals": [
            0,
            1,
            2,
            3,
            4,
            5,
            6,
            7,
            8,
            9,
            10
           ],
           "title": {
            "text": "Top 10 Beers"
           },
           "visible": true
          }
         },
         "name": "2003"
        },
        {
         "data": [
          {
           "hoverinfo": "all",
           "marker": {
            "color": [
             "rgb(218, 125, 115)",
             "rgb(230, 117, 204)",
             "rgb(18, 168, 212)",
             "rgb(126, 127, 39)",
             "rgb(236, 40, 155)",
             "rgb(227, 178, 74)",
             "rgb(68, 189, 15)",
             "rgb(239, 8, 103)",
             "rgb(85, 189, 16)",
             "rgb(134, 118, 102)"
            ]
           },
           "orientation": "h",
           "text": [
            "Bièropholie Bock Émissaire",
            "Unibroue Seigneuriale",
            "Yo-Ho Yona Yona Ale",
            "Trappistes Rochefort 10",
            "Coopers Sparkling Ale",
            "De Dolle Speciaal Brouwsel 20",
            "Dieu du Ciel Péché Mortel",
            "Olands Export Ale",
            "Éphémère (Cranberry)",
            "Picaroons Irish Red"
           ],
           "textposition": "outside",
           "type": "bar",
           "width": 0.5,
           "x": [
            1.1189133450981463,
            1.1516669950713043,
            1.1528166236042097,
            1.1716356265310237,
            1.1741023273154845,
            1.1760713745592537,
            1.217131086340976,
            1.276741053311066,
            1.3539639927626284,
            1.7084785431180471
           ]
          }
         ],
         "layout": {
          "bargap": 0,
          "bargroupgap": 0,
          "font": {
           "size": 14
          },
          "plot_bgcolor": "white",
          "title": {
           "text": "Top 10 Beers in 2004"
          },
          "xaxis": {
           "range": [
            0,
            4.796358605054868
           ],
           "showline": true,
           "visible": true
          },
          "yaxis": {
           "showline": true,
           "ticktext": [
            10,
            9,
            8,
            7,
            6,
            5,
            4,
            3,
            2,
            1
           ],
           "tickvals": [
            0,
            1,
            2,
            3,
            4,
            5,
            6,
            7,
            8,
            9,
            10
           ],
           "title": {
            "text": "Top 10 Beers"
           },
           "visible": true
          }
         },
         "name": "2004"
        },
        {
         "data": [
          {
           "hoverinfo": "all",
           "marker": {
            "color": [
             "rgb(12, 246, 6)",
             "rgb(156, 168, 68)",
             "rgb(163, 164, 199)",
             "rgb(254, 222, 67)",
             "rgb(167, 122, 254)",
             "rgb(189, 118, 124)",
             "rgb(160, 224, 78)",
             "rgb(15, 224, 191)",
             "rgb(78, 177, 104)",
             "rgb(94, 239, 55)"
            ]
           },
           "orientation": "h",
           "text": [
            "WinterCoat Oatmeal Stout",
            "Mai Bock",
            "Brooklyn Black Chocolate Stout",
            "Cantillon Spuyten Duyvil",
            "Scotch Irish Tsarina Katarina Imperial Stout",
            "Fuller's Special Edition ESB",
            "Lions Winter Ale",
            "Ursus Pils",
            "Gale's Jubilee Ale (2002)",
            "Panil Barriquée  (Italy Version)"
           ],
           "textposition": "outside",
           "type": "bar",
           "width": 0.5,
           "x": [
            1.128126928846783,
            1.1301521826016678,
            1.146847234543368,
            1.148323250291148,
            1.1483720433411242,
            1.1580044374770952,
            1.187508763872131,
            1.2330532509224803,
            1.3158032691133454,
            1.3961302319078674
           ]
          }
         ],
         "layout": {
          "bargap": 0,
          "bargroupgap": 0,
          "font": {
           "size": 14
          },
          "plot_bgcolor": "white",
          "title": {
           "text": "Top 10 Beers in 2005"
          },
          "xaxis": {
           "range": [
            0,
            4.796358605054868
           ],
           "showline": true,
           "visible": true
          },
          "yaxis": {
           "showline": true,
           "ticktext": [
            10,
            9,
            8,
            7,
            6,
            5,
            4,
            3,
            2,
            1
           ],
           "tickvals": [
            0,
            1,
            2,
            3,
            4,
            5,
            6,
            7,
            8,
            9,
            10
           ],
           "title": {
            "text": "Top 10 Beers"
           },
           "visible": true
          }
         },
         "name": "2005"
        },
        {
         "data": [
          {
           "hoverinfo": "all",
           "marker": {
            "color": [
             "rgb(58, 156, 101)",
             "rgb(24, 105, 201)",
             "rgb(233, 62, 91)",
             "rgb(202, 10, 211)",
             "rgb(39, 218, 109)",
             "rgb(199, 175, 58)",
             "rgb(26, 166, 190)",
             "rgb(247, 210, 163)",
             "rgb(203, 64, 71)",
             "rgb(181, 28, 130)"
            ]
           },
           "orientation": "h",
           "text": [
            "Smuggler's Ale",
            "Little Creatures Pale Ale",
            "Nickel Brook Ale (pre 2009)",
            "Bièropholie IPA",
            "Granville Island GIBitter",
            "Urbock 23°",
            "Birrificio Italiano Tipopils",
            "Phillips Amnesiac Double IPA",
            "Bedondaine et Bedons Ronds Reyne Descosse",
            "Lakeport Pilsener"
           ],
           "textposition": "outside",
           "type": "bar",
           "width": 0.5,
           "x": [
            1.1013018745460426,
            1.1081949452181952,
            1.10970020597058,
            1.1429170607485464,
            1.1814772124502742,
            1.1951664258337198,
            1.224148644787213,
            1.224792193965514,
            1.2294622768994474,
            1.2311662394036298
           ]
          }
         ],
         "layout": {
          "bargap": 0,
          "bargroupgap": 0,
          "font": {
           "size": 14
          },
          "plot_bgcolor": "white",
          "title": {
           "text": "Top 10 Beers in 2006"
          },
          "xaxis": {
           "range": [
            0,
            4.796358605054868
           ],
           "showline": true,
           "visible": true
          },
          "yaxis": {
           "showline": true,
           "ticktext": [
            10,
            9,
            8,
            7,
            6,
            5,
            4,
            3,
            2,
            1
           ],
           "tickvals": [
            0,
            1,
            2,
            3,
            4,
            5,
            6,
            7,
            8,
            9,
            10
           ],
           "title": {
            "text": "Top 10 Beers"
           },
           "visible": true
          }
         },
         "name": "2006"
        },
        {
         "data": [
          {
           "hoverinfo": "all",
           "marker": {
            "color": [
             "rgb(245, 38, 120)",
             "rgb(223, 142, 191)",
             "rgb(223, 102, 9)",
             "rgb(109, 44, 107)",
             "rgb(17, 114, 84)",
             "rgb(253, 49, 45)",
             "rgb(182, 101, 126)",
             "rgb(246, 210, 82)",
             "rgb(44, 209, 137)",
             "rgb(54, 87, 81)"
            ]
           },
           "orientation": "h",
           "text": [
            "Sanctification",
            "Drie Fonteinen Millennium Geuze",
            "La Lièvre IPA",
            "Ølfabrikken Gammel Ekstra Porter",
            "Abbaye De Saint Bon-Chien",
            "Schneider Weisse Tap 1 Mein Blondes",
            "Side Launch Wheat",
            "Original Stieglbock",
            "Les Trois Mousquetaires G.C. Porter Baltique",
            "Innis & Gunn Limited Edition 2005"
           ],
           "textposition": "outside",
           "type": "bar",
           "width": 0.5,
           "x": [
            1.2396660302431133,
            1.2500517929893469,
            1.2669803376987006,
            1.2687902499092345,
            1.2801873813826143,
            1.296022595401119,
            1.3128778567226451,
            1.321458650317355,
            1.3320290468008888,
            1.4208028086796662
           ]
          }
         ],
         "layout": {
          "bargap": 0,
          "bargroupgap": 0,
          "font": {
           "size": 14
          },
          "plot_bgcolor": "white",
          "title": {
           "text": "Top 10 Beers in 2007"
          },
          "xaxis": {
           "range": [
            0,
            4.796358605054868
           ],
           "showline": true,
           "visible": true
          },
          "yaxis": {
           "showline": true,
           "ticktext": [
            10,
            9,
            8,
            7,
            6,
            5,
            4,
            3,
            2,
            1
           ],
           "tickvals": [
            0,
            1,
            2,
            3,
            4,
            5,
            6,
            7,
            8,
            9,
            10
           ],
           "title": {
            "text": "Top 10 Beers"
           },
           "visible": true
          }
         },
         "name": "2007"
        },
        {
         "data": [
          {
           "hoverinfo": "all",
           "marker": {
            "color": [
             "rgb(99, 228, 161)",
             "rgb(129, 106, 35)",
             "rgb(172, 157, 247)",
             "rgb(112, 3, 150)",
             "rgb(53, 116, 106)",
             "rgb(73, 168, 36)",
             "rgb(161, 124, 147)",
             "rgb(101, 31, 177)",
             "rgb(255, 109, 213)",
             "rgb(117, 179, 110)"
            ]
           },
           "orientation": "h",
           "text": [
            "Old Crafty Hen",
            "Neumarkter Lammsbräu (Organic) Dunkel",
            "Terrapin Big Sloppy Monster",
            "Baladin Xyauyù Etichetta Rame (Copper Label)",
            "Consecration",
            "Half Pints Bulldog Amber Ale",
            "Baeren Rye",
            "Mean Manalishi Double I.P.A.",
            "Alley Kat Bad Hare Day",
            "Kosmyk Charlie's Y2K Catastrophe Ale"
           ],
           "textposition": "outside",
           "type": "bar",
           "width": 0.5,
           "x": [
            1.1670864372733072,
            1.1766039835149418,
            1.1919126098650494,
            1.2012607567449864,
            1.2064338315271683,
            1.207766811476634,
            1.2547272238898888,
            1.377381643490348,
            1.391734911093819,
            1.4392218691560568
           ]
          }
         ],
         "layout": {
          "bargap": 0,
          "bargroupgap": 0,
          "font": {
           "size": 14
          },
          "plot_bgcolor": "white",
          "title": {
           "text": "Top 10 Beers in 2008"
          },
          "xaxis": {
           "range": [
            0,
            4.796358605054868
           ],
           "showline": true,
           "visible": true
          },
          "yaxis": {
           "showline": true,
           "ticktext": [
            10,
            9,
            8,
            7,
            6,
            5,
            4,
            3,
            2,
            1
           ],
           "tickvals": [
            0,
            1,
            2,
            3,
            4,
            5,
            6,
            7,
            8,
            9,
            10
           ],
           "title": {
            "text": "Top 10 Beers"
           },
           "visible": true
          }
         },
         "name": "2008"
        },
        {
         "data": [
          {
           "hoverinfo": "all",
           "marker": {
            "color": [
             "rgb(46, 95, 111)",
             "rgb(252, 234, 186)",
             "rgb(247, 100, 50)",
             "rgb(50, 73, 221)",
             "rgb(193, 201, 54)",
             "rgb(174, 233, 244)",
             "rgb(236, 157, 217)",
             "rgb(103, 135, 206)",
             "rgb(125, 134, 5)",
             "rgb(200, 74, 152)"
            ]
           },
           "orientation": "h",
           "text": [
            "Søgaards Trippel",
            "Primátor Premium",
            "Dieu du Ciel Solstice dÉté aux Framboises",
            "Southampton Grand Cru",
            "Driftwood Sartori Harvest IPA",
            "Granville Island Merry Monks Dopplebock",
            "RJ Le Cheval Blanc Snoreau",
            "Old Engine Oil Special Reserve (Aged In Malt Whiskey Casks)",
            "Borefts Bok 2009",
            "Lvivske Porter"
           ],
           "textposition": "outside",
           "type": "bar",
           "width": 0.5,
           "x": [
            1.2338471807274276,
            1.2393466430040996,
            1.2454384142571973,
            1.2469121186642012,
            1.2824851557175203,
            1.325754327205307,
            1.3561829163911925,
            1.372316618062027,
            1.381964656606547,
            1.8194648164280256
           ]
          }
         ],
         "layout": {
          "bargap": 0,
          "bargroupgap": 0,
          "font": {
           "size": 14
          },
          "plot_bgcolor": "white",
          "title": {
           "text": "Top 10 Beers in 2009"
          },
          "xaxis": {
           "range": [
            0,
            4.796358605054868
           ],
           "showline": true,
           "visible": true
          },
          "yaxis": {
           "showline": true,
           "ticktext": [
            10,
            9,
            8,
            7,
            6,
            5,
            4,
            3,
            2,
            1
           ],
           "tickvals": [
            0,
            1,
            2,
            3,
            4,
            5,
            6,
            7,
            8,
            9,
            10
           ],
           "title": {
            "text": "Top 10 Beers"
           },
           "visible": true
          }
         },
         "name": "2009"
        },
        {
         "data": [
          {
           "hoverinfo": "all",
           "marker": {
            "color": [
             "rgb(67, 109, 5)",
             "rgb(82, 196, 27)",
             "rgb(35, 193, 44)",
             "rgb(119, 96, 11)",
             "rgb(229, 104, 125)",
             "rgb(218, 136, 9)",
             "rgb(138, 236, 191)",
             "rgb(15, 234, 60)",
             "rgb(181, 4, 154)",
             "rgb(178, 46, 158)"
            ]
           },
           "orientation": "h",
           "text": [
            "Captivator Doppelbock",
            "Toccalmatto Sibilla",
            "Birrificio del Ducato LUltima Luna",
            "La Trappe Quadrupel (Oak Aged)",
            "Toccalmatto Stray Dog No Rules Bitter",
            "Charlevoix Dominus Vobiscum Brut",
            "Birra del Borgo ReAle Extra",
            "Saison Du Tracteur",
            "Bedondaine et Bedons Ronds Reyne Descosse Gelée",
            "Piccolo Birrificio Ego"
           ],
           "textposition": "outside",
           "type": "bar",
           "width": 0.5,
           "x": [
            1.289513947212004,
            1.3022892741280632,
            1.3504165952011944,
            1.3695815104674731,
            1.4186131609391872,
            1.4294349003691191,
            1.5284823417762363,
            1.5542583799019265,
            1.7288080087834743,
            1.7654250681805317
           ]
          }
         ],
         "layout": {
          "bargap": 0,
          "bargroupgap": 0,
          "font": {
           "size": 14
          },
          "plot_bgcolor": "white",
          "title": {
           "text": "Top 10 Beers in 2010"
          },
          "xaxis": {
           "range": [
            0,
            4.796358605054868
           ],
           "showline": true,
           "visible": true
          },
          "yaxis": {
           "showline": true,
           "ticktext": [
            10,
            9,
            8,
            7,
            6,
            5,
            4,
            3,
            2,
            1
           ],
           "tickvals": [
            0,
            1,
            2,
            3,
            4,
            5,
            6,
            7,
            8,
            9,
            10
           ],
           "title": {
            "text": "Top 10 Beers"
           },
           "visible": true
          }
         },
         "name": "2010"
        },
        {
         "data": [
          {
           "hoverinfo": "all",
           "marker": {
            "color": [
             "rgb(215, 208, 234)",
             "rgb(196, 205, 244)",
             "rgb(58, 251, 226)",
             "rgb(243, 80, 100)",
             "rgb(193, 111, 128)",
             "rgb(235, 79, 194)",
             "rgb(113, 181, 163)",
             "rgb(96, 68, 150)",
             "rgb(223, 142, 191)",
             "rgb(182, 103, 106)"
            ]
           },
           "orientation": "h",
           "text": [
            "Tipo Pils",
            "Cantillon Blåbær Lambik",
            "Les Brasseurs du Temps Mea Magna Culpa",
            "Cantillon Don Quijote",
            "Ølfabrikken Petit Blau",
            "Montegioco Quarta Runa",
            "Eichbaum Pilsener",
            "Drie Fonteinen Oude Geuze 1998 (50th Anniversary)",
            "Drie Fonteinen Millennium Geuze",
            "Beer Here / Raasted Bukkake"
           ],
           "textposition": "outside",
           "type": "bar",
           "width": 0.5,
           "x": [
            1.2600744288590362,
            1.265080505108473,
            1.301966246878607,
            1.3262397837477289,
            1.333344904716972,
            1.347954076030384,
            1.3505600121785313,
            1.4710240611434864,
            1.703014364073218,
            2.253825333425378
           ]
          }
         ],
         "layout": {
          "bargap": 0,
          "bargroupgap": 0,
          "font": {
           "size": 14
          },
          "plot_bgcolor": "white",
          "title": {
           "text": "Top 10 Beers in 2011"
          },
          "xaxis": {
           "range": [
            0,
            4.796358605054868
           ],
           "showline": true,
           "visible": true
          },
          "yaxis": {
           "showline": true,
           "ticktext": [
            10,
            9,
            8,
            7,
            6,
            5,
            4,
            3,
            2,
            1
           ],
           "tickvals": [
            0,
            1,
            2,
            3,
            4,
            5,
            6,
            7,
            8,
            9,
            10
           ],
           "title": {
            "text": "Top 10 Beers"
           },
           "visible": true
          }
         },
         "name": "2011"
        },
        {
         "data": [
          {
           "hoverinfo": "all",
           "marker": {
            "color": [
             "rgb(247, 151, 6)",
             "rgb(135, 212, 57)",
             "rgb(118, 134, 219)",
             "rgb(98, 2, 27)",
             "rgb(20, 87, 11)",
             "rgb(96, 68, 150)",
             "rgb(249, 206, 2)",
             "rgb(176, 218, 201)",
             "rgb(185, 6, 136)",
             "rgb(179, 246, 85)"
            ]
           },
           "orientation": "h",
           "text": [
            "Ann",
            "Depuration",
            "Black Tokyo Horizon",
            "Le Cheval Blanc Double Bonheur",
            "Whistler Chocolate Winter Dunkel",
            "Drie Fonteinen Oude Geuze 1998 (50th Anniversary)",
            "Watermelon Warhead",
            "Kamenitza Lev",
            "L'Amoureuse Rouge",
            "Cantillon Loerik"
           ],
           "textposition": "outside",
           "type": "bar",
           "width": 0.5,
           "x": [
            1.3265020252683697,
            1.3490384193077791,
            1.364564975250266,
            1.3688333984444223,
            1.369805348429683,
            1.3975667870645416,
            1.4323060786846682,
            1.457841090882981,
            1.4672320479745289,
            1.5564273480419248
           ]
          }
         ],
         "layout": {
          "bargap": 0,
          "bargroupgap": 0,
          "font": {
           "size": 14
          },
          "plot_bgcolor": "white",
          "title": {
           "text": "Top 10 Beers in 2012"
          },
          "xaxis": {
           "range": [
            0,
            4.796358605054868
           ],
           "showline": true,
           "visible": true
          },
          "yaxis": {
           "showline": true,
           "ticktext": [
            10,
            9,
            8,
            7,
            6,
            5,
            4,
            3,
            2,
            1
           ],
           "tickvals": [
            0,
            1,
            2,
            3,
            4,
            5,
            6,
            7,
            8,
            9,
            10
           ],
           "title": {
            "text": "Top 10 Beers"
           },
           "visible": true
          }
         },
         "name": "2012"
        },
        {
         "data": [
          {
           "hoverinfo": "all",
           "marker": {
            "color": [
             "rgb(127, 185, 74)",
             "rgb(48, 202, 95)",
             "rgb(166, 186, 253)",
             "rgb(109, 174, 156)",
             "rgb(61, 4, 242)",
             "rgb(32, 38, 188)",
             "rgb(234, 191, 96)",
             "rgb(61, 142, 131)",
             "rgb(160, 174, 213)",
             "rgb(242, 167, 236)"
            ]
           },
           "orientation": "h",
           "text": [
            "Tamamura-Honten Yamabushi Saison 1 Aged in Oak Barrels",
            "Rapture",
            "Cantillon Bruocsella (1900) Grand Cru",
            "Brasseurs du Monde Gamme Festive Célébrante",
            "Innis & Gunn Spiced Rum Aged",
            "Bavarias Best Imperial Stout",
            "Collesi 1970 Ambrata",
            "Svaneke Julebryg",
            "Edward",
            "Birra del Borgo Perle ai Porci (Pearls for Pigs)"
           ],
           "textposition": "outside",
           "type": "bar",
           "width": 0.5,
           "x": [
            1.3746493096975472,
            1.4041402200725015,
            1.4570126267878116,
            1.4741651011372767,
            1.493197763699144,
            1.5596210420758312,
            1.6521573868793042,
            1.6747480446151457,
            1.784840369968013,
            2.510691214725717
           ]
          }
         ],
         "layout": {
          "bargap": 0,
          "bargroupgap": 0,
          "font": {
           "size": 14
          },
          "plot_bgcolor": "white",
          "title": {
           "text": "Top 10 Beers in 2013"
          },
          "xaxis": {
           "range": [
            0,
            4.796358605054868
           ],
           "showline": true,
           "visible": true
          },
          "yaxis": {
           "showline": true,
           "ticktext": [
            10,
            9,
            8,
            7,
            6,
            5,
            4,
            3,
            2,
            1
           ],
           "tickvals": [
            0,
            1,
            2,
            3,
            4,
            5,
            6,
            7,
            8,
            9,
            10
           ],
           "title": {
            "text": "Top 10 Beers"
           },
           "visible": true
          }
         },
         "name": "2013"
        },
        {
         "data": [
          {
           "hoverinfo": "all",
           "marker": {
            "color": [
             "rgb(173, 45, 132)",
             "rgb(95, 211, 31)",
             "rgb(196, 205, 244)",
             "rgb(192, 236, 25)",
             "rgb(207, 255, 193)",
             "rgb(37, 131, 210)",
             "rgb(254, 222, 67)",
             "rgb(45, 16, 243)",
             "rgb(94, 163, 182)",
             "rgb(4, 61, 154)"
            ]
           },
           "orientation": "h",
           "text": [
            "Cantillon Crianza Helena",
            "Melbourne Bitter",
            "Cantillon Blåbær Lambik",
            "Schneider Weisse Tap 6 Unser Aventinus",
            "Minerva Colonial",
            "Wicked Juju",
            "Cantillon Spuyten Duyvil",
            "Extraomnes Saison",
            "Molson Standard Lager",
            "Mandøl Smagen af Mandø"
           ],
           "textposition": "outside",
           "type": "bar",
           "width": 0.5,
           "x": [
            1.481905996838515,
            1.4953778917662726,
            1.498668519392976,
            1.5958805494661334,
            1.6764028325986928,
            1.7425096415533683,
            1.7429667157083328,
            1.8860097723067208,
            1.9268002384767275,
            2.796358605054868
           ]
          }
         ],
         "layout": {
          "bargap": 0,
          "bargroupgap": 0,
          "font": {
           "size": 14
          },
          "plot_bgcolor": "white",
          "title": {
           "text": "Top 10 Beers in 2014"
          },
          "xaxis": {
           "range": [
            0,
            4.796358605054868
           ],
           "showline": true,
           "visible": true
          },
          "yaxis": {
           "showline": true,
           "ticktext": [
            10,
            9,
            8,
            7,
            6,
            5,
            4,
            3,
            2,
            1
           ],
           "tickvals": [
            0,
            1,
            2,
            3,
            4,
            5,
            6,
            7,
            8,
            9,
            10
           ],
           "title": {
            "text": "Top 10 Beers"
           },
           "visible": true
          }
         },
         "name": "2014"
        },
        {
         "data": [
          {
           "hoverinfo": "all",
           "marker": {
            "color": [
             "rgb(193, 201, 54)",
             "rgb(102, 216, 19)",
             "rgb(164, 137, 178)",
             "rgb(180, 105, 116)",
             "rgb(245, 38, 120)",
             "rgb(158, 197, 69)",
             "rgb(92, 120, 18)",
             "rgb(156, 162, 176)",
             "rgb(4, 204, 137)",
             "rgb(125, 169, 184)"
            ]
           },
           "orientation": "h",
           "text": [
            "Driftwood Sartori Harvest IPA",
            "Flying Monkeys City and Colour",
            "Buxton / Omnipollo Yellow Belly Sundae",
            "Dunham Saison Réserve",
            "Sanctification",
            "Charlevoix Dominus Vobiscum Lupulus",
            "Saison Bernice",
            "Unibroue Blanche de Chambly",
            "Four Winds Phaedra Rye Wheat IPA",
            "Opperbacco Blanche de Lotario"
           ],
           "textposition": "outside",
           "type": "bar",
           "width": 0.5,
           "x": [
            1.5676276553776711,
            1.5751038516002658,
            1.622719541991331,
            1.623539297914094,
            1.6258817104558627,
            1.6387533424741991,
            1.6738321718245197,
            1.70740160723289,
            1.7625116163067636,
            1.82482572270457
           ]
          }
         ],
         "layout": {
          "bargap": 0,
          "bargroupgap": 0,
          "font": {
           "size": 14
          },
          "plot_bgcolor": "white",
          "title": {
           "text": "Top 10 Beers in 2015"
          },
          "xaxis": {
           "range": [
            0,
            4.796358605054868
           ],
           "showline": true,
           "visible": true
          },
          "yaxis": {
           "showline": true,
           "ticktext": [
            10,
            9,
            8,
            7,
            6,
            5,
            4,
            3,
            2,
            1
           ],
           "tickvals": [
            0,
            1,
            2,
            3,
            4,
            5,
            6,
            7,
            8,
            9,
            10
           ],
           "title": {
            "text": "Top 10 Beers"
           },
           "visible": true
          }
         },
         "name": "2015"
        },
        {
         "data": [
          {
           "hoverinfo": "all",
           "marker": {
            "color": [
             "rgb(192, 201, 172)",
             "rgb(181, 254, 105)",
             "rgb(226, 213, 163)",
             "rgb(69, 175, 139)",
             "rgb(178, 185, 230)",
             "rgb(86, 179, 73)",
             "rgb(158, 197, 69)",
             "rgb(184, 34, 39)",
             "rgb(191, 227, 25)",
             "rgb(21, 51, 160)"
            ]
           },
           "orientation": "h",
           "text": [
            "Aardmonnik - Earthmonk",
            "Hors Série Ceci N'est Pas Une Gueuze",
            "Frejdahl Gudmund",
            "To Øl Passion Of The Weisst",
            "Xyauyù Etichetta Rame (Copper)",
            "Skovlyst Julebryg",
            "Charlevoix Dominus Vobiscum Lupulus",
            "Ghost Black Beast",
            "Skovlyst Lossen",
            "Indie Alehouse Zombie Apocalypse (Bourbon)"
           ],
           "textposition": "outside",
           "type": "bar",
           "width": 0.5,
           "x": [
            1.6309133236150697,
            1.6327746884700929,
            1.65167625476196,
            1.9003550471197763,
            1.9148003899577124,
            1.932732074470068,
            1.9683048585754683,
            2.0956611027231538,
            2.32265547193058,
            2.330646926702521
           ]
          }
         ],
         "layout": {
          "bargap": 0,
          "bargroupgap": 0,
          "font": {
           "size": 14
          },
          "plot_bgcolor": "white",
          "title": {
           "text": "Top 10 Beers in 2016"
          },
          "xaxis": {
           "range": [
            0,
            4.796358605054868
           ],
           "showline": true,
           "visible": true
          },
          "yaxis": {
           "showline": true,
           "ticktext": [
            10,
            9,
            8,
            7,
            6,
            5,
            4,
            3,
            2,
            1
           ],
           "tickvals": [
            0,
            1,
            2,
            3,
            4,
            5,
            6,
            7,
            8,
            9,
            10
           ],
           "title": {
            "text": "Top 10 Beers"
           },
           "visible": true
          }
         },
         "name": "2016"
        },
        {
         "data": [
          {
           "hoverinfo": "all",
           "marker": {
            "color": [
             "rgb(32, 60, 214)",
             "rgb(3, 222, 126)",
             "rgb(216, 139, 211)",
             "rgb(39, 94, 169)",
             "rgb(132, 219, 5)",
             "rgb(58, 55, 238)",
             "rgb(193, 119, 240)",
             "rgb(245, 166, 22)",
             "rgb(246, 218, 67)",
             "rgb(121, 92, 12)"
            ]
           },
           "orientation": "h",
           "text": [
            "LoverBeer A Renna Glüh",
            "Benelux Moisson (2011)",
            "Birrificio Italiano Nigredo (Negra 3.0)",
            "Midtfyns Jule Stout",
            "Amager / Lervig Brown Boobies Falling",
            "RJ Le Cheval Blanc Double Blanche (IPA belge)",
            "Double Nelson",
            "Thisted Thy Ale",
            "Pladderballe Brodtgaard Basement Reserve",
            "Coedo / Stone / Garage Project Tsuyu Saison"
           ],
           "textposition": "outside",
           "type": "bar",
           "width": 0.5,
           "x": [
            1.5461166604658836,
            1.547184850088554,
            1.5563119039202395,
            1.581953108750554,
            1.6360558401007417,
            1.654410184218145,
            1.7331561781565548,
            1.7420509005188278,
            1.778935444645838,
            1.8188611526235283
           ]
          }
         ],
         "layout": {
          "bargap": 0,
          "bargroupgap": 0,
          "font": {
           "size": 14
          },
          "plot_bgcolor": "white",
          "title": {
           "text": "Top 10 Beers in 2017"
          },
          "xaxis": {
           "range": [
            0,
            4.796358605054868
           ],
           "showline": true,
           "visible": true
          },
          "yaxis": {
           "showline": true,
           "ticktext": [
            10,
            9,
            8,
            7,
            6,
            5,
            4,
            3,
            2,
            1
           ],
           "tickvals": [
            0,
            1,
            2,
            3,
            4,
            5,
            6,
            7,
            8,
            9,
            10
           ],
           "title": {
            "text": "Top 10 Beers"
           },
           "visible": true
          }
         },
         "name": "2017"
        }
       ],
       "layout": {
        "font": {
         "size": 15
        },
        "height": 800,
        "margin": {
         "l": 100,
         "t": 50
        },
        "plot_bgcolor": "white",
        "sliders": [
         {
          "steps": [
           {
            "args": [
             [
              "2000"
             ],
             {
              "frame": {
               "duration": 300,
               "redraw": true
              },
              "mode": "immediate",
              "transition": {
               "duration": 300
              }
             }
            ],
            "label": "2000",
            "method": "animate"
           },
           {
            "args": [
             [
              "2001"
             ],
             {
              "frame": {
               "duration": 300,
               "redraw": true
              },
              "mode": "immediate",
              "transition": {
               "duration": 300
              }
             }
            ],
            "label": "2001",
            "method": "animate"
           },
           {
            "args": [
             [
              "2002"
             ],
             {
              "frame": {
               "duration": 300,
               "redraw": true
              },
              "mode": "immediate",
              "transition": {
               "duration": 300
              }
             }
            ],
            "label": "2002",
            "method": "animate"
           },
           {
            "args": [
             [
              "2003"
             ],
             {
              "frame": {
               "duration": 300,
               "redraw": true
              },
              "mode": "immediate",
              "transition": {
               "duration": 300
              }
             }
            ],
            "label": "2003",
            "method": "animate"
           },
           {
            "args": [
             [
              "2004"
             ],
             {
              "frame": {
               "duration": 300,
               "redraw": true
              },
              "mode": "immediate",
              "transition": {
               "duration": 300
              }
             }
            ],
            "label": "2004",
            "method": "animate"
           },
           {
            "args": [
             [
              "2005"
             ],
             {
              "frame": {
               "duration": 300,
               "redraw": true
              },
              "mode": "immediate",
              "transition": {
               "duration": 300
              }
             }
            ],
            "label": "2005",
            "method": "animate"
           },
           {
            "args": [
             [
              "2006"
             ],
             {
              "frame": {
               "duration": 300,
               "redraw": true
              },
              "mode": "immediate",
              "transition": {
               "duration": 300
              }
             }
            ],
            "label": "2006",
            "method": "animate"
           },
           {
            "args": [
             [
              "2007"
             ],
             {
              "frame": {
               "duration": 300,
               "redraw": true
              },
              "mode": "immediate",
              "transition": {
               "duration": 300
              }
             }
            ],
            "label": "2007",
            "method": "animate"
           },
           {
            "args": [
             [
              "2008"
             ],
             {
              "frame": {
               "duration": 300,
               "redraw": true
              },
              "mode": "immediate",
              "transition": {
               "duration": 300
              }
             }
            ],
            "label": "2008",
            "method": "animate"
           },
           {
            "args": [
             [
              "2009"
             ],
             {
              "frame": {
               "duration": 300,
               "redraw": true
              },
              "mode": "immediate",
              "transition": {
               "duration": 300
              }
             }
            ],
            "label": "2009",
            "method": "animate"
           },
           {
            "args": [
             [
              "2010"
             ],
             {
              "frame": {
               "duration": 300,
               "redraw": true
              },
              "mode": "immediate",
              "transition": {
               "duration": 300
              }
             }
            ],
            "label": "2010",
            "method": "animate"
           },
           {
            "args": [
             [
              "2011"
             ],
             {
              "frame": {
               "duration": 300,
               "redraw": true
              },
              "mode": "immediate",
              "transition": {
               "duration": 300
              }
             }
            ],
            "label": "2011",
            "method": "animate"
           },
           {
            "args": [
             [
              "2012"
             ],
             {
              "frame": {
               "duration": 300,
               "redraw": true
              },
              "mode": "immediate",
              "transition": {
               "duration": 300
              }
             }
            ],
            "label": "2012",
            "method": "animate"
           },
           {
            "args": [
             [
              "2013"
             ],
             {
              "frame": {
               "duration": 300,
               "redraw": true
              },
              "mode": "immediate",
              "transition": {
               "duration": 300
              }
             }
            ],
            "label": "2013",
            "method": "animate"
           },
           {
            "args": [
             [
              "2014"
             ],
             {
              "frame": {
               "duration": 300,
               "redraw": true
              },
              "mode": "immediate",
              "transition": {
               "duration": 300
              }
             }
            ],
            "label": "2014",
            "method": "animate"
           },
           {
            "args": [
             [
              "2015"
             ],
             {
              "frame": {
               "duration": 300,
               "redraw": true
              },
              "mode": "immediate",
              "transition": {
               "duration": 300
              }
             }
            ],
            "label": "2015",
            "method": "animate"
           },
           {
            "args": [
             [
              "2016"
             ],
             {
              "frame": {
               "duration": 300,
               "redraw": true
              },
              "mode": "immediate",
              "transition": {
               "duration": 300
              }
             }
            ],
            "label": "2016",
            "method": "animate"
           },
           {
            "args": [
             [
              "2017"
             ],
             {
              "frame": {
               "duration": 300,
               "redraw": true
              },
              "mode": "immediate",
              "transition": {
               "duration": 300
              }
             }
            ],
            "label": "2017",
            "method": "animate"
           }
          ]
         }
        ],
        "template": {
         "data": {
          "bar": [
           {
            "error_x": {
             "color": "#2a3f5f"
            },
            "error_y": {
             "color": "#2a3f5f"
            },
            "marker": {
             "line": {
              "color": "#E5ECF6",
              "width": 0.5
             },
             "pattern": {
              "fillmode": "overlay",
              "size": 10,
              "solidity": 0.2
             }
            },
            "type": "bar"
           }
          ],
          "barpolar": [
           {
            "marker": {
             "line": {
              "color": "#E5ECF6",
              "width": 0.5
             },
             "pattern": {
              "fillmode": "overlay",
              "size": 10,
              "solidity": 0.2
             }
            },
            "type": "barpolar"
           }
          ],
          "carpet": [
           {
            "aaxis": {
             "endlinecolor": "#2a3f5f",
             "gridcolor": "white",
             "linecolor": "white",
             "minorgridcolor": "white",
             "startlinecolor": "#2a3f5f"
            },
            "baxis": {
             "endlinecolor": "#2a3f5f",
             "gridcolor": "white",
             "linecolor": "white",
             "minorgridcolor": "white",
             "startlinecolor": "#2a3f5f"
            },
            "type": "carpet"
           }
          ],
          "choropleth": [
           {
            "colorbar": {
             "outlinewidth": 0,
             "ticks": ""
            },
            "type": "choropleth"
           }
          ],
          "contour": [
           {
            "colorbar": {
             "outlinewidth": 0,
             "ticks": ""
            },
            "colorscale": [
             [
              0,
              "#0d0887"
             ],
             [
              0.1111111111111111,
              "#46039f"
             ],
             [
              0.2222222222222222,
              "#7201a8"
             ],
             [
              0.3333333333333333,
              "#9c179e"
             ],
             [
              0.4444444444444444,
              "#bd3786"
             ],
             [
              0.5555555555555556,
              "#d8576b"
             ],
             [
              0.6666666666666666,
              "#ed7953"
             ],
             [
              0.7777777777777778,
              "#fb9f3a"
             ],
             [
              0.8888888888888888,
              "#fdca26"
             ],
             [
              1,
              "#f0f921"
             ]
            ],
            "type": "contour"
           }
          ],
          "contourcarpet": [
           {
            "colorbar": {
             "outlinewidth": 0,
             "ticks": ""
            },
            "type": "contourcarpet"
           }
          ],
          "heatmap": [
           {
            "colorbar": {
             "outlinewidth": 0,
             "ticks": ""
            },
            "colorscale": [
             [
              0,
              "#0d0887"
             ],
             [
              0.1111111111111111,
              "#46039f"
             ],
             [
              0.2222222222222222,
              "#7201a8"
             ],
             [
              0.3333333333333333,
              "#9c179e"
             ],
             [
              0.4444444444444444,
              "#bd3786"
             ],
             [
              0.5555555555555556,
              "#d8576b"
             ],
             [
              0.6666666666666666,
              "#ed7953"
             ],
             [
              0.7777777777777778,
              "#fb9f3a"
             ],
             [
              0.8888888888888888,
              "#fdca26"
             ],
             [
              1,
              "#f0f921"
             ]
            ],
            "type": "heatmap"
           }
          ],
          "heatmapgl": [
           {
            "colorbar": {
             "outlinewidth": 0,
             "ticks": ""
            },
            "colorscale": [
             [
              0,
              "#0d0887"
             ],
             [
              0.1111111111111111,
              "#46039f"
             ],
             [
              0.2222222222222222,
              "#7201a8"
             ],
             [
              0.3333333333333333,
              "#9c179e"
             ],
             [
              0.4444444444444444,
              "#bd3786"
             ],
             [
              0.5555555555555556,
              "#d8576b"
             ],
             [
              0.6666666666666666,
              "#ed7953"
             ],
             [
              0.7777777777777778,
              "#fb9f3a"
             ],
             [
              0.8888888888888888,
              "#fdca26"
             ],
             [
              1,
              "#f0f921"
             ]
            ],
            "type": "heatmapgl"
           }
          ],
          "histogram": [
           {
            "marker": {
             "pattern": {
              "fillmode": "overlay",
              "size": 10,
              "solidity": 0.2
             }
            },
            "type": "histogram"
           }
          ],
          "histogram2d": [
           {
            "colorbar": {
             "outlinewidth": 0,
             "ticks": ""
            },
            "colorscale": [
             [
              0,
              "#0d0887"
             ],
             [
              0.1111111111111111,
              "#46039f"
             ],
             [
              0.2222222222222222,
              "#7201a8"
             ],
             [
              0.3333333333333333,
              "#9c179e"
             ],
             [
              0.4444444444444444,
              "#bd3786"
             ],
             [
              0.5555555555555556,
              "#d8576b"
             ],
             [
              0.6666666666666666,
              "#ed7953"
             ],
             [
              0.7777777777777778,
              "#fb9f3a"
             ],
             [
              0.8888888888888888,
              "#fdca26"
             ],
             [
              1,
              "#f0f921"
             ]
            ],
            "type": "histogram2d"
           }
          ],
          "histogram2dcontour": [
           {
            "colorbar": {
             "outlinewidth": 0,
             "ticks": ""
            },
            "colorscale": [
             [
              0,
              "#0d0887"
             ],
             [
              0.1111111111111111,
              "#46039f"
             ],
             [
              0.2222222222222222,
              "#7201a8"
             ],
             [
              0.3333333333333333,
              "#9c179e"
             ],
             [
              0.4444444444444444,
              "#bd3786"
             ],
             [
              0.5555555555555556,
              "#d8576b"
             ],
             [
              0.6666666666666666,
              "#ed7953"
             ],
             [
              0.7777777777777778,
              "#fb9f3a"
             ],
             [
              0.8888888888888888,
              "#fdca26"
             ],
             [
              1,
              "#f0f921"
             ]
            ],
            "type": "histogram2dcontour"
           }
          ],
          "mesh3d": [
           {
            "colorbar": {
             "outlinewidth": 0,
             "ticks": ""
            },
            "type": "mesh3d"
           }
          ],
          "parcoords": [
           {
            "line": {
             "colorbar": {
              "outlinewidth": 0,
              "ticks": ""
             }
            },
            "type": "parcoords"
           }
          ],
          "pie": [
           {
            "automargin": true,
            "type": "pie"
           }
          ],
          "scatter": [
           {
            "fillpattern": {
             "fillmode": "overlay",
             "size": 10,
             "solidity": 0.2
            },
            "type": "scatter"
           }
          ],
          "scatter3d": [
           {
            "line": {
             "colorbar": {
              "outlinewidth": 0,
              "ticks": ""
             }
            },
            "marker": {
             "colorbar": {
              "outlinewidth": 0,
              "ticks": ""
             }
            },
            "type": "scatter3d"
           }
          ],
          "scattercarpet": [
           {
            "marker": {
             "colorbar": {
              "outlinewidth": 0,
              "ticks": ""
             }
            },
            "type": "scattercarpet"
           }
          ],
          "scattergeo": [
           {
            "marker": {
             "colorbar": {
              "outlinewidth": 0,
              "ticks": ""
             }
            },
            "type": "scattergeo"
           }
          ],
          "scattergl": [
           {
            "marker": {
             "colorbar": {
              "outlinewidth": 0,
              "ticks": ""
             }
            },
            "type": "scattergl"
           }
          ],
          "scattermapbox": [
           {
            "marker": {
             "colorbar": {
              "outlinewidth": 0,
              "ticks": ""
             }
            },
            "type": "scattermapbox"
           }
          ],
          "scatterpolar": [
           {
            "marker": {
             "colorbar": {
              "outlinewidth": 0,
              "ticks": ""
             }
            },
            "type": "scatterpolar"
           }
          ],
          "scatterpolargl": [
           {
            "marker": {
             "colorbar": {
              "outlinewidth": 0,
              "ticks": ""
             }
            },
            "type": "scatterpolargl"
           }
          ],
          "scatterternary": [
           {
            "marker": {
             "colorbar": {
              "outlinewidth": 0,
              "ticks": ""
             }
            },
            "type": "scatterternary"
           }
          ],
          "surface": [
           {
            "colorbar": {
             "outlinewidth": 0,
             "ticks": ""
            },
            "colorscale": [
             [
              0,
              "#0d0887"
             ],
             [
              0.1111111111111111,
              "#46039f"
             ],
             [
              0.2222222222222222,
              "#7201a8"
             ],
             [
              0.3333333333333333,
              "#9c179e"
             ],
             [
              0.4444444444444444,
              "#bd3786"
             ],
             [
              0.5555555555555556,
              "#d8576b"
             ],
             [
              0.6666666666666666,
              "#ed7953"
             ],
             [
              0.7777777777777778,
              "#fb9f3a"
             ],
             [
              0.8888888888888888,
              "#fdca26"
             ],
             [
              1,
              "#f0f921"
             ]
            ],
            "type": "surface"
           }
          ],
          "table": [
           {
            "cells": {
             "fill": {
              "color": "#EBF0F8"
             },
             "line": {
              "color": "white"
             }
            },
            "header": {
             "fill": {
              "color": "#C8D4E3"
             },
             "line": {
              "color": "white"
             }
            },
            "type": "table"
           }
          ]
         },
         "layout": {
          "annotationdefaults": {
           "arrowcolor": "#2a3f5f",
           "arrowhead": 0,
           "arrowwidth": 1
          },
          "autotypenumbers": "strict",
          "coloraxis": {
           "colorbar": {
            "outlinewidth": 0,
            "ticks": ""
           }
          },
          "colorscale": {
           "diverging": [
            [
             0,
             "#8e0152"
            ],
            [
             0.1,
             "#c51b7d"
            ],
            [
             0.2,
             "#de77ae"
            ],
            [
             0.3,
             "#f1b6da"
            ],
            [
             0.4,
             "#fde0ef"
            ],
            [
             0.5,
             "#f7f7f7"
            ],
            [
             0.6,
             "#e6f5d0"
            ],
            [
             0.7,
             "#b8e186"
            ],
            [
             0.8,
             "#7fbc41"
            ],
            [
             0.9,
             "#4d9221"
            ],
            [
             1,
             "#276419"
            ]
           ],
           "sequential": [
            [
             0,
             "#0d0887"
            ],
            [
             0.1111111111111111,
             "#46039f"
            ],
            [
             0.2222222222222222,
             "#7201a8"
            ],
            [
             0.3333333333333333,
             "#9c179e"
            ],
            [
             0.4444444444444444,
             "#bd3786"
            ],
            [
             0.5555555555555556,
             "#d8576b"
            ],
            [
             0.6666666666666666,
             "#ed7953"
            ],
            [
             0.7777777777777778,
             "#fb9f3a"
            ],
            [
             0.8888888888888888,
             "#fdca26"
            ],
            [
             1,
             "#f0f921"
            ]
           ],
           "sequentialminus": [
            [
             0,
             "#0d0887"
            ],
            [
             0.1111111111111111,
             "#46039f"
            ],
            [
             0.2222222222222222,
             "#7201a8"
            ],
            [
             0.3333333333333333,
             "#9c179e"
            ],
            [
             0.4444444444444444,
             "#bd3786"
            ],
            [
             0.5555555555555556,
             "#d8576b"
            ],
            [
             0.6666666666666666,
             "#ed7953"
            ],
            [
             0.7777777777777778,
             "#fb9f3a"
            ],
            [
             0.8888888888888888,
             "#fdca26"
            ],
            [
             1,
             "#f0f921"
            ]
           ]
          },
          "colorway": [
           "#636efa",
           "#EF553B",
           "#00cc96",
           "#ab63fa",
           "#FFA15A",
           "#19d3f3",
           "#FF6692",
           "#B6E880",
           "#FF97FF",
           "#FECB52"
          ],
          "font": {
           "color": "#2a3f5f"
          },
          "geo": {
           "bgcolor": "white",
           "lakecolor": "white",
           "landcolor": "#E5ECF6",
           "showlakes": true,
           "showland": true,
           "subunitcolor": "white"
          },
          "hoverlabel": {
           "align": "left"
          },
          "hovermode": "closest",
          "mapbox": {
           "style": "light"
          },
          "paper_bgcolor": "white",
          "plot_bgcolor": "#E5ECF6",
          "polar": {
           "angularaxis": {
            "gridcolor": "white",
            "linecolor": "white",
            "ticks": ""
           },
           "bgcolor": "#E5ECF6",
           "radialaxis": {
            "gridcolor": "white",
            "linecolor": "white",
            "ticks": ""
           }
          },
          "scene": {
           "xaxis": {
            "backgroundcolor": "#E5ECF6",
            "gridcolor": "white",
            "gridwidth": 2,
            "linecolor": "white",
            "showbackground": true,
            "ticks": "",
            "zerolinecolor": "white"
           },
           "yaxis": {
            "backgroundcolor": "#E5ECF6",
            "gridcolor": "white",
            "gridwidth": 2,
            "linecolor": "white",
            "showbackground": true,
            "ticks": "",
            "zerolinecolor": "white"
           },
           "zaxis": {
            "backgroundcolor": "#E5ECF6",
            "gridcolor": "white",
            "gridwidth": 2,
            "linecolor": "white",
            "showbackground": true,
            "ticks": "",
            "zerolinecolor": "white"
           }
          },
          "shapedefaults": {
           "line": {
            "color": "#2a3f5f"
           }
          },
          "ternary": {
           "aaxis": {
            "gridcolor": "white",
            "linecolor": "white",
            "ticks": ""
           },
           "baxis": {
            "gridcolor": "white",
            "linecolor": "white",
            "ticks": ""
           },
           "bgcolor": "#E5ECF6",
           "caxis": {
            "gridcolor": "white",
            "linecolor": "white",
            "ticks": ""
           }
          },
          "title": {
           "x": 0.05
          },
          "xaxis": {
           "automargin": true,
           "gridcolor": "white",
           "linecolor": "white",
           "ticks": "",
           "title": {
            "standoff": 15
           },
           "zerolinecolor": "white",
           "zerolinewidth": 2
          },
          "yaxis": {
           "automargin": true,
           "gridcolor": "white",
           "linecolor": "white",
           "ticks": "",
           "title": {
            "standoff": 15
           },
           "zerolinecolor": "white",
           "zerolinewidth": 2
          }
         }
        },
        "title": {
         "text": "Top 10 Beers in 2000"
        },
        "width": 800,
        "xaxis": {
         "range": [
          0,
          4.796358605054868
         ],
         "showline": true,
         "title": {
          "text": "New Rating"
         },
         "visible": true
        },
        "yaxis": {
         "showline": false,
         "ticktext": [
          10,
          9,
          8,
          7,
          6,
          5,
          4,
          3,
          2,
          1
         ],
         "tickvals": [
          0,
          1,
          2,
          3,
          4,
          5,
          6,
          7,
          8,
          9,
          10
         ],
         "title": {
          "text": "Top 10 Beers"
         },
         "visible": true
        }
       }
      }
     },
     "metadata": {},
     "output_type": "display_data"
    }
   ],
   "source": [
    "import pandas as pd\n",
    "import plotly.graph_objects as go\n",
    "from random import sample\n",
    "\n",
    "# Supposons que vous ayez déjà défini la variable 'data' et 'top_entries' dans votre code précédent.\n",
    "\n",
    "# Initialize frames list and sliders dictionary\n",
    "frames = []\n",
    "sliders_dict = {\"steps\": []}\n",
    "beer_colors = {}\n",
    "\n",
    "for year in range(2000, int(data['year'].max()) + 1):\n",
    "    # Filter data by year\n",
    "    snap_data = data[data['year'] == year]\n",
    "    \n",
    "    # Sort by new_rating and get top 10\n",
    "    snap_data = snap_data.sort_values('new_rating', ascending=False).head(10)\n",
    "    \n",
    "    # Sort by new_rating in ascending order\n",
    "    snap_data = snap_data.sort_values('new_rating', ascending=True)\n",
    "    \n",
    "    # Generate colors for unique beer names\n",
    "    for item in snap_data['beer_name'].unique():\n",
    "        if item not in beer_colors:\n",
    "            beer_colors[item] = 'rgb({}, {}, {})'.format(*sample(range(256), 3))\n",
    "    \n",
    "    snap_data['color'] = snap_data['beer_name'].map(beer_colors)\n",
    "    \n",
    "    # Create frame\n",
    "    frame = go.Frame(\n",
    "        data=[\n",
    "            go.Bar(\n",
    "                x=snap_data['new_rating'],\n",
    "                marker_color=snap_data['color'],\n",
    "                orientation='h',\n",
    "                hoverinfo='all',\n",
    "                text=snap_data['beer_name'],\n",
    "                textposition='outside',\n",
    "                width=0.5\n",
    "            )\n",
    "        ],\n",
    "        layout=go.Layout(\n",
    "            font={'size': 14},\n",
    "            plot_bgcolor='white',\n",
    "            xaxis={\n",
    "                'showline': True,\n",
    "                'visible': True,\n",
    "                'range': (0, max_rating_value + 2)\n",
    "            },\n",
    "            bargap=0,\n",
    "            bargroupgap=0,\n",
    "            yaxis={\n",
    "                'showline': True,\n",
    "                'visible': True,\n",
    "                'tickvals': list(range(0, 11)),\n",
    "                'ticktext': list(range(10, 0, -1)),\n",
    "                'title_text': 'Top ' + str(10) + ' Beers'\n",
    "            },\n",
    "            title=f'Top 10 Beers in {year}',\n",
    "        ),\n",
    "        name=str(year),\n",
    "    )\n",
    "    \n",
    "    # Append frame to list of frames\n",
    "    frames.append(frame)\n",
    "    \n",
    "    # Define slider step\n",
    "    slider_step = {\n",
    "        \"args\": [\n",
    "            [str(year)],\n",
    "            {\n",
    "                \"frame\": {\n",
    "                    \"duration\": 300,\n",
    "                    \"redraw\": True\n",
    "                },\n",
    "                \"mode\": \"immediate\",\n",
    "                \"transition\": {\n",
    "                    \"duration\": 300\n",
    "                }\n",
    "            }\n",
    "        ],\n",
    "        \"label\": str(year),\n",
    "        \"method\": \"animate\"\n",
    "    }\n",
    "    # Append to sliders_dict\n",
    "    sliders_dict[\"steps\"].append(slider_step)\n",
    "\n",
    "# Create figure\n",
    "fig = go.Figure(\n",
    "    data=[go.Bar()],\n",
    "    frames=frames,\n",
    ")\n",
    "\n",
    "# Update layout with play and pause buttons\n",
    "fig.update_layout(\n",
    "    title='Top 10 Beers in 2000',\n",
    "    font={'size': 15},\n",
    "    plot_bgcolor='white',\n",
    "    xaxis={\n",
    "        'showline': True,\n",
    "        'visible': True,\n",
    "        'title_text': 'New Rating',\n",
    "        'range': [0, max_rating_value+2]\n",
    "    },\n",
    "    yaxis={\n",
    "        'showline': False,\n",
    "        'visible': True,\n",
    "        'tickvals': list(range(0, 11)),\n",
    "        'ticktext': list(range(10, 0, -1)),\n",
    "        'title_text': 'Top 10 Beers'\n",
    "    },\n",
    "    height=800,\n",
    "    width=800,\n",
    "    margin=dict(\n",
    "        l=100,\n",
    "        t=50\n",
    "    ),\n",
    "    sliders=[sliders_dict],\n",
    ")\n",
    "fig.show()\n"
   ]
  },
  {
   "cell_type": "code",
   "execution_count": null,
   "metadata": {},
   "outputs": [],
   "source": []
  }
 ],
 "metadata": {
  "kernelspec": {
   "display_name": "ada",
   "language": "python",
   "name": "python3"
  },
  "language_info": {
   "codemirror_mode": {
    "name": "ipython",
    "version": 3
   },
   "file_extension": ".py",
   "mimetype": "text/x-python",
   "name": "python",
   "nbconvert_exporter": "python",
   "pygments_lexer": "ipython3",
   "version": "3.9.18"
  }
 },
 "nbformat": 4,
 "nbformat_minor": 2
}
