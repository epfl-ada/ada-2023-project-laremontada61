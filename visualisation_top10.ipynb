{
 "cells": [
  {
   "cell_type": "code",
   "execution_count": 1,
   "metadata": {},
   "outputs": [],
   "source": [
    "import pandas as pd\n",
    "import seaborn as sns\n",
    "import matplotlib.pyplot as plt\n",
    "%matplotlib inline\n",
    "\n",
    "from PIL import Image, ImageDraw\n",
    "from matplotlib.lines import Line2D\n",
    "from matplotlib.offsetbox import OffsetImage, AnnotationBbox"
   ]
  },
  {
   "cell_type": "code",
   "execution_count": 6,
   "metadata": {},
   "outputs": [],
   "source": [
    "import pandas as pd\n",
    "import plotly.graph_objects as go\n",
    "\n",
    "def create_rankings(df, years):\n",
    "    rank_columns = [\"rank_{}\".format(i) for i in range(len(years))]\n",
    "    for i, year in enumerate(years):\n",
    "        df[rank_columns[i]] = df.groupby('year')['new_rating'].rank(ascending=False)\n",
    "        \n",
    "    return df, rank_columns\n",
    "\n",
    "def add_text(fig, beer_name, x, y, text, font_size=12):\n",
    "    fig.add_trace(go.Scatter(x=[x], y=[y], text=[text], mode=\"text\", showlegend=False,\n",
    "                             textfont=dict(size=font_size), hoverinfo='text+x+y'))\n",
    "\n",
    "def add_pie_and_flag(fig, x, y, name, ratio):\n",
    "    fig.add_trace(go.Pie(labels=[name], values=[ratio], hole=0.4,\n",
    "                         marker=dict(colors=['rgba(255, 255, 255, 0)']),\n",
    "                         domain=dict(x=[x-0.15, x+0.15], y=[y-0.15, y+0.15]),\n",
    "                         hoverinfo='label+percent+name', showlegend=False))\n",
    "\n",
    "years = [\"2000\", \"2001\", \"2002\", \"2003\", \"2004\", \"2005\", \"2006\", \"2007\", \"2008\", \"2009\", \"2010\", \"2011\", \"2012\", \"2013\", \"2014\", \"2015\", \"2016\", \"2017\"]\n",
    "df = pd.read_csv(\"./../ada-2023-project-laremontada61/top_10_beers_by_year.csv\", index_col=None)\n",
    "df, rank_columns = create_rankings(df, years)\n"
   ]
  },
  {
   "cell_type": "code",
   "execution_count": 7,
   "metadata": {},
   "outputs": [],
   "source": [
    "import plotly.graph_objects as go\n",
    "fig = {\n",
    "    \"data\": [],\n",
    "    \"layout\": {},\n",
    "    \"frames\": []\n",
    "}"
   ]
  },
  {
   "cell_type": "code",
   "execution_count": 8,
   "metadata": {},
   "outputs": [],
   "source": [
    "from IPython.display import display, HTML, Markdown, Image"
   ]
  },
  {
   "cell_type": "code",
   "execution_count": 9,
   "metadata": {},
   "outputs": [],
   "source": [
    "#mettre les paths \n",
    "output_plot_folder = \"docs/assets/plot/\"\n",
    "output_img_folder = \"imgs/\""
   ]
  },
  {
   "cell_type": "markdown",
   "metadata": {},
   "source": [
    "## 1.4. Functions definition"
   ]
  },
  {
   "cell_type": "code",
   "execution_count": 18,
   "metadata": {},
   "outputs": [],
   "source": [
    "# A function is defined to save the plots in .html and .png format\n",
    "def plot_format (fig, name):\n",
    "    fig.write_html(output_plot_folder + name + \".html\")\n",
    "    fig.write_image(output_img_folder + name + \".png\", engine=\"kaleido\")\n",
    "\n",
    "    #Show plot image in notebook\n",
    "    return Image(output_img_folder + name + \".png\")"
   ]
  },
  {
   "cell_type": "code",
   "execution_count": 28,
   "metadata": {},
   "outputs": [],
   "source": [
    "import pandas as pd\n",
    "import plotly.graph_objects as go\n",
    "from random import sample\n",
    "import plotly.graph_objects as go\n",
    "from random import sample\n",
    "def top_10_year(data, col):\n",
    "\n",
    "    fig = {\n",
    "        \"data\": [],\n",
    "        \"layout\": {},\n",
    "        \"frames\": []\n",
    "    }\n",
    "    # Supposons que vous ayez déjà défini la variable 'data' et 'top_entries' dans votre code précédent.\n",
    "\n",
    "    # Initialize frames list and sliders dictionary\n",
    "    frames = []\n",
    "    sliders_dict = {\"steps\": []}\n",
    "    beer_colors = {}\n",
    "\n",
    "    for year in range(2000, int(data['year'].max()) + 1):\n",
    "        # Filter data by year\n",
    "        snap_data = data[data['year'] == year]\n",
    "\n",
    "        # Sort by new_rating and get top 10\n",
    "        snap_data = snap_data.sort_values(col, ascending=False).head(10)\n",
    "\n",
    "        # Sort by new_rating in ascending order\n",
    "        snap_data = snap_data.sort_values(col, ascending=True)\n",
    "\n",
    "        # Generate colors for unique beer names\n",
    "        for item in snap_data['beer_name'].unique():\n",
    "            if item not in beer_colors:\n",
    "                beer_colors[item] = 'rgb({}, {}, {})'.format(*sample(range(256), 3))\n",
    "\n",
    "        snap_data['color'] = snap_data['beer_name'].map(beer_colors)\n",
    "        max_rating_value = data[col].max()\n",
    "        # Create frame\n",
    "        frame = go.Frame(\n",
    "            data=[\n",
    "                go.Bar(\n",
    "                    x=snap_data[col],\n",
    "                    marker_color=snap_data['color'],\n",
    "                    orientation='h',\n",
    "                    hoverinfo='all',\n",
    "                    text=snap_data['beer_name'],\n",
    "                    textposition='outside',\n",
    "                    width=0.5\n",
    "                )\n",
    "            ],\n",
    "            layout=go.Layout(\n",
    "                font={'size': 14},\n",
    "                plot_bgcolor='white',\n",
    "                xaxis={\n",
    "                    'showline': True,\n",
    "                    'visible': True,\n",
    "                    'range': (0, max_rating_value + 2)\n",
    "                },\n",
    "                bargap=0,\n",
    "                bargroupgap=0,\n",
    "                yaxis={\n",
    "                    'showline': True,\n",
    "                    'visible': True,\n",
    "                    'tickvals': list(range(0, 11)),\n",
    "                    'ticktext': list(range(10, 0, -1)),\n",
    "                    'title_text': 'Top ' + str(10) + ' Beers'\n",
    "                },\n",
    "                title=f'Top 10 Beers in {year}',\n",
    "            ),\n",
    "            name=str(year),\n",
    "        )\n",
    "\n",
    "        # Append frame to list of frames\n",
    "        frames.append(frame)\n",
    "\n",
    "        # Define slider step\n",
    "        slider_step = {\n",
    "            \"args\": [\n",
    "                [str(year)],\n",
    "                {\n",
    "                    \"frame\": {\n",
    "                        \"duration\": 300,\n",
    "                        \"redraw\": True\n",
    "                    },\n",
    "                    \"mode\": \"immediate\",\n",
    "                    \"transition\": {\n",
    "                        \"duration\": 300\n",
    "                    }\n",
    "                }\n",
    "            ],\n",
    "            \"label\": str(year),\n",
    "            \"method\": \"animate\"\n",
    "        }\n",
    "        # Append to sliders_dict\n",
    "        sliders_dict[\"steps\"].append(slider_step)\n",
    "\n",
    "    # Create figure\n",
    "    fig = go.Figure(\n",
    "        data=[go.Bar()],\n",
    "        frames=frames,\n",
    "    )\n",
    "\n",
    "    # Update layout with play and pause buttons\n",
    "    fig.update_layout(\n",
    "        title='Top 10 Beers in 2000',\n",
    "        font={'size': 15},\n",
    "        plot_bgcolor='white',\n",
    "        xaxis={\n",
    "            'showline': True,\n",
    "            'visible': True,\n",
    "            'title_text': col,\n",
    "            'range': [0, max_rating_value+2]\n",
    "        },\n",
    "        yaxis={\n",
    "            'showline': False,\n",
    "            'visible': True,\n",
    "            'tickvals': list(range(0, 11)),\n",
    "            'ticktext': list(range(10, 0, -1)),\n",
    "            'title_text': 'Top 10 Beers'\n",
    "        },\n",
    "        height=800,\n",
    "        width=800,\n",
    "        margin=dict(\n",
    "            l=100,\n",
    "            t=50\n",
    "        ),\n",
    "        sliders=[sliders_dict],\n",
    "    )\n",
    "    fig.write_html(output_plot_folder + \"top_10\" + \".html\")\n",
    "    return "
   ]
  },
  {
   "cell_type": "code",
   "execution_count": 26,
   "metadata": {},
   "outputs": [
    {
     "name": "stdout",
     "output_type": "stream",
     "text": [
      "Requirement already satisfied: kaleido in c:\\users\\julie\\anaconda3\\envs\\ada\\lib\\site-packages (0.2.1)\n"
     ]
    }
   ],
   "source": [
    "!pip install kaleido\n"
   ]
  },
  {
   "cell_type": "code",
   "execution_count": 29,
   "metadata": {},
   "outputs": [],
   "source": [
    "top_10_year(df, 'new_rating')"
   ]
  },
  {
   "cell_type": "code",
   "execution_count": null,
   "metadata": {},
   "outputs": [],
   "source": []
  }
 ],
 "metadata": {
  "kernelspec": {
   "display_name": "ada",
   "language": "python",
   "name": "python3"
  },
  "language_info": {
   "codemirror_mode": {
    "name": "ipython",
    "version": 3
   },
   "file_extension": ".py",
   "mimetype": "text/x-python",
   "name": "python",
   "nbconvert_exporter": "python",
   "pygments_lexer": "ipython3",
   "version": "3.9.18"
  }
 },
 "nbformat": 4,
 "nbformat_minor": 2
}
