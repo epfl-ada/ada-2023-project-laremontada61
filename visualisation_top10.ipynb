{
 "cells": [
  {
   "cell_type": "code",
   "execution_count": 1,
   "metadata": {},
   "outputs": [],
   "source": [
    "import pandas as pd\n",
    "import seaborn as sns\n",
    "import matplotlib.pyplot as plt\n",
    "%matplotlib inline\n",
    "\n",
    "from PIL import Image, ImageDraw\n",
    "from matplotlib.lines import Line2D\n",
    "from matplotlib.offsetbox import OffsetImage, AnnotationBbox"
   ]
  },
  {
   "cell_type": "code",
   "execution_count": 7,
   "metadata": {},
   "outputs": [
    {
     "name": "stdout",
     "output_type": "stream",
     "text": [
      "Unnamed: 0                           1\n",
      "beer_name     Weihenstephaner Original\n",
      "year                            2000.0\n",
      "new_rating                    1.272458\n",
      "rank_0                             1.0\n",
      "rank_1                             1.0\n",
      "rank_2                             1.0\n",
      "rank_3                             1.0\n",
      "rank_4                             1.0\n",
      "rank_5                             1.0\n",
      "rank_6                             1.0\n",
      "rank_7                             1.0\n",
      "rank_8                             1.0\n",
      "rank_9                             1.0\n",
      "rank_10                            1.0\n",
      "rank_11                            1.0\n",
      "rank_12                            1.0\n",
      "rank_13                            1.0\n",
      "rank_14                            1.0\n",
      "rank_15                            1.0\n",
      "rank_16                            1.0\n",
      "rank_17                            1.0\n",
      "Name: 0, dtype: object\n"
     ]
    },
    {
     "ename": "KeyError",
     "evalue": "1.0",
     "output_type": "error",
     "traceback": [
      "\u001b[1;31m---------------------------------------------------------------------------\u001b[0m",
      "\u001b[1;31mKeyError\u001b[0m                                  Traceback (most recent call last)",
      "File \u001b[1;32mc:\\Users\\julie\\anaconda3\\envs\\ada\\lib\\site-packages\\pandas\\core\\indexes\\base.py:3790\u001b[0m, in \u001b[0;36mIndex.get_loc\u001b[1;34m(self, key)\u001b[0m\n\u001b[0;32m   3789\u001b[0m \u001b[38;5;28;01mtry\u001b[39;00m:\n\u001b[1;32m-> 3790\u001b[0m     \u001b[38;5;28;01mreturn\u001b[39;00m \u001b[38;5;28;43mself\u001b[39;49m\u001b[38;5;241;43m.\u001b[39;49m\u001b[43m_engine\u001b[49m\u001b[38;5;241;43m.\u001b[39;49m\u001b[43mget_loc\u001b[49m\u001b[43m(\u001b[49m\u001b[43mcasted_key\u001b[49m\u001b[43m)\u001b[49m\n\u001b[0;32m   3791\u001b[0m \u001b[38;5;28;01mexcept\u001b[39;00m \u001b[38;5;167;01mKeyError\u001b[39;00m \u001b[38;5;28;01mas\u001b[39;00m err:\n",
      "File \u001b[1;32mindex.pyx:152\u001b[0m, in \u001b[0;36mpandas._libs.index.IndexEngine.get_loc\u001b[1;34m()\u001b[0m\n",
      "File \u001b[1;32mindex.pyx:181\u001b[0m, in \u001b[0;36mpandas._libs.index.IndexEngine.get_loc\u001b[1;34m()\u001b[0m\n",
      "File \u001b[1;32mpandas\\_libs\\hashtable_class_helper.pxi:7080\u001b[0m, in \u001b[0;36mpandas._libs.hashtable.PyObjectHashTable.get_item\u001b[1;34m()\u001b[0m\n",
      "File \u001b[1;32mpandas\\_libs\\hashtable_class_helper.pxi:7088\u001b[0m, in \u001b[0;36mpandas._libs.hashtable.PyObjectHashTable.get_item\u001b[1;34m()\u001b[0m\n",
      "\u001b[1;31mKeyError\u001b[0m: 1.0",
      "\nThe above exception was the direct cause of the following exception:\n",
      "\u001b[1;31mKeyError\u001b[0m                                  Traceback (most recent call last)",
      "Cell \u001b[1;32mIn[7], line 30\u001b[0m\n\u001b[0;32m     28\u001b[0m     \u001b[38;5;28mprint\u001b[39m(row)\n\u001b[0;32m     29\u001b[0m     \u001b[38;5;28;01mfor\u001b[39;00m j, rc \u001b[38;5;129;01min\u001b[39;00m \u001b[38;5;28menumerate\u001b[39m(rank_columns):\n\u001b[1;32m---> 30\u001b[0m         add_pie_and_flag(fig, j, \u001b[38;5;241m-\u001b[39mrow[rc], name\u001b[38;5;241m=\u001b[39mrow\u001b[38;5;241m.\u001b[39mbeer_name, ratio\u001b[38;5;241m=\u001b[39m\u001b[43mrow\u001b[49m\u001b[43m[\u001b[49m\u001b[43mrow\u001b[49m\u001b[43m[\u001b[49m\u001b[43mrc\u001b[49m\u001b[43m]\u001b[49m\u001b[43m]\u001b[49m \u001b[38;5;241m/\u001b[39m row[rank_columns]\u001b[38;5;241m.\u001b[39mmax())\n\u001b[0;32m     32\u001b[0m     add_text(fig, row\u001b[38;5;241m.\u001b[39mbeer_name, \u001b[38;5;28mlen\u001b[39m(years) \u001b[38;5;241m-\u001b[39m \u001b[38;5;241m0.5\u001b[39m, \u001b[38;5;241m-\u001b[39m(i \u001b[38;5;241m+\u001b[39m \u001b[38;5;241m1\u001b[39m), \u001b[38;5;124mf\u001b[39m\u001b[38;5;124m\"\u001b[39m\u001b[38;5;132;01m{\u001b[39;00mrow\u001b[38;5;241m.\u001b[39mbeer_name\u001b[38;5;132;01m}\u001b[39;00m\u001b[38;5;124m (\u001b[39m\u001b[38;5;132;01m{\u001b[39;00mrow[rank_columns[\u001b[38;5;241m-\u001b[39m\u001b[38;5;241m1\u001b[39m]]\u001b[38;5;132;01m:\u001b[39;00m\u001b[38;5;124m.1f\u001b[39m\u001b[38;5;132;01m}\u001b[39;00m\u001b[38;5;124m)\u001b[39m\u001b[38;5;124m\"\u001b[39m)\n\u001b[0;32m     34\u001b[0m fig\u001b[38;5;241m.\u001b[39mupdate_layout(\n\u001b[0;32m     35\u001b[0m     title_text\u001b[38;5;241m=\u001b[39m\u001b[38;5;124m\"\u001b[39m\u001b[38;5;124mTop 10 Beers Each Year\u001b[39m\u001b[38;5;124m\"\u001b[39m,\n\u001b[0;32m     36\u001b[0m     xaxis\u001b[38;5;241m=\u001b[39m\u001b[38;5;28mdict\u001b[39m(visible\u001b[38;5;241m=\u001b[39m\u001b[38;5;28;01mFalse\u001b[39;00m),\n\u001b[1;32m   (...)\u001b[0m\n\u001b[0;32m     40\u001b[0m     height\u001b[38;5;241m=\u001b[39m\u001b[38;5;241m600\u001b[39m,\n\u001b[0;32m     41\u001b[0m )\n",
      "File \u001b[1;32mc:\\Users\\julie\\anaconda3\\envs\\ada\\lib\\site-packages\\pandas\\core\\series.py:1040\u001b[0m, in \u001b[0;36mSeries.__getitem__\u001b[1;34m(self, key)\u001b[0m\n\u001b[0;32m   1037\u001b[0m     \u001b[38;5;28;01mreturn\u001b[39;00m \u001b[38;5;28mself\u001b[39m\u001b[38;5;241m.\u001b[39m_values[key]\n\u001b[0;32m   1039\u001b[0m \u001b[38;5;28;01melif\u001b[39;00m key_is_scalar:\n\u001b[1;32m-> 1040\u001b[0m     \u001b[38;5;28;01mreturn\u001b[39;00m \u001b[38;5;28;43mself\u001b[39;49m\u001b[38;5;241;43m.\u001b[39;49m\u001b[43m_get_value\u001b[49m\u001b[43m(\u001b[49m\u001b[43mkey\u001b[49m\u001b[43m)\u001b[49m\n\u001b[0;32m   1042\u001b[0m \u001b[38;5;66;03m# Convert generator to list before going through hashable part\u001b[39;00m\n\u001b[0;32m   1043\u001b[0m \u001b[38;5;66;03m# (We will iterate through the generator there to check for slices)\u001b[39;00m\n\u001b[0;32m   1044\u001b[0m \u001b[38;5;28;01mif\u001b[39;00m is_iterator(key):\n",
      "File \u001b[1;32mc:\\Users\\julie\\anaconda3\\envs\\ada\\lib\\site-packages\\pandas\\core\\series.py:1156\u001b[0m, in \u001b[0;36mSeries._get_value\u001b[1;34m(self, label, takeable)\u001b[0m\n\u001b[0;32m   1153\u001b[0m     \u001b[38;5;28;01mreturn\u001b[39;00m \u001b[38;5;28mself\u001b[39m\u001b[38;5;241m.\u001b[39m_values[label]\n\u001b[0;32m   1155\u001b[0m \u001b[38;5;66;03m# Similar to Index.get_value, but we do not fall back to positional\u001b[39;00m\n\u001b[1;32m-> 1156\u001b[0m loc \u001b[38;5;241m=\u001b[39m \u001b[38;5;28;43mself\u001b[39;49m\u001b[38;5;241;43m.\u001b[39;49m\u001b[43mindex\u001b[49m\u001b[38;5;241;43m.\u001b[39;49m\u001b[43mget_loc\u001b[49m\u001b[43m(\u001b[49m\u001b[43mlabel\u001b[49m\u001b[43m)\u001b[49m\n\u001b[0;32m   1158\u001b[0m \u001b[38;5;28;01mif\u001b[39;00m is_integer(loc):\n\u001b[0;32m   1159\u001b[0m     \u001b[38;5;28;01mreturn\u001b[39;00m \u001b[38;5;28mself\u001b[39m\u001b[38;5;241m.\u001b[39m_values[loc]\n",
      "File \u001b[1;32mc:\\Users\\julie\\anaconda3\\envs\\ada\\lib\\site-packages\\pandas\\core\\indexes\\base.py:3797\u001b[0m, in \u001b[0;36mIndex.get_loc\u001b[1;34m(self, key)\u001b[0m\n\u001b[0;32m   3792\u001b[0m     \u001b[38;5;28;01mif\u001b[39;00m \u001b[38;5;28misinstance\u001b[39m(casted_key, \u001b[38;5;28mslice\u001b[39m) \u001b[38;5;129;01mor\u001b[39;00m (\n\u001b[0;32m   3793\u001b[0m         \u001b[38;5;28misinstance\u001b[39m(casted_key, abc\u001b[38;5;241m.\u001b[39mIterable)\n\u001b[0;32m   3794\u001b[0m         \u001b[38;5;129;01mand\u001b[39;00m \u001b[38;5;28many\u001b[39m(\u001b[38;5;28misinstance\u001b[39m(x, \u001b[38;5;28mslice\u001b[39m) \u001b[38;5;28;01mfor\u001b[39;00m x \u001b[38;5;129;01min\u001b[39;00m casted_key)\n\u001b[0;32m   3795\u001b[0m     ):\n\u001b[0;32m   3796\u001b[0m         \u001b[38;5;28;01mraise\u001b[39;00m InvalidIndexError(key)\n\u001b[1;32m-> 3797\u001b[0m     \u001b[38;5;28;01mraise\u001b[39;00m \u001b[38;5;167;01mKeyError\u001b[39;00m(key) \u001b[38;5;28;01mfrom\u001b[39;00m \u001b[38;5;21;01merr\u001b[39;00m\n\u001b[0;32m   3798\u001b[0m \u001b[38;5;28;01mexcept\u001b[39;00m \u001b[38;5;167;01mTypeError\u001b[39;00m:\n\u001b[0;32m   3799\u001b[0m     \u001b[38;5;66;03m# If we have a listlike key, _check_indexing_error will raise\u001b[39;00m\n\u001b[0;32m   3800\u001b[0m     \u001b[38;5;66;03m#  InvalidIndexError. Otherwise we fall through and re-raise\u001b[39;00m\n\u001b[0;32m   3801\u001b[0m     \u001b[38;5;66;03m#  the TypeError.\u001b[39;00m\n\u001b[0;32m   3802\u001b[0m     \u001b[38;5;28mself\u001b[39m\u001b[38;5;241m.\u001b[39m_check_indexing_error(key)\n",
      "\u001b[1;31mKeyError\u001b[0m: 1.0"
     ]
    }
   ],
   "source": [
    "import pandas as pd\n",
    "import plotly.graph_objects as go\n",
    "\n",
    "def create_rankings(df, years):\n",
    "    rank_columns = [\"rank_{}\".format(i) for i in range(len(years))]\n",
    "    for i, year in enumerate(years):\n",
    "        df[rank_columns[i]] = df.groupby('year')['new_rating'].rank(ascending=False)\n",
    "        \n",
    "    return df, rank_columns\n",
    "\n",
    "def add_text(fig, beer_name, x, y, text, font_size=12):\n",
    "    fig.add_trace(go.Scatter(x=[x], y=[y], text=[text], mode=\"text\", showlegend=False,\n",
    "                             textfont=dict(size=font_size), hoverinfo='text+x+y'))\n",
    "\n",
    "def add_pie_and_flag(fig, x, y, name, ratio):\n",
    "    fig.add_trace(go.Pie(labels=[name], values=[ratio], hole=0.4,\n",
    "                         marker=dict(colors=['rgba(255, 255, 255, 0)']),\n",
    "                         domain=dict(x=[x-0.15, x+0.15], y=[y-0.15, y+0.15]),\n",
    "                         hoverinfo='label+percent+name', showlegend=False))\n",
    "\n",
    "years = [\"2000\", \"2001\", \"2002\", \"2003\", \"2004\", \"2005\", \"2006\", \"2007\", \"2008\", \"2009\", \"2010\", \"2011\", \"2012\", \"2013\", \"2014\", \"2015\", \"2016\", \"2017\"]\n",
    "df = pd.read_csv(\"./../../Project/top_10_beers_by_year.csv\", index_col=None)\n",
    "df, rank_columns = create_rankings(df, years)\n"
   ]
  },
  {
   "cell_type": "code",
   "execution_count": 127,
   "metadata": {},
   "outputs": [
    {
     "data": {
      "application/vnd.plotly.v1+json": {
       "config": {
        "plotlyServerURL": "https://plot.ly"
       },
       "data": [
        {
         "cliponaxis": false,
         "hoverinfo": "all",
         "marker": {
          "color": [
           "rgb(130, 80, 223)",
           "rgb(153, 108, 50)",
           "rgb(47, 34, 64)",
           "rgb(188, 34, 39)",
           "rgb(210, 112, 85)",
           "rgb(26, 21, 200)",
           "rgb(222, 149, 232)",
           "rgb(17, 67, 53)",
           "rgb(205, 197, 186)",
           "rgb(108, 104, 213)"
          ]
         },
         "orientation": "h",
         "textangle": 0,
         "textposition": "outside",
         "texttemplate": "%{y}<br>%{x:.4s}",
         "type": "bar",
         "x": [
          0.0856980269090535,
          0.1413983790078688,
          0.1474960597172014,
          0.2916820056995468,
          0.3633911590367735,
          0.4020559589920901,
          0.7832398558263911,
          0.7922630921178851,
          0.8024114516969543,
          1.2724582070724737
         ],
         "y": [
          "Smuttynose Portsmouth Lager",
          "Wellington Iron Duke Strong Ale",
          "Beck's Oktoberfest",
          "Unibroue Blanche de Chambly",
          "Guinness Extra Stout (North America)",
          "Alley Kat Scona Gold",
          "Unibroue Maudite",
          "Unibroue Eau Bénite",
          "Unibroue La Fin du Monde",
          "Weihenstephaner Original"
         ]
        }
       ],
       "frames": [
        {
         "data": [
          {
           "cliponaxis": false,
           "hoverinfo": "all",
           "hovertemplate": "<extra></extra>",
           "marker": {
            "color": [
             "rgb(130, 80, 223)",
             "rgb(153, 108, 50)",
             "rgb(47, 34, 64)",
             "rgb(188, 34, 39)",
             "rgb(210, 112, 85)",
             "rgb(26, 21, 200)",
             "rgb(222, 149, 232)",
             "rgb(17, 67, 53)",
             "rgb(205, 197, 186)",
             "rgb(108, 104, 213)"
            ]
           },
           "orientation": "h",
           "textangle": 0,
           "textposition": "outside",
           "texttemplate": "%{y}<br>%{x:.4s}",
           "type": "bar",
           "x": [
            0.0856980269090535,
            0.1413983790078688,
            0.1474960597172014,
            0.2916820056995468,
            0.3633911590367735,
            0.4020559589920901,
            0.7832398558263911,
            0.7922630921178851,
            0.8024114516969543,
            1.2724582070724737
           ],
           "y": [
            "Smuttynose Portsmouth Lager",
            "Wellington Iron Duke Strong Ale",
            "Beck's Oktoberfest",
            "Unibroue Blanche de Chambly",
            "Guinness Extra Stout (North America)",
            "Alley Kat Scona Gold",
            "Unibroue Maudite",
            "Unibroue Eau Bénite",
            "Unibroue La Fin du Monde",
            "Weihenstephaner Original"
           ]
          }
         ],
         "layout": {
          "bargap": 0.15,
          "font": {
           "size": 14
          },
          "plot_bgcolor": "#FFFFFF",
          "title": {
           "text": "Top 10 beers in the world from 2000 to 2017"
          },
          "xaxis": {
           "range": [
            0,
            2.796358605054868
           ],
           "showline": true,
           "visible": true
          },
          "yaxis": {
           "showline": false,
           "visible": true
          }
         },
         "name": "2000.0"
        },
        {
         "data": [
          {
           "cliponaxis": false,
           "hoverinfo": "all",
           "hovertemplate": "<extra></extra>",
           "marker": {
            "color": [
             "rgb(244, 68, 71)",
             "rgb(202, 197, 68)",
             "rgb(224, 39, 175)",
             "rgb(17, 67, 53)",
             "rgb(221, 64, 254)",
             "rgb(129, 115, 124)",
             "rgb(168, 69, 7)",
             "rgb(82, 27, 141)",
             "rgb(138, 11, 26)",
             "rgb(101, 104, 232)"
            ]
           },
           "orientation": "h",
           "textangle": 0,
           "textposition": "outside",
           "texttemplate": "%{y}<br>%{x:.4s}",
           "type": "bar",
           "x": [
            0.9785837672582662,
            1.0058875532587828,
            1.063970250411699,
            1.0725839073783556,
            1.1062115555022047,
            1.1406137542872845,
            1.1540869577021826,
            1.2406882489229227,
            1.292176928309711,
            1.6237857546298675
           ],
           "y": [
            "Olands Premium Red Draught",
            "Apollo Pilsner",
            "Wellington Imperial Russian Stout",
            "Unibroue Eau Bénite",
            "Samuel Smith's Organic Best Ale",
            "Hancock Old Gambrinus Beer Light",
            "Paulaner Oktoberfest-Märzen",
            "Ayinger Celebrator Doppelbock",
            "Creemore Springs Premium Lager",
            "Okanagan Spring Pale Ale"
           ]
          }
         ],
         "layout": {
          "bargap": 0.15,
          "font": {
           "size": 14
          },
          "plot_bgcolor": "#FFFFFF",
          "title": {
           "text": "Top 10 beers in the world from 2000 to 2017"
          },
          "xaxis": {
           "range": [
            0,
            2.796358605054868
           ],
           "showline": true,
           "visible": true
          },
          "yaxis": {
           "showline": false,
           "visible": true
          }
         },
         "name": "2001.0"
        },
        {
         "data": [
          {
           "cliponaxis": false,
           "hoverinfo": "all",
           "hovertemplate": "<extra></extra>",
           "marker": {
            "color": [
             "rgb(216, 88, 73)",
             "rgb(106, 229, 27)",
             "rgb(38, 51, 146)",
             "rgb(162, 143, 41)",
             "rgb(100, 221, 155)",
             "rgb(6, 65, 41)",
             "rgb(187, 33, 74)",
             "rgb(21, 113, 218)",
             "rgb(231, 206, 40)",
             "rgb(115, 77, 244)"
            ]
           },
           "orientation": "h",
           "textangle": 0,
           "textposition": "outside",
           "texttemplate": "%{y}<br>%{x:.4s}",
           "type": "bar",
           "x": [
            1.0971892330254818,
            1.117999273528437,
            1.1892809268470006,
            1.1946513838248962,
            1.2298686075598522,
            1.2363237954738322,
            1.2464736767652496,
            1.296739938062742,
            1.3506758306197617,
            1.7157031714601243
           ],
           "y": [
            "Traquair House Ale",
            "Noche Buena",
            "Rickards Gold",
            "Schwarzer Abt",
            "Thomas Hardy's Ale (1968-1999)",
            "Upper Canada Dark Ale",
            "Hancock Old Gambrinus Beer Dark",
            "Le Cheval Blanc Bière dHiver",
            "Brava Cerveza",
            "Casta Bruna"
           ]
          }
         ],
         "layout": {
          "bargap": 0.15,
          "font": {
           "size": 14
          },
          "plot_bgcolor": "#FFFFFF",
          "title": {
           "text": "Top 10 beers in the world from 2000 to 2017"
          },
          "xaxis": {
           "range": [
            0,
            2.796358605054868
           ],
           "showline": true,
           "visible": true
          },
          "yaxis": {
           "showline": false,
           "visible": true
          }
         },
         "name": "2002.0"
        },
        {
         "data": [
          {
           "cliponaxis": false,
           "hoverinfo": "all",
           "hovertemplate": "<extra></extra>",
           "marker": {
            "color": [
             "rgb(211, 204, 10)",
             "rgb(150, 151, 216)",
             "rgb(159, 187, 46)",
             "rgb(168, 188, 233)",
             "rgb(187, 33, 74)",
             "rgb(101, 84, 175)",
             "rgb(244, 253, 14)",
             "rgb(193, 54, 57)",
             "rgb(253, 5, 9)",
             "rgb(131, 143, 4)"
            ]
           },
           "orientation": "h",
           "textangle": 0,
           "textposition": "outside",
           "texttemplate": "%{y}<br>%{x:.4s}",
           "type": "bar",
           "x": [
            1.020106685335022,
            1.0497129223965398,
            1.051065535567698,
            1.0984893371560656,
            1.0993684957865837,
            1.1365903819140273,
            1.1370635087602423,
            1.138117036597784,
            1.141220885476117,
            1.1624204770873334
           ],
           "y": [
            "Éphémère (Cranberry)",
            "Trappistes Rochefort 10",
            "Thornbury Pickup No. 26 Pilsener",
            "Brooklyn Black Chocolate Stout",
            "Hancock Old Gambrinus Beer Dark",
            "Harvest Ale (Limited Edition)",
            "Trafalgar Winter Warmer",
            "Tsingtao Dark",
            "Ørbæk Påskebryg",
            "Val-Dieu Triple"
           ]
          }
         ],
         "layout": {
          "bargap": 0.15,
          "font": {
           "size": 14
          },
          "plot_bgcolor": "#FFFFFF",
          "title": {
           "text": "Top 10 beers in the world from 2000 to 2017"
          },
          "xaxis": {
           "range": [
            0,
            2.796358605054868
           ],
           "showline": true,
           "visible": true
          },
          "yaxis": {
           "showline": false,
           "visible": true
          }
         },
         "name": "2003.0"
        },
        {
         "data": [
          {
           "cliponaxis": false,
           "hoverinfo": "all",
           "hovertemplate": "<extra></extra>",
           "marker": {
            "color": [
             "rgb(177, 112, 137)",
             "rgb(14, 116, 166)",
             "rgb(92, 104, 39)",
             "rgb(150, 151, 216)",
             "rgb(192, 114, 108)",
             "rgb(255, 148, 5)",
             "rgb(108, 150, 16)",
             "rgb(183, 69, 154)",
             "rgb(211, 204, 10)",
             "rgb(130, 69, 171)"
            ]
           },
           "orientation": "h",
           "textangle": 0,
           "textposition": "outside",
           "texttemplate": "%{y}<br>%{x:.4s}",
           "type": "bar",
           "x": [
            1.1189133450981463,
            1.1516669950713043,
            1.1528166236042097,
            1.1716356265310237,
            1.1741023273154845,
            1.1760713745592537,
            1.217131086340976,
            1.276741053311066,
            1.3539639927626284,
            1.7084785431180471
           ],
           "y": [
            "Bièropholie Bock Émissaire",
            "Unibroue Seigneuriale",
            "Yo-Ho Yona Yona Ale",
            "Trappistes Rochefort 10",
            "Coopers Sparkling Ale",
            "De Dolle Speciaal Brouwsel 20",
            "Dieu du Ciel Péché Mortel",
            "Olands Export Ale",
            "Éphémère (Cranberry)",
            "Picaroons Irish Red"
           ]
          }
         ],
         "layout": {
          "bargap": 0.15,
          "font": {
           "size": 14
          },
          "plot_bgcolor": "#FFFFFF",
          "title": {
           "text": "Top 10 beers in the world from 2000 to 2017"
          },
          "xaxis": {
           "range": [
            0,
            2.796358605054868
           ],
           "showline": true,
           "visible": true
          },
          "yaxis": {
           "showline": false,
           "visible": true
          }
         },
         "name": "2004.0"
        },
        {
         "data": [
          {
           "cliponaxis": false,
           "hoverinfo": "all",
           "hovertemplate": "<extra></extra>",
           "marker": {
            "color": [
             "rgb(158, 7, 231)",
             "rgb(175, 99, 106)",
             "rgb(168, 188, 233)",
             "rgb(172, 192, 179)",
             "rgb(13, 125, 195)",
             "rgb(6, 191, 72)",
             "rgb(189, 127, 165)",
             "rgb(246, 243, 8)",
             "rgb(215, 78, 247)",
             "rgb(127, 46, 87)"
            ]
           },
           "orientation": "h",
           "textangle": 0,
           "textposition": "outside",
           "texttemplate": "%{y}<br>%{x:.4s}",
           "type": "bar",
           "x": [
            1.128126928846783,
            1.1301521826016678,
            1.146847234543368,
            1.148323250291148,
            1.1483720433411242,
            1.1580044374770952,
            1.187508763872131,
            1.2330532509224803,
            1.3158032691133454,
            1.3961302319078674
           ],
           "y": [
            "WinterCoat Oatmeal Stout",
            "Mai Bock",
            "Brooklyn Black Chocolate Stout",
            "Cantillon Spuyten Duyvil",
            "Scotch Irish Tsarina Katarina Imperial Stout",
            "Fuller's Special Edition ESB",
            "Lions Winter Ale",
            "Ursus Pils",
            "Gale's Jubilee Ale (2002)",
            "Panil Barriquée  (Italy Version)"
           ]
          }
         ],
         "layout": {
          "bargap": 0.15,
          "font": {
           "size": 14
          },
          "plot_bgcolor": "#FFFFFF",
          "title": {
           "text": "Top 10 beers in the world from 2000 to 2017"
          },
          "xaxis": {
           "range": [
            0,
            2.796358605054868
           ],
           "showline": true,
           "visible": true
          },
          "yaxis": {
           "showline": false,
           "visible": true
          }
         },
         "name": "2005.0"
        },
        {
         "data": [
          {
           "cliponaxis": false,
           "hoverinfo": "all",
           "hovertemplate": "<extra></extra>",
           "marker": {
            "color": [
             "rgb(202, 116, 233)",
             "rgb(221, 142, 155)",
             "rgb(194, 249, 163)",
             "rgb(20, 186, 13)",
             "rgb(2, 139, 78)",
             "rgb(3, 2, 235)",
             "rgb(229, 206, 87)",
             "rgb(75, 155, 50)",
             "rgb(44, 243, 192)",
             "rgb(157, 45, 52)"
            ]
           },
           "orientation": "h",
           "textangle": 0,
           "textposition": "outside",
           "texttemplate": "%{y}<br>%{x:.4s}",
           "type": "bar",
           "x": [
            1.1013018745460426,
            1.1081949452181952,
            1.10970020597058,
            1.1429170607485464,
            1.1814772124502742,
            1.1951664258337198,
            1.224148644787213,
            1.224792193965514,
            1.2294622768994474,
            1.2311662394036298
           ],
           "y": [
            "Smuggler's Ale",
            "Little Creatures Pale Ale",
            "Nickel Brook Ale (pre 2009)",
            "Bièropholie IPA",
            "Granville Island GIBitter",
            "Urbock 23°",
            "Birrificio Italiano Tipopils",
            "Phillips Amnesiac Double IPA",
            "Bedondaine et Bedons Ronds Reyne Descosse",
            "Lakeport Pilsener"
           ]
          }
         ],
         "layout": {
          "bargap": 0.15,
          "font": {
           "size": 14
          },
          "plot_bgcolor": "#FFFFFF",
          "title": {
           "text": "Top 10 beers in the world from 2000 to 2017"
          },
          "xaxis": {
           "range": [
            0,
            2.796358605054868
           ],
           "showline": true,
           "visible": true
          },
          "yaxis": {
           "showline": false,
           "visible": true
          }
         },
         "name": "2006.0"
        },
        {
         "data": [
          {
           "cliponaxis": false,
           "hoverinfo": "all",
           "hovertemplate": "<extra></extra>",
           "marker": {
            "color": [
             "rgb(155, 170, 190)",
             "rgb(61, 53, 237)",
             "rgb(148, 182, 173)",
             "rgb(158, 236, 154)",
             "rgb(3, 180, 111)",
             "rgb(118, 203, 241)",
             "rgb(22, 122, 77)",
             "rgb(233, 122, 236)",
             "rgb(198, 88, 201)",
             "rgb(245, 145, 222)"
            ]
           },
           "orientation": "h",
           "textangle": 0,
           "textposition": "outside",
           "texttemplate": "%{y}<br>%{x:.4s}",
           "type": "bar",
           "x": [
            1.2396660302431133,
            1.2500517929893469,
            1.2669803376987006,
            1.2687902499092345,
            1.2801873813826143,
            1.296022595401119,
            1.3128778567226451,
            1.321458650317355,
            1.3320290468008888,
            1.4208028086796662
           ],
           "y": [
            "Sanctification",
            "Drie Fonteinen Millennium Geuze",
            "La Lièvre IPA",
            "Ølfabrikken Gammel Ekstra Porter",
            "Abbaye De Saint Bon-Chien",
            "Schneider Weisse Tap 1 Mein Blondes",
            "Side Launch Wheat",
            "Original Stieglbock",
            "Les Trois Mousquetaires G.C. Porter Baltique",
            "Innis & Gunn Limited Edition 2005"
           ]
          }
         ],
         "layout": {
          "bargap": 0.15,
          "font": {
           "size": 14
          },
          "plot_bgcolor": "#FFFFFF",
          "title": {
           "text": "Top 10 beers in the world from 2000 to 2017"
          },
          "xaxis": {
           "range": [
            0,
            2.796358605054868
           ],
           "showline": true,
           "visible": true
          },
          "yaxis": {
           "showline": false,
           "visible": true
          }
         },
         "name": "2007.0"
        },
        {
         "data": [
          {
           "cliponaxis": false,
           "hoverinfo": "all",
           "hovertemplate": "<extra></extra>",
           "marker": {
            "color": [
             "rgb(148, 242, 236)",
             "rgb(144, 118, 9)",
             "rgb(152, 112, 214)",
             "rgb(33, 27, 22)",
             "rgb(155, 19, 171)",
             "rgb(233, 214, 160)",
             "rgb(149, 58, 107)",
             "rgb(66, 43, 74)",
             "rgb(98, 140, 207)",
             "rgb(90, 50, 29)"
            ]
           },
           "orientation": "h",
           "textangle": 0,
           "textposition": "outside",
           "texttemplate": "%{y}<br>%{x:.4s}",
           "type": "bar",
           "x": [
            1.1670864372733072,
            1.1766039835149418,
            1.1919126098650494,
            1.2012607567449864,
            1.2064338315271683,
            1.207766811476634,
            1.2547272238898888,
            1.377381643490348,
            1.391734911093819,
            1.4392218691560568
           ],
           "y": [
            "Old Crafty Hen",
            "Neumarkter Lammsbräu (Organic) Dunkel",
            "Terrapin Big Sloppy Monster",
            "Baladin Xyauyù Etichetta Rame (Copper Label)",
            "Consecration",
            "Half Pints Bulldog Amber Ale",
            "Baeren Rye",
            "Mean Manalishi Double I.P.A.",
            "Alley Kat Bad Hare Day",
            "Kosmyk Charlie's Y2K Catastrophe Ale"
           ]
          }
         ],
         "layout": {
          "bargap": 0.15,
          "font": {
           "size": 14
          },
          "plot_bgcolor": "#FFFFFF",
          "title": {
           "text": "Top 10 beers in the world from 2000 to 2017"
          },
          "xaxis": {
           "range": [
            0,
            2.796358605054868
           ],
           "showline": true,
           "visible": true
          },
          "yaxis": {
           "showline": false,
           "visible": true
          }
         },
         "name": "2008.0"
        },
        {
         "data": [
          {
           "cliponaxis": false,
           "hoverinfo": "all",
           "hovertemplate": "<extra></extra>",
           "marker": {
            "color": [
             "rgb(196, 140, 16)",
             "rgb(100, 58, 144)",
             "rgb(248, 109, 137)",
             "rgb(23, 132, 61)",
             "rgb(167, 217, 103)",
             "rgb(221, 39, 8)",
             "rgb(255, 63, 168)",
             "rgb(179, 199, 169)",
             "rgb(67, 25, 57)",
             "rgb(187, 66, 183)"
            ]
           },
           "orientation": "h",
           "textangle": 0,
           "textposition": "outside",
           "texttemplate": "%{y}<br>%{x:.4s}",
           "type": "bar",
           "x": [
            1.2338471807274276,
            1.2393466430040996,
            1.2454384142571973,
            1.2469121186642012,
            1.2824851557175203,
            1.325754327205307,
            1.3561829163911925,
            1.372316618062027,
            1.381964656606547,
            1.8194648164280256
           ],
           "y": [
            "Søgaards Trippel",
            "Primátor Premium",
            "Dieu du Ciel Solstice dÉté aux Framboises",
            "Southampton Grand Cru",
            "Driftwood Sartori Harvest IPA",
            "Granville Island Merry Monks Dopplebock",
            "RJ Le Cheval Blanc Snoreau",
            "Old Engine Oil Special Reserve (Aged In Malt Whiskey Casks)",
            "Borefts Bok 2009",
            "Lvivske Porter"
           ]
          }
         ],
         "layout": {
          "bargap": 0.15,
          "font": {
           "size": 14
          },
          "plot_bgcolor": "#FFFFFF",
          "title": {
           "text": "Top 10 beers in the world from 2000 to 2017"
          },
          "xaxis": {
           "range": [
            0,
            2.796358605054868
           ],
           "showline": true,
           "visible": true
          },
          "yaxis": {
           "showline": false,
           "visible": true
          }
         },
         "name": "2009.0"
        },
        {
         "data": [
          {
           "cliponaxis": false,
           "hoverinfo": "all",
           "hovertemplate": "<extra></extra>",
           "marker": {
            "color": [
             "rgb(36, 99, 102)",
             "rgb(44, 190, 135)",
             "rgb(85, 247, 185)",
             "rgb(63, 91, 232)",
             "rgb(16, 87, 237)",
             "rgb(106, 158, 223)",
             "rgb(140, 29, 251)",
             "rgb(157, 220, 49)",
             "rgb(169, 178, 41)",
             "rgb(32, 28, 153)"
            ]
           },
           "orientation": "h",
           "textangle": 0,
           "textposition": "outside",
           "texttemplate": "%{y}<br>%{x:.4s}",
           "type": "bar",
           "x": [
            1.289513947212004,
            1.3022892741280632,
            1.3504165952011944,
            1.3695815104674731,
            1.4186131609391872,
            1.4294349003691191,
            1.5284823417762363,
            1.5542583799019265,
            1.7288080087834743,
            1.7654250681805317
           ],
           "y": [
            "Captivator Doppelbock",
            "Toccalmatto Sibilla",
            "Birrificio del Ducato LUltima Luna",
            "La Trappe Quadrupel (Oak Aged)",
            "Toccalmatto Stray Dog No Rules Bitter",
            "Charlevoix Dominus Vobiscum Brut",
            "Birra del Borgo ReAle Extra",
            "Saison Du Tracteur",
            "Bedondaine et Bedons Ronds Reyne Descosse Gelée",
            "Piccolo Birrificio Ego"
           ]
          }
         ],
         "layout": {
          "bargap": 0.15,
          "font": {
           "size": 14
          },
          "plot_bgcolor": "#FFFFFF",
          "title": {
           "text": "Top 10 beers in the world from 2000 to 2017"
          },
          "xaxis": {
           "range": [
            0,
            2.796358605054868
           ],
           "showline": true,
           "visible": true
          },
          "yaxis": {
           "showline": false,
           "visible": true
          }
         },
         "name": "2010.0"
        },
        {
         "data": [
          {
           "cliponaxis": false,
           "hoverinfo": "all",
           "hovertemplate": "<extra></extra>",
           "marker": {
            "color": [
             "rgb(184, 123, 99)",
             "rgb(164, 92, 117)",
             "rgb(196, 209, 73)",
             "rgb(51, 83, 5)",
             "rgb(176, 51, 159)",
             "rgb(40, 167, 17)",
             "rgb(154, 83, 40)",
             "rgb(185, 60, 23)",
             "rgb(61, 53, 237)",
             "rgb(224, 219, 47)"
            ]
           },
           "orientation": "h",
           "textangle": 0,
           "textposition": "outside",
           "texttemplate": "%{y}<br>%{x:.4s}",
           "type": "bar",
           "x": [
            1.2600744288590362,
            1.265080505108473,
            1.301966246878607,
            1.3262397837477289,
            1.333344904716972,
            1.347954076030384,
            1.3505600121785313,
            1.4710240611434864,
            1.703014364073218,
            2.253825333425378
           ],
           "y": [
            "Tipo Pils",
            "Cantillon Blåbær Lambik",
            "Les Brasseurs du Temps Mea Magna Culpa",
            "Cantillon Don Quijote",
            "Ølfabrikken Petit Blau",
            "Montegioco Quarta Runa",
            "Eichbaum Pilsener",
            "Drie Fonteinen Oude Geuze 1998 (50th Anniversary)",
            "Drie Fonteinen Millennium Geuze",
            "Beer Here / Raasted Bukkake"
           ]
          }
         ],
         "layout": {
          "bargap": 0.15,
          "font": {
           "size": 14
          },
          "plot_bgcolor": "#FFFFFF",
          "title": {
           "text": "Top 10 beers in the world from 2000 to 2017"
          },
          "xaxis": {
           "range": [
            0,
            2.796358605054868
           ],
           "showline": true,
           "visible": true
          },
          "yaxis": {
           "showline": false,
           "visible": true
          }
         },
         "name": "2011.0"
        },
        {
         "data": [
          {
           "cliponaxis": false,
           "hoverinfo": "all",
           "hovertemplate": "<extra></extra>",
           "marker": {
            "color": [
             "rgb(52, 89, 248)",
             "rgb(178, 31, 247)",
             "rgb(82, 152, 248)",
             "rgb(150, 200, 97)",
             "rgb(128, 125, 250)",
             "rgb(185, 60, 23)",
             "rgb(0, 90, 135)",
             "rgb(134, 65, 196)",
             "rgb(47, 81, 192)",
             "rgb(148, 184, 20)"
            ]
           },
           "orientation": "h",
           "textangle": 0,
           "textposition": "outside",
           "texttemplate": "%{y}<br>%{x:.4s}",
           "type": "bar",
           "x": [
            1.3265020252683697,
            1.3490384193077791,
            1.364564975250266,
            1.3688333984444223,
            1.369805348429683,
            1.3975667870645416,
            1.4323060786846682,
            1.457841090882981,
            1.4672320479745289,
            1.5564273480419248
           ],
           "y": [
            "Ann",
            "Depuration",
            "Black Tokyo Horizon",
            "Le Cheval Blanc Double Bonheur",
            "Whistler Chocolate Winter Dunkel",
            "Drie Fonteinen Oude Geuze 1998 (50th Anniversary)",
            "Watermelon Warhead",
            "Kamenitza Lev",
            "L'Amoureuse Rouge",
            "Cantillon Loerik"
           ]
          }
         ],
         "layout": {
          "bargap": 0.15,
          "font": {
           "size": 14
          },
          "plot_bgcolor": "#FFFFFF",
          "title": {
           "text": "Top 10 beers in the world from 2000 to 2017"
          },
          "xaxis": {
           "range": [
            0,
            2.796358605054868
           ],
           "showline": true,
           "visible": true
          },
          "yaxis": {
           "showline": false,
           "visible": true
          }
         },
         "name": "2012.0"
        },
        {
         "data": [
          {
           "cliponaxis": false,
           "hoverinfo": "all",
           "hovertemplate": "<extra></extra>",
           "marker": {
            "color": [
             "rgb(209, 26, 155)",
             "rgb(127, 178, 104)",
             "rgb(225, 249, 227)",
             "rgb(10, 101, 122)",
             "rgb(94, 125, 225)",
             "rgb(204, 60, 127)",
             "rgb(87, 106, 185)",
             "rgb(191, 3, 117)",
             "rgb(95, 185, 113)",
             "rgb(103, 245, 186)"
            ]
           },
           "orientation": "h",
           "textangle": 0,
           "textposition": "outside",
           "texttemplate": "%{y}<br>%{x:.4s}",
           "type": "bar",
           "x": [
            1.3746493096975472,
            1.4041402200725015,
            1.4570126267878116,
            1.4741651011372767,
            1.493197763699144,
            1.5596210420758312,
            1.6521573868793042,
            1.6747480446151457,
            1.784840369968013,
            2.510691214725717
           ],
           "y": [
            "Tamamura-Honten Yamabushi Saison 1 Aged in Oak Barrels",
            "Rapture",
            "Cantillon Bruocsella (1900) Grand Cru",
            "Brasseurs du Monde Gamme Festive Célébrante",
            "Innis & Gunn Spiced Rum Aged",
            "Bavarias Best Imperial Stout",
            "Collesi 1970 Ambrata",
            "Svaneke Julebryg",
            "Edward",
            "Birra del Borgo Perle ai Porci (Pearls for Pigs)"
           ]
          }
         ],
         "layout": {
          "bargap": 0.15,
          "font": {
           "size": 14
          },
          "plot_bgcolor": "#FFFFFF",
          "title": {
           "text": "Top 10 beers in the world from 2000 to 2017"
          },
          "xaxis": {
           "range": [
            0,
            2.796358605054868
           ],
           "showline": true,
           "visible": true
          },
          "yaxis": {
           "showline": false,
           "visible": true
          }
         },
         "name": "2013.0"
        },
        {
         "data": [
          {
           "cliponaxis": false,
           "hoverinfo": "all",
           "hovertemplate": "<extra></extra>",
           "marker": {
            "color": [
             "rgb(122, 151, 185)",
             "rgb(140, 220, 239)",
             "rgb(164, 92, 117)",
             "rgb(10, 220, 88)",
             "rgb(168, 177, 57)",
             "rgb(151, 1, 104)",
             "rgb(172, 192, 179)",
             "rgb(56, 146, 244)",
             "rgb(223, 193, 233)",
             "rgb(9, 48, 56)"
            ]
           },
           "orientation": "h",
           "textangle": 0,
           "textposition": "outside",
           "texttemplate": "%{y}<br>%{x:.4s}",
           "type": "bar",
           "x": [
            1.481905996838515,
            1.4953778917662726,
            1.498668519392976,
            1.5958805494661334,
            1.6764028325986928,
            1.7425096415533683,
            1.7429667157083328,
            1.8860097723067208,
            1.9268002384767275,
            2.796358605054868
           ],
           "y": [
            "Cantillon Crianza Helena",
            "Melbourne Bitter",
            "Cantillon Blåbær Lambik",
            "Schneider Weisse Tap 6 Unser Aventinus",
            "Minerva Colonial",
            "Wicked Juju",
            "Cantillon Spuyten Duyvil",
            "Extraomnes Saison",
            "Molson Standard Lager",
            "Mandøl Smagen af Mandø"
           ]
          }
         ],
         "layout": {
          "bargap": 0.15,
          "font": {
           "size": 14
          },
          "plot_bgcolor": "#FFFFFF",
          "title": {
           "text": "Top 10 beers in the world from 2000 to 2017"
          },
          "xaxis": {
           "range": [
            0,
            2.796358605054868
           ],
           "showline": true,
           "visible": true
          },
          "yaxis": {
           "showline": false,
           "visible": true
          }
         },
         "name": "2014.0"
        },
        {
         "data": [
          {
           "cliponaxis": false,
           "hoverinfo": "all",
           "hovertemplate": "<extra></extra>",
           "marker": {
            "color": [
             "rgb(167, 217, 103)",
             "rgb(151, 24, 223)",
             "rgb(132, 215, 146)",
             "rgb(166, 214, 124)",
             "rgb(155, 170, 190)",
             "rgb(214, 159, 25)",
             "rgb(252, 106, 214)",
             "rgb(188, 34, 39)",
             "rgb(45, 241, 11)",
             "rgb(181, 220, 33)"
            ]
           },
           "orientation": "h",
           "textangle": 0,
           "textposition": "outside",
           "texttemplate": "%{y}<br>%{x:.4s}",
           "type": "bar",
           "x": [
            1.5676276553776711,
            1.5751038516002658,
            1.622719541991331,
            1.623539297914094,
            1.6258817104558627,
            1.6387533424741991,
            1.6738321718245197,
            1.70740160723289,
            1.7625116163067636,
            1.82482572270457
           ],
           "y": [
            "Driftwood Sartori Harvest IPA",
            "Flying Monkeys City and Colour",
            "Buxton / Omnipollo Yellow Belly Sundae",
            "Dunham Saison Réserve",
            "Sanctification",
            "Charlevoix Dominus Vobiscum Lupulus",
            "Saison Bernice",
            "Unibroue Blanche de Chambly",
            "Four Winds Phaedra Rye Wheat IPA",
            "Opperbacco Blanche de Lotario"
           ]
          }
         ],
         "layout": {
          "bargap": 0.15,
          "font": {
           "size": 14
          },
          "plot_bgcolor": "#FFFFFF",
          "title": {
           "text": "Top 10 beers in the world from 2000 to 2017"
          },
          "xaxis": {
           "range": [
            0,
            2.796358605054868
           ],
           "showline": true,
           "visible": true
          },
          "yaxis": {
           "showline": false,
           "visible": true
          }
         },
         "name": "2015.0"
        },
        {
         "data": [
          {
           "cliponaxis": false,
           "hoverinfo": "all",
           "hovertemplate": "<extra></extra>",
           "marker": {
            "color": [
             "rgb(79, 106, 20)",
             "rgb(2, 185, 173)",
             "rgb(188, 254, 11)",
             "rgb(52, 150, 101)",
             "rgb(37, 150, 205)",
             "rgb(103, 232, 233)",
             "rgb(214, 159, 25)",
             "rgb(130, 144, 93)",
             "rgb(88, 73, 58)",
             "rgb(224, 228, 180)"
            ]
           },
           "orientation": "h",
           "textangle": 0,
           "textposition": "outside",
           "texttemplate": "%{y}<br>%{x:.4s}",
           "type": "bar",
           "x": [
            1.6309133236150697,
            1.6327746884700929,
            1.65167625476196,
            1.9003550471197763,
            1.9148003899577124,
            1.932732074470068,
            1.9683048585754683,
            2.0956611027231538,
            2.32265547193058,
            2.330646926702521
           ],
           "y": [
            "Aardmonnik - Earthmonk",
            "Hors Série Ceci N'est Pas Une Gueuze",
            "Frejdahl Gudmund",
            "To Øl Passion Of The Weisst",
            "Xyauyù Etichetta Rame (Copper)",
            "Skovlyst Julebryg",
            "Charlevoix Dominus Vobiscum Lupulus",
            "Ghost Black Beast",
            "Skovlyst Lossen",
            "Indie Alehouse Zombie Apocalypse (Bourbon)"
           ]
          }
         ],
         "layout": {
          "bargap": 0.15,
          "font": {
           "size": 14
          },
          "plot_bgcolor": "#FFFFFF",
          "title": {
           "text": "Top 10 beers in the world from 2000 to 2017"
          },
          "xaxis": {
           "range": [
            0,
            2.796358605054868
           ],
           "showline": true,
           "visible": true
          },
          "yaxis": {
           "showline": false,
           "visible": true
          }
         },
         "name": "2016.0"
        },
        {
         "data": [
          {
           "cliponaxis": false,
           "hoverinfo": "all",
           "hovertemplate": "<extra></extra>",
           "marker": {
            "color": [
             "rgb(167, 135, 35)",
             "rgb(109, 6, 103)",
             "rgb(241, 248, 217)",
             "rgb(143, 252, 91)",
             "rgb(17, 172, 240)",
             "rgb(190, 56, 230)",
             "rgb(184, 2, 18)",
             "rgb(127, 63, 112)",
             "rgb(38, 170, 47)",
             "rgb(153, 240, 0)"
            ]
           },
           "orientation": "h",
           "textangle": 0,
           "textposition": "outside",
           "texttemplate": "%{y}<br>%{x:.4s}",
           "type": "bar",
           "x": [
            1.5461166604658836,
            1.547184850088554,
            1.5563119039202395,
            1.581953108750554,
            1.6360558401007417,
            1.654410184218145,
            1.7331561781565548,
            1.7420509005188278,
            1.778935444645838,
            1.8188611526235283
           ],
           "y": [
            "LoverBeer A Renna Glüh",
            "Benelux Moisson (2011)",
            "Birrificio Italiano Nigredo (Negra 3.0)",
            "Midtfyns Jule Stout",
            "Amager / Lervig Brown Boobies Falling",
            "RJ Le Cheval Blanc Double Blanche (IPA belge)",
            "Double Nelson",
            "Thisted Thy Ale",
            "Pladderballe Brodtgaard Basement Reserve",
            "Coedo / Stone / Garage Project Tsuyu Saison"
           ]
          }
         ],
         "layout": {
          "bargap": 0.15,
          "font": {
           "size": 14
          },
          "plot_bgcolor": "#FFFFFF",
          "title": {
           "text": "Top 10 beers in the world from 2000 to 2017"
          },
          "xaxis": {
           "range": [
            0,
            2.796358605054868
           ],
           "showline": true,
           "visible": true
          },
          "yaxis": {
           "showline": false,
           "visible": true
          }
         },
         "name": "2017.0"
        }
       ],
       "layout": {
        "bargap": 0.15,
        "font": {
         "size": 14
        },
        "plot_bgcolor": "#FFFFFF",
        "sliders": [
         {
          "active": 0,
          "currentvalue": {
           "font": {
            "size": 20
           },
           "prefix": "Date: ",
           "visible": true,
           "xanchor": "right"
          },
          "len": 0.9,
          "pad": {
           "b": 10,
           "t": 50
          },
          "steps": [
           {
            "args": [
             [
              "2000.0"
             ],
             {
              "frame": {
               "duration": 800,
               "redraw": false
              },
              "mode": "immediate",
              "transition": {
               "duration": 800
              }
             }
            ],
            "label": "2000.0",
            "method": "animate"
           },
           {
            "args": [
             [
              "2001.0"
             ],
             {
              "frame": {
               "duration": 800,
               "redraw": false
              },
              "mode": "immediate",
              "transition": {
               "duration": 800
              }
             }
            ],
            "label": "2001.0",
            "method": "animate"
           },
           {
            "args": [
             [
              "2002.0"
             ],
             {
              "frame": {
               "duration": 800,
               "redraw": false
              },
              "mode": "immediate",
              "transition": {
               "duration": 800
              }
             }
            ],
            "label": "2002.0",
            "method": "animate"
           },
           {
            "args": [
             [
              "2003.0"
             ],
             {
              "frame": {
               "duration": 800,
               "redraw": false
              },
              "mode": "immediate",
              "transition": {
               "duration": 800
              }
             }
            ],
            "label": "2003.0",
            "method": "animate"
           },
           {
            "args": [
             [
              "2004.0"
             ],
             {
              "frame": {
               "duration": 800,
               "redraw": false
              },
              "mode": "immediate",
              "transition": {
               "duration": 800
              }
             }
            ],
            "label": "2004.0",
            "method": "animate"
           },
           {
            "args": [
             [
              "2005.0"
             ],
             {
              "frame": {
               "duration": 800,
               "redraw": false
              },
              "mode": "immediate",
              "transition": {
               "duration": 800
              }
             }
            ],
            "label": "2005.0",
            "method": "animate"
           },
           {
            "args": [
             [
              "2006.0"
             ],
             {
              "frame": {
               "duration": 800,
               "redraw": false
              },
              "mode": "immediate",
              "transition": {
               "duration": 800
              }
             }
            ],
            "label": "2006.0",
            "method": "animate"
           },
           {
            "args": [
             [
              "2007.0"
             ],
             {
              "frame": {
               "duration": 800,
               "redraw": false
              },
              "mode": "immediate",
              "transition": {
               "duration": 800
              }
             }
            ],
            "label": "2007.0",
            "method": "animate"
           },
           {
            "args": [
             [
              "2008.0"
             ],
             {
              "frame": {
               "duration": 800,
               "redraw": false
              },
              "mode": "immediate",
              "transition": {
               "duration": 800
              }
             }
            ],
            "label": "2008.0",
            "method": "animate"
           },
           {
            "args": [
             [
              "2009.0"
             ],
             {
              "frame": {
               "duration": 800,
               "redraw": false
              },
              "mode": "immediate",
              "transition": {
               "duration": 800
              }
             }
            ],
            "label": "2009.0",
            "method": "animate"
           },
           {
            "args": [
             [
              "2010.0"
             ],
             {
              "frame": {
               "duration": 800,
               "redraw": false
              },
              "mode": "immediate",
              "transition": {
               "duration": 800
              }
             }
            ],
            "label": "2010.0",
            "method": "animate"
           },
           {
            "args": [
             [
              "2011.0"
             ],
             {
              "frame": {
               "duration": 800,
               "redraw": false
              },
              "mode": "immediate",
              "transition": {
               "duration": 800
              }
             }
            ],
            "label": "2011.0",
            "method": "animate"
           },
           {
            "args": [
             [
              "2012.0"
             ],
             {
              "frame": {
               "duration": 800,
               "redraw": false
              },
              "mode": "immediate",
              "transition": {
               "duration": 800
              }
             }
            ],
            "label": "2012.0",
            "method": "animate"
           },
           {
            "args": [
             [
              "2013.0"
             ],
             {
              "frame": {
               "duration": 800,
               "redraw": false
              },
              "mode": "immediate",
              "transition": {
               "duration": 800
              }
             }
            ],
            "label": "2013.0",
            "method": "animate"
           },
           {
            "args": [
             [
              "2014.0"
             ],
             {
              "frame": {
               "duration": 800,
               "redraw": false
              },
              "mode": "immediate",
              "transition": {
               "duration": 800
              }
             }
            ],
            "label": "2014.0",
            "method": "animate"
           },
           {
            "args": [
             [
              "2015.0"
             ],
             {
              "frame": {
               "duration": 800,
               "redraw": false
              },
              "mode": "immediate",
              "transition": {
               "duration": 800
              }
             }
            ],
            "label": "2015.0",
            "method": "animate"
           },
           {
            "args": [
             [
              "2016.0"
             ],
             {
              "frame": {
               "duration": 800,
               "redraw": false
              },
              "mode": "immediate",
              "transition": {
               "duration": 800
              }
             }
            ],
            "label": "2016.0",
            "method": "animate"
           },
           {
            "args": [
             [
              "2017.0"
             ],
             {
              "frame": {
               "duration": 800,
               "redraw": false
              },
              "mode": "immediate",
              "transition": {
               "duration": 800
              }
             }
            ],
            "label": "2017.0",
            "method": "animate"
           }
          ],
          "transition": {
           "duration": 300,
           "easing": "cubic-in-out"
          },
          "x": 0.1,
          "xanchor": "left",
          "y": 0,
          "yanchor": "top"
         }
        ],
        "template": {
         "data": {
          "bar": [
           {
            "error_x": {
             "color": "#2a3f5f"
            },
            "error_y": {
             "color": "#2a3f5f"
            },
            "marker": {
             "line": {
              "color": "#E5ECF6",
              "width": 0.5
             },
             "pattern": {
              "fillmode": "overlay",
              "size": 10,
              "solidity": 0.2
             }
            },
            "type": "bar"
           }
          ],
          "barpolar": [
           {
            "marker": {
             "line": {
              "color": "#E5ECF6",
              "width": 0.5
             },
             "pattern": {
              "fillmode": "overlay",
              "size": 10,
              "solidity": 0.2
             }
            },
            "type": "barpolar"
           }
          ],
          "carpet": [
           {
            "aaxis": {
             "endlinecolor": "#2a3f5f",
             "gridcolor": "white",
             "linecolor": "white",
             "minorgridcolor": "white",
             "startlinecolor": "#2a3f5f"
            },
            "baxis": {
             "endlinecolor": "#2a3f5f",
             "gridcolor": "white",
             "linecolor": "white",
             "minorgridcolor": "white",
             "startlinecolor": "#2a3f5f"
            },
            "type": "carpet"
           }
          ],
          "choropleth": [
           {
            "colorbar": {
             "outlinewidth": 0,
             "ticks": ""
            },
            "type": "choropleth"
           }
          ],
          "contour": [
           {
            "colorbar": {
             "outlinewidth": 0,
             "ticks": ""
            },
            "colorscale": [
             [
              0,
              "#0d0887"
             ],
             [
              0.1111111111111111,
              "#46039f"
             ],
             [
              0.2222222222222222,
              "#7201a8"
             ],
             [
              0.3333333333333333,
              "#9c179e"
             ],
             [
              0.4444444444444444,
              "#bd3786"
             ],
             [
              0.5555555555555556,
              "#d8576b"
             ],
             [
              0.6666666666666666,
              "#ed7953"
             ],
             [
              0.7777777777777778,
              "#fb9f3a"
             ],
             [
              0.8888888888888888,
              "#fdca26"
             ],
             [
              1,
              "#f0f921"
             ]
            ],
            "type": "contour"
           }
          ],
          "contourcarpet": [
           {
            "colorbar": {
             "outlinewidth": 0,
             "ticks": ""
            },
            "type": "contourcarpet"
           }
          ],
          "heatmap": [
           {
            "colorbar": {
             "outlinewidth": 0,
             "ticks": ""
            },
            "colorscale": [
             [
              0,
              "#0d0887"
             ],
             [
              0.1111111111111111,
              "#46039f"
             ],
             [
              0.2222222222222222,
              "#7201a8"
             ],
             [
              0.3333333333333333,
              "#9c179e"
             ],
             [
              0.4444444444444444,
              "#bd3786"
             ],
             [
              0.5555555555555556,
              "#d8576b"
             ],
             [
              0.6666666666666666,
              "#ed7953"
             ],
             [
              0.7777777777777778,
              "#fb9f3a"
             ],
             [
              0.8888888888888888,
              "#fdca26"
             ],
             [
              1,
              "#f0f921"
             ]
            ],
            "type": "heatmap"
           }
          ],
          "heatmapgl": [
           {
            "colorbar": {
             "outlinewidth": 0,
             "ticks": ""
            },
            "colorscale": [
             [
              0,
              "#0d0887"
             ],
             [
              0.1111111111111111,
              "#46039f"
             ],
             [
              0.2222222222222222,
              "#7201a8"
             ],
             [
              0.3333333333333333,
              "#9c179e"
             ],
             [
              0.4444444444444444,
              "#bd3786"
             ],
             [
              0.5555555555555556,
              "#d8576b"
             ],
             [
              0.6666666666666666,
              "#ed7953"
             ],
             [
              0.7777777777777778,
              "#fb9f3a"
             ],
             [
              0.8888888888888888,
              "#fdca26"
             ],
             [
              1,
              "#f0f921"
             ]
            ],
            "type": "heatmapgl"
           }
          ],
          "histogram": [
           {
            "marker": {
             "pattern": {
              "fillmode": "overlay",
              "size": 10,
              "solidity": 0.2
             }
            },
            "type": "histogram"
           }
          ],
          "histogram2d": [
           {
            "colorbar": {
             "outlinewidth": 0,
             "ticks": ""
            },
            "colorscale": [
             [
              0,
              "#0d0887"
             ],
             [
              0.1111111111111111,
              "#46039f"
             ],
             [
              0.2222222222222222,
              "#7201a8"
             ],
             [
              0.3333333333333333,
              "#9c179e"
             ],
             [
              0.4444444444444444,
              "#bd3786"
             ],
             [
              0.5555555555555556,
              "#d8576b"
             ],
             [
              0.6666666666666666,
              "#ed7953"
             ],
             [
              0.7777777777777778,
              "#fb9f3a"
             ],
             [
              0.8888888888888888,
              "#fdca26"
             ],
             [
              1,
              "#f0f921"
             ]
            ],
            "type": "histogram2d"
           }
          ],
          "histogram2dcontour": [
           {
            "colorbar": {
             "outlinewidth": 0,
             "ticks": ""
            },
            "colorscale": [
             [
              0,
              "#0d0887"
             ],
             [
              0.1111111111111111,
              "#46039f"
             ],
             [
              0.2222222222222222,
              "#7201a8"
             ],
             [
              0.3333333333333333,
              "#9c179e"
             ],
             [
              0.4444444444444444,
              "#bd3786"
             ],
             [
              0.5555555555555556,
              "#d8576b"
             ],
             [
              0.6666666666666666,
              "#ed7953"
             ],
             [
              0.7777777777777778,
              "#fb9f3a"
             ],
             [
              0.8888888888888888,
              "#fdca26"
             ],
             [
              1,
              "#f0f921"
             ]
            ],
            "type": "histogram2dcontour"
           }
          ],
          "mesh3d": [
           {
            "colorbar": {
             "outlinewidth": 0,
             "ticks": ""
            },
            "type": "mesh3d"
           }
          ],
          "parcoords": [
           {
            "line": {
             "colorbar": {
              "outlinewidth": 0,
              "ticks": ""
             }
            },
            "type": "parcoords"
           }
          ],
          "pie": [
           {
            "automargin": true,
            "type": "pie"
           }
          ],
          "scatter": [
           {
            "fillpattern": {
             "fillmode": "overlay",
             "size": 10,
             "solidity": 0.2
            },
            "type": "scatter"
           }
          ],
          "scatter3d": [
           {
            "line": {
             "colorbar": {
              "outlinewidth": 0,
              "ticks": ""
             }
            },
            "marker": {
             "colorbar": {
              "outlinewidth": 0,
              "ticks": ""
             }
            },
            "type": "scatter3d"
           }
          ],
          "scattercarpet": [
           {
            "marker": {
             "colorbar": {
              "outlinewidth": 0,
              "ticks": ""
             }
            },
            "type": "scattercarpet"
           }
          ],
          "scattergeo": [
           {
            "marker": {
             "colorbar": {
              "outlinewidth": 0,
              "ticks": ""
             }
            },
            "type": "scattergeo"
           }
          ],
          "scattergl": [
           {
            "marker": {
             "colorbar": {
              "outlinewidth": 0,
              "ticks": ""
             }
            },
            "type": "scattergl"
           }
          ],
          "scattermapbox": [
           {
            "marker": {
             "colorbar": {
              "outlinewidth": 0,
              "ticks": ""
             }
            },
            "type": "scattermapbox"
           }
          ],
          "scatterpolar": [
           {
            "marker": {
             "colorbar": {
              "outlinewidth": 0,
              "ticks": ""
             }
            },
            "type": "scatterpolar"
           }
          ],
          "scatterpolargl": [
           {
            "marker": {
             "colorbar": {
              "outlinewidth": 0,
              "ticks": ""
             }
            },
            "type": "scatterpolargl"
           }
          ],
          "scatterternary": [
           {
            "marker": {
             "colorbar": {
              "outlinewidth": 0,
              "ticks": ""
             }
            },
            "type": "scatterternary"
           }
          ],
          "surface": [
           {
            "colorbar": {
             "outlinewidth": 0,
             "ticks": ""
            },
            "colorscale": [
             [
              0,
              "#0d0887"
             ],
             [
              0.1111111111111111,
              "#46039f"
             ],
             [
              0.2222222222222222,
              "#7201a8"
             ],
             [
              0.3333333333333333,
              "#9c179e"
             ],
             [
              0.4444444444444444,
              "#bd3786"
             ],
             [
              0.5555555555555556,
              "#d8576b"
             ],
             [
              0.6666666666666666,
              "#ed7953"
             ],
             [
              0.7777777777777778,
              "#fb9f3a"
             ],
             [
              0.8888888888888888,
              "#fdca26"
             ],
             [
              1,
              "#f0f921"
             ]
            ],
            "type": "surface"
           }
          ],
          "table": [
           {
            "cells": {
             "fill": {
              "color": "#EBF0F8"
             },
             "line": {
              "color": "white"
             }
            },
            "header": {
             "fill": {
              "color": "#C8D4E3"
             },
             "line": {
              "color": "white"
             }
            },
            "type": "table"
           }
          ]
         },
         "layout": {
          "annotationdefaults": {
           "arrowcolor": "#2a3f5f",
           "arrowhead": 0,
           "arrowwidth": 1
          },
          "autotypenumbers": "strict",
          "coloraxis": {
           "colorbar": {
            "outlinewidth": 0,
            "ticks": ""
           }
          },
          "colorscale": {
           "diverging": [
            [
             0,
             "#8e0152"
            ],
            [
             0.1,
             "#c51b7d"
            ],
            [
             0.2,
             "#de77ae"
            ],
            [
             0.3,
             "#f1b6da"
            ],
            [
             0.4,
             "#fde0ef"
            ],
            [
             0.5,
             "#f7f7f7"
            ],
            [
             0.6,
             "#e6f5d0"
            ],
            [
             0.7,
             "#b8e186"
            ],
            [
             0.8,
             "#7fbc41"
            ],
            [
             0.9,
             "#4d9221"
            ],
            [
             1,
             "#276419"
            ]
           ],
           "sequential": [
            [
             0,
             "#0d0887"
            ],
            [
             0.1111111111111111,
             "#46039f"
            ],
            [
             0.2222222222222222,
             "#7201a8"
            ],
            [
             0.3333333333333333,
             "#9c179e"
            ],
            [
             0.4444444444444444,
             "#bd3786"
            ],
            [
             0.5555555555555556,
             "#d8576b"
            ],
            [
             0.6666666666666666,
             "#ed7953"
            ],
            [
             0.7777777777777778,
             "#fb9f3a"
            ],
            [
             0.8888888888888888,
             "#fdca26"
            ],
            [
             1,
             "#f0f921"
            ]
           ],
           "sequentialminus": [
            [
             0,
             "#0d0887"
            ],
            [
             0.1111111111111111,
             "#46039f"
            ],
            [
             0.2222222222222222,
             "#7201a8"
            ],
            [
             0.3333333333333333,
             "#9c179e"
            ],
            [
             0.4444444444444444,
             "#bd3786"
            ],
            [
             0.5555555555555556,
             "#d8576b"
            ],
            [
             0.6666666666666666,
             "#ed7953"
            ],
            [
             0.7777777777777778,
             "#fb9f3a"
            ],
            [
             0.8888888888888888,
             "#fdca26"
            ],
            [
             1,
             "#f0f921"
            ]
           ]
          },
          "colorway": [
           "#636efa",
           "#EF553B",
           "#00cc96",
           "#ab63fa",
           "#FFA15A",
           "#19d3f3",
           "#FF6692",
           "#B6E880",
           "#FF97FF",
           "#FECB52"
          ],
          "font": {
           "color": "#2a3f5f"
          },
          "geo": {
           "bgcolor": "white",
           "lakecolor": "white",
           "landcolor": "#E5ECF6",
           "showlakes": true,
           "showland": true,
           "subunitcolor": "white"
          },
          "hoverlabel": {
           "align": "left"
          },
          "hovermode": "closest",
          "mapbox": {
           "style": "light"
          },
          "paper_bgcolor": "white",
          "plot_bgcolor": "#E5ECF6",
          "polar": {
           "angularaxis": {
            "gridcolor": "white",
            "linecolor": "white",
            "ticks": ""
           },
           "bgcolor": "#E5ECF6",
           "radialaxis": {
            "gridcolor": "white",
            "linecolor": "white",
            "ticks": ""
           }
          },
          "scene": {
           "xaxis": {
            "backgroundcolor": "#E5ECF6",
            "gridcolor": "white",
            "gridwidth": 2,
            "linecolor": "white",
            "showbackground": true,
            "ticks": "",
            "zerolinecolor": "white"
           },
           "yaxis": {
            "backgroundcolor": "#E5ECF6",
            "gridcolor": "white",
            "gridwidth": 2,
            "linecolor": "white",
            "showbackground": true,
            "ticks": "",
            "zerolinecolor": "white"
           },
           "zaxis": {
            "backgroundcolor": "#E5ECF6",
            "gridcolor": "white",
            "gridwidth": 2,
            "linecolor": "white",
            "showbackground": true,
            "ticks": "",
            "zerolinecolor": "white"
           }
          },
          "shapedefaults": {
           "line": {
            "color": "#2a3f5f"
           }
          },
          "ternary": {
           "aaxis": {
            "gridcolor": "white",
            "linecolor": "white",
            "ticks": ""
           },
           "baxis": {
            "gridcolor": "white",
            "linecolor": "white",
            "ticks": ""
           },
           "bgcolor": "#E5ECF6",
           "caxis": {
            "gridcolor": "white",
            "linecolor": "white",
            "ticks": ""
           }
          },
          "title": {
           "x": 0.05
          },
          "xaxis": {
           "automargin": true,
           "gridcolor": "white",
           "linecolor": "white",
           "ticks": "",
           "title": {
            "standoff": 15
           },
           "zerolinecolor": "white",
           "zerolinewidth": 2
          },
          "yaxis": {
           "automargin": true,
           "gridcolor": "white",
           "linecolor": "white",
           "ticks": "",
           "title": {
            "standoff": 15
           },
           "zerolinecolor": "white",
           "zerolinewidth": 2
          }
         }
        },
        "title": {
         "text": "Top 10 beers in the world from 2000 to 2017"
        },
        "updatemenus": [
         {
          "buttons": [
           {
            "args": [
             null,
             {
              "frame": {
               "duration": 800,
               "redraw": false
              },
              "fromcurrent": true,
              "transition": {
               "duration": 800,
               "easing": "quadratic-in-out"
              }
             }
            ],
            "label": "Play",
            "method": "animate"
           },
           {
            "args": [
             [
              null
             ],
             {
              "frame": {
               "duration": 0,
               "redraw": false
              },
              "mode": "immediate",
              "transition": {
               "duration": 0
              }
             }
            ],
            "label": "Pause",
            "method": "animate"
           }
          ],
          "direction": "left",
          "pad": {
           "r": 10,
           "t": 87
          },
          "showactive": true,
          "type": "buttons",
          "x": 0.1,
          "xanchor": "right",
          "y": 0,
          "yanchor": "top"
         }
        ],
        "xaxis": {
         "range": [
          0,
          2.796358605054868
         ],
         "showline": true,
         "showticklabels": true,
         "title": {
          "text": "New rating"
         },
         "visible": true
        },
        "yaxis": {
         "showline": false,
         "showticklabels": false,
         "title": {
          "text": "Top 10 beers"
         },
         "visible": true
        }
       }
      }
     },
     "metadata": {},
     "output_type": "display_data"
    }
   ],
   "source": [
    "import pandas as pd\n",
    "from raceplotly.plots import barplot\n",
    "\n",
    "data = pd.read_csv('./../ada-2023-project-laremontada61/top_10_beers_by_year.csv')\n",
    "my_raceplot = barplot(data,\n",
    "                      item_column='beer_name',\n",
    "                      value_column='new_rating',\n",
    "                      time_column='year')\n",
    "\n",
    "my_raceplot.plot(title = 'Top 10 beers in the world from 2000 to 2017',\n",
    "                 item_label = 'Top 10 beers',\n",
    "                 value_label = 'New rating',\n",
    "                 frame_duration = 800)"
   ]
  },
  {
   "cell_type": "code",
   "execution_count": null,
   "metadata": {},
   "outputs": [],
   "source": []
  }
 ],
 "metadata": {
  "kernelspec": {
   "display_name": "ada",
   "language": "python",
   "name": "python3"
  },
  "language_info": {
   "codemirror_mode": {
    "name": "ipython",
    "version": 3
   },
   "file_extension": ".py",
   "mimetype": "text/x-python",
   "name": "python",
   "nbconvert_exporter": "python",
   "pygments_lexer": "ipython3",
   "version": "3.9.18"
  }
 },
 "nbformat": 4,
 "nbformat_minor": 2
}
