{
 "cells": [
  {
   "cell_type": "code",
   "execution_count": 1,
   "metadata": {},
   "outputs": [],
   "source": [
    "import pandas as pd\n",
    "import seaborn as sns\n",
    "import matplotlib.pyplot as plt\n",
    "%matplotlib inline\n",
    "\n",
    "from PIL import Image, ImageDraw\n",
    "from matplotlib.lines import Line2D\n",
    "from matplotlib.offsetbox import OffsetImage, AnnotationBbox"
   ]
  },
  {
   "cell_type": "code",
   "execution_count": 7,
   "metadata": {},
   "outputs": [
    {
     "name": "stdout",
     "output_type": "stream",
     "text": [
      "Unnamed: 0                           1\n",
      "beer_name     Weihenstephaner Original\n",
      "year                            2000.0\n",
      "new_rating                    1.272458\n",
      "rank_0                             1.0\n",
      "rank_1                             1.0\n",
      "rank_2                             1.0\n",
      "rank_3                             1.0\n",
      "rank_4                             1.0\n",
      "rank_5                             1.0\n",
      "rank_6                             1.0\n",
      "rank_7                             1.0\n",
      "rank_8                             1.0\n",
      "rank_9                             1.0\n",
      "rank_10                            1.0\n",
      "rank_11                            1.0\n",
      "rank_12                            1.0\n",
      "rank_13                            1.0\n",
      "rank_14                            1.0\n",
      "rank_15                            1.0\n",
      "rank_16                            1.0\n",
      "rank_17                            1.0\n",
      "Name: 0, dtype: object\n"
     ]
    },
    {
     "ename": "KeyError",
     "evalue": "1.0",
     "output_type": "error",
     "traceback": [
      "\u001b[1;31m---------------------------------------------------------------------------\u001b[0m",
      "\u001b[1;31mKeyError\u001b[0m                                  Traceback (most recent call last)",
      "File \u001b[1;32mc:\\Users\\julie\\anaconda3\\envs\\ada\\lib\\site-packages\\pandas\\core\\indexes\\base.py:3790\u001b[0m, in \u001b[0;36mIndex.get_loc\u001b[1;34m(self, key)\u001b[0m\n\u001b[0;32m   3789\u001b[0m \u001b[38;5;28;01mtry\u001b[39;00m:\n\u001b[1;32m-> 3790\u001b[0m     \u001b[38;5;28;01mreturn\u001b[39;00m \u001b[38;5;28;43mself\u001b[39;49m\u001b[38;5;241;43m.\u001b[39;49m\u001b[43m_engine\u001b[49m\u001b[38;5;241;43m.\u001b[39;49m\u001b[43mget_loc\u001b[49m\u001b[43m(\u001b[49m\u001b[43mcasted_key\u001b[49m\u001b[43m)\u001b[49m\n\u001b[0;32m   3791\u001b[0m \u001b[38;5;28;01mexcept\u001b[39;00m \u001b[38;5;167;01mKeyError\u001b[39;00m \u001b[38;5;28;01mas\u001b[39;00m err:\n",
      "File \u001b[1;32mindex.pyx:152\u001b[0m, in \u001b[0;36mpandas._libs.index.IndexEngine.get_loc\u001b[1;34m()\u001b[0m\n",
      "File \u001b[1;32mindex.pyx:181\u001b[0m, in \u001b[0;36mpandas._libs.index.IndexEngine.get_loc\u001b[1;34m()\u001b[0m\n",
      "File \u001b[1;32mpandas\\_libs\\hashtable_class_helper.pxi:7080\u001b[0m, in \u001b[0;36mpandas._libs.hashtable.PyObjectHashTable.get_item\u001b[1;34m()\u001b[0m\n",
      "File \u001b[1;32mpandas\\_libs\\hashtable_class_helper.pxi:7088\u001b[0m, in \u001b[0;36mpandas._libs.hashtable.PyObjectHashTable.get_item\u001b[1;34m()\u001b[0m\n",
      "\u001b[1;31mKeyError\u001b[0m: 1.0",
      "\nThe above exception was the direct cause of the following exception:\n",
      "\u001b[1;31mKeyError\u001b[0m                                  Traceback (most recent call last)",
      "Cell \u001b[1;32mIn[7], line 30\u001b[0m\n\u001b[0;32m     28\u001b[0m     \u001b[38;5;28mprint\u001b[39m(row)\n\u001b[0;32m     29\u001b[0m     \u001b[38;5;28;01mfor\u001b[39;00m j, rc \u001b[38;5;129;01min\u001b[39;00m \u001b[38;5;28menumerate\u001b[39m(rank_columns):\n\u001b[1;32m---> 30\u001b[0m         add_pie_and_flag(fig, j, \u001b[38;5;241m-\u001b[39mrow[rc], name\u001b[38;5;241m=\u001b[39mrow\u001b[38;5;241m.\u001b[39mbeer_name, ratio\u001b[38;5;241m=\u001b[39m\u001b[43mrow\u001b[49m\u001b[43m[\u001b[49m\u001b[43mrow\u001b[49m\u001b[43m[\u001b[49m\u001b[43mrc\u001b[49m\u001b[43m]\u001b[49m\u001b[43m]\u001b[49m \u001b[38;5;241m/\u001b[39m row[rank_columns]\u001b[38;5;241m.\u001b[39mmax())\n\u001b[0;32m     32\u001b[0m     add_text(fig, row\u001b[38;5;241m.\u001b[39mbeer_name, \u001b[38;5;28mlen\u001b[39m(years) \u001b[38;5;241m-\u001b[39m \u001b[38;5;241m0.5\u001b[39m, \u001b[38;5;241m-\u001b[39m(i \u001b[38;5;241m+\u001b[39m \u001b[38;5;241m1\u001b[39m), \u001b[38;5;124mf\u001b[39m\u001b[38;5;124m\"\u001b[39m\u001b[38;5;132;01m{\u001b[39;00mrow\u001b[38;5;241m.\u001b[39mbeer_name\u001b[38;5;132;01m}\u001b[39;00m\u001b[38;5;124m (\u001b[39m\u001b[38;5;132;01m{\u001b[39;00mrow[rank_columns[\u001b[38;5;241m-\u001b[39m\u001b[38;5;241m1\u001b[39m]]\u001b[38;5;132;01m:\u001b[39;00m\u001b[38;5;124m.1f\u001b[39m\u001b[38;5;132;01m}\u001b[39;00m\u001b[38;5;124m)\u001b[39m\u001b[38;5;124m\"\u001b[39m)\n\u001b[0;32m     34\u001b[0m fig\u001b[38;5;241m.\u001b[39mupdate_layout(\n\u001b[0;32m     35\u001b[0m     title_text\u001b[38;5;241m=\u001b[39m\u001b[38;5;124m\"\u001b[39m\u001b[38;5;124mTop 10 Beers Each Year\u001b[39m\u001b[38;5;124m\"\u001b[39m,\n\u001b[0;32m     36\u001b[0m     xaxis\u001b[38;5;241m=\u001b[39m\u001b[38;5;28mdict\u001b[39m(visible\u001b[38;5;241m=\u001b[39m\u001b[38;5;28;01mFalse\u001b[39;00m),\n\u001b[1;32m   (...)\u001b[0m\n\u001b[0;32m     40\u001b[0m     height\u001b[38;5;241m=\u001b[39m\u001b[38;5;241m600\u001b[39m,\n\u001b[0;32m     41\u001b[0m )\n",
      "File \u001b[1;32mc:\\Users\\julie\\anaconda3\\envs\\ada\\lib\\site-packages\\pandas\\core\\series.py:1040\u001b[0m, in \u001b[0;36mSeries.__getitem__\u001b[1;34m(self, key)\u001b[0m\n\u001b[0;32m   1037\u001b[0m     \u001b[38;5;28;01mreturn\u001b[39;00m \u001b[38;5;28mself\u001b[39m\u001b[38;5;241m.\u001b[39m_values[key]\n\u001b[0;32m   1039\u001b[0m \u001b[38;5;28;01melif\u001b[39;00m key_is_scalar:\n\u001b[1;32m-> 1040\u001b[0m     \u001b[38;5;28;01mreturn\u001b[39;00m \u001b[38;5;28;43mself\u001b[39;49m\u001b[38;5;241;43m.\u001b[39;49m\u001b[43m_get_value\u001b[49m\u001b[43m(\u001b[49m\u001b[43mkey\u001b[49m\u001b[43m)\u001b[49m\n\u001b[0;32m   1042\u001b[0m \u001b[38;5;66;03m# Convert generator to list before going through hashable part\u001b[39;00m\n\u001b[0;32m   1043\u001b[0m \u001b[38;5;66;03m# (We will iterate through the generator there to check for slices)\u001b[39;00m\n\u001b[0;32m   1044\u001b[0m \u001b[38;5;28;01mif\u001b[39;00m is_iterator(key):\n",
      "File \u001b[1;32mc:\\Users\\julie\\anaconda3\\envs\\ada\\lib\\site-packages\\pandas\\core\\series.py:1156\u001b[0m, in \u001b[0;36mSeries._get_value\u001b[1;34m(self, label, takeable)\u001b[0m\n\u001b[0;32m   1153\u001b[0m     \u001b[38;5;28;01mreturn\u001b[39;00m \u001b[38;5;28mself\u001b[39m\u001b[38;5;241m.\u001b[39m_values[label]\n\u001b[0;32m   1155\u001b[0m \u001b[38;5;66;03m# Similar to Index.get_value, but we do not fall back to positional\u001b[39;00m\n\u001b[1;32m-> 1156\u001b[0m loc \u001b[38;5;241m=\u001b[39m \u001b[38;5;28;43mself\u001b[39;49m\u001b[38;5;241;43m.\u001b[39;49m\u001b[43mindex\u001b[49m\u001b[38;5;241;43m.\u001b[39;49m\u001b[43mget_loc\u001b[49m\u001b[43m(\u001b[49m\u001b[43mlabel\u001b[49m\u001b[43m)\u001b[49m\n\u001b[0;32m   1158\u001b[0m \u001b[38;5;28;01mif\u001b[39;00m is_integer(loc):\n\u001b[0;32m   1159\u001b[0m     \u001b[38;5;28;01mreturn\u001b[39;00m \u001b[38;5;28mself\u001b[39m\u001b[38;5;241m.\u001b[39m_values[loc]\n",
      "File \u001b[1;32mc:\\Users\\julie\\anaconda3\\envs\\ada\\lib\\site-packages\\pandas\\core\\indexes\\base.py:3797\u001b[0m, in \u001b[0;36mIndex.get_loc\u001b[1;34m(self, key)\u001b[0m\n\u001b[0;32m   3792\u001b[0m     \u001b[38;5;28;01mif\u001b[39;00m \u001b[38;5;28misinstance\u001b[39m(casted_key, \u001b[38;5;28mslice\u001b[39m) \u001b[38;5;129;01mor\u001b[39;00m (\n\u001b[0;32m   3793\u001b[0m         \u001b[38;5;28misinstance\u001b[39m(casted_key, abc\u001b[38;5;241m.\u001b[39mIterable)\n\u001b[0;32m   3794\u001b[0m         \u001b[38;5;129;01mand\u001b[39;00m \u001b[38;5;28many\u001b[39m(\u001b[38;5;28misinstance\u001b[39m(x, \u001b[38;5;28mslice\u001b[39m) \u001b[38;5;28;01mfor\u001b[39;00m x \u001b[38;5;129;01min\u001b[39;00m casted_key)\n\u001b[0;32m   3795\u001b[0m     ):\n\u001b[0;32m   3796\u001b[0m         \u001b[38;5;28;01mraise\u001b[39;00m InvalidIndexError(key)\n\u001b[1;32m-> 3797\u001b[0m     \u001b[38;5;28;01mraise\u001b[39;00m \u001b[38;5;167;01mKeyError\u001b[39;00m(key) \u001b[38;5;28;01mfrom\u001b[39;00m \u001b[38;5;21;01merr\u001b[39;00m\n\u001b[0;32m   3798\u001b[0m \u001b[38;5;28;01mexcept\u001b[39;00m \u001b[38;5;167;01mTypeError\u001b[39;00m:\n\u001b[0;32m   3799\u001b[0m     \u001b[38;5;66;03m# If we have a listlike key, _check_indexing_error will raise\u001b[39;00m\n\u001b[0;32m   3800\u001b[0m     \u001b[38;5;66;03m#  InvalidIndexError. Otherwise we fall through and re-raise\u001b[39;00m\n\u001b[0;32m   3801\u001b[0m     \u001b[38;5;66;03m#  the TypeError.\u001b[39;00m\n\u001b[0;32m   3802\u001b[0m     \u001b[38;5;28mself\u001b[39m\u001b[38;5;241m.\u001b[39m_check_indexing_error(key)\n",
      "\u001b[1;31mKeyError\u001b[0m: 1.0"
     ]
    }
   ],
   "source": [
    "import pandas as pd\n",
    "import plotly.graph_objects as go\n",
    "\n",
    "def create_rankings(df, years):\n",
    "    rank_columns = [\"rank_{}\".format(i) for i in range(len(years))]\n",
    "    for i, year in enumerate(years):\n",
    "        df[rank_columns[i]] = df.groupby('year')['new_rating'].rank(ascending=False)\n",
    "        \n",
    "    return df, rank_columns\n",
    "\n",
    "def add_text(fig, beer_name, x, y, text, font_size=12):\n",
    "    fig.add_trace(go.Scatter(x=[x], y=[y], text=[text], mode=\"text\", showlegend=False,\n",
    "                             textfont=dict(size=font_size), hoverinfo='text+x+y'))\n",
    "\n",
    "def add_pie_and_flag(fig, x, y, name, ratio):\n",
    "    fig.add_trace(go.Pie(labels=[name], values=[ratio], hole=0.4,\n",
    "                         marker=dict(colors=['rgba(255, 255, 255, 0)']),\n",
    "                         domain=dict(x=[x-0.15, x+0.15], y=[y-0.15, y+0.15]),\n",
    "                         hoverinfo='label+percent+name', showlegend=False))\n",
    "\n",
    "years = [\"2000\", \"2001\", \"2002\", \"2003\", \"2004\", \"2005\", \"2006\", \"2007\", \"2008\", \"2009\", \"2010\", \"2011\", \"2012\", \"2013\", \"2014\", \"2015\", \"2016\", \"2017\"]\n",
    "df = pd.read_csv(\"./../../Project/top_10_beers_by_year.csv\", index_col=None)\n",
    "df, rank_columns = create_rankings(df, years)\n"
   ]
  },
  {
   "cell_type": "code",
   "execution_count": 127,
   "metadata": {},
   "outputs": [
    {
     "data": {
      "application/vnd.plotly.v1+json": {
       "config": {
        "plotlyServerURL": "https://plot.ly"
       },
       "data": [
        {
         "cliponaxis": false,
         "hoverinfo": "all",
         "marker": {
          "color": [
           "rgb(130, 80, 223)",
           "rgb(153, 108, 50)",
           "rgb(47, 34, 64)",
           "rgb(188, 34, 39)",
           "rgb(210, 112, 85)",
           "rgb(26, 21, 200)",
           "rgb(222, 149, 232)",
           "rgb(17, 67, 53)",
           "rgb(205, 197, 186)",
           "rgb(108, 104, 213)"
          ]
         },
         "orientation": "h",
         "textangle": 0,
         "textposition": "outside",
         "texttemplate": "%{y}<br>%{x:.4s}",
         "type": "bar",
         "x": [
          0.0856980269090535,
          0.1413983790078688,
          0.1474960597172014,
          0.2916820056995468,
          0.3633911590367735,
          0.4020559589920901,
          0.7832398558263911,
          0.7922630921178851,
          0.8024114516969543,
          1.2724582070724737
         ],
         "y": [
          "Smuttynose Portsmouth Lager",
          "Wellington Iron Duke Strong Ale",
          "Beck's Oktoberfest",
          "Unibroue Blanche de Chambly",
          "Guinness Extra Stout (North America)",
          "Alley Kat Scona Gold",
          "Unibroue Maudite",
          "Unibroue Eau Bénite",
          "Unibroue La Fin du Monde",
          "Weihenstephaner Original"
         ]
        }
       ],
       "frames": [
        {
         "data": [
          {
           "cliponaxis": false,
           "hoverinfo": "all",
           "hovertemplate": "<extra></extra>",
           "marker": {
            "color": [
             "rgb(130, 80, 223)",
             "rgb(153, 108, 50)",
             "rgb(47, 34, 64)",
             "rgb(188, 34, 39)",
             "rgb(210, 112, 85)",
             "rgb(26, 21, 200)",
             "rgb(222, 149, 232)",
             "rgb(17, 67, 53)",
             "rgb(205, 197, 186)",
             "rgb(108, 104, 213)"
            ]
           },
           "orientation": "h",
           "textangle": 0,
           "textposition": "outside",
           "texttemplate": "%{y}<br>%{x:.4s}",
           "type": "bar",
           "x": [
            0.0856980269090535,
            0.1413983790078688,
            0.1474960597172014,
            0.2916820056995468,
            0.3633911590367735,
            0.4020559589920901,
            0.7832398558263911,
            0.7922630921178851,
            0.8024114516969543,
            1.2724582070724737
           ],
           "y": [
            "Smuttynose Portsmouth Lager",
            "Wellington Iron Duke Strong Ale",
            "Beck's Oktoberfest",
            "Unibroue Blanche de Chambly",
            "Guinness Extra Stout (North America)",
            "Alley Kat Scona Gold",
            "Unibroue Maudite",
            "Unibroue Eau Bénite",
            "Unibroue La Fin du Monde",
            "Weihenstephaner Original"
           ]
          }
         ],
         "layout": {
          "bargap": 0.15,
          "font": {
           "size": 14
          },
          "plot_bgcolor": "#FFFFFF",
          "title": {
           "text": "Top 10 beers in the world from 2000 to 2017"
          },
          "xaxis": {
           "range": [
            0,
            2.796358605054868
           ],
           "showline": true,
           "visible": true
          },
          "yaxis": {
           "showline": false,
           "visible": true
          }
         },
         "name": "2000.0"
        },
        {
         "data": [
          {
           "cliponaxis": false,
           "hoverinfo": "all",
           "hovertemplate": "<extra></extra>",
           "marker": {
            "color": [
             "rgb(244, 68, 71)",
             "rgb(202, 197, 68)",
             "rgb(224, 39, 175)",
             "rgb(17, 67, 53)",
             "rgb(221, 64, 254)",
             "rgb(129, 115, 124)",
             "rgb(168, 69, 7)",
             "rgb(82, 27, 141)",
             "rgb(138, 11, 26)",
             "rgb(101, 104, 232)"
            ]
           },
           "orientation": "h",
           "textangle": 0,
           "textposition": "outside",
           "texttemplate": "%{y}<br>%{x:.4s}",
           "type": "bar",
           "x": [
            0.9785837672582662,
            1.0058875532587828,
            1.063970250411699,
            1.0725839073783556,
            1.1062115555022047,
            1.1406137542872845,
            1.1540869577021826,
            1.2406882489229227,
            1.292176928309711,
            1.6237857546298675
           ],
           "y": [
            "Olands Premium Red Draught",
            "Apollo Pilsner",
            "Wellington Imperial Russian Stout",
            "Unibroue Eau Bénite",
            "Samuel Smith's Organic Best Ale",
            "Hancock Old Gambrinus Beer Light",
            "Paulaner Oktoberfest-Märzen",
            "Ayinger Celebrator Doppelbock",
            "Creemore Springs Premium Lager",
            "Okanagan Spring Pale Ale"
           ]
          }
         ],
         "layout": {
          "bargap": 0.15,
          "font": {
           "size": 14
          },
          "plot_bgcolor": "#FFFFFF",
          "title": {
           "text": "Top 10 beers in the world from 2000 to 2017"
          },
          "xaxis": {
           "range": [
            0,
            2.796358605054868
           ],
           "showline": true,
           "visible": true
          },
          "yaxis": {
           "showline": false,
           "visible": true
          }
         },
         "name": "2001.0"
        },
        {
         "data": [
          {
           "cliponaxis": false,
           "hoverinfo": "all",
           "hovertemplate": "<extra></extra>",
           "marker": {
            "color": [
             "rgb(216, 88, 73)",
             "rgb(106, 229, 27)",
             "rgb(38, 51, 146)",
             "rgb(162, 143, 41)",
             "rgb(100, 221, 155)",
             "rgb(6, 65, 41)",
             "rgb(187, 33, 74)",
             "rgb(21, 113, 218)",
             "rgb(231, 206, 40)",
             "rgb(115, 77, 244)"
            ]
           },
           "orientation": "h",
           "textangle": 0,
           "textposition": "outside",
           "texttemplate": "%{y}<br>%{x:.4s}",
           "type": "bar",
           "x": [
            1.0971892330254818,
            1.117999273528437,
            1.1892809268470006,
            1.1946513838248962,
            1.2298686075598522,
            1.2363237954738322,
            1.2464736767652496,
            1.296739938062742,
            1.3506758306197617,
            1.7157031714601243
           ],
           "y": [
            "Traquair House Ale",
            "Noche Buena",
            "Rickards Gold",
            "Schwarzer Abt",
            "Thomas Hardy's Ale (1968-1999)",
            "Upper Canada Dark Ale",
            "Hancock Old Gambrinus Beer Dark",
            "Le Cheval Blanc Bière dHiver",
            "Brava Cerveza",
            "Casta Bruna"
           ]
          }
         ],
         "layout": {
          "bargap": 0.15,
          "font": {
           "size": 14
          },
          "plot_bgcolor": "#FFFFFF",
          "title": {
           "text": "Top 10 beers in the world from 2000 to 2017"
          },
          "xaxis": {
           "range": [
            0,
            2.796358605054868
           ],
           "showline": true,
           "visible": true
          },
          "yaxis": {
           "showline": false,
           "visible": true
          }
         },
         "name": "2002.0"
        },
        {
         "data": [
          {
           "cliponaxis": false,
           "hoverinfo": "all",
           "hovertemplate": "<extra></extra>",
           "marker": {
            "color": [
             "rgb(211, 204, 10)",
             "rgb(150, 151, 216)",
             "rgb(159, 187, 46)",
             "rgb(168, 188, 233)",
             "rgb(187, 33, 74)",
             "rgb(101, 84, 175)",
             "rgb(244, 253, 14)",
             "rgb(193, 54, 57)",
             "rgb(253, 5, 9)",
             "rgb(131, 143, 4)"
            ]
           },
           "orientation": "h",
           "textangle": 0,
           "textposition": "outside",
           "texttemplate": "%{y}<br>%{x:.4s}",
           "type": "bar",
           "x": [
            1.020106685335022,
            1.0497129223965398,
            1.051065535567698,
            1.0984893371560656,
            1.0993684957865837,
            1.1365903819140273,
            1.1370635087602423,
            1.138117036597784,
            1.141220885476117,
            1.1624204770873334
           ],
           "y": [
            "Éphémère (Cranberry)",
            "Trappistes Rochefort 10",
            "Thornbury Pickup No. 26 Pilsener",
            "Brooklyn Black Chocolate Stout",
            "Hancock Old Gambrinus Beer Dark",
            "Harvest Ale (Limited Edition)",
            "Trafalgar Winter Warmer",
            "Tsingtao Dark",
            "Ørbæk Påskebryg",
            "Val-Dieu Triple"
           ]
          }
         ],
         "layout": {
          "bargap": 0.15,
          "font": {
           "size": 14
          },
          "plot_bgcolor": "#FFFFFF",
          "title": {
           "text": "Top 10 beers in the world from 2000 to 2017"
          },
          "xaxis": {
           "range": [
            0,
            2.796358605054868
           ],
           "showline": true,
           "visible": true
          },
          "yaxis": {
           "showline": false,
           "visible": true
          }
         },
         "name": "2003.0"
        },
        {
         "data": [
          {
           "cliponaxis": false,
           "hoverinfo": "all",
           "hovertemplate": "<extra></extra>",
           "marker": {
            "color": [
             "rgb(177, 112, 137)",
             "rgb(14, 116, 166)",
             "rgb(92, 104, 39)",
             "rgb(150, 151, 216)",
             "rgb(192, 114, 108)",
             "rgb(255, 148, 5)",
             "rgb(108, 150, 16)",
             "rgb(183, 69, 154)",
             "rgb(211, 204, 10)",
             "rgb(130, 69, 171)"
            ]
           },
           "orientation": "h",
           "textangle": 0,
           "textposition": "outside",
           "texttemplate": "%{y}<br>%{x:.4s}",
           "type": "bar",
           "x": [
            1.1189133450981463,
            1.1516669950713043,
            1.1528166236042097,
            1.1716356265310237,
            1.1741023273154845,
            1.1760713745592537,
            1.217131086340976,
            1.276741053311066,
            1.3539639927626284,
            1.7084785431180471
           ],
           "y": [
            "Bièropholie Bock Émissaire",
            "Unibroue Seigneuriale",
            "Yo-Ho Yona Yona Ale",
            "Trappistes Rochefort 10",
            "Coopers Sparkling Ale",
            "De Dolle Speciaal Brouwsel 20",
            "Dieu du Ciel Péché Mortel",
            "Olands Export Ale",
            "Éphémère (Cranberry)",
            "Picaroons Irish Red"
           ]
          }
         ],
         "layout": {
          "bargap": 0.15,
          "font": {
           "size": 14
          },
          "plot_bgcolor": "#FFFFFF",
          "title": {
           "text": "Top 10 beers in the world from 2000 to 2017"
          },
          "xaxis": {
           "range": [
            0,
            2.796358605054868
           ],
           "showline": true,
           "visible": true
          },
          "yaxis": {
           "showline": false,
           "visible": true
          }
         },
         "name": "2004.0"
        },
        {
         "data": [
          {
           "cliponaxis": false,
           "hoverinfo": "all",
           "hovertemplate": "<extra></extra>",
           "marker": {
            "color": [
             "rgb(158, 7, 231)",
             "rgb(175, 99, 106)",
             "rgb(168, 188, 233)",
             "rgb(172, 192, 179)",
             "rgb(13, 125, 195)",
             "rgb(6, 191, 72)",
             "rgb(189, 127, 165)",
             "rgb(246, 243, 8)",
             "rgb(215, 78, 247)",
             "rgb(127, 46, 87)"
            ]
           },
           "orientation": "h",
           "textangle": 0,
           "textposition": "outside",
           "texttemplate": "%{y}<br>%{x:.4s}",
           "type": "bar",
           "x": [
            1.128126928846783,
            1.1301521826016678,
            1.146847234543368,
            1.148323250291148,
            1.1483720433411242,
            1.1580044374770952,
            1.187508763872131,
            1.2330532509224803,
            1.3158032691133454,
            1.3961302319078674
           ],
           "y": [
            "WinterCoat Oatmeal Stout",
            "Mai Bock",
            "Brooklyn Black Chocolate Stout",
            "Cantillon Spuyten Duyvil",
            "Scotch Irish Tsarina Katarina Imperial Stout",
            "Fuller's Special Edition ESB",
            "Lions Winter Ale",
            "Ursus Pils",
            "Gale's Jubilee Ale (2002)",
            "Panil Barriquée  (Italy Version)"
           ]
          }
         ],
         "layout": {
          "bargap": 0.15,
          "font": {
           "size": 14
          },
          "plot_bgcolor": "#FFFFFF",
          "title": {
           "text": "Top 10 beers in the world from 2000 to 2017"
          },
          "xaxis": {
           "range": [
            0,
            2.796358605054868
           ],
           "showline": true,
           "visible": true
          },
          "yaxis": {
           "showline": false,
           "visible": true
          }
         },
         "name": "2005.0"
        },
        {
         "data": [
          {
           "cliponaxis": false,
           "hoverinfo": "all",
           "hovertemplate": "<extra></extra>",
           "marker": {
            "color": [
             "rgb(202, 116, 233)",
             "rgb(221, 142, 155)",
             "rgb(194, 249, 163)",
             "rgb(20, 186, 13)",
             "rgb(2, 139, 78)",
             "rgb(3, 2, 235)",
             "rgb(229, 206, 87)",
             "rgb(75, 155, 50)",
             "rgb(44, 243, 192)",
             "rgb(157, 45, 52)"
            ]
           },
           "orientation": "h",
           "textangle": 0,
           "textposition": "outside",
           "texttemplate": "%{y}<br>%{x:.4s}",
           "type": "bar",
           "x": [
            1.1013018745460426,
            1.1081949452181952,
            1.10970020597058,
            1.1429170607485464,
            1.1814772124502742,
            1.1951664258337198,
            1.224148644787213,
            1.224792193965514,
            1.2294622768994474,
            1.2311662394036298
           ],
           "y": [
            "Smuggler's Ale",
            "Little Creatures Pale Ale",
            "Nickel Brook Ale (pre 2009)",
            "Bièropholie IPA",
            "Granville Island GIBitter",
            "Urbock 23°",
            "Birrificio Italiano Tipopils",
            "Phillips Amnesiac Double IPA",
            "Bedondaine et Bedons Ronds Reyne Descosse",
            "Lakeport Pilsener"
           ]
          }
         ],
         "layout": {
          "bargap": 0.15,
          "font": {
           "size": 14
          },
          "plot_bgcolor": "#FFFFFF",
          "title": {
           "text": "Top 10 beers in the world from 2000 to 2017"
          },
          "xaxis": {
           "range": [
            0,
            2.796358605054868
           ],
           "showline": true,
           "visible": true
          },
          "yaxis": {
           "showline": false,
           "visible": true
          }
         },
         "name": "2006.0"
        },
        {
         "data": [
          {
           "cliponaxis": false,
           "hoverinfo": "all",
           "hovertemplate": "<extra></extra>",
           "marker": {
            "color": [
             "rgb(155, 170, 190)",
             "rgb(61, 53, 237)",
             "rgb(148, 182, 173)",
             "rgb(158, 236, 154)",
             "rgb(3, 180, 111)",
             "rgb(118, 203, 241)",
             "rgb(22, 122, 77)",
             "rgb(233, 122, 236)",
             "rgb(198, 88, 201)",
             "rgb(245, 145, 222)"
            ]
           },
           "orientation": "h",
           "textangle": 0,
           "textposition": "outside",
           "texttemplate": "%{y}<br>%{x:.4s}",
           "type": "bar",
           "x": [
            1.2396660302431133,
            1.2500517929893469,
            1.2669803376987006,
            1.2687902499092345,
            1.2801873813826143,
            1.296022595401119,
            1.3128778567226451,
            1.321458650317355,
            1.3320290468008888,
            1.4208028086796662
           ],
           "y": [
            "Sanctification",
            "Drie Fonteinen Millennium Geuze",
            "La Lièvre IPA",
            "Ølfabrikken Gammel Ekstra Porter",
            "Abbaye De Saint Bon-Chien",
            "Schneider Weisse Tap 1 Mein Blondes",
            "Side Launch Wheat",
            "Original Stieglbock",
            "Les Trois Mousquetaires G.C. Porter Baltique",
            "Innis & Gunn Limited Edition 2005"
           ]
          }
         ],
         "layout": {
          "bargap": 0.15,
          "font": {
           "size": 14
          },
          "plot_bgcolor": "#FFFFFF",
          "title": {
           "text": "Top 10 beers in the world from 2000 to 2017"
          },
          "xaxis": {
           "range": [
            0,
            2.796358605054868
           ],
           "showline": true,
           "visible": true
          },
          "yaxis": {
           "showline": false,
           "visible": true
          }
         },
         "name": "2007.0"
        },
        {
         "data": [
          {
           "cliponaxis": false,
           "hoverinfo": "all",
           "hovertemplate": "<extra></extra>",
           "marker": {
            "color": [
             "rgb(148, 242, 236)",
             "rgb(144, 118, 9)",
             "rgb(152, 112, 214)",
             "rgb(33, 27, 22)",
             "rgb(155, 19, 171)",
             "rgb(233, 214, 160)",
             "rgb(149, 58, 107)",
             "rgb(66, 43, 74)",
             "rgb(98, 140, 207)",
             "rgb(90, 50, 29)"
            ]
           },
           "orientation": "h",
           "textangle": 0,
           "textposition": "outside",
           "texttemplate": "%{y}<br>%{x:.4s}",
           "type": "bar",
           "x": [
            1.1670864372733072,
            1.1766039835149418,
            1.1919126098650494,
            1.2012607567449864,
            1.2064338315271683,
            1.207766811476634,
            1.2547272238898888,
            1.377381643490348,
            1.391734911093819,
            1.4392218691560568
           ],
           "y": [
            "Old Crafty Hen",
            "Neumarkter Lammsbräu (Organic) Dunkel",
            "Terrapin Big Sloppy Monster",
            "Baladin Xyauyù Etichetta Rame (Copper Label)",
            "Consecration",
            "Half Pints Bulldog Amber Ale",
            "Baeren Rye",
            "Mean Manalishi Double I.P.A.",
            "Alley Kat Bad Hare Day",
            "Kosmyk Charlie's Y2K Catastrophe Ale"
           ]
          }
         ],
         "layout": {
          "bargap": 0.15,
          "font": {
           "size": 14
          },
          "plot_bgcolor": "#FFFFFF",
          "title": {
           "text": "Top 10 beers in the world from 2000 to 2017"
          },
          "xaxis": {
           "range": [
            0,
            2.796358605054868
           ],
           "showline": true,
           "visible": true
          },
          "yaxis": {
           "showline": false,
           "visible": true
          }
         },
         "name": "2008.0"
        },
        {
         "data": [
          {
           "cliponaxis": false,
           "hoverinfo": "all",
           "hovertemplate": "<extra></extra>",
           "marker": {
            "color": [
             "rgb(196, 140, 16)",
             "rgb(100, 58, 144)",
             "rgb(248, 109, 137)",
             "rgb(23, 132, 61)",
             "rgb(167, 217, 103)",
             "rgb(221, 39, 8)",
             "rgb(255, 63, 168)",
             "rgb(179, 199, 169)",
             "rgb(67, 25, 57)",
             "rgb(187, 66, 183)"
            ]
           },
           "orientation": "h",
           "textangle": 0,
           "textposition": "outside",
           "texttemplate": "%{y}<br>%{x:.4s}",
           "type": "bar",
           "x": [
            1.2338471807274276,
            1.2393466430040996,
            1.2454384142571973,
            1.2469121186642012,
            1.2824851557175203,
            1.325754327205307,
            1.3561829163911925,
            1.372316618062027,
            1.381964656606547,
            1.8194648164280256
           ],
           "y": [
            "Søgaards Trippel",
            "Primátor Premium",
            "Dieu du Ciel Solstice dÉté aux Framboises",
            "Southampton Grand Cru",
            "Driftwood Sartori Harvest IPA",
            "Granville Island Merry Monks Dopplebock",
            "RJ Le Cheval Blanc Snoreau",
            "Old Engine Oil Special Reserve (Aged In Malt Whiskey Casks)",
            "Borefts Bok 2009",
            "Lvivske Porter"
           ]
          }
         ],
         "layout": {
          "bargap": 0.15,
          "font": {
           "size": 14
          },
          "plot_bgcolor": "#FFFFFF",
          "title": {
           "text": "Top 10 beers in the world from 2000 to 2017"
          },
          "xaxis": {
           "range": [
            0,
            2.796358605054868
           ],
           "showline": true,
           "visible": true
          },
          "yaxis": {
           "showline": false,
           "visible": true
          }
         },
         "name": "2009.0"
        },
        {
         "data": [
          {
           "cliponaxis": false,
           "hoverinfo": "all",
           "hovertemplate": "<extra></extra>",
           "marker": {
            "color": [
             "rgb(36, 99, 102)",
             "rgb(44, 190, 135)",
             "rgb(85, 247, 185)",
             "rgb(63, 91, 232)",
             "rgb(16, 87, 237)",
             "rgb(106, 158, 223)",
             "rgb(140, 29, 251)",
             "rgb(157, 220, 49)",
             "rgb(169, 178, 41)",
             "rgb(32, 28, 153)"
            ]
           },
           "orientation": "h",
           "textangle": 0,
           "textposition": "outside",
           "texttemplate": "%{y}<br>%{x:.4s}",
           "type": "bar",
           "x": [
            1.289513947212004,
            1.3022892741280632,
            1.3504165952011944,
            1.3695815104674731,
            1.4186131609391872,
            1.4294349003691191,
            1.5284823417762363,
            1.5542583799019265,
            1.7288080087834743,
            1.7654250681805317
           ],
           "y": [
            "Captivator Doppelbock",
            "Toccalmatto Sibilla",
            "Birrificio del Ducato LUltima Luna",
            "La Trappe Quadrupel (Oak Aged)",
            "Toccalmatto Stray Dog No Rules Bitter",
            "Charlevoix Dominus Vobiscum Brut",
            "Birra del Borgo ReAle Extra",
            "Saison Du Tracteur",
            "Bedondaine et Bedons Ronds Reyne Descosse Gelée",
            "Piccolo Birrificio Ego"
           ]
          }
         ],
         "layout": {
          "bargap": 0.15,
          "font": {
           "size": 14
          },
          "plot_bgcolor": "#FFFFFF",
          "title": {
           "text": "Top 10 beers in the world from 2000 to 2017"
          },
          "xaxis": {
           "range": [
            0,
            2.796358605054868
           ],
           "showline": true,
           "visible": true
          },
          "yaxis": {
           "showline": false,
           "visible": true
          }
         },
         "name": "2010.0"
        },
        {
         "data": [
          {
           "cliponaxis": false,
           "hoverinfo": "all",
           "hovertemplate": "<extra></extra>",
           "marker": {
            "color": [
             "rgb(184, 123, 99)",
             "rgb(164, 92, 117)",
             "rgb(196, 209, 73)",
             "rgb(51, 83, 5)",
             "rgb(176, 51, 159)",
             "rgb(40, 167, 17)",
             "rgb(154, 83, 40)",
             "rgb(185, 60, 23)",
             "rgb(61, 53, 237)",
             "rgb(224, 219, 47)"
            ]
           },
           "orientation": "h",
           "textangle": 0,
           "textposition": "outside",
           "texttemplate": "%{y}<br>%{x:.4s}",
           "type": "bar",
           "x": [
            1.2600744288590362,
            1.265080505108473,
            1.301966246878607,
            1.3262397837477289,
            1.333344904716972,
            1.347954076030384,
            1.3505600121785313,
            1.4710240611434864,
            1.703014364073218,
            2.253825333425378
           ],
           "y": [
            "Tipo Pils",
            "Cantillon Blåbær Lambik",
            "Les Brasseurs du Temps Mea Magna Culpa",
            "Cantillon Don Quijote",
            "Ølfabrikken Petit Blau",
            "Montegioco Quarta Runa",
            "Eichbaum Pilsener",
            "Drie Fonteinen Oude Geuze 1998 (50th Anniversary)",
            "Drie Fonteinen Millennium Geuze",
            "Beer Here / Raasted Bukkake"
           ]
          }
         ],
         "layout": {
          "bargap": 0.15,
          "font": {
           "size": 14
          },
          "plot_bgcolor": "#FFFFFF",
          "title": {
           "text": "Top 10 beers in the world from 2000 to 2017"
          },
          "xaxis": {
           "range": [
            0,
            2.796358605054868
           ],
           "showline": true,
           "visible": true
          },
          "yaxis": {
           "showline": false,
           "visible": true
          }
         },
         "name": "2011.0"
        },
        {
         "data": [
          {
           "cliponaxis": false,
           "hoverinfo": "all",
           "hovertemplate": "<extra></extra>",
           "marker": {
            "color": [
             "rgb(52, 89, 248)",
             "rgb(178, 31, 247)",
             "rgb(82, 152, 248)",
             "rgb(150, 200, 97)",
             "rgb(128, 125, 250)",
             "rgb(185, 60, 23)",
             "rgb(0, 90, 135)",
             "rgb(134, 65, 196)",
             "rgb(47, 81, 192)",
             "rgb(148, 184, 20)"
            ]
           },
           "orientation": "h",
           "textangle": 0,
           "textposition": "outside",
           "texttemplate": "%{y}<br>%{x:.4s}",
           "type": "bar",
           "x": [
            1.3265020252683697,
            1.3490384193077791,
            1.364564975250266,
            1.3688333984444223,
            1.369805348429683,
            1.3975667870645416,
            1.4323060786846682,
            1.457841090882981,
            1.4672320479745289,
            1.5564273480419248
           ],
           "y": [
            "Ann",
            "Depuration",
            "Black Tokyo Horizon",
            "Le Cheval Blanc Double Bonheur",
            "Whistler Chocolate Winter Dunkel",
            "Drie Fonteinen Oude Geuze 1998 (50th Anniversary)",
            "Watermelon Warhead",
            "Kamenitza Lev",
            "L'Amoureuse Rouge",
            "Cantillon Loerik"
           ]
          }
         ],
         "layout": {
          "bargap": 0.15,
          "font": {
           "size": 14
          },
          "plot_bgcolor": "#FFFFFF",
          "title": {
           "text": "Top 10 beers in the world from 2000 to 2017"
          },
          "xaxis": {
           "range": [
            0,
            2.796358605054868
           ],
           "showline": true,
           "visible": true
          },
          "yaxis": {
           "showline": false,
           "visible": true
          }
         },
         "name": "2012.0"
        },
        {
         "data": [
          {
           "cliponaxis": false,
           "hoverinfo": "all",
           "hovertemplate": "<extra></extra>",
           "marker": {
            "color": [
             "rgb(209, 26, 155)",
             "rgb(127, 178, 104)",
             "rgb(225, 249, 227)",
             "rgb(10, 101, 122)",
             "rgb(94, 125, 225)",
             "rgb(204, 60, 127)",
             "rgb(87, 106, 185)",
             "rgb(191, 3, 117)",
             "rgb(95, 185, 113)",
             "rgb(103, 245, 186)"
            ]
           },
           "orientation": "h",
           "textangle": 0,
           "textposition": "outside",
           "texttemplate": "%{y}<br>%{x:.4s}",
           "type": "bar",
           "x": [
            1.3746493096975472,
            1.4041402200725015,
            1.4570126267878116,
            1.4741651011372767,
            1.493197763699144,
            1.5596210420758312,
            1.6521573868793042,
            1.6747480446151457,
            1.784840369968013,
            2.510691214725717
           ],
           "y": [
            "Tamamura-Honten Yamabushi Saison 1 Aged in Oak Barrels",
            "Rapture",
            "Cantillon Bruocsella (1900) Grand Cru",
            "Brasseurs du Monde Gamme Festive Célébrante",
            "Innis & Gunn Spiced Rum Aged",
            "Bavarias Best Imperial Stout",
            "Collesi 1970 Ambrata",
            "Svaneke Julebryg",
            "Edward",
            "Birra del Borgo Perle ai Porci (Pearls for Pigs)"
           ]
          }
         ],
         "layout": {
          "bargap": 0.15,
          "font": {
           "size": 14
          },
          "plot_bgcolor": "#FFFFFF",
          "title": {
           "text": "Top 10 beers in the world from 2000 to 2017"
          },
          "xaxis": {
           "range": [
            0,
            2.796358605054868
           ],
           "showline": true,
           "visible": true
          },
          "yaxis": {
           "showline": false,
           "visible": true
          }
         },
         "name": "2013.0"
        },
        {
         "data": [
          {
           "cliponaxis": false,
           "hoverinfo": "all",
           "hovertemplate": "<extra></extra>",
           "marker": {
            "color": [
             "rgb(122, 151, 185)",
             "rgb(140, 220, 239)",
             "rgb(164, 92, 117)",
             "rgb(10, 220, 88)",
             "rgb(168, 177, 57)",
             "rgb(151, 1, 104)",
             "rgb(172, 192, 179)",
             "rgb(56, 146, 244)",
             "rgb(223, 193, 233)",
             "rgb(9, 48, 56)"
            ]
           },
           "orientation": "h",
           "textangle": 0,
           "textposition": "outside",
           "texttemplate": "%{y}<br>%{x:.4s}",
           "type": "bar",
           "x": [
            1.481905996838515,
            1.4953778917662726,
            1.498668519392976,
            1.5958805494661334,
            1.6764028325986928,
            1.7425096415533683,
            1.7429667157083328,
            1.8860097723067208,
            1.9268002384767275,
            2.796358605054868
           ],
           "y": [
            "Cantillon Crianza Helena",
            "Melbourne Bitter",
            "Cantillon Blåbær Lambik",
            "Schneider Weisse Tap 6 Unser Aventinus",
            "Minerva Colonial",
            "Wicked Juju",
            "Cantillon Spuyten Duyvil",
            "Extraomnes Saison",
            "Molson Standard Lager",
            "Mandøl Smagen af Mandø"
           ]
          }
         ],
         "layout": {
          "bargap": 0.15,
          "font": {
           "size": 14
          },
          "plot_bgcolor": "#FFFFFF",
          "title": {
           "text": "Top 10 beers in the world from 2000 to 2017"
          },
          "xaxis": {
           "range": [
            0,
            2.796358605054868
           ],
           "showline": true,
           "visible": true
          },
          "yaxis": {
           "showline": false,
           "visible": true
          }
         },
         "name": "2014.0"
        },
        {
         "data": [
          {
           "cliponaxis": false,
           "hoverinfo": "all",
           "hovertemplate": "<extra></extra>",
           "marker": {
            "color": [
             "rgb(167, 217, 103)",
             "rgb(151, 24, 223)",
             "rgb(132, 215, 146)",
             "rgb(166, 214, 124)",
             "rgb(155, 170, 190)",
             "rgb(214, 159, 25)",
             "rgb(252, 106, 214)",
             "rgb(188, 34, 39)",
             "rgb(45, 241, 11)",
             "rgb(181, 220, 33)"
            ]
           },
           "orientation": "h",
           "textangle": 0,
           "textposition": "outside",
           "texttemplate": "%{y}<br>%{x:.4s}",
           "type": "bar",
           "x": [
            1.5676276553776711,
            1.5751038516002658,
            1.622719541991331,
            1.623539297914094,
            1.6258817104558627,
            1.6387533424741991,
            1.6738321718245197,
            1.70740160723289,
            1.7625116163067636,
            1.82482572270457
           ],
           "y": [
            "Driftwood Sartori Harvest IPA",
            "Flying Monkeys City and Colour",
            "Buxton / Omnipollo Yellow Belly Sundae",
            "Dunham Saison Réserve",
            "Sanctification",
            "Charlevoix Dominus Vobiscum Lupulus",
            "Saison Bernice",
            "Unibroue Blanche de Chambly",
            "Four Winds Phaedra Rye Wheat IPA",
            "Opperbacco Blanche de Lotario"
           ]
          }
         ],
         "layout": {
          "bargap": 0.15,
          "font": {
           "size": 14
          },
          "plot_bgcolor": "#FFFFFF",
          "title": {
           "text": "Top 10 beers in the world from 2000 to 2017"
          },
          "xaxis": {
           "range": [
            0,
            2.796358605054868
           ],
           "showline": true,
           "visible": true
          },
          "yaxis": {
           "showline": false,
           "visible": true
          }
         },
         "name": "2015.0"
        },
        {
         "data": [
          {
           "cliponaxis": false,
           "hoverinfo": "all",
           "hovertemplate": "<extra></extra>",
           "marker": {
            "color": [
             "rgb(79, 106, 20)",
             "rgb(2, 185, 173)",
             "rgb(188, 254, 11)",
             "rgb(52, 150, 101)",
             "rgb(37, 150, 205)",
             "rgb(103, 232, 233)",
             "rgb(214, 159, 25)",
             "rgb(130, 144, 93)",
             "rgb(88, 73, 58)",
             "rgb(224, 228, 180)"
            ]
           },
           "orientation": "h",
           "textangle": 0,
           "textposition": "outside",
           "texttemplate": "%{y}<br>%{x:.4s}",
           "type": "bar",
           "x": [
            1.6309133236150697,
            1.6327746884700929,
            1.65167625476196,
            1.9003550471197763,
            1.9148003899577124,
            1.932732074470068,
            1.9683048585754683,
            2.0956611027231538,
            2.32265547193058,
            2.330646926702521
           ],
           "y": [
            "Aardmonnik - Earthmonk",
            "Hors Série Ceci N'est Pas Une Gueuze",
            "Frejdahl Gudmund",
            "To Øl Passion Of The Weisst",
            "Xyauyù Etichetta Rame (Copper)",
            "Skovlyst Julebryg",
            "Charlevoix Dominus Vobiscum Lupulus",
            "Ghost Black Beast",
            "Skovlyst Lossen",
            "Indie Alehouse Zombie Apocalypse (Bourbon)"
           ]
          }
         ],
         "layout": {
          "bargap": 0.15,
          "font": {
           "size": 14
          },
          "plot_bgcolor": "#FFFFFF",
          "title": {
           "text": "Top 10 beers in the world from 2000 to 2017"
          },
          "xaxis": {
           "range": [
            0,
            2.796358605054868
           ],
           "showline": true,
           "visible": true
          },
          "yaxis": {
           "showline": false,
           "visible": true
          }
         },
         "name": "2016.0"
        },
        {
         "data": [
          {
           "cliponaxis": false,
           "hoverinfo": "all",
           "hovertemplate": "<extra></extra>",
           "marker": {
            "color": [
             "rgb(167, 135, 35)",
             "rgb(109, 6, 103)",
             "rgb(241, 248, 217)",
             "rgb(143, 252, 91)",
             "rgb(17, 172, 240)",
             "rgb(190, 56, 230)",
             "rgb(184, 2, 18)",
             "rgb(127, 63, 112)",
             "rgb(38, 170, 47)",
             "rgb(153, 240, 0)"
            ]
           },
           "orientation": "h",
           "textangle": 0,
           "textposition": "outside",
           "texttemplate": "%{y}<br>%{x:.4s}",
           "type": "bar",
           "x": [
            1.5461166604658836,
            1.547184850088554,
            1.5563119039202395,
            1.581953108750554,
            1.6360558401007417,
            1.654410184218145,
            1.7331561781565548,
            1.7420509005188278,
            1.778935444645838,
            1.8188611526235283
           ],
           "y": [
            "LoverBeer A Renna Glüh",
            "Benelux Moisson (2011)",
            "Birrificio Italiano Nigredo (Negra 3.0)",
            "Midtfyns Jule Stout",
            "Amager / Lervig Brown Boobies Falling",
            "RJ Le Cheval Blanc Double Blanche (IPA belge)",
            "Double Nelson",
            "Thisted Thy Ale",
            "Pladderballe Brodtgaard Basement Reserve",
            "Coedo / Stone / Garage Project Tsuyu Saison"
           ]
          }
         ],
         "layout": {
          "bargap": 0.15,
          "font": {
           "size": 14
          },
          "plot_bgcolor": "#FFFFFF",
          "title": {
           "text": "Top 10 beers in the world from 2000 to 2017"
          },
          "xaxis": {
           "range": [
            0,
            2.796358605054868
           ],
           "showline": true,
           "visible": true
          },
          "yaxis": {
           "showline": false,
           "visible": true
          }
         },
         "name": "2017.0"
        }
       ],
       "layout": {
        "bargap": 0.15,
        "font": {
         "size": 14
        },
        "plot_bgcolor": "#FFFFFF",
        "sliders": [
         {
          "active": 0,
          "currentvalue": {
           "font": {
            "size": 20
           },
           "prefix": "Date: ",
           "visible": true,
           "xanchor": "right"
          },
          "len": 0.9,
          "pad": {
           "b": 10,
           "t": 50
          },
          "steps": [
           {
            "args": [
             [
              "2000.0"
             ],
             {
              "frame": {
               "duration": 800,
               "redraw": false
              },
              "mode": "immediate",
              "transition": {
               "duration": 800
              }
             }
            ],
            "label": "2000.0",
            "method": "animate"
           },
           {
            "args": [
             [
              "2001.0"
             ],
             {
              "frame": {
               "duration": 800,
               "redraw": false
              },
              "mode": "immediate",
              "transition": {
               "duration": 800
              }
             }
            ],
            "label": "2001.0",
            "method": "animate"
           },
           {
            "args": [
             [
              "2002.0"
             ],
             {
              "frame": {
               "duration": 800,
               "redraw": false
              },
              "mode": "immediate",
              "transition": {
               "duration": 800
              }
             }
            ],
            "label": "2002.0",
            "method": "animate"
           },
           {
            "args": [
             [
              "2003.0"
             ],
             {
              "frame": {
               "duration": 800,
               "redraw": false
              },
              "mode": "immediate",
              "transition": {
               "duration": 800
              }
             }
            ],
            "label": "2003.0",
            "method": "animate"
           },
           {
            "args": [
             [
              "2004.0"
             ],
             {
              "frame": {
               "duration": 800,
               "redraw": false
              },
              "mode": "immediate",
              "transition": {
               "duration": 800
              }
             }
            ],
            "label": "2004.0",
            "method": "animate"
           },
           {
            "args": [
             [
              "2005.0"
             ],
             {
              "frame": {
               "duration": 800,
               "redraw": false
              },
              "mode": "immediate",
              "transition": {
               "duration": 800
              }
             }
            ],
            "label": "2005.0",
            "method": "animate"
           },
           {
            "args": [
             [
              "2006.0"
             ],
             {
              "frame": {
               "duration": 800,
               "redraw": false
              },
              "mode": "immediate",
              "transition": {
               "duration": 800
              }
             }
            ],
            "label": "2006.0",
            "method": "animate"
           },
           {
            "args": [
             [
              "2007.0"
             ],
             {
              "frame": {
               "duration": 800,
               "redraw": false
              },
              "mode": "immediate",
              "transition": {
               "duration": 800
              }
             }
            ],
            "label": "2007.0",
            "method": "animate"
           },
           {
            "args": [
             [
              "2008.0"
             ],
             {
              "frame": {
               "duration": 800,
               "redraw": false
              },
              "mode": "immediate",
              "transition": {
               "duration": 800
              }
             }
            ],
            "label": "2008.0",
            "method": "animate"
           },
           {
            "args": [
             [
              "2009.0"
             ],
             {
              "frame": {
               "duration": 800,
               "redraw": false
              },
              "mode": "immediate",
              "transition": {
               "duration": 800
              }
             }
            ],
            "label": "2009.0",
            "method": "animate"
           },
           {
            "args": [
             [
              "2010.0"
             ],
             {
              "frame": {
               "duration": 800,
               "redraw": false
              },
              "mode": "immediate",
              "transition": {
               "duration": 800
              }
             }
            ],
            "label": "2010.0",
            "method": "animate"
           },
           {
            "args": [
             [
              "2011.0"
             ],
             {
              "frame": {
               "duration": 800,
               "redraw": false
              },
              "mode": "immediate",
              "transition": {
               "duration": 800
              }
             }
            ],
            "label": "2011.0",
            "method": "animate"
           },
           {
            "args": [
             [
              "2012.0"
             ],
             {
              "frame": {
               "duration": 800,
               "redraw": false
              },
              "mode": "immediate",
              "transition": {
               "duration": 800
              }
             }
            ],
            "label": "2012.0",
            "method": "animate"
           },
           {
            "args": [
             [
              "2013.0"
             ],
             {
              "frame": {
               "duration": 800,
               "redraw": false
              },
              "mode": "immediate",
              "transition": {
               "duration": 800
              }
             }
            ],
            "label": "2013.0",
            "method": "animate"
           },
           {
            "args": [
             [
              "2014.0"
             ],
             {
              "frame": {
               "duration": 800,
               "redraw": false
              },
              "mode": "immediate",
              "transition": {
               "duration": 800
              }
             }
            ],
            "label": "2014.0",
            "method": "animate"
           },
           {
            "args": [
             [
              "2015.0"
             ],
             {
              "frame": {
               "duration": 800,
               "redraw": false
              },
              "mode": "immediate",
              "transition": {
               "duration": 800
              }
             }
            ],
            "label": "2015.0",
            "method": "animate"
           },
           {
            "args": [
             [
              "2016.0"
             ],
             {
              "frame": {
               "duration": 800,
               "redraw": false
              },
              "mode": "immediate",
              "transition": {
               "duration": 800
              }
             }
            ],
            "label": "2016.0",
            "method": "animate"
           },
           {
            "args": [
             [
              "2017.0"
             ],
             {
              "frame": {
               "duration": 800,
               "redraw": false
              },
              "mode": "immediate",
              "transition": {
               "duration": 800
              }
             }
            ],
            "label": "2017.0",
            "method": "animate"
           }
          ],
          "transition": {
           "duration": 300,
           "easing": "cubic-in-out"
          },
          "x": 0.1,
          "xanchor": "left",
          "y": 0,
          "yanchor": "top"
         }
        ],
        "template": {
         "data": {
          "bar": [
           {
            "error_x": {
             "color": "#2a3f5f"
            },
            "error_y": {
             "color": "#2a3f5f"
            },
            "marker": {
             "line": {
              "color": "#E5ECF6",
              "width": 0.5
             },
             "pattern": {
              "fillmode": "overlay",
              "size": 10,
              "solidity": 0.2
             }
            },
            "type": "bar"
           }
          ],
          "barpolar": [
           {
            "marker": {
             "line": {
              "color": "#E5ECF6",
              "width": 0.5
             },
             "pattern": {
              "fillmode": "overlay",
              "size": 10,
              "solidity": 0.2
             }
            },
            "type": "barpolar"
           }
          ],
          "carpet": [
           {
            "aaxis": {
             "endlinecolor": "#2a3f5f",
             "gridcolor": "white",
             "linecolor": "white",
             "minorgridcolor": "white",
             "startlinecolor": "#2a3f5f"
            },
            "baxis": {
             "endlinecolor": "#2a3f5f",
             "gridcolor": "white",
             "linecolor": "white",
             "minorgridcolor": "white",
             "startlinecolor": "#2a3f5f"
            },
            "type": "carpet"
           }
          ],
          "choropleth": [
           {
            "colorbar": {
             "outlinewidth": 0,
             "ticks": ""
            },
            "type": "choropleth"
           }
          ],
          "contour": [
           {
            "colorbar": {
             "outlinewidth": 0,
             "ticks": ""
            },
            "colorscale": [
             [
              0,
              "#0d0887"
             ],
             [
              0.1111111111111111,
              "#46039f"
             ],
             [
              0.2222222222222222,
              "#7201a8"
             ],
             [
              0.3333333333333333,
              "#9c179e"
             ],
             [
              0.4444444444444444,
              "#bd3786"
             ],
             [
              0.5555555555555556,
              "#d8576b"
             ],
             [
              0.6666666666666666,
              "#ed7953"
             ],
             [
              0.7777777777777778,
              "#fb9f3a"
             ],
             [
              0.8888888888888888,
              "#fdca26"
             ],
             [
              1,
              "#f0f921"
             ]
            ],
            "type": "contour"
           }
          ],
          "contourcarpet": [
           {
            "colorbar": {
             "outlinewidth": 0,
             "ticks": ""
            },
            "type": "contourcarpet"
           }
          ],
          "heatmap": [
           {
            "colorbar": {
             "outlinewidth": 0,
             "ticks": ""
            },
            "colorscale": [
             [
              0,
              "#0d0887"
             ],
             [
              0.1111111111111111,
              "#46039f"
             ],
             [
              0.2222222222222222,
              "#7201a8"
             ],
             [
              0.3333333333333333,
              "#9c179e"
             ],
             [
              0.4444444444444444,
              "#bd3786"
             ],
             [
              0.5555555555555556,
              "#d8576b"
             ],
             [
              0.6666666666666666,
              "#ed7953"
             ],
             [
              0.7777777777777778,
              "#fb9f3a"
             ],
             [
              0.8888888888888888,
              "#fdca26"
             ],
             [
              1,
              "#f0f921"
             ]
            ],
            "type": "heatmap"
           }
          ],
          "heatmapgl": [
           {
            "colorbar": {
             "outlinewidth": 0,
             "ticks": ""
            },
            "colorscale": [
             [
              0,
              "#0d0887"
             ],
             [
              0.1111111111111111,
              "#46039f"
             ],
             [
              0.2222222222222222,
              "#7201a8"
             ],
             [
              0.3333333333333333,
              "#9c179e"
             ],
             [
              0.4444444444444444,
              "#bd3786"
             ],
             [
              0.5555555555555556,
              "#d8576b"
             ],
             [
              0.6666666666666666,
              "#ed7953"
             ],
             [
              0.7777777777777778,
              "#fb9f3a"
             ],
             [
              0.8888888888888888,
              "#fdca26"
             ],
             [
              1,
              "#f0f921"
             ]
            ],
            "type": "heatmapgl"
           }
          ],
          "histogram": [
           {
            "marker": {
             "pattern": {
              "fillmode": "overlay",
              "size": 10,
              "solidity": 0.2
             }
            },
            "type": "histogram"
           }
          ],
          "histogram2d": [
           {
            "colorbar": {
             "outlinewidth": 0,
             "ticks": ""
            },
            "colorscale": [
             [
              0,
              "#0d0887"
             ],
             [
              0.1111111111111111,
              "#46039f"
             ],
             [
              0.2222222222222222,
              "#7201a8"
             ],
             [
              0.3333333333333333,
              "#9c179e"
             ],
             [
              0.4444444444444444,
              "#bd3786"
             ],
             [
              0.5555555555555556,
              "#d8576b"
             ],
             [
              0.6666666666666666,
              "#ed7953"
             ],
             [
              0.7777777777777778,
              "#fb9f3a"
             ],
             [
              0.8888888888888888,
              "#fdca26"
             ],
             [
              1,
              "#f0f921"
             ]
            ],
            "type": "histogram2d"
           }
          ],
          "histogram2dcontour": [
           {
            "colorbar": {
             "outlinewidth": 0,
             "ticks": ""
            },
            "colorscale": [
             [
              0,
              "#0d0887"
             ],
             [
              0.1111111111111111,
              "#46039f"
             ],
             [
              0.2222222222222222,
              "#7201a8"
             ],
             [
              0.3333333333333333,
              "#9c179e"
             ],
             [
              0.4444444444444444,
              "#bd3786"
             ],
             [
              0.5555555555555556,
              "#d8576b"
             ],
             [
              0.6666666666666666,
              "#ed7953"
             ],
             [
              0.7777777777777778,
              "#fb9f3a"
             ],
             [
              0.8888888888888888,
              "#fdca26"
             ],
             [
              1,
              "#f0f921"
             ]
            ],
            "type": "histogram2dcontour"
           }
          ],
          "mesh3d": [
           {
            "colorbar": {
             "outlinewidth": 0,
             "ticks": ""
            },
            "type": "mesh3d"
           }
          ],
          "parcoords": [
           {
            "line": {
             "colorbar": {
              "outlinewidth": 0,
              "ticks": ""
             }
            },
            "type": "parcoords"
           }
          ],
          "pie": [
           {
            "automargin": true,
            "type": "pie"
           }
          ],
          "scatter": [
           {
            "fillpattern": {
             "fillmode": "overlay",
             "size": 10,
             "solidity": 0.2
            },
            "type": "scatter"
           }
          ],
          "scatter3d": [
           {
            "line": {
             "colorbar": {
              "outlinewidth": 0,
              "ticks": ""
             }
            },
            "marker": {
             "colorbar": {
              "outlinewidth": 0,
              "ticks": ""
             }
            },
            "type": "scatter3d"
           }
          ],
          "scattercarpet": [
           {
            "marker": {
             "colorbar": {
              "outlinewidth": 0,
              "ticks": ""
             }
            },
            "type": "scattercarpet"
           }
          ],
          "scattergeo": [
           {
            "marker": {
             "colorbar": {
              "outlinewidth": 0,
              "ticks": ""
             }
            },
            "type": "scattergeo"
           }
          ],
          "scattergl": [
           {
            "marker": {
             "colorbar": {
              "outlinewidth": 0,
              "ticks": ""
             }
            },
            "type": "scattergl"
           }
          ],
          "scattermapbox": [
           {
            "marker": {
             "colorbar": {
              "outlinewidth": 0,
              "ticks": ""
             }
            },
            "type": "scattermapbox"
           }
          ],
          "scatterpolar": [
           {
            "marker": {
             "colorbar": {
              "outlinewidth": 0,
              "ticks": ""
             }
            },
            "type": "scatterpolar"
           }
          ],
          "scatterpolargl": [
           {
            "marker": {
             "colorbar": {
              "outlinewidth": 0,
              "ticks": ""
             }
            },
            "type": "scatterpolargl"
           }
          ],
          "scatterternary": [
           {
            "marker": {
             "colorbar": {
              "outlinewidth": 0,
              "ticks": ""
             }
            },
            "type": "scatterternary"
           }
          ],
          "surface": [
           {
            "colorbar": {
             "outlinewidth": 0,
             "ticks": ""
            },
            "colorscale": [
             [
              0,
              "#0d0887"
             ],
             [
              0.1111111111111111,
              "#46039f"
             ],
             [
              0.2222222222222222,
              "#7201a8"
             ],
             [
              0.3333333333333333,
              "#9c179e"
             ],
             [
              0.4444444444444444,
              "#bd3786"
             ],
             [
              0.5555555555555556,
              "#d8576b"
             ],
             [
              0.6666666666666666,
              "#ed7953"
             ],
             [
              0.7777777777777778,
              "#fb9f3a"
             ],
             [
              0.8888888888888888,
              "#fdca26"
             ],
             [
              1,
              "#f0f921"
             ]
            ],
            "type": "surface"
           }
          ],
          "table": [
           {
            "cells": {
             "fill": {
              "color": "#EBF0F8"
             },
             "line": {
              "color": "white"
             }
            },
            "header": {
             "fill": {
              "color": "#C8D4E3"
             },
             "line": {
              "color": "white"
             }
            },
            "type": "table"
           }
          ]
         },
         "layout": {
          "annotationdefaults": {
           "arrowcolor": "#2a3f5f",
           "arrowhead": 0,
           "arrowwidth": 1
          },
          "autotypenumbers": "strict",
          "coloraxis": {
           "colorbar": {
            "outlinewidth": 0,
            "ticks": ""
           }
          },
          "colorscale": {
           "diverging": [
            [
             0,
             "#8e0152"
            ],
            [
             0.1,
             "#c51b7d"
            ],
            [
             0.2,
             "#de77ae"
            ],
            [
             0.3,
             "#f1b6da"
            ],
            [
             0.4,
             "#fde0ef"
            ],
            [
             0.5,
             "#f7f7f7"
            ],
            [
             0.6,
             "#e6f5d0"
            ],
            [
             0.7,
             "#b8e186"
            ],
            [
             0.8,
             "#7fbc41"
            ],
            [
             0.9,
             "#4d9221"
            ],
            [
             1,
             "#276419"
            ]
           ],
           "sequential": [
            [
             0,
             "#0d0887"
            ],
            [
             0.1111111111111111,
             "#46039f"
            ],
            [
             0.2222222222222222,
             "#7201a8"
            ],
            [
             0.3333333333333333,
             "#9c179e"
            ],
            [
             0.4444444444444444,
             "#bd3786"
            ],
            [
             0.5555555555555556,
             "#d8576b"
            ],
            [
             0.6666666666666666,
             "#ed7953"
            ],
            [
             0.7777777777777778,
             "#fb9f3a"
            ],
            [
             0.8888888888888888,
             "#fdca26"
            ],
            [
             1,
             "#f0f921"
            ]
           ],
           "sequentialminus": [
            [
             0,
             "#0d0887"
            ],
            [
             0.1111111111111111,
             "#46039f"
            ],
            [
             0.2222222222222222,
             "#7201a8"
            ],
            [
             0.3333333333333333,
             "#9c179e"
            ],
            [
             0.4444444444444444,
             "#bd3786"
            ],
            [
             0.5555555555555556,
             "#d8576b"
            ],
            [
             0.6666666666666666,
             "#ed7953"
            ],
            [
             0.7777777777777778,
             "#fb9f3a"
            ],
            [
             0.8888888888888888,
             "#fdca26"
            ],
            [
             1,
             "#f0f921"
            ]
           ]
          },
          "colorway": [
           "#636efa",
           "#EF553B",
           "#00cc96",
           "#ab63fa",
           "#FFA15A",
           "#19d3f3",
           "#FF6692",
           "#B6E880",
           "#FF97FF",
           "#FECB52"
          ],
          "font": {
           "color": "#2a3f5f"
          },
          "geo": {
           "bgcolor": "white",
           "lakecolor": "white",
           "landcolor": "#E5ECF6",
           "showlakes": true,
           "showland": true,
           "subunitcolor": "white"
          },
          "hoverlabel": {
           "align": "left"
          },
          "hovermode": "closest",
          "mapbox": {
           "style": "light"
          },
          "paper_bgcolor": "white",
          "plot_bgcolor": "#E5ECF6",
          "polar": {
           "angularaxis": {
            "gridcolor": "white",
            "linecolor": "white",
            "ticks": ""
           },
           "bgcolor": "#E5ECF6",
           "radialaxis": {
            "gridcolor": "white",
            "linecolor": "white",
            "ticks": ""
           }
          },
          "scene": {
           "xaxis": {
            "backgroundcolor": "#E5ECF6",
            "gridcolor": "white",
            "gridwidth": 2,
            "linecolor": "white",
            "showbackground": true,
            "ticks": "",
            "zerolinecolor": "white"
           },
           "yaxis": {
            "backgroundcolor": "#E5ECF6",
            "gridcolor": "white",
            "gridwidth": 2,
            "linecolor": "white",
            "showbackground": true,
            "ticks": "",
            "zerolinecolor": "white"
           },
           "zaxis": {
            "backgroundcolor": "#E5ECF6",
            "gridcolor": "white",
            "gridwidth": 2,
            "linecolor": "white",
            "showbackground": true,
            "ticks": "",
            "zerolinecolor": "white"
           }
          },
          "shapedefaults": {
           "line": {
            "color": "#2a3f5f"
           }
          },
          "ternary": {
           "aaxis": {
            "gridcolor": "white",
            "linecolor": "white",
            "ticks": ""
           },
           "baxis": {
            "gridcolor": "white",
            "linecolor": "white",
            "ticks": ""
           },
           "bgcolor": "#E5ECF6",
           "caxis": {
            "gridcolor": "white",
            "linecolor": "white",
            "ticks": ""
           }
          },
          "title": {
           "x": 0.05
          },
          "xaxis": {
           "automargin": true,
           "gridcolor": "white",
           "linecolor": "white",
           "ticks": "",
           "title": {
            "standoff": 15
           },
           "zerolinecolor": "white",
           "zerolinewidth": 2
          },
          "yaxis": {
           "automargin": true,
           "gridcolor": "white",
           "linecolor": "white",
           "ticks": "",
           "title": {
            "standoff": 15
           },
           "zerolinecolor": "white",
           "zerolinewidth": 2
          }
         }
        },
        "title": {
         "text": "Top 10 beers in the world from 2000 to 2017"
        },
        "updatemenus": [
         {
          "buttons": [
           {
            "args": [
             null,
             {
              "frame": {
               "duration": 800,
               "redraw": false
              },
              "fromcurrent": true,
              "transition": {
               "duration": 800,
               "easing": "quadratic-in-out"
              }
             }
            ],
            "label": "Play",
            "method": "animate"
           },
           {
            "args": [
             [
              null
             ],
             {
              "frame": {
               "duration": 0,
               "redraw": false
              },
              "mode": "immediate",
              "transition": {
               "duration": 0
              }
             }
            ],
            "label": "Pause",
            "method": "animate"
           }
          ],
          "direction": "left",
          "pad": {
           "r": 10,
           "t": 87
          },
          "showactive": true,
          "type": "buttons",
          "x": 0.1,
          "xanchor": "right",
          "y": 0,
          "yanchor": "top"
         }
        ],
        "xaxis": {
         "range": [
          0,
          2.796358605054868
         ],
         "showline": true,
         "showticklabels": true,
         "title": {
          "text": "New rating"
         },
         "visible": true
        },
        "yaxis": {
         "showline": false,
         "showticklabels": false,
         "title": {
          "text": "Top 10 beers"
         },
         "visible": true
        }
       }
      }
     },
     "metadata": {},
     "output_type": "display_data"
    }
   ],
   "source": [
    "import pandas as pd\n",
    "from raceplotly.plots import barplot\n",
    "\n",
    "data = pd.read_csv('./../ada-2023-project-laremontada61/top_10_beers_by_year.csv')\n",
    "my_raceplot = barplot(data,\n",
    "                      item_column='beer_name',\n",
    "                      value_column='new_rating',\n",
    "                      time_column='year')\n",
    "\n",
    "my_raceplot.plot(title = 'Top 10 beers in the world from 2000 to 2017',\n",
    "                 item_label = 'Top 10 beers',\n",
    "                 value_label = 'New rating',\n",
    "                 frame_duration = 800)"
   ]
  },
  {
   "cell_type": "code",
   "execution_count": 133,
   "metadata": {},
   "outputs": [],
   "source": [
    "import plotly.graph_objects as go\n",
    "fig = {\n",
    "    \"data\": [],\n",
    "    \"layout\": {},\n",
    "    \"frames\": []\n",
    "}"
   ]
  },
  {
   "cell_type": "code",
   "execution_count": 151,
   "metadata": {},
   "outputs": [
    {
     "data": {
      "application/vnd.plotly.v1+json": {
       "config": {
        "plotlyServerURL": "https://plot.ly"
       },
       "data": [
        {
         "hoverinfo": "all",
         "marker": {
          "color": [
           "rgb(184, 156, 50)",
           "rgb(192, 122, 73)",
           "rgb(207, 205, 72)",
           "rgb(185, 28, 241)",
           "rgb(226, 237, 82)",
           "rgb(36, 22, 158)",
           "rgb(122, 101, 58)",
           "rgb(117, 12, 172)",
           "rgb(3, 96, 237)",
           "rgb(119, 31, 203)"
          ]
         },
         "orientation": "h",
         "textposition": "inside",
         "texttemplate": "%{y}<br>%{x:.4s}",
         "type": "bar",
         "x": [
          1.9148003899577124,
          1.9268002384767275,
          1.932732074470068,
          1.9683048585754683,
          2.0956611027231538,
          2.253825333425378,
          2.32265547193058,
          2.330646926702521,
          2.510691214725717,
          2.796358605054868
         ],
         "y": [
          "Xyauyù Etichetta Rame (Copper)",
          "Molson Standard Lager",
          "Skovlyst Julebryg",
          "Charlevoix Dominus Vobiscum Lupulus",
          "Ghost Black Beast",
          "Beer Here / Raasted Bukkake",
          "Skovlyst Lossen",
          "Indie Alehouse Zombie Apocalypse (Bourbon)",
          "Birra del Borgo Perle ai Porci (Pearls for Pigs)",
          "Mandøl Smagen af Mandø"
         ]
        }
       ],
       "layout": {
        "bargap": 0.15,
        "font": {
         "size": 15
        },
        "plot_bgcolor": "white",
        "template": {
         "data": {
          "bar": [
           {
            "error_x": {
             "color": "#2a3f5f"
            },
            "error_y": {
             "color": "#2a3f5f"
            },
            "marker": {
             "line": {
              "color": "#E5ECF6",
              "width": 0.5
             },
             "pattern": {
              "fillmode": "overlay",
              "size": 10,
              "solidity": 0.2
             }
            },
            "type": "bar"
           }
          ],
          "barpolar": [
           {
            "marker": {
             "line": {
              "color": "#E5ECF6",
              "width": 0.5
             },
             "pattern": {
              "fillmode": "overlay",
              "size": 10,
              "solidity": 0.2
             }
            },
            "type": "barpolar"
           }
          ],
          "carpet": [
           {
            "aaxis": {
             "endlinecolor": "#2a3f5f",
             "gridcolor": "white",
             "linecolor": "white",
             "minorgridcolor": "white",
             "startlinecolor": "#2a3f5f"
            },
            "baxis": {
             "endlinecolor": "#2a3f5f",
             "gridcolor": "white",
             "linecolor": "white",
             "minorgridcolor": "white",
             "startlinecolor": "#2a3f5f"
            },
            "type": "carpet"
           }
          ],
          "choropleth": [
           {
            "colorbar": {
             "outlinewidth": 0,
             "ticks": ""
            },
            "type": "choropleth"
           }
          ],
          "contour": [
           {
            "colorbar": {
             "outlinewidth": 0,
             "ticks": ""
            },
            "colorscale": [
             [
              0,
              "#0d0887"
             ],
             [
              0.1111111111111111,
              "#46039f"
             ],
             [
              0.2222222222222222,
              "#7201a8"
             ],
             [
              0.3333333333333333,
              "#9c179e"
             ],
             [
              0.4444444444444444,
              "#bd3786"
             ],
             [
              0.5555555555555556,
              "#d8576b"
             ],
             [
              0.6666666666666666,
              "#ed7953"
             ],
             [
              0.7777777777777778,
              "#fb9f3a"
             ],
             [
              0.8888888888888888,
              "#fdca26"
             ],
             [
              1,
              "#f0f921"
             ]
            ],
            "type": "contour"
           }
          ],
          "contourcarpet": [
           {
            "colorbar": {
             "outlinewidth": 0,
             "ticks": ""
            },
            "type": "contourcarpet"
           }
          ],
          "heatmap": [
           {
            "colorbar": {
             "outlinewidth": 0,
             "ticks": ""
            },
            "colorscale": [
             [
              0,
              "#0d0887"
             ],
             [
              0.1111111111111111,
              "#46039f"
             ],
             [
              0.2222222222222222,
              "#7201a8"
             ],
             [
              0.3333333333333333,
              "#9c179e"
             ],
             [
              0.4444444444444444,
              "#bd3786"
             ],
             [
              0.5555555555555556,
              "#d8576b"
             ],
             [
              0.6666666666666666,
              "#ed7953"
             ],
             [
              0.7777777777777778,
              "#fb9f3a"
             ],
             [
              0.8888888888888888,
              "#fdca26"
             ],
             [
              1,
              "#f0f921"
             ]
            ],
            "type": "heatmap"
           }
          ],
          "heatmapgl": [
           {
            "colorbar": {
             "outlinewidth": 0,
             "ticks": ""
            },
            "colorscale": [
             [
              0,
              "#0d0887"
             ],
             [
              0.1111111111111111,
              "#46039f"
             ],
             [
              0.2222222222222222,
              "#7201a8"
             ],
             [
              0.3333333333333333,
              "#9c179e"
             ],
             [
              0.4444444444444444,
              "#bd3786"
             ],
             [
              0.5555555555555556,
              "#d8576b"
             ],
             [
              0.6666666666666666,
              "#ed7953"
             ],
             [
              0.7777777777777778,
              "#fb9f3a"
             ],
             [
              0.8888888888888888,
              "#fdca26"
             ],
             [
              1,
              "#f0f921"
             ]
            ],
            "type": "heatmapgl"
           }
          ],
          "histogram": [
           {
            "marker": {
             "pattern": {
              "fillmode": "overlay",
              "size": 10,
              "solidity": 0.2
             }
            },
            "type": "histogram"
           }
          ],
          "histogram2d": [
           {
            "colorbar": {
             "outlinewidth": 0,
             "ticks": ""
            },
            "colorscale": [
             [
              0,
              "#0d0887"
             ],
             [
              0.1111111111111111,
              "#46039f"
             ],
             [
              0.2222222222222222,
              "#7201a8"
             ],
             [
              0.3333333333333333,
              "#9c179e"
             ],
             [
              0.4444444444444444,
              "#bd3786"
             ],
             [
              0.5555555555555556,
              "#d8576b"
             ],
             [
              0.6666666666666666,
              "#ed7953"
             ],
             [
              0.7777777777777778,
              "#fb9f3a"
             ],
             [
              0.8888888888888888,
              "#fdca26"
             ],
             [
              1,
              "#f0f921"
             ]
            ],
            "type": "histogram2d"
           }
          ],
          "histogram2dcontour": [
           {
            "colorbar": {
             "outlinewidth": 0,
             "ticks": ""
            },
            "colorscale": [
             [
              0,
              "#0d0887"
             ],
             [
              0.1111111111111111,
              "#46039f"
             ],
             [
              0.2222222222222222,
              "#7201a8"
             ],
             [
              0.3333333333333333,
              "#9c179e"
             ],
             [
              0.4444444444444444,
              "#bd3786"
             ],
             [
              0.5555555555555556,
              "#d8576b"
             ],
             [
              0.6666666666666666,
              "#ed7953"
             ],
             [
              0.7777777777777778,
              "#fb9f3a"
             ],
             [
              0.8888888888888888,
              "#fdca26"
             ],
             [
              1,
              "#f0f921"
             ]
            ],
            "type": "histogram2dcontour"
           }
          ],
          "mesh3d": [
           {
            "colorbar": {
             "outlinewidth": 0,
             "ticks": ""
            },
            "type": "mesh3d"
           }
          ],
          "parcoords": [
           {
            "line": {
             "colorbar": {
              "outlinewidth": 0,
              "ticks": ""
             }
            },
            "type": "parcoords"
           }
          ],
          "pie": [
           {
            "automargin": true,
            "type": "pie"
           }
          ],
          "scatter": [
           {
            "fillpattern": {
             "fillmode": "overlay",
             "size": 10,
             "solidity": 0.2
            },
            "type": "scatter"
           }
          ],
          "scatter3d": [
           {
            "line": {
             "colorbar": {
              "outlinewidth": 0,
              "ticks": ""
             }
            },
            "marker": {
             "colorbar": {
              "outlinewidth": 0,
              "ticks": ""
             }
            },
            "type": "scatter3d"
           }
          ],
          "scattercarpet": [
           {
            "marker": {
             "colorbar": {
              "outlinewidth": 0,
              "ticks": ""
             }
            },
            "type": "scattercarpet"
           }
          ],
          "scattergeo": [
           {
            "marker": {
             "colorbar": {
              "outlinewidth": 0,
              "ticks": ""
             }
            },
            "type": "scattergeo"
           }
          ],
          "scattergl": [
           {
            "marker": {
             "colorbar": {
              "outlinewidth": 0,
              "ticks": ""
             }
            },
            "type": "scattergl"
           }
          ],
          "scattermapbox": [
           {
            "marker": {
             "colorbar": {
              "outlinewidth": 0,
              "ticks": ""
             }
            },
            "type": "scattermapbox"
           }
          ],
          "scatterpolar": [
           {
            "marker": {
             "colorbar": {
              "outlinewidth": 0,
              "ticks": ""
             }
            },
            "type": "scatterpolar"
           }
          ],
          "scatterpolargl": [
           {
            "marker": {
             "colorbar": {
              "outlinewidth": 0,
              "ticks": ""
             }
            },
            "type": "scatterpolargl"
           }
          ],
          "scatterternary": [
           {
            "marker": {
             "colorbar": {
              "outlinewidth": 0,
              "ticks": ""
             }
            },
            "type": "scatterternary"
           }
          ],
          "surface": [
           {
            "colorbar": {
             "outlinewidth": 0,
             "ticks": ""
            },
            "colorscale": [
             [
              0,
              "#0d0887"
             ],
             [
              0.1111111111111111,
              "#46039f"
             ],
             [
              0.2222222222222222,
              "#7201a8"
             ],
             [
              0.3333333333333333,
              "#9c179e"
             ],
             [
              0.4444444444444444,
              "#bd3786"
             ],
             [
              0.5555555555555556,
              "#d8576b"
             ],
             [
              0.6666666666666666,
              "#ed7953"
             ],
             [
              0.7777777777777778,
              "#fb9f3a"
             ],
             [
              0.8888888888888888,
              "#fdca26"
             ],
             [
              1,
              "#f0f921"
             ]
            ],
            "type": "surface"
           }
          ],
          "table": [
           {
            "cells": {
             "fill": {
              "color": "#EBF0F8"
             },
             "line": {
              "color": "white"
             }
            },
            "header": {
             "fill": {
              "color": "#C8D4E3"
             },
             "line": {
              "color": "white"
             }
            },
            "type": "table"
           }
          ]
         },
         "layout": {
          "annotationdefaults": {
           "arrowcolor": "#2a3f5f",
           "arrowhead": 0,
           "arrowwidth": 1
          },
          "autotypenumbers": "strict",
          "coloraxis": {
           "colorbar": {
            "outlinewidth": 0,
            "ticks": ""
           }
          },
          "colorscale": {
           "diverging": [
            [
             0,
             "#8e0152"
            ],
            [
             0.1,
             "#c51b7d"
            ],
            [
             0.2,
             "#de77ae"
            ],
            [
             0.3,
             "#f1b6da"
            ],
            [
             0.4,
             "#fde0ef"
            ],
            [
             0.5,
             "#f7f7f7"
            ],
            [
             0.6,
             "#e6f5d0"
            ],
            [
             0.7,
             "#b8e186"
            ],
            [
             0.8,
             "#7fbc41"
            ],
            [
             0.9,
             "#4d9221"
            ],
            [
             1,
             "#276419"
            ]
           ],
           "sequential": [
            [
             0,
             "#0d0887"
            ],
            [
             0.1111111111111111,
             "#46039f"
            ],
            [
             0.2222222222222222,
             "#7201a8"
            ],
            [
             0.3333333333333333,
             "#9c179e"
            ],
            [
             0.4444444444444444,
             "#bd3786"
            ],
            [
             0.5555555555555556,
             "#d8576b"
            ],
            [
             0.6666666666666666,
             "#ed7953"
            ],
            [
             0.7777777777777778,
             "#fb9f3a"
            ],
            [
             0.8888888888888888,
             "#fdca26"
            ],
            [
             1,
             "#f0f921"
            ]
           ],
           "sequentialminus": [
            [
             0,
             "#0d0887"
            ],
            [
             0.1111111111111111,
             "#46039f"
            ],
            [
             0.2222222222222222,
             "#7201a8"
            ],
            [
             0.3333333333333333,
             "#9c179e"
            ],
            [
             0.4444444444444444,
             "#bd3786"
            ],
            [
             0.5555555555555556,
             "#d8576b"
            ],
            [
             0.6666666666666666,
             "#ed7953"
            ],
            [
             0.7777777777777778,
             "#fb9f3a"
            ],
            [
             0.8888888888888888,
             "#fdca26"
            ],
            [
             1,
             "#f0f921"
            ]
           ]
          },
          "colorway": [
           "#636efa",
           "#EF553B",
           "#00cc96",
           "#ab63fa",
           "#FFA15A",
           "#19d3f3",
           "#FF6692",
           "#B6E880",
           "#FF97FF",
           "#FECB52"
          ],
          "font": {
           "color": "#2a3f5f"
          },
          "geo": {
           "bgcolor": "white",
           "lakecolor": "white",
           "landcolor": "#E5ECF6",
           "showlakes": true,
           "showland": true,
           "subunitcolor": "white"
          },
          "hoverlabel": {
           "align": "left"
          },
          "hovermode": "closest",
          "mapbox": {
           "style": "light"
          },
          "paper_bgcolor": "white",
          "plot_bgcolor": "#E5ECF6",
          "polar": {
           "angularaxis": {
            "gridcolor": "white",
            "linecolor": "white",
            "ticks": ""
           },
           "bgcolor": "#E5ECF6",
           "radialaxis": {
            "gridcolor": "white",
            "linecolor": "white",
            "ticks": ""
           }
          },
          "scene": {
           "xaxis": {
            "backgroundcolor": "#E5ECF6",
            "gridcolor": "white",
            "gridwidth": 2,
            "linecolor": "white",
            "showbackground": true,
            "ticks": "",
            "zerolinecolor": "white"
           },
           "yaxis": {
            "backgroundcolor": "#E5ECF6",
            "gridcolor": "white",
            "gridwidth": 2,
            "linecolor": "white",
            "showbackground": true,
            "ticks": "",
            "zerolinecolor": "white"
           },
           "zaxis": {
            "backgroundcolor": "#E5ECF6",
            "gridcolor": "white",
            "gridwidth": 2,
            "linecolor": "white",
            "showbackground": true,
            "ticks": "",
            "zerolinecolor": "white"
           }
          },
          "shapedefaults": {
           "line": {
            "color": "#2a3f5f"
           }
          },
          "ternary": {
           "aaxis": {
            "gridcolor": "white",
            "linecolor": "white",
            "ticks": ""
           },
           "baxis": {
            "gridcolor": "white",
            "linecolor": "white",
            "ticks": ""
           },
           "bgcolor": "#E5ECF6",
           "caxis": {
            "gridcolor": "white",
            "linecolor": "white",
            "ticks": ""
           }
          },
          "title": {
           "x": 0.05
          },
          "xaxis": {
           "automargin": true,
           "gridcolor": "white",
           "linecolor": "white",
           "ticks": "",
           "title": {
            "standoff": 15
           },
           "zerolinecolor": "white",
           "zerolinewidth": 2
          },
          "yaxis": {
           "automargin": true,
           "gridcolor": "white",
           "linecolor": "white",
           "ticks": "",
           "title": {
            "standoff": 15
           },
           "zerolinecolor": "white",
           "zerolinewidth": 2
          }
         }
        },
        "title": {
         "text": "Top 10 beers in the world from 2000 to 2017"
        },
        "updatemenus": [
         {
          "buttons": [
           {
            "args": [
             null,
             {
              "frame": {
               "duration": 500,
               "redraw": false
              },
              "fromcurrent": true,
              "transition": {
               "duration": 300,
               "easing": "quadratic-in-out"
              }
             }
            ],
            "label": "Play",
            "method": "animate"
           },
           {
            "args": [
             [
              null
             ],
             {
              "frame": {
               "duration": 0,
               "redraw": false
              },
              "mode": "immediate",
              "transition": {
               "duration": 0
              }
             }
            ],
            "label": "Pause",
            "method": "animate"
           }
          ],
          "direction": "left",
          "pad": {
           "r": 10,
           "t": 87
          },
          "showactive": true,
          "type": "buttons",
          "x": 0.1,
          "y": 0
         }
        ],
        "xaxis": {
         "range": [
          0,
          2.796358605054868
         ],
         "showline": true,
         "title": {
          "text": "New Rating"
         },
         "visible": true
        },
        "yaxis": {
         "showline": false,
         "showticklabels": true,
         "title": {
          "text": "Top 10 Beers"
         },
         "visible": true
        }
       }
      }
     },
     "metadata": {},
     "output_type": "display_data"
    }
   ],
   "source": [
    "from random import sample\n",
    "\n",
    "# 1. Load the CSV file\n",
    "data = pd.read_csv('./../ada-2023-project-laremontada61/top_10_beers_by_year.csv')\n",
    "\n",
    "# 2. Sort and get the top 10 entries\n",
    "top_entries = 10\n",
    "frame1 = data.sort_values('new_rating', ascending=False).head(top_entries)\n",
    "frame1=frame1.sort_values('new_rating', ascending=True)\n",
    "# 3. Generate colors for each unique beer name\n",
    "colors = {item: 'rgb({}, {}, {})'.format(*sample(range(256), 3)) for item in frame1['beer_name'].unique()}\n",
    "frame1['color'] = frame1['beer_name'].map(colors)\n",
    "\n",
    "# 4. Create the plotly figure\n",
    "fig = go.Figure(data=go.Bar(\n",
    "    x=frame1['new_rating'],\n",
    "    y=frame1['beer_name'],\n",
    "    marker_color=frame1['color'],\n",
    "    hoverinfo='all',  # display beer_name and new_rating when hovering over bar\n",
    "    textposition='inside',  # position text outside bar\n",
    "    texttemplate='%{y}<br>%{x:.4s}',  # display y field (beer_name), line break, and the value with up to 4 digits\n",
    "    orientation='h'  # to have bar growing rightward\n",
    "))\n",
    "\n",
    "# 5. Update the layout of the plot\n",
    "fig.update_layout(\n",
    "    title='Top 10 beers in the world from 2000 to 2017',\n",
    "    font={'size': 15},\n",
    "    plot_bgcolor='white',\n",
    "    xaxis={\n",
    "        'showline': True,\n",
    "        'visible': True,\n",
    "        'range': (0, frame1['new_rating'].max()),\n",
    "        'title_text': 'New Rating'  # title of the x axis\n",
    "    },\n",
    "    yaxis={\n",
    "        'showline': False,\n",
    "        'visible': True,\n",
    "        'showticklabels': True,\n",
    "        'title_text': 'Top ' + str(top_entries) + ' Beers'  # title of the y axis\n",
    "    },\n",
    "    bargap=0.15\n",
    ")\n",
    "\n",
    "# 6. Add update menus for play and pause\n",
    "fig[\"layout\"][\"updatemenus\"] = [\n",
    "    {\n",
    "        \"buttons\": [\n",
    "            {\n",
    "                \"args\": [None, {\n",
    "                    \"frame\": {\n",
    "                        \"duration\": 500,\n",
    "                        \"redraw\": False\n",
    "                    },\n",
    "                    \"fromcurrent\": True,\n",
    "                    \"transition\": {\n",
    "                        \"duration\": 300,\n",
    "                        \"easing\": \"quadratic-in-out\"\n",
    "                    }\n",
    "                }],\n",
    "                \"label\": \"Play\",\n",
    "                \"method\": \"animate\"\n",
    "            },\n",
    "            {\n",
    "                \"args\": [[None], {\n",
    "                    \"frame\": {\n",
    "                        \"duration\": 0,\n",
    "                        \"redraw\": False\n",
    "                    },\n",
    "                    \"mode\": \"immediate\",\n",
    "                    \"transition\": {\n",
    "                        \"duration\": 0\n",
    "                    }\n",
    "                }],\n",
    "                \"label\": \"Pause\",\n",
    "                \"method\": \"animate\"\n",
    "            }\n",
    "        ],\n",
    "        \"direction\": \"left\",\n",
    "        \"pad\": {\"r\": 10, \"t\": 87},\n",
    "        \"showactive\": True,\n",
    "        \"type\": \"buttons\",\n",
    "        \"x\": 0.1,\n",
    "        \"y\": 0\n",
    "    }\n",
    "]\n",
    "# 7. Add frames for each year\n",
    "sliders_dict = {\n",
    "    \"active\": 0,\n",
    "    \"yanchor\": \"top\",\n",
    "    \"xanchor\": \"left\",\n",
    "    \"currentvalue\": {\n",
    "        \"font\": {\"size\": 20},\n",
    "        \"prefix\": \"Year:\",\n",
    "        \"visible\": True,\n",
    "        \"xanchor\": \"right\"\n",
    "    },\n",
    "    \"transition\": {\"duration\": 300, \"easing\": \"cubic-in-out\"},\n",
    "    \"pad\": {\"b\": 10, \"t\": 50},\n",
    "    \"len\": 0.9,\n",
    "    \"x\": 0.1,\n",
    "    \"y\": 0,\n",
    "    \"steps\": []\n",
    "}\n",
    "fig.show()\n"
   ]
  },
  {
   "cell_type": "code",
   "execution_count": 154,
   "metadata": {},
   "outputs": [
    {
     "data": {
      "application/vnd.plotly.v1+json": {
       "config": {
        "plotlyServerURL": "https://plot.ly"
       },
       "data": [
        {
         "type": "bar"
        }
       ],
       "frames": [
        {
         "data": [
          {
           "hoverinfo": "all",
           "marker": {
            "color": [
             "rgb(69, 212, 8)",
             "rgb(212, 200, 148)",
             "rgb(193, 48, 234)",
             "rgb(104, 231, 197)",
             "rgb(58, 50, 95)",
             "rgb(231, 29, 248)",
             "rgb(190, 19, 114)",
             "rgb(16, 82, 148)",
             "rgb(67, 4, 110)",
             "rgb(1, 18, 42)"
            ]
           },
           "orientation": "h",
           "textposition": "inside",
           "texttemplate": "%{y}<br>%{x:.4s}",
           "type": "bar",
           "x": [
            0.0856980269090535,
            0.1413983790078688,
            0.1474960597172014,
            0.2916820056995468,
            0.3633911590367735,
            0.4020559589920901,
            0.7832398558263911,
            0.7922630921178851,
            0.8024114516969543,
            1.2724582070724737
           ],
           "y": [
            "Smuttynose Portsmouth Lager",
            "Wellington Iron Duke Strong Ale",
            "Beck's Oktoberfest",
            "Unibroue Blanche de Chambly",
            "Guinness Extra Stout (North America)",
            "Alley Kat Scona Gold",
            "Unibroue Maudite",
            "Unibroue Eau Bénite",
            "Unibroue La Fin du Monde",
            "Weihenstephaner Original"
           ]
          }
         ],
         "layout": {
          "bargap": 0.15,
          "font": {
           "size": 14
          },
          "plot_bgcolor": "white",
          "title": {
           "text": "Top 10 Beers in 2000"
          },
          "xaxis": {
           "range": [
            0,
            1.2724582070724737
           ],
           "showline": true,
           "visible": true
          },
          "yaxis": {
           "showline": false,
           "visible": false
          }
         },
         "name": "2000"
        },
        {
         "data": [
          {
           "hoverinfo": "all",
           "marker": {
            "color": [
             "rgb(142, 191, 202)",
             "rgb(57, 39, 29)",
             "rgb(227, 181, 196)",
             "rgb(252, 112, 162)",
             "rgb(158, 47, 0)",
             "rgb(112, 253, 14)",
             "rgb(218, 36, 69)",
             "rgb(131, 146, 141)",
             "rgb(27, 82, 71)",
             "rgb(209, 166, 32)"
            ]
           },
           "orientation": "h",
           "textposition": "inside",
           "texttemplate": "%{y}<br>%{x:.4s}",
           "type": "bar",
           "x": [
            0.9785837672582662,
            1.0058875532587828,
            1.063970250411699,
            1.0725839073783556,
            1.1062115555022047,
            1.1406137542872845,
            1.1540869577021826,
            1.2406882489229227,
            1.292176928309711,
            1.6237857546298675
           ],
           "y": [
            "Olands Premium Red Draught",
            "Apollo Pilsner",
            "Wellington Imperial Russian Stout",
            "Unibroue Eau Bénite",
            "Samuel Smith's Organic Best Ale",
            "Hancock Old Gambrinus Beer Light",
            "Paulaner Oktoberfest-Märzen",
            "Ayinger Celebrator Doppelbock",
            "Creemore Springs Premium Lager",
            "Okanagan Spring Pale Ale"
           ]
          }
         ],
         "layout": {
          "bargap": 0.15,
          "font": {
           "size": 14
          },
          "plot_bgcolor": "white",
          "title": {
           "text": "Top 10 Beers in 2001"
          },
          "xaxis": {
           "range": [
            0,
            1.6237857546298675
           ],
           "showline": true,
           "visible": true
          },
          "yaxis": {
           "showline": false,
           "visible": false
          }
         },
         "name": "2001"
        },
        {
         "data": [
          {
           "hoverinfo": "all",
           "marker": {
            "color": [
             "rgb(139, 103, 117)",
             "rgb(212, 243, 202)",
             "rgb(159, 45, 191)",
             "rgb(231, 115, 123)",
             "rgb(6, 190, 194)",
             "rgb(204, 217, 75)",
             "rgb(35, 222, 143)",
             "rgb(228, 72, 194)",
             "rgb(3, 127, 139)",
             "rgb(33, 122, 129)"
            ]
           },
           "orientation": "h",
           "textposition": "inside",
           "texttemplate": "%{y}<br>%{x:.4s}",
           "type": "bar",
           "x": [
            1.0971892330254818,
            1.117999273528437,
            1.1892809268470006,
            1.1946513838248962,
            1.2298686075598522,
            1.2363237954738322,
            1.2464736767652496,
            1.296739938062742,
            1.3506758306197617,
            1.7157031714601243
           ],
           "y": [
            "Traquair House Ale",
            "Noche Buena",
            "Rickards Gold",
            "Schwarzer Abt",
            "Thomas Hardy's Ale (1968-1999)",
            "Upper Canada Dark Ale",
            "Hancock Old Gambrinus Beer Dark",
            "Le Cheval Blanc Bière dHiver",
            "Brava Cerveza",
            "Casta Bruna"
           ]
          }
         ],
         "layout": {
          "bargap": 0.15,
          "font": {
           "size": 14
          },
          "plot_bgcolor": "white",
          "title": {
           "text": "Top 10 Beers in 2002"
          },
          "xaxis": {
           "range": [
            0,
            1.7157031714601243
           ],
           "showline": true,
           "visible": true
          },
          "yaxis": {
           "showline": false,
           "visible": false
          }
         },
         "name": "2002"
        },
        {
         "data": [
          {
           "hoverinfo": "all",
           "marker": {
            "color": [
             "rgb(141, 117, 73)",
             "rgb(153, 155, 156)",
             "rgb(92, 210, 193)",
             "rgb(198, 8, 69)",
             "rgb(198, 232, 136)",
             "rgb(144, 93, 194)",
             "rgb(34, 37, 66)",
             "rgb(158, 233, 248)",
             "rgb(214, 92, 9)",
             "rgb(77, 46, 48)"
            ]
           },
           "orientation": "h",
           "textposition": "inside",
           "texttemplate": "%{y}<br>%{x:.4s}",
           "type": "bar",
           "x": [
            1.020106685335022,
            1.0497129223965398,
            1.051065535567698,
            1.0984893371560656,
            1.0993684957865837,
            1.1365903819140273,
            1.1370635087602423,
            1.138117036597784,
            1.141220885476117,
            1.1624204770873334
           ],
           "y": [
            "Éphémère (Cranberry)",
            "Trappistes Rochefort 10",
            "Thornbury Pickup No. 26 Pilsener",
            "Brooklyn Black Chocolate Stout",
            "Hancock Old Gambrinus Beer Dark",
            "Harvest Ale (Limited Edition)",
            "Trafalgar Winter Warmer",
            "Tsingtao Dark",
            "Ørbæk Påskebryg",
            "Val-Dieu Triple"
           ]
          }
         ],
         "layout": {
          "bargap": 0.15,
          "font": {
           "size": 14
          },
          "plot_bgcolor": "white",
          "title": {
           "text": "Top 10 Beers in 2003"
          },
          "xaxis": {
           "range": [
            0,
            1.1624204770873334
           ],
           "showline": true,
           "visible": true
          },
          "yaxis": {
           "showline": false,
           "visible": false
          }
         },
         "name": "2003"
        },
        {
         "data": [
          {
           "hoverinfo": "all",
           "marker": {
            "color": [
             "rgb(87, 204, 252)",
             "rgb(227, 50, 71)",
             "rgb(142, 242, 214)",
             "rgb(252, 76, 47)",
             "rgb(65, 97, 118)",
             "rgb(84, 62, 100)",
             "rgb(222, 43, 85)",
             "rgb(200, 113, 189)",
             "rgb(206, 188, 142)",
             "rgb(12, 16, 68)"
            ]
           },
           "orientation": "h",
           "textposition": "inside",
           "texttemplate": "%{y}<br>%{x:.4s}",
           "type": "bar",
           "x": [
            1.1189133450981463,
            1.1516669950713043,
            1.1528166236042097,
            1.1716356265310237,
            1.1741023273154845,
            1.1760713745592537,
            1.217131086340976,
            1.276741053311066,
            1.3539639927626284,
            1.7084785431180471
           ],
           "y": [
            "Bièropholie Bock Émissaire",
            "Unibroue Seigneuriale",
            "Yo-Ho Yona Yona Ale",
            "Trappistes Rochefort 10",
            "Coopers Sparkling Ale",
            "De Dolle Speciaal Brouwsel 20",
            "Dieu du Ciel Péché Mortel",
            "Olands Export Ale",
            "Éphémère (Cranberry)",
            "Picaroons Irish Red"
           ]
          }
         ],
         "layout": {
          "bargap": 0.15,
          "font": {
           "size": 14
          },
          "plot_bgcolor": "white",
          "title": {
           "text": "Top 10 Beers in 2004"
          },
          "xaxis": {
           "range": [
            0,
            1.7084785431180471
           ],
           "showline": true,
           "visible": true
          },
          "yaxis": {
           "showline": false,
           "visible": false
          }
         },
         "name": "2004"
        },
        {
         "data": [
          {
           "hoverinfo": "all",
           "marker": {
            "color": [
             "rgb(181, 20, 183)",
             "rgb(205, 87, 58)",
             "rgb(252, 42, 17)",
             "rgb(163, 148, 108)",
             "rgb(76, 67, 127)",
             "rgb(110, 58, 22)",
             "rgb(250, 41, 61)",
             "rgb(56, 235, 148)",
             "rgb(183, 0, 223)",
             "rgb(70, 164, 63)"
            ]
           },
           "orientation": "h",
           "textposition": "inside",
           "texttemplate": "%{y}<br>%{x:.4s}",
           "type": "bar",
           "x": [
            1.128126928846783,
            1.1301521826016678,
            1.146847234543368,
            1.148323250291148,
            1.1483720433411242,
            1.1580044374770952,
            1.187508763872131,
            1.2330532509224803,
            1.3158032691133454,
            1.3961302319078674
           ],
           "y": [
            "WinterCoat Oatmeal Stout",
            "Mai Bock",
            "Brooklyn Black Chocolate Stout",
            "Cantillon Spuyten Duyvil",
            "Scotch Irish Tsarina Katarina Imperial Stout",
            "Fuller's Special Edition ESB",
            "Lions Winter Ale",
            "Ursus Pils",
            "Gale's Jubilee Ale (2002)",
            "Panil Barriquée  (Italy Version)"
           ]
          }
         ],
         "layout": {
          "bargap": 0.15,
          "font": {
           "size": 14
          },
          "plot_bgcolor": "white",
          "title": {
           "text": "Top 10 Beers in 2005"
          },
          "xaxis": {
           "range": [
            0,
            1.3961302319078674
           ],
           "showline": true,
           "visible": true
          },
          "yaxis": {
           "showline": false,
           "visible": false
          }
         },
         "name": "2005"
        },
        {
         "data": [
          {
           "hoverinfo": "all",
           "marker": {
            "color": [
             "rgb(18, 254, 159)",
             "rgb(63, 162, 126)",
             "rgb(99, 162, 119)",
             "rgb(139, 166, 213)",
             "rgb(35, 49, 195)",
             "rgb(246, 14, 54)",
             "rgb(201, 132, 25)",
             "rgb(169, 88, 233)",
             "rgb(192, 114, 118)",
             "rgb(15, 17, 77)"
            ]
           },
           "orientation": "h",
           "textposition": "inside",
           "texttemplate": "%{y}<br>%{x:.4s}",
           "type": "bar",
           "x": [
            1.1013018745460426,
            1.1081949452181952,
            1.10970020597058,
            1.1429170607485464,
            1.1814772124502742,
            1.1951664258337198,
            1.224148644787213,
            1.224792193965514,
            1.2294622768994474,
            1.2311662394036298
           ],
           "y": [
            "Smuggler's Ale",
            "Little Creatures Pale Ale",
            "Nickel Brook Ale (pre 2009)",
            "Bièropholie IPA",
            "Granville Island GIBitter",
            "Urbock 23°",
            "Birrificio Italiano Tipopils",
            "Phillips Amnesiac Double IPA",
            "Bedondaine et Bedons Ronds Reyne Descosse",
            "Lakeport Pilsener"
           ]
          }
         ],
         "layout": {
          "bargap": 0.15,
          "font": {
           "size": 14
          },
          "plot_bgcolor": "white",
          "title": {
           "text": "Top 10 Beers in 2006"
          },
          "xaxis": {
           "range": [
            0,
            1.2311662394036298
           ],
           "showline": true,
           "visible": true
          },
          "yaxis": {
           "showline": false,
           "visible": false
          }
         },
         "name": "2006"
        },
        {
         "data": [
          {
           "hoverinfo": "all",
           "marker": {
            "color": [
             "rgb(99, 193, 211)",
             "rgb(16, 238, 142)",
             "rgb(60, 28, 170)",
             "rgb(164, 47, 163)",
             "rgb(1, 205, 76)",
             "rgb(168, 126, 250)",
             "rgb(172, 107, 239)",
             "rgb(62, 185, 159)",
             "rgb(132, 111, 5)",
             "rgb(179, 105, 41)"
            ]
           },
           "orientation": "h",
           "textposition": "inside",
           "texttemplate": "%{y}<br>%{x:.4s}",
           "type": "bar",
           "x": [
            1.2396660302431133,
            1.2500517929893469,
            1.2669803376987006,
            1.2687902499092345,
            1.2801873813826143,
            1.296022595401119,
            1.3128778567226451,
            1.321458650317355,
            1.3320290468008888,
            1.4208028086796662
           ],
           "y": [
            "Sanctification",
            "Drie Fonteinen Millennium Geuze",
            "La Lièvre IPA",
            "Ølfabrikken Gammel Ekstra Porter",
            "Abbaye De Saint Bon-Chien",
            "Schneider Weisse Tap 1 Mein Blondes",
            "Side Launch Wheat",
            "Original Stieglbock",
            "Les Trois Mousquetaires G.C. Porter Baltique",
            "Innis & Gunn Limited Edition 2005"
           ]
          }
         ],
         "layout": {
          "bargap": 0.15,
          "font": {
           "size": 14
          },
          "plot_bgcolor": "white",
          "title": {
           "text": "Top 10 Beers in 2007"
          },
          "xaxis": {
           "range": [
            0,
            1.4208028086796662
           ],
           "showline": true,
           "visible": true
          },
          "yaxis": {
           "showline": false,
           "visible": false
          }
         },
         "name": "2007"
        },
        {
         "data": [
          {
           "hoverinfo": "all",
           "marker": {
            "color": [
             "rgb(41, 212, 193)",
             "rgb(77, 118, 22)",
             "rgb(203, 126, 196)",
             "rgb(15, 118, 72)",
             "rgb(49, 231, 164)",
             "rgb(88, 172, 168)",
             "rgb(101, 186, 81)",
             "rgb(238, 8, 132)",
             "rgb(248, 182, 234)",
             "rgb(155, 57, 112)"
            ]
           },
           "orientation": "h",
           "textposition": "inside",
           "texttemplate": "%{y}<br>%{x:.4s}",
           "type": "bar",
           "x": [
            1.1670864372733072,
            1.1766039835149418,
            1.1919126098650494,
            1.2012607567449864,
            1.2064338315271683,
            1.207766811476634,
            1.2547272238898888,
            1.377381643490348,
            1.391734911093819,
            1.4392218691560568
           ],
           "y": [
            "Old Crafty Hen",
            "Neumarkter Lammsbräu (Organic) Dunkel",
            "Terrapin Big Sloppy Monster",
            "Baladin Xyauyù Etichetta Rame (Copper Label)",
            "Consecration",
            "Half Pints Bulldog Amber Ale",
            "Baeren Rye",
            "Mean Manalishi Double I.P.A.",
            "Alley Kat Bad Hare Day",
            "Kosmyk Charlie's Y2K Catastrophe Ale"
           ]
          }
         ],
         "layout": {
          "bargap": 0.15,
          "font": {
           "size": 14
          },
          "plot_bgcolor": "white",
          "title": {
           "text": "Top 10 Beers in 2008"
          },
          "xaxis": {
           "range": [
            0,
            1.4392218691560568
           ],
           "showline": true,
           "visible": true
          },
          "yaxis": {
           "showline": false,
           "visible": false
          }
         },
         "name": "2008"
        },
        {
         "data": [
          {
           "hoverinfo": "all",
           "marker": {
            "color": [
             "rgb(62, 182, 189)",
             "rgb(68, 113, 109)",
             "rgb(43, 215, 191)",
             "rgb(6, 114, 203)",
             "rgb(249, 120, 51)",
             "rgb(143, 254, 137)",
             "rgb(171, 104, 222)",
             "rgb(0, 246, 99)",
             "rgb(63, 235, 81)",
             "rgb(83, 31, 79)"
            ]
           },
           "orientation": "h",
           "textposition": "inside",
           "texttemplate": "%{y}<br>%{x:.4s}",
           "type": "bar",
           "x": [
            1.2338471807274276,
            1.2393466430040996,
            1.2454384142571973,
            1.2469121186642012,
            1.2824851557175203,
            1.325754327205307,
            1.3561829163911925,
            1.372316618062027,
            1.381964656606547,
            1.8194648164280256
           ],
           "y": [
            "Søgaards Trippel",
            "Primátor Premium",
            "Dieu du Ciel Solstice dÉté aux Framboises",
            "Southampton Grand Cru",
            "Driftwood Sartori Harvest IPA",
            "Granville Island Merry Monks Dopplebock",
            "RJ Le Cheval Blanc Snoreau",
            "Old Engine Oil Special Reserve (Aged In Malt Whiskey Casks)",
            "Borefts Bok 2009",
            "Lvivske Porter"
           ]
          }
         ],
         "layout": {
          "bargap": 0.15,
          "font": {
           "size": 14
          },
          "plot_bgcolor": "white",
          "title": {
           "text": "Top 10 Beers in 2009"
          },
          "xaxis": {
           "range": [
            0,
            1.8194648164280256
           ],
           "showline": true,
           "visible": true
          },
          "yaxis": {
           "showline": false,
           "visible": false
          }
         },
         "name": "2009"
        },
        {
         "data": [
          {
           "hoverinfo": "all",
           "marker": {
            "color": [
             "rgb(101, 67, 128)",
             "rgb(154, 218, 241)",
             "rgb(113, 14, 134)",
             "rgb(208, 174, 20)",
             "rgb(34, 113, 4)",
             "rgb(62, 248, 103)",
             "rgb(196, 255, 161)",
             "rgb(31, 201, 107)",
             "rgb(132, 40, 251)",
             "rgb(72, 155, 103)"
            ]
           },
           "orientation": "h",
           "textposition": "inside",
           "texttemplate": "%{y}<br>%{x:.4s}",
           "type": "bar",
           "x": [
            1.289513947212004,
            1.3022892741280632,
            1.3504165952011944,
            1.3695815104674731,
            1.4186131609391872,
            1.4294349003691191,
            1.5284823417762363,
            1.5542583799019265,
            1.7288080087834743,
            1.7654250681805317
           ],
           "y": [
            "Captivator Doppelbock",
            "Toccalmatto Sibilla",
            "Birrificio del Ducato LUltima Luna",
            "La Trappe Quadrupel (Oak Aged)",
            "Toccalmatto Stray Dog No Rules Bitter",
            "Charlevoix Dominus Vobiscum Brut",
            "Birra del Borgo ReAle Extra",
            "Saison Du Tracteur",
            "Bedondaine et Bedons Ronds Reyne Descosse Gelée",
            "Piccolo Birrificio Ego"
           ]
          }
         ],
         "layout": {
          "bargap": 0.15,
          "font": {
           "size": 14
          },
          "plot_bgcolor": "white",
          "title": {
           "text": "Top 10 Beers in 2010"
          },
          "xaxis": {
           "range": [
            0,
            1.7654250681805317
           ],
           "showline": true,
           "visible": true
          },
          "yaxis": {
           "showline": false,
           "visible": false
          }
         },
         "name": "2010"
        },
        {
         "data": [
          {
           "hoverinfo": "all",
           "marker": {
            "color": [
             "rgb(135, 189, 196)",
             "rgb(185, 132, 180)",
             "rgb(18, 242, 37)",
             "rgb(118, 50, 28)",
             "rgb(165, 229, 210)",
             "rgb(167, 195, 174)",
             "rgb(136, 116, 134)",
             "rgb(9, 171, 223)",
             "rgb(117, 156, 136)",
             "rgb(202, 44, 184)"
            ]
           },
           "orientation": "h",
           "textposition": "inside",
           "texttemplate": "%{y}<br>%{x:.4s}",
           "type": "bar",
           "x": [
            1.2600744288590362,
            1.265080505108473,
            1.301966246878607,
            1.3262397837477289,
            1.333344904716972,
            1.347954076030384,
            1.3505600121785313,
            1.4710240611434864,
            1.703014364073218,
            2.253825333425378
           ],
           "y": [
            "Tipo Pils",
            "Cantillon Blåbær Lambik",
            "Les Brasseurs du Temps Mea Magna Culpa",
            "Cantillon Don Quijote",
            "Ølfabrikken Petit Blau",
            "Montegioco Quarta Runa",
            "Eichbaum Pilsener",
            "Drie Fonteinen Oude Geuze 1998 (50th Anniversary)",
            "Drie Fonteinen Millennium Geuze",
            "Beer Here / Raasted Bukkake"
           ]
          }
         ],
         "layout": {
          "bargap": 0.15,
          "font": {
           "size": 14
          },
          "plot_bgcolor": "white",
          "title": {
           "text": "Top 10 Beers in 2011"
          },
          "xaxis": {
           "range": [
            0,
            2.253825333425378
           ],
           "showline": true,
           "visible": true
          },
          "yaxis": {
           "showline": false,
           "visible": false
          }
         },
         "name": "2011"
        },
        {
         "data": [
          {
           "hoverinfo": "all",
           "marker": {
            "color": [
             "rgb(205, 101, 134)",
             "rgb(21, 152, 135)",
             "rgb(179, 213, 192)",
             "rgb(186, 207, 122)",
             "rgb(158, 82, 188)",
             "rgb(183, 208, 128)",
             "rgb(197, 17, 8)",
             "rgb(102, 165, 97)",
             "rgb(196, 200, 115)",
             "rgb(81, 192, 245)"
            ]
           },
           "orientation": "h",
           "textposition": "inside",
           "texttemplate": "%{y}<br>%{x:.4s}",
           "type": "bar",
           "x": [
            1.3265020252683697,
            1.3490384193077791,
            1.364564975250266,
            1.3688333984444223,
            1.369805348429683,
            1.3975667870645416,
            1.4323060786846682,
            1.457841090882981,
            1.4672320479745289,
            1.5564273480419248
           ],
           "y": [
            "Ann",
            "Depuration",
            "Black Tokyo Horizon",
            "Le Cheval Blanc Double Bonheur",
            "Whistler Chocolate Winter Dunkel",
            "Drie Fonteinen Oude Geuze 1998 (50th Anniversary)",
            "Watermelon Warhead",
            "Kamenitza Lev",
            "L'Amoureuse Rouge",
            "Cantillon Loerik"
           ]
          }
         ],
         "layout": {
          "bargap": 0.15,
          "font": {
           "size": 14
          },
          "plot_bgcolor": "white",
          "title": {
           "text": "Top 10 Beers in 2012"
          },
          "xaxis": {
           "range": [
            0,
            1.5564273480419248
           ],
           "showline": true,
           "visible": true
          },
          "yaxis": {
           "showline": false,
           "visible": false
          }
         },
         "name": "2012"
        },
        {
         "data": [
          {
           "hoverinfo": "all",
           "marker": {
            "color": [
             "rgb(96, 119, 62)",
             "rgb(216, 193, 49)",
             "rgb(159, 190, 18)",
             "rgb(233, 182, 213)",
             "rgb(72, 190, 3)",
             "rgb(144, 98, 2)",
             "rgb(142, 124, 54)",
             "rgb(30, 124, 23)",
             "rgb(76, 151, 244)",
             "rgb(145, 28, 202)"
            ]
           },
           "orientation": "h",
           "textposition": "inside",
           "texttemplate": "%{y}<br>%{x:.4s}",
           "type": "bar",
           "x": [
            1.3746493096975472,
            1.4041402200725015,
            1.4570126267878116,
            1.4741651011372767,
            1.493197763699144,
            1.5596210420758312,
            1.6521573868793042,
            1.6747480446151457,
            1.784840369968013,
            2.510691214725717
           ],
           "y": [
            "Tamamura-Honten Yamabushi Saison 1 Aged in Oak Barrels",
            "Rapture",
            "Cantillon Bruocsella (1900) Grand Cru",
            "Brasseurs du Monde Gamme Festive Célébrante",
            "Innis & Gunn Spiced Rum Aged",
            "Bavarias Best Imperial Stout",
            "Collesi 1970 Ambrata",
            "Svaneke Julebryg",
            "Edward",
            "Birra del Borgo Perle ai Porci (Pearls for Pigs)"
           ]
          }
         ],
         "layout": {
          "bargap": 0.15,
          "font": {
           "size": 14
          },
          "plot_bgcolor": "white",
          "title": {
           "text": "Top 10 Beers in 2013"
          },
          "xaxis": {
           "range": [
            0,
            2.510691214725717
           ],
           "showline": true,
           "visible": true
          },
          "yaxis": {
           "showline": false,
           "visible": false
          }
         },
         "name": "2013"
        },
        {
         "data": [
          {
           "hoverinfo": "all",
           "marker": {
            "color": [
             "rgb(20, 49, 61)",
             "rgb(147, 20, 163)",
             "rgb(255, 234, 249)",
             "rgb(220, 237, 251)",
             "rgb(77, 44, 245)",
             "rgb(25, 132, 157)",
             "rgb(147, 26, 215)",
             "rgb(136, 55, 181)",
             "rgb(96, 77, 25)",
             "rgb(235, 19, 225)"
            ]
           },
           "orientation": "h",
           "textposition": "inside",
           "texttemplate": "%{y}<br>%{x:.4s}",
           "type": "bar",
           "x": [
            1.481905996838515,
            1.4953778917662726,
            1.498668519392976,
            1.5958805494661334,
            1.6764028325986928,
            1.7425096415533683,
            1.7429667157083328,
            1.8860097723067208,
            1.9268002384767275,
            2.796358605054868
           ],
           "y": [
            "Cantillon Crianza Helena",
            "Melbourne Bitter",
            "Cantillon Blåbær Lambik",
            "Schneider Weisse Tap 6 Unser Aventinus",
            "Minerva Colonial",
            "Wicked Juju",
            "Cantillon Spuyten Duyvil",
            "Extraomnes Saison",
            "Molson Standard Lager",
            "Mandøl Smagen af Mandø"
           ]
          }
         ],
         "layout": {
          "bargap": 0.15,
          "font": {
           "size": 14
          },
          "plot_bgcolor": "white",
          "title": {
           "text": "Top 10 Beers in 2014"
          },
          "xaxis": {
           "range": [
            0,
            2.796358605054868
           ],
           "showline": true,
           "visible": true
          },
          "yaxis": {
           "showline": false,
           "visible": false
          }
         },
         "name": "2014"
        },
        {
         "data": [
          {
           "hoverinfo": "all",
           "marker": {
            "color": [
             "rgb(133, 12, 116)",
             "rgb(187, 77, 166)",
             "rgb(185, 115, 174)",
             "rgb(98, 237, 173)",
             "rgb(136, 150, 190)",
             "rgb(2, 190, 193)",
             "rgb(169, 223, 227)",
             "rgb(36, 81, 45)",
             "rgb(29, 214, 70)",
             "rgb(150, 124, 32)"
            ]
           },
           "orientation": "h",
           "textposition": "inside",
           "texttemplate": "%{y}<br>%{x:.4s}",
           "type": "bar",
           "x": [
            1.5676276553776711,
            1.5751038516002658,
            1.622719541991331,
            1.623539297914094,
            1.6258817104558627,
            1.6387533424741991,
            1.6738321718245197,
            1.70740160723289,
            1.7625116163067636,
            1.82482572270457
           ],
           "y": [
            "Driftwood Sartori Harvest IPA",
            "Flying Monkeys City and Colour",
            "Buxton / Omnipollo Yellow Belly Sundae",
            "Dunham Saison Réserve",
            "Sanctification",
            "Charlevoix Dominus Vobiscum Lupulus",
            "Saison Bernice",
            "Unibroue Blanche de Chambly",
            "Four Winds Phaedra Rye Wheat IPA",
            "Opperbacco Blanche de Lotario"
           ]
          }
         ],
         "layout": {
          "bargap": 0.15,
          "font": {
           "size": 14
          },
          "plot_bgcolor": "white",
          "title": {
           "text": "Top 10 Beers in 2015"
          },
          "xaxis": {
           "range": [
            0,
            1.82482572270457
           ],
           "showline": true,
           "visible": true
          },
          "yaxis": {
           "showline": false,
           "visible": false
          }
         },
         "name": "2015"
        },
        {
         "data": [
          {
           "hoverinfo": "all",
           "marker": {
            "color": [
             "rgb(55, 135, 106)",
             "rgb(240, 156, 161)",
             "rgb(160, 148, 72)",
             "rgb(46, 65, 27)",
             "rgb(161, 163, 138)",
             "rgb(188, 239, 237)",
             "rgb(3, 139, 249)",
             "rgb(251, 74, 66)",
             "rgb(245, 63, 136)",
             "rgb(208, 51, 250)"
            ]
           },
           "orientation": "h",
           "textposition": "inside",
           "texttemplate": "%{y}<br>%{x:.4s}",
           "type": "bar",
           "x": [
            1.6309133236150697,
            1.6327746884700929,
            1.65167625476196,
            1.9003550471197763,
            1.9148003899577124,
            1.932732074470068,
            1.9683048585754683,
            2.0956611027231538,
            2.32265547193058,
            2.330646926702521
           ],
           "y": [
            "Aardmonnik - Earthmonk",
            "Hors Série Ceci N'est Pas Une Gueuze",
            "Frejdahl Gudmund",
            "To Øl Passion Of The Weisst",
            "Xyauyù Etichetta Rame (Copper)",
            "Skovlyst Julebryg",
            "Charlevoix Dominus Vobiscum Lupulus",
            "Ghost Black Beast",
            "Skovlyst Lossen",
            "Indie Alehouse Zombie Apocalypse (Bourbon)"
           ]
          }
         ],
         "layout": {
          "bargap": 0.15,
          "font": {
           "size": 14
          },
          "plot_bgcolor": "white",
          "title": {
           "text": "Top 10 Beers in 2016"
          },
          "xaxis": {
           "range": [
            0,
            2.330646926702521
           ],
           "showline": true,
           "visible": true
          },
          "yaxis": {
           "showline": false,
           "visible": false
          }
         },
         "name": "2016"
        },
        {
         "data": [
          {
           "hoverinfo": "all",
           "marker": {
            "color": [
             "rgb(13, 194, 210)",
             "rgb(225, 224, 104)",
             "rgb(149, 246, 206)",
             "rgb(175, 239, 254)",
             "rgb(27, 102, 222)",
             "rgb(164, 83, 208)",
             "rgb(98, 84, 32)",
             "rgb(42, 171, 217)",
             "rgb(148, 176, 152)",
             "rgb(102, 14, 162)"
            ]
           },
           "orientation": "h",
           "textposition": "inside",
           "texttemplate": "%{y}<br>%{x:.4s}",
           "type": "bar",
           "x": [
            1.5461166604658836,
            1.547184850088554,
            1.5563119039202395,
            1.581953108750554,
            1.6360558401007417,
            1.654410184218145,
            1.7331561781565548,
            1.7420509005188278,
            1.778935444645838,
            1.8188611526235283
           ],
           "y": [
            "LoverBeer A Renna Glüh",
            "Benelux Moisson (2011)",
            "Birrificio Italiano Nigredo (Negra 3.0)",
            "Midtfyns Jule Stout",
            "Amager / Lervig Brown Boobies Falling",
            "RJ Le Cheval Blanc Double Blanche (IPA belge)",
            "Double Nelson",
            "Thisted Thy Ale",
            "Pladderballe Brodtgaard Basement Reserve",
            "Coedo / Stone / Garage Project Tsuyu Saison"
           ]
          }
         ],
         "layout": {
          "bargap": 0.15,
          "font": {
           "size": 14
          },
          "plot_bgcolor": "white",
          "title": {
           "text": "Top 10 Beers in 2017"
          },
          "xaxis": {
           "range": [
            0,
            1.8188611526235283
           ],
           "showline": true,
           "visible": true
          },
          "yaxis": {
           "showline": false,
           "visible": false
          }
         },
         "name": "2017"
        }
       ],
       "layout": {
        "sliders": [
         {
          "steps": [
           {
            "args": [
             [
              "2000"
             ],
             {
              "frame": {
               "duration": 300,
               "redraw": false
              },
              "mode": "immediate",
              "transition": {
               "duration": 300
              }
             }
            ],
            "label": "2000",
            "method": "animate"
           },
           {
            "args": [
             [
              "2001"
             ],
             {
              "frame": {
               "duration": 300,
               "redraw": false
              },
              "mode": "immediate",
              "transition": {
               "duration": 300
              }
             }
            ],
            "label": "2001",
            "method": "animate"
           },
           {
            "args": [
             [
              "2002"
             ],
             {
              "frame": {
               "duration": 300,
               "redraw": false
              },
              "mode": "immediate",
              "transition": {
               "duration": 300
              }
             }
            ],
            "label": "2002",
            "method": "animate"
           },
           {
            "args": [
             [
              "2003"
             ],
             {
              "frame": {
               "duration": 300,
               "redraw": false
              },
              "mode": "immediate",
              "transition": {
               "duration": 300
              }
             }
            ],
            "label": "2003",
            "method": "animate"
           },
           {
            "args": [
             [
              "2004"
             ],
             {
              "frame": {
               "duration": 300,
               "redraw": false
              },
              "mode": "immediate",
              "transition": {
               "duration": 300
              }
             }
            ],
            "label": "2004",
            "method": "animate"
           },
           {
            "args": [
             [
              "2005"
             ],
             {
              "frame": {
               "duration": 300,
               "redraw": false
              },
              "mode": "immediate",
              "transition": {
               "duration": 300
              }
             }
            ],
            "label": "2005",
            "method": "animate"
           },
           {
            "args": [
             [
              "2006"
             ],
             {
              "frame": {
               "duration": 300,
               "redraw": false
              },
              "mode": "immediate",
              "transition": {
               "duration": 300
              }
             }
            ],
            "label": "2006",
            "method": "animate"
           },
           {
            "args": [
             [
              "2007"
             ],
             {
              "frame": {
               "duration": 300,
               "redraw": false
              },
              "mode": "immediate",
              "transition": {
               "duration": 300
              }
             }
            ],
            "label": "2007",
            "method": "animate"
           },
           {
            "args": [
             [
              "2008"
             ],
             {
              "frame": {
               "duration": 300,
               "redraw": false
              },
              "mode": "immediate",
              "transition": {
               "duration": 300
              }
             }
            ],
            "label": "2008",
            "method": "animate"
           },
           {
            "args": [
             [
              "2009"
             ],
             {
              "frame": {
               "duration": 300,
               "redraw": false
              },
              "mode": "immediate",
              "transition": {
               "duration": 300
              }
             }
            ],
            "label": "2009",
            "method": "animate"
           },
           {
            "args": [
             [
              "2010"
             ],
             {
              "frame": {
               "duration": 300,
               "redraw": false
              },
              "mode": "immediate",
              "transition": {
               "duration": 300
              }
             }
            ],
            "label": "2010",
            "method": "animate"
           },
           {
            "args": [
             [
              "2011"
             ],
             {
              "frame": {
               "duration": 300,
               "redraw": false
              },
              "mode": "immediate",
              "transition": {
               "duration": 300
              }
             }
            ],
            "label": "2011",
            "method": "animate"
           },
           {
            "args": [
             [
              "2012"
             ],
             {
              "frame": {
               "duration": 300,
               "redraw": false
              },
              "mode": "immediate",
              "transition": {
               "duration": 300
              }
             }
            ],
            "label": "2012",
            "method": "animate"
           },
           {
            "args": [
             [
              "2013"
             ],
             {
              "frame": {
               "duration": 300,
               "redraw": false
              },
              "mode": "immediate",
              "transition": {
               "duration": 300
              }
             }
            ],
            "label": "2013",
            "method": "animate"
           },
           {
            "args": [
             [
              "2014"
             ],
             {
              "frame": {
               "duration": 300,
               "redraw": false
              },
              "mode": "immediate",
              "transition": {
               "duration": 300
              }
             }
            ],
            "label": "2014",
            "method": "animate"
           },
           {
            "args": [
             [
              "2015"
             ],
             {
              "frame": {
               "duration": 300,
               "redraw": false
              },
              "mode": "immediate",
              "transition": {
               "duration": 300
              }
             }
            ],
            "label": "2015",
            "method": "animate"
           },
           {
            "args": [
             [
              "2016"
             ],
             {
              "frame": {
               "duration": 300,
               "redraw": false
              },
              "mode": "immediate",
              "transition": {
               "duration": 300
              }
             }
            ],
            "label": "2016",
            "method": "animate"
           },
           {
            "args": [
             [
              "2017"
             ],
             {
              "frame": {
               "duration": 300,
               "redraw": false
              },
              "mode": "immediate",
              "transition": {
               "duration": 300
              }
             }
            ],
            "label": "2017",
            "method": "animate"
           }
          ]
         }
        ],
        "template": {
         "data": {
          "bar": [
           {
            "error_x": {
             "color": "#2a3f5f"
            },
            "error_y": {
             "color": "#2a3f5f"
            },
            "marker": {
             "line": {
              "color": "#E5ECF6",
              "width": 0.5
             },
             "pattern": {
              "fillmode": "overlay",
              "size": 10,
              "solidity": 0.2
             }
            },
            "type": "bar"
           }
          ],
          "barpolar": [
           {
            "marker": {
             "line": {
              "color": "#E5ECF6",
              "width": 0.5
             },
             "pattern": {
              "fillmode": "overlay",
              "size": 10,
              "solidity": 0.2
             }
            },
            "type": "barpolar"
           }
          ],
          "carpet": [
           {
            "aaxis": {
             "endlinecolor": "#2a3f5f",
             "gridcolor": "white",
             "linecolor": "white",
             "minorgridcolor": "white",
             "startlinecolor": "#2a3f5f"
            },
            "baxis": {
             "endlinecolor": "#2a3f5f",
             "gridcolor": "white",
             "linecolor": "white",
             "minorgridcolor": "white",
             "startlinecolor": "#2a3f5f"
            },
            "type": "carpet"
           }
          ],
          "choropleth": [
           {
            "colorbar": {
             "outlinewidth": 0,
             "ticks": ""
            },
            "type": "choropleth"
           }
          ],
          "contour": [
           {
            "colorbar": {
             "outlinewidth": 0,
             "ticks": ""
            },
            "colorscale": [
             [
              0,
              "#0d0887"
             ],
             [
              0.1111111111111111,
              "#46039f"
             ],
             [
              0.2222222222222222,
              "#7201a8"
             ],
             [
              0.3333333333333333,
              "#9c179e"
             ],
             [
              0.4444444444444444,
              "#bd3786"
             ],
             [
              0.5555555555555556,
              "#d8576b"
             ],
             [
              0.6666666666666666,
              "#ed7953"
             ],
             [
              0.7777777777777778,
              "#fb9f3a"
             ],
             [
              0.8888888888888888,
              "#fdca26"
             ],
             [
              1,
              "#f0f921"
             ]
            ],
            "type": "contour"
           }
          ],
          "contourcarpet": [
           {
            "colorbar": {
             "outlinewidth": 0,
             "ticks": ""
            },
            "type": "contourcarpet"
           }
          ],
          "heatmap": [
           {
            "colorbar": {
             "outlinewidth": 0,
             "ticks": ""
            },
            "colorscale": [
             [
              0,
              "#0d0887"
             ],
             [
              0.1111111111111111,
              "#46039f"
             ],
             [
              0.2222222222222222,
              "#7201a8"
             ],
             [
              0.3333333333333333,
              "#9c179e"
             ],
             [
              0.4444444444444444,
              "#bd3786"
             ],
             [
              0.5555555555555556,
              "#d8576b"
             ],
             [
              0.6666666666666666,
              "#ed7953"
             ],
             [
              0.7777777777777778,
              "#fb9f3a"
             ],
             [
              0.8888888888888888,
              "#fdca26"
             ],
             [
              1,
              "#f0f921"
             ]
            ],
            "type": "heatmap"
           }
          ],
          "heatmapgl": [
           {
            "colorbar": {
             "outlinewidth": 0,
             "ticks": ""
            },
            "colorscale": [
             [
              0,
              "#0d0887"
             ],
             [
              0.1111111111111111,
              "#46039f"
             ],
             [
              0.2222222222222222,
              "#7201a8"
             ],
             [
              0.3333333333333333,
              "#9c179e"
             ],
             [
              0.4444444444444444,
              "#bd3786"
             ],
             [
              0.5555555555555556,
              "#d8576b"
             ],
             [
              0.6666666666666666,
              "#ed7953"
             ],
             [
              0.7777777777777778,
              "#fb9f3a"
             ],
             [
              0.8888888888888888,
              "#fdca26"
             ],
             [
              1,
              "#f0f921"
             ]
            ],
            "type": "heatmapgl"
           }
          ],
          "histogram": [
           {
            "marker": {
             "pattern": {
              "fillmode": "overlay",
              "size": 10,
              "solidity": 0.2
             }
            },
            "type": "histogram"
           }
          ],
          "histogram2d": [
           {
            "colorbar": {
             "outlinewidth": 0,
             "ticks": ""
            },
            "colorscale": [
             [
              0,
              "#0d0887"
             ],
             [
              0.1111111111111111,
              "#46039f"
             ],
             [
              0.2222222222222222,
              "#7201a8"
             ],
             [
              0.3333333333333333,
              "#9c179e"
             ],
             [
              0.4444444444444444,
              "#bd3786"
             ],
             [
              0.5555555555555556,
              "#d8576b"
             ],
             [
              0.6666666666666666,
              "#ed7953"
             ],
             [
              0.7777777777777778,
              "#fb9f3a"
             ],
             [
              0.8888888888888888,
              "#fdca26"
             ],
             [
              1,
              "#f0f921"
             ]
            ],
            "type": "histogram2d"
           }
          ],
          "histogram2dcontour": [
           {
            "colorbar": {
             "outlinewidth": 0,
             "ticks": ""
            },
            "colorscale": [
             [
              0,
              "#0d0887"
             ],
             [
              0.1111111111111111,
              "#46039f"
             ],
             [
              0.2222222222222222,
              "#7201a8"
             ],
             [
              0.3333333333333333,
              "#9c179e"
             ],
             [
              0.4444444444444444,
              "#bd3786"
             ],
             [
              0.5555555555555556,
              "#d8576b"
             ],
             [
              0.6666666666666666,
              "#ed7953"
             ],
             [
              0.7777777777777778,
              "#fb9f3a"
             ],
             [
              0.8888888888888888,
              "#fdca26"
             ],
             [
              1,
              "#f0f921"
             ]
            ],
            "type": "histogram2dcontour"
           }
          ],
          "mesh3d": [
           {
            "colorbar": {
             "outlinewidth": 0,
             "ticks": ""
            },
            "type": "mesh3d"
           }
          ],
          "parcoords": [
           {
            "line": {
             "colorbar": {
              "outlinewidth": 0,
              "ticks": ""
             }
            },
            "type": "parcoords"
           }
          ],
          "pie": [
           {
            "automargin": true,
            "type": "pie"
           }
          ],
          "scatter": [
           {
            "fillpattern": {
             "fillmode": "overlay",
             "size": 10,
             "solidity": 0.2
            },
            "type": "scatter"
           }
          ],
          "scatter3d": [
           {
            "line": {
             "colorbar": {
              "outlinewidth": 0,
              "ticks": ""
             }
            },
            "marker": {
             "colorbar": {
              "outlinewidth": 0,
              "ticks": ""
             }
            },
            "type": "scatter3d"
           }
          ],
          "scattercarpet": [
           {
            "marker": {
             "colorbar": {
              "outlinewidth": 0,
              "ticks": ""
             }
            },
            "type": "scattercarpet"
           }
          ],
          "scattergeo": [
           {
            "marker": {
             "colorbar": {
              "outlinewidth": 0,
              "ticks": ""
             }
            },
            "type": "scattergeo"
           }
          ],
          "scattergl": [
           {
            "marker": {
             "colorbar": {
              "outlinewidth": 0,
              "ticks": ""
             }
            },
            "type": "scattergl"
           }
          ],
          "scattermapbox": [
           {
            "marker": {
             "colorbar": {
              "outlinewidth": 0,
              "ticks": ""
             }
            },
            "type": "scattermapbox"
           }
          ],
          "scatterpolar": [
           {
            "marker": {
             "colorbar": {
              "outlinewidth": 0,
              "ticks": ""
             }
            },
            "type": "scatterpolar"
           }
          ],
          "scatterpolargl": [
           {
            "marker": {
             "colorbar": {
              "outlinewidth": 0,
              "ticks": ""
             }
            },
            "type": "scatterpolargl"
           }
          ],
          "scatterternary": [
           {
            "marker": {
             "colorbar": {
              "outlinewidth": 0,
              "ticks": ""
             }
            },
            "type": "scatterternary"
           }
          ],
          "surface": [
           {
            "colorbar": {
             "outlinewidth": 0,
             "ticks": ""
            },
            "colorscale": [
             [
              0,
              "#0d0887"
             ],
             [
              0.1111111111111111,
              "#46039f"
             ],
             [
              0.2222222222222222,
              "#7201a8"
             ],
             [
              0.3333333333333333,
              "#9c179e"
             ],
             [
              0.4444444444444444,
              "#bd3786"
             ],
             [
              0.5555555555555556,
              "#d8576b"
             ],
             [
              0.6666666666666666,
              "#ed7953"
             ],
             [
              0.7777777777777778,
              "#fb9f3a"
             ],
             [
              0.8888888888888888,
              "#fdca26"
             ],
             [
              1,
              "#f0f921"
             ]
            ],
            "type": "surface"
           }
          ],
          "table": [
           {
            "cells": {
             "fill": {
              "color": "#EBF0F8"
             },
             "line": {
              "color": "white"
             }
            },
            "header": {
             "fill": {
              "color": "#C8D4E3"
             },
             "line": {
              "color": "white"
             }
            },
            "type": "table"
           }
          ]
         },
         "layout": {
          "annotationdefaults": {
           "arrowcolor": "#2a3f5f",
           "arrowhead": 0,
           "arrowwidth": 1
          },
          "autotypenumbers": "strict",
          "coloraxis": {
           "colorbar": {
            "outlinewidth": 0,
            "ticks": ""
           }
          },
          "colorscale": {
           "diverging": [
            [
             0,
             "#8e0152"
            ],
            [
             0.1,
             "#c51b7d"
            ],
            [
             0.2,
             "#de77ae"
            ],
            [
             0.3,
             "#f1b6da"
            ],
            [
             0.4,
             "#fde0ef"
            ],
            [
             0.5,
             "#f7f7f7"
            ],
            [
             0.6,
             "#e6f5d0"
            ],
            [
             0.7,
             "#b8e186"
            ],
            [
             0.8,
             "#7fbc41"
            ],
            [
             0.9,
             "#4d9221"
            ],
            [
             1,
             "#276419"
            ]
           ],
           "sequential": [
            [
             0,
             "#0d0887"
            ],
            [
             0.1111111111111111,
             "#46039f"
            ],
            [
             0.2222222222222222,
             "#7201a8"
            ],
            [
             0.3333333333333333,
             "#9c179e"
            ],
            [
             0.4444444444444444,
             "#bd3786"
            ],
            [
             0.5555555555555556,
             "#d8576b"
            ],
            [
             0.6666666666666666,
             "#ed7953"
            ],
            [
             0.7777777777777778,
             "#fb9f3a"
            ],
            [
             0.8888888888888888,
             "#fdca26"
            ],
            [
             1,
             "#f0f921"
            ]
           ],
           "sequentialminus": [
            [
             0,
             "#0d0887"
            ],
            [
             0.1111111111111111,
             "#46039f"
            ],
            [
             0.2222222222222222,
             "#7201a8"
            ],
            [
             0.3333333333333333,
             "#9c179e"
            ],
            [
             0.4444444444444444,
             "#bd3786"
            ],
            [
             0.5555555555555556,
             "#d8576b"
            ],
            [
             0.6666666666666666,
             "#ed7953"
            ],
            [
             0.7777777777777778,
             "#fb9f3a"
            ],
            [
             0.8888888888888888,
             "#fdca26"
            ],
            [
             1,
             "#f0f921"
            ]
           ]
          },
          "colorway": [
           "#636efa",
           "#EF553B",
           "#00cc96",
           "#ab63fa",
           "#FFA15A",
           "#19d3f3",
           "#FF6692",
           "#B6E880",
           "#FF97FF",
           "#FECB52"
          ],
          "font": {
           "color": "#2a3f5f"
          },
          "geo": {
           "bgcolor": "white",
           "lakecolor": "white",
           "landcolor": "#E5ECF6",
           "showlakes": true,
           "showland": true,
           "subunitcolor": "white"
          },
          "hoverlabel": {
           "align": "left"
          },
          "hovermode": "closest",
          "mapbox": {
           "style": "light"
          },
          "paper_bgcolor": "white",
          "plot_bgcolor": "#E5ECF6",
          "polar": {
           "angularaxis": {
            "gridcolor": "white",
            "linecolor": "white",
            "ticks": ""
           },
           "bgcolor": "#E5ECF6",
           "radialaxis": {
            "gridcolor": "white",
            "linecolor": "white",
            "ticks": ""
           }
          },
          "scene": {
           "xaxis": {
            "backgroundcolor": "#E5ECF6",
            "gridcolor": "white",
            "gridwidth": 2,
            "linecolor": "white",
            "showbackground": true,
            "ticks": "",
            "zerolinecolor": "white"
           },
           "yaxis": {
            "backgroundcolor": "#E5ECF6",
            "gridcolor": "white",
            "gridwidth": 2,
            "linecolor": "white",
            "showbackground": true,
            "ticks": "",
            "zerolinecolor": "white"
           },
           "zaxis": {
            "backgroundcolor": "#E5ECF6",
            "gridcolor": "white",
            "gridwidth": 2,
            "linecolor": "white",
            "showbackground": true,
            "ticks": "",
            "zerolinecolor": "white"
           }
          },
          "shapedefaults": {
           "line": {
            "color": "#2a3f5f"
           }
          },
          "ternary": {
           "aaxis": {
            "gridcolor": "white",
            "linecolor": "white",
            "ticks": ""
           },
           "baxis": {
            "gridcolor": "white",
            "linecolor": "white",
            "ticks": ""
           },
           "bgcolor": "#E5ECF6",
           "caxis": {
            "gridcolor": "white",
            "linecolor": "white",
            "ticks": ""
           }
          },
          "title": {
           "x": 0.05
          },
          "xaxis": {
           "automargin": true,
           "gridcolor": "white",
           "linecolor": "white",
           "ticks": "",
           "title": {
            "standoff": 15
           },
           "zerolinecolor": "white",
           "zerolinewidth": 2
          },
          "yaxis": {
           "automargin": true,
           "gridcolor": "white",
           "linecolor": "white",
           "ticks": "",
           "title": {
            "standoff": 15
           },
           "zerolinecolor": "white",
           "zerolinewidth": 2
          }
         }
        },
        "title": {
         "text": "Top 10 Beers across years"
        }
       }
      }
     },
     "metadata": {},
     "output_type": "display_data"
    }
   ],
   "source": [
    "import pandas as pd\n",
    "import plotly.graph_objects as go\n",
    "from random import sample\n",
    "\n",
    "# 1. Load the CSV file\n",
    "data = pd.read_csv('./../ada-2023-project-laremontada61/top_10_beers_by_year.csv')\n",
    "\n",
    "# 2. Sort and get the top 10 entries\n",
    "top_entries = 10\n",
    "frame1 = data.sort_values('new_rating', ascending=False).head(top_entries)\n",
    "frame1=frame1.sort_values('new_rating', ascending=True)\n",
    "# 3. Generate colors for each unique beer name\n",
    "colors = {item: 'rgb({}, {}, {})'.format(*sample(range(256), 3)) for item in frame1['beer_name'].unique()}\n",
    "frame1['color'] = frame1['beer_name'].map(colors)\n",
    "\n",
    "# 4. Create the plotly figure\n",
    "fig = go.Figure(data=go.Bar(\n",
    "    x=frame1['new_rating'],\n",
    "    y=frame1['beer_name'],\n",
    "    marker_color=frame1['color'],\n",
    "    hoverinfo='all',  # display beer_name and new_rating when hovering over bar\n",
    "    textposition='inside',  # position text outside bar\n",
    "    texttemplate='%{y}<br>%{x:.4s}',  # display y field (beer_name), line break, and the value with up to 4 digits\n",
    "    orientation='h'  # to have bar growing rightward\n",
    "))\n",
    "\n",
    "# 5. Update the layout of the plot\n",
    "fig.update_layout(\n",
    "    title='Top 10 beers in the world from 2000 to 2017',\n",
    "    font={'size': 15},\n",
    "    plot_bgcolor='white',\n",
    "    xaxis={\n",
    "        'showline': True,\n",
    "        'visible': True,\n",
    "        'range': (0, frame1['new_rating'].max()),\n",
    "        'title_text': 'New Rating'  # title of the x axis\n",
    "    },\n",
    "    yaxis={\n",
    "        'showline': False,\n",
    "        'visible': True,\n",
    "        'showticklabels': True,\n",
    "        'title_text': 'Top ' + str(top_entries) + ' Beers'  # title of the y axis\n",
    "    },\n",
    "    bargap=0.15\n",
    ")\n",
    "\n",
    "# 6. Add update menus for play and pause\n",
    "fig[\"layout\"][\"updatemenus\"] = [\n",
    "    {\n",
    "        \"buttons\": [\n",
    "            {\n",
    "                \"args\": [None, {\n",
    "                    \"frame\": {\n",
    "                        \"duration\": 500,\n",
    "                        \"redraw\": False\n",
    "                    },\n",
    "                    \"fromcurrent\": True,\n",
    "                    \"transition\": {\n",
    "                        \"duration\": 300,\n",
    "                        \"easing\": \"quadratic-in-out\"\n",
    "                    }\n",
    "                }],\n",
    "                \"label\": \"Play\",\n",
    "                \"method\": \"animate\"\n",
    "            },\n",
    "            {\n",
    "                \"args\": [[None], {\n",
    "                    \"frame\": {\n",
    "                        \"duration\": 0,\n",
    "                        \"redraw\": False\n",
    "                    },\n",
    "                    \"mode\": \"immediate\",\n",
    "                    \"transition\": {\n",
    "                        \"duration\": 0\n",
    "                    }\n",
    "                }],\n",
    "                \"label\": \"Pause\",\n",
    "                \"method\": \"animate\"\n",
    "            }\n",
    "        ],\n",
    "        \"direction\": \"left\",\n",
    "        \"pad\": {\"r\": 10, \"t\": 87},\n",
    "        \"showactive\": True,\n",
    "        \"type\": \"buttons\",\n",
    "        \"x\": 0.1,\n",
    "        \"y\": 0\n",
    "    }\n",
    "]\n",
    "# 7. Add frames for each year\n",
    "sliders_dict = {\n",
    "    \"active\": 0,\n",
    "    \"yanchor\": \"top\",\n",
    "    \"xanchor\": \"left\",\n",
    "    \"currentvalue\": {\n",
    "        \"font\": {\"size\": 20},\n",
    "        \"prefix\": \"Year:\",\n",
    "        \"visible\": True,\n",
    "        \"xanchor\": \"right\"\n",
    "    },\n",
    "    \"transition\": {\"duration\": 300, \"easing\": \"cubic-in-out\"},\n",
    "    \"pad\": {\"b\": 10, \"t\": 50},\n",
    "    \"len\": 0.9,\n",
    "    \"x\": 0.1,\n",
    "    \"y\": 0,\n",
    "    \"steps\": []\n",
    "}\n",
    "\n",
    "# Define top entries\n",
    "top_entries = 10\n",
    "\n",
    "# Initialize frames list and sliders dictionary\n",
    "frames = []\n",
    "sliders_dict = {\"steps\": []}\n",
    "\n",
    "# Iterate over each year\n",
    "for year in range(int(data['year'].min()), int(data['year'].max()) + 1):\n",
    "    \n",
    "    # 1.1 Filter data by year\n",
    "    snap_data = data[data['year'] == year]\n",
    "    \n",
    "    # 1.2 Sort by new_rating and get top 10\n",
    "    snap_data = snap_data.sort_values('new_rating', ascending=False).head(top_entries)\n",
    "    \n",
    "    # 1.3 Sort by new_rating in ascending order\n",
    "    snap_data = snap_data.sort_values('new_rating', ascending=True)\n",
    "    \n",
    "     # 1.4 Generate colors for unique beer names\n",
    "    colors = {item: 'rgb({}, {}, {})'.format(*sample(range(256), 3)) for item in snap_data['beer_name'].unique()}\n",
    "    snap_data['color'] = snap_data['beer_name'].map(colors)  # Add the color column\n",
    "    \n",
    "    # 2. Create frame\n",
    "    frame = go.Frame(\n",
    "        data=[\n",
    "            go.Bar(\n",
    "                x=snap_data['new_rating'],\n",
    "                y=snap_data['beer_name'],\n",
    "                marker_color=snap_data['color'],\n",
    "                hoverinfo='all',\n",
    "                textposition='inside',\n",
    "                texttemplate='%{y}<br>%{x:.4s}',\n",
    "                orientation='h'\n",
    "            )\n",
    "        ],\n",
    "        layout=go.Layout(\n",
    "            font={'size': 14},\n",
    "            plot_bgcolor='white',\n",
    "            xaxis={\n",
    "                'showline': True,\n",
    "                'visible': True,\n",
    "                'range': (0, snap_data['new_rating'].max())\n",
    "            },\n",
    "            yaxis={\n",
    "                'showline': False,\n",
    "                'visible': False\n",
    "            },\n",
    "            bargap=0.15,\n",
    "            title=f'Top 10 Beers in {year}'\n",
    "        ),\n",
    "        name=str(year)\n",
    "    )\n",
    "    \n",
    "    # 2.2 Append frame to list of frames\n",
    "    frames.append(frame)\n",
    "    \n",
    "    # 3. Define slider step\n",
    "    slider_step = {\n",
    "        \"args\": [\n",
    "            [str(year)],\n",
    "            {\n",
    "                \"frame\": {\n",
    "                    \"duration\": 300,\n",
    "                    \"redraw\": False\n",
    "                },\n",
    "                \"mode\": \"immediate\",\n",
    "                \"transition\": {\n",
    "                    \"duration\": 300\n",
    "                }\n",
    "            }\n",
    "        ],\n",
    "        \"label\": str(year),\n",
    "        \"method\": \"animate\"\n",
    "    }\n",
    "    \n",
    "    # 3.2 Append to sliders_dict\n",
    "    sliders_dict[\"steps\"].append(slider_step)\n",
    "\n",
    "# 4. Create figure and add frames\n",
    "fig = go.Figure(\n",
    "    data=[go.Bar()],\n",
    "    frames=frames\n",
    ")\n",
    "\n",
    "# 4.1 Modify layout sliders of our figure\n",
    "fig.update_layout(\n",
    "    title='Top 10 Beers across years',\n",
    "    sliders=[sliders_dict]\n",
    ")\n",
    "fig.show()"
   ]
  },
  {
   "cell_type": "code",
   "execution_count": 153,
   "metadata": {},
   "outputs": [
    {
     "data": {
      "application/vnd.plotly.v1+json": {
       "config": {
        "plotlyServerURL": "https://plot.ly"
       },
       "data": [
        {
         "type": "bar"
        }
       ],
       "frames": [
        {
         "data": [
          {
           "hoverinfo": "all",
           "marker": {
            "color": [
             "rgb(210, 80, 18)",
             "rgb(202, 87, 115)",
             "rgb(59, 106, 138)",
             "rgb(17, 194, 165)",
             "rgb(78, 137, 51)",
             "rgb(22, 33, 29)",
             "rgb(29, 79, 93)",
             "rgb(181, 50, 163)",
             "rgb(196, 86, 74)",
             "rgb(60, 215, 233)"
            ]
           },
           "orientation": "h",
           "textposition": "inside",
           "texttemplate": "%{y}<br>%{x:.4s}",
           "type": "bar",
           "x": [
            0.0856980269090535,
            0.1413983790078688,
            0.1474960597172014,
            0.2916820056995468,
            0.3633911590367735,
            0.4020559589920901,
            0.7832398558263911,
            0.7922630921178851,
            0.8024114516969543,
            1.2724582070724737
           ],
           "y": [
            "Smuttynose Portsmouth Lager",
            "Wellington Iron Duke Strong Ale",
            "Beck's Oktoberfest",
            "Unibroue Blanche de Chambly",
            "Guinness Extra Stout (North America)",
            "Alley Kat Scona Gold",
            "Unibroue Maudite",
            "Unibroue Eau Bénite",
            "Unibroue La Fin du Monde",
            "Weihenstephaner Original"
           ]
          }
         ],
         "layout": {
          "bargap": 0.15,
          "font": {
           "size": 14
          },
          "plot_bgcolor": "white",
          "title": {
           "text": "Top 10 Beers in 2000"
          },
          "xaxis": {
           "range": [
            0,
            1.2724582070724737
           ],
           "showline": true,
           "visible": true
          },
          "yaxis": {
           "showline": false,
           "visible": false
          }
         },
         "name": "2000"
        },
        {
         "data": [
          {
           "hoverinfo": "all",
           "marker": {
            "color": [
             "rgb(178, 31, 81)",
             "rgb(46, 162, 75)",
             "rgb(84, 229, 201)",
             "rgb(171, 173, 142)",
             "rgb(164, 216, 14)",
             "rgb(50, 142, 208)",
             "rgb(113, 166, 103)",
             "rgb(73, 176, 50)",
             "rgb(15, 137, 154)",
             "rgb(82, 139, 0)"
            ]
           },
           "orientation": "h",
           "textposition": "inside",
           "texttemplate": "%{y}<br>%{x:.4s}",
           "type": "bar",
           "x": [
            0.9785837672582662,
            1.0058875532587828,
            1.063970250411699,
            1.0725839073783556,
            1.1062115555022047,
            1.1406137542872845,
            1.1540869577021826,
            1.2406882489229227,
            1.292176928309711,
            1.6237857546298675
           ],
           "y": [
            "Olands Premium Red Draught",
            "Apollo Pilsner",
            "Wellington Imperial Russian Stout",
            "Unibroue Eau Bénite",
            "Samuel Smith's Organic Best Ale",
            "Hancock Old Gambrinus Beer Light",
            "Paulaner Oktoberfest-Märzen",
            "Ayinger Celebrator Doppelbock",
            "Creemore Springs Premium Lager",
            "Okanagan Spring Pale Ale"
           ]
          }
         ],
         "layout": {
          "bargap": 0.15,
          "font": {
           "size": 14
          },
          "plot_bgcolor": "white",
          "title": {
           "text": "Top 10 Beers in 2001"
          },
          "xaxis": {
           "range": [
            0,
            1.6237857546298675
           ],
           "showline": true,
           "visible": true
          },
          "yaxis": {
           "showline": false,
           "visible": false
          }
         },
         "name": "2001"
        },
        {
         "data": [
          {
           "hoverinfo": "all",
           "marker": {
            "color": [
             "rgb(42, 26, 124)",
             "rgb(190, 255, 106)",
             "rgb(243, 208, 183)",
             "rgb(105, 123, 235)",
             "rgb(146, 179, 38)",
             "rgb(180, 23, 181)",
             "rgb(79, 249, 172)",
             "rgb(239, 55, 23)",
             "rgb(43, 41, 163)",
             "rgb(87, 192, 28)"
            ]
           },
           "orientation": "h",
           "textposition": "inside",
           "texttemplate": "%{y}<br>%{x:.4s}",
           "type": "bar",
           "x": [
            1.0971892330254818,
            1.117999273528437,
            1.1892809268470006,
            1.1946513838248962,
            1.2298686075598522,
            1.2363237954738322,
            1.2464736767652496,
            1.296739938062742,
            1.3506758306197617,
            1.7157031714601243
           ],
           "y": [
            "Traquair House Ale",
            "Noche Buena",
            "Rickards Gold",
            "Schwarzer Abt",
            "Thomas Hardy's Ale (1968-1999)",
            "Upper Canada Dark Ale",
            "Hancock Old Gambrinus Beer Dark",
            "Le Cheval Blanc Bière dHiver",
            "Brava Cerveza",
            "Casta Bruna"
           ]
          }
         ],
         "layout": {
          "bargap": 0.15,
          "font": {
           "size": 14
          },
          "plot_bgcolor": "white",
          "title": {
           "text": "Top 10 Beers in 2002"
          },
          "xaxis": {
           "range": [
            0,
            1.7157031714601243
           ],
           "showline": true,
           "visible": true
          },
          "yaxis": {
           "showline": false,
           "visible": false
          }
         },
         "name": "2002"
        },
        {
         "data": [
          {
           "hoverinfo": "all",
           "marker": {
            "color": [
             "rgb(58, 207, 105)",
             "rgb(198, 141, 154)",
             "rgb(253, 250, 179)",
             "rgb(93, 27, 229)",
             "rgb(211, 197, 240)",
             "rgb(221, 216, 234)",
             "rgb(98, 168, 101)",
             "rgb(125, 94, 53)",
             "rgb(126, 152, 249)",
             "rgb(84, 229, 248)"
            ]
           },
           "orientation": "h",
           "textposition": "inside",
           "texttemplate": "%{y}<br>%{x:.4s}",
           "type": "bar",
           "x": [
            1.020106685335022,
            1.0497129223965398,
            1.051065535567698,
            1.0984893371560656,
            1.0993684957865837,
            1.1365903819140273,
            1.1370635087602423,
            1.138117036597784,
            1.141220885476117,
            1.1624204770873334
           ],
           "y": [
            "Éphémère (Cranberry)",
            "Trappistes Rochefort 10",
            "Thornbury Pickup No. 26 Pilsener",
            "Brooklyn Black Chocolate Stout",
            "Hancock Old Gambrinus Beer Dark",
            "Harvest Ale (Limited Edition)",
            "Trafalgar Winter Warmer",
            "Tsingtao Dark",
            "Ørbæk Påskebryg",
            "Val-Dieu Triple"
           ]
          }
         ],
         "layout": {
          "bargap": 0.15,
          "font": {
           "size": 14
          },
          "plot_bgcolor": "white",
          "title": {
           "text": "Top 10 Beers in 2003"
          },
          "xaxis": {
           "range": [
            0,
            1.1624204770873334
           ],
           "showline": true,
           "visible": true
          },
          "yaxis": {
           "showline": false,
           "visible": false
          }
         },
         "name": "2003"
        },
        {
         "data": [
          {
           "hoverinfo": "all",
           "marker": {
            "color": [
             "rgb(173, 200, 30)",
             "rgb(243, 80, 248)",
             "rgb(79, 93, 177)",
             "rgb(121, 177, 214)",
             "rgb(202, 38, 230)",
             "rgb(156, 220, 198)",
             "rgb(51, 12, 217)",
             "rgb(187, 41, 184)",
             "rgb(4, 177, 52)",
             "rgb(164, 123, 59)"
            ]
           },
           "orientation": "h",
           "textposition": "inside",
           "texttemplate": "%{y}<br>%{x:.4s}",
           "type": "bar",
           "x": [
            1.1189133450981463,
            1.1516669950713043,
            1.1528166236042097,
            1.1716356265310237,
            1.1741023273154845,
            1.1760713745592537,
            1.217131086340976,
            1.276741053311066,
            1.3539639927626284,
            1.7084785431180471
           ],
           "y": [
            "Bièropholie Bock Émissaire",
            "Unibroue Seigneuriale",
            "Yo-Ho Yona Yona Ale",
            "Trappistes Rochefort 10",
            "Coopers Sparkling Ale",
            "De Dolle Speciaal Brouwsel 20",
            "Dieu du Ciel Péché Mortel",
            "Olands Export Ale",
            "Éphémère (Cranberry)",
            "Picaroons Irish Red"
           ]
          }
         ],
         "layout": {
          "bargap": 0.15,
          "font": {
           "size": 14
          },
          "plot_bgcolor": "white",
          "title": {
           "text": "Top 10 Beers in 2004"
          },
          "xaxis": {
           "range": [
            0,
            1.7084785431180471
           ],
           "showline": true,
           "visible": true
          },
          "yaxis": {
           "showline": false,
           "visible": false
          }
         },
         "name": "2004"
        },
        {
         "data": [
          {
           "hoverinfo": "all",
           "marker": {
            "color": [
             "rgb(158, 23, 86)",
             "rgb(240, 105, 242)",
             "rgb(225, 215, 182)",
             "rgb(79, 190, 132)",
             "rgb(67, 142, 121)",
             "rgb(222, 78, 243)",
             "rgb(113, 54, 181)",
             "rgb(135, 215, 92)",
             "rgb(254, 212, 60)",
             "rgb(237, 147, 95)"
            ]
           },
           "orientation": "h",
           "textposition": "inside",
           "texttemplate": "%{y}<br>%{x:.4s}",
           "type": "bar",
           "x": [
            1.128126928846783,
            1.1301521826016678,
            1.146847234543368,
            1.148323250291148,
            1.1483720433411242,
            1.1580044374770952,
            1.187508763872131,
            1.2330532509224803,
            1.3158032691133454,
            1.3961302319078674
           ],
           "y": [
            "WinterCoat Oatmeal Stout",
            "Mai Bock",
            "Brooklyn Black Chocolate Stout",
            "Cantillon Spuyten Duyvil",
            "Scotch Irish Tsarina Katarina Imperial Stout",
            "Fuller's Special Edition ESB",
            "Lions Winter Ale",
            "Ursus Pils",
            "Gale's Jubilee Ale (2002)",
            "Panil Barriquée  (Italy Version)"
           ]
          }
         ],
         "layout": {
          "bargap": 0.15,
          "font": {
           "size": 14
          },
          "plot_bgcolor": "white",
          "title": {
           "text": "Top 10 Beers in 2005"
          },
          "xaxis": {
           "range": [
            0,
            1.3961302319078674
           ],
           "showline": true,
           "visible": true
          },
          "yaxis": {
           "showline": false,
           "visible": false
          }
         },
         "name": "2005"
        },
        {
         "data": [
          {
           "hoverinfo": "all",
           "marker": {
            "color": [
             "rgb(241, 251, 229)",
             "rgb(248, 244, 149)",
             "rgb(19, 53, 6)",
             "rgb(237, 44, 249)",
             "rgb(146, 80, 231)",
             "rgb(131, 245, 139)",
             "rgb(38, 209, 92)",
             "rgb(169, 79, 203)",
             "rgb(105, 97, 245)",
             "rgb(68, 79, 174)"
            ]
           },
           "orientation": "h",
           "textposition": "inside",
           "texttemplate": "%{y}<br>%{x:.4s}",
           "type": "bar",
           "x": [
            1.1013018745460426,
            1.1081949452181952,
            1.10970020597058,
            1.1429170607485464,
            1.1814772124502742,
            1.1951664258337198,
            1.224148644787213,
            1.224792193965514,
            1.2294622768994474,
            1.2311662394036298
           ],
           "y": [
            "Smuggler's Ale",
            "Little Creatures Pale Ale",
            "Nickel Brook Ale (pre 2009)",
            "Bièropholie IPA",
            "Granville Island GIBitter",
            "Urbock 23°",
            "Birrificio Italiano Tipopils",
            "Phillips Amnesiac Double IPA",
            "Bedondaine et Bedons Ronds Reyne Descosse",
            "Lakeport Pilsener"
           ]
          }
         ],
         "layout": {
          "bargap": 0.15,
          "font": {
           "size": 14
          },
          "plot_bgcolor": "white",
          "title": {
           "text": "Top 10 Beers in 2006"
          },
          "xaxis": {
           "range": [
            0,
            1.2311662394036298
           ],
           "showline": true,
           "visible": true
          },
          "yaxis": {
           "showline": false,
           "visible": false
          }
         },
         "name": "2006"
        },
        {
         "data": [
          {
           "hoverinfo": "all",
           "marker": {
            "color": [
             "rgb(71, 226, 85)",
             "rgb(139, 11, 136)",
             "rgb(79, 86, 69)",
             "rgb(220, 158, 253)",
             "rgb(183, 174, 30)",
             "rgb(116, 0, 3)",
             "rgb(133, 56, 83)",
             "rgb(61, 48, 205)",
             "rgb(137, 250, 170)",
             "rgb(24, 73, 21)"
            ]
           },
           "orientation": "h",
           "textposition": "inside",
           "texttemplate": "%{y}<br>%{x:.4s}",
           "type": "bar",
           "x": [
            1.2396660302431133,
            1.2500517929893469,
            1.2669803376987006,
            1.2687902499092345,
            1.2801873813826143,
            1.296022595401119,
            1.3128778567226451,
            1.321458650317355,
            1.3320290468008888,
            1.4208028086796662
           ],
           "y": [
            "Sanctification",
            "Drie Fonteinen Millennium Geuze",
            "La Lièvre IPA",
            "Ølfabrikken Gammel Ekstra Porter",
            "Abbaye De Saint Bon-Chien",
            "Schneider Weisse Tap 1 Mein Blondes",
            "Side Launch Wheat",
            "Original Stieglbock",
            "Les Trois Mousquetaires G.C. Porter Baltique",
            "Innis & Gunn Limited Edition 2005"
           ]
          }
         ],
         "layout": {
          "bargap": 0.15,
          "font": {
           "size": 14
          },
          "plot_bgcolor": "white",
          "title": {
           "text": "Top 10 Beers in 2007"
          },
          "xaxis": {
           "range": [
            0,
            1.4208028086796662
           ],
           "showline": true,
           "visible": true
          },
          "yaxis": {
           "showline": false,
           "visible": false
          }
         },
         "name": "2007"
        },
        {
         "data": [
          {
           "hoverinfo": "all",
           "marker": {
            "color": [
             "rgb(141, 222, 126)",
             "rgb(115, 37, 49)",
             "rgb(212, 120, 156)",
             "rgb(54, 226, 250)",
             "rgb(254, 225, 56)",
             "rgb(44, 187, 159)",
             "rgb(46, 180, 215)",
             "rgb(106, 29, 222)",
             "rgb(138, 254, 59)",
             "rgb(140, 221, 26)"
            ]
           },
           "orientation": "h",
           "textposition": "inside",
           "texttemplate": "%{y}<br>%{x:.4s}",
           "type": "bar",
           "x": [
            1.1670864372733072,
            1.1766039835149418,
            1.1919126098650494,
            1.2012607567449864,
            1.2064338315271683,
            1.207766811476634,
            1.2547272238898888,
            1.377381643490348,
            1.391734911093819,
            1.4392218691560568
           ],
           "y": [
            "Old Crafty Hen",
            "Neumarkter Lammsbräu (Organic) Dunkel",
            "Terrapin Big Sloppy Monster",
            "Baladin Xyauyù Etichetta Rame (Copper Label)",
            "Consecration",
            "Half Pints Bulldog Amber Ale",
            "Baeren Rye",
            "Mean Manalishi Double I.P.A.",
            "Alley Kat Bad Hare Day",
            "Kosmyk Charlie's Y2K Catastrophe Ale"
           ]
          }
         ],
         "layout": {
          "bargap": 0.15,
          "font": {
           "size": 14
          },
          "plot_bgcolor": "white",
          "title": {
           "text": "Top 10 Beers in 2008"
          },
          "xaxis": {
           "range": [
            0,
            1.4392218691560568
           ],
           "showline": true,
           "visible": true
          },
          "yaxis": {
           "showline": false,
           "visible": false
          }
         },
         "name": "2008"
        },
        {
         "data": [
          {
           "hoverinfo": "all",
           "marker": {
            "color": [
             "rgb(146, 216, 54)",
             "rgb(240, 17, 93)",
             "rgb(229, 120, 246)",
             "rgb(13, 238, 139)",
             "rgb(65, 193, 238)",
             "rgb(146, 174, 93)",
             "rgb(104, 5, 163)",
             "rgb(41, 180, 199)",
             "rgb(99, 35, 127)",
             "rgb(248, 123, 55)"
            ]
           },
           "orientation": "h",
           "textposition": "inside",
           "texttemplate": "%{y}<br>%{x:.4s}",
           "type": "bar",
           "x": [
            1.2338471807274276,
            1.2393466430040996,
            1.2454384142571973,
            1.2469121186642012,
            1.2824851557175203,
            1.325754327205307,
            1.3561829163911925,
            1.372316618062027,
            1.381964656606547,
            1.8194648164280256
           ],
           "y": [
            "Søgaards Trippel",
            "Primátor Premium",
            "Dieu du Ciel Solstice dÉté aux Framboises",
            "Southampton Grand Cru",
            "Driftwood Sartori Harvest IPA",
            "Granville Island Merry Monks Dopplebock",
            "RJ Le Cheval Blanc Snoreau",
            "Old Engine Oil Special Reserve (Aged In Malt Whiskey Casks)",
            "Borefts Bok 2009",
            "Lvivske Porter"
           ]
          }
         ],
         "layout": {
          "bargap": 0.15,
          "font": {
           "size": 14
          },
          "plot_bgcolor": "white",
          "title": {
           "text": "Top 10 Beers in 2009"
          },
          "xaxis": {
           "range": [
            0,
            1.8194648164280256
           ],
           "showline": true,
           "visible": true
          },
          "yaxis": {
           "showline": false,
           "visible": false
          }
         },
         "name": "2009"
        },
        {
         "data": [
          {
           "hoverinfo": "all",
           "marker": {
            "color": [
             "rgb(73, 12, 153)",
             "rgb(40, 135, 38)",
             "rgb(4, 31, 144)",
             "rgb(255, 15, 166)",
             "rgb(54, 37, 211)",
             "rgb(234, 249, 195)",
             "rgb(16, 143, 201)",
             "rgb(67, 155, 111)",
             "rgb(32, 183, 191)",
             "rgb(236, 127, 103)"
            ]
           },
           "orientation": "h",
           "textposition": "inside",
           "texttemplate": "%{y}<br>%{x:.4s}",
           "type": "bar",
           "x": [
            1.289513947212004,
            1.3022892741280632,
            1.3504165952011944,
            1.3695815104674731,
            1.4186131609391872,
            1.4294349003691191,
            1.5284823417762363,
            1.5542583799019265,
            1.7288080087834743,
            1.7654250681805317
           ],
           "y": [
            "Captivator Doppelbock",
            "Toccalmatto Sibilla",
            "Birrificio del Ducato LUltima Luna",
            "La Trappe Quadrupel (Oak Aged)",
            "Toccalmatto Stray Dog No Rules Bitter",
            "Charlevoix Dominus Vobiscum Brut",
            "Birra del Borgo ReAle Extra",
            "Saison Du Tracteur",
            "Bedondaine et Bedons Ronds Reyne Descosse Gelée",
            "Piccolo Birrificio Ego"
           ]
          }
         ],
         "layout": {
          "bargap": 0.15,
          "font": {
           "size": 14
          },
          "plot_bgcolor": "white",
          "title": {
           "text": "Top 10 Beers in 2010"
          },
          "xaxis": {
           "range": [
            0,
            1.7654250681805317
           ],
           "showline": true,
           "visible": true
          },
          "yaxis": {
           "showline": false,
           "visible": false
          }
         },
         "name": "2010"
        },
        {
         "data": [
          {
           "hoverinfo": "all",
           "marker": {
            "color": [
             "rgb(145, 203, 194)",
             "rgb(184, 112, 142)",
             "rgb(73, 173, 144)",
             "rgb(214, 195, 235)",
             "rgb(180, 167, 31)",
             "rgb(64, 104, 90)",
             "rgb(165, 199, 49)",
             "rgb(141, 179, 26)",
             "rgb(65, 220, 12)",
             "rgb(108, 217, 63)"
            ]
           },
           "orientation": "h",
           "textposition": "inside",
           "texttemplate": "%{y}<br>%{x:.4s}",
           "type": "bar",
           "x": [
            1.2600744288590362,
            1.265080505108473,
            1.301966246878607,
            1.3262397837477289,
            1.333344904716972,
            1.347954076030384,
            1.3505600121785313,
            1.4710240611434864,
            1.703014364073218,
            2.253825333425378
           ],
           "y": [
            "Tipo Pils",
            "Cantillon Blåbær Lambik",
            "Les Brasseurs du Temps Mea Magna Culpa",
            "Cantillon Don Quijote",
            "Ølfabrikken Petit Blau",
            "Montegioco Quarta Runa",
            "Eichbaum Pilsener",
            "Drie Fonteinen Oude Geuze 1998 (50th Anniversary)",
            "Drie Fonteinen Millennium Geuze",
            "Beer Here / Raasted Bukkake"
           ]
          }
         ],
         "layout": {
          "bargap": 0.15,
          "font": {
           "size": 14
          },
          "plot_bgcolor": "white",
          "title": {
           "text": "Top 10 Beers in 2011"
          },
          "xaxis": {
           "range": [
            0,
            2.253825333425378
           ],
           "showline": true,
           "visible": true
          },
          "yaxis": {
           "showline": false,
           "visible": false
          }
         },
         "name": "2011"
        },
        {
         "data": [
          {
           "hoverinfo": "all",
           "marker": {
            "color": [
             "rgb(54, 238, 215)",
             "rgb(199, 177, 192)",
             "rgb(134, 103, 55)",
             "rgb(226, 90, 38)",
             "rgb(209, 235, 29)",
             "rgb(10, 139, 8)",
             "rgb(37, 34, 148)",
             "rgb(1, 225, 154)",
             "rgb(76, 238, 117)",
             "rgb(214, 19, 92)"
            ]
           },
           "orientation": "h",
           "textposition": "inside",
           "texttemplate": "%{y}<br>%{x:.4s}",
           "type": "bar",
           "x": [
            1.3265020252683697,
            1.3490384193077791,
            1.364564975250266,
            1.3688333984444223,
            1.369805348429683,
            1.3975667870645416,
            1.4323060786846682,
            1.457841090882981,
            1.4672320479745289,
            1.5564273480419248
           ],
           "y": [
            "Ann",
            "Depuration",
            "Black Tokyo Horizon",
            "Le Cheval Blanc Double Bonheur",
            "Whistler Chocolate Winter Dunkel",
            "Drie Fonteinen Oude Geuze 1998 (50th Anniversary)",
            "Watermelon Warhead",
            "Kamenitza Lev",
            "L'Amoureuse Rouge",
            "Cantillon Loerik"
           ]
          }
         ],
         "layout": {
          "bargap": 0.15,
          "font": {
           "size": 14
          },
          "plot_bgcolor": "white",
          "title": {
           "text": "Top 10 Beers in 2012"
          },
          "xaxis": {
           "range": [
            0,
            1.5564273480419248
           ],
           "showline": true,
           "visible": true
          },
          "yaxis": {
           "showline": false,
           "visible": false
          }
         },
         "name": "2012"
        },
        {
         "data": [
          {
           "hoverinfo": "all",
           "marker": {
            "color": [
             "rgb(235, 203, 102)",
             "rgb(99, 9, 110)",
             "rgb(139, 240, 114)",
             "rgb(140, 204, 215)",
             "rgb(151, 134, 236)",
             "rgb(130, 12, 33)",
             "rgb(225, 216, 38)",
             "rgb(2, 61, 43)",
             "rgb(42, 65, 61)",
             "rgb(43, 113, 64)"
            ]
           },
           "orientation": "h",
           "textposition": "inside",
           "texttemplate": "%{y}<br>%{x:.4s}",
           "type": "bar",
           "x": [
            1.3746493096975472,
            1.4041402200725015,
            1.4570126267878116,
            1.4741651011372767,
            1.493197763699144,
            1.5596210420758312,
            1.6521573868793042,
            1.6747480446151457,
            1.784840369968013,
            2.510691214725717
           ],
           "y": [
            "Tamamura-Honten Yamabushi Saison 1 Aged in Oak Barrels",
            "Rapture",
            "Cantillon Bruocsella (1900) Grand Cru",
            "Brasseurs du Monde Gamme Festive Célébrante",
            "Innis & Gunn Spiced Rum Aged",
            "Bavarias Best Imperial Stout",
            "Collesi 1970 Ambrata",
            "Svaneke Julebryg",
            "Edward",
            "Birra del Borgo Perle ai Porci (Pearls for Pigs)"
           ]
          }
         ],
         "layout": {
          "bargap": 0.15,
          "font": {
           "size": 14
          },
          "plot_bgcolor": "white",
          "title": {
           "text": "Top 10 Beers in 2013"
          },
          "xaxis": {
           "range": [
            0,
            2.510691214725717
           ],
           "showline": true,
           "visible": true
          },
          "yaxis": {
           "showline": false,
           "visible": false
          }
         },
         "name": "2013"
        },
        {
         "data": [
          {
           "hoverinfo": "all",
           "marker": {
            "color": [
             "rgb(128, 175, 172)",
             "rgb(251, 45, 207)",
             "rgb(54, 13, 68)",
             "rgb(99, 252, 27)",
             "rgb(143, 15, 204)",
             "rgb(241, 35, 185)",
             "rgb(169, 97, 196)",
             "rgb(161, 61, 109)",
             "rgb(89, 215, 161)",
             "rgb(144, 87, 241)"
            ]
           },
           "orientation": "h",
           "textposition": "inside",
           "texttemplate": "%{y}<br>%{x:.4s}",
           "type": "bar",
           "x": [
            1.481905996838515,
            1.4953778917662726,
            1.498668519392976,
            1.5958805494661334,
            1.6764028325986928,
            1.7425096415533683,
            1.7429667157083328,
            1.8860097723067208,
            1.9268002384767275,
            2.796358605054868
           ],
           "y": [
            "Cantillon Crianza Helena",
            "Melbourne Bitter",
            "Cantillon Blåbær Lambik",
            "Schneider Weisse Tap 6 Unser Aventinus",
            "Minerva Colonial",
            "Wicked Juju",
            "Cantillon Spuyten Duyvil",
            "Extraomnes Saison",
            "Molson Standard Lager",
            "Mandøl Smagen af Mandø"
           ]
          }
         ],
         "layout": {
          "bargap": 0.15,
          "font": {
           "size": 14
          },
          "plot_bgcolor": "white",
          "title": {
           "text": "Top 10 Beers in 2014"
          },
          "xaxis": {
           "range": [
            0,
            2.796358605054868
           ],
           "showline": true,
           "visible": true
          },
          "yaxis": {
           "showline": false,
           "visible": false
          }
         },
         "name": "2014"
        },
        {
         "data": [
          {
           "hoverinfo": "all",
           "marker": {
            "color": [
             "rgb(34, 14, 237)",
             "rgb(215, 241, 58)",
             "rgb(195, 241, 168)",
             "rgb(211, 9, 83)",
             "rgb(133, 249, 31)",
             "rgb(147, 144, 93)",
             "rgb(188, 149, 127)",
             "rgb(85, 228, 44)",
             "rgb(32, 180, 154)",
             "rgb(0, 35, 189)"
            ]
           },
           "orientation": "h",
           "textposition": "inside",
           "texttemplate": "%{y}<br>%{x:.4s}",
           "type": "bar",
           "x": [
            1.5676276553776711,
            1.5751038516002658,
            1.622719541991331,
            1.623539297914094,
            1.6258817104558627,
            1.6387533424741991,
            1.6738321718245197,
            1.70740160723289,
            1.7625116163067636,
            1.82482572270457
           ],
           "y": [
            "Driftwood Sartori Harvest IPA",
            "Flying Monkeys City and Colour",
            "Buxton / Omnipollo Yellow Belly Sundae",
            "Dunham Saison Réserve",
            "Sanctification",
            "Charlevoix Dominus Vobiscum Lupulus",
            "Saison Bernice",
            "Unibroue Blanche de Chambly",
            "Four Winds Phaedra Rye Wheat IPA",
            "Opperbacco Blanche de Lotario"
           ]
          }
         ],
         "layout": {
          "bargap": 0.15,
          "font": {
           "size": 14
          },
          "plot_bgcolor": "white",
          "title": {
           "text": "Top 10 Beers in 2015"
          },
          "xaxis": {
           "range": [
            0,
            1.82482572270457
           ],
           "showline": true,
           "visible": true
          },
          "yaxis": {
           "showline": false,
           "visible": false
          }
         },
         "name": "2015"
        },
        {
         "data": [
          {
           "hoverinfo": "all",
           "marker": {
            "color": [
             "rgb(165, 188, 192)",
             "rgb(148, 36, 35)",
             "rgb(243, 17, 71)",
             "rgb(174, 159, 150)",
             "rgb(181, 228, 197)",
             "rgb(50, 224, 27)",
             "rgb(87, 135, 192)",
             "rgb(80, 169, 25)",
             "rgb(17, 108, 157)",
             "rgb(17, 61, 27)"
            ]
           },
           "orientation": "h",
           "textposition": "inside",
           "texttemplate": "%{y}<br>%{x:.4s}",
           "type": "bar",
           "x": [
            1.6309133236150697,
            1.6327746884700929,
            1.65167625476196,
            1.9003550471197763,
            1.9148003899577124,
            1.932732074470068,
            1.9683048585754683,
            2.0956611027231538,
            2.32265547193058,
            2.330646926702521
           ],
           "y": [
            "Aardmonnik - Earthmonk",
            "Hors Série Ceci N'est Pas Une Gueuze",
            "Frejdahl Gudmund",
            "To Øl Passion Of The Weisst",
            "Xyauyù Etichetta Rame (Copper)",
            "Skovlyst Julebryg",
            "Charlevoix Dominus Vobiscum Lupulus",
            "Ghost Black Beast",
            "Skovlyst Lossen",
            "Indie Alehouse Zombie Apocalypse (Bourbon)"
           ]
          }
         ],
         "layout": {
          "bargap": 0.15,
          "font": {
           "size": 14
          },
          "plot_bgcolor": "white",
          "title": {
           "text": "Top 10 Beers in 2016"
          },
          "xaxis": {
           "range": [
            0,
            2.330646926702521
           ],
           "showline": true,
           "visible": true
          },
          "yaxis": {
           "showline": false,
           "visible": false
          }
         },
         "name": "2016"
        },
        {
         "data": [
          {
           "hoverinfo": "all",
           "marker": {
            "color": [
             "rgb(39, 47, 168)",
             "rgb(128, 8, 150)",
             "rgb(158, 137, 178)",
             "rgb(225, 19, 133)",
             "rgb(188, 154, 64)",
             "rgb(233, 130, 7)",
             "rgb(209, 199, 164)",
             "rgb(145, 34, 226)",
             "rgb(36, 89, 15)",
             "rgb(117, 246, 215)"
            ]
           },
           "orientation": "h",
           "textposition": "inside",
           "texttemplate": "%{y}<br>%{x:.4s}",
           "type": "bar",
           "x": [
            1.5461166604658836,
            1.547184850088554,
            1.5563119039202395,
            1.581953108750554,
            1.6360558401007417,
            1.654410184218145,
            1.7331561781565548,
            1.7420509005188278,
            1.778935444645838,
            1.8188611526235283
           ],
           "y": [
            "LoverBeer A Renna Glüh",
            "Benelux Moisson (2011)",
            "Birrificio Italiano Nigredo (Negra 3.0)",
            "Midtfyns Jule Stout",
            "Amager / Lervig Brown Boobies Falling",
            "RJ Le Cheval Blanc Double Blanche (IPA belge)",
            "Double Nelson",
            "Thisted Thy Ale",
            "Pladderballe Brodtgaard Basement Reserve",
            "Coedo / Stone / Garage Project Tsuyu Saison"
           ]
          }
         ],
         "layout": {
          "bargap": 0.15,
          "font": {
           "size": 14
          },
          "plot_bgcolor": "white",
          "title": {
           "text": "Top 10 Beers in 2017"
          },
          "xaxis": {
           "range": [
            0,
            1.8188611526235283
           ],
           "showline": true,
           "visible": true
          },
          "yaxis": {
           "showline": false,
           "visible": false
          }
         },
         "name": "2017"
        }
       ],
       "layout": {
        "sliders": [
         {
          "steps": [
           {
            "args": [
             [
              "2000"
             ],
             {
              "frame": {
               "duration": 300,
               "redraw": false
              },
              "mode": "immediate",
              "transition": {
               "duration": 300
              }
             }
            ],
            "label": "2000",
            "method": "animate"
           },
           {
            "args": [
             [
              "2001"
             ],
             {
              "frame": {
               "duration": 300,
               "redraw": false
              },
              "mode": "immediate",
              "transition": {
               "duration": 300
              }
             }
            ],
            "label": "2001",
            "method": "animate"
           },
           {
            "args": [
             [
              "2002"
             ],
             {
              "frame": {
               "duration": 300,
               "redraw": false
              },
              "mode": "immediate",
              "transition": {
               "duration": 300
              }
             }
            ],
            "label": "2002",
            "method": "animate"
           },
           {
            "args": [
             [
              "2003"
             ],
             {
              "frame": {
               "duration": 300,
               "redraw": false
              },
              "mode": "immediate",
              "transition": {
               "duration": 300
              }
             }
            ],
            "label": "2003",
            "method": "animate"
           },
           {
            "args": [
             [
              "2004"
             ],
             {
              "frame": {
               "duration": 300,
               "redraw": false
              },
              "mode": "immediate",
              "transition": {
               "duration": 300
              }
             }
            ],
            "label": "2004",
            "method": "animate"
           },
           {
            "args": [
             [
              "2005"
             ],
             {
              "frame": {
               "duration": 300,
               "redraw": false
              },
              "mode": "immediate",
              "transition": {
               "duration": 300
              }
             }
            ],
            "label": "2005",
            "method": "animate"
           },
           {
            "args": [
             [
              "2006"
             ],
             {
              "frame": {
               "duration": 300,
               "redraw": false
              },
              "mode": "immediate",
              "transition": {
               "duration": 300
              }
             }
            ],
            "label": "2006",
            "method": "animate"
           },
           {
            "args": [
             [
              "2007"
             ],
             {
              "frame": {
               "duration": 300,
               "redraw": false
              },
              "mode": "immediate",
              "transition": {
               "duration": 300
              }
             }
            ],
            "label": "2007",
            "method": "animate"
           },
           {
            "args": [
             [
              "2008"
             ],
             {
              "frame": {
               "duration": 300,
               "redraw": false
              },
              "mode": "immediate",
              "transition": {
               "duration": 300
              }
             }
            ],
            "label": "2008",
            "method": "animate"
           },
           {
            "args": [
             [
              "2009"
             ],
             {
              "frame": {
               "duration": 300,
               "redraw": false
              },
              "mode": "immediate",
              "transition": {
               "duration": 300
              }
             }
            ],
            "label": "2009",
            "method": "animate"
           },
           {
            "args": [
             [
              "2010"
             ],
             {
              "frame": {
               "duration": 300,
               "redraw": false
              },
              "mode": "immediate",
              "transition": {
               "duration": 300
              }
             }
            ],
            "label": "2010",
            "method": "animate"
           },
           {
            "args": [
             [
              "2011"
             ],
             {
              "frame": {
               "duration": 300,
               "redraw": false
              },
              "mode": "immediate",
              "transition": {
               "duration": 300
              }
             }
            ],
            "label": "2011",
            "method": "animate"
           },
           {
            "args": [
             [
              "2012"
             ],
             {
              "frame": {
               "duration": 300,
               "redraw": false
              },
              "mode": "immediate",
              "transition": {
               "duration": 300
              }
             }
            ],
            "label": "2012",
            "method": "animate"
           },
           {
            "args": [
             [
              "2013"
             ],
             {
              "frame": {
               "duration": 300,
               "redraw": false
              },
              "mode": "immediate",
              "transition": {
               "duration": 300
              }
             }
            ],
            "label": "2013",
            "method": "animate"
           },
           {
            "args": [
             [
              "2014"
             ],
             {
              "frame": {
               "duration": 300,
               "redraw": false
              },
              "mode": "immediate",
              "transition": {
               "duration": 300
              }
             }
            ],
            "label": "2014",
            "method": "animate"
           },
           {
            "args": [
             [
              "2015"
             ],
             {
              "frame": {
               "duration": 300,
               "redraw": false
              },
              "mode": "immediate",
              "transition": {
               "duration": 300
              }
             }
            ],
            "label": "2015",
            "method": "animate"
           },
           {
            "args": [
             [
              "2016"
             ],
             {
              "frame": {
               "duration": 300,
               "redraw": false
              },
              "mode": "immediate",
              "transition": {
               "duration": 300
              }
             }
            ],
            "label": "2016",
            "method": "animate"
           },
           {
            "args": [
             [
              "2017"
             ],
             {
              "frame": {
               "duration": 300,
               "redraw": false
              },
              "mode": "immediate",
              "transition": {
               "duration": 300
              }
             }
            ],
            "label": "2017",
            "method": "animate"
           }
          ]
         }
        ],
        "template": {
         "data": {
          "bar": [
           {
            "error_x": {
             "color": "#2a3f5f"
            },
            "error_y": {
             "color": "#2a3f5f"
            },
            "marker": {
             "line": {
              "color": "#E5ECF6",
              "width": 0.5
             },
             "pattern": {
              "fillmode": "overlay",
              "size": 10,
              "solidity": 0.2
             }
            },
            "type": "bar"
           }
          ],
          "barpolar": [
           {
            "marker": {
             "line": {
              "color": "#E5ECF6",
              "width": 0.5
             },
             "pattern": {
              "fillmode": "overlay",
              "size": 10,
              "solidity": 0.2
             }
            },
            "type": "barpolar"
           }
          ],
          "carpet": [
           {
            "aaxis": {
             "endlinecolor": "#2a3f5f",
             "gridcolor": "white",
             "linecolor": "white",
             "minorgridcolor": "white",
             "startlinecolor": "#2a3f5f"
            },
            "baxis": {
             "endlinecolor": "#2a3f5f",
             "gridcolor": "white",
             "linecolor": "white",
             "minorgridcolor": "white",
             "startlinecolor": "#2a3f5f"
            },
            "type": "carpet"
           }
          ],
          "choropleth": [
           {
            "colorbar": {
             "outlinewidth": 0,
             "ticks": ""
            },
            "type": "choropleth"
           }
          ],
          "contour": [
           {
            "colorbar": {
             "outlinewidth": 0,
             "ticks": ""
            },
            "colorscale": [
             [
              0,
              "#0d0887"
             ],
             [
              0.1111111111111111,
              "#46039f"
             ],
             [
              0.2222222222222222,
              "#7201a8"
             ],
             [
              0.3333333333333333,
              "#9c179e"
             ],
             [
              0.4444444444444444,
              "#bd3786"
             ],
             [
              0.5555555555555556,
              "#d8576b"
             ],
             [
              0.6666666666666666,
              "#ed7953"
             ],
             [
              0.7777777777777778,
              "#fb9f3a"
             ],
             [
              0.8888888888888888,
              "#fdca26"
             ],
             [
              1,
              "#f0f921"
             ]
            ],
            "type": "contour"
           }
          ],
          "contourcarpet": [
           {
            "colorbar": {
             "outlinewidth": 0,
             "ticks": ""
            },
            "type": "contourcarpet"
           }
          ],
          "heatmap": [
           {
            "colorbar": {
             "outlinewidth": 0,
             "ticks": ""
            },
            "colorscale": [
             [
              0,
              "#0d0887"
             ],
             [
              0.1111111111111111,
              "#46039f"
             ],
             [
              0.2222222222222222,
              "#7201a8"
             ],
             [
              0.3333333333333333,
              "#9c179e"
             ],
             [
              0.4444444444444444,
              "#bd3786"
             ],
             [
              0.5555555555555556,
              "#d8576b"
             ],
             [
              0.6666666666666666,
              "#ed7953"
             ],
             [
              0.7777777777777778,
              "#fb9f3a"
             ],
             [
              0.8888888888888888,
              "#fdca26"
             ],
             [
              1,
              "#f0f921"
             ]
            ],
            "type": "heatmap"
           }
          ],
          "heatmapgl": [
           {
            "colorbar": {
             "outlinewidth": 0,
             "ticks": ""
            },
            "colorscale": [
             [
              0,
              "#0d0887"
             ],
             [
              0.1111111111111111,
              "#46039f"
             ],
             [
              0.2222222222222222,
              "#7201a8"
             ],
             [
              0.3333333333333333,
              "#9c179e"
             ],
             [
              0.4444444444444444,
              "#bd3786"
             ],
             [
              0.5555555555555556,
              "#d8576b"
             ],
             [
              0.6666666666666666,
              "#ed7953"
             ],
             [
              0.7777777777777778,
              "#fb9f3a"
             ],
             [
              0.8888888888888888,
              "#fdca26"
             ],
             [
              1,
              "#f0f921"
             ]
            ],
            "type": "heatmapgl"
           }
          ],
          "histogram": [
           {
            "marker": {
             "pattern": {
              "fillmode": "overlay",
              "size": 10,
              "solidity": 0.2
             }
            },
            "type": "histogram"
           }
          ],
          "histogram2d": [
           {
            "colorbar": {
             "outlinewidth": 0,
             "ticks": ""
            },
            "colorscale": [
             [
              0,
              "#0d0887"
             ],
             [
              0.1111111111111111,
              "#46039f"
             ],
             [
              0.2222222222222222,
              "#7201a8"
             ],
             [
              0.3333333333333333,
              "#9c179e"
             ],
             [
              0.4444444444444444,
              "#bd3786"
             ],
             [
              0.5555555555555556,
              "#d8576b"
             ],
             [
              0.6666666666666666,
              "#ed7953"
             ],
             [
              0.7777777777777778,
              "#fb9f3a"
             ],
             [
              0.8888888888888888,
              "#fdca26"
             ],
             [
              1,
              "#f0f921"
             ]
            ],
            "type": "histogram2d"
           }
          ],
          "histogram2dcontour": [
           {
            "colorbar": {
             "outlinewidth": 0,
             "ticks": ""
            },
            "colorscale": [
             [
              0,
              "#0d0887"
             ],
             [
              0.1111111111111111,
              "#46039f"
             ],
             [
              0.2222222222222222,
              "#7201a8"
             ],
             [
              0.3333333333333333,
              "#9c179e"
             ],
             [
              0.4444444444444444,
              "#bd3786"
             ],
             [
              0.5555555555555556,
              "#d8576b"
             ],
             [
              0.6666666666666666,
              "#ed7953"
             ],
             [
              0.7777777777777778,
              "#fb9f3a"
             ],
             [
              0.8888888888888888,
              "#fdca26"
             ],
             [
              1,
              "#f0f921"
             ]
            ],
            "type": "histogram2dcontour"
           }
          ],
          "mesh3d": [
           {
            "colorbar": {
             "outlinewidth": 0,
             "ticks": ""
            },
            "type": "mesh3d"
           }
          ],
          "parcoords": [
           {
            "line": {
             "colorbar": {
              "outlinewidth": 0,
              "ticks": ""
             }
            },
            "type": "parcoords"
           }
          ],
          "pie": [
           {
            "automargin": true,
            "type": "pie"
           }
          ],
          "scatter": [
           {
            "fillpattern": {
             "fillmode": "overlay",
             "size": 10,
             "solidity": 0.2
            },
            "type": "scatter"
           }
          ],
          "scatter3d": [
           {
            "line": {
             "colorbar": {
              "outlinewidth": 0,
              "ticks": ""
             }
            },
            "marker": {
             "colorbar": {
              "outlinewidth": 0,
              "ticks": ""
             }
            },
            "type": "scatter3d"
           }
          ],
          "scattercarpet": [
           {
            "marker": {
             "colorbar": {
              "outlinewidth": 0,
              "ticks": ""
             }
            },
            "type": "scattercarpet"
           }
          ],
          "scattergeo": [
           {
            "marker": {
             "colorbar": {
              "outlinewidth": 0,
              "ticks": ""
             }
            },
            "type": "scattergeo"
           }
          ],
          "scattergl": [
           {
            "marker": {
             "colorbar": {
              "outlinewidth": 0,
              "ticks": ""
             }
            },
            "type": "scattergl"
           }
          ],
          "scattermapbox": [
           {
            "marker": {
             "colorbar": {
              "outlinewidth": 0,
              "ticks": ""
             }
            },
            "type": "scattermapbox"
           }
          ],
          "scatterpolar": [
           {
            "marker": {
             "colorbar": {
              "outlinewidth": 0,
              "ticks": ""
             }
            },
            "type": "scatterpolar"
           }
          ],
          "scatterpolargl": [
           {
            "marker": {
             "colorbar": {
              "outlinewidth": 0,
              "ticks": ""
             }
            },
            "type": "scatterpolargl"
           }
          ],
          "scatterternary": [
           {
            "marker": {
             "colorbar": {
              "outlinewidth": 0,
              "ticks": ""
             }
            },
            "type": "scatterternary"
           }
          ],
          "surface": [
           {
            "colorbar": {
             "outlinewidth": 0,
             "ticks": ""
            },
            "colorscale": [
             [
              0,
              "#0d0887"
             ],
             [
              0.1111111111111111,
              "#46039f"
             ],
             [
              0.2222222222222222,
              "#7201a8"
             ],
             [
              0.3333333333333333,
              "#9c179e"
             ],
             [
              0.4444444444444444,
              "#bd3786"
             ],
             [
              0.5555555555555556,
              "#d8576b"
             ],
             [
              0.6666666666666666,
              "#ed7953"
             ],
             [
              0.7777777777777778,
              "#fb9f3a"
             ],
             [
              0.8888888888888888,
              "#fdca26"
             ],
             [
              1,
              "#f0f921"
             ]
            ],
            "type": "surface"
           }
          ],
          "table": [
           {
            "cells": {
             "fill": {
              "color": "#EBF0F8"
             },
             "line": {
              "color": "white"
             }
            },
            "header": {
             "fill": {
              "color": "#C8D4E3"
             },
             "line": {
              "color": "white"
             }
            },
            "type": "table"
           }
          ]
         },
         "layout": {
          "annotationdefaults": {
           "arrowcolor": "#2a3f5f",
           "arrowhead": 0,
           "arrowwidth": 1
          },
          "autotypenumbers": "strict",
          "coloraxis": {
           "colorbar": {
            "outlinewidth": 0,
            "ticks": ""
           }
          },
          "colorscale": {
           "diverging": [
            [
             0,
             "#8e0152"
            ],
            [
             0.1,
             "#c51b7d"
            ],
            [
             0.2,
             "#de77ae"
            ],
            [
             0.3,
             "#f1b6da"
            ],
            [
             0.4,
             "#fde0ef"
            ],
            [
             0.5,
             "#f7f7f7"
            ],
            [
             0.6,
             "#e6f5d0"
            ],
            [
             0.7,
             "#b8e186"
            ],
            [
             0.8,
             "#7fbc41"
            ],
            [
             0.9,
             "#4d9221"
            ],
            [
             1,
             "#276419"
            ]
           ],
           "sequential": [
            [
             0,
             "#0d0887"
            ],
            [
             0.1111111111111111,
             "#46039f"
            ],
            [
             0.2222222222222222,
             "#7201a8"
            ],
            [
             0.3333333333333333,
             "#9c179e"
            ],
            [
             0.4444444444444444,
             "#bd3786"
            ],
            [
             0.5555555555555556,
             "#d8576b"
            ],
            [
             0.6666666666666666,
             "#ed7953"
            ],
            [
             0.7777777777777778,
             "#fb9f3a"
            ],
            [
             0.8888888888888888,
             "#fdca26"
            ],
            [
             1,
             "#f0f921"
            ]
           ],
           "sequentialminus": [
            [
             0,
             "#0d0887"
            ],
            [
             0.1111111111111111,
             "#46039f"
            ],
            [
             0.2222222222222222,
             "#7201a8"
            ],
            [
             0.3333333333333333,
             "#9c179e"
            ],
            [
             0.4444444444444444,
             "#bd3786"
            ],
            [
             0.5555555555555556,
             "#d8576b"
            ],
            [
             0.6666666666666666,
             "#ed7953"
            ],
            [
             0.7777777777777778,
             "#fb9f3a"
            ],
            [
             0.8888888888888888,
             "#fdca26"
            ],
            [
             1,
             "#f0f921"
            ]
           ]
          },
          "colorway": [
           "#636efa",
           "#EF553B",
           "#00cc96",
           "#ab63fa",
           "#FFA15A",
           "#19d3f3",
           "#FF6692",
           "#B6E880",
           "#FF97FF",
           "#FECB52"
          ],
          "font": {
           "color": "#2a3f5f"
          },
          "geo": {
           "bgcolor": "white",
           "lakecolor": "white",
           "landcolor": "#E5ECF6",
           "showlakes": true,
           "showland": true,
           "subunitcolor": "white"
          },
          "hoverlabel": {
           "align": "left"
          },
          "hovermode": "closest",
          "mapbox": {
           "style": "light"
          },
          "paper_bgcolor": "white",
          "plot_bgcolor": "#E5ECF6",
          "polar": {
           "angularaxis": {
            "gridcolor": "white",
            "linecolor": "white",
            "ticks": ""
           },
           "bgcolor": "#E5ECF6",
           "radialaxis": {
            "gridcolor": "white",
            "linecolor": "white",
            "ticks": ""
           }
          },
          "scene": {
           "xaxis": {
            "backgroundcolor": "#E5ECF6",
            "gridcolor": "white",
            "gridwidth": 2,
            "linecolor": "white",
            "showbackground": true,
            "ticks": "",
            "zerolinecolor": "white"
           },
           "yaxis": {
            "backgroundcolor": "#E5ECF6",
            "gridcolor": "white",
            "gridwidth": 2,
            "linecolor": "white",
            "showbackground": true,
            "ticks": "",
            "zerolinecolor": "white"
           },
           "zaxis": {
            "backgroundcolor": "#E5ECF6",
            "gridcolor": "white",
            "gridwidth": 2,
            "linecolor": "white",
            "showbackground": true,
            "ticks": "",
            "zerolinecolor": "white"
           }
          },
          "shapedefaults": {
           "line": {
            "color": "#2a3f5f"
           }
          },
          "ternary": {
           "aaxis": {
            "gridcolor": "white",
            "linecolor": "white",
            "ticks": ""
           },
           "baxis": {
            "gridcolor": "white",
            "linecolor": "white",
            "ticks": ""
           },
           "bgcolor": "#E5ECF6",
           "caxis": {
            "gridcolor": "white",
            "linecolor": "white",
            "ticks": ""
           }
          },
          "title": {
           "x": 0.05
          },
          "xaxis": {
           "automargin": true,
           "gridcolor": "white",
           "linecolor": "white",
           "ticks": "",
           "title": {
            "standoff": 15
           },
           "zerolinecolor": "white",
           "zerolinewidth": 2
          },
          "yaxis": {
           "automargin": true,
           "gridcolor": "white",
           "linecolor": "white",
           "ticks": "",
           "title": {
            "standoff": 15
           },
           "zerolinecolor": "white",
           "zerolinewidth": 2
          }
         }
        },
        "title": {
         "text": "Top 10 Beers across years"
        }
       }
      }
     },
     "metadata": {},
     "output_type": "display_data"
    }
   ],
   "source": [
    "go.Figure(fig)"
   ]
  },
  {
   "cell_type": "code",
   "execution_count": 309,
   "metadata": {},
   "outputs": [
    {
     "data": {
      "application/vnd.plotly.v1+json": {
       "config": {
        "plotlyServerURL": "https://plot.ly"
       },
       "data": [
        {
         "type": "bar"
        }
       ],
       "frames": [
        {
         "data": [
          {
           "hoverinfo": "all",
           "marker": {
            "color": [
             "rgb(16, 117, 152)",
             "rgb(124, 214, 22)",
             "rgb(99, 221, 234)",
             "rgb(59, 83, 192)",
             "rgb(199, 192, 44)",
             "rgb(196, 6, 158)",
             "rgb(109, 14, 227)",
             "rgb(46, 86, 103)",
             "rgb(2, 57, 230)",
             "rgb(195, 107, 135)"
            ]
           },
           "orientation": "h",
           "text": [
            "Smuttynose Portsmouth Lager",
            "Wellington Iron Duke Strong Ale",
            "Beck's Oktoberfest",
            "Unibroue Blanche de Chambly",
            "Guinness Extra Stout (North America)",
            "Alley Kat Scona Gold",
            "Unibroue Maudite",
            "Unibroue Eau Bénite",
            "Unibroue La Fin du Monde",
            "Weihenstephaner Original"
           ],
           "textposition": "outside",
           "type": "bar",
           "width": 0.5,
           "x": [
            0.0856980269090535,
            0.1413983790078688,
            0.1474960597172014,
            0.2916820056995468,
            0.3633911590367735,
            0.4020559589920901,
            0.7832398558263911,
            0.7922630921178851,
            0.8024114516969543,
            1.2724582070724737
           ]
          }
         ],
         "layout": {
          "bargap": 0,
          "bargroupgap": 0,
          "font": {
           "size": 14
          },
          "plot_bgcolor": "white",
          "title": {
           "text": "Top 10 Beers in 2000"
          },
          "xaxis": {
           "range": [
            0,
            4.296358605054868
           ],
           "showline": true,
           "visible": true
          },
          "yaxis": {
           "showline": true,
           "ticktext": [
            10,
            9,
            8,
            7,
            6,
            5,
            4,
            3,
            2,
            1
           ],
           "tickvals": [
            0,
            1,
            2,
            3,
            4,
            5,
            6,
            7,
            8,
            9,
            10
           ],
           "title": {
            "text": "Top 10 Beers"
           },
           "visible": true
          }
         },
         "name": "2000"
        },
        {
         "data": [
          {
           "hoverinfo": "all",
           "marker": {
            "color": [
             "rgb(156, 11, 65)",
             "rgb(71, 140, 121)",
             "rgb(164, 136, 19)",
             "rgb(46, 86, 103)",
             "rgb(208, 85, 50)",
             "rgb(207, 222, 28)",
             "rgb(106, 64, 102)",
             "rgb(121, 36, 203)",
             "rgb(36, 71, 60)",
             "rgb(218, 140, 17)"
            ]
           },
           "orientation": "h",
           "text": [
            "Olands Premium Red Draught",
            "Apollo Pilsner",
            "Wellington Imperial Russian Stout",
            "Unibroue Eau Bénite",
            "Samuel Smith's Organic Best Ale",
            "Hancock Old Gambrinus Beer Light",
            "Paulaner Oktoberfest-Märzen",
            "Ayinger Celebrator Doppelbock",
            "Creemore Springs Premium Lager",
            "Okanagan Spring Pale Ale"
           ],
           "textposition": "outside",
           "type": "bar",
           "width": 0.5,
           "x": [
            0.9785837672582662,
            1.0058875532587828,
            1.063970250411699,
            1.0725839073783556,
            1.1062115555022047,
            1.1406137542872845,
            1.1540869577021826,
            1.2406882489229227,
            1.292176928309711,
            1.6237857546298675
           ]
          }
         ],
         "layout": {
          "bargap": 0,
          "bargroupgap": 0,
          "font": {
           "size": 14
          },
          "plot_bgcolor": "white",
          "title": {
           "text": "Top 10 Beers in 2001"
          },
          "xaxis": {
           "range": [
            0,
            4.296358605054868
           ],
           "showline": true,
           "visible": true
          },
          "yaxis": {
           "showline": true,
           "ticktext": [
            10,
            9,
            8,
            7,
            6,
            5,
            4,
            3,
            2,
            1
           ],
           "tickvals": [
            0,
            1,
            2,
            3,
            4,
            5,
            6,
            7,
            8,
            9,
            10
           ],
           "title": {
            "text": "Top 10 Beers"
           },
           "visible": true
          }
         },
         "name": "2001"
        },
        {
         "data": [
          {
           "hoverinfo": "all",
           "marker": {
            "color": [
             "rgb(220, 129, 222)",
             "rgb(244, 242, 205)",
             "rgb(228, 30, 164)",
             "rgb(88, 153, 18)",
             "rgb(190, 233, 220)",
             "rgb(64, 201, 71)",
             "rgb(179, 204, 43)",
             "rgb(94, 34, 127)",
             "rgb(253, 202, 45)",
             "rgb(187, 239, 63)"
            ]
           },
           "orientation": "h",
           "text": [
            "Traquair House Ale",
            "Noche Buena",
            "Rickards Gold",
            "Schwarzer Abt",
            "Thomas Hardy's Ale (1968-1999)",
            "Upper Canada Dark Ale",
            "Hancock Old Gambrinus Beer Dark",
            "Le Cheval Blanc Bière dHiver",
            "Brava Cerveza",
            "Casta Bruna"
           ],
           "textposition": "outside",
           "type": "bar",
           "width": 0.5,
           "x": [
            1.0971892330254818,
            1.117999273528437,
            1.1892809268470006,
            1.1946513838248962,
            1.2298686075598522,
            1.2363237954738322,
            1.2464736767652496,
            1.296739938062742,
            1.3506758306197617,
            1.7157031714601243
           ]
          }
         ],
         "layout": {
          "bargap": 0,
          "bargroupgap": 0,
          "font": {
           "size": 14
          },
          "plot_bgcolor": "white",
          "title": {
           "text": "Top 10 Beers in 2002"
          },
          "xaxis": {
           "range": [
            0,
            4.296358605054868
           ],
           "showline": true,
           "visible": true
          },
          "yaxis": {
           "showline": true,
           "ticktext": [
            10,
            9,
            8,
            7,
            6,
            5,
            4,
            3,
            2,
            1
           ],
           "tickvals": [
            0,
            1,
            2,
            3,
            4,
            5,
            6,
            7,
            8,
            9,
            10
           ],
           "title": {
            "text": "Top 10 Beers"
           },
           "visible": true
          }
         },
         "name": "2002"
        },
        {
         "data": [
          {
           "hoverinfo": "all",
           "marker": {
            "color": [
             "rgb(135, 149, 26)",
             "rgb(120, 138, 16)",
             "rgb(114, 247, 131)",
             "rgb(190, 249, 188)",
             "rgb(179, 204, 43)",
             "rgb(238, 116, 217)",
             "rgb(107, 147, 166)",
             "rgb(183, 13, 233)",
             "rgb(141, 8, 17)",
             "rgb(135, 59, 34)"
            ]
           },
           "orientation": "h",
           "text": [
            "Éphémère (Cranberry)",
            "Trappistes Rochefort 10",
            "Thornbury Pickup No. 26 Pilsener",
            "Brooklyn Black Chocolate Stout",
            "Hancock Old Gambrinus Beer Dark",
            "Harvest Ale (Limited Edition)",
            "Trafalgar Winter Warmer",
            "Tsingtao Dark",
            "Ørbæk Påskebryg",
            "Val-Dieu Triple"
           ],
           "textposition": "outside",
           "type": "bar",
           "width": 0.5,
           "x": [
            1.020106685335022,
            1.0497129223965398,
            1.051065535567698,
            1.0984893371560656,
            1.0993684957865837,
            1.1365903819140273,
            1.1370635087602423,
            1.138117036597784,
            1.141220885476117,
            1.1624204770873334
           ]
          }
         ],
         "layout": {
          "bargap": 0,
          "bargroupgap": 0,
          "font": {
           "size": 14
          },
          "plot_bgcolor": "white",
          "title": {
           "text": "Top 10 Beers in 2003"
          },
          "xaxis": {
           "range": [
            0,
            4.296358605054868
           ],
           "showline": true,
           "visible": true
          },
          "yaxis": {
           "showline": true,
           "ticktext": [
            10,
            9,
            8,
            7,
            6,
            5,
            4,
            3,
            2,
            1
           ],
           "tickvals": [
            0,
            1,
            2,
            3,
            4,
            5,
            6,
            7,
            8,
            9,
            10
           ],
           "title": {
            "text": "Top 10 Beers"
           },
           "visible": true
          }
         },
         "name": "2003"
        },
        {
         "data": [
          {
           "hoverinfo": "all",
           "marker": {
            "color": [
             "rgb(191, 135, 43)",
             "rgb(4, 50, 149)",
             "rgb(134, 80, 209)",
             "rgb(120, 138, 16)",
             "rgb(49, 173, 169)",
             "rgb(63, 97, 134)",
             "rgb(9, 65, 132)",
             "rgb(248, 159, 190)",
             "rgb(135, 149, 26)",
             "rgb(223, 129, 200)"
            ]
           },
           "orientation": "h",
           "text": [
            "Bièropholie Bock Émissaire",
            "Unibroue Seigneuriale",
            "Yo-Ho Yona Yona Ale",
            "Trappistes Rochefort 10",
            "Coopers Sparkling Ale",
            "De Dolle Speciaal Brouwsel 20",
            "Dieu du Ciel Péché Mortel",
            "Olands Export Ale",
            "Éphémère (Cranberry)",
            "Picaroons Irish Red"
           ],
           "textposition": "outside",
           "type": "bar",
           "width": 0.5,
           "x": [
            1.1189133450981463,
            1.1516669950713043,
            1.1528166236042097,
            1.1716356265310237,
            1.1741023273154845,
            1.1760713745592537,
            1.217131086340976,
            1.276741053311066,
            1.3539639927626284,
            1.7084785431180471
           ]
          }
         ],
         "layout": {
          "bargap": 0,
          "bargroupgap": 0,
          "font": {
           "size": 14
          },
          "plot_bgcolor": "white",
          "title": {
           "text": "Top 10 Beers in 2004"
          },
          "xaxis": {
           "range": [
            0,
            4.296358605054868
           ],
           "showline": true,
           "visible": true
          },
          "yaxis": {
           "showline": true,
           "ticktext": [
            10,
            9,
            8,
            7,
            6,
            5,
            4,
            3,
            2,
            1
           ],
           "tickvals": [
            0,
            1,
            2,
            3,
            4,
            5,
            6,
            7,
            8,
            9,
            10
           ],
           "title": {
            "text": "Top 10 Beers"
           },
           "visible": true
          }
         },
         "name": "2004"
        },
        {
         "data": [
          {
           "hoverinfo": "all",
           "marker": {
            "color": [
             "rgb(21, 213, 205)",
             "rgb(231, 48, 121)",
             "rgb(190, 249, 188)",
             "rgb(34, 178, 164)",
             "rgb(129, 86, 220)",
             "rgb(209, 2, 19)",
             "rgb(187, 69, 199)",
             "rgb(28, 181, 165)",
             "rgb(36, 85, 109)",
             "rgb(9, 73, 211)"
            ]
           },
           "orientation": "h",
           "text": [
            "WinterCoat Oatmeal Stout",
            "Mai Bock",
            "Brooklyn Black Chocolate Stout",
            "Cantillon Spuyten Duyvil",
            "Scotch Irish Tsarina Katarina Imperial Stout",
            "Fuller's Special Edition ESB",
            "Lions Winter Ale",
            "Ursus Pils",
            "Gale's Jubilee Ale (2002)",
            "Panil Barriquée  (Italy Version)"
           ],
           "textposition": "outside",
           "type": "bar",
           "width": 0.5,
           "x": [
            1.128126928846783,
            1.1301521826016678,
            1.146847234543368,
            1.148323250291148,
            1.1483720433411242,
            1.1580044374770952,
            1.187508763872131,
            1.2330532509224803,
            1.3158032691133454,
            1.3961302319078674
           ]
          }
         ],
         "layout": {
          "bargap": 0,
          "bargroupgap": 0,
          "font": {
           "size": 14
          },
          "plot_bgcolor": "white",
          "title": {
           "text": "Top 10 Beers in 2005"
          },
          "xaxis": {
           "range": [
            0,
            4.296358605054868
           ],
           "showline": true,
           "visible": true
          },
          "yaxis": {
           "showline": true,
           "ticktext": [
            10,
            9,
            8,
            7,
            6,
            5,
            4,
            3,
            2,
            1
           ],
           "tickvals": [
            0,
            1,
            2,
            3,
            4,
            5,
            6,
            7,
            8,
            9,
            10
           ],
           "title": {
            "text": "Top 10 Beers"
           },
           "visible": true
          }
         },
         "name": "2005"
        },
        {
         "data": [
          {
           "hoverinfo": "all",
           "marker": {
            "color": [
             "rgb(149, 218, 35)",
             "rgb(51, 151, 206)",
             "rgb(34, 179, 140)",
             "rgb(177, 27, 235)",
             "rgb(23, 84, 111)",
             "rgb(100, 199, 113)",
             "rgb(124, 140, 65)",
             "rgb(159, 160, 230)",
             "rgb(189, 14, 227)",
             "rgb(25, 98, 183)"
            ]
           },
           "orientation": "h",
           "text": [
            "Smuggler's Ale",
            "Little Creatures Pale Ale",
            "Nickel Brook Ale (pre 2009)",
            "Bièropholie IPA",
            "Granville Island GIBitter",
            "Urbock 23°",
            "Birrificio Italiano Tipopils",
            "Phillips Amnesiac Double IPA",
            "Bedondaine et Bedons Ronds Reyne Descosse",
            "Lakeport Pilsener"
           ],
           "textposition": "outside",
           "type": "bar",
           "width": 0.5,
           "x": [
            1.1013018745460426,
            1.1081949452181952,
            1.10970020597058,
            1.1429170607485464,
            1.1814772124502742,
            1.1951664258337198,
            1.224148644787213,
            1.224792193965514,
            1.2294622768994474,
            1.2311662394036298
           ]
          }
         ],
         "layout": {
          "bargap": 0,
          "bargroupgap": 0,
          "font": {
           "size": 14
          },
          "plot_bgcolor": "white",
          "title": {
           "text": "Top 10 Beers in 2006"
          },
          "xaxis": {
           "range": [
            0,
            4.296358605054868
           ],
           "showline": true,
           "visible": true
          },
          "yaxis": {
           "showline": true,
           "ticktext": [
            10,
            9,
            8,
            7,
            6,
            5,
            4,
            3,
            2,
            1
           ],
           "tickvals": [
            0,
            1,
            2,
            3,
            4,
            5,
            6,
            7,
            8,
            9,
            10
           ],
           "title": {
            "text": "Top 10 Beers"
           },
           "visible": true
          }
         },
         "name": "2006"
        },
        {
         "data": [
          {
           "hoverinfo": "all",
           "marker": {
            "color": [
             "rgb(106, 146, 0)",
             "rgb(92, 138, 9)",
             "rgb(83, 107, 155)",
             "rgb(140, 220, 146)",
             "rgb(72, 253, 244)",
             "rgb(226, 227, 4)",
             "rgb(196, 240, 204)",
             "rgb(25, 157, 184)",
             "rgb(177, 192, 81)",
             "rgb(111, 202, 229)"
            ]
           },
           "orientation": "h",
           "text": [
            "Sanctification",
            "Drie Fonteinen Millennium Geuze",
            "La Lièvre IPA",
            "Ølfabrikken Gammel Ekstra Porter",
            "Abbaye De Saint Bon-Chien",
            "Schneider Weisse Tap 1 Mein Blondes",
            "Side Launch Wheat",
            "Original Stieglbock",
            "Les Trois Mousquetaires G.C. Porter Baltique",
            "Innis & Gunn Limited Edition 2005"
           ],
           "textposition": "outside",
           "type": "bar",
           "width": 0.5,
           "x": [
            1.2396660302431133,
            1.2500517929893469,
            1.2669803376987006,
            1.2687902499092345,
            1.2801873813826143,
            1.296022595401119,
            1.3128778567226451,
            1.321458650317355,
            1.3320290468008888,
            1.4208028086796662
           ]
          }
         ],
         "layout": {
          "bargap": 0,
          "bargroupgap": 0,
          "font": {
           "size": 14
          },
          "plot_bgcolor": "white",
          "title": {
           "text": "Top 10 Beers in 2007"
          },
          "xaxis": {
           "range": [
            0,
            4.296358605054868
           ],
           "showline": true,
           "visible": true
          },
          "yaxis": {
           "showline": true,
           "ticktext": [
            10,
            9,
            8,
            7,
            6,
            5,
            4,
            3,
            2,
            1
           ],
           "tickvals": [
            0,
            1,
            2,
            3,
            4,
            5,
            6,
            7,
            8,
            9,
            10
           ],
           "title": {
            "text": "Top 10 Beers"
           },
           "visible": true
          }
         },
         "name": "2007"
        },
        {
         "data": [
          {
           "hoverinfo": "all",
           "marker": {
            "color": [
             "rgb(96, 162, 255)",
             "rgb(107, 215, 193)",
             "rgb(156, 148, 77)",
             "rgb(22, 240, 102)",
             "rgb(54, 55, 112)",
             "rgb(81, 86, 158)",
             "rgb(67, 129, 33)",
             "rgb(184, 235, 108)",
             "rgb(23, 37, 138)",
             "rgb(44, 179, 58)"
            ]
           },
           "orientation": "h",
           "text": [
            "Old Crafty Hen",
            "Neumarkter Lammsbräu (Organic) Dunkel",
            "Terrapin Big Sloppy Monster",
            "Baladin Xyauyù Etichetta Rame (Copper Label)",
            "Consecration",
            "Half Pints Bulldog Amber Ale",
            "Baeren Rye",
            "Mean Manalishi Double I.P.A.",
            "Alley Kat Bad Hare Day",
            "Kosmyk Charlie's Y2K Catastrophe Ale"
           ],
           "textposition": "outside",
           "type": "bar",
           "width": 0.5,
           "x": [
            1.1670864372733072,
            1.1766039835149418,
            1.1919126098650494,
            1.2012607567449864,
            1.2064338315271683,
            1.207766811476634,
            1.2547272238898888,
            1.377381643490348,
            1.391734911093819,
            1.4392218691560568
           ]
          }
         ],
         "layout": {
          "bargap": 0,
          "bargroupgap": 0,
          "font": {
           "size": 14
          },
          "plot_bgcolor": "white",
          "title": {
           "text": "Top 10 Beers in 2008"
          },
          "xaxis": {
           "range": [
            0,
            4.296358605054868
           ],
           "showline": true,
           "visible": true
          },
          "yaxis": {
           "showline": true,
           "ticktext": [
            10,
            9,
            8,
            7,
            6,
            5,
            4,
            3,
            2,
            1
           ],
           "tickvals": [
            0,
            1,
            2,
            3,
            4,
            5,
            6,
            7,
            8,
            9,
            10
           ],
           "title": {
            "text": "Top 10 Beers"
           },
           "visible": true
          }
         },
         "name": "2008"
        },
        {
         "data": [
          {
           "hoverinfo": "all",
           "marker": {
            "color": [
             "rgb(142, 52, 15)",
             "rgb(124, 105, 1)",
             "rgb(20, 73, 21)",
             "rgb(113, 54, 250)",
             "rgb(138, 65, 222)",
             "rgb(167, 159, 178)",
             "rgb(80, 162, 170)",
             "rgb(146, 222, 26)",
             "rgb(64, 230, 20)",
             "rgb(87, 103, 109)"
            ]
           },
           "orientation": "h",
           "text": [
            "Søgaards Trippel",
            "Primátor Premium",
            "Dieu du Ciel Solstice dÉté aux Framboises",
            "Southampton Grand Cru",
            "Driftwood Sartori Harvest IPA",
            "Granville Island Merry Monks Dopplebock",
            "RJ Le Cheval Blanc Snoreau",
            "Old Engine Oil Special Reserve (Aged In Malt Whiskey Casks)",
            "Borefts Bok 2009",
            "Lvivske Porter"
           ],
           "textposition": "outside",
           "type": "bar",
           "width": 0.5,
           "x": [
            1.2338471807274276,
            1.2393466430040996,
            1.2454384142571973,
            1.2469121186642012,
            1.2824851557175203,
            1.325754327205307,
            1.3561829163911925,
            1.372316618062027,
            1.381964656606547,
            1.8194648164280256
           ]
          }
         ],
         "layout": {
          "bargap": 0,
          "bargroupgap": 0,
          "font": {
           "size": 14
          },
          "plot_bgcolor": "white",
          "title": {
           "text": "Top 10 Beers in 2009"
          },
          "xaxis": {
           "range": [
            0,
            4.296358605054868
           ],
           "showline": true,
           "visible": true
          },
          "yaxis": {
           "showline": true,
           "ticktext": [
            10,
            9,
            8,
            7,
            6,
            5,
            4,
            3,
            2,
            1
           ],
           "tickvals": [
            0,
            1,
            2,
            3,
            4,
            5,
            6,
            7,
            8,
            9,
            10
           ],
           "title": {
            "text": "Top 10 Beers"
           },
           "visible": true
          }
         },
         "name": "2009"
        },
        {
         "data": [
          {
           "hoverinfo": "all",
           "marker": {
            "color": [
             "rgb(29, 149, 187)",
             "rgb(9, 89, 220)",
             "rgb(32, 245, 177)",
             "rgb(149, 247, 82)",
             "rgb(247, 175, 49)",
             "rgb(203, 196, 250)",
             "rgb(246, 84, 234)",
             "rgb(163, 106, 82)",
             "rgb(126, 26, 43)",
             "rgb(114, 97, 152)"
            ]
           },
           "orientation": "h",
           "text": [
            "Captivator Doppelbock",
            "Toccalmatto Sibilla",
            "Birrificio del Ducato LUltima Luna",
            "La Trappe Quadrupel (Oak Aged)",
            "Toccalmatto Stray Dog No Rules Bitter",
            "Charlevoix Dominus Vobiscum Brut",
            "Birra del Borgo ReAle Extra",
            "Saison Du Tracteur",
            "Bedondaine et Bedons Ronds Reyne Descosse Gelée",
            "Piccolo Birrificio Ego"
           ],
           "textposition": "outside",
           "type": "bar",
           "width": 0.5,
           "x": [
            1.289513947212004,
            1.3022892741280632,
            1.3504165952011944,
            1.3695815104674731,
            1.4186131609391872,
            1.4294349003691191,
            1.5284823417762363,
            1.5542583799019265,
            1.7288080087834743,
            1.7654250681805317
           ]
          }
         ],
         "layout": {
          "bargap": 0,
          "bargroupgap": 0,
          "font": {
           "size": 14
          },
          "plot_bgcolor": "white",
          "title": {
           "text": "Top 10 Beers in 2010"
          },
          "xaxis": {
           "range": [
            0,
            4.296358605054868
           ],
           "showline": true,
           "visible": true
          },
          "yaxis": {
           "showline": true,
           "ticktext": [
            10,
            9,
            8,
            7,
            6,
            5,
            4,
            3,
            2,
            1
           ],
           "tickvals": [
            0,
            1,
            2,
            3,
            4,
            5,
            6,
            7,
            8,
            9,
            10
           ],
           "title": {
            "text": "Top 10 Beers"
           },
           "visible": true
          }
         },
         "name": "2010"
        },
        {
         "data": [
          {
           "hoverinfo": "all",
           "marker": {
            "color": [
             "rgb(142, 231, 203)",
             "rgb(45, 82, 81)",
             "rgb(252, 194, 186)",
             "rgb(29, 216, 235)",
             "rgb(18, 246, 218)",
             "rgb(197, 166, 125)",
             "rgb(26, 240, 72)",
             "rgb(15, 155, 37)",
             "rgb(92, 138, 9)",
             "rgb(4, 55, 134)"
            ]
           },
           "orientation": "h",
           "text": [
            "Tipo Pils",
            "Cantillon Blåbær Lambik",
            "Les Brasseurs du Temps Mea Magna Culpa",
            "Cantillon Don Quijote",
            "Ølfabrikken Petit Blau",
            "Montegioco Quarta Runa",
            "Eichbaum Pilsener",
            "Drie Fonteinen Oude Geuze 1998 (50th Anniversary)",
            "Drie Fonteinen Millennium Geuze",
            "Beer Here / Raasted Bukkake"
           ],
           "textposition": "outside",
           "type": "bar",
           "width": 0.5,
           "x": [
            1.2600744288590362,
            1.265080505108473,
            1.301966246878607,
            1.3262397837477289,
            1.333344904716972,
            1.347954076030384,
            1.3505600121785313,
            1.4710240611434864,
            1.703014364073218,
            2.253825333425378
           ]
          }
         ],
         "layout": {
          "bargap": 0,
          "bargroupgap": 0,
          "font": {
           "size": 14
          },
          "plot_bgcolor": "white",
          "title": {
           "text": "Top 10 Beers in 2011"
          },
          "xaxis": {
           "range": [
            0,
            4.296358605054868
           ],
           "showline": true,
           "visible": true
          },
          "yaxis": {
           "showline": true,
           "ticktext": [
            10,
            9,
            8,
            7,
            6,
            5,
            4,
            3,
            2,
            1
           ],
           "tickvals": [
            0,
            1,
            2,
            3,
            4,
            5,
            6,
            7,
            8,
            9,
            10
           ],
           "title": {
            "text": "Top 10 Beers"
           },
           "visible": true
          }
         },
         "name": "2011"
        },
        {
         "data": [
          {
           "hoverinfo": "all",
           "marker": {
            "color": [
             "rgb(139, 240, 244)",
             "rgb(37, 195, 136)",
             "rgb(76, 229, 48)",
             "rgb(232, 40, 33)",
             "rgb(164, 76, 47)",
             "rgb(15, 155, 37)",
             "rgb(98, 71, 195)",
             "rgb(166, 254, 93)",
             "rgb(80, 49, 240)",
             "rgb(101, 27, 69)"
            ]
           },
           "orientation": "h",
           "text": [
            "Ann",
            "Depuration",
            "Black Tokyo Horizon",
            "Le Cheval Blanc Double Bonheur",
            "Whistler Chocolate Winter Dunkel",
            "Drie Fonteinen Oude Geuze 1998 (50th Anniversary)",
            "Watermelon Warhead",
            "Kamenitza Lev",
            "L'Amoureuse Rouge",
            "Cantillon Loerik"
           ],
           "textposition": "outside",
           "type": "bar",
           "width": 0.5,
           "x": [
            1.3265020252683697,
            1.3490384193077791,
            1.364564975250266,
            1.3688333984444223,
            1.369805348429683,
            1.3975667870645416,
            1.4323060786846682,
            1.457841090882981,
            1.4672320479745289,
            1.5564273480419248
           ]
          }
         ],
         "layout": {
          "bargap": 0,
          "bargroupgap": 0,
          "font": {
           "size": 14
          },
          "plot_bgcolor": "white",
          "title": {
           "text": "Top 10 Beers in 2012"
          },
          "xaxis": {
           "range": [
            0,
            4.296358605054868
           ],
           "showline": true,
           "visible": true
          },
          "yaxis": {
           "showline": true,
           "ticktext": [
            10,
            9,
            8,
            7,
            6,
            5,
            4,
            3,
            2,
            1
           ],
           "tickvals": [
            0,
            1,
            2,
            3,
            4,
            5,
            6,
            7,
            8,
            9,
            10
           ],
           "title": {
            "text": "Top 10 Beers"
           },
           "visible": true
          }
         },
         "name": "2012"
        },
        {
         "data": [
          {
           "hoverinfo": "all",
           "marker": {
            "color": [
             "rgb(5, 69, 42)",
             "rgb(216, 158, 211)",
             "rgb(150, 33, 159)",
             "rgb(68, 215, 191)",
             "rgb(87, 81, 15)",
             "rgb(30, 20, 54)",
             "rgb(68, 112, 209)",
             "rgb(35, 150, 142)",
             "rgb(249, 251, 2)",
             "rgb(14, 204, 207)"
            ]
           },
           "orientation": "h",
           "text": [
            "Tamamura-Honten Yamabushi Saison 1 Aged in Oak Barrels",
            "Rapture",
            "Cantillon Bruocsella (1900) Grand Cru",
            "Brasseurs du Monde Gamme Festive Célébrante",
            "Innis & Gunn Spiced Rum Aged",
            "Bavarias Best Imperial Stout",
            "Collesi 1970 Ambrata",
            "Svaneke Julebryg",
            "Edward",
            "Birra del Borgo Perle ai Porci (Pearls for Pigs)"
           ],
           "textposition": "outside",
           "type": "bar",
           "width": 0.5,
           "x": [
            1.3746493096975472,
            1.4041402200725015,
            1.4570126267878116,
            1.4741651011372767,
            1.493197763699144,
            1.5596210420758312,
            1.6521573868793042,
            1.6747480446151457,
            1.784840369968013,
            2.510691214725717
           ]
          }
         ],
         "layout": {
          "bargap": 0,
          "bargroupgap": 0,
          "font": {
           "size": 14
          },
          "plot_bgcolor": "white",
          "title": {
           "text": "Top 10 Beers in 2013"
          },
          "xaxis": {
           "range": [
            0,
            4.296358605054868
           ],
           "showline": true,
           "visible": true
          },
          "yaxis": {
           "showline": true,
           "ticktext": [
            10,
            9,
            8,
            7,
            6,
            5,
            4,
            3,
            2,
            1
           ],
           "tickvals": [
            0,
            1,
            2,
            3,
            4,
            5,
            6,
            7,
            8,
            9,
            10
           ],
           "title": {
            "text": "Top 10 Beers"
           },
           "visible": true
          }
         },
         "name": "2013"
        },
        {
         "data": [
          {
           "hoverinfo": "all",
           "marker": {
            "color": [
             "rgb(67, 134, 216)",
             "rgb(97, 184, 252)",
             "rgb(45, 82, 81)",
             "rgb(99, 148, 101)",
             "rgb(78, 24, 142)",
             "rgb(18, 187, 1)",
             "rgb(34, 178, 164)",
             "rgb(91, 44, 81)",
             "rgb(77, 199, 201)",
             "rgb(9, 110, 230)"
            ]
           },
           "orientation": "h",
           "text": [
            "Cantillon Crianza Helena",
            "Melbourne Bitter",
            "Cantillon Blåbær Lambik",
            "Schneider Weisse Tap 6 Unser Aventinus",
            "Minerva Colonial",
            "Wicked Juju",
            "Cantillon Spuyten Duyvil",
            "Extraomnes Saison",
            "Molson Standard Lager",
            "Mandøl Smagen af Mandø"
           ],
           "textposition": "outside",
           "type": "bar",
           "width": 0.5,
           "x": [
            1.481905996838515,
            1.4953778917662726,
            1.498668519392976,
            1.5958805494661334,
            1.6764028325986928,
            1.7425096415533683,
            1.7429667157083328,
            1.8860097723067208,
            1.9268002384767275,
            2.796358605054868
           ]
          }
         ],
         "layout": {
          "bargap": 0,
          "bargroupgap": 0,
          "font": {
           "size": 14
          },
          "plot_bgcolor": "white",
          "title": {
           "text": "Top 10 Beers in 2014"
          },
          "xaxis": {
           "range": [
            0,
            4.296358605054868
           ],
           "showline": true,
           "visible": true
          },
          "yaxis": {
           "showline": true,
           "ticktext": [
            10,
            9,
            8,
            7,
            6,
            5,
            4,
            3,
            2,
            1
           ],
           "tickvals": [
            0,
            1,
            2,
            3,
            4,
            5,
            6,
            7,
            8,
            9,
            10
           ],
           "title": {
            "text": "Top 10 Beers"
           },
           "visible": true
          }
         },
         "name": "2014"
        },
        {
         "data": [
          {
           "hoverinfo": "all",
           "marker": {
            "color": [
             "rgb(138, 65, 222)",
             "rgb(116, 42, 15)",
             "rgb(143, 229, 44)",
             "rgb(220, 213, 208)",
             "rgb(106, 146, 0)",
             "rgb(205, 48, 77)",
             "rgb(241, 199, 100)",
             "rgb(59, 83, 192)",
             "rgb(138, 221, 185)",
             "rgb(235, 67, 45)"
            ]
           },
           "orientation": "h",
           "text": [
            "Driftwood Sartori Harvest IPA",
            "Flying Monkeys City and Colour",
            "Buxton / Omnipollo Yellow Belly Sundae",
            "Dunham Saison Réserve",
            "Sanctification",
            "Charlevoix Dominus Vobiscum Lupulus",
            "Saison Bernice",
            "Unibroue Blanche de Chambly",
            "Four Winds Phaedra Rye Wheat IPA",
            "Opperbacco Blanche de Lotario"
           ],
           "textposition": "outside",
           "type": "bar",
           "width": 0.5,
           "x": [
            1.5676276553776711,
            1.5751038516002658,
            1.622719541991331,
            1.623539297914094,
            1.6258817104558627,
            1.6387533424741991,
            1.6738321718245197,
            1.70740160723289,
            1.7625116163067636,
            1.82482572270457
           ]
          }
         ],
         "layout": {
          "bargap": 0,
          "bargroupgap": 0,
          "font": {
           "size": 14
          },
          "plot_bgcolor": "white",
          "title": {
           "text": "Top 10 Beers in 2015"
          },
          "xaxis": {
           "range": [
            0,
            4.296358605054868
           ],
           "showline": true,
           "visible": true
          },
          "yaxis": {
           "showline": true,
           "ticktext": [
            10,
            9,
            8,
            7,
            6,
            5,
            4,
            3,
            2,
            1
           ],
           "tickvals": [
            0,
            1,
            2,
            3,
            4,
            5,
            6,
            7,
            8,
            9,
            10
           ],
           "title": {
            "text": "Top 10 Beers"
           },
           "visible": true
          }
         },
         "name": "2015"
        },
        {
         "data": [
          {
           "hoverinfo": "all",
           "marker": {
            "color": [
             "rgb(88, 24, 11)",
             "rgb(130, 191, 219)",
             "rgb(96, 156, 17)",
             "rgb(134, 200, 143)",
             "rgb(28, 220, 252)",
             "rgb(4, 180, 121)",
             "rgb(205, 48, 77)",
             "rgb(205, 44, 119)",
             "rgb(196, 75, 168)",
             "rgb(4, 122, 214)"
            ]
           },
           "orientation": "h",
           "text": [
            "Aardmonnik - Earthmonk",
            "Hors Série Ceci N'est Pas Une Gueuze",
            "Frejdahl Gudmund",
            "To Øl Passion Of The Weisst",
            "Xyauyù Etichetta Rame (Copper)",
            "Skovlyst Julebryg",
            "Charlevoix Dominus Vobiscum Lupulus",
            "Ghost Black Beast",
            "Skovlyst Lossen",
            "Indie Alehouse Zombie Apocalypse (Bourbon)"
           ],
           "textposition": "outside",
           "type": "bar",
           "width": 0.5,
           "x": [
            1.6309133236150697,
            1.6327746884700929,
            1.65167625476196,
            1.9003550471197763,
            1.9148003899577124,
            1.932732074470068,
            1.9683048585754683,
            2.0956611027231538,
            2.32265547193058,
            2.330646926702521
           ]
          }
         ],
         "layout": {
          "bargap": 0,
          "bargroupgap": 0,
          "font": {
           "size": 14
          },
          "plot_bgcolor": "white",
          "title": {
           "text": "Top 10 Beers in 2016"
          },
          "xaxis": {
           "range": [
            0,
            4.296358605054868
           ],
           "showline": true,
           "visible": true
          },
          "yaxis": {
           "showline": true,
           "ticktext": [
            10,
            9,
            8,
            7,
            6,
            5,
            4,
            3,
            2,
            1
           ],
           "tickvals": [
            0,
            1,
            2,
            3,
            4,
            5,
            6,
            7,
            8,
            9,
            10
           ],
           "title": {
            "text": "Top 10 Beers"
           },
           "visible": true
          }
         },
         "name": "2016"
        },
        {
         "data": [
          {
           "hoverinfo": "all",
           "marker": {
            "color": [
             "rgb(99, 62, 145)",
             "rgb(221, 195, 138)",
             "rgb(253, 210, 10)",
             "rgb(97, 223, 227)",
             "rgb(162, 124, 81)",
             "rgb(183, 251, 71)",
             "rgb(145, 69, 255)",
             "rgb(30, 90, 64)",
             "rgb(239, 183, 53)",
             "rgb(98, 215, 106)"
            ]
           },
           "orientation": "h",
           "text": [
            "LoverBeer A Renna Glüh",
            "Benelux Moisson (2011)",
            "Birrificio Italiano Nigredo (Negra 3.0)",
            "Midtfyns Jule Stout",
            "Amager / Lervig Brown Boobies Falling",
            "RJ Le Cheval Blanc Double Blanche (IPA belge)",
            "Double Nelson",
            "Thisted Thy Ale",
            "Pladderballe Brodtgaard Basement Reserve",
            "Coedo / Stone / Garage Project Tsuyu Saison"
           ],
           "textposition": "outside",
           "type": "bar",
           "width": 0.5,
           "x": [
            1.5461166604658836,
            1.547184850088554,
            1.5563119039202395,
            1.581953108750554,
            1.6360558401007417,
            1.654410184218145,
            1.7331561781565548,
            1.7420509005188278,
            1.778935444645838,
            1.8188611526235283
           ]
          }
         ],
         "layout": {
          "bargap": 0,
          "bargroupgap": 0,
          "font": {
           "size": 14
          },
          "plot_bgcolor": "white",
          "title": {
           "text": "Top 10 Beers in 2017"
          },
          "xaxis": {
           "range": [
            0,
            4.296358605054868
           ],
           "showline": true,
           "visible": true
          },
          "yaxis": {
           "showline": true,
           "ticktext": [
            10,
            9,
            8,
            7,
            6,
            5,
            4,
            3,
            2,
            1
           ],
           "tickvals": [
            0,
            1,
            2,
            3,
            4,
            5,
            6,
            7,
            8,
            9,
            10
           ],
           "title": {
            "text": "Top 10 Beers"
           },
           "visible": true
          }
         },
         "name": "2017"
        }
       ],
       "layout": {
        "font": {
         "size": 15
        },
        "height": 800,
        "margin": {
         "l": 100,
         "t": 50
        },
        "plot_bgcolor": "white",
        "sliders": [
         {}
        ],
        "template": {
         "data": {
          "bar": [
           {
            "error_x": {
             "color": "#2a3f5f"
            },
            "error_y": {
             "color": "#2a3f5f"
            },
            "marker": {
             "line": {
              "color": "#E5ECF6",
              "width": 0.5
             },
             "pattern": {
              "fillmode": "overlay",
              "size": 10,
              "solidity": 0.2
             }
            },
            "type": "bar"
           }
          ],
          "barpolar": [
           {
            "marker": {
             "line": {
              "color": "#E5ECF6",
              "width": 0.5
             },
             "pattern": {
              "fillmode": "overlay",
              "size": 10,
              "solidity": 0.2
             }
            },
            "type": "barpolar"
           }
          ],
          "carpet": [
           {
            "aaxis": {
             "endlinecolor": "#2a3f5f",
             "gridcolor": "white",
             "linecolor": "white",
             "minorgridcolor": "white",
             "startlinecolor": "#2a3f5f"
            },
            "baxis": {
             "endlinecolor": "#2a3f5f",
             "gridcolor": "white",
             "linecolor": "white",
             "minorgridcolor": "white",
             "startlinecolor": "#2a3f5f"
            },
            "type": "carpet"
           }
          ],
          "choropleth": [
           {
            "colorbar": {
             "outlinewidth": 0,
             "ticks": ""
            },
            "type": "choropleth"
           }
          ],
          "contour": [
           {
            "colorbar": {
             "outlinewidth": 0,
             "ticks": ""
            },
            "colorscale": [
             [
              0,
              "#0d0887"
             ],
             [
              0.1111111111111111,
              "#46039f"
             ],
             [
              0.2222222222222222,
              "#7201a8"
             ],
             [
              0.3333333333333333,
              "#9c179e"
             ],
             [
              0.4444444444444444,
              "#bd3786"
             ],
             [
              0.5555555555555556,
              "#d8576b"
             ],
             [
              0.6666666666666666,
              "#ed7953"
             ],
             [
              0.7777777777777778,
              "#fb9f3a"
             ],
             [
              0.8888888888888888,
              "#fdca26"
             ],
             [
              1,
              "#f0f921"
             ]
            ],
            "type": "contour"
           }
          ],
          "contourcarpet": [
           {
            "colorbar": {
             "outlinewidth": 0,
             "ticks": ""
            },
            "type": "contourcarpet"
           }
          ],
          "heatmap": [
           {
            "colorbar": {
             "outlinewidth": 0,
             "ticks": ""
            },
            "colorscale": [
             [
              0,
              "#0d0887"
             ],
             [
              0.1111111111111111,
              "#46039f"
             ],
             [
              0.2222222222222222,
              "#7201a8"
             ],
             [
              0.3333333333333333,
              "#9c179e"
             ],
             [
              0.4444444444444444,
              "#bd3786"
             ],
             [
              0.5555555555555556,
              "#d8576b"
             ],
             [
              0.6666666666666666,
              "#ed7953"
             ],
             [
              0.7777777777777778,
              "#fb9f3a"
             ],
             [
              0.8888888888888888,
              "#fdca26"
             ],
             [
              1,
              "#f0f921"
             ]
            ],
            "type": "heatmap"
           }
          ],
          "heatmapgl": [
           {
            "colorbar": {
             "outlinewidth": 0,
             "ticks": ""
            },
            "colorscale": [
             [
              0,
              "#0d0887"
             ],
             [
              0.1111111111111111,
              "#46039f"
             ],
             [
              0.2222222222222222,
              "#7201a8"
             ],
             [
              0.3333333333333333,
              "#9c179e"
             ],
             [
              0.4444444444444444,
              "#bd3786"
             ],
             [
              0.5555555555555556,
              "#d8576b"
             ],
             [
              0.6666666666666666,
              "#ed7953"
             ],
             [
              0.7777777777777778,
              "#fb9f3a"
             ],
             [
              0.8888888888888888,
              "#fdca26"
             ],
             [
              1,
              "#f0f921"
             ]
            ],
            "type": "heatmapgl"
           }
          ],
          "histogram": [
           {
            "marker": {
             "pattern": {
              "fillmode": "overlay",
              "size": 10,
              "solidity": 0.2
             }
            },
            "type": "histogram"
           }
          ],
          "histogram2d": [
           {
            "colorbar": {
             "outlinewidth": 0,
             "ticks": ""
            },
            "colorscale": [
             [
              0,
              "#0d0887"
             ],
             [
              0.1111111111111111,
              "#46039f"
             ],
             [
              0.2222222222222222,
              "#7201a8"
             ],
             [
              0.3333333333333333,
              "#9c179e"
             ],
             [
              0.4444444444444444,
              "#bd3786"
             ],
             [
              0.5555555555555556,
              "#d8576b"
             ],
             [
              0.6666666666666666,
              "#ed7953"
             ],
             [
              0.7777777777777778,
              "#fb9f3a"
             ],
             [
              0.8888888888888888,
              "#fdca26"
             ],
             [
              1,
              "#f0f921"
             ]
            ],
            "type": "histogram2d"
           }
          ],
          "histogram2dcontour": [
           {
            "colorbar": {
             "outlinewidth": 0,
             "ticks": ""
            },
            "colorscale": [
             [
              0,
              "#0d0887"
             ],
             [
              0.1111111111111111,
              "#46039f"
             ],
             [
              0.2222222222222222,
              "#7201a8"
             ],
             [
              0.3333333333333333,
              "#9c179e"
             ],
             [
              0.4444444444444444,
              "#bd3786"
             ],
             [
              0.5555555555555556,
              "#d8576b"
             ],
             [
              0.6666666666666666,
              "#ed7953"
             ],
             [
              0.7777777777777778,
              "#fb9f3a"
             ],
             [
              0.8888888888888888,
              "#fdca26"
             ],
             [
              1,
              "#f0f921"
             ]
            ],
            "type": "histogram2dcontour"
           }
          ],
          "mesh3d": [
           {
            "colorbar": {
             "outlinewidth": 0,
             "ticks": ""
            },
            "type": "mesh3d"
           }
          ],
          "parcoords": [
           {
            "line": {
             "colorbar": {
              "outlinewidth": 0,
              "ticks": ""
             }
            },
            "type": "parcoords"
           }
          ],
          "pie": [
           {
            "automargin": true,
            "type": "pie"
           }
          ],
          "scatter": [
           {
            "fillpattern": {
             "fillmode": "overlay",
             "size": 10,
             "solidity": 0.2
            },
            "type": "scatter"
           }
          ],
          "scatter3d": [
           {
            "line": {
             "colorbar": {
              "outlinewidth": 0,
              "ticks": ""
             }
            },
            "marker": {
             "colorbar": {
              "outlinewidth": 0,
              "ticks": ""
             }
            },
            "type": "scatter3d"
           }
          ],
          "scattercarpet": [
           {
            "marker": {
             "colorbar": {
              "outlinewidth": 0,
              "ticks": ""
             }
            },
            "type": "scattercarpet"
           }
          ],
          "scattergeo": [
           {
            "marker": {
             "colorbar": {
              "outlinewidth": 0,
              "ticks": ""
             }
            },
            "type": "scattergeo"
           }
          ],
          "scattergl": [
           {
            "marker": {
             "colorbar": {
              "outlinewidth": 0,
              "ticks": ""
             }
            },
            "type": "scattergl"
           }
          ],
          "scattermapbox": [
           {
            "marker": {
             "colorbar": {
              "outlinewidth": 0,
              "ticks": ""
             }
            },
            "type": "scattermapbox"
           }
          ],
          "scatterpolar": [
           {
            "marker": {
             "colorbar": {
              "outlinewidth": 0,
              "ticks": ""
             }
            },
            "type": "scatterpolar"
           }
          ],
          "scatterpolargl": [
           {
            "marker": {
             "colorbar": {
              "outlinewidth": 0,
              "ticks": ""
             }
            },
            "type": "scatterpolargl"
           }
          ],
          "scatterternary": [
           {
            "marker": {
             "colorbar": {
              "outlinewidth": 0,
              "ticks": ""
             }
            },
            "type": "scatterternary"
           }
          ],
          "surface": [
           {
            "colorbar": {
             "outlinewidth": 0,
             "ticks": ""
            },
            "colorscale": [
             [
              0,
              "#0d0887"
             ],
             [
              0.1111111111111111,
              "#46039f"
             ],
             [
              0.2222222222222222,
              "#7201a8"
             ],
             [
              0.3333333333333333,
              "#9c179e"
             ],
             [
              0.4444444444444444,
              "#bd3786"
             ],
             [
              0.5555555555555556,
              "#d8576b"
             ],
             [
              0.6666666666666666,
              "#ed7953"
             ],
             [
              0.7777777777777778,
              "#fb9f3a"
             ],
             [
              0.8888888888888888,
              "#fdca26"
             ],
             [
              1,
              "#f0f921"
             ]
            ],
            "type": "surface"
           }
          ],
          "table": [
           {
            "cells": {
             "fill": {
              "color": "#EBF0F8"
             },
             "line": {
              "color": "white"
             }
            },
            "header": {
             "fill": {
              "color": "#C8D4E3"
             },
             "line": {
              "color": "white"
             }
            },
            "type": "table"
           }
          ]
         },
         "layout": {
          "annotationdefaults": {
           "arrowcolor": "#2a3f5f",
           "arrowhead": 0,
           "arrowwidth": 1
          },
          "autotypenumbers": "strict",
          "coloraxis": {
           "colorbar": {
            "outlinewidth": 0,
            "ticks": ""
           }
          },
          "colorscale": {
           "diverging": [
            [
             0,
             "#8e0152"
            ],
            [
             0.1,
             "#c51b7d"
            ],
            [
             0.2,
             "#de77ae"
            ],
            [
             0.3,
             "#f1b6da"
            ],
            [
             0.4,
             "#fde0ef"
            ],
            [
             0.5,
             "#f7f7f7"
            ],
            [
             0.6,
             "#e6f5d0"
            ],
            [
             0.7,
             "#b8e186"
            ],
            [
             0.8,
             "#7fbc41"
            ],
            [
             0.9,
             "#4d9221"
            ],
            [
             1,
             "#276419"
            ]
           ],
           "sequential": [
            [
             0,
             "#0d0887"
            ],
            [
             0.1111111111111111,
             "#46039f"
            ],
            [
             0.2222222222222222,
             "#7201a8"
            ],
            [
             0.3333333333333333,
             "#9c179e"
            ],
            [
             0.4444444444444444,
             "#bd3786"
            ],
            [
             0.5555555555555556,
             "#d8576b"
            ],
            [
             0.6666666666666666,
             "#ed7953"
            ],
            [
             0.7777777777777778,
             "#fb9f3a"
            ],
            [
             0.8888888888888888,
             "#fdca26"
            ],
            [
             1,
             "#f0f921"
            ]
           ],
           "sequentialminus": [
            [
             0,
             "#0d0887"
            ],
            [
             0.1111111111111111,
             "#46039f"
            ],
            [
             0.2222222222222222,
             "#7201a8"
            ],
            [
             0.3333333333333333,
             "#9c179e"
            ],
            [
             0.4444444444444444,
             "#bd3786"
            ],
            [
             0.5555555555555556,
             "#d8576b"
            ],
            [
             0.6666666666666666,
             "#ed7953"
            ],
            [
             0.7777777777777778,
             "#fb9f3a"
            ],
            [
             0.8888888888888888,
             "#fdca26"
            ],
            [
             1,
             "#f0f921"
            ]
           ]
          },
          "colorway": [
           "#636efa",
           "#EF553B",
           "#00cc96",
           "#ab63fa",
           "#FFA15A",
           "#19d3f3",
           "#FF6692",
           "#B6E880",
           "#FF97FF",
           "#FECB52"
          ],
          "font": {
           "color": "#2a3f5f"
          },
          "geo": {
           "bgcolor": "white",
           "lakecolor": "white",
           "landcolor": "#E5ECF6",
           "showlakes": true,
           "showland": true,
           "subunitcolor": "white"
          },
          "hoverlabel": {
           "align": "left"
          },
          "hovermode": "closest",
          "mapbox": {
           "style": "light"
          },
          "paper_bgcolor": "white",
          "plot_bgcolor": "#E5ECF6",
          "polar": {
           "angularaxis": {
            "gridcolor": "white",
            "linecolor": "white",
            "ticks": ""
           },
           "bgcolor": "#E5ECF6",
           "radialaxis": {
            "gridcolor": "white",
            "linecolor": "white",
            "ticks": ""
           }
          },
          "scene": {
           "xaxis": {
            "backgroundcolor": "#E5ECF6",
            "gridcolor": "white",
            "gridwidth": 2,
            "linecolor": "white",
            "showbackground": true,
            "ticks": "",
            "zerolinecolor": "white"
           },
           "yaxis": {
            "backgroundcolor": "#E5ECF6",
            "gridcolor": "white",
            "gridwidth": 2,
            "linecolor": "white",
            "showbackground": true,
            "ticks": "",
            "zerolinecolor": "white"
           },
           "zaxis": {
            "backgroundcolor": "#E5ECF6",
            "gridcolor": "white",
            "gridwidth": 2,
            "linecolor": "white",
            "showbackground": true,
            "ticks": "",
            "zerolinecolor": "white"
           }
          },
          "shapedefaults": {
           "line": {
            "color": "#2a3f5f"
           }
          },
          "ternary": {
           "aaxis": {
            "gridcolor": "white",
            "linecolor": "white",
            "ticks": ""
           },
           "baxis": {
            "gridcolor": "white",
            "linecolor": "white",
            "ticks": ""
           },
           "bgcolor": "#E5ECF6",
           "caxis": {
            "gridcolor": "white",
            "linecolor": "white",
            "ticks": ""
           }
          },
          "title": {
           "x": 0.05
          },
          "xaxis": {
           "automargin": true,
           "gridcolor": "white",
           "linecolor": "white",
           "ticks": "",
           "title": {
            "standoff": 15
           },
           "zerolinecolor": "white",
           "zerolinewidth": 2
          },
          "yaxis": {
           "automargin": true,
           "gridcolor": "white",
           "linecolor": "white",
           "ticks": "",
           "title": {
            "standoff": 15
           },
           "zerolinecolor": "white",
           "zerolinewidth": 2
          }
         }
        },
        "title": {
         "text": "Top 10 Beers across years"
        },
        "width": 800,
        "xaxis": {
         "range": [
          0,
          3.796358605054868
         ],
         "showline": true,
         "title": {
          "text": "New Rating"
         },
         "visible": true
        },
        "yaxis": {
         "showline": false,
         "title": {
          "text": "Top Beers"
         },
         "visible": false
        }
       }
      }
     },
     "metadata": {},
     "output_type": "display_data"
    }
   ],
   "source": [
    "import pandas as pd\n",
    "import plotly.graph_objects as go\n",
    "from random import sample\n",
    "\n",
    "# Initialize frames list and sliders dictionary\n",
    "frames = []\n",
    "sliders_dict = {\"steps\": []}\n",
    "beer_colors = {}\n",
    "\n",
    "# First Year (2000)\n",
    "snap_data = data[data['year'] == 2000].sort_values('new_rating', ascending=False).head(top_entries)\n",
    "snap_data = snap_data.sort_values('new_rating', ascending=True)\n",
    "for item in snap_data['beer_name'].unique():\n",
    "    if item not in beer_colors:\n",
    "        beer_colors[item] = 'rgb({}, {}, {})'.format(*sample(range(256), 3))\n",
    "snap_data['color'] = snap_data['beer_name'].map(beer_colors)\n",
    "frame = go.Frame(\n",
    "    data=[\n",
    "        go.Bar(\n",
    "            x=snap_data['new_rating'],\n",
    "            marker_color=snap_data['color'],\n",
    "            orientation='h',\n",
    "            hoverinfo='all',\n",
    "            text=snap_data['beer_name'],\n",
    "            textposition='outside',\n",
    "            width=0.5\n",
    "        )\n",
    "    ],\n",
    "    layout=go.Layout(\n",
    "        font={'size': 14},\n",
    "        plot_bgcolor='white',\n",
    "        xaxis={\n",
    "            'showline': True,\n",
    "            'visible': True,\n",
    "            'range': (0, data['new_rating'].max() + 1.5)\n",
    "        },\n",
    "        bargap=0,\n",
    "        bargroupgap=0,\n",
    "        yaxis={\n",
    "            'showline': True,\n",
    "            'visible': True,\n",
    "            'tickvals': list(range(0, 11)),\n",
    "            'ticktext': list(range(10, 0, -1)),\n",
    "            'title_text': 'Top ' + str(top_entries) + ' Beers'\n",
    "        },\n",
    "        title=f'Top 10 Beers in 2000',\n",
    "    ),\n",
    "    name=\"2000\"\n",
    ")\n",
    "frames.append(frame)\n",
    "\n",
    "# Iterate over each year from 2001 to the maximum year in the dataset\n",
    "for year in range(2001, int(data['year'].max()) + 1):\n",
    "    snap_data = data[data['year'] == year].sort_values('new_rating', ascending=False).head(top_entries)\n",
    "    snap_data = snap_data.sort_values('new_rating', ascending=True)\n",
    "    for item in snap_data['beer_name'].unique():\n",
    "        if item not in beer_colors:\n",
    "            beer_colors[item] = 'rgb({}, {}, {})'.format(*sample(range(256), 3))\n",
    "    snap_data['color'] = snap_data['beer_name'].map(beer_colors)\n",
    "    max_rating_value = data['new_rating'].max()\n",
    "    \n",
    "    frame = go.Frame(\n",
    "        data=[\n",
    "            go.Bar(\n",
    "                x=snap_data['new_rating'],\n",
    "                marker_color=snap_data['color'],\n",
    "                orientation='h',\n",
    "                hoverinfo='all',\n",
    "                text=snap_data['beer_name'],\n",
    "                textposition='outside',\n",
    "                width=0.5\n",
    "            )\n",
    "        ],\n",
    "        layout=go.Layout(\n",
    "            font={'size': 14},\n",
    "            plot_bgcolor='white',\n",
    "            xaxis={\n",
    "                'showline': True,\n",
    "                'visible': True,\n",
    "                'range': (0, max_rating_value + 1.5)\n",
    "            },\n",
    "            bargap=0,\n",
    "            bargroupgap=0,\n",
    "            yaxis={\n",
    "                'showline': True,\n",
    "                'visible': True,\n",
    "                'tickvals': list(range(0, 11)),\n",
    "                'ticktext': list(range(10, 0, -1)),\n",
    "                'title_text': 'Top ' + str(top_entries) + ' Beers'\n",
    "            },\n",
    "            title=f'Top 10 Beers in {year}',\n",
    "        ),\n",
    "        name=str(year),\n",
    "    )\n",
    "    frames.append(frame)\n",
    "\n",
    "# Create figure\n",
    "fig = go.Figure(\n",
    "    data=[go.Bar()],\n",
    "    frames=frames,\n",
    ")\n",
    "# Update layout with play and pause buttons\n",
    "fig.update_layout(\n",
    "    title='Top 10 Beers across years',\n",
    "    font={'size': 15},\n",
    "    plot_bgcolor='white',\n",
    "    xaxis={\n",
    "        'showline': True,\n",
    "        'visible': True,\n",
    "        'title_text': 'New Rating',\n",
    "        'range': [0, max_rating_value + 1]\n",
    "    },\n",
    "    yaxis={\n",
    "        'showline': False,\n",
    "        'visible': False,\n",
    "        'title_text': 'Top Beers'\n",
    "    },\n",
    "    height=800,\n",
    "    width=800,\n",
    "    margin=dict(\n",
    "        l=100,\n",
    "        t=50\n",
    "    ),\n",
    "    sliders=[sliders_dict]\n",
    ")\n",
    "fig.show()\n"
   ]
  },
  {
   "cell_type": "code",
   "execution_count": 311,
   "metadata": {},
   "outputs": [
    {
     "data": {
      "application/vnd.plotly.v1+json": {
       "config": {
        "plotlyServerURL": "https://plot.ly"
       },
       "data": [
        {
         "type": "bar"
        }
       ],
       "frames": [
        {
         "data": [
          {
           "hoverinfo": "all",
           "marker": {
            "color": [
             "rgb(19, 164, 25)",
             "rgb(24, 61, 198)",
             "rgb(183, 166, 146)",
             "rgb(208, 101, 206)",
             "rgb(241, 117, 72)",
             "rgb(83, 67, 108)",
             "rgb(211, 197, 119)",
             "rgb(25, 178, 57)",
             "rgb(115, 199, 242)",
             "rgb(154, 10, 19)"
            ]
           },
           "orientation": "h",
           "text": [
            "Smuttynose Portsmouth Lager",
            "Wellington Iron Duke Strong Ale",
            "Beck's Oktoberfest",
            "Unibroue Blanche de Chambly",
            "Guinness Extra Stout (North America)",
            "Alley Kat Scona Gold",
            "Unibroue Maudite",
            "Unibroue Eau Bénite",
            "Unibroue La Fin du Monde",
            "Weihenstephaner Original"
           ],
           "textposition": "outside",
           "type": "bar",
           "width": 0.5,
           "x": [
            0.0856980269090535,
            0.1413983790078688,
            0.1474960597172014,
            0.2916820056995468,
            0.3633911590367735,
            0.4020559589920901,
            0.7832398558263911,
            0.7922630921178851,
            0.8024114516969543,
            1.2724582070724737
           ]
          }
         ],
         "layout": {
          "bargap": 0,
          "bargroupgap": 0,
          "font": {
           "size": 14
          },
          "plot_bgcolor": "white",
          "title": {
           "text": "Top 10 Beers in 2000 "
          },
          "xaxis": {
           "range": [
            0,
            4.296358605054868
           ],
           "showline": true,
           "visible": true
          },
          "yaxis": {
           "showline": true,
           "ticktext": [
            10,
            9,
            8,
            7,
            6,
            5,
            4,
            3,
            2,
            1
           ],
           "tickvals": [
            0,
            1,
            2,
            3,
            4,
            5,
            6,
            7,
            8,
            9,
            10
           ],
           "title": {
            "text": "Top 10 Beers"
           },
           "visible": true
          }
         },
         "name": "2000"
        },
        {
         "data": [
          {
           "hoverinfo": "all",
           "marker": {
            "color": [
             "rgb(12, 136, 199)",
             "rgb(144, 14, 253)",
             "rgb(222, 18, 247)",
             "rgb(25, 178, 57)",
             "rgb(163, 229, 220)",
             "rgb(180, 100, 36)",
             "rgb(59, 80, 3)",
             "rgb(170, 7, 112)",
             "rgb(150, 146, 207)",
             "rgb(129, 108, 184)"
            ]
           },
           "orientation": "h",
           "text": [
            "Olands Premium Red Draught",
            "Apollo Pilsner",
            "Wellington Imperial Russian Stout",
            "Unibroue Eau Bénite",
            "Samuel Smith's Organic Best Ale",
            "Hancock Old Gambrinus Beer Light",
            "Paulaner Oktoberfest-Märzen",
            "Ayinger Celebrator Doppelbock",
            "Creemore Springs Premium Lager",
            "Okanagan Spring Pale Ale"
           ],
           "textposition": "outside",
           "type": "bar",
           "width": 0.5,
           "x": [
            0.9785837672582662,
            1.0058875532587828,
            1.063970250411699,
            1.0725839073783556,
            1.1062115555022047,
            1.1406137542872845,
            1.1540869577021826,
            1.2406882489229227,
            1.292176928309711,
            1.6237857546298675
           ]
          }
         ],
         "layout": {
          "bargap": 0,
          "bargroupgap": 0,
          "font": {
           "size": 14
          },
          "plot_bgcolor": "white",
          "title": {
           "text": "Top 10 Beers in 2001 "
          },
          "xaxis": {
           "range": [
            0,
            4.296358605054868
           ],
           "showline": true,
           "visible": true
          },
          "yaxis": {
           "showline": true,
           "ticktext": [
            10,
            9,
            8,
            7,
            6,
            5,
            4,
            3,
            2,
            1
           ],
           "tickvals": [
            0,
            1,
            2,
            3,
            4,
            5,
            6,
            7,
            8,
            9,
            10
           ],
           "title": {
            "text": "Top 10 Beers"
           },
           "visible": true
          }
         },
         "name": "2001"
        },
        {
         "data": [
          {
           "hoverinfo": "all",
           "marker": {
            "color": [
             "rgb(249, 207, 147)",
             "rgb(77, 59, 106)",
             "rgb(139, 2, 6)",
             "rgb(241, 100, 119)",
             "rgb(204, 224, 14)",
             "rgb(192, 246, 182)",
             "rgb(146, 50, 114)",
             "rgb(165, 227, 172)",
             "rgb(15, 141, 202)",
             "rgb(190, 59, 83)"
            ]
           },
           "orientation": "h",
           "text": [
            "Traquair House Ale",
            "Noche Buena",
            "Rickards Gold",
            "Schwarzer Abt",
            "Thomas Hardy's Ale (1968-1999)",
            "Upper Canada Dark Ale",
            "Hancock Old Gambrinus Beer Dark",
            "Le Cheval Blanc Bière dHiver",
            "Brava Cerveza",
            "Casta Bruna"
           ],
           "textposition": "outside",
           "type": "bar",
           "width": 0.5,
           "x": [
            1.0971892330254818,
            1.117999273528437,
            1.1892809268470006,
            1.1946513838248962,
            1.2298686075598522,
            1.2363237954738322,
            1.2464736767652496,
            1.296739938062742,
            1.3506758306197617,
            1.7157031714601243
           ]
          }
         ],
         "layout": {
          "bargap": 0,
          "bargroupgap": 0,
          "font": {
           "size": 14
          },
          "plot_bgcolor": "white",
          "title": {
           "text": "Top 10 Beers in 2002 "
          },
          "xaxis": {
           "range": [
            0,
            4.296358605054868
           ],
           "showline": true,
           "visible": true
          },
          "yaxis": {
           "showline": true,
           "ticktext": [
            10,
            9,
            8,
            7,
            6,
            5,
            4,
            3,
            2,
            1
           ],
           "tickvals": [
            0,
            1,
            2,
            3,
            4,
            5,
            6,
            7,
            8,
            9,
            10
           ],
           "title": {
            "text": "Top 10 Beers"
           },
           "visible": true
          }
         },
         "name": "2002"
        },
        {
         "data": [
          {
           "hoverinfo": "all",
           "marker": {
            "color": [
             "rgb(162, 195, 239)",
             "rgb(186, 211, 101)",
             "rgb(37, 171, 228)",
             "rgb(44, 239, 230)",
             "rgb(146, 50, 114)",
             "rgb(21, 131, 41)",
             "rgb(26, 165, 173)",
             "rgb(252, 104, 103)",
             "rgb(88, 159, 212)",
             "rgb(242, 16, 93)"
            ]
           },
           "orientation": "h",
           "text": [
            "Éphémère (Cranberry)",
            "Trappistes Rochefort 10",
            "Thornbury Pickup No. 26 Pilsener",
            "Brooklyn Black Chocolate Stout",
            "Hancock Old Gambrinus Beer Dark",
            "Harvest Ale (Limited Edition)",
            "Trafalgar Winter Warmer",
            "Tsingtao Dark",
            "Ørbæk Påskebryg",
            "Val-Dieu Triple"
           ],
           "textposition": "outside",
           "type": "bar",
           "width": 0.5,
           "x": [
            1.020106685335022,
            1.0497129223965398,
            1.051065535567698,
            1.0984893371560656,
            1.0993684957865837,
            1.1365903819140273,
            1.1370635087602423,
            1.138117036597784,
            1.141220885476117,
            1.1624204770873334
           ]
          }
         ],
         "layout": {
          "bargap": 0,
          "bargroupgap": 0,
          "font": {
           "size": 14
          },
          "plot_bgcolor": "white",
          "title": {
           "text": "Top 10 Beers in 2003 "
          },
          "xaxis": {
           "range": [
            0,
            4.296358605054868
           ],
           "showline": true,
           "visible": true
          },
          "yaxis": {
           "showline": true,
           "ticktext": [
            10,
            9,
            8,
            7,
            6,
            5,
            4,
            3,
            2,
            1
           ],
           "tickvals": [
            0,
            1,
            2,
            3,
            4,
            5,
            6,
            7,
            8,
            9,
            10
           ],
           "title": {
            "text": "Top 10 Beers"
           },
           "visible": true
          }
         },
         "name": "2003"
        },
        {
         "data": [
          {
           "hoverinfo": "all",
           "marker": {
            "color": [
             "rgb(13, 143, 153)",
             "rgb(215, 47, 132)",
             "rgb(144, 148, 240)",
             "rgb(186, 211, 101)",
             "rgb(215, 188, 163)",
             "rgb(48, 85, 96)",
             "rgb(130, 198, 100)",
             "rgb(90, 84, 79)",
             "rgb(162, 195, 239)",
             "rgb(11, 217, 109)"
            ]
           },
           "orientation": "h",
           "text": [
            "Bièropholie Bock Émissaire",
            "Unibroue Seigneuriale",
            "Yo-Ho Yona Yona Ale",
            "Trappistes Rochefort 10",
            "Coopers Sparkling Ale",
            "De Dolle Speciaal Brouwsel 20",
            "Dieu du Ciel Péché Mortel",
            "Olands Export Ale",
            "Éphémère (Cranberry)",
            "Picaroons Irish Red"
           ],
           "textposition": "outside",
           "type": "bar",
           "width": 0.5,
           "x": [
            1.1189133450981463,
            1.1516669950713043,
            1.1528166236042097,
            1.1716356265310237,
            1.1741023273154845,
            1.1760713745592537,
            1.217131086340976,
            1.276741053311066,
            1.3539639927626284,
            1.7084785431180471
           ]
          }
         ],
         "layout": {
          "bargap": 0,
          "bargroupgap": 0,
          "font": {
           "size": 14
          },
          "plot_bgcolor": "white",
          "title": {
           "text": "Top 10 Beers in 2004 "
          },
          "xaxis": {
           "range": [
            0,
            4.296358605054868
           ],
           "showline": true,
           "visible": true
          },
          "yaxis": {
           "showline": true,
           "ticktext": [
            10,
            9,
            8,
            7,
            6,
            5,
            4,
            3,
            2,
            1
           ],
           "tickvals": [
            0,
            1,
            2,
            3,
            4,
            5,
            6,
            7,
            8,
            9,
            10
           ],
           "title": {
            "text": "Top 10 Beers"
           },
           "visible": true
          }
         },
         "name": "2004"
        },
        {
         "data": [
          {
           "hoverinfo": "all",
           "marker": {
            "color": [
             "rgb(175, 152, 231)",
             "rgb(113, 165, 186)",
             "rgb(44, 239, 230)",
             "rgb(130, 12, 244)",
             "rgb(146, 255, 188)",
             "rgb(232, 102, 214)",
             "rgb(109, 143, 166)",
             "rgb(91, 49, 96)",
             "rgb(20, 202, 125)",
             "rgb(37, 82, 20)"
            ]
           },
           "orientation": "h",
           "text": [
            "WinterCoat Oatmeal Stout",
            "Mai Bock",
            "Brooklyn Black Chocolate Stout",
            "Cantillon Spuyten Duyvil",
            "Scotch Irish Tsarina Katarina Imperial Stout",
            "Fuller's Special Edition ESB",
            "Lions Winter Ale",
            "Ursus Pils",
            "Gale's Jubilee Ale (2002)",
            "Panil Barriquée  (Italy Version)"
           ],
           "textposition": "outside",
           "type": "bar",
           "width": 0.5,
           "x": [
            1.128126928846783,
            1.1301521826016678,
            1.146847234543368,
            1.148323250291148,
            1.1483720433411242,
            1.1580044374770952,
            1.187508763872131,
            1.2330532509224803,
            1.3158032691133454,
            1.3961302319078674
           ]
          }
         ],
         "layout": {
          "bargap": 0,
          "bargroupgap": 0,
          "font": {
           "size": 14
          },
          "plot_bgcolor": "white",
          "title": {
           "text": "Top 10 Beers in 2005 "
          },
          "xaxis": {
           "range": [
            0,
            4.296358605054868
           ],
           "showline": true,
           "visible": true
          },
          "yaxis": {
           "showline": true,
           "ticktext": [
            10,
            9,
            8,
            7,
            6,
            5,
            4,
            3,
            2,
            1
           ],
           "tickvals": [
            0,
            1,
            2,
            3,
            4,
            5,
            6,
            7,
            8,
            9,
            10
           ],
           "title": {
            "text": "Top 10 Beers"
           },
           "visible": true
          }
         },
         "name": "2005"
        },
        {
         "data": [
          {
           "hoverinfo": "all",
           "marker": {
            "color": [
             "rgb(180, 92, 90)",
             "rgb(125, 158, 7)",
             "rgb(132, 134, 160)",
             "rgb(66, 36, 54)",
             "rgb(12, 112, 55)",
             "rgb(251, 28, 19)",
             "rgb(160, 128, 202)",
             "rgb(65, 87, 182)",
             "rgb(33, 141, 192)",
             "rgb(165, 62, 179)"
            ]
           },
           "orientation": "h",
           "text": [
            "Smuggler's Ale",
            "Little Creatures Pale Ale",
            "Nickel Brook Ale (pre 2009)",
            "Bièropholie IPA",
            "Granville Island GIBitter",
            "Urbock 23°",
            "Birrificio Italiano Tipopils",
            "Phillips Amnesiac Double IPA",
            "Bedondaine et Bedons Ronds Reyne Descosse",
            "Lakeport Pilsener"
           ],
           "textposition": "outside",
           "type": "bar",
           "width": 0.5,
           "x": [
            1.1013018745460426,
            1.1081949452181952,
            1.10970020597058,
            1.1429170607485464,
            1.1814772124502742,
            1.1951664258337198,
            1.224148644787213,
            1.224792193965514,
            1.2294622768994474,
            1.2311662394036298
           ]
          }
         ],
         "layout": {
          "bargap": 0,
          "bargroupgap": 0,
          "font": {
           "size": 14
          },
          "plot_bgcolor": "white",
          "title": {
           "text": "Top 10 Beers in 2006 "
          },
          "xaxis": {
           "range": [
            0,
            4.296358605054868
           ],
           "showline": true,
           "visible": true
          },
          "yaxis": {
           "showline": true,
           "ticktext": [
            10,
            9,
            8,
            7,
            6,
            5,
            4,
            3,
            2,
            1
           ],
           "tickvals": [
            0,
            1,
            2,
            3,
            4,
            5,
            6,
            7,
            8,
            9,
            10
           ],
           "title": {
            "text": "Top 10 Beers"
           },
           "visible": true
          }
         },
         "name": "2006"
        },
        {
         "data": [
          {
           "hoverinfo": "all",
           "marker": {
            "color": [
             "rgb(251, 112, 123)",
             "rgb(137, 175, 104)",
             "rgb(100, 84, 168)",
             "rgb(115, 30, 156)",
             "rgb(199, 48, 165)",
             "rgb(164, 128, 31)",
             "rgb(227, 79, 244)",
             "rgb(66, 192, 194)",
             "rgb(124, 36, 47)",
             "rgb(42, 120, 53)"
            ]
           },
           "orientation": "h",
           "text": [
            "Sanctification",
            "Drie Fonteinen Millennium Geuze",
            "La Lièvre IPA",
            "Ølfabrikken Gammel Ekstra Porter",
            "Abbaye De Saint Bon-Chien",
            "Schneider Weisse Tap 1 Mein Blondes",
            "Side Launch Wheat",
            "Original Stieglbock",
            "Les Trois Mousquetaires G.C. Porter Baltique",
            "Innis & Gunn Limited Edition 2005"
           ],
           "textposition": "outside",
           "type": "bar",
           "width": 0.5,
           "x": [
            1.2396660302431133,
            1.2500517929893469,
            1.2669803376987006,
            1.2687902499092345,
            1.2801873813826143,
            1.296022595401119,
            1.3128778567226451,
            1.321458650317355,
            1.3320290468008888,
            1.4208028086796662
           ]
          }
         ],
         "layout": {
          "bargap": 0,
          "bargroupgap": 0,
          "font": {
           "size": 14
          },
          "plot_bgcolor": "white",
          "title": {
           "text": "Top 10 Beers in 2007 "
          },
          "xaxis": {
           "range": [
            0,
            4.296358605054868
           ],
           "showline": true,
           "visible": true
          },
          "yaxis": {
           "showline": true,
           "ticktext": [
            10,
            9,
            8,
            7,
            6,
            5,
            4,
            3,
            2,
            1
           ],
           "tickvals": [
            0,
            1,
            2,
            3,
            4,
            5,
            6,
            7,
            8,
            9,
            10
           ],
           "title": {
            "text": "Top 10 Beers"
           },
           "visible": true
          }
         },
         "name": "2007"
        },
        {
         "data": [
          {
           "hoverinfo": "all",
           "marker": {
            "color": [
             "rgb(55, 5, 68)",
             "rgb(48, 152, 205)",
             "rgb(80, 64, 73)",
             "rgb(229, 52, 180)",
             "rgb(63, 19, 127)",
             "rgb(184, 230, 137)",
             "rgb(101, 76, 36)",
             "rgb(23, 186, 191)",
             "rgb(72, 234, 186)",
             "rgb(219, 76, 92)"
            ]
           },
           "orientation": "h",
           "text": [
            "Old Crafty Hen",
            "Neumarkter Lammsbräu (Organic) Dunkel",
            "Terrapin Big Sloppy Monster",
            "Baladin Xyauyù Etichetta Rame (Copper Label)",
            "Consecration",
            "Half Pints Bulldog Amber Ale",
            "Baeren Rye",
            "Mean Manalishi Double I.P.A.",
            "Alley Kat Bad Hare Day",
            "Kosmyk Charlie's Y2K Catastrophe Ale"
           ],
           "textposition": "outside",
           "type": "bar",
           "width": 0.5,
           "x": [
            1.1670864372733072,
            1.1766039835149418,
            1.1919126098650494,
            1.2012607567449864,
            1.2064338315271683,
            1.207766811476634,
            1.2547272238898888,
            1.377381643490348,
            1.391734911093819,
            1.4392218691560568
           ]
          }
         ],
         "layout": {
          "bargap": 0,
          "bargroupgap": 0,
          "font": {
           "size": 14
          },
          "plot_bgcolor": "white",
          "title": {
           "text": "Top 10 Beers in 2008 "
          },
          "xaxis": {
           "range": [
            0,
            4.296358605054868
           ],
           "showline": true,
           "visible": true
          },
          "yaxis": {
           "showline": true,
           "ticktext": [
            10,
            9,
            8,
            7,
            6,
            5,
            4,
            3,
            2,
            1
           ],
           "tickvals": [
            0,
            1,
            2,
            3,
            4,
            5,
            6,
            7,
            8,
            9,
            10
           ],
           "title": {
            "text": "Top 10 Beers"
           },
           "visible": true
          }
         },
         "name": "2008"
        },
        {
         "data": [
          {
           "hoverinfo": "all",
           "marker": {
            "color": [
             "rgb(153, 11, 81)",
             "rgb(133, 68, 119)",
             "rgb(65, 134, 111)",
             "rgb(229, 37, 245)",
             "rgb(167, 104, 49)",
             "rgb(172, 72, 178)",
             "rgb(104, 227, 78)",
             "rgb(11, 44, 237)",
             "rgb(216, 141, 94)",
             "rgb(25, 251, 196)"
            ]
           },
           "orientation": "h",
           "text": [
            "Søgaards Trippel",
            "Primátor Premium",
            "Dieu du Ciel Solstice dÉté aux Framboises",
            "Southampton Grand Cru",
            "Driftwood Sartori Harvest IPA",
            "Granville Island Merry Monks Dopplebock",
            "RJ Le Cheval Blanc Snoreau",
            "Old Engine Oil Special Reserve (Aged In Malt Whiskey Casks)",
            "Borefts Bok 2009",
            "Lvivske Porter"
           ],
           "textposition": "outside",
           "type": "bar",
           "width": 0.5,
           "x": [
            1.2338471807274276,
            1.2393466430040996,
            1.2454384142571973,
            1.2469121186642012,
            1.2824851557175203,
            1.325754327205307,
            1.3561829163911925,
            1.372316618062027,
            1.381964656606547,
            1.8194648164280256
           ]
          }
         ],
         "layout": {
          "bargap": 0,
          "bargroupgap": 0,
          "font": {
           "size": 14
          },
          "plot_bgcolor": "white",
          "title": {
           "text": "Top 10 Beers in 2009 "
          },
          "xaxis": {
           "range": [
            0,
            4.296358605054868
           ],
           "showline": true,
           "visible": true
          },
          "yaxis": {
           "showline": true,
           "ticktext": [
            10,
            9,
            8,
            7,
            6,
            5,
            4,
            3,
            2,
            1
           ],
           "tickvals": [
            0,
            1,
            2,
            3,
            4,
            5,
            6,
            7,
            8,
            9,
            10
           ],
           "title": {
            "text": "Top 10 Beers"
           },
           "visible": true
          }
         },
         "name": "2009"
        },
        {
         "data": [
          {
           "hoverinfo": "all",
           "marker": {
            "color": [
             "rgb(7, 63, 207)",
             "rgb(175, 253, 162)",
             "rgb(211, 244, 108)",
             "rgb(216, 43, 205)",
             "rgb(206, 58, 99)",
             "rgb(115, 105, 152)",
             "rgb(243, 165, 34)",
             "rgb(104, 193, 206)",
             "rgb(155, 91, 100)",
             "rgb(136, 159, 183)"
            ]
           },
           "orientation": "h",
           "text": [
            "Captivator Doppelbock",
            "Toccalmatto Sibilla",
            "Birrificio del Ducato LUltima Luna",
            "La Trappe Quadrupel (Oak Aged)",
            "Toccalmatto Stray Dog No Rules Bitter",
            "Charlevoix Dominus Vobiscum Brut",
            "Birra del Borgo ReAle Extra",
            "Saison Du Tracteur",
            "Bedondaine et Bedons Ronds Reyne Descosse Gelée",
            "Piccolo Birrificio Ego"
           ],
           "textposition": "outside",
           "type": "bar",
           "width": 0.5,
           "x": [
            1.289513947212004,
            1.3022892741280632,
            1.3504165952011944,
            1.3695815104674731,
            1.4186131609391872,
            1.4294349003691191,
            1.5284823417762363,
            1.5542583799019265,
            1.7288080087834743,
            1.7654250681805317
           ]
          }
         ],
         "layout": {
          "bargap": 0,
          "bargroupgap": 0,
          "font": {
           "size": 14
          },
          "plot_bgcolor": "white",
          "title": {
           "text": "Top 10 Beers in 2010 "
          },
          "xaxis": {
           "range": [
            0,
            4.296358605054868
           ],
           "showline": true,
           "visible": true
          },
          "yaxis": {
           "showline": true,
           "ticktext": [
            10,
            9,
            8,
            7,
            6,
            5,
            4,
            3,
            2,
            1
           ],
           "tickvals": [
            0,
            1,
            2,
            3,
            4,
            5,
            6,
            7,
            8,
            9,
            10
           ],
           "title": {
            "text": "Top 10 Beers"
           },
           "visible": true
          }
         },
         "name": "2010"
        },
        {
         "data": [
          {
           "hoverinfo": "all",
           "marker": {
            "color": [
             "rgb(158, 187, 145)",
             "rgb(33, 77, 241)",
             "rgb(153, 132, 249)",
             "rgb(37, 90, 9)",
             "rgb(25, 50, 197)",
             "rgb(235, 141, 218)",
             "rgb(161, 187, 171)",
             "rgb(115, 113, 9)",
             "rgb(137, 175, 104)",
             "rgb(240, 219, 60)"
            ]
           },
           "orientation": "h",
           "text": [
            "Tipo Pils",
            "Cantillon Blåbær Lambik",
            "Les Brasseurs du Temps Mea Magna Culpa",
            "Cantillon Don Quijote",
            "Ølfabrikken Petit Blau",
            "Montegioco Quarta Runa",
            "Eichbaum Pilsener",
            "Drie Fonteinen Oude Geuze 1998 (50th Anniversary)",
            "Drie Fonteinen Millennium Geuze",
            "Beer Here / Raasted Bukkake"
           ],
           "textposition": "outside",
           "type": "bar",
           "width": 0.5,
           "x": [
            1.2600744288590362,
            1.265080505108473,
            1.301966246878607,
            1.3262397837477289,
            1.333344904716972,
            1.347954076030384,
            1.3505600121785313,
            1.4710240611434864,
            1.703014364073218,
            2.253825333425378
           ]
          }
         ],
         "layout": {
          "bargap": 0,
          "bargroupgap": 0,
          "font": {
           "size": 14
          },
          "plot_bgcolor": "white",
          "title": {
           "text": "Top 10 Beers in 2011 "
          },
          "xaxis": {
           "range": [
            0,
            4.296358605054868
           ],
           "showline": true,
           "visible": true
          },
          "yaxis": {
           "showline": true,
           "ticktext": [
            10,
            9,
            8,
            7,
            6,
            5,
            4,
            3,
            2,
            1
           ],
           "tickvals": [
            0,
            1,
            2,
            3,
            4,
            5,
            6,
            7,
            8,
            9,
            10
           ],
           "title": {
            "text": "Top 10 Beers"
           },
           "visible": true
          }
         },
         "name": "2011"
        },
        {
         "data": [
          {
           "hoverinfo": "all",
           "marker": {
            "color": [
             "rgb(243, 240, 91)",
             "rgb(14, 27, 76)",
             "rgb(131, 195, 237)",
             "rgb(95, 70, 110)",
             "rgb(224, 203, 7)",
             "rgb(115, 113, 9)",
             "rgb(237, 60, 173)",
             "rgb(209, 49, 181)",
             "rgb(233, 126, 249)",
             "rgb(214, 169, 223)"
            ]
           },
           "orientation": "h",
           "text": [
            "Ann",
            "Depuration",
            "Black Tokyo Horizon",
            "Le Cheval Blanc Double Bonheur",
            "Whistler Chocolate Winter Dunkel",
            "Drie Fonteinen Oude Geuze 1998 (50th Anniversary)",
            "Watermelon Warhead",
            "Kamenitza Lev",
            "L'Amoureuse Rouge",
            "Cantillon Loerik"
           ],
           "textposition": "outside",
           "type": "bar",
           "width": 0.5,
           "x": [
            1.3265020252683697,
            1.3490384193077791,
            1.364564975250266,
            1.3688333984444223,
            1.369805348429683,
            1.3975667870645416,
            1.4323060786846682,
            1.457841090882981,
            1.4672320479745289,
            1.5564273480419248
           ]
          }
         ],
         "layout": {
          "bargap": 0,
          "bargroupgap": 0,
          "font": {
           "size": 14
          },
          "plot_bgcolor": "white",
          "title": {
           "text": "Top 10 Beers in 2012 "
          },
          "xaxis": {
           "range": [
            0,
            4.296358605054868
           ],
           "showline": true,
           "visible": true
          },
          "yaxis": {
           "showline": true,
           "ticktext": [
            10,
            9,
            8,
            7,
            6,
            5,
            4,
            3,
            2,
            1
           ],
           "tickvals": [
            0,
            1,
            2,
            3,
            4,
            5,
            6,
            7,
            8,
            9,
            10
           ],
           "title": {
            "text": "Top 10 Beers"
           },
           "visible": true
          }
         },
         "name": "2012"
        },
        {
         "data": [
          {
           "hoverinfo": "all",
           "marker": {
            "color": [
             "rgb(215, 227, 126)",
             "rgb(145, 247, 69)",
             "rgb(118, 115, 238)",
             "rgb(55, 106, 81)",
             "rgb(53, 140, 229)",
             "rgb(232, 209, 9)",
             "rgb(51, 112, 155)",
             "rgb(208, 243, 151)",
             "rgb(142, 91, 109)",
             "rgb(33, 198, 35)"
            ]
           },
           "orientation": "h",
           "text": [
            "Tamamura-Honten Yamabushi Saison 1 Aged in Oak Barrels",
            "Rapture",
            "Cantillon Bruocsella (1900) Grand Cru",
            "Brasseurs du Monde Gamme Festive Célébrante",
            "Innis & Gunn Spiced Rum Aged",
            "Bavarias Best Imperial Stout",
            "Collesi 1970 Ambrata",
            "Svaneke Julebryg",
            "Edward",
            "Birra del Borgo Perle ai Porci (Pearls for Pigs)"
           ],
           "textposition": "outside",
           "type": "bar",
           "width": 0.5,
           "x": [
            1.3746493096975472,
            1.4041402200725015,
            1.4570126267878116,
            1.4741651011372767,
            1.493197763699144,
            1.5596210420758312,
            1.6521573868793042,
            1.6747480446151457,
            1.784840369968013,
            2.510691214725717
           ]
          }
         ],
         "layout": {
          "bargap": 0,
          "bargroupgap": 0,
          "font": {
           "size": 14
          },
          "plot_bgcolor": "white",
          "title": {
           "text": "Top 10 Beers in 2013 "
          },
          "xaxis": {
           "range": [
            0,
            4.296358605054868
           ],
           "showline": true,
           "visible": true
          },
          "yaxis": {
           "showline": true,
           "ticktext": [
            10,
            9,
            8,
            7,
            6,
            5,
            4,
            3,
            2,
            1
           ],
           "tickvals": [
            0,
            1,
            2,
            3,
            4,
            5,
            6,
            7,
            8,
            9,
            10
           ],
           "title": {
            "text": "Top 10 Beers"
           },
           "visible": true
          }
         },
         "name": "2013"
        },
        {
         "data": [
          {
           "hoverinfo": "all",
           "marker": {
            "color": [
             "rgb(129, 134, 225)",
             "rgb(113, 30, 178)",
             "rgb(33, 77, 241)",
             "rgb(218, 222, 96)",
             "rgb(111, 124, 210)",
             "rgb(120, 67, 110)",
             "rgb(130, 12, 244)",
             "rgb(58, 196, 86)",
             "rgb(139, 3, 49)",
             "rgb(248, 179, 240)"
            ]
           },
           "orientation": "h",
           "text": [
            "Cantillon Crianza Helena",
            "Melbourne Bitter",
            "Cantillon Blåbær Lambik",
            "Schneider Weisse Tap 6 Unser Aventinus",
            "Minerva Colonial",
            "Wicked Juju",
            "Cantillon Spuyten Duyvil",
            "Extraomnes Saison",
            "Molson Standard Lager",
            "Mandøl Smagen af Mandø"
           ],
           "textposition": "outside",
           "type": "bar",
           "width": 0.5,
           "x": [
            1.481905996838515,
            1.4953778917662726,
            1.498668519392976,
            1.5958805494661334,
            1.6764028325986928,
            1.7425096415533683,
            1.7429667157083328,
            1.8860097723067208,
            1.9268002384767275,
            2.796358605054868
           ]
          }
         ],
         "layout": {
          "bargap": 0,
          "bargroupgap": 0,
          "font": {
           "size": 14
          },
          "plot_bgcolor": "white",
          "title": {
           "text": "Top 10 Beers in 2014 "
          },
          "xaxis": {
           "range": [
            0,
            4.296358605054868
           ],
           "showline": true,
           "visible": true
          },
          "yaxis": {
           "showline": true,
           "ticktext": [
            10,
            9,
            8,
            7,
            6,
            5,
            4,
            3,
            2,
            1
           ],
           "tickvals": [
            0,
            1,
            2,
            3,
            4,
            5,
            6,
            7,
            8,
            9,
            10
           ],
           "title": {
            "text": "Top 10 Beers"
           },
           "visible": true
          }
         },
         "name": "2014"
        },
        {
         "data": [
          {
           "hoverinfo": "all",
           "marker": {
            "color": [
             "rgb(167, 104, 49)",
             "rgb(73, 70, 66)",
             "rgb(33, 12, 116)",
             "rgb(226, 151, 159)",
             "rgb(251, 112, 123)",
             "rgb(80, 33, 68)",
             "rgb(150, 83, 185)",
             "rgb(208, 101, 206)",
             "rgb(106, 164, 63)",
             "rgb(225, 255, 144)"
            ]
           },
           "orientation": "h",
           "text": [
            "Driftwood Sartori Harvest IPA",
            "Flying Monkeys City and Colour",
            "Buxton / Omnipollo Yellow Belly Sundae",
            "Dunham Saison Réserve",
            "Sanctification",
            "Charlevoix Dominus Vobiscum Lupulus",
            "Saison Bernice",
            "Unibroue Blanche de Chambly",
            "Four Winds Phaedra Rye Wheat IPA",
            "Opperbacco Blanche de Lotario"
           ],
           "textposition": "outside",
           "type": "bar",
           "width": 0.5,
           "x": [
            1.5676276553776711,
            1.5751038516002658,
            1.622719541991331,
            1.623539297914094,
            1.6258817104558627,
            1.6387533424741991,
            1.6738321718245197,
            1.70740160723289,
            1.7625116163067636,
            1.82482572270457
           ]
          }
         ],
         "layout": {
          "bargap": 0,
          "bargroupgap": 0,
          "font": {
           "size": 14
          },
          "plot_bgcolor": "white",
          "title": {
           "text": "Top 10 Beers in 2015 "
          },
          "xaxis": {
           "range": [
            0,
            4.296358605054868
           ],
           "showline": true,
           "visible": true
          },
          "yaxis": {
           "showline": true,
           "ticktext": [
            10,
            9,
            8,
            7,
            6,
            5,
            4,
            3,
            2,
            1
           ],
           "tickvals": [
            0,
            1,
            2,
            3,
            4,
            5,
            6,
            7,
            8,
            9,
            10
           ],
           "title": {
            "text": "Top 10 Beers"
           },
           "visible": true
          }
         },
         "name": "2015"
        },
        {
         "data": [
          {
           "hoverinfo": "all",
           "marker": {
            "color": [
             "rgb(175, 54, 39)",
             "rgb(228, 4, 87)",
             "rgb(30, 106, 74)",
             "rgb(162, 42, 217)",
             "rgb(188, 145, 204)",
             "rgb(134, 117, 191)",
             "rgb(80, 33, 68)",
             "rgb(190, 31, 171)",
             "rgb(117, 92, 70)",
             "rgb(168, 180, 139)"
            ]
           },
           "orientation": "h",
           "text": [
            "Aardmonnik - Earthmonk",
            "Hors Série Ceci N'est Pas Une Gueuze",
            "Frejdahl Gudmund",
            "To Øl Passion Of The Weisst",
            "Xyauyù Etichetta Rame (Copper)",
            "Skovlyst Julebryg",
            "Charlevoix Dominus Vobiscum Lupulus",
            "Ghost Black Beast",
            "Skovlyst Lossen",
            "Indie Alehouse Zombie Apocalypse (Bourbon)"
           ],
           "textposition": "outside",
           "type": "bar",
           "width": 0.5,
           "x": [
            1.6309133236150697,
            1.6327746884700929,
            1.65167625476196,
            1.9003550471197763,
            1.9148003899577124,
            1.932732074470068,
            1.9683048585754683,
            2.0956611027231538,
            2.32265547193058,
            2.330646926702521
           ]
          }
         ],
         "layout": {
          "bargap": 0,
          "bargroupgap": 0,
          "font": {
           "size": 14
          },
          "plot_bgcolor": "white",
          "title": {
           "text": "Top 10 Beers in 2016 "
          },
          "xaxis": {
           "range": [
            0,
            4.296358605054868
           ],
           "showline": true,
           "visible": true
          },
          "yaxis": {
           "showline": true,
           "ticktext": [
            10,
            9,
            8,
            7,
            6,
            5,
            4,
            3,
            2,
            1
           ],
           "tickvals": [
            0,
            1,
            2,
            3,
            4,
            5,
            6,
            7,
            8,
            9,
            10
           ],
           "title": {
            "text": "Top 10 Beers"
           },
           "visible": true
          }
         },
         "name": "2016"
        },
        {
         "data": [
          {
           "hoverinfo": "all",
           "marker": {
            "color": [
             "rgb(35, 14, 165)",
             "rgb(79, 176, 78)",
             "rgb(176, 117, 222)",
             "rgb(197, 60, 223)",
             "rgb(129, 247, 149)",
             "rgb(19, 200, 57)",
             "rgb(6, 219, 45)",
             "rgb(224, 43, 181)",
             "rgb(107, 115, 137)",
             "rgb(222, 223, 88)"
            ]
           },
           "orientation": "h",
           "text": [
            "LoverBeer A Renna Glüh",
            "Benelux Moisson (2011)",
            "Birrificio Italiano Nigredo (Negra 3.0)",
            "Midtfyns Jule Stout",
            "Amager / Lervig Brown Boobies Falling",
            "RJ Le Cheval Blanc Double Blanche (IPA belge)",
            "Double Nelson",
            "Thisted Thy Ale",
            "Pladderballe Brodtgaard Basement Reserve",
            "Coedo / Stone / Garage Project Tsuyu Saison"
           ],
           "textposition": "outside",
           "type": "bar",
           "width": 0.5,
           "x": [
            1.5461166604658836,
            1.547184850088554,
            1.5563119039202395,
            1.581953108750554,
            1.6360558401007417,
            1.654410184218145,
            1.7331561781565548,
            1.7420509005188278,
            1.778935444645838,
            1.8188611526235283
           ]
          }
         ],
         "layout": {
          "bargap": 0,
          "bargroupgap": 0,
          "font": {
           "size": 14
          },
          "plot_bgcolor": "white",
          "title": {
           "text": "Top 10 Beers in 2017 "
          },
          "xaxis": {
           "range": [
            0,
            4.296358605054868
           ],
           "showline": true,
           "visible": true
          },
          "yaxis": {
           "showline": true,
           "ticktext": [
            10,
            9,
            8,
            7,
            6,
            5,
            4,
            3,
            2,
            1
           ],
           "tickvals": [
            0,
            1,
            2,
            3,
            4,
            5,
            6,
            7,
            8,
            9,
            10
           ],
           "title": {
            "text": "Top 10 Beers"
           },
           "visible": true
          }
         },
         "name": "2017"
        }
       ],
       "layout": {
        "font": {
         "size": 15
        },
        "height": 800,
        "margin": {
         "l": 100,
         "t": 50
        },
        "plot_bgcolor": "white",
        "sliders": [
         {
          "steps": [
           {
            "args": [
             [
              "2000"
             ],
             {
              "frame": {
               "duration": 300,
               "redraw": true
              },
              "mode": "immediate",
              "transition": {
               "duration": 300
              }
             }
            ],
            "label": "2000",
            "method": "animate"
           },
           {
            "args": [
             [
              "2001"
             ],
             {
              "frame": {
               "duration": 300,
               "redraw": true
              },
              "mode": "immediate",
              "transition": {
               "duration": 300
              }
             }
            ],
            "label": "2001",
            "method": "animate"
           },
           {
            "args": [
             [
              "2002"
             ],
             {
              "frame": {
               "duration": 300,
               "redraw": true
              },
              "mode": "immediate",
              "transition": {
               "duration": 300
              }
             }
            ],
            "label": "2002",
            "method": "animate"
           },
           {
            "args": [
             [
              "2003"
             ],
             {
              "frame": {
               "duration": 300,
               "redraw": true
              },
              "mode": "immediate",
              "transition": {
               "duration": 300
              }
             }
            ],
            "label": "2003",
            "method": "animate"
           },
           {
            "args": [
             [
              "2004"
             ],
             {
              "frame": {
               "duration": 300,
               "redraw": true
              },
              "mode": "immediate",
              "transition": {
               "duration": 300
              }
             }
            ],
            "label": "2004",
            "method": "animate"
           },
           {
            "args": [
             [
              "2005"
             ],
             {
              "frame": {
               "duration": 300,
               "redraw": true
              },
              "mode": "immediate",
              "transition": {
               "duration": 300
              }
             }
            ],
            "label": "2005",
            "method": "animate"
           },
           {
            "args": [
             [
              "2006"
             ],
             {
              "frame": {
               "duration": 300,
               "redraw": true
              },
              "mode": "immediate",
              "transition": {
               "duration": 300
              }
             }
            ],
            "label": "2006",
            "method": "animate"
           },
           {
            "args": [
             [
              "2007"
             ],
             {
              "frame": {
               "duration": 300,
               "redraw": true
              },
              "mode": "immediate",
              "transition": {
               "duration": 300
              }
             }
            ],
            "label": "2007",
            "method": "animate"
           },
           {
            "args": [
             [
              "2008"
             ],
             {
              "frame": {
               "duration": 300,
               "redraw": true
              },
              "mode": "immediate",
              "transition": {
               "duration": 300
              }
             }
            ],
            "label": "2008",
            "method": "animate"
           },
           {
            "args": [
             [
              "2009"
             ],
             {
              "frame": {
               "duration": 300,
               "redraw": true
              },
              "mode": "immediate",
              "transition": {
               "duration": 300
              }
             }
            ],
            "label": "2009",
            "method": "animate"
           },
           {
            "args": [
             [
              "2010"
             ],
             {
              "frame": {
               "duration": 300,
               "redraw": true
              },
              "mode": "immediate",
              "transition": {
               "duration": 300
              }
             }
            ],
            "label": "2010",
            "method": "animate"
           },
           {
            "args": [
             [
              "2011"
             ],
             {
              "frame": {
               "duration": 300,
               "redraw": true
              },
              "mode": "immediate",
              "transition": {
               "duration": 300
              }
             }
            ],
            "label": "2011",
            "method": "animate"
           },
           {
            "args": [
             [
              "2012"
             ],
             {
              "frame": {
               "duration": 300,
               "redraw": true
              },
              "mode": "immediate",
              "transition": {
               "duration": 300
              }
             }
            ],
            "label": "2012",
            "method": "animate"
           },
           {
            "args": [
             [
              "2013"
             ],
             {
              "frame": {
               "duration": 300,
               "redraw": true
              },
              "mode": "immediate",
              "transition": {
               "duration": 300
              }
             }
            ],
            "label": "2013",
            "method": "animate"
           },
           {
            "args": [
             [
              "2014"
             ],
             {
              "frame": {
               "duration": 300,
               "redraw": true
              },
              "mode": "immediate",
              "transition": {
               "duration": 300
              }
             }
            ],
            "label": "2014",
            "method": "animate"
           },
           {
            "args": [
             [
              "2015"
             ],
             {
              "frame": {
               "duration": 300,
               "redraw": true
              },
              "mode": "immediate",
              "transition": {
               "duration": 300
              }
             }
            ],
            "label": "2015",
            "method": "animate"
           },
           {
            "args": [
             [
              "2016"
             ],
             {
              "frame": {
               "duration": 300,
               "redraw": true
              },
              "mode": "immediate",
              "transition": {
               "duration": 300
              }
             }
            ],
            "label": "2016",
            "method": "animate"
           },
           {
            "args": [
             [
              "2017"
             ],
             {
              "frame": {
               "duration": 300,
               "redraw": true
              },
              "mode": "immediate",
              "transition": {
               "duration": 300
              }
             }
            ],
            "label": "2017",
            "method": "animate"
           }
          ]
         }
        ],
        "template": {
         "data": {
          "bar": [
           {
            "error_x": {
             "color": "#2a3f5f"
            },
            "error_y": {
             "color": "#2a3f5f"
            },
            "marker": {
             "line": {
              "color": "#E5ECF6",
              "width": 0.5
             },
             "pattern": {
              "fillmode": "overlay",
              "size": 10,
              "solidity": 0.2
             }
            },
            "type": "bar"
           }
          ],
          "barpolar": [
           {
            "marker": {
             "line": {
              "color": "#E5ECF6",
              "width": 0.5
             },
             "pattern": {
              "fillmode": "overlay",
              "size": 10,
              "solidity": 0.2
             }
            },
            "type": "barpolar"
           }
          ],
          "carpet": [
           {
            "aaxis": {
             "endlinecolor": "#2a3f5f",
             "gridcolor": "white",
             "linecolor": "white",
             "minorgridcolor": "white",
             "startlinecolor": "#2a3f5f"
            },
            "baxis": {
             "endlinecolor": "#2a3f5f",
             "gridcolor": "white",
             "linecolor": "white",
             "minorgridcolor": "white",
             "startlinecolor": "#2a3f5f"
            },
            "type": "carpet"
           }
          ],
          "choropleth": [
           {
            "colorbar": {
             "outlinewidth": 0,
             "ticks": ""
            },
            "type": "choropleth"
           }
          ],
          "contour": [
           {
            "colorbar": {
             "outlinewidth": 0,
             "ticks": ""
            },
            "colorscale": [
             [
              0,
              "#0d0887"
             ],
             [
              0.1111111111111111,
              "#46039f"
             ],
             [
              0.2222222222222222,
              "#7201a8"
             ],
             [
              0.3333333333333333,
              "#9c179e"
             ],
             [
              0.4444444444444444,
              "#bd3786"
             ],
             [
              0.5555555555555556,
              "#d8576b"
             ],
             [
              0.6666666666666666,
              "#ed7953"
             ],
             [
              0.7777777777777778,
              "#fb9f3a"
             ],
             [
              0.8888888888888888,
              "#fdca26"
             ],
             [
              1,
              "#f0f921"
             ]
            ],
            "type": "contour"
           }
          ],
          "contourcarpet": [
           {
            "colorbar": {
             "outlinewidth": 0,
             "ticks": ""
            },
            "type": "contourcarpet"
           }
          ],
          "heatmap": [
           {
            "colorbar": {
             "outlinewidth": 0,
             "ticks": ""
            },
            "colorscale": [
             [
              0,
              "#0d0887"
             ],
             [
              0.1111111111111111,
              "#46039f"
             ],
             [
              0.2222222222222222,
              "#7201a8"
             ],
             [
              0.3333333333333333,
              "#9c179e"
             ],
             [
              0.4444444444444444,
              "#bd3786"
             ],
             [
              0.5555555555555556,
              "#d8576b"
             ],
             [
              0.6666666666666666,
              "#ed7953"
             ],
             [
              0.7777777777777778,
              "#fb9f3a"
             ],
             [
              0.8888888888888888,
              "#fdca26"
             ],
             [
              1,
              "#f0f921"
             ]
            ],
            "type": "heatmap"
           }
          ],
          "heatmapgl": [
           {
            "colorbar": {
             "outlinewidth": 0,
             "ticks": ""
            },
            "colorscale": [
             [
              0,
              "#0d0887"
             ],
             [
              0.1111111111111111,
              "#46039f"
             ],
             [
              0.2222222222222222,
              "#7201a8"
             ],
             [
              0.3333333333333333,
              "#9c179e"
             ],
             [
              0.4444444444444444,
              "#bd3786"
             ],
             [
              0.5555555555555556,
              "#d8576b"
             ],
             [
              0.6666666666666666,
              "#ed7953"
             ],
             [
              0.7777777777777778,
              "#fb9f3a"
             ],
             [
              0.8888888888888888,
              "#fdca26"
             ],
             [
              1,
              "#f0f921"
             ]
            ],
            "type": "heatmapgl"
           }
          ],
          "histogram": [
           {
            "marker": {
             "pattern": {
              "fillmode": "overlay",
              "size": 10,
              "solidity": 0.2
             }
            },
            "type": "histogram"
           }
          ],
          "histogram2d": [
           {
            "colorbar": {
             "outlinewidth": 0,
             "ticks": ""
            },
            "colorscale": [
             [
              0,
              "#0d0887"
             ],
             [
              0.1111111111111111,
              "#46039f"
             ],
             [
              0.2222222222222222,
              "#7201a8"
             ],
             [
              0.3333333333333333,
              "#9c179e"
             ],
             [
              0.4444444444444444,
              "#bd3786"
             ],
             [
              0.5555555555555556,
              "#d8576b"
             ],
             [
              0.6666666666666666,
              "#ed7953"
             ],
             [
              0.7777777777777778,
              "#fb9f3a"
             ],
             [
              0.8888888888888888,
              "#fdca26"
             ],
             [
              1,
              "#f0f921"
             ]
            ],
            "type": "histogram2d"
           }
          ],
          "histogram2dcontour": [
           {
            "colorbar": {
             "outlinewidth": 0,
             "ticks": ""
            },
            "colorscale": [
             [
              0,
              "#0d0887"
             ],
             [
              0.1111111111111111,
              "#46039f"
             ],
             [
              0.2222222222222222,
              "#7201a8"
             ],
             [
              0.3333333333333333,
              "#9c179e"
             ],
             [
              0.4444444444444444,
              "#bd3786"
             ],
             [
              0.5555555555555556,
              "#d8576b"
             ],
             [
              0.6666666666666666,
              "#ed7953"
             ],
             [
              0.7777777777777778,
              "#fb9f3a"
             ],
             [
              0.8888888888888888,
              "#fdca26"
             ],
             [
              1,
              "#f0f921"
             ]
            ],
            "type": "histogram2dcontour"
           }
          ],
          "mesh3d": [
           {
            "colorbar": {
             "outlinewidth": 0,
             "ticks": ""
            },
            "type": "mesh3d"
           }
          ],
          "parcoords": [
           {
            "line": {
             "colorbar": {
              "outlinewidth": 0,
              "ticks": ""
             }
            },
            "type": "parcoords"
           }
          ],
          "pie": [
           {
            "automargin": true,
            "type": "pie"
           }
          ],
          "scatter": [
           {
            "fillpattern": {
             "fillmode": "overlay",
             "size": 10,
             "solidity": 0.2
            },
            "type": "scatter"
           }
          ],
          "scatter3d": [
           {
            "line": {
             "colorbar": {
              "outlinewidth": 0,
              "ticks": ""
             }
            },
            "marker": {
             "colorbar": {
              "outlinewidth": 0,
              "ticks": ""
             }
            },
            "type": "scatter3d"
           }
          ],
          "scattercarpet": [
           {
            "marker": {
             "colorbar": {
              "outlinewidth": 0,
              "ticks": ""
             }
            },
            "type": "scattercarpet"
           }
          ],
          "scattergeo": [
           {
            "marker": {
             "colorbar": {
              "outlinewidth": 0,
              "ticks": ""
             }
            },
            "type": "scattergeo"
           }
          ],
          "scattergl": [
           {
            "marker": {
             "colorbar": {
              "outlinewidth": 0,
              "ticks": ""
             }
            },
            "type": "scattergl"
           }
          ],
          "scattermapbox": [
           {
            "marker": {
             "colorbar": {
              "outlinewidth": 0,
              "ticks": ""
             }
            },
            "type": "scattermapbox"
           }
          ],
          "scatterpolar": [
           {
            "marker": {
             "colorbar": {
              "outlinewidth": 0,
              "ticks": ""
             }
            },
            "type": "scatterpolar"
           }
          ],
          "scatterpolargl": [
           {
            "marker": {
             "colorbar": {
              "outlinewidth": 0,
              "ticks": ""
             }
            },
            "type": "scatterpolargl"
           }
          ],
          "scatterternary": [
           {
            "marker": {
             "colorbar": {
              "outlinewidth": 0,
              "ticks": ""
             }
            },
            "type": "scatterternary"
           }
          ],
          "surface": [
           {
            "colorbar": {
             "outlinewidth": 0,
             "ticks": ""
            },
            "colorscale": [
             [
              0,
              "#0d0887"
             ],
             [
              0.1111111111111111,
              "#46039f"
             ],
             [
              0.2222222222222222,
              "#7201a8"
             ],
             [
              0.3333333333333333,
              "#9c179e"
             ],
             [
              0.4444444444444444,
              "#bd3786"
             ],
             [
              0.5555555555555556,
              "#d8576b"
             ],
             [
              0.6666666666666666,
              "#ed7953"
             ],
             [
              0.7777777777777778,
              "#fb9f3a"
             ],
             [
              0.8888888888888888,
              "#fdca26"
             ],
             [
              1,
              "#f0f921"
             ]
            ],
            "type": "surface"
           }
          ],
          "table": [
           {
            "cells": {
             "fill": {
              "color": "#EBF0F8"
             },
             "line": {
              "color": "white"
             }
            },
            "header": {
             "fill": {
              "color": "#C8D4E3"
             },
             "line": {
              "color": "white"
             }
            },
            "type": "table"
           }
          ]
         },
         "layout": {
          "annotationdefaults": {
           "arrowcolor": "#2a3f5f",
           "arrowhead": 0,
           "arrowwidth": 1
          },
          "autotypenumbers": "strict",
          "coloraxis": {
           "colorbar": {
            "outlinewidth": 0,
            "ticks": ""
           }
          },
          "colorscale": {
           "diverging": [
            [
             0,
             "#8e0152"
            ],
            [
             0.1,
             "#c51b7d"
            ],
            [
             0.2,
             "#de77ae"
            ],
            [
             0.3,
             "#f1b6da"
            ],
            [
             0.4,
             "#fde0ef"
            ],
            [
             0.5,
             "#f7f7f7"
            ],
            [
             0.6,
             "#e6f5d0"
            ],
            [
             0.7,
             "#b8e186"
            ],
            [
             0.8,
             "#7fbc41"
            ],
            [
             0.9,
             "#4d9221"
            ],
            [
             1,
             "#276419"
            ]
           ],
           "sequential": [
            [
             0,
             "#0d0887"
            ],
            [
             0.1111111111111111,
             "#46039f"
            ],
            [
             0.2222222222222222,
             "#7201a8"
            ],
            [
             0.3333333333333333,
             "#9c179e"
            ],
            [
             0.4444444444444444,
             "#bd3786"
            ],
            [
             0.5555555555555556,
             "#d8576b"
            ],
            [
             0.6666666666666666,
             "#ed7953"
            ],
            [
             0.7777777777777778,
             "#fb9f3a"
            ],
            [
             0.8888888888888888,
             "#fdca26"
            ],
            [
             1,
             "#f0f921"
            ]
           ],
           "sequentialminus": [
            [
             0,
             "#0d0887"
            ],
            [
             0.1111111111111111,
             "#46039f"
            ],
            [
             0.2222222222222222,
             "#7201a8"
            ],
            [
             0.3333333333333333,
             "#9c179e"
            ],
            [
             0.4444444444444444,
             "#bd3786"
            ],
            [
             0.5555555555555556,
             "#d8576b"
            ],
            [
             0.6666666666666666,
             "#ed7953"
            ],
            [
             0.7777777777777778,
             "#fb9f3a"
            ],
            [
             0.8888888888888888,
             "#fdca26"
            ],
            [
             1,
             "#f0f921"
            ]
           ]
          },
          "colorway": [
           "#636efa",
           "#EF553B",
           "#00cc96",
           "#ab63fa",
           "#FFA15A",
           "#19d3f3",
           "#FF6692",
           "#B6E880",
           "#FF97FF",
           "#FECB52"
          ],
          "font": {
           "color": "#2a3f5f"
          },
          "geo": {
           "bgcolor": "white",
           "lakecolor": "white",
           "landcolor": "#E5ECF6",
           "showlakes": true,
           "showland": true,
           "subunitcolor": "white"
          },
          "hoverlabel": {
           "align": "left"
          },
          "hovermode": "closest",
          "mapbox": {
           "style": "light"
          },
          "paper_bgcolor": "white",
          "plot_bgcolor": "#E5ECF6",
          "polar": {
           "angularaxis": {
            "gridcolor": "white",
            "linecolor": "white",
            "ticks": ""
           },
           "bgcolor": "#E5ECF6",
           "radialaxis": {
            "gridcolor": "white",
            "linecolor": "white",
            "ticks": ""
           }
          },
          "scene": {
           "xaxis": {
            "backgroundcolor": "#E5ECF6",
            "gridcolor": "white",
            "gridwidth": 2,
            "linecolor": "white",
            "showbackground": true,
            "ticks": "",
            "zerolinecolor": "white"
           },
           "yaxis": {
            "backgroundcolor": "#E5ECF6",
            "gridcolor": "white",
            "gridwidth": 2,
            "linecolor": "white",
            "showbackground": true,
            "ticks": "",
            "zerolinecolor": "white"
           },
           "zaxis": {
            "backgroundcolor": "#E5ECF6",
            "gridcolor": "white",
            "gridwidth": 2,
            "linecolor": "white",
            "showbackground": true,
            "ticks": "",
            "zerolinecolor": "white"
           }
          },
          "shapedefaults": {
           "line": {
            "color": "#2a3f5f"
           }
          },
          "ternary": {
           "aaxis": {
            "gridcolor": "white",
            "linecolor": "white",
            "ticks": ""
           },
           "baxis": {
            "gridcolor": "white",
            "linecolor": "white",
            "ticks": ""
           },
           "bgcolor": "#E5ECF6",
           "caxis": {
            "gridcolor": "white",
            "linecolor": "white",
            "ticks": ""
           }
          },
          "title": {
           "x": 0.05
          },
          "xaxis": {
           "automargin": true,
           "gridcolor": "white",
           "linecolor": "white",
           "ticks": "",
           "title": {
            "standoff": 15
           },
           "zerolinecolor": "white",
           "zerolinewidth": 2
          },
          "yaxis": {
           "automargin": true,
           "gridcolor": "white",
           "linecolor": "white",
           "ticks": "",
           "title": {
            "standoff": 15
           },
           "zerolinecolor": "white",
           "zerolinewidth": 2
          }
         }
        },
        "title": {
         "text": "Top 10 Beers in 2000"
        },
        "width": 800,
        "xaxis": {
         "showline": true,
         "title": {
          "text": "New Rating"
         },
         "visible": true
        },
        "yaxis": {
         "showline": false,
         "title": {
          "text": "Top Beers"
         },
         "visible": false
        }
       }
      }
     },
     "metadata": {},
     "output_type": "display_data"
    }
   ],
   "source": [
    "import pandas as pd\n",
    "import plotly.graph_objects as go\n",
    "from random import sample\n",
    "\n",
    "\n",
    "# Initialize frames list and sliders dictionary\n",
    "frames = []\n",
    "sliders_dict = {\"steps\": []}\n",
    "beer_colors={}\n",
    "# Iterate over each year\n",
    "for year in range(2000, int(data['year'].max()) + 1):\n",
    "    \n",
    "    # Filter data by year\n",
    "    snap_data = data[data['year'] == year]\n",
    "    \n",
    "    # Sort by new_rating and get top 10\n",
    "    snap_data = snap_data.sort_values('new_rating', ascending=False).head(top_entries)\n",
    "    \n",
    "    # Sort by new_rating in ascending order\n",
    "    snap_data = snap_data.sort_values('new_rating', ascending=True)\n",
    "    \n",
    "    # Generate colors for unique beer names\n",
    "    for item in snap_data['beer_name'].unique():\n",
    "        if item not in beer_colors:\n",
    "            beer_colors[item] = 'rgb({}, {}, {})'.format(*sample(range(256), 3))\n",
    "    \n",
    "    snap_data['color'] = snap_data['beer_name'].map(beer_colors)\n",
    "    \n",
    "    max_rating_value = data['new_rating'].max()\n",
    "    # Create frame\n",
    "    frame = go.Frame(\n",
    "        data=[\n",
    "            go.Bar(\n",
    "                x=snap_data['new_rating'],\n",
    "                marker_color=snap_data['color'],\n",
    "                orientation='h',\n",
    "                hoverinfo='all',\n",
    "                text=snap_data['beer_name'],  # Texte pour chaque barre \n",
    "                textposition='outside',\n",
    "                width=0.5\n",
    "            )\n",
    "    ],\n",
    "        layout=go.Layout(\n",
    "            font={'size': 14},\n",
    "            plot_bgcolor='white',\n",
    "            xaxis={\n",
    "                'showline': True,\n",
    "                'visible': True,\n",
    "                'range': (0, max_rating_value + 1.5)  # Commentez ou supprimez cette ligne pour l'ajustement automatique\n",
    "            },\n",
    "            bargap=0,\n",
    "            bargroupgap=0,\n",
    "            yaxis={\n",
    "                'showline': True,\n",
    "                'visible': True,\n",
    "                'tickvals': list(range(0,11)),  # Inverser l'ordre de 10 à 1\n",
    "                'ticktext': list(range(10, 0, -1)),\n",
    "                'title_text': 'Top ' + str(top_entries) + ' Beers'\n",
    "            },\n",
    "            title=f'Top 10 Beers in {year} ',\n",
    "        ),\n",
    "        name=str(year),\n",
    ")\n",
    "\n",
    "    # Append frame to list of frames\n",
    "    frames.append(frame)\n",
    "    \n",
    "    # Define slider step\n",
    "    slider_step = {\n",
    "        \"args\": [\n",
    "            [str(year)],\n",
    "            {\n",
    "                \"frame\": {\n",
    "                    \"duration\": 300,\n",
    "                    \"redraw\": True\n",
    "                },\n",
    "                \"mode\": \"immediate\",\n",
    "                \"transition\": {\n",
    "                    \"duration\": 300\n",
    "                }\n",
    "            }\n",
    "        ],\n",
    "        \"label\": str(year),\n",
    "        \"method\": \"animate\"\n",
    "    }\n",
    "    # Append to sliders_dict\n",
    "    sliders_dict[\"steps\"].append(slider_step)\n",
    "\n",
    "# Create figure\n",
    "fig = go.Figure(\n",
    "    data=[go.Bar()],\n",
    "    frames=frames,\n",
    ")\n",
    "#Update layout with play and pause buttons\n",
    "fig.update_layout(\n",
    "    title='Top 10 Beers in 2000',  # Titre ajusté à 2000\n",
    "    font={'size': 15},\n",
    "    plot_bgcolor='white',\n",
    "    xaxis={\n",
    "        'showline': True,\n",
    "        'visible': True,\n",
    "        'title_text': 'New Rating',\n",
    "        # 'range': [0, max_rating_value+1]  # Commentez ou supprimez cette ligne pour l'ajustement automatique\n",
    "    },\n",
    "    yaxis={\n",
    "        'showline': False,\n",
    "        'visible': False,\n",
    "        'title_text': 'Top Beers'\n",
    "    },\n",
    "    height=800,\n",
    "    width=800,\n",
    "    margin=dict(\n",
    "        l=100,  # Ajustez cette valeur pour déplacer le slider vers la droite\n",
    "        t=50  # Ajustez cette valeur pour déplacer le slider vers le bas\n",
    "    ),\n",
    "    sliders=[sliders_dict]\n",
    ")\n",
    "fig.show()\n"
   ]
  },
  {
   "cell_type": "code",
   "execution_count": 319,
   "metadata": {},
   "outputs": [
    {
     "data": {
      "application/vnd.plotly.v1+json": {
       "config": {
        "plotlyServerURL": "https://plot.ly"
       },
       "data": [
        {
         "type": "bar"
        }
       ],
       "frames": [
        {
         "data": [
          {
           "hoverinfo": "all",
           "marker": {
            "color": [
             "rgb(252, 67, 19)",
             "rgb(109, 240, 120)",
             "rgb(175, 172, 90)",
             "rgb(71, 231, 56)",
             "rgb(60, 33, 221)",
             "rgb(136, 16, 11)",
             "rgb(211, 118, 90)",
             "rgb(151, 165, 115)",
             "rgb(82, 254, 84)",
             "rgb(38, 243, 149)"
            ]
           },
           "orientation": "h",
           "text": [
            "Smuttynose Portsmouth Lager",
            "Wellington Iron Duke Strong Ale",
            "Beck's Oktoberfest",
            "Unibroue Blanche de Chambly",
            "Guinness Extra Stout (North America)",
            "Alley Kat Scona Gold",
            "Unibroue Maudite",
            "Unibroue Eau Bénite",
            "Unibroue La Fin du Monde",
            "Weihenstephaner Original"
           ],
           "textposition": "outside",
           "type": "bar",
           "width": 0.5,
           "x": [
            0.0856980269090535,
            0.1413983790078688,
            0.1474960597172014,
            0.2916820056995468,
            0.3633911590367735,
            0.4020559589920901,
            0.7832398558263911,
            0.7922630921178851,
            0.8024114516969543,
            1.2724582070724737
           ]
          }
         ],
         "layout": {
          "bargap": 0,
          "bargroupgap": 0,
          "font": {
           "size": 14
          },
          "plot_bgcolor": "white",
          "title": {
           "text": "Top 10 Beers in 2000"
          },
          "xaxis": {
           "range": [
            0,
            4.296358605054868
           ],
           "showline": true,
           "visible": true
          },
          "yaxis": {
           "showline": true,
           "ticktext": [
            10,
            9,
            8,
            7,
            6,
            5,
            4,
            3,
            2,
            1
           ],
           "tickvals": [
            0,
            1,
            2,
            3,
            4,
            5,
            6,
            7,
            8,
            9,
            10
           ],
           "title": {
            "text": "Top 10 Beers"
           },
           "visible": true
          }
         },
         "name": "2000"
        },
        {
         "data": [
          {
           "hoverinfo": "all",
           "marker": {
            "color": [
             "rgb(252, 67, 19)",
             "rgb(109, 240, 120)",
             "rgb(175, 172, 90)",
             "rgb(71, 231, 56)",
             "rgb(60, 33, 221)",
             "rgb(136, 16, 11)",
             "rgb(211, 118, 90)",
             "rgb(151, 165, 115)",
             "rgb(82, 254, 84)",
             "rgb(38, 243, 149)"
            ]
           },
           "orientation": "h",
           "text": [
            "Smuttynose Portsmouth Lager",
            "Wellington Iron Duke Strong Ale",
            "Beck's Oktoberfest",
            "Unibroue Blanche de Chambly",
            "Guinness Extra Stout (North America)",
            "Alley Kat Scona Gold",
            "Unibroue Maudite",
            "Unibroue Eau Bénite",
            "Unibroue La Fin du Monde",
            "Weihenstephaner Original"
           ],
           "textposition": "outside",
           "type": "bar",
           "width": 0.5,
           "x": [
            0.0856980269090535,
            0.1413983790078688,
            0.1474960597172014,
            0.2916820056995468,
            0.3633911590367735,
            0.4020559589920901,
            0.7832398558263911,
            0.7922630921178851,
            0.8024114516969543,
            1.2724582070724737
           ]
          }
         ],
         "layout": {
          "bargap": 0,
          "bargroupgap": 0,
          "font": {
           "size": 14
          },
          "plot_bgcolor": "white",
          "title": {
           "text": "Top 10 Beers in 2000"
          },
          "xaxis": {
           "range": [
            0,
            4.296358605054868
           ],
           "showline": true,
           "visible": true
          },
          "yaxis": {
           "showline": true,
           "ticktext": [
            10,
            9,
            8,
            7,
            6,
            5,
            4,
            3,
            2,
            1
           ],
           "tickvals": [
            0,
            1,
            2,
            3,
            4,
            5,
            6,
            7,
            8,
            9,
            10
           ],
           "title": {
            "text": "Top 10 Beers"
           },
           "visible": true
          }
         },
         "name": "2000"
        },
        {
         "data": [
          {
           "hoverinfo": "all",
           "marker": {
            "color": [
             "rgb(158, 16, 76)",
             "rgb(38, 237, 131)",
             "rgb(236, 126, 193)",
             "rgb(151, 165, 115)",
             "rgb(177, 250, 234)",
             "rgb(114, 1, 158)",
             "rgb(237, 38, 24)",
             "rgb(11, 178, 137)",
             "rgb(245, 24, 243)",
             "rgb(202, 120, 14)"
            ]
           },
           "orientation": "h",
           "text": [
            "Olands Premium Red Draught",
            "Apollo Pilsner",
            "Wellington Imperial Russian Stout",
            "Unibroue Eau Bénite",
            "Samuel Smith's Organic Best Ale",
            "Hancock Old Gambrinus Beer Light",
            "Paulaner Oktoberfest-Märzen",
            "Ayinger Celebrator Doppelbock",
            "Creemore Springs Premium Lager",
            "Okanagan Spring Pale Ale"
           ],
           "textposition": "outside",
           "type": "bar",
           "width": 0.5,
           "x": [
            0.9785837672582662,
            1.0058875532587828,
            1.063970250411699,
            1.0725839073783556,
            1.1062115555022047,
            1.1406137542872845,
            1.1540869577021826,
            1.2406882489229227,
            1.292176928309711,
            1.6237857546298675
           ]
          }
         ],
         "layout": {
          "bargap": 0,
          "bargroupgap": 0,
          "font": {
           "size": 14
          },
          "plot_bgcolor": "white",
          "title": {
           "text": "Top 10 Beers in 2001"
          },
          "xaxis": {
           "range": [
            0,
            4.296358605054868
           ],
           "showline": true,
           "visible": true
          },
          "yaxis": {
           "showline": true,
           "ticktext": [
            10,
            9,
            8,
            7,
            6,
            5,
            4,
            3,
            2,
            1
           ],
           "tickvals": [
            0,
            1,
            2,
            3,
            4,
            5,
            6,
            7,
            8,
            9,
            10
           ],
           "title": {
            "text": "Top 10 Beers"
           },
           "visible": true
          }
         },
         "name": "2001"
        },
        {
         "data": [
          {
           "hoverinfo": "all",
           "marker": {
            "color": [
             "rgb(248, 220, 47)",
             "rgb(113, 231, 53)",
             "rgb(91, 127, 155)",
             "rgb(83, 251, 184)",
             "rgb(57, 42, 41)",
             "rgb(181, 143, 109)",
             "rgb(148, 90, 83)",
             "rgb(228, 203, 23)",
             "rgb(70, 255, 50)",
             "rgb(45, 42, 25)"
            ]
           },
           "orientation": "h",
           "text": [
            "Traquair House Ale",
            "Noche Buena",
            "Rickards Gold",
            "Schwarzer Abt",
            "Thomas Hardy's Ale (1968-1999)",
            "Upper Canada Dark Ale",
            "Hancock Old Gambrinus Beer Dark",
            "Le Cheval Blanc Bière dHiver",
            "Brava Cerveza",
            "Casta Bruna"
           ],
           "textposition": "outside",
           "type": "bar",
           "width": 0.5,
           "x": [
            1.0971892330254818,
            1.117999273528437,
            1.1892809268470006,
            1.1946513838248962,
            1.2298686075598522,
            1.2363237954738322,
            1.2464736767652496,
            1.296739938062742,
            1.3506758306197617,
            1.7157031714601243
           ]
          }
         ],
         "layout": {
          "bargap": 0,
          "bargroupgap": 0,
          "font": {
           "size": 14
          },
          "plot_bgcolor": "white",
          "title": {
           "text": "Top 10 Beers in 2002"
          },
          "xaxis": {
           "range": [
            0,
            4.296358605054868
           ],
           "showline": true,
           "visible": true
          },
          "yaxis": {
           "showline": true,
           "ticktext": [
            10,
            9,
            8,
            7,
            6,
            5,
            4,
            3,
            2,
            1
           ],
           "tickvals": [
            0,
            1,
            2,
            3,
            4,
            5,
            6,
            7,
            8,
            9,
            10
           ],
           "title": {
            "text": "Top 10 Beers"
           },
           "visible": true
          }
         },
         "name": "2002"
        },
        {
         "data": [
          {
           "hoverinfo": "all",
           "marker": {
            "color": [
             "rgb(156, 159, 81)",
             "rgb(215, 182, 217)",
             "rgb(36, 242, 226)",
             "rgb(9, 180, 249)",
             "rgb(148, 90, 83)",
             "rgb(57, 216, 144)",
             "rgb(160, 164, 50)",
             "rgb(217, 72, 206)",
             "rgb(102, 165, 72)",
             "rgb(94, 142, 114)"
            ]
           },
           "orientation": "h",
           "text": [
            "Éphémère (Cranberry)",
            "Trappistes Rochefort 10",
            "Thornbury Pickup No. 26 Pilsener",
            "Brooklyn Black Chocolate Stout",
            "Hancock Old Gambrinus Beer Dark",
            "Harvest Ale (Limited Edition)",
            "Trafalgar Winter Warmer",
            "Tsingtao Dark",
            "Ørbæk Påskebryg",
            "Val-Dieu Triple"
           ],
           "textposition": "outside",
           "type": "bar",
           "width": 0.5,
           "x": [
            1.020106685335022,
            1.0497129223965398,
            1.051065535567698,
            1.0984893371560656,
            1.0993684957865837,
            1.1365903819140273,
            1.1370635087602423,
            1.138117036597784,
            1.141220885476117,
            1.1624204770873334
           ]
          }
         ],
         "layout": {
          "bargap": 0,
          "bargroupgap": 0,
          "font": {
           "size": 14
          },
          "plot_bgcolor": "white",
          "title": {
           "text": "Top 10 Beers in 2003"
          },
          "xaxis": {
           "range": [
            0,
            4.296358605054868
           ],
           "showline": true,
           "visible": true
          },
          "yaxis": {
           "showline": true,
           "ticktext": [
            10,
            9,
            8,
            7,
            6,
            5,
            4,
            3,
            2,
            1
           ],
           "tickvals": [
            0,
            1,
            2,
            3,
            4,
            5,
            6,
            7,
            8,
            9,
            10
           ],
           "title": {
            "text": "Top 10 Beers"
           },
           "visible": true
          }
         },
         "name": "2003"
        },
        {
         "data": [
          {
           "hoverinfo": "all",
           "marker": {
            "color": [
             "rgb(34, 190, 107)",
             "rgb(147, 75, 247)",
             "rgb(134, 30, 181)",
             "rgb(215, 182, 217)",
             "rgb(161, 188, 201)",
             "rgb(225, 126, 199)",
             "rgb(210, 147, 144)",
             "rgb(18, 22, 146)",
             "rgb(156, 159, 81)",
             "rgb(83, 72, 93)"
            ]
           },
           "orientation": "h",
           "text": [
            "Bièropholie Bock Émissaire",
            "Unibroue Seigneuriale",
            "Yo-Ho Yona Yona Ale",
            "Trappistes Rochefort 10",
            "Coopers Sparkling Ale",
            "De Dolle Speciaal Brouwsel 20",
            "Dieu du Ciel Péché Mortel",
            "Olands Export Ale",
            "Éphémère (Cranberry)",
            "Picaroons Irish Red"
           ],
           "textposition": "outside",
           "type": "bar",
           "width": 0.5,
           "x": [
            1.1189133450981463,
            1.1516669950713043,
            1.1528166236042097,
            1.1716356265310237,
            1.1741023273154845,
            1.1760713745592537,
            1.217131086340976,
            1.276741053311066,
            1.3539639927626284,
            1.7084785431180471
           ]
          }
         ],
         "layout": {
          "bargap": 0,
          "bargroupgap": 0,
          "font": {
           "size": 14
          },
          "plot_bgcolor": "white",
          "title": {
           "text": "Top 10 Beers in 2004"
          },
          "xaxis": {
           "range": [
            0,
            4.296358605054868
           ],
           "showline": true,
           "visible": true
          },
          "yaxis": {
           "showline": true,
           "ticktext": [
            10,
            9,
            8,
            7,
            6,
            5,
            4,
            3,
            2,
            1
           ],
           "tickvals": [
            0,
            1,
            2,
            3,
            4,
            5,
            6,
            7,
            8,
            9,
            10
           ],
           "title": {
            "text": "Top 10 Beers"
           },
           "visible": true
          }
         },
         "name": "2004"
        },
        {
         "data": [
          {
           "hoverinfo": "all",
           "marker": {
            "color": [
             "rgb(62, 254, 178)",
             "rgb(70, 161, 77)",
             "rgb(9, 180, 249)",
             "rgb(72, 104, 60)",
             "rgb(151, 191, 203)",
             "rgb(150, 102, 175)",
             "rgb(35, 135, 80)",
             "rgb(149, 215, 68)",
             "rgb(54, 231, 184)",
             "rgb(185, 201, 148)"
            ]
           },
           "orientation": "h",
           "text": [
            "WinterCoat Oatmeal Stout",
            "Mai Bock",
            "Brooklyn Black Chocolate Stout",
            "Cantillon Spuyten Duyvil",
            "Scotch Irish Tsarina Katarina Imperial Stout",
            "Fuller's Special Edition ESB",
            "Lions Winter Ale",
            "Ursus Pils",
            "Gale's Jubilee Ale (2002)",
            "Panil Barriquée  (Italy Version)"
           ],
           "textposition": "outside",
           "type": "bar",
           "width": 0.5,
           "x": [
            1.128126928846783,
            1.1301521826016678,
            1.146847234543368,
            1.148323250291148,
            1.1483720433411242,
            1.1580044374770952,
            1.187508763872131,
            1.2330532509224803,
            1.3158032691133454,
            1.3961302319078674
           ]
          }
         ],
         "layout": {
          "bargap": 0,
          "bargroupgap": 0,
          "font": {
           "size": 14
          },
          "plot_bgcolor": "white",
          "title": {
           "text": "Top 10 Beers in 2005"
          },
          "xaxis": {
           "range": [
            0,
            4.296358605054868
           ],
           "showline": true,
           "visible": true
          },
          "yaxis": {
           "showline": true,
           "ticktext": [
            10,
            9,
            8,
            7,
            6,
            5,
            4,
            3,
            2,
            1
           ],
           "tickvals": [
            0,
            1,
            2,
            3,
            4,
            5,
            6,
            7,
            8,
            9,
            10
           ],
           "title": {
            "text": "Top 10 Beers"
           },
           "visible": true
          }
         },
         "name": "2005"
        },
        {
         "data": [
          {
           "hoverinfo": "all",
           "marker": {
            "color": [
             "rgb(138, 200, 214)",
             "rgb(250, 76, 143)",
             "rgb(134, 42, 218)",
             "rgb(235, 136, 25)",
             "rgb(153, 194, 51)",
             "rgb(44, 98, 223)",
             "rgb(92, 126, 169)",
             "rgb(50, 85, 67)",
             "rgb(100, 163, 206)",
             "rgb(132, 122, 47)"
            ]
           },
           "orientation": "h",
           "text": [
            "Smuggler's Ale",
            "Little Creatures Pale Ale",
            "Nickel Brook Ale (pre 2009)",
            "Bièropholie IPA",
            "Granville Island GIBitter",
            "Urbock 23°",
            "Birrificio Italiano Tipopils",
            "Phillips Amnesiac Double IPA",
            "Bedondaine et Bedons Ronds Reyne Descosse",
            "Lakeport Pilsener"
           ],
           "textposition": "outside",
           "type": "bar",
           "width": 0.5,
           "x": [
            1.1013018745460426,
            1.1081949452181952,
            1.10970020597058,
            1.1429170607485464,
            1.1814772124502742,
            1.1951664258337198,
            1.224148644787213,
            1.224792193965514,
            1.2294622768994474,
            1.2311662394036298
           ]
          }
         ],
         "layout": {
          "bargap": 0,
          "bargroupgap": 0,
          "font": {
           "size": 14
          },
          "plot_bgcolor": "white",
          "title": {
           "text": "Top 10 Beers in 2006"
          },
          "xaxis": {
           "range": [
            0,
            4.296358605054868
           ],
           "showline": true,
           "visible": true
          },
          "yaxis": {
           "showline": true,
           "ticktext": [
            10,
            9,
            8,
            7,
            6,
            5,
            4,
            3,
            2,
            1
           ],
           "tickvals": [
            0,
            1,
            2,
            3,
            4,
            5,
            6,
            7,
            8,
            9,
            10
           ],
           "title": {
            "text": "Top 10 Beers"
           },
           "visible": true
          }
         },
         "name": "2006"
        },
        {
         "data": [
          {
           "hoverinfo": "all",
           "marker": {
            "color": [
             "rgb(248, 2, 174)",
             "rgb(14, 234, 20)",
             "rgb(66, 125, 85)",
             "rgb(120, 83, 166)",
             "rgb(44, 77, 236)",
             "rgb(88, 216, 62)",
             "rgb(25, 185, 6)",
             "rgb(214, 65, 184)",
             "rgb(29, 88, 6)",
             "rgb(248, 216, 159)"
            ]
           },
           "orientation": "h",
           "text": [
            "Sanctification",
            "Drie Fonteinen Millennium Geuze",
            "La Lièvre IPA",
            "Ølfabrikken Gammel Ekstra Porter",
            "Abbaye De Saint Bon-Chien",
            "Schneider Weisse Tap 1 Mein Blondes",
            "Side Launch Wheat",
            "Original Stieglbock",
            "Les Trois Mousquetaires G.C. Porter Baltique",
            "Innis & Gunn Limited Edition 2005"
           ],
           "textposition": "outside",
           "type": "bar",
           "width": 0.5,
           "x": [
            1.2396660302431133,
            1.2500517929893469,
            1.2669803376987006,
            1.2687902499092345,
            1.2801873813826143,
            1.296022595401119,
            1.3128778567226451,
            1.321458650317355,
            1.3320290468008888,
            1.4208028086796662
           ]
          }
         ],
         "layout": {
          "bargap": 0,
          "bargroupgap": 0,
          "font": {
           "size": 14
          },
          "plot_bgcolor": "white",
          "title": {
           "text": "Top 10 Beers in 2007"
          },
          "xaxis": {
           "range": [
            0,
            4.296358605054868
           ],
           "showline": true,
           "visible": true
          },
          "yaxis": {
           "showline": true,
           "ticktext": [
            10,
            9,
            8,
            7,
            6,
            5,
            4,
            3,
            2,
            1
           ],
           "tickvals": [
            0,
            1,
            2,
            3,
            4,
            5,
            6,
            7,
            8,
            9,
            10
           ],
           "title": {
            "text": "Top 10 Beers"
           },
           "visible": true
          }
         },
         "name": "2007"
        },
        {
         "data": [
          {
           "hoverinfo": "all",
           "marker": {
            "color": [
             "rgb(193, 86, 92)",
             "rgb(7, 157, 191)",
             "rgb(168, 205, 5)",
             "rgb(8, 232, 0)",
             "rgb(197, 215, 225)",
             "rgb(148, 141, 223)",
             "rgb(154, 211, 66)",
             "rgb(109, 68, 92)",
             "rgb(74, 38, 166)",
             "rgb(220, 111, 79)"
            ]
           },
           "orientation": "h",
           "text": [
            "Old Crafty Hen",
            "Neumarkter Lammsbräu (Organic) Dunkel",
            "Terrapin Big Sloppy Monster",
            "Baladin Xyauyù Etichetta Rame (Copper Label)",
            "Consecration",
            "Half Pints Bulldog Amber Ale",
            "Baeren Rye",
            "Mean Manalishi Double I.P.A.",
            "Alley Kat Bad Hare Day",
            "Kosmyk Charlie's Y2K Catastrophe Ale"
           ],
           "textposition": "outside",
           "type": "bar",
           "width": 0.5,
           "x": [
            1.1670864372733072,
            1.1766039835149418,
            1.1919126098650494,
            1.2012607567449864,
            1.2064338315271683,
            1.207766811476634,
            1.2547272238898888,
            1.377381643490348,
            1.391734911093819,
            1.4392218691560568
           ]
          }
         ],
         "layout": {
          "bargap": 0,
          "bargroupgap": 0,
          "font": {
           "size": 14
          },
          "plot_bgcolor": "white",
          "title": {
           "text": "Top 10 Beers in 2008"
          },
          "xaxis": {
           "range": [
            0,
            4.296358605054868
           ],
           "showline": true,
           "visible": true
          },
          "yaxis": {
           "showline": true,
           "ticktext": [
            10,
            9,
            8,
            7,
            6,
            5,
            4,
            3,
            2,
            1
           ],
           "tickvals": [
            0,
            1,
            2,
            3,
            4,
            5,
            6,
            7,
            8,
            9,
            10
           ],
           "title": {
            "text": "Top 10 Beers"
           },
           "visible": true
          }
         },
         "name": "2008"
        },
        {
         "data": [
          {
           "hoverinfo": "all",
           "marker": {
            "color": [
             "rgb(204, 123, 62)",
             "rgb(43, 168, 224)",
             "rgb(233, 162, 126)",
             "rgb(35, 84, 91)",
             "rgb(251, 113, 141)",
             "rgb(221, 202, 134)",
             "rgb(27, 174, 79)",
             "rgb(164, 109, 137)",
             "rgb(215, 234, 206)",
             "rgb(30, 241, 76)"
            ]
           },
           "orientation": "h",
           "text": [
            "Søgaards Trippel",
            "Primátor Premium",
            "Dieu du Ciel Solstice dÉté aux Framboises",
            "Southampton Grand Cru",
            "Driftwood Sartori Harvest IPA",
            "Granville Island Merry Monks Dopplebock",
            "RJ Le Cheval Blanc Snoreau",
            "Old Engine Oil Special Reserve (Aged In Malt Whiskey Casks)",
            "Borefts Bok 2009",
            "Lvivske Porter"
           ],
           "textposition": "outside",
           "type": "bar",
           "width": 0.5,
           "x": [
            1.2338471807274276,
            1.2393466430040996,
            1.2454384142571973,
            1.2469121186642012,
            1.2824851557175203,
            1.325754327205307,
            1.3561829163911925,
            1.372316618062027,
            1.381964656606547,
            1.8194648164280256
           ]
          }
         ],
         "layout": {
          "bargap": 0,
          "bargroupgap": 0,
          "font": {
           "size": 14
          },
          "plot_bgcolor": "white",
          "title": {
           "text": "Top 10 Beers in 2009"
          },
          "xaxis": {
           "range": [
            0,
            4.296358605054868
           ],
           "showline": true,
           "visible": true
          },
          "yaxis": {
           "showline": true,
           "ticktext": [
            10,
            9,
            8,
            7,
            6,
            5,
            4,
            3,
            2,
            1
           ],
           "tickvals": [
            0,
            1,
            2,
            3,
            4,
            5,
            6,
            7,
            8,
            9,
            10
           ],
           "title": {
            "text": "Top 10 Beers"
           },
           "visible": true
          }
         },
         "name": "2009"
        },
        {
         "data": [
          {
           "hoverinfo": "all",
           "marker": {
            "color": [
             "rgb(90, 248, 124)",
             "rgb(40, 37, 152)",
             "rgb(130, 68, 140)",
             "rgb(215, 117, 127)",
             "rgb(67, 200, 37)",
             "rgb(213, 227, 131)",
             "rgb(81, 31, 167)",
             "rgb(175, 246, 20)",
             "rgb(79, 75, 145)",
             "rgb(121, 31, 93)"
            ]
           },
           "orientation": "h",
           "text": [
            "Captivator Doppelbock",
            "Toccalmatto Sibilla",
            "Birrificio del Ducato LUltima Luna",
            "La Trappe Quadrupel (Oak Aged)",
            "Toccalmatto Stray Dog No Rules Bitter",
            "Charlevoix Dominus Vobiscum Brut",
            "Birra del Borgo ReAle Extra",
            "Saison Du Tracteur",
            "Bedondaine et Bedons Ronds Reyne Descosse Gelée",
            "Piccolo Birrificio Ego"
           ],
           "textposition": "outside",
           "type": "bar",
           "width": 0.5,
           "x": [
            1.289513947212004,
            1.3022892741280632,
            1.3504165952011944,
            1.3695815104674731,
            1.4186131609391872,
            1.4294349003691191,
            1.5284823417762363,
            1.5542583799019265,
            1.7288080087834743,
            1.7654250681805317
           ]
          }
         ],
         "layout": {
          "bargap": 0,
          "bargroupgap": 0,
          "font": {
           "size": 14
          },
          "plot_bgcolor": "white",
          "title": {
           "text": "Top 10 Beers in 2010"
          },
          "xaxis": {
           "range": [
            0,
            4.296358605054868
           ],
           "showline": true,
           "visible": true
          },
          "yaxis": {
           "showline": true,
           "ticktext": [
            10,
            9,
            8,
            7,
            6,
            5,
            4,
            3,
            2,
            1
           ],
           "tickvals": [
            0,
            1,
            2,
            3,
            4,
            5,
            6,
            7,
            8,
            9,
            10
           ],
           "title": {
            "text": "Top 10 Beers"
           },
           "visible": true
          }
         },
         "name": "2010"
        },
        {
         "data": [
          {
           "hoverinfo": "all",
           "marker": {
            "color": [
             "rgb(28, 247, 172)",
             "rgb(195, 175, 186)",
             "rgb(43, 68, 225)",
             "rgb(32, 1, 174)",
             "rgb(7, 210, 168)",
             "rgb(175, 227, 207)",
             "rgb(43, 154, 82)",
             "rgb(16, 79, 44)",
             "rgb(14, 234, 20)",
             "rgb(61, 97, 71)"
            ]
           },
           "orientation": "h",
           "text": [
            "Tipo Pils",
            "Cantillon Blåbær Lambik",
            "Les Brasseurs du Temps Mea Magna Culpa",
            "Cantillon Don Quijote",
            "Ølfabrikken Petit Blau",
            "Montegioco Quarta Runa",
            "Eichbaum Pilsener",
            "Drie Fonteinen Oude Geuze 1998 (50th Anniversary)",
            "Drie Fonteinen Millennium Geuze",
            "Beer Here / Raasted Bukkake"
           ],
           "textposition": "outside",
           "type": "bar",
           "width": 0.5,
           "x": [
            1.2600744288590362,
            1.265080505108473,
            1.301966246878607,
            1.3262397837477289,
            1.333344904716972,
            1.347954076030384,
            1.3505600121785313,
            1.4710240611434864,
            1.703014364073218,
            2.253825333425378
           ]
          }
         ],
         "layout": {
          "bargap": 0,
          "bargroupgap": 0,
          "font": {
           "size": 14
          },
          "plot_bgcolor": "white",
          "title": {
           "text": "Top 10 Beers in 2011"
          },
          "xaxis": {
           "range": [
            0,
            4.296358605054868
           ],
           "showline": true,
           "visible": true
          },
          "yaxis": {
           "showline": true,
           "ticktext": [
            10,
            9,
            8,
            7,
            6,
            5,
            4,
            3,
            2,
            1
           ],
           "tickvals": [
            0,
            1,
            2,
            3,
            4,
            5,
            6,
            7,
            8,
            9,
            10
           ],
           "title": {
            "text": "Top 10 Beers"
           },
           "visible": true
          }
         },
         "name": "2011"
        },
        {
         "data": [
          {
           "hoverinfo": "all",
           "marker": {
            "color": [
             "rgb(132, 107, 166)",
             "rgb(102, 79, 57)",
             "rgb(77, 167, 134)",
             "rgb(176, 115, 189)",
             "rgb(39, 135, 174)",
             "rgb(16, 79, 44)",
             "rgb(73, 205, 234)",
             "rgb(74, 240, 45)",
             "rgb(48, 184, 8)",
             "rgb(216, 96, 82)"
            ]
           },
           "orientation": "h",
           "text": [
            "Ann",
            "Depuration",
            "Black Tokyo Horizon",
            "Le Cheval Blanc Double Bonheur",
            "Whistler Chocolate Winter Dunkel",
            "Drie Fonteinen Oude Geuze 1998 (50th Anniversary)",
            "Watermelon Warhead",
            "Kamenitza Lev",
            "L'Amoureuse Rouge",
            "Cantillon Loerik"
           ],
           "textposition": "outside",
           "type": "bar",
           "width": 0.5,
           "x": [
            1.3265020252683697,
            1.3490384193077791,
            1.364564975250266,
            1.3688333984444223,
            1.369805348429683,
            1.3975667870645416,
            1.4323060786846682,
            1.457841090882981,
            1.4672320479745289,
            1.5564273480419248
           ]
          }
         ],
         "layout": {
          "bargap": 0,
          "bargroupgap": 0,
          "font": {
           "size": 14
          },
          "plot_bgcolor": "white",
          "title": {
           "text": "Top 10 Beers in 2012"
          },
          "xaxis": {
           "range": [
            0,
            4.296358605054868
           ],
           "showline": true,
           "visible": true
          },
          "yaxis": {
           "showline": true,
           "ticktext": [
            10,
            9,
            8,
            7,
            6,
            5,
            4,
            3,
            2,
            1
           ],
           "tickvals": [
            0,
            1,
            2,
            3,
            4,
            5,
            6,
            7,
            8,
            9,
            10
           ],
           "title": {
            "text": "Top 10 Beers"
           },
           "visible": true
          }
         },
         "name": "2012"
        },
        {
         "data": [
          {
           "hoverinfo": "all",
           "marker": {
            "color": [
             "rgb(217, 148, 64)",
             "rgb(177, 187, 146)",
             "rgb(254, 11, 90)",
             "rgb(248, 5, 84)",
             "rgb(243, 143, 43)",
             "rgb(19, 11, 219)",
             "rgb(182, 250, 136)",
             "rgb(65, 208, 6)",
             "rgb(214, 11, 22)",
             "rgb(125, 36, 106)"
            ]
           },
           "orientation": "h",
           "text": [
            "Tamamura-Honten Yamabushi Saison 1 Aged in Oak Barrels",
            "Rapture",
            "Cantillon Bruocsella (1900) Grand Cru",
            "Brasseurs du Monde Gamme Festive Célébrante",
            "Innis & Gunn Spiced Rum Aged",
            "Bavarias Best Imperial Stout",
            "Collesi 1970 Ambrata",
            "Svaneke Julebryg",
            "Edward",
            "Birra del Borgo Perle ai Porci (Pearls for Pigs)"
           ],
           "textposition": "outside",
           "type": "bar",
           "width": 0.5,
           "x": [
            1.3746493096975472,
            1.4041402200725015,
            1.4570126267878116,
            1.4741651011372767,
            1.493197763699144,
            1.5596210420758312,
            1.6521573868793042,
            1.6747480446151457,
            1.784840369968013,
            2.510691214725717
           ]
          }
         ],
         "layout": {
          "bargap": 0,
          "bargroupgap": 0,
          "font": {
           "size": 14
          },
          "plot_bgcolor": "white",
          "title": {
           "text": "Top 10 Beers in 2013"
          },
          "xaxis": {
           "range": [
            0,
            4.296358605054868
           ],
           "showline": true,
           "visible": true
          },
          "yaxis": {
           "showline": true,
           "ticktext": [
            10,
            9,
            8,
            7,
            6,
            5,
            4,
            3,
            2,
            1
           ],
           "tickvals": [
            0,
            1,
            2,
            3,
            4,
            5,
            6,
            7,
            8,
            9,
            10
           ],
           "title": {
            "text": "Top 10 Beers"
           },
           "visible": true
          }
         },
         "name": "2013"
        },
        {
         "data": [
          {
           "hoverinfo": "all",
           "marker": {
            "color": [
             "rgb(64, 186, 235)",
             "rgb(20, 103, 238)",
             "rgb(195, 175, 186)",
             "rgb(236, 71, 220)",
             "rgb(172, 109, 45)",
             "rgb(101, 15, 36)",
             "rgb(72, 104, 60)",
             "rgb(16, 225, 219)",
             "rgb(118, 60, 181)",
             "rgb(151, 228, 252)"
            ]
           },
           "orientation": "h",
           "text": [
            "Cantillon Crianza Helena",
            "Melbourne Bitter",
            "Cantillon Blåbær Lambik",
            "Schneider Weisse Tap 6 Unser Aventinus",
            "Minerva Colonial",
            "Wicked Juju",
            "Cantillon Spuyten Duyvil",
            "Extraomnes Saison",
            "Molson Standard Lager",
            "Mandøl Smagen af Mandø"
           ],
           "textposition": "outside",
           "type": "bar",
           "width": 0.5,
           "x": [
            1.481905996838515,
            1.4953778917662726,
            1.498668519392976,
            1.5958805494661334,
            1.6764028325986928,
            1.7425096415533683,
            1.7429667157083328,
            1.8860097723067208,
            1.9268002384767275,
            2.796358605054868
           ]
          }
         ],
         "layout": {
          "bargap": 0,
          "bargroupgap": 0,
          "font": {
           "size": 14
          },
          "plot_bgcolor": "white",
          "title": {
           "text": "Top 10 Beers in 2014"
          },
          "xaxis": {
           "range": [
            0,
            4.296358605054868
           ],
           "showline": true,
           "visible": true
          },
          "yaxis": {
           "showline": true,
           "ticktext": [
            10,
            9,
            8,
            7,
            6,
            5,
            4,
            3,
            2,
            1
           ],
           "tickvals": [
            0,
            1,
            2,
            3,
            4,
            5,
            6,
            7,
            8,
            9,
            10
           ],
           "title": {
            "text": "Top 10 Beers"
           },
           "visible": true
          }
         },
         "name": "2014"
        },
        {
         "data": [
          {
           "hoverinfo": "all",
           "marker": {
            "color": [
             "rgb(251, 113, 141)",
             "rgb(187, 41, 17)",
             "rgb(226, 61, 214)",
             "rgb(140, 94, 14)",
             "rgb(248, 2, 174)",
             "rgb(40, 212, 252)",
             "rgb(194, 111, 185)",
             "rgb(71, 231, 56)",
             "rgb(89, 245, 215)",
             "rgb(93, 255, 99)"
            ]
           },
           "orientation": "h",
           "text": [
            "Driftwood Sartori Harvest IPA",
            "Flying Monkeys City and Colour",
            "Buxton / Omnipollo Yellow Belly Sundae",
            "Dunham Saison Réserve",
            "Sanctification",
            "Charlevoix Dominus Vobiscum Lupulus",
            "Saison Bernice",
            "Unibroue Blanche de Chambly",
            "Four Winds Phaedra Rye Wheat IPA",
            "Opperbacco Blanche de Lotario"
           ],
           "textposition": "outside",
           "type": "bar",
           "width": 0.5,
           "x": [
            1.5676276553776711,
            1.5751038516002658,
            1.622719541991331,
            1.623539297914094,
            1.6258817104558627,
            1.6387533424741991,
            1.6738321718245197,
            1.70740160723289,
            1.7625116163067636,
            1.82482572270457
           ]
          }
         ],
         "layout": {
          "bargap": 0,
          "bargroupgap": 0,
          "font": {
           "size": 14
          },
          "plot_bgcolor": "white",
          "title": {
           "text": "Top 10 Beers in 2015"
          },
          "xaxis": {
           "range": [
            0,
            4.296358605054868
           ],
           "showline": true,
           "visible": true
          },
          "yaxis": {
           "showline": true,
           "ticktext": [
            10,
            9,
            8,
            7,
            6,
            5,
            4,
            3,
            2,
            1
           ],
           "tickvals": [
            0,
            1,
            2,
            3,
            4,
            5,
            6,
            7,
            8,
            9,
            10
           ],
           "title": {
            "text": "Top 10 Beers"
           },
           "visible": true
          }
         },
         "name": "2015"
        },
        {
         "data": [
          {
           "hoverinfo": "all",
           "marker": {
            "color": [
             "rgb(239, 31, 230)",
             "rgb(181, 95, 118)",
             "rgb(157, 227, 51)",
             "rgb(25, 194, 39)",
             "rgb(48, 41, 31)",
             "rgb(26, 188, 225)",
             "rgb(40, 212, 252)",
             "rgb(176, 56, 109)",
             "rgb(73, 130, 224)",
             "rgb(127, 73, 14)"
            ]
           },
           "orientation": "h",
           "text": [
            "Aardmonnik - Earthmonk",
            "Hors Série Ceci N'est Pas Une Gueuze",
            "Frejdahl Gudmund",
            "To Øl Passion Of The Weisst",
            "Xyauyù Etichetta Rame (Copper)",
            "Skovlyst Julebryg",
            "Charlevoix Dominus Vobiscum Lupulus",
            "Ghost Black Beast",
            "Skovlyst Lossen",
            "Indie Alehouse Zombie Apocalypse (Bourbon)"
           ],
           "textposition": "outside",
           "type": "bar",
           "width": 0.5,
           "x": [
            1.6309133236150697,
            1.6327746884700929,
            1.65167625476196,
            1.9003550471197763,
            1.9148003899577124,
            1.932732074470068,
            1.9683048585754683,
            2.0956611027231538,
            2.32265547193058,
            2.330646926702521
           ]
          }
         ],
         "layout": {
          "bargap": 0,
          "bargroupgap": 0,
          "font": {
           "size": 14
          },
          "plot_bgcolor": "white",
          "title": {
           "text": "Top 10 Beers in 2016"
          },
          "xaxis": {
           "range": [
            0,
            4.296358605054868
           ],
           "showline": true,
           "visible": true
          },
          "yaxis": {
           "showline": true,
           "ticktext": [
            10,
            9,
            8,
            7,
            6,
            5,
            4,
            3,
            2,
            1
           ],
           "tickvals": [
            0,
            1,
            2,
            3,
            4,
            5,
            6,
            7,
            8,
            9,
            10
           ],
           "title": {
            "text": "Top 10 Beers"
           },
           "visible": true
          }
         },
         "name": "2016"
        },
        {
         "data": [
          {
           "hoverinfo": "all",
           "marker": {
            "color": [
             "rgb(0, 21, 139)",
             "rgb(215, 68, 219)",
             "rgb(61, 149, 13)",
             "rgb(160, 20, 59)",
             "rgb(144, 113, 62)",
             "rgb(162, 87, 124)",
             "rgb(13, 147, 7)",
             "rgb(33, 30, 49)",
             "rgb(180, 191, 92)",
             "rgb(11, 37, 229)"
            ]
           },
           "orientation": "h",
           "text": [
            "LoverBeer A Renna Glüh",
            "Benelux Moisson (2011)",
            "Birrificio Italiano Nigredo (Negra 3.0)",
            "Midtfyns Jule Stout",
            "Amager / Lervig Brown Boobies Falling",
            "RJ Le Cheval Blanc Double Blanche (IPA belge)",
            "Double Nelson",
            "Thisted Thy Ale",
            "Pladderballe Brodtgaard Basement Reserve",
            "Coedo / Stone / Garage Project Tsuyu Saison"
           ],
           "textposition": "outside",
           "type": "bar",
           "width": 0.5,
           "x": [
            1.5461166604658836,
            1.547184850088554,
            1.5563119039202395,
            1.581953108750554,
            1.6360558401007417,
            1.654410184218145,
            1.7331561781565548,
            1.7420509005188278,
            1.778935444645838,
            1.8188611526235283
           ]
          }
         ],
         "layout": {
          "bargap": 0,
          "bargroupgap": 0,
          "font": {
           "size": 14
          },
          "plot_bgcolor": "white",
          "title": {
           "text": "Top 10 Beers in 2017"
          },
          "xaxis": {
           "range": [
            0,
            4.296358605054868
           ],
           "showline": true,
           "visible": true
          },
          "yaxis": {
           "showline": true,
           "ticktext": [
            10,
            9,
            8,
            7,
            6,
            5,
            4,
            3,
            2,
            1
           ],
           "tickvals": [
            0,
            1,
            2,
            3,
            4,
            5,
            6,
            7,
            8,
            9,
            10
           ],
           "title": {
            "text": "Top 10 Beers"
           },
           "visible": true
          }
         },
         "name": "2017"
        }
       ],
       "layout": {
        "font": {
         "size": 15
        },
        "height": 800,
        "margin": {
         "l": 100,
         "t": 50
        },
        "plot_bgcolor": "white",
        "sliders": [
         {
          "steps": [
           {
            "args": [
             [
              "2000"
             ],
             {
              "frame": {
               "duration": 300,
               "redraw": true
              },
              "mode": "immediate",
              "transition": {
               "duration": 300
              }
             }
            ],
            "label": "2000",
            "method": "animate"
           },
           {
            "args": [
             [
              "2001"
             ],
             {
              "frame": {
               "duration": 300,
               "redraw": true
              },
              "mode": "immediate",
              "transition": {
               "duration": 300
              }
             }
            ],
            "label": "2001",
            "method": "animate"
           },
           {
            "args": [
             [
              "2002"
             ],
             {
              "frame": {
               "duration": 300,
               "redraw": true
              },
              "mode": "immediate",
              "transition": {
               "duration": 300
              }
             }
            ],
            "label": "2002",
            "method": "animate"
           },
           {
            "args": [
             [
              "2003"
             ],
             {
              "frame": {
               "duration": 300,
               "redraw": true
              },
              "mode": "immediate",
              "transition": {
               "duration": 300
              }
             }
            ],
            "label": "2003",
            "method": "animate"
           },
           {
            "args": [
             [
              "2004"
             ],
             {
              "frame": {
               "duration": 300,
               "redraw": true
              },
              "mode": "immediate",
              "transition": {
               "duration": 300
              }
             }
            ],
            "label": "2004",
            "method": "animate"
           },
           {
            "args": [
             [
              "2005"
             ],
             {
              "frame": {
               "duration": 300,
               "redraw": true
              },
              "mode": "immediate",
              "transition": {
               "duration": 300
              }
             }
            ],
            "label": "2005",
            "method": "animate"
           },
           {
            "args": [
             [
              "2006"
             ],
             {
              "frame": {
               "duration": 300,
               "redraw": true
              },
              "mode": "immediate",
              "transition": {
               "duration": 300
              }
             }
            ],
            "label": "2006",
            "method": "animate"
           },
           {
            "args": [
             [
              "2007"
             ],
             {
              "frame": {
               "duration": 300,
               "redraw": true
              },
              "mode": "immediate",
              "transition": {
               "duration": 300
              }
             }
            ],
            "label": "2007",
            "method": "animate"
           },
           {
            "args": [
             [
              "2008"
             ],
             {
              "frame": {
               "duration": 300,
               "redraw": true
              },
              "mode": "immediate",
              "transition": {
               "duration": 300
              }
             }
            ],
            "label": "2008",
            "method": "animate"
           },
           {
            "args": [
             [
              "2009"
             ],
             {
              "frame": {
               "duration": 300,
               "redraw": true
              },
              "mode": "immediate",
              "transition": {
               "duration": 300
              }
             }
            ],
            "label": "2009",
            "method": "animate"
           },
           {
            "args": [
             [
              "2010"
             ],
             {
              "frame": {
               "duration": 300,
               "redraw": true
              },
              "mode": "immediate",
              "transition": {
               "duration": 300
              }
             }
            ],
            "label": "2010",
            "method": "animate"
           },
           {
            "args": [
             [
              "2011"
             ],
             {
              "frame": {
               "duration": 300,
               "redraw": true
              },
              "mode": "immediate",
              "transition": {
               "duration": 300
              }
             }
            ],
            "label": "2011",
            "method": "animate"
           },
           {
            "args": [
             [
              "2012"
             ],
             {
              "frame": {
               "duration": 300,
               "redraw": true
              },
              "mode": "immediate",
              "transition": {
               "duration": 300
              }
             }
            ],
            "label": "2012",
            "method": "animate"
           },
           {
            "args": [
             [
              "2013"
             ],
             {
              "frame": {
               "duration": 300,
               "redraw": true
              },
              "mode": "immediate",
              "transition": {
               "duration": 300
              }
             }
            ],
            "label": "2013",
            "method": "animate"
           },
           {
            "args": [
             [
              "2014"
             ],
             {
              "frame": {
               "duration": 300,
               "redraw": true
              },
              "mode": "immediate",
              "transition": {
               "duration": 300
              }
             }
            ],
            "label": "2014",
            "method": "animate"
           },
           {
            "args": [
             [
              "2015"
             ],
             {
              "frame": {
               "duration": 300,
               "redraw": true
              },
              "mode": "immediate",
              "transition": {
               "duration": 300
              }
             }
            ],
            "label": "2015",
            "method": "animate"
           },
           {
            "args": [
             [
              "2016"
             ],
             {
              "frame": {
               "duration": 300,
               "redraw": true
              },
              "mode": "immediate",
              "transition": {
               "duration": 300
              }
             }
            ],
            "label": "2016",
            "method": "animate"
           },
           {
            "args": [
             [
              "2017"
             ],
             {
              "frame": {
               "duration": 300,
               "redraw": true
              },
              "mode": "immediate",
              "transition": {
               "duration": 300
              }
             }
            ],
            "label": "2017",
            "method": "animate"
           }
          ]
         }
        ],
        "template": {
         "data": {
          "bar": [
           {
            "error_x": {
             "color": "#2a3f5f"
            },
            "error_y": {
             "color": "#2a3f5f"
            },
            "marker": {
             "line": {
              "color": "#E5ECF6",
              "width": 0.5
             },
             "pattern": {
              "fillmode": "overlay",
              "size": 10,
              "solidity": 0.2
             }
            },
            "type": "bar"
           }
          ],
          "barpolar": [
           {
            "marker": {
             "line": {
              "color": "#E5ECF6",
              "width": 0.5
             },
             "pattern": {
              "fillmode": "overlay",
              "size": 10,
              "solidity": 0.2
             }
            },
            "type": "barpolar"
           }
          ],
          "carpet": [
           {
            "aaxis": {
             "endlinecolor": "#2a3f5f",
             "gridcolor": "white",
             "linecolor": "white",
             "minorgridcolor": "white",
             "startlinecolor": "#2a3f5f"
            },
            "baxis": {
             "endlinecolor": "#2a3f5f",
             "gridcolor": "white",
             "linecolor": "white",
             "minorgridcolor": "white",
             "startlinecolor": "#2a3f5f"
            },
            "type": "carpet"
           }
          ],
          "choropleth": [
           {
            "colorbar": {
             "outlinewidth": 0,
             "ticks": ""
            },
            "type": "choropleth"
           }
          ],
          "contour": [
           {
            "colorbar": {
             "outlinewidth": 0,
             "ticks": ""
            },
            "colorscale": [
             [
              0,
              "#0d0887"
             ],
             [
              0.1111111111111111,
              "#46039f"
             ],
             [
              0.2222222222222222,
              "#7201a8"
             ],
             [
              0.3333333333333333,
              "#9c179e"
             ],
             [
              0.4444444444444444,
              "#bd3786"
             ],
             [
              0.5555555555555556,
              "#d8576b"
             ],
             [
              0.6666666666666666,
              "#ed7953"
             ],
             [
              0.7777777777777778,
              "#fb9f3a"
             ],
             [
              0.8888888888888888,
              "#fdca26"
             ],
             [
              1,
              "#f0f921"
             ]
            ],
            "type": "contour"
           }
          ],
          "contourcarpet": [
           {
            "colorbar": {
             "outlinewidth": 0,
             "ticks": ""
            },
            "type": "contourcarpet"
           }
          ],
          "heatmap": [
           {
            "colorbar": {
             "outlinewidth": 0,
             "ticks": ""
            },
            "colorscale": [
             [
              0,
              "#0d0887"
             ],
             [
              0.1111111111111111,
              "#46039f"
             ],
             [
              0.2222222222222222,
              "#7201a8"
             ],
             [
              0.3333333333333333,
              "#9c179e"
             ],
             [
              0.4444444444444444,
              "#bd3786"
             ],
             [
              0.5555555555555556,
              "#d8576b"
             ],
             [
              0.6666666666666666,
              "#ed7953"
             ],
             [
              0.7777777777777778,
              "#fb9f3a"
             ],
             [
              0.8888888888888888,
              "#fdca26"
             ],
             [
              1,
              "#f0f921"
             ]
            ],
            "type": "heatmap"
           }
          ],
          "heatmapgl": [
           {
            "colorbar": {
             "outlinewidth": 0,
             "ticks": ""
            },
            "colorscale": [
             [
              0,
              "#0d0887"
             ],
             [
              0.1111111111111111,
              "#46039f"
             ],
             [
              0.2222222222222222,
              "#7201a8"
             ],
             [
              0.3333333333333333,
              "#9c179e"
             ],
             [
              0.4444444444444444,
              "#bd3786"
             ],
             [
              0.5555555555555556,
              "#d8576b"
             ],
             [
              0.6666666666666666,
              "#ed7953"
             ],
             [
              0.7777777777777778,
              "#fb9f3a"
             ],
             [
              0.8888888888888888,
              "#fdca26"
             ],
             [
              1,
              "#f0f921"
             ]
            ],
            "type": "heatmapgl"
           }
          ],
          "histogram": [
           {
            "marker": {
             "pattern": {
              "fillmode": "overlay",
              "size": 10,
              "solidity": 0.2
             }
            },
            "type": "histogram"
           }
          ],
          "histogram2d": [
           {
            "colorbar": {
             "outlinewidth": 0,
             "ticks": ""
            },
            "colorscale": [
             [
              0,
              "#0d0887"
             ],
             [
              0.1111111111111111,
              "#46039f"
             ],
             [
              0.2222222222222222,
              "#7201a8"
             ],
             [
              0.3333333333333333,
              "#9c179e"
             ],
             [
              0.4444444444444444,
              "#bd3786"
             ],
             [
              0.5555555555555556,
              "#d8576b"
             ],
             [
              0.6666666666666666,
              "#ed7953"
             ],
             [
              0.7777777777777778,
              "#fb9f3a"
             ],
             [
              0.8888888888888888,
              "#fdca26"
             ],
             [
              1,
              "#f0f921"
             ]
            ],
            "type": "histogram2d"
           }
          ],
          "histogram2dcontour": [
           {
            "colorbar": {
             "outlinewidth": 0,
             "ticks": ""
            },
            "colorscale": [
             [
              0,
              "#0d0887"
             ],
             [
              0.1111111111111111,
              "#46039f"
             ],
             [
              0.2222222222222222,
              "#7201a8"
             ],
             [
              0.3333333333333333,
              "#9c179e"
             ],
             [
              0.4444444444444444,
              "#bd3786"
             ],
             [
              0.5555555555555556,
              "#d8576b"
             ],
             [
              0.6666666666666666,
              "#ed7953"
             ],
             [
              0.7777777777777778,
              "#fb9f3a"
             ],
             [
              0.8888888888888888,
              "#fdca26"
             ],
             [
              1,
              "#f0f921"
             ]
            ],
            "type": "histogram2dcontour"
           }
          ],
          "mesh3d": [
           {
            "colorbar": {
             "outlinewidth": 0,
             "ticks": ""
            },
            "type": "mesh3d"
           }
          ],
          "parcoords": [
           {
            "line": {
             "colorbar": {
              "outlinewidth": 0,
              "ticks": ""
             }
            },
            "type": "parcoords"
           }
          ],
          "pie": [
           {
            "automargin": true,
            "type": "pie"
           }
          ],
          "scatter": [
           {
            "fillpattern": {
             "fillmode": "overlay",
             "size": 10,
             "solidity": 0.2
            },
            "type": "scatter"
           }
          ],
          "scatter3d": [
           {
            "line": {
             "colorbar": {
              "outlinewidth": 0,
              "ticks": ""
             }
            },
            "marker": {
             "colorbar": {
              "outlinewidth": 0,
              "ticks": ""
             }
            },
            "type": "scatter3d"
           }
          ],
          "scattercarpet": [
           {
            "marker": {
             "colorbar": {
              "outlinewidth": 0,
              "ticks": ""
             }
            },
            "type": "scattercarpet"
           }
          ],
          "scattergeo": [
           {
            "marker": {
             "colorbar": {
              "outlinewidth": 0,
              "ticks": ""
             }
            },
            "type": "scattergeo"
           }
          ],
          "scattergl": [
           {
            "marker": {
             "colorbar": {
              "outlinewidth": 0,
              "ticks": ""
             }
            },
            "type": "scattergl"
           }
          ],
          "scattermapbox": [
           {
            "marker": {
             "colorbar": {
              "outlinewidth": 0,
              "ticks": ""
             }
            },
            "type": "scattermapbox"
           }
          ],
          "scatterpolar": [
           {
            "marker": {
             "colorbar": {
              "outlinewidth": 0,
              "ticks": ""
             }
            },
            "type": "scatterpolar"
           }
          ],
          "scatterpolargl": [
           {
            "marker": {
             "colorbar": {
              "outlinewidth": 0,
              "ticks": ""
             }
            },
            "type": "scatterpolargl"
           }
          ],
          "scatterternary": [
           {
            "marker": {
             "colorbar": {
              "outlinewidth": 0,
              "ticks": ""
             }
            },
            "type": "scatterternary"
           }
          ],
          "surface": [
           {
            "colorbar": {
             "outlinewidth": 0,
             "ticks": ""
            },
            "colorscale": [
             [
              0,
              "#0d0887"
             ],
             [
              0.1111111111111111,
              "#46039f"
             ],
             [
              0.2222222222222222,
              "#7201a8"
             ],
             [
              0.3333333333333333,
              "#9c179e"
             ],
             [
              0.4444444444444444,
              "#bd3786"
             ],
             [
              0.5555555555555556,
              "#d8576b"
             ],
             [
              0.6666666666666666,
              "#ed7953"
             ],
             [
              0.7777777777777778,
              "#fb9f3a"
             ],
             [
              0.8888888888888888,
              "#fdca26"
             ],
             [
              1,
              "#f0f921"
             ]
            ],
            "type": "surface"
           }
          ],
          "table": [
           {
            "cells": {
             "fill": {
              "color": "#EBF0F8"
             },
             "line": {
              "color": "white"
             }
            },
            "header": {
             "fill": {
              "color": "#C8D4E3"
             },
             "line": {
              "color": "white"
             }
            },
            "type": "table"
           }
          ]
         },
         "layout": {
          "annotationdefaults": {
           "arrowcolor": "#2a3f5f",
           "arrowhead": 0,
           "arrowwidth": 1
          },
          "autotypenumbers": "strict",
          "coloraxis": {
           "colorbar": {
            "outlinewidth": 0,
            "ticks": ""
           }
          },
          "colorscale": {
           "diverging": [
            [
             0,
             "#8e0152"
            ],
            [
             0.1,
             "#c51b7d"
            ],
            [
             0.2,
             "#de77ae"
            ],
            [
             0.3,
             "#f1b6da"
            ],
            [
             0.4,
             "#fde0ef"
            ],
            [
             0.5,
             "#f7f7f7"
            ],
            [
             0.6,
             "#e6f5d0"
            ],
            [
             0.7,
             "#b8e186"
            ],
            [
             0.8,
             "#7fbc41"
            ],
            [
             0.9,
             "#4d9221"
            ],
            [
             1,
             "#276419"
            ]
           ],
           "sequential": [
            [
             0,
             "#0d0887"
            ],
            [
             0.1111111111111111,
             "#46039f"
            ],
            [
             0.2222222222222222,
             "#7201a8"
            ],
            [
             0.3333333333333333,
             "#9c179e"
            ],
            [
             0.4444444444444444,
             "#bd3786"
            ],
            [
             0.5555555555555556,
             "#d8576b"
            ],
            [
             0.6666666666666666,
             "#ed7953"
            ],
            [
             0.7777777777777778,
             "#fb9f3a"
            ],
            [
             0.8888888888888888,
             "#fdca26"
            ],
            [
             1,
             "#f0f921"
            ]
           ],
           "sequentialminus": [
            [
             0,
             "#0d0887"
            ],
            [
             0.1111111111111111,
             "#46039f"
            ],
            [
             0.2222222222222222,
             "#7201a8"
            ],
            [
             0.3333333333333333,
             "#9c179e"
            ],
            [
             0.4444444444444444,
             "#bd3786"
            ],
            [
             0.5555555555555556,
             "#d8576b"
            ],
            [
             0.6666666666666666,
             "#ed7953"
            ],
            [
             0.7777777777777778,
             "#fb9f3a"
            ],
            [
             0.8888888888888888,
             "#fdca26"
            ],
            [
             1,
             "#f0f921"
            ]
           ]
          },
          "colorway": [
           "#636efa",
           "#EF553B",
           "#00cc96",
           "#ab63fa",
           "#FFA15A",
           "#19d3f3",
           "#FF6692",
           "#B6E880",
           "#FF97FF",
           "#FECB52"
          ],
          "font": {
           "color": "#2a3f5f"
          },
          "geo": {
           "bgcolor": "white",
           "lakecolor": "white",
           "landcolor": "#E5ECF6",
           "showlakes": true,
           "showland": true,
           "subunitcolor": "white"
          },
          "hoverlabel": {
           "align": "left"
          },
          "hovermode": "closest",
          "mapbox": {
           "style": "light"
          },
          "paper_bgcolor": "white",
          "plot_bgcolor": "#E5ECF6",
          "polar": {
           "angularaxis": {
            "gridcolor": "white",
            "linecolor": "white",
            "ticks": ""
           },
           "bgcolor": "#E5ECF6",
           "radialaxis": {
            "gridcolor": "white",
            "linecolor": "white",
            "ticks": ""
           }
          },
          "scene": {
           "xaxis": {
            "backgroundcolor": "#E5ECF6",
            "gridcolor": "white",
            "gridwidth": 2,
            "linecolor": "white",
            "showbackground": true,
            "ticks": "",
            "zerolinecolor": "white"
           },
           "yaxis": {
            "backgroundcolor": "#E5ECF6",
            "gridcolor": "white",
            "gridwidth": 2,
            "linecolor": "white",
            "showbackground": true,
            "ticks": "",
            "zerolinecolor": "white"
           },
           "zaxis": {
            "backgroundcolor": "#E5ECF6",
            "gridcolor": "white",
            "gridwidth": 2,
            "linecolor": "white",
            "showbackground": true,
            "ticks": "",
            "zerolinecolor": "white"
           }
          },
          "shapedefaults": {
           "line": {
            "color": "#2a3f5f"
           }
          },
          "ternary": {
           "aaxis": {
            "gridcolor": "white",
            "linecolor": "white",
            "ticks": ""
           },
           "baxis": {
            "gridcolor": "white",
            "linecolor": "white",
            "ticks": ""
           },
           "bgcolor": "#E5ECF6",
           "caxis": {
            "gridcolor": "white",
            "linecolor": "white",
            "ticks": ""
           }
          },
          "title": {
           "x": 0.05
          },
          "xaxis": {
           "automargin": true,
           "gridcolor": "white",
           "linecolor": "white",
           "ticks": "",
           "title": {
            "standoff": 15
           },
           "zerolinecolor": "white",
           "zerolinewidth": 2
          },
          "yaxis": {
           "automargin": true,
           "gridcolor": "white",
           "linecolor": "white",
           "ticks": "",
           "title": {
            "standoff": 15
           },
           "zerolinecolor": "white",
           "zerolinewidth": 2
          }
         }
        },
        "title": {
         "text": "Top 10 Beers in 2000"
        },
        "width": 800,
        "xaxis": {
         "range": [
          0,
          4.296358605054868
         ],
         "showline": true,
         "title": {
          "text": "New Rating"
         },
         "visible": true
        },
        "yaxis": {
         "showline": false,
         "ticktext": [
          10,
          9,
          8,
          7,
          6,
          5,
          4,
          3,
          2,
          1
         ],
         "tickvals": [
          0,
          1,
          2,
          3,
          4,
          5,
          6,
          7,
          8,
          9,
          10
         ],
         "title": {
          "text": "Top 10 Beers"
         },
         "visible": true
        }
       }
      }
     },
     "metadata": {},
     "output_type": "display_data"
    }
   ],
   "source": [
    "import pandas as pd\n",
    "import plotly.graph_objects as go\n",
    "from random import sample\n",
    "\n",
    "# Supposons que vous ayez déjà défini la variable 'data' et 'top_entries' dans votre code précédent.\n",
    "\n",
    "# Initialize frames list and sliders dictionary\n",
    "frames = []\n",
    "sliders_dict = {\"steps\": []}\n",
    "beer_colors = {}\n",
    "\n",
    "# Filter data for the year 2000\n",
    "snap_data_2000 = data[data['year'] == 2000]\n",
    "snap_data_2000 = snap_data_2000.sort_values('new_rating', ascending=False).head(10)\n",
    "snap_data_2000 = snap_data_2000.sort_values('new_rating', ascending=True)\n",
    "\n",
    "# Generate colors for unique beer names for the year 2000\n",
    "for item in snap_data_2000['beer_name'].unique():\n",
    "    if item not in beer_colors:\n",
    "        beer_colors[item] = 'rgb({}, {}, {})'.format(*sample(range(256), 3))\n",
    "\n",
    "snap_data_2000['color'] = snap_data_2000['beer_name'].map(beer_colors)\n",
    "max_rating_value = data['new_rating'].max()\n",
    "\n",
    "# Create frame for the year 2000\n",
    "frame_2000 = go.Frame(\n",
    "    data=[\n",
    "        go.Bar(\n",
    "            x=snap_data_2000['new_rating'],\n",
    "            marker_color=snap_data_2000['color'],\n",
    "            orientation='h',\n",
    "            hoverinfo='all',\n",
    "            text=snap_data_2000['beer_name'],\n",
    "            textposition='outside',\n",
    "            width=0.5\n",
    "        )\n",
    "    ],\n",
    "    layout=go.Layout(\n",
    "        font={'size': 14},\n",
    "        plot_bgcolor='white',\n",
    "        xaxis={\n",
    "            'showline': True,\n",
    "            'visible': True,\n",
    "            'range': (0, max_rating_value + 1.5)\n",
    "        },\n",
    "        bargap=0,\n",
    "        bargroupgap=0,\n",
    "        yaxis={\n",
    "            'showline': True,\n",
    "            'visible': True,\n",
    "            'tickvals': list(range(0, 11)),\n",
    "            'ticktext': list(range(10, 0, -1)),\n",
    "            'title_text': 'Top ' + str(10) + ' Beers'\n",
    "        },\n",
    "        title='Top 10 Beers in 2000',\n",
    "    ),\n",
    "    name=\"2000\"\n",
    ")\n",
    "\n",
    "# Append frame for 2000 to the list of frames\n",
    "frames.insert(0, frame_2000)  # Inserting at the beginning of the list\n",
    "\n",
    "# Generate frames for years 2001 to the maximum year in your dataset\n",
    "for year in range(2000, int(data['year'].max()) + 1):\n",
    "    # Filter data by year\n",
    "    snap_data = data[data['year'] == year]\n",
    "    \n",
    "    # Sort by new_rating and get top 10\n",
    "    snap_data = snap_data.sort_values('new_rating', ascending=False).head(10)\n",
    "    \n",
    "    # Sort by new_rating in ascending order\n",
    "    snap_data = snap_data.sort_values('new_rating', ascending=True)\n",
    "    \n",
    "    # Generate colors for unique beer names\n",
    "    for item in snap_data['beer_name'].unique():\n",
    "        if item not in beer_colors:\n",
    "            beer_colors[item] = 'rgb({}, {}, {})'.format(*sample(range(256), 3))\n",
    "    \n",
    "    snap_data['color'] = snap_data['beer_name'].map(beer_colors)\n",
    "    \n",
    "    # Create frame\n",
    "    frame = go.Frame(\n",
    "        data=[\n",
    "            go.Bar(\n",
    "                x=snap_data['new_rating'],\n",
    "                marker_color=snap_data['color'],\n",
    "                orientation='h',\n",
    "                hoverinfo='all',\n",
    "                text=snap_data['beer_name'],\n",
    "                textposition='outside',\n",
    "                width=0.5\n",
    "            )\n",
    "        ],\n",
    "        layout=go.Layout(\n",
    "            font={'size': 14},\n",
    "            plot_bgcolor='white',\n",
    "            xaxis={\n",
    "                'showline': True,\n",
    "                'visible': True,\n",
    "                'range': (0, max_rating_value + 1.5)\n",
    "            },\n",
    "            bargap=0,\n",
    "            bargroupgap=0,\n",
    "            yaxis={\n",
    "                'showline': True,\n",
    "                'visible': True,\n",
    "                'tickvals': list(range(0, 11)),\n",
    "                'ticktext': list(range(10, 0, -1)),\n",
    "                'title_text': 'Top ' + str(10) + ' Beers'\n",
    "            },\n",
    "            title=f'Top 10 Beers in {year}',\n",
    "        ),\n",
    "        name=str(year),\n",
    "    )\n",
    "    \n",
    "    # Append frame to list of frames\n",
    "    frames.append(frame)\n",
    "    \n",
    "    # Define slider step\n",
    "    slider_step = {\n",
    "        \"args\": [\n",
    "            [str(year)],\n",
    "            {\n",
    "                \"frame\": {\n",
    "                    \"duration\": 300,\n",
    "                    \"redraw\": True\n",
    "                },\n",
    "                \"mode\": \"immediate\",\n",
    "                \"transition\": {\n",
    "                    \"duration\": 300\n",
    "                }\n",
    "            }\n",
    "        ],\n",
    "        \"label\": str(year),\n",
    "        \"method\": \"animate\"\n",
    "    }\n",
    "    # Append to sliders_dict\n",
    "    sliders_dict[\"steps\"].append(slider_step)\n",
    "\n",
    "# Create figure\n",
    "fig = go.Figure(\n",
    "    data=[go.Bar()],\n",
    "    frames=frames,\n",
    ")\n",
    "\n",
    "# Update layout with play and pause buttons\n",
    "fig.update_layout(\n",
    "    title='Top 10 Beers in 2000',\n",
    "    font={'size': 15},\n",
    "    plot_bgcolor='white',\n",
    "    xaxis={\n",
    "        'showline': True,\n",
    "        'visible': True,\n",
    "        'title_text': 'New Rating',\n",
    "        'range': [0, max_rating_value+1.5]\n",
    "    },\n",
    "    yaxis={\n",
    "        'showline': False,\n",
    "        'visible': True,\n",
    "        'tickvals': list(range(0, 11)),\n",
    "        'ticktext': list(range(10, 0, -1)),\n",
    "        'title_text': 'Top 10 Beers'\n",
    "    },\n",
    "    height=800,\n",
    "    width=800,\n",
    "    margin=dict(\n",
    "        l=100,\n",
    "        t=50\n",
    "    ),\n",
    "    sliders=[sliders_dict],\n",
    ")\n",
    "\n",
    "fig.show()\n"
   ]
  },
  {
   "cell_type": "code",
   "execution_count": null,
   "metadata": {},
   "outputs": [],
   "source": []
  }
 ],
 "metadata": {
  "kernelspec": {
   "display_name": "ada",
   "language": "python",
   "name": "python3"
  },
  "language_info": {
   "codemirror_mode": {
    "name": "ipython",
    "version": 3
   },
   "file_extension": ".py",
   "mimetype": "text/x-python",
   "name": "python",
   "nbconvert_exporter": "python",
   "pygments_lexer": "ipython3",
   "version": "3.9.18"
  }
 },
 "nbformat": 4,
 "nbformat_minor": 2
}
