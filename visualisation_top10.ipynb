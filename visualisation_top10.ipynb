{
 "cells": [
  {
   "cell_type": "code",
   "execution_count": 1,
   "metadata": {},
   "outputs": [],
   "source": [
    "import pandas as pd\n",
    "import seaborn as sns\n",
    "import matplotlib.pyplot as plt\n",
    "%matplotlib inline\n",
    "\n",
    "from PIL import Image, ImageDraw\n",
    "from matplotlib.lines import Line2D\n",
    "from matplotlib.offsetbox import OffsetImage, AnnotationBbox"
   ]
  },
  {
   "cell_type": "code",
   "execution_count": 7,
   "metadata": {},
   "outputs": [
    {
     "name": "stdout",
     "output_type": "stream",
     "text": [
      "Unnamed: 0                           1\n",
      "beer_name     Weihenstephaner Original\n",
      "year                            2000.0\n",
      "new_rating                    1.272458\n",
      "rank_0                             1.0\n",
      "rank_1                             1.0\n",
      "rank_2                             1.0\n",
      "rank_3                             1.0\n",
      "rank_4                             1.0\n",
      "rank_5                             1.0\n",
      "rank_6                             1.0\n",
      "rank_7                             1.0\n",
      "rank_8                             1.0\n",
      "rank_9                             1.0\n",
      "rank_10                            1.0\n",
      "rank_11                            1.0\n",
      "rank_12                            1.0\n",
      "rank_13                            1.0\n",
      "rank_14                            1.0\n",
      "rank_15                            1.0\n",
      "rank_16                            1.0\n",
      "rank_17                            1.0\n",
      "Name: 0, dtype: object\n"
     ]
    },
    {
     "ename": "KeyError",
     "evalue": "1.0",
     "output_type": "error",
     "traceback": [
      "\u001b[1;31m---------------------------------------------------------------------------\u001b[0m",
      "\u001b[1;31mKeyError\u001b[0m                                  Traceback (most recent call last)",
      "File \u001b[1;32mc:\\Users\\julie\\anaconda3\\envs\\ada\\lib\\site-packages\\pandas\\core\\indexes\\base.py:3790\u001b[0m, in \u001b[0;36mIndex.get_loc\u001b[1;34m(self, key)\u001b[0m\n\u001b[0;32m   3789\u001b[0m \u001b[38;5;28;01mtry\u001b[39;00m:\n\u001b[1;32m-> 3790\u001b[0m     \u001b[38;5;28;01mreturn\u001b[39;00m \u001b[38;5;28;43mself\u001b[39;49m\u001b[38;5;241;43m.\u001b[39;49m\u001b[43m_engine\u001b[49m\u001b[38;5;241;43m.\u001b[39;49m\u001b[43mget_loc\u001b[49m\u001b[43m(\u001b[49m\u001b[43mcasted_key\u001b[49m\u001b[43m)\u001b[49m\n\u001b[0;32m   3791\u001b[0m \u001b[38;5;28;01mexcept\u001b[39;00m \u001b[38;5;167;01mKeyError\u001b[39;00m \u001b[38;5;28;01mas\u001b[39;00m err:\n",
      "File \u001b[1;32mindex.pyx:152\u001b[0m, in \u001b[0;36mpandas._libs.index.IndexEngine.get_loc\u001b[1;34m()\u001b[0m\n",
      "File \u001b[1;32mindex.pyx:181\u001b[0m, in \u001b[0;36mpandas._libs.index.IndexEngine.get_loc\u001b[1;34m()\u001b[0m\n",
      "File \u001b[1;32mpandas\\_libs\\hashtable_class_helper.pxi:7080\u001b[0m, in \u001b[0;36mpandas._libs.hashtable.PyObjectHashTable.get_item\u001b[1;34m()\u001b[0m\n",
      "File \u001b[1;32mpandas\\_libs\\hashtable_class_helper.pxi:7088\u001b[0m, in \u001b[0;36mpandas._libs.hashtable.PyObjectHashTable.get_item\u001b[1;34m()\u001b[0m\n",
      "\u001b[1;31mKeyError\u001b[0m: 1.0",
      "\nThe above exception was the direct cause of the following exception:\n",
      "\u001b[1;31mKeyError\u001b[0m                                  Traceback (most recent call last)",
      "Cell \u001b[1;32mIn[7], line 30\u001b[0m\n\u001b[0;32m     28\u001b[0m     \u001b[38;5;28mprint\u001b[39m(row)\n\u001b[0;32m     29\u001b[0m     \u001b[38;5;28;01mfor\u001b[39;00m j, rc \u001b[38;5;129;01min\u001b[39;00m \u001b[38;5;28menumerate\u001b[39m(rank_columns):\n\u001b[1;32m---> 30\u001b[0m         add_pie_and_flag(fig, j, \u001b[38;5;241m-\u001b[39mrow[rc], name\u001b[38;5;241m=\u001b[39mrow\u001b[38;5;241m.\u001b[39mbeer_name, ratio\u001b[38;5;241m=\u001b[39m\u001b[43mrow\u001b[49m\u001b[43m[\u001b[49m\u001b[43mrow\u001b[49m\u001b[43m[\u001b[49m\u001b[43mrc\u001b[49m\u001b[43m]\u001b[49m\u001b[43m]\u001b[49m \u001b[38;5;241m/\u001b[39m row[rank_columns]\u001b[38;5;241m.\u001b[39mmax())\n\u001b[0;32m     32\u001b[0m     add_text(fig, row\u001b[38;5;241m.\u001b[39mbeer_name, \u001b[38;5;28mlen\u001b[39m(years) \u001b[38;5;241m-\u001b[39m \u001b[38;5;241m0.5\u001b[39m, \u001b[38;5;241m-\u001b[39m(i \u001b[38;5;241m+\u001b[39m \u001b[38;5;241m1\u001b[39m), \u001b[38;5;124mf\u001b[39m\u001b[38;5;124m\"\u001b[39m\u001b[38;5;132;01m{\u001b[39;00mrow\u001b[38;5;241m.\u001b[39mbeer_name\u001b[38;5;132;01m}\u001b[39;00m\u001b[38;5;124m (\u001b[39m\u001b[38;5;132;01m{\u001b[39;00mrow[rank_columns[\u001b[38;5;241m-\u001b[39m\u001b[38;5;241m1\u001b[39m]]\u001b[38;5;132;01m:\u001b[39;00m\u001b[38;5;124m.1f\u001b[39m\u001b[38;5;132;01m}\u001b[39;00m\u001b[38;5;124m)\u001b[39m\u001b[38;5;124m\"\u001b[39m)\n\u001b[0;32m     34\u001b[0m fig\u001b[38;5;241m.\u001b[39mupdate_layout(\n\u001b[0;32m     35\u001b[0m     title_text\u001b[38;5;241m=\u001b[39m\u001b[38;5;124m\"\u001b[39m\u001b[38;5;124mTop 10 Beers Each Year\u001b[39m\u001b[38;5;124m\"\u001b[39m,\n\u001b[0;32m     36\u001b[0m     xaxis\u001b[38;5;241m=\u001b[39m\u001b[38;5;28mdict\u001b[39m(visible\u001b[38;5;241m=\u001b[39m\u001b[38;5;28;01mFalse\u001b[39;00m),\n\u001b[1;32m   (...)\u001b[0m\n\u001b[0;32m     40\u001b[0m     height\u001b[38;5;241m=\u001b[39m\u001b[38;5;241m600\u001b[39m,\n\u001b[0;32m     41\u001b[0m )\n",
      "File \u001b[1;32mc:\\Users\\julie\\anaconda3\\envs\\ada\\lib\\site-packages\\pandas\\core\\series.py:1040\u001b[0m, in \u001b[0;36mSeries.__getitem__\u001b[1;34m(self, key)\u001b[0m\n\u001b[0;32m   1037\u001b[0m     \u001b[38;5;28;01mreturn\u001b[39;00m \u001b[38;5;28mself\u001b[39m\u001b[38;5;241m.\u001b[39m_values[key]\n\u001b[0;32m   1039\u001b[0m \u001b[38;5;28;01melif\u001b[39;00m key_is_scalar:\n\u001b[1;32m-> 1040\u001b[0m     \u001b[38;5;28;01mreturn\u001b[39;00m \u001b[38;5;28;43mself\u001b[39;49m\u001b[38;5;241;43m.\u001b[39;49m\u001b[43m_get_value\u001b[49m\u001b[43m(\u001b[49m\u001b[43mkey\u001b[49m\u001b[43m)\u001b[49m\n\u001b[0;32m   1042\u001b[0m \u001b[38;5;66;03m# Convert generator to list before going through hashable part\u001b[39;00m\n\u001b[0;32m   1043\u001b[0m \u001b[38;5;66;03m# (We will iterate through the generator there to check for slices)\u001b[39;00m\n\u001b[0;32m   1044\u001b[0m \u001b[38;5;28;01mif\u001b[39;00m is_iterator(key):\n",
      "File \u001b[1;32mc:\\Users\\julie\\anaconda3\\envs\\ada\\lib\\site-packages\\pandas\\core\\series.py:1156\u001b[0m, in \u001b[0;36mSeries._get_value\u001b[1;34m(self, label, takeable)\u001b[0m\n\u001b[0;32m   1153\u001b[0m     \u001b[38;5;28;01mreturn\u001b[39;00m \u001b[38;5;28mself\u001b[39m\u001b[38;5;241m.\u001b[39m_values[label]\n\u001b[0;32m   1155\u001b[0m \u001b[38;5;66;03m# Similar to Index.get_value, but we do not fall back to positional\u001b[39;00m\n\u001b[1;32m-> 1156\u001b[0m loc \u001b[38;5;241m=\u001b[39m \u001b[38;5;28;43mself\u001b[39;49m\u001b[38;5;241;43m.\u001b[39;49m\u001b[43mindex\u001b[49m\u001b[38;5;241;43m.\u001b[39;49m\u001b[43mget_loc\u001b[49m\u001b[43m(\u001b[49m\u001b[43mlabel\u001b[49m\u001b[43m)\u001b[49m\n\u001b[0;32m   1158\u001b[0m \u001b[38;5;28;01mif\u001b[39;00m is_integer(loc):\n\u001b[0;32m   1159\u001b[0m     \u001b[38;5;28;01mreturn\u001b[39;00m \u001b[38;5;28mself\u001b[39m\u001b[38;5;241m.\u001b[39m_values[loc]\n",
      "File \u001b[1;32mc:\\Users\\julie\\anaconda3\\envs\\ada\\lib\\site-packages\\pandas\\core\\indexes\\base.py:3797\u001b[0m, in \u001b[0;36mIndex.get_loc\u001b[1;34m(self, key)\u001b[0m\n\u001b[0;32m   3792\u001b[0m     \u001b[38;5;28;01mif\u001b[39;00m \u001b[38;5;28misinstance\u001b[39m(casted_key, \u001b[38;5;28mslice\u001b[39m) \u001b[38;5;129;01mor\u001b[39;00m (\n\u001b[0;32m   3793\u001b[0m         \u001b[38;5;28misinstance\u001b[39m(casted_key, abc\u001b[38;5;241m.\u001b[39mIterable)\n\u001b[0;32m   3794\u001b[0m         \u001b[38;5;129;01mand\u001b[39;00m \u001b[38;5;28many\u001b[39m(\u001b[38;5;28misinstance\u001b[39m(x, \u001b[38;5;28mslice\u001b[39m) \u001b[38;5;28;01mfor\u001b[39;00m x \u001b[38;5;129;01min\u001b[39;00m casted_key)\n\u001b[0;32m   3795\u001b[0m     ):\n\u001b[0;32m   3796\u001b[0m         \u001b[38;5;28;01mraise\u001b[39;00m InvalidIndexError(key)\n\u001b[1;32m-> 3797\u001b[0m     \u001b[38;5;28;01mraise\u001b[39;00m \u001b[38;5;167;01mKeyError\u001b[39;00m(key) \u001b[38;5;28;01mfrom\u001b[39;00m \u001b[38;5;21;01merr\u001b[39;00m\n\u001b[0;32m   3798\u001b[0m \u001b[38;5;28;01mexcept\u001b[39;00m \u001b[38;5;167;01mTypeError\u001b[39;00m:\n\u001b[0;32m   3799\u001b[0m     \u001b[38;5;66;03m# If we have a listlike key, _check_indexing_error will raise\u001b[39;00m\n\u001b[0;32m   3800\u001b[0m     \u001b[38;5;66;03m#  InvalidIndexError. Otherwise we fall through and re-raise\u001b[39;00m\n\u001b[0;32m   3801\u001b[0m     \u001b[38;5;66;03m#  the TypeError.\u001b[39;00m\n\u001b[0;32m   3802\u001b[0m     \u001b[38;5;28mself\u001b[39m\u001b[38;5;241m.\u001b[39m_check_indexing_error(key)\n",
      "\u001b[1;31mKeyError\u001b[0m: 1.0"
     ]
    }
   ],
   "source": [
    "import pandas as pd\n",
    "import plotly.graph_objects as go\n",
    "\n",
    "def create_rankings(df, years):\n",
    "    rank_columns = [\"rank_{}\".format(i) for i in range(len(years))]\n",
    "    for i, year in enumerate(years):\n",
    "        df[rank_columns[i]] = df.groupby('year')['new_rating'].rank(ascending=False)\n",
    "        \n",
    "    return df, rank_columns\n",
    "\n",
    "def add_text(fig, beer_name, x, y, text, font_size=12):\n",
    "    fig.add_trace(go.Scatter(x=[x], y=[y], text=[text], mode=\"text\", showlegend=False,\n",
    "                             textfont=dict(size=font_size), hoverinfo='text+x+y'))\n",
    "\n",
    "def add_pie_and_flag(fig, x, y, name, ratio):\n",
    "    fig.add_trace(go.Pie(labels=[name], values=[ratio], hole=0.4,\n",
    "                         marker=dict(colors=['rgba(255, 255, 255, 0)']),\n",
    "                         domain=dict(x=[x-0.15, x+0.15], y=[y-0.15, y+0.15]),\n",
    "                         hoverinfo='label+percent+name', showlegend=False))\n",
    "\n",
    "years = [\"2000\", \"2001\", \"2002\", \"2003\", \"2004\", \"2005\", \"2006\", \"2007\", \"2008\", \"2009\", \"2010\", \"2011\", \"2012\", \"2013\", \"2014\", \"2015\", \"2016\", \"2017\"]\n",
    "df = pd.read_csv(\"./../../Project/top_10_beers_by_year.csv\", index_col=None)\n",
    "df, rank_columns = create_rankings(df, years)\n",
    "\n",
    "fig = go.Figure()\n",
    "\n",
    "for i, row in df.iterrows():\n",
    "    print(row)\n",
    "    for j, rc in enumerate(rank_columns):\n",
    "        add_pie_and_flag(fig, j, -row[rc], name=row.beer_name, ratio=row[row[rc]] / row[rank_columns].max())\n",
    "\n",
    "    add_text(fig, row.beer_name, len(years) - 0.5, -(i + 1), f\"{row.beer_name} ({row[rank_columns[-1]]:.1f})\")\n",
    "\n",
    "fig.update_layout(\n",
    "    title_text=\"Top 10 Beers Each Year\",\n",
    "    xaxis=dict(visible=False),\n",
    "    yaxis=dict(visible=False),\n",
    "    autosize=False,\n",
    "    width=800,\n",
    "    height=600,\n",
    ")\n",
    "\n",
    "fig.show()\n"
   ]
  },
  {
   "cell_type": "code",
   "execution_count": 37,
   "metadata": {},
   "outputs": [
    {
     "data": {
      "application/vnd.plotly.v1+json": {
       "config": {
        "plotlyServerURL": "https://plot.ly"
       },
       "data": [
        {
         "marker": {
          "size": 10
         },
         "mode": "markers+text",
         "name": "2000",
         "text": [
          "Weihenstephaner Original",
          "Unibroue La Fin du Monde",
          "Unibroue Eau Bénite",
          "Unibroue Maudite",
          "Alley Kat Scona Gold",
          "Guinness Extra Stout (North America)",
          "Unibroue Blanche de Chambly",
          "Beck's Oktoberfest",
          "Wellington Iron Duke Strong Ale",
          "Smuttynose Portsmouth Lager"
         ],
         "type": "scatter",
         "visible": false,
         "x": [
          2000,
          2000,
          2000,
          2000,
          2000,
          2000,
          2000,
          2000,
          2000,
          2000
         ],
         "y": [
          10,
          9,
          8,
          7,
          6,
          5,
          4,
          3,
          2,
          1
         ]
        },
        {
         "marker": {
          "size": 10
         },
         "mode": "markers+text",
         "name": "2001",
         "text": [
          "Okanagan Spring Pale Ale",
          "Creemore Springs Premium Lager",
          "Ayinger Celebrator Doppelbock",
          "Paulaner Oktoberfest-Märzen",
          "Hancock Old Gambrinus Beer Light",
          "Samuel Smith's Organic Best Ale",
          "Unibroue Eau Bénite",
          "Wellington Imperial Russian Stout",
          "Apollo Pilsner",
          "Olands Premium Red Draught"
         ],
         "type": "scatter",
         "visible": false,
         "x": [
          2001,
          2001,
          2001,
          2001,
          2001,
          2001,
          2001,
          2001,
          2001,
          2001
         ],
         "y": [
          10,
          9,
          8,
          7,
          6,
          5,
          4,
          3,
          2,
          1
         ]
        },
        {
         "marker": {
          "size": 10
         },
         "mode": "markers+text",
         "name": "2002",
         "text": [
          "Casta Bruna",
          "Brava Cerveza",
          "Le Cheval Blanc Bière dHiver",
          "Hancock Old Gambrinus Beer Dark",
          "Upper Canada Dark Ale",
          "Thomas Hardy's Ale (1968-1999)",
          "Schwarzer Abt",
          "Rickards Gold",
          "Noche Buena",
          "Traquair House Ale"
         ],
         "type": "scatter",
         "visible": false,
         "x": [
          2002,
          2002,
          2002,
          2002,
          2002,
          2002,
          2002,
          2002,
          2002,
          2002
         ],
         "y": [
          10,
          9,
          8,
          7,
          6,
          5,
          4,
          3,
          2,
          1
         ]
        },
        {
         "marker": {
          "size": 10
         },
         "mode": "markers+text",
         "name": "2003",
         "text": [
          "Val-Dieu Triple",
          "Ørbæk Påskebryg",
          "Tsingtao Dark",
          "Trafalgar Winter Warmer",
          "Harvest Ale (Limited Edition)",
          "Hancock Old Gambrinus Beer Dark",
          "Brooklyn Black Chocolate Stout",
          "Thornbury Pickup No. 26 Pilsener",
          "Trappistes Rochefort 10",
          "Éphémère (Cranberry)"
         ],
         "type": "scatter",
         "visible": false,
         "x": [
          2003,
          2003,
          2003,
          2003,
          2003,
          2003,
          2003,
          2003,
          2003,
          2003
         ],
         "y": [
          10,
          9,
          8,
          7,
          6,
          5,
          4,
          3,
          2,
          1
         ]
        },
        {
         "marker": {
          "size": 10
         },
         "mode": "markers+text",
         "name": "2004",
         "text": [
          "Picaroons Irish Red",
          "Éphémère (Cranberry)",
          "Olands Export Ale",
          "Dieu du Ciel Péché Mortel",
          "De Dolle Speciaal Brouwsel 20",
          "Coopers Sparkling Ale",
          "Trappistes Rochefort 10",
          "Yo-Ho Yona Yona Ale",
          "Unibroue Seigneuriale",
          "Bièropholie Bock Émissaire"
         ],
         "type": "scatter",
         "visible": false,
         "x": [
          2004,
          2004,
          2004,
          2004,
          2004,
          2004,
          2004,
          2004,
          2004,
          2004
         ],
         "y": [
          10,
          9,
          8,
          7,
          6,
          5,
          4,
          3,
          2,
          1
         ]
        },
        {
         "marker": {
          "size": 10
         },
         "mode": "markers+text",
         "name": "2005",
         "text": [
          "Panil Barriquée  (Italy Version)",
          "Gale's Jubilee Ale (2002)",
          "Ursus Pils",
          "Lions Winter Ale",
          "Fuller's Special Edition ESB",
          "Scotch Irish Tsarina Katarina Imperial Stout",
          "Cantillon Spuyten Duyvil",
          "Brooklyn Black Chocolate Stout",
          "Mai Bock",
          "WinterCoat Oatmeal Stout"
         ],
         "type": "scatter",
         "visible": false,
         "x": [
          2005,
          2005,
          2005,
          2005,
          2005,
          2005,
          2005,
          2005,
          2005,
          2005
         ],
         "y": [
          10,
          9,
          8,
          7,
          6,
          5,
          4,
          3,
          2,
          1
         ]
        },
        {
         "marker": {
          "size": 10
         },
         "mode": "markers+text",
         "name": "2006",
         "text": [
          "Lakeport Pilsener",
          "Bedondaine et Bedons Ronds Reyne Descosse",
          "Phillips Amnesiac Double IPA",
          "Birrificio Italiano Tipopils",
          "Urbock 23°",
          "Granville Island GIBitter",
          "Bièropholie IPA",
          "Nickel Brook Ale (pre 2009)",
          "Little Creatures Pale Ale",
          "Smuggler's Ale"
         ],
         "type": "scatter",
         "visible": false,
         "x": [
          2006,
          2006,
          2006,
          2006,
          2006,
          2006,
          2006,
          2006,
          2006,
          2006
         ],
         "y": [
          10,
          9,
          8,
          7,
          6,
          5,
          4,
          3,
          2,
          1
         ]
        },
        {
         "marker": {
          "size": 10
         },
         "mode": "markers+text",
         "name": "2007",
         "text": [
          "Innis & Gunn Limited Edition 2005",
          "Les Trois Mousquetaires G.C. Porter Baltique",
          "Original Stieglbock",
          "Side Launch Wheat",
          "Schneider Weisse Tap 1 Mein Blondes",
          "Abbaye De Saint Bon-Chien",
          "Ølfabrikken Gammel Ekstra Porter",
          "La Lièvre IPA",
          "Drie Fonteinen Millennium Geuze",
          "Sanctification"
         ],
         "type": "scatter",
         "visible": false,
         "x": [
          2007,
          2007,
          2007,
          2007,
          2007,
          2007,
          2007,
          2007,
          2007,
          2007
         ],
         "y": [
          10,
          9,
          8,
          7,
          6,
          5,
          4,
          3,
          2,
          1
         ]
        },
        {
         "marker": {
          "size": 10
         },
         "mode": "markers+text",
         "name": "2008",
         "text": [
          "Kosmyk Charlie's Y2K Catastrophe Ale",
          "Alley Kat Bad Hare Day",
          "Mean Manalishi Double I.P.A.",
          "Baeren Rye",
          "Half Pints Bulldog Amber Ale",
          "Consecration",
          "Baladin Xyauyù Etichetta Rame (Copper Label)",
          "Terrapin Big Sloppy Monster",
          "Neumarkter Lammsbräu (Organic) Dunkel",
          "Old Crafty Hen"
         ],
         "type": "scatter",
         "visible": false,
         "x": [
          2008,
          2008,
          2008,
          2008,
          2008,
          2008,
          2008,
          2008,
          2008,
          2008
         ],
         "y": [
          10,
          9,
          8,
          7,
          6,
          5,
          4,
          3,
          2,
          1
         ]
        },
        {
         "marker": {
          "size": 10
         },
         "mode": "markers+text",
         "name": "2009",
         "text": [
          "Lvivske Porter",
          "Borefts Bok 2009",
          "Old Engine Oil Special Reserve (Aged In Malt Whiskey Casks)",
          "RJ Le Cheval Blanc Snoreau",
          "Granville Island Merry Monks Dopplebock",
          "Driftwood Sartori Harvest IPA",
          "Southampton Grand Cru",
          "Dieu du Ciel Solstice dÉté aux Framboises",
          "Primátor Premium",
          "Søgaards Trippel"
         ],
         "type": "scatter",
         "visible": false,
         "x": [
          2009,
          2009,
          2009,
          2009,
          2009,
          2009,
          2009,
          2009,
          2009,
          2009
         ],
         "y": [
          10,
          9,
          8,
          7,
          6,
          5,
          4,
          3,
          2,
          1
         ]
        },
        {
         "marker": {
          "size": 10
         },
         "mode": "markers+text",
         "name": "2010",
         "text": [
          "Piccolo Birrificio Ego",
          "Bedondaine et Bedons Ronds Reyne Descosse Gelée",
          "Saison Du Tracteur",
          "Birra del Borgo ReAle Extra",
          "Charlevoix Dominus Vobiscum Brut",
          "Toccalmatto Stray Dog No Rules Bitter",
          "La Trappe Quadrupel (Oak Aged)",
          "Birrificio del Ducato LUltima Luna",
          "Toccalmatto Sibilla",
          "Captivator Doppelbock"
         ],
         "type": "scatter",
         "visible": false,
         "x": [
          2010,
          2010,
          2010,
          2010,
          2010,
          2010,
          2010,
          2010,
          2010,
          2010
         ],
         "y": [
          10,
          9,
          8,
          7,
          6,
          5,
          4,
          3,
          2,
          1
         ]
        },
        {
         "marker": {
          "size": 10
         },
         "mode": "markers+text",
         "name": "2011",
         "text": [
          "Beer Here / Raasted Bukkake",
          "Drie Fonteinen Millennium Geuze",
          "Drie Fonteinen Oude Geuze 1998 (50th Anniversary)",
          "Eichbaum Pilsener",
          "Montegioco Quarta Runa",
          "Ølfabrikken Petit Blau",
          "Cantillon Don Quijote",
          "Les Brasseurs du Temps Mea Magna Culpa",
          "Cantillon Blåbær Lambik",
          "Tipo Pils"
         ],
         "type": "scatter",
         "visible": false,
         "x": [
          2011,
          2011,
          2011,
          2011,
          2011,
          2011,
          2011,
          2011,
          2011,
          2011
         ],
         "y": [
          10,
          9,
          8,
          7,
          6,
          5,
          4,
          3,
          2,
          1
         ]
        },
        {
         "marker": {
          "size": 10
         },
         "mode": "markers+text",
         "name": "2012",
         "text": [
          "Cantillon Loerik",
          "L'Amoureuse Rouge",
          "Kamenitza Lev",
          "Watermelon Warhead",
          "Drie Fonteinen Oude Geuze 1998 (50th Anniversary)",
          "Whistler Chocolate Winter Dunkel",
          "Le Cheval Blanc Double Bonheur",
          "Black Tokyo Horizon",
          "Depuration",
          "Ann"
         ],
         "type": "scatter",
         "visible": false,
         "x": [
          2012,
          2012,
          2012,
          2012,
          2012,
          2012,
          2012,
          2012,
          2012,
          2012
         ],
         "y": [
          10,
          9,
          8,
          7,
          6,
          5,
          4,
          3,
          2,
          1
         ]
        },
        {
         "marker": {
          "size": 10
         },
         "mode": "markers+text",
         "name": "2013",
         "text": [
          "Birra del Borgo Perle ai Porci (Pearls for Pigs)",
          "Edward",
          "Svaneke Julebryg",
          "Collesi 1970 Ambrata",
          "Bavarias Best Imperial Stout",
          "Innis & Gunn Spiced Rum Aged",
          "Brasseurs du Monde Gamme Festive Célébrante",
          "Cantillon Bruocsella (1900) Grand Cru",
          "Rapture",
          "Tamamura-Honten Yamabushi Saison 1 Aged in Oak Barrels"
         ],
         "type": "scatter",
         "visible": false,
         "x": [
          2013,
          2013,
          2013,
          2013,
          2013,
          2013,
          2013,
          2013,
          2013,
          2013
         ],
         "y": [
          10,
          9,
          8,
          7,
          6,
          5,
          4,
          3,
          2,
          1
         ]
        },
        {
         "marker": {
          "size": 10
         },
         "mode": "markers+text",
         "name": "2014",
         "text": [
          "Mandøl Smagen af Mandø",
          "Molson Standard Lager",
          "Extraomnes Saison",
          "Cantillon Spuyten Duyvil",
          "Wicked Juju",
          "Minerva Colonial",
          "Schneider Weisse Tap 6 Unser Aventinus",
          "Cantillon Blåbær Lambik",
          "Melbourne Bitter",
          "Cantillon Crianza Helena"
         ],
         "type": "scatter",
         "visible": false,
         "x": [
          2014,
          2014,
          2014,
          2014,
          2014,
          2014,
          2014,
          2014,
          2014,
          2014
         ],
         "y": [
          10,
          9,
          8,
          7,
          6,
          5,
          4,
          3,
          2,
          1
         ]
        },
        {
         "marker": {
          "size": 10
         },
         "mode": "markers+text",
         "name": "2015",
         "text": [
          "Opperbacco Blanche de Lotario",
          "Four Winds Phaedra Rye Wheat IPA",
          "Unibroue Blanche de Chambly",
          "Saison Bernice",
          "Charlevoix Dominus Vobiscum Lupulus",
          "Sanctification",
          "Dunham Saison Réserve",
          "Buxton / Omnipollo Yellow Belly Sundae",
          "Flying Monkeys City and Colour",
          "Driftwood Sartori Harvest IPA"
         ],
         "type": "scatter",
         "visible": false,
         "x": [
          2015,
          2015,
          2015,
          2015,
          2015,
          2015,
          2015,
          2015,
          2015,
          2015
         ],
         "y": [
          10,
          9,
          8,
          7,
          6,
          5,
          4,
          3,
          2,
          1
         ]
        },
        {
         "marker": {
          "size": 10
         },
         "mode": "markers+text",
         "name": "2016",
         "text": [
          "Indie Alehouse Zombie Apocalypse (Bourbon)",
          "Skovlyst Lossen",
          "Ghost Black Beast",
          "Charlevoix Dominus Vobiscum Lupulus",
          "Skovlyst Julebryg",
          "Xyauyù Etichetta Rame (Copper)",
          "To Øl Passion Of The Weisst",
          "Frejdahl Gudmund",
          "Hors Série Ceci N'est Pas Une Gueuze",
          "Aardmonnik - Earthmonk"
         ],
         "type": "scatter",
         "visible": false,
         "x": [
          2016,
          2016,
          2016,
          2016,
          2016,
          2016,
          2016,
          2016,
          2016,
          2016
         ],
         "y": [
          10,
          9,
          8,
          7,
          6,
          5,
          4,
          3,
          2,
          1
         ]
        },
        {
         "marker": {
          "size": 10
         },
         "mode": "markers+text",
         "name": "2017",
         "text": [
          "Coedo / Stone / Garage Project Tsuyu Saison",
          "Pladderballe Brodtgaard Basement Reserve",
          "Thisted Thy Ale",
          "Double Nelson",
          "RJ Le Cheval Blanc Double Blanche (IPA belge)",
          "Amager / Lervig Brown Boobies Falling",
          "Midtfyns Jule Stout",
          "Birrificio Italiano Nigredo (Negra 3.0)",
          "Benelux Moisson (2011)",
          "LoverBeer A Renna Glüh"
         ],
         "type": "scatter",
         "visible": true,
         "x": [
          2017,
          2017,
          2017,
          2017,
          2017,
          2017,
          2017,
          2017,
          2017,
          2017
         ],
         "y": [
          10,
          9,
          8,
          7,
          6,
          5,
          4,
          3,
          2,
          1
         ]
        }
       ],
       "layout": {
        "showlegend": true,
        "sliders": [
         {
          "active": 17,
          "steps": [
           {
            "args": [
             {
              "visible": [
               true,
               false,
               false,
               false,
               false,
               false,
               false,
               false,
               false,
               false,
               false,
               false,
               false,
               false,
               false,
               false,
               false,
               false
              ]
             }
            ],
            "label": "2000",
            "method": "update"
           },
           {
            "args": [
             {
              "visible": [
               false,
               true,
               false,
               false,
               false,
               false,
               false,
               false,
               false,
               false,
               false,
               false,
               false,
               false,
               false,
               false,
               false,
               false
              ]
             }
            ],
            "label": "2001",
            "method": "update"
           },
           {
            "args": [
             {
              "visible": [
               false,
               false,
               true,
               false,
               false,
               false,
               false,
               false,
               false,
               false,
               false,
               false,
               false,
               false,
               false,
               false,
               false,
               false
              ]
             }
            ],
            "label": "2002",
            "method": "update"
           },
           {
            "args": [
             {
              "visible": [
               false,
               false,
               false,
               true,
               false,
               false,
               false,
               false,
               false,
               false,
               false,
               false,
               false,
               false,
               false,
               false,
               false,
               false
              ]
             }
            ],
            "label": "2003",
            "method": "update"
           },
           {
            "args": [
             {
              "visible": [
               false,
               false,
               false,
               false,
               true,
               false,
               false,
               false,
               false,
               false,
               false,
               false,
               false,
               false,
               false,
               false,
               false,
               false
              ]
             }
            ],
            "label": "2004",
            "method": "update"
           },
           {
            "args": [
             {
              "visible": [
               false,
               false,
               false,
               false,
               false,
               true,
               false,
               false,
               false,
               false,
               false,
               false,
               false,
               false,
               false,
               false,
               false,
               false
              ]
             }
            ],
            "label": "2005",
            "method": "update"
           },
           {
            "args": [
             {
              "visible": [
               false,
               false,
               false,
               false,
               false,
               false,
               true,
               false,
               false,
               false,
               false,
               false,
               false,
               false,
               false,
               false,
               false,
               false
              ]
             }
            ],
            "label": "2006",
            "method": "update"
           },
           {
            "args": [
             {
              "visible": [
               false,
               false,
               false,
               false,
               false,
               false,
               false,
               true,
               false,
               false,
               false,
               false,
               false,
               false,
               false,
               false,
               false,
               false
              ]
             }
            ],
            "label": "2007",
            "method": "update"
           },
           {
            "args": [
             {
              "visible": [
               false,
               false,
               false,
               false,
               false,
               false,
               false,
               false,
               true,
               false,
               false,
               false,
               false,
               false,
               false,
               false,
               false,
               false
              ]
             }
            ],
            "label": "2008",
            "method": "update"
           },
           {
            "args": [
             {
              "visible": [
               false,
               false,
               false,
               false,
               false,
               false,
               false,
               false,
               false,
               true,
               false,
               false,
               false,
               false,
               false,
               false,
               false,
               false
              ]
             }
            ],
            "label": "2009",
            "method": "update"
           },
           {
            "args": [
             {
              "visible": [
               false,
               false,
               false,
               false,
               false,
               false,
               false,
               false,
               false,
               false,
               true,
               false,
               false,
               false,
               false,
               false,
               false,
               false
              ]
             }
            ],
            "label": "2010",
            "method": "update"
           },
           {
            "args": [
             {
              "visible": [
               false,
               false,
               false,
               false,
               false,
               false,
               false,
               false,
               false,
               false,
               false,
               true,
               false,
               false,
               false,
               false,
               false,
               false
              ]
             }
            ],
            "label": "2011",
            "method": "update"
           },
           {
            "args": [
             {
              "visible": [
               false,
               false,
               false,
               false,
               false,
               false,
               false,
               false,
               false,
               false,
               false,
               false,
               true,
               false,
               false,
               false,
               false,
               false
              ]
             }
            ],
            "label": "2012",
            "method": "update"
           },
           {
            "args": [
             {
              "visible": [
               false,
               false,
               false,
               false,
               false,
               false,
               false,
               false,
               false,
               false,
               false,
               false,
               false,
               true,
               false,
               false,
               false,
               false
              ]
             }
            ],
            "label": "2013",
            "method": "update"
           },
           {
            "args": [
             {
              "visible": [
               false,
               false,
               false,
               false,
               false,
               false,
               false,
               false,
               false,
               false,
               false,
               false,
               false,
               false,
               true,
               false,
               false,
               false
              ]
             }
            ],
            "label": "2014",
            "method": "update"
           },
           {
            "args": [
             {
              "visible": [
               false,
               false,
               false,
               false,
               false,
               false,
               false,
               false,
               false,
               false,
               false,
               false,
               false,
               false,
               false,
               true,
               false,
               false
              ]
             }
            ],
            "label": "2015",
            "method": "update"
           },
           {
            "args": [
             {
              "visible": [
               false,
               false,
               false,
               false,
               false,
               false,
               false,
               false,
               false,
               false,
               false,
               false,
               false,
               false,
               false,
               false,
               true,
               false
              ]
             }
            ],
            "label": "2016",
            "method": "update"
           },
           {
            "args": [
             {
              "visible": [
               false,
               false,
               false,
               false,
               false,
               false,
               false,
               false,
               false,
               false,
               false,
               false,
               false,
               false,
               false,
               false,
               false,
               true
              ]
             }
            ],
            "label": "2017",
            "method": "update"
           }
          ]
         }
        ],
        "template": {
         "data": {
          "bar": [
           {
            "error_x": {
             "color": "#2a3f5f"
            },
            "error_y": {
             "color": "#2a3f5f"
            },
            "marker": {
             "line": {
              "color": "#E5ECF6",
              "width": 0.5
             },
             "pattern": {
              "fillmode": "overlay",
              "size": 10,
              "solidity": 0.2
             }
            },
            "type": "bar"
           }
          ],
          "barpolar": [
           {
            "marker": {
             "line": {
              "color": "#E5ECF6",
              "width": 0.5
             },
             "pattern": {
              "fillmode": "overlay",
              "size": 10,
              "solidity": 0.2
             }
            },
            "type": "barpolar"
           }
          ],
          "carpet": [
           {
            "aaxis": {
             "endlinecolor": "#2a3f5f",
             "gridcolor": "white",
             "linecolor": "white",
             "minorgridcolor": "white",
             "startlinecolor": "#2a3f5f"
            },
            "baxis": {
             "endlinecolor": "#2a3f5f",
             "gridcolor": "white",
             "linecolor": "white",
             "minorgridcolor": "white",
             "startlinecolor": "#2a3f5f"
            },
            "type": "carpet"
           }
          ],
          "choropleth": [
           {
            "colorbar": {
             "outlinewidth": 0,
             "ticks": ""
            },
            "type": "choropleth"
           }
          ],
          "contour": [
           {
            "colorbar": {
             "outlinewidth": 0,
             "ticks": ""
            },
            "colorscale": [
             [
              0,
              "#0d0887"
             ],
             [
              0.1111111111111111,
              "#46039f"
             ],
             [
              0.2222222222222222,
              "#7201a8"
             ],
             [
              0.3333333333333333,
              "#9c179e"
             ],
             [
              0.4444444444444444,
              "#bd3786"
             ],
             [
              0.5555555555555556,
              "#d8576b"
             ],
             [
              0.6666666666666666,
              "#ed7953"
             ],
             [
              0.7777777777777778,
              "#fb9f3a"
             ],
             [
              0.8888888888888888,
              "#fdca26"
             ],
             [
              1,
              "#f0f921"
             ]
            ],
            "type": "contour"
           }
          ],
          "contourcarpet": [
           {
            "colorbar": {
             "outlinewidth": 0,
             "ticks": ""
            },
            "type": "contourcarpet"
           }
          ],
          "heatmap": [
           {
            "colorbar": {
             "outlinewidth": 0,
             "ticks": ""
            },
            "colorscale": [
             [
              0,
              "#0d0887"
             ],
             [
              0.1111111111111111,
              "#46039f"
             ],
             [
              0.2222222222222222,
              "#7201a8"
             ],
             [
              0.3333333333333333,
              "#9c179e"
             ],
             [
              0.4444444444444444,
              "#bd3786"
             ],
             [
              0.5555555555555556,
              "#d8576b"
             ],
             [
              0.6666666666666666,
              "#ed7953"
             ],
             [
              0.7777777777777778,
              "#fb9f3a"
             ],
             [
              0.8888888888888888,
              "#fdca26"
             ],
             [
              1,
              "#f0f921"
             ]
            ],
            "type": "heatmap"
           }
          ],
          "heatmapgl": [
           {
            "colorbar": {
             "outlinewidth": 0,
             "ticks": ""
            },
            "colorscale": [
             [
              0,
              "#0d0887"
             ],
             [
              0.1111111111111111,
              "#46039f"
             ],
             [
              0.2222222222222222,
              "#7201a8"
             ],
             [
              0.3333333333333333,
              "#9c179e"
             ],
             [
              0.4444444444444444,
              "#bd3786"
             ],
             [
              0.5555555555555556,
              "#d8576b"
             ],
             [
              0.6666666666666666,
              "#ed7953"
             ],
             [
              0.7777777777777778,
              "#fb9f3a"
             ],
             [
              0.8888888888888888,
              "#fdca26"
             ],
             [
              1,
              "#f0f921"
             ]
            ],
            "type": "heatmapgl"
           }
          ],
          "histogram": [
           {
            "marker": {
             "pattern": {
              "fillmode": "overlay",
              "size": 10,
              "solidity": 0.2
             }
            },
            "type": "histogram"
           }
          ],
          "histogram2d": [
           {
            "colorbar": {
             "outlinewidth": 0,
             "ticks": ""
            },
            "colorscale": [
             [
              0,
              "#0d0887"
             ],
             [
              0.1111111111111111,
              "#46039f"
             ],
             [
              0.2222222222222222,
              "#7201a8"
             ],
             [
              0.3333333333333333,
              "#9c179e"
             ],
             [
              0.4444444444444444,
              "#bd3786"
             ],
             [
              0.5555555555555556,
              "#d8576b"
             ],
             [
              0.6666666666666666,
              "#ed7953"
             ],
             [
              0.7777777777777778,
              "#fb9f3a"
             ],
             [
              0.8888888888888888,
              "#fdca26"
             ],
             [
              1,
              "#f0f921"
             ]
            ],
            "type": "histogram2d"
           }
          ],
          "histogram2dcontour": [
           {
            "colorbar": {
             "outlinewidth": 0,
             "ticks": ""
            },
            "colorscale": [
             [
              0,
              "#0d0887"
             ],
             [
              0.1111111111111111,
              "#46039f"
             ],
             [
              0.2222222222222222,
              "#7201a8"
             ],
             [
              0.3333333333333333,
              "#9c179e"
             ],
             [
              0.4444444444444444,
              "#bd3786"
             ],
             [
              0.5555555555555556,
              "#d8576b"
             ],
             [
              0.6666666666666666,
              "#ed7953"
             ],
             [
              0.7777777777777778,
              "#fb9f3a"
             ],
             [
              0.8888888888888888,
              "#fdca26"
             ],
             [
              1,
              "#f0f921"
             ]
            ],
            "type": "histogram2dcontour"
           }
          ],
          "mesh3d": [
           {
            "colorbar": {
             "outlinewidth": 0,
             "ticks": ""
            },
            "type": "mesh3d"
           }
          ],
          "parcoords": [
           {
            "line": {
             "colorbar": {
              "outlinewidth": 0,
              "ticks": ""
             }
            },
            "type": "parcoords"
           }
          ],
          "pie": [
           {
            "automargin": true,
            "type": "pie"
           }
          ],
          "scatter": [
           {
            "fillpattern": {
             "fillmode": "overlay",
             "size": 10,
             "solidity": 0.2
            },
            "type": "scatter"
           }
          ],
          "scatter3d": [
           {
            "line": {
             "colorbar": {
              "outlinewidth": 0,
              "ticks": ""
             }
            },
            "marker": {
             "colorbar": {
              "outlinewidth": 0,
              "ticks": ""
             }
            },
            "type": "scatter3d"
           }
          ],
          "scattercarpet": [
           {
            "marker": {
             "colorbar": {
              "outlinewidth": 0,
              "ticks": ""
             }
            },
            "type": "scattercarpet"
           }
          ],
          "scattergeo": [
           {
            "marker": {
             "colorbar": {
              "outlinewidth": 0,
              "ticks": ""
             }
            },
            "type": "scattergeo"
           }
          ],
          "scattergl": [
           {
            "marker": {
             "colorbar": {
              "outlinewidth": 0,
              "ticks": ""
             }
            },
            "type": "scattergl"
           }
          ],
          "scattermapbox": [
           {
            "marker": {
             "colorbar": {
              "outlinewidth": 0,
              "ticks": ""
             }
            },
            "type": "scattermapbox"
           }
          ],
          "scatterpolar": [
           {
            "marker": {
             "colorbar": {
              "outlinewidth": 0,
              "ticks": ""
             }
            },
            "type": "scatterpolar"
           }
          ],
          "scatterpolargl": [
           {
            "marker": {
             "colorbar": {
              "outlinewidth": 0,
              "ticks": ""
             }
            },
            "type": "scatterpolargl"
           }
          ],
          "scatterternary": [
           {
            "marker": {
             "colorbar": {
              "outlinewidth": 0,
              "ticks": ""
             }
            },
            "type": "scatterternary"
           }
          ],
          "surface": [
           {
            "colorbar": {
             "outlinewidth": 0,
             "ticks": ""
            },
            "colorscale": [
             [
              0,
              "#0d0887"
             ],
             [
              0.1111111111111111,
              "#46039f"
             ],
             [
              0.2222222222222222,
              "#7201a8"
             ],
             [
              0.3333333333333333,
              "#9c179e"
             ],
             [
              0.4444444444444444,
              "#bd3786"
             ],
             [
              0.5555555555555556,
              "#d8576b"
             ],
             [
              0.6666666666666666,
              "#ed7953"
             ],
             [
              0.7777777777777778,
              "#fb9f3a"
             ],
             [
              0.8888888888888888,
              "#fdca26"
             ],
             [
              1,
              "#f0f921"
             ]
            ],
            "type": "surface"
           }
          ],
          "table": [
           {
            "cells": {
             "fill": {
              "color": "#EBF0F8"
             },
             "line": {
              "color": "white"
             }
            },
            "header": {
             "fill": {
              "color": "#C8D4E3"
             },
             "line": {
              "color": "white"
             }
            },
            "type": "table"
           }
          ]
         },
         "layout": {
          "annotationdefaults": {
           "arrowcolor": "#2a3f5f",
           "arrowhead": 0,
           "arrowwidth": 1
          },
          "autotypenumbers": "strict",
          "coloraxis": {
           "colorbar": {
            "outlinewidth": 0,
            "ticks": ""
           }
          },
          "colorscale": {
           "diverging": [
            [
             0,
             "#8e0152"
            ],
            [
             0.1,
             "#c51b7d"
            ],
            [
             0.2,
             "#de77ae"
            ],
            [
             0.3,
             "#f1b6da"
            ],
            [
             0.4,
             "#fde0ef"
            ],
            [
             0.5,
             "#f7f7f7"
            ],
            [
             0.6,
             "#e6f5d0"
            ],
            [
             0.7,
             "#b8e186"
            ],
            [
             0.8,
             "#7fbc41"
            ],
            [
             0.9,
             "#4d9221"
            ],
            [
             1,
             "#276419"
            ]
           ],
           "sequential": [
            [
             0,
             "#0d0887"
            ],
            [
             0.1111111111111111,
             "#46039f"
            ],
            [
             0.2222222222222222,
             "#7201a8"
            ],
            [
             0.3333333333333333,
             "#9c179e"
            ],
            [
             0.4444444444444444,
             "#bd3786"
            ],
            [
             0.5555555555555556,
             "#d8576b"
            ],
            [
             0.6666666666666666,
             "#ed7953"
            ],
            [
             0.7777777777777778,
             "#fb9f3a"
            ],
            [
             0.8888888888888888,
             "#fdca26"
            ],
            [
             1,
             "#f0f921"
            ]
           ],
           "sequentialminus": [
            [
             0,
             "#0d0887"
            ],
            [
             0.1111111111111111,
             "#46039f"
            ],
            [
             0.2222222222222222,
             "#7201a8"
            ],
            [
             0.3333333333333333,
             "#9c179e"
            ],
            [
             0.4444444444444444,
             "#bd3786"
            ],
            [
             0.5555555555555556,
             "#d8576b"
            ],
            [
             0.6666666666666666,
             "#ed7953"
            ],
            [
             0.7777777777777778,
             "#fb9f3a"
            ],
            [
             0.8888888888888888,
             "#fdca26"
            ],
            [
             1,
             "#f0f921"
            ]
           ]
          },
          "colorway": [
           "#636efa",
           "#EF553B",
           "#00cc96",
           "#ab63fa",
           "#FFA15A",
           "#19d3f3",
           "#FF6692",
           "#B6E880",
           "#FF97FF",
           "#FECB52"
          ],
          "font": {
           "color": "#2a3f5f"
          },
          "geo": {
           "bgcolor": "white",
           "lakecolor": "white",
           "landcolor": "#E5ECF6",
           "showlakes": true,
           "showland": true,
           "subunitcolor": "white"
          },
          "hoverlabel": {
           "align": "left"
          },
          "hovermode": "closest",
          "mapbox": {
           "style": "light"
          },
          "paper_bgcolor": "white",
          "plot_bgcolor": "#E5ECF6",
          "polar": {
           "angularaxis": {
            "gridcolor": "white",
            "linecolor": "white",
            "ticks": ""
           },
           "bgcolor": "#E5ECF6",
           "radialaxis": {
            "gridcolor": "white",
            "linecolor": "white",
            "ticks": ""
           }
          },
          "scene": {
           "xaxis": {
            "backgroundcolor": "#E5ECF6",
            "gridcolor": "white",
            "gridwidth": 2,
            "linecolor": "white",
            "showbackground": true,
            "ticks": "",
            "zerolinecolor": "white"
           },
           "yaxis": {
            "backgroundcolor": "#E5ECF6",
            "gridcolor": "white",
            "gridwidth": 2,
            "linecolor": "white",
            "showbackground": true,
            "ticks": "",
            "zerolinecolor": "white"
           },
           "zaxis": {
            "backgroundcolor": "#E5ECF6",
            "gridcolor": "white",
            "gridwidth": 2,
            "linecolor": "white",
            "showbackground": true,
            "ticks": "",
            "zerolinecolor": "white"
           }
          },
          "shapedefaults": {
           "line": {
            "color": "#2a3f5f"
           }
          },
          "ternary": {
           "aaxis": {
            "gridcolor": "white",
            "linecolor": "white",
            "ticks": ""
           },
           "baxis": {
            "gridcolor": "white",
            "linecolor": "white",
            "ticks": ""
           },
           "bgcolor": "#E5ECF6",
           "caxis": {
            "gridcolor": "white",
            "linecolor": "white",
            "ticks": ""
           }
          },
          "title": {
           "x": 0.05
          },
          "xaxis": {
           "automargin": true,
           "gridcolor": "white",
           "linecolor": "white",
           "ticks": "",
           "title": {
            "standoff": 15
           },
           "zerolinecolor": "white",
           "zerolinewidth": 2
          },
          "yaxis": {
           "automargin": true,
           "gridcolor": "white",
           "linecolor": "white",
           "ticks": "",
           "title": {
            "standoff": 15
           },
           "zerolinecolor": "white",
           "zerolinewidth": 2
          }
         }
        },
        "title": {
         "text": "Evolution of Top 10 Beers"
        },
        "xaxis": {
         "tickmode": "array",
         "ticktext": [
          "2000",
          "2001",
          "2002",
          "2003",
          "2004",
          "2005",
          "2006",
          "2007",
          "2008",
          "2009",
          "2010",
          "2011",
          "2012",
          "2013",
          "2014",
          "2015",
          "2016",
          "2017"
         ],
         "tickvals": [
          2000,
          2001,
          2002,
          2003,
          2004,
          2005,
          2006,
          2007,
          2008,
          2009,
          2010,
          2011,
          2012,
          2013,
          2014,
          2015,
          2016,
          2017
         ],
         "title": {
          "text": "Year"
         }
        },
        "yaxis": {
         "autorange": "reversed",
         "title": {
          "text": "Position in Top 10"
         }
        }
       }
      }
     },
     "metadata": {},
     "output_type": "display_data"
    }
   ],
   "source": [
    "import pandas as pd\n",
    "import plotly.graph_objects as go\n",
    "\n",
    "years = [\"2000\", \"2001\", \"2002\", \"2003\", \"2004\", \"2005\", \"2006\", \"2007\", \"2008\", \"2009\", \"2010\", \"2011\", \"2012\", \"2013\", \"2014\", \"2015\", \"2016\", \"2017\"]\n",
    "df = pd.read_csv(\"./../../Project/top_10_beers_by_year.csv\", index_col=None)\n",
    "df, rank_columns = create_rankings(df, years)\n",
    "# Supposons que df est votre DataFrame contenant beer_name, year, new_rating et ranks\n",
    "years = sorted(df['year'].unique())\n",
    "rank_columns = [f'rank_{i}' for i in range(10)]\n",
    "\n",
    "# Remplir les rangs manquants en répétant le dernier classement disponible\n",
    "df_filled = df.copy()\n",
    "for year in years:\n",
    "    last_ranking = None\n",
    "    for rank_column in rank_columns:\n",
    "        mask = (df['year'] == year) & df_filled[rank_column].isna()\n",
    "        df_filled.loc[mask, rank_column] = last_ranking\n",
    "        last_ranking = df_filled[mask][rank_column].max()\n",
    "\n",
    "fig = go.Figure()\n",
    "\n",
    "# Ajouter un scatter pour chaque année entière\n",
    "scatter_data = []\n",
    "for i, year in enumerate(years):\n",
    "    if year.is_integer():  # Exclure les années avec des décimales\n",
    "        top_10 = df_filled[df_filled['year'] == year].nlargest(10, 'new_rating')\n",
    "        scatter_data.append(go.Scatter(\n",
    "            x=[year] * 10,\n",
    "            y=list(range(10, 0, -1)),  # Inverser l'axe y\n",
    "            mode='markers+text',\n",
    "            marker=dict(size=10),\n",
    "            text=top_10['beer_name'],\n",
    "            name=str(int(year)),  # Convertir l'année en entier pour l'affichage\n",
    "            visible=(i == len(years) - 1),  # La dernière année est visible par défaut\n",
    "        ))\n",
    "\n",
    "fig.update_layout(\n",
    "    title='Evolution of Top 10 Beers',\n",
    "    xaxis=dict(title='Year', tickmode='array', tickvals=years, ticktext=[str(int(year)) for year in years]),  # Utiliser les années entières sur l'axe x\n",
    "    yaxis=dict(title='Position in Top 10', autorange='reversed'),  # Inverser l'axe y\n",
    "    showlegend=True,\n",
    "    sliders=[{\n",
    "        'active': len(years) - 1,\n",
    "        'steps': [{'label': str(int(year)), 'method': 'update', 'args': [{'visible': [i == j for j in range(len(years))]}]} for i, year in enumerate(years)]\n",
    "    }],\n",
    ")\n",
    "\n",
    "fig.add_traces(scatter_data)\n",
    "\n",
    "fig.show()"
   ]
  },
  {
   "cell_type": "code",
   "execution_count": 44,
   "metadata": {},
   "outputs": [
    {
     "data": {
      "application/vnd.plotly.v1+json": {
       "config": {
        "plotlyServerURL": "https://plot.ly"
       },
       "data": [
        {
         "marker": {
          "size": 10
         },
         "mode": "markers+text",
         "name": "2000",
         "text": [
          "Weihenstephaner Original",
          "Unibroue La Fin du Monde",
          "Unibroue Eau Bénite",
          "Unibroue Maudite",
          "Alley Kat Scona Gold",
          "Guinness Extra Stout (North America)",
          "Unibroue Blanche de Chambly",
          "Beck's Oktoberfest",
          "Wellington Iron Duke Strong Ale",
          "Smuttynose Portsmouth Lager"
         ],
         "textposition": "middle right",
         "type": "scatter",
         "visible": false,
         "x": [
          "2000",
          "2000",
          "2000",
          "2000",
          "2000",
          "2000",
          "2000",
          "2000",
          "2000",
          "2000"
         ],
         "y": [
          10,
          9,
          8,
          7,
          6,
          5,
          4,
          3,
          2,
          1
         ]
        },
        {
         "marker": {
          "size": 10
         },
         "mode": "markers+text",
         "name": "2001",
         "text": [
          "Okanagan Spring Pale Ale",
          "Creemore Springs Premium Lager",
          "Ayinger Celebrator Doppelbock",
          "Paulaner Oktoberfest-Märzen",
          "Hancock Old Gambrinus Beer Light",
          "Samuel Smith's Organic Best Ale",
          "Unibroue Eau Bénite",
          "Wellington Imperial Russian Stout",
          "Apollo Pilsner",
          "Olands Premium Red Draught"
         ],
         "textposition": "middle right",
         "type": "scatter",
         "visible": false,
         "x": [
          "2001",
          "2001",
          "2001",
          "2001",
          "2001",
          "2001",
          "2001",
          "2001",
          "2001",
          "2001"
         ],
         "y": [
          10,
          9,
          8,
          7,
          6,
          5,
          4,
          3,
          2,
          1
         ]
        },
        {
         "marker": {
          "size": 10
         },
         "mode": "markers+text",
         "name": "2002",
         "text": [
          "Casta Bruna",
          "Brava Cerveza",
          "Le Cheval Blanc Bière dHiver",
          "Hancock Old Gambrinus Beer Dark",
          "Upper Canada Dark Ale",
          "Thomas Hardy's Ale (1968-1999)",
          "Schwarzer Abt",
          "Rickards Gold",
          "Noche Buena",
          "Traquair House Ale"
         ],
         "textposition": "middle right",
         "type": "scatter",
         "visible": false,
         "x": [
          "2002",
          "2002",
          "2002",
          "2002",
          "2002",
          "2002",
          "2002",
          "2002",
          "2002",
          "2002"
         ],
         "y": [
          10,
          9,
          8,
          7,
          6,
          5,
          4,
          3,
          2,
          1
         ]
        },
        {
         "marker": {
          "size": 10
         },
         "mode": "markers+text",
         "name": "2003",
         "text": [
          "Val-Dieu Triple",
          "Ørbæk Påskebryg",
          "Tsingtao Dark",
          "Trafalgar Winter Warmer",
          "Harvest Ale (Limited Edition)",
          "Hancock Old Gambrinus Beer Dark",
          "Brooklyn Black Chocolate Stout",
          "Thornbury Pickup No. 26 Pilsener",
          "Trappistes Rochefort 10",
          "Éphémère (Cranberry)"
         ],
         "textposition": "middle right",
         "type": "scatter",
         "visible": false,
         "x": [
          "2003",
          "2003",
          "2003",
          "2003",
          "2003",
          "2003",
          "2003",
          "2003",
          "2003",
          "2003"
         ],
         "y": [
          10,
          9,
          8,
          7,
          6,
          5,
          4,
          3,
          2,
          1
         ]
        },
        {
         "marker": {
          "size": 10
         },
         "mode": "markers+text",
         "name": "2004",
         "text": [
          "Picaroons Irish Red",
          "Éphémère (Cranberry)",
          "Olands Export Ale",
          "Dieu du Ciel Péché Mortel",
          "De Dolle Speciaal Brouwsel 20",
          "Coopers Sparkling Ale",
          "Trappistes Rochefort 10",
          "Yo-Ho Yona Yona Ale",
          "Unibroue Seigneuriale",
          "Bièropholie Bock Émissaire"
         ],
         "textposition": "middle right",
         "type": "scatter",
         "visible": false,
         "x": [
          "2004",
          "2004",
          "2004",
          "2004",
          "2004",
          "2004",
          "2004",
          "2004",
          "2004",
          "2004"
         ],
         "y": [
          10,
          9,
          8,
          7,
          6,
          5,
          4,
          3,
          2,
          1
         ]
        },
        {
         "marker": {
          "size": 10
         },
         "mode": "markers+text",
         "name": "2005",
         "text": [
          "Panil Barriquée  (Italy Version)",
          "Gale's Jubilee Ale (2002)",
          "Ursus Pils",
          "Lions Winter Ale",
          "Fuller's Special Edition ESB",
          "Scotch Irish Tsarina Katarina Imperial Stout",
          "Cantillon Spuyten Duyvil",
          "Brooklyn Black Chocolate Stout",
          "Mai Bock",
          "WinterCoat Oatmeal Stout"
         ],
         "textposition": "middle right",
         "type": "scatter",
         "visible": false,
         "x": [
          "2005",
          "2005",
          "2005",
          "2005",
          "2005",
          "2005",
          "2005",
          "2005",
          "2005",
          "2005"
         ],
         "y": [
          10,
          9,
          8,
          7,
          6,
          5,
          4,
          3,
          2,
          1
         ]
        },
        {
         "marker": {
          "size": 10
         },
         "mode": "markers+text",
         "name": "2006",
         "text": [
          "Lakeport Pilsener",
          "Bedondaine et Bedons Ronds Reyne Descosse",
          "Phillips Amnesiac Double IPA",
          "Birrificio Italiano Tipopils",
          "Urbock 23°",
          "Granville Island GIBitter",
          "Bièropholie IPA",
          "Nickel Brook Ale (pre 2009)",
          "Little Creatures Pale Ale",
          "Smuggler's Ale"
         ],
         "textposition": "middle right",
         "type": "scatter",
         "visible": false,
         "x": [
          "2006",
          "2006",
          "2006",
          "2006",
          "2006",
          "2006",
          "2006",
          "2006",
          "2006",
          "2006"
         ],
         "y": [
          10,
          9,
          8,
          7,
          6,
          5,
          4,
          3,
          2,
          1
         ]
        },
        {
         "marker": {
          "size": 10
         },
         "mode": "markers+text",
         "name": "2007",
         "text": [
          "Innis & Gunn Limited Edition 2005",
          "Les Trois Mousquetaires G.C. Porter Baltique",
          "Original Stieglbock",
          "Side Launch Wheat",
          "Schneider Weisse Tap 1 Mein Blondes",
          "Abbaye De Saint Bon-Chien",
          "Ølfabrikken Gammel Ekstra Porter",
          "La Lièvre IPA",
          "Drie Fonteinen Millennium Geuze",
          "Sanctification"
         ],
         "textposition": "middle right",
         "type": "scatter",
         "visible": false,
         "x": [
          "2007",
          "2007",
          "2007",
          "2007",
          "2007",
          "2007",
          "2007",
          "2007",
          "2007",
          "2007"
         ],
         "y": [
          10,
          9,
          8,
          7,
          6,
          5,
          4,
          3,
          2,
          1
         ]
        },
        {
         "marker": {
          "size": 10
         },
         "mode": "markers+text",
         "name": "2008",
         "text": [
          "Kosmyk Charlie's Y2K Catastrophe Ale",
          "Alley Kat Bad Hare Day",
          "Mean Manalishi Double I.P.A.",
          "Baeren Rye",
          "Half Pints Bulldog Amber Ale",
          "Consecration",
          "Baladin Xyauyù Etichetta Rame (Copper Label)",
          "Terrapin Big Sloppy Monster",
          "Neumarkter Lammsbräu (Organic) Dunkel",
          "Old Crafty Hen"
         ],
         "textposition": "middle right",
         "type": "scatter",
         "visible": false,
         "x": [
          "2008",
          "2008",
          "2008",
          "2008",
          "2008",
          "2008",
          "2008",
          "2008",
          "2008",
          "2008"
         ],
         "y": [
          10,
          9,
          8,
          7,
          6,
          5,
          4,
          3,
          2,
          1
         ]
        },
        {
         "marker": {
          "size": 10
         },
         "mode": "markers+text",
         "name": "2009",
         "text": [
          "Lvivske Porter",
          "Borefts Bok 2009",
          "Old Engine Oil Special Reserve (Aged In Malt Whiskey Casks)",
          "RJ Le Cheval Blanc Snoreau",
          "Granville Island Merry Monks Dopplebock",
          "Driftwood Sartori Harvest IPA",
          "Southampton Grand Cru",
          "Dieu du Ciel Solstice dÉté aux Framboises",
          "Primátor Premium",
          "Søgaards Trippel"
         ],
         "textposition": "middle right",
         "type": "scatter",
         "visible": false,
         "x": [
          "2009",
          "2009",
          "2009",
          "2009",
          "2009",
          "2009",
          "2009",
          "2009",
          "2009",
          "2009"
         ],
         "y": [
          10,
          9,
          8,
          7,
          6,
          5,
          4,
          3,
          2,
          1
         ]
        },
        {
         "marker": {
          "size": 10
         },
         "mode": "markers+text",
         "name": "2010",
         "text": [
          "Piccolo Birrificio Ego",
          "Bedondaine et Bedons Ronds Reyne Descosse Gelée",
          "Saison Du Tracteur",
          "Birra del Borgo ReAle Extra",
          "Charlevoix Dominus Vobiscum Brut",
          "Toccalmatto Stray Dog No Rules Bitter",
          "La Trappe Quadrupel (Oak Aged)",
          "Birrificio del Ducato LUltima Luna",
          "Toccalmatto Sibilla",
          "Captivator Doppelbock"
         ],
         "textposition": "middle right",
         "type": "scatter",
         "visible": false,
         "x": [
          "2010",
          "2010",
          "2010",
          "2010",
          "2010",
          "2010",
          "2010",
          "2010",
          "2010",
          "2010"
         ],
         "y": [
          10,
          9,
          8,
          7,
          6,
          5,
          4,
          3,
          2,
          1
         ]
        },
        {
         "marker": {
          "size": 10
         },
         "mode": "markers+text",
         "name": "2011",
         "text": [
          "Beer Here / Raasted Bukkake",
          "Drie Fonteinen Millennium Geuze",
          "Drie Fonteinen Oude Geuze 1998 (50th Anniversary)",
          "Eichbaum Pilsener",
          "Montegioco Quarta Runa",
          "Ølfabrikken Petit Blau",
          "Cantillon Don Quijote",
          "Les Brasseurs du Temps Mea Magna Culpa",
          "Cantillon Blåbær Lambik",
          "Tipo Pils"
         ],
         "textposition": "middle right",
         "type": "scatter",
         "visible": false,
         "x": [
          "2011",
          "2011",
          "2011",
          "2011",
          "2011",
          "2011",
          "2011",
          "2011",
          "2011",
          "2011"
         ],
         "y": [
          10,
          9,
          8,
          7,
          6,
          5,
          4,
          3,
          2,
          1
         ]
        },
        {
         "marker": {
          "size": 10
         },
         "mode": "markers+text",
         "name": "2012",
         "text": [
          "Cantillon Loerik",
          "L'Amoureuse Rouge",
          "Kamenitza Lev",
          "Watermelon Warhead",
          "Drie Fonteinen Oude Geuze 1998 (50th Anniversary)",
          "Whistler Chocolate Winter Dunkel",
          "Le Cheval Blanc Double Bonheur",
          "Black Tokyo Horizon",
          "Depuration",
          "Ann"
         ],
         "textposition": "middle right",
         "type": "scatter",
         "visible": false,
         "x": [
          "2012",
          "2012",
          "2012",
          "2012",
          "2012",
          "2012",
          "2012",
          "2012",
          "2012",
          "2012"
         ],
         "y": [
          10,
          9,
          8,
          7,
          6,
          5,
          4,
          3,
          2,
          1
         ]
        },
        {
         "marker": {
          "size": 10
         },
         "mode": "markers+text",
         "name": "2013",
         "text": [
          "Birra del Borgo Perle ai Porci (Pearls for Pigs)",
          "Edward",
          "Svaneke Julebryg",
          "Collesi 1970 Ambrata",
          "Bavarias Best Imperial Stout",
          "Innis & Gunn Spiced Rum Aged",
          "Brasseurs du Monde Gamme Festive Célébrante",
          "Cantillon Bruocsella (1900) Grand Cru",
          "Rapture",
          "Tamamura-Honten Yamabushi Saison 1 Aged in Oak Barrels"
         ],
         "textposition": "middle right",
         "type": "scatter",
         "visible": false,
         "x": [
          "2013",
          "2013",
          "2013",
          "2013",
          "2013",
          "2013",
          "2013",
          "2013",
          "2013",
          "2013"
         ],
         "y": [
          10,
          9,
          8,
          7,
          6,
          5,
          4,
          3,
          2,
          1
         ]
        },
        {
         "marker": {
          "size": 10
         },
         "mode": "markers+text",
         "name": "2014",
         "text": [
          "Mandøl Smagen af Mandø",
          "Molson Standard Lager",
          "Extraomnes Saison",
          "Cantillon Spuyten Duyvil",
          "Wicked Juju",
          "Minerva Colonial",
          "Schneider Weisse Tap 6 Unser Aventinus",
          "Cantillon Blåbær Lambik",
          "Melbourne Bitter",
          "Cantillon Crianza Helena"
         ],
         "textposition": "middle right",
         "type": "scatter",
         "visible": false,
         "x": [
          "2014",
          "2014",
          "2014",
          "2014",
          "2014",
          "2014",
          "2014",
          "2014",
          "2014",
          "2014"
         ],
         "y": [
          10,
          9,
          8,
          7,
          6,
          5,
          4,
          3,
          2,
          1
         ]
        },
        {
         "marker": {
          "size": 10
         },
         "mode": "markers+text",
         "name": "2015",
         "text": [
          "Opperbacco Blanche de Lotario",
          "Four Winds Phaedra Rye Wheat IPA",
          "Unibroue Blanche de Chambly",
          "Saison Bernice",
          "Charlevoix Dominus Vobiscum Lupulus",
          "Sanctification",
          "Dunham Saison Réserve",
          "Buxton / Omnipollo Yellow Belly Sundae",
          "Flying Monkeys City and Colour",
          "Driftwood Sartori Harvest IPA"
         ],
         "textposition": "middle right",
         "type": "scatter",
         "visible": false,
         "x": [
          "2015",
          "2015",
          "2015",
          "2015",
          "2015",
          "2015",
          "2015",
          "2015",
          "2015",
          "2015"
         ],
         "y": [
          10,
          9,
          8,
          7,
          6,
          5,
          4,
          3,
          2,
          1
         ]
        },
        {
         "marker": {
          "size": 10
         },
         "mode": "markers+text",
         "name": "2016",
         "text": [
          "Indie Alehouse Zombie Apocalypse (Bourbon)",
          "Skovlyst Lossen",
          "Ghost Black Beast",
          "Charlevoix Dominus Vobiscum Lupulus",
          "Skovlyst Julebryg",
          "Xyauyù Etichetta Rame (Copper)",
          "To Øl Passion Of The Weisst",
          "Frejdahl Gudmund",
          "Hors Série Ceci N'est Pas Une Gueuze",
          "Aardmonnik - Earthmonk"
         ],
         "textposition": "middle right",
         "type": "scatter",
         "visible": false,
         "x": [
          "2016",
          "2016",
          "2016",
          "2016",
          "2016",
          "2016",
          "2016",
          "2016",
          "2016",
          "2016"
         ],
         "y": [
          10,
          9,
          8,
          7,
          6,
          5,
          4,
          3,
          2,
          1
         ]
        },
        {
         "marker": {
          "size": 10
         },
         "mode": "markers+text",
         "name": "2017",
         "text": [
          "Coedo / Stone / Garage Project Tsuyu Saison",
          "Pladderballe Brodtgaard Basement Reserve",
          "Thisted Thy Ale",
          "Double Nelson",
          "RJ Le Cheval Blanc Double Blanche (IPA belge)",
          "Amager / Lervig Brown Boobies Falling",
          "Midtfyns Jule Stout",
          "Birrificio Italiano Nigredo (Negra 3.0)",
          "Benelux Moisson (2011)",
          "LoverBeer A Renna Glüh"
         ],
         "textposition": "middle right",
         "type": "scatter",
         "visible": true,
         "x": [
          "2017",
          "2017",
          "2017",
          "2017",
          "2017",
          "2017",
          "2017",
          "2017",
          "2017",
          "2017"
         ],
         "y": [
          10,
          9,
          8,
          7,
          6,
          5,
          4,
          3,
          2,
          1
         ]
        }
       ],
       "layout": {
        "showlegend": false,
        "sliders": [
         {
          "active": 17,
          "steps": [
           {
            "args": [
             {
              "visible": [
               true,
               false,
               false,
               false,
               false,
               false,
               false,
               false,
               false,
               false,
               false,
               false,
               false,
               false,
               false,
               false,
               false,
               false
              ]
             }
            ],
            "label": "2000",
            "method": "update"
           },
           {
            "args": [
             {
              "visible": [
               false,
               true,
               false,
               false,
               false,
               false,
               false,
               false,
               false,
               false,
               false,
               false,
               false,
               false,
               false,
               false,
               false,
               false
              ]
             }
            ],
            "label": "2001",
            "method": "update"
           },
           {
            "args": [
             {
              "visible": [
               false,
               false,
               true,
               false,
               false,
               false,
               false,
               false,
               false,
               false,
               false,
               false,
               false,
               false,
               false,
               false,
               false,
               false
              ]
             }
            ],
            "label": "2002",
            "method": "update"
           },
           {
            "args": [
             {
              "visible": [
               false,
               false,
               false,
               true,
               false,
               false,
               false,
               false,
               false,
               false,
               false,
               false,
               false,
               false,
               false,
               false,
               false,
               false
              ]
             }
            ],
            "label": "2003",
            "method": "update"
           },
           {
            "args": [
             {
              "visible": [
               false,
               false,
               false,
               false,
               true,
               false,
               false,
               false,
               false,
               false,
               false,
               false,
               false,
               false,
               false,
               false,
               false,
               false
              ]
             }
            ],
            "label": "2004",
            "method": "update"
           },
           {
            "args": [
             {
              "visible": [
               false,
               false,
               false,
               false,
               false,
               true,
               false,
               false,
               false,
               false,
               false,
               false,
               false,
               false,
               false,
               false,
               false,
               false
              ]
             }
            ],
            "label": "2005",
            "method": "update"
           },
           {
            "args": [
             {
              "visible": [
               false,
               false,
               false,
               false,
               false,
               false,
               true,
               false,
               false,
               false,
               false,
               false,
               false,
               false,
               false,
               false,
               false,
               false
              ]
             }
            ],
            "label": "2006",
            "method": "update"
           },
           {
            "args": [
             {
              "visible": [
               false,
               false,
               false,
               false,
               false,
               false,
               false,
               true,
               false,
               false,
               false,
               false,
               false,
               false,
               false,
               false,
               false,
               false
              ]
             }
            ],
            "label": "2007",
            "method": "update"
           },
           {
            "args": [
             {
              "visible": [
               false,
               false,
               false,
               false,
               false,
               false,
               false,
               false,
               true,
               false,
               false,
               false,
               false,
               false,
               false,
               false,
               false,
               false
              ]
             }
            ],
            "label": "2008",
            "method": "update"
           },
           {
            "args": [
             {
              "visible": [
               false,
               false,
               false,
               false,
               false,
               false,
               false,
               false,
               false,
               true,
               false,
               false,
               false,
               false,
               false,
               false,
               false,
               false
              ]
             }
            ],
            "label": "2009",
            "method": "update"
           },
           {
            "args": [
             {
              "visible": [
               false,
               false,
               false,
               false,
               false,
               false,
               false,
               false,
               false,
               false,
               true,
               false,
               false,
               false,
               false,
               false,
               false,
               false
              ]
             }
            ],
            "label": "2010",
            "method": "update"
           },
           {
            "args": [
             {
              "visible": [
               false,
               false,
               false,
               false,
               false,
               false,
               false,
               false,
               false,
               false,
               false,
               true,
               false,
               false,
               false,
               false,
               false,
               false
              ]
             }
            ],
            "label": "2011",
            "method": "update"
           },
           {
            "args": [
             {
              "visible": [
               false,
               false,
               false,
               false,
               false,
               false,
               false,
               false,
               false,
               false,
               false,
               false,
               true,
               false,
               false,
               false,
               false,
               false
              ]
             }
            ],
            "label": "2012",
            "method": "update"
           },
           {
            "args": [
             {
              "visible": [
               false,
               false,
               false,
               false,
               false,
               false,
               false,
               false,
               false,
               false,
               false,
               false,
               false,
               true,
               false,
               false,
               false,
               false
              ]
             }
            ],
            "label": "2013",
            "method": "update"
           },
           {
            "args": [
             {
              "visible": [
               false,
               false,
               false,
               false,
               false,
               false,
               false,
               false,
               false,
               false,
               false,
               false,
               false,
               false,
               true,
               false,
               false,
               false
              ]
             }
            ],
            "label": "2014",
            "method": "update"
           },
           {
            "args": [
             {
              "visible": [
               false,
               false,
               false,
               false,
               false,
               false,
               false,
               false,
               false,
               false,
               false,
               false,
               false,
               false,
               false,
               true,
               false,
               false
              ]
             }
            ],
            "label": "2015",
            "method": "update"
           },
           {
            "args": [
             {
              "visible": [
               false,
               false,
               false,
               false,
               false,
               false,
               false,
               false,
               false,
               false,
               false,
               false,
               false,
               false,
               false,
               false,
               true,
               false
              ]
             }
            ],
            "label": "2016",
            "method": "update"
           },
           {
            "args": [
             {
              "visible": [
               false,
               false,
               false,
               false,
               false,
               false,
               false,
               false,
               false,
               false,
               false,
               false,
               false,
               false,
               false,
               false,
               false,
               true
              ]
             }
            ],
            "label": "2017",
            "method": "update"
           }
          ]
         }
        ],
        "template": {
         "data": {
          "bar": [
           {
            "error_x": {
             "color": "#2a3f5f"
            },
            "error_y": {
             "color": "#2a3f5f"
            },
            "marker": {
             "line": {
              "color": "#E5ECF6",
              "width": 0.5
             },
             "pattern": {
              "fillmode": "overlay",
              "size": 10,
              "solidity": 0.2
             }
            },
            "type": "bar"
           }
          ],
          "barpolar": [
           {
            "marker": {
             "line": {
              "color": "#E5ECF6",
              "width": 0.5
             },
             "pattern": {
              "fillmode": "overlay",
              "size": 10,
              "solidity": 0.2
             }
            },
            "type": "barpolar"
           }
          ],
          "carpet": [
           {
            "aaxis": {
             "endlinecolor": "#2a3f5f",
             "gridcolor": "white",
             "linecolor": "white",
             "minorgridcolor": "white",
             "startlinecolor": "#2a3f5f"
            },
            "baxis": {
             "endlinecolor": "#2a3f5f",
             "gridcolor": "white",
             "linecolor": "white",
             "minorgridcolor": "white",
             "startlinecolor": "#2a3f5f"
            },
            "type": "carpet"
           }
          ],
          "choropleth": [
           {
            "colorbar": {
             "outlinewidth": 0,
             "ticks": ""
            },
            "type": "choropleth"
           }
          ],
          "contour": [
           {
            "colorbar": {
             "outlinewidth": 0,
             "ticks": ""
            },
            "colorscale": [
             [
              0,
              "#0d0887"
             ],
             [
              0.1111111111111111,
              "#46039f"
             ],
             [
              0.2222222222222222,
              "#7201a8"
             ],
             [
              0.3333333333333333,
              "#9c179e"
             ],
             [
              0.4444444444444444,
              "#bd3786"
             ],
             [
              0.5555555555555556,
              "#d8576b"
             ],
             [
              0.6666666666666666,
              "#ed7953"
             ],
             [
              0.7777777777777778,
              "#fb9f3a"
             ],
             [
              0.8888888888888888,
              "#fdca26"
             ],
             [
              1,
              "#f0f921"
             ]
            ],
            "type": "contour"
           }
          ],
          "contourcarpet": [
           {
            "colorbar": {
             "outlinewidth": 0,
             "ticks": ""
            },
            "type": "contourcarpet"
           }
          ],
          "heatmap": [
           {
            "colorbar": {
             "outlinewidth": 0,
             "ticks": ""
            },
            "colorscale": [
             [
              0,
              "#0d0887"
             ],
             [
              0.1111111111111111,
              "#46039f"
             ],
             [
              0.2222222222222222,
              "#7201a8"
             ],
             [
              0.3333333333333333,
              "#9c179e"
             ],
             [
              0.4444444444444444,
              "#bd3786"
             ],
             [
              0.5555555555555556,
              "#d8576b"
             ],
             [
              0.6666666666666666,
              "#ed7953"
             ],
             [
              0.7777777777777778,
              "#fb9f3a"
             ],
             [
              0.8888888888888888,
              "#fdca26"
             ],
             [
              1,
              "#f0f921"
             ]
            ],
            "type": "heatmap"
           }
          ],
          "heatmapgl": [
           {
            "colorbar": {
             "outlinewidth": 0,
             "ticks": ""
            },
            "colorscale": [
             [
              0,
              "#0d0887"
             ],
             [
              0.1111111111111111,
              "#46039f"
             ],
             [
              0.2222222222222222,
              "#7201a8"
             ],
             [
              0.3333333333333333,
              "#9c179e"
             ],
             [
              0.4444444444444444,
              "#bd3786"
             ],
             [
              0.5555555555555556,
              "#d8576b"
             ],
             [
              0.6666666666666666,
              "#ed7953"
             ],
             [
              0.7777777777777778,
              "#fb9f3a"
             ],
             [
              0.8888888888888888,
              "#fdca26"
             ],
             [
              1,
              "#f0f921"
             ]
            ],
            "type": "heatmapgl"
           }
          ],
          "histogram": [
           {
            "marker": {
             "pattern": {
              "fillmode": "overlay",
              "size": 10,
              "solidity": 0.2
             }
            },
            "type": "histogram"
           }
          ],
          "histogram2d": [
           {
            "colorbar": {
             "outlinewidth": 0,
             "ticks": ""
            },
            "colorscale": [
             [
              0,
              "#0d0887"
             ],
             [
              0.1111111111111111,
              "#46039f"
             ],
             [
              0.2222222222222222,
              "#7201a8"
             ],
             [
              0.3333333333333333,
              "#9c179e"
             ],
             [
              0.4444444444444444,
              "#bd3786"
             ],
             [
              0.5555555555555556,
              "#d8576b"
             ],
             [
              0.6666666666666666,
              "#ed7953"
             ],
             [
              0.7777777777777778,
              "#fb9f3a"
             ],
             [
              0.8888888888888888,
              "#fdca26"
             ],
             [
              1,
              "#f0f921"
             ]
            ],
            "type": "histogram2d"
           }
          ],
          "histogram2dcontour": [
           {
            "colorbar": {
             "outlinewidth": 0,
             "ticks": ""
            },
            "colorscale": [
             [
              0,
              "#0d0887"
             ],
             [
              0.1111111111111111,
              "#46039f"
             ],
             [
              0.2222222222222222,
              "#7201a8"
             ],
             [
              0.3333333333333333,
              "#9c179e"
             ],
             [
              0.4444444444444444,
              "#bd3786"
             ],
             [
              0.5555555555555556,
              "#d8576b"
             ],
             [
              0.6666666666666666,
              "#ed7953"
             ],
             [
              0.7777777777777778,
              "#fb9f3a"
             ],
             [
              0.8888888888888888,
              "#fdca26"
             ],
             [
              1,
              "#f0f921"
             ]
            ],
            "type": "histogram2dcontour"
           }
          ],
          "mesh3d": [
           {
            "colorbar": {
             "outlinewidth": 0,
             "ticks": ""
            },
            "type": "mesh3d"
           }
          ],
          "parcoords": [
           {
            "line": {
             "colorbar": {
              "outlinewidth": 0,
              "ticks": ""
             }
            },
            "type": "parcoords"
           }
          ],
          "pie": [
           {
            "automargin": true,
            "type": "pie"
           }
          ],
          "scatter": [
           {
            "fillpattern": {
             "fillmode": "overlay",
             "size": 10,
             "solidity": 0.2
            },
            "type": "scatter"
           }
          ],
          "scatter3d": [
           {
            "line": {
             "colorbar": {
              "outlinewidth": 0,
              "ticks": ""
             }
            },
            "marker": {
             "colorbar": {
              "outlinewidth": 0,
              "ticks": ""
             }
            },
            "type": "scatter3d"
           }
          ],
          "scattercarpet": [
           {
            "marker": {
             "colorbar": {
              "outlinewidth": 0,
              "ticks": ""
             }
            },
            "type": "scattercarpet"
           }
          ],
          "scattergeo": [
           {
            "marker": {
             "colorbar": {
              "outlinewidth": 0,
              "ticks": ""
             }
            },
            "type": "scattergeo"
           }
          ],
          "scattergl": [
           {
            "marker": {
             "colorbar": {
              "outlinewidth": 0,
              "ticks": ""
             }
            },
            "type": "scattergl"
           }
          ],
          "scattermapbox": [
           {
            "marker": {
             "colorbar": {
              "outlinewidth": 0,
              "ticks": ""
             }
            },
            "type": "scattermapbox"
           }
          ],
          "scatterpolar": [
           {
            "marker": {
             "colorbar": {
              "outlinewidth": 0,
              "ticks": ""
             }
            },
            "type": "scatterpolar"
           }
          ],
          "scatterpolargl": [
           {
            "marker": {
             "colorbar": {
              "outlinewidth": 0,
              "ticks": ""
             }
            },
            "type": "scatterpolargl"
           }
          ],
          "scatterternary": [
           {
            "marker": {
             "colorbar": {
              "outlinewidth": 0,
              "ticks": ""
             }
            },
            "type": "scatterternary"
           }
          ],
          "surface": [
           {
            "colorbar": {
             "outlinewidth": 0,
             "ticks": ""
            },
            "colorscale": [
             [
              0,
              "#0d0887"
             ],
             [
              0.1111111111111111,
              "#46039f"
             ],
             [
              0.2222222222222222,
              "#7201a8"
             ],
             [
              0.3333333333333333,
              "#9c179e"
             ],
             [
              0.4444444444444444,
              "#bd3786"
             ],
             [
              0.5555555555555556,
              "#d8576b"
             ],
             [
              0.6666666666666666,
              "#ed7953"
             ],
             [
              0.7777777777777778,
              "#fb9f3a"
             ],
             [
              0.8888888888888888,
              "#fdca26"
             ],
             [
              1,
              "#f0f921"
             ]
            ],
            "type": "surface"
           }
          ],
          "table": [
           {
            "cells": {
             "fill": {
              "color": "#EBF0F8"
             },
             "line": {
              "color": "white"
             }
            },
            "header": {
             "fill": {
              "color": "#C8D4E3"
             },
             "line": {
              "color": "white"
             }
            },
            "type": "table"
           }
          ]
         },
         "layout": {
          "annotationdefaults": {
           "arrowcolor": "#2a3f5f",
           "arrowhead": 0,
           "arrowwidth": 1
          },
          "autotypenumbers": "strict",
          "coloraxis": {
           "colorbar": {
            "outlinewidth": 0,
            "ticks": ""
           }
          },
          "colorscale": {
           "diverging": [
            [
             0,
             "#8e0152"
            ],
            [
             0.1,
             "#c51b7d"
            ],
            [
             0.2,
             "#de77ae"
            ],
            [
             0.3,
             "#f1b6da"
            ],
            [
             0.4,
             "#fde0ef"
            ],
            [
             0.5,
             "#f7f7f7"
            ],
            [
             0.6,
             "#e6f5d0"
            ],
            [
             0.7,
             "#b8e186"
            ],
            [
             0.8,
             "#7fbc41"
            ],
            [
             0.9,
             "#4d9221"
            ],
            [
             1,
             "#276419"
            ]
           ],
           "sequential": [
            [
             0,
             "#0d0887"
            ],
            [
             0.1111111111111111,
             "#46039f"
            ],
            [
             0.2222222222222222,
             "#7201a8"
            ],
            [
             0.3333333333333333,
             "#9c179e"
            ],
            [
             0.4444444444444444,
             "#bd3786"
            ],
            [
             0.5555555555555556,
             "#d8576b"
            ],
            [
             0.6666666666666666,
             "#ed7953"
            ],
            [
             0.7777777777777778,
             "#fb9f3a"
            ],
            [
             0.8888888888888888,
             "#fdca26"
            ],
            [
             1,
             "#f0f921"
            ]
           ],
           "sequentialminus": [
            [
             0,
             "#0d0887"
            ],
            [
             0.1111111111111111,
             "#46039f"
            ],
            [
             0.2222222222222222,
             "#7201a8"
            ],
            [
             0.3333333333333333,
             "#9c179e"
            ],
            [
             0.4444444444444444,
             "#bd3786"
            ],
            [
             0.5555555555555556,
             "#d8576b"
            ],
            [
             0.6666666666666666,
             "#ed7953"
            ],
            [
             0.7777777777777778,
             "#fb9f3a"
            ],
            [
             0.8888888888888888,
             "#fdca26"
            ],
            [
             1,
             "#f0f921"
            ]
           ]
          },
          "colorway": [
           "#636efa",
           "#EF553B",
           "#00cc96",
           "#ab63fa",
           "#FFA15A",
           "#19d3f3",
           "#FF6692",
           "#B6E880",
           "#FF97FF",
           "#FECB52"
          ],
          "font": {
           "color": "#2a3f5f"
          },
          "geo": {
           "bgcolor": "white",
           "lakecolor": "white",
           "landcolor": "#E5ECF6",
           "showlakes": true,
           "showland": true,
           "subunitcolor": "white"
          },
          "hoverlabel": {
           "align": "left"
          },
          "hovermode": "closest",
          "mapbox": {
           "style": "light"
          },
          "paper_bgcolor": "white",
          "plot_bgcolor": "#E5ECF6",
          "polar": {
           "angularaxis": {
            "gridcolor": "white",
            "linecolor": "white",
            "ticks": ""
           },
           "bgcolor": "#E5ECF6",
           "radialaxis": {
            "gridcolor": "white",
            "linecolor": "white",
            "ticks": ""
           }
          },
          "scene": {
           "xaxis": {
            "backgroundcolor": "#E5ECF6",
            "gridcolor": "white",
            "gridwidth": 2,
            "linecolor": "white",
            "showbackground": true,
            "ticks": "",
            "zerolinecolor": "white"
           },
           "yaxis": {
            "backgroundcolor": "#E5ECF6",
            "gridcolor": "white",
            "gridwidth": 2,
            "linecolor": "white",
            "showbackground": true,
            "ticks": "",
            "zerolinecolor": "white"
           },
           "zaxis": {
            "backgroundcolor": "#E5ECF6",
            "gridcolor": "white",
            "gridwidth": 2,
            "linecolor": "white",
            "showbackground": true,
            "ticks": "",
            "zerolinecolor": "white"
           }
          },
          "shapedefaults": {
           "line": {
            "color": "#2a3f5f"
           }
          },
          "ternary": {
           "aaxis": {
            "gridcolor": "white",
            "linecolor": "white",
            "ticks": ""
           },
           "baxis": {
            "gridcolor": "white",
            "linecolor": "white",
            "ticks": ""
           },
           "bgcolor": "#E5ECF6",
           "caxis": {
            "gridcolor": "white",
            "linecolor": "white",
            "ticks": ""
           }
          },
          "title": {
           "x": 0.05
          },
          "xaxis": {
           "automargin": true,
           "gridcolor": "white",
           "linecolor": "white",
           "ticks": "",
           "title": {
            "standoff": 15
           },
           "zerolinecolor": "white",
           "zerolinewidth": 2
          },
          "yaxis": {
           "automargin": true,
           "gridcolor": "white",
           "linecolor": "white",
           "ticks": "",
           "title": {
            "standoff": 15
           },
           "zerolinecolor": "white",
           "zerolinewidth": 2
          }
         }
        },
        "title": {
         "text": "Evolution of Top 10 Beers"
        },
        "width": 800,
        "xaxis": {
         "tickmode": "array",
         "ticktext": [
          "2000",
          "2001",
          "2002",
          "2003",
          "2004",
          "2005",
          "2006",
          "2007",
          "2008",
          "2009",
          "2010",
          "2011",
          "2012",
          "2013",
          "2014",
          "2015",
          "2016",
          "2017"
         ],
         "tickvals": [
          "2000",
          "2001",
          "2002",
          "2003",
          "2004",
          "2005",
          "2006",
          "2007",
          "2008",
          "2009",
          "2010",
          "2011",
          "2012",
          "2013",
          "2014",
          "2015",
          "2016",
          "2017"
         ],
         "title": {
          "text": "Year"
         }
        },
        "yaxis": {
         "autorange": "reversed",
         "title": {
          "text": "Position in Top 10"
         }
        }
       }
      }
     },
     "metadata": {},
     "output_type": "display_data"
    }
   ],
   "source": [
    "import pandas as pd\n",
    "import plotly.graph_objects as go\n",
    "\n",
    "# ... (votre code pour créer le DataFrame et les classemen\n",
    "\n",
    "fig = go.Figure()\n",
    "\n",
    "# Ajouter un scatter pour chaque année entière\n",
    "scatter_data = []\n",
    "for i, year in enumerate(years):\n",
    "    try:\n",
    "        if float(year).is_integer():  # Exclure les années avec des décimales\n",
    "            top_10 = df_filled[df_filled['year'] == int(year)].nlargest(10, 'new_rating')\n",
    "            scatter_data.append(go.Scatter(\n",
    "                x=[year] * 10,\n",
    "                y=list(range(10, 0, -1)),  # Inverser l'axe y\n",
    "                mode='markers+text',\n",
    "                marker=dict(size=10),\n",
    "                text=top_10['beer_name'],\n",
    "                name=str(int(year)),  # Convertir l'année en entier pour l'affichage\n",
    "                visible=(i == len(years) - 1),  # La dernière année est visible par défaut\n",
    "                textposition='middle right',  # Ajuster la position du texte\n",
    "            ))\n",
    "    except ValueError:\n",
    "        pass  # Ignore les valeurs non convertibles en float\n",
    "\n",
    "fig.update_layout(\n",
    "    title='Evolution of Top 10 Beers',\n",
    "    xaxis=dict(title='Year', tickmode='array', tickvals=years, ticktext=[str(year) for year in years]),  # Utiliser les années entières sur l'axe x\n",
    "    yaxis=dict(title='Position in Top 10', autorange='reversed'),  # Inverser l'axe y\n",
    "    showlegend=False,  # Masquer la légende\n",
    "    width=800,  # Ajuster la largeur de la figure\n",
    "    sliders=[{\n",
    "        'active': len(years) - 1,\n",
    "        'steps': [{'label': str(year), 'method': 'update', 'args': [{'visible': [i == j for j in range(len(years))]}]} for i, year in enumerate(years)]\n",
    "    }],\n",
    ")\n",
    "\n",
    "fig.add_traces(scatter_data)\n",
    "\n",
    "fig.show()\n"
   ]
  },
  {
   "cell_type": "code",
   "execution_count": 101,
   "metadata": {},
   "outputs": [
    {
     "data": {
      "application/vnd.plotly.v1+json": {
       "config": {
        "plotlyServerURL": "https://plot.ly"
       },
       "data": [
        {
         "marker": {
          "size": 20
         },
         "mode": "markers+text",
         "name": "2000",
         "text": [
          "Weihenstephaner Original",
          "Unibroue La Fin du Monde",
          "Unibroue Eau Bénite",
          "Unibroue Maudite",
          "Alley Kat Scona Gold",
          "Guinness Extra Stout (North America)",
          "Unibroue Blanche de Chambly",
          "Beck's Oktoberfest",
          "Wellington Iron Duke Strong Ale",
          "Smuttynose Portsmouth Lager"
         ],
         "textfont": {
          "size": 12
         },
         "textposition": "top right",
         "type": "scatter",
         "visible": true,
         "x": [
          "2000",
          "2000",
          "2000",
          "2000",
          "2000",
          "2000",
          "2000",
          "2000",
          "2000",
          "2000"
         ],
         "y": [
          1,
          2,
          3,
          4,
          5,
          6,
          7,
          8,
          9,
          10
         ]
        },
        {
         "marker": {
          "size": 20
         },
         "mode": "markers+text",
         "name": "2001",
         "text": [
          "Okanagan Spring Pale Ale",
          "Creemore Springs Premium Lager",
          "Ayinger Celebrator Doppelbock",
          "Paulaner Oktoberfest-Märzen",
          "Hancock Old Gambrinus Beer Light",
          "Samuel Smith's Organic Best Ale",
          "Unibroue Eau Bénite",
          "Wellington Imperial Russian Stout",
          "Apollo Pilsner",
          "Olands Premium Red Draught"
         ],
         "textfont": {
          "size": 12
         },
         "textposition": "top right",
         "type": "scatter",
         "visible": false,
         "x": [
          "2001",
          "2001",
          "2001",
          "2001",
          "2001",
          "2001",
          "2001",
          "2001",
          "2001",
          "2001"
         ],
         "y": [
          1,
          2,
          3,
          4,
          5,
          6,
          7,
          8,
          9,
          10
         ]
        },
        {
         "marker": {
          "size": 20
         },
         "mode": "markers+text",
         "name": "2002",
         "text": [
          "Casta Bruna",
          "Brava Cerveza",
          "Le Cheval Blanc Bière dHiver",
          "Hancock Old Gambrinus Beer Dark",
          "Upper Canada Dark Ale",
          "Thomas Hardy's Ale (1968-1999)",
          "Schwarzer Abt",
          "Rickards Gold",
          "Noche Buena",
          "Traquair House Ale"
         ],
         "textfont": {
          "size": 12
         },
         "textposition": "top right",
         "type": "scatter",
         "visible": false,
         "x": [
          "2002",
          "2002",
          "2002",
          "2002",
          "2002",
          "2002",
          "2002",
          "2002",
          "2002",
          "2002"
         ],
         "y": [
          1,
          2,
          3,
          4,
          5,
          6,
          7,
          8,
          9,
          10
         ]
        },
        {
         "marker": {
          "size": 20
         },
         "mode": "markers+text",
         "name": "2003",
         "text": [
          "Val-Dieu Triple",
          "Ørbæk Påskebryg",
          "Tsingtao Dark",
          "Trafalgar Winter Warmer",
          "Harvest Ale (Limited Edition)",
          "Hancock Old Gambrinus Beer Dark",
          "Brooklyn Black Chocolate Stout",
          "Thornbury Pickup No. 26 Pilsener",
          "Trappistes Rochefort 10",
          "Éphémère (Cranberry)"
         ],
         "textfont": {
          "size": 12
         },
         "textposition": "top right",
         "type": "scatter",
         "visible": false,
         "x": [
          "2003",
          "2003",
          "2003",
          "2003",
          "2003",
          "2003",
          "2003",
          "2003",
          "2003",
          "2003"
         ],
         "y": [
          1,
          2,
          3,
          4,
          5,
          6,
          7,
          8,
          9,
          10
         ]
        },
        {
         "marker": {
          "size": 20
         },
         "mode": "markers+text",
         "name": "2004",
         "text": [
          "Picaroons Irish Red",
          "Éphémère (Cranberry)",
          "Olands Export Ale",
          "Dieu du Ciel Péché Mortel",
          "De Dolle Speciaal Brouwsel 20",
          "Coopers Sparkling Ale",
          "Trappistes Rochefort 10",
          "Yo-Ho Yona Yona Ale",
          "Unibroue Seigneuriale",
          "Bièropholie Bock Émissaire"
         ],
         "textfont": {
          "size": 12
         },
         "textposition": "top right",
         "type": "scatter",
         "visible": false,
         "x": [
          "2004",
          "2004",
          "2004",
          "2004",
          "2004",
          "2004",
          "2004",
          "2004",
          "2004",
          "2004"
         ],
         "y": [
          1,
          2,
          3,
          4,
          5,
          6,
          7,
          8,
          9,
          10
         ]
        },
        {
         "marker": {
          "size": 20
         },
         "mode": "markers+text",
         "name": "2005",
         "text": [
          "Panil Barriquée  (Italy Version)",
          "Gale's Jubilee Ale (2002)",
          "Ursus Pils",
          "Lions Winter Ale",
          "Fuller's Special Edition ESB",
          "Scotch Irish Tsarina Katarina Imperial Stout",
          "Cantillon Spuyten Duyvil",
          "Brooklyn Black Chocolate Stout",
          "Mai Bock",
          "WinterCoat Oatmeal Stout"
         ],
         "textfont": {
          "size": 12
         },
         "textposition": "top right",
         "type": "scatter",
         "visible": false,
         "x": [
          "2005",
          "2005",
          "2005",
          "2005",
          "2005",
          "2005",
          "2005",
          "2005",
          "2005",
          "2005"
         ],
         "y": [
          1,
          2,
          3,
          4,
          5,
          6,
          7,
          8,
          9,
          10
         ]
        },
        {
         "marker": {
          "size": 20
         },
         "mode": "markers+text",
         "name": "2006",
         "text": [
          "Lakeport Pilsener",
          "Bedondaine et Bedons Ronds Reyne Descosse",
          "Phillips Amnesiac Double IPA",
          "Birrificio Italiano Tipopils",
          "Urbock 23°",
          "Granville Island GIBitter",
          "Bièropholie IPA",
          "Nickel Brook Ale (pre 2009)",
          "Little Creatures Pale Ale",
          "Smuggler's Ale"
         ],
         "textfont": {
          "size": 12
         },
         "textposition": "top right",
         "type": "scatter",
         "visible": false,
         "x": [
          "2006",
          "2006",
          "2006",
          "2006",
          "2006",
          "2006",
          "2006",
          "2006",
          "2006",
          "2006"
         ],
         "y": [
          1,
          2,
          3,
          4,
          5,
          6,
          7,
          8,
          9,
          10
         ]
        },
        {
         "marker": {
          "size": 20
         },
         "mode": "markers+text",
         "name": "2007",
         "text": [
          "Innis & Gunn Limited Edition 2005",
          "Les Trois Mousquetaires G.C. Porter Baltique",
          "Original Stieglbock",
          "Side Launch Wheat",
          "Schneider Weisse Tap 1 Mein Blondes",
          "Abbaye De Saint Bon-Chien",
          "Ølfabrikken Gammel Ekstra Porter",
          "La Lièvre IPA",
          "Drie Fonteinen Millennium Geuze",
          "Sanctification"
         ],
         "textfont": {
          "size": 12
         },
         "textposition": "top right",
         "type": "scatter",
         "visible": false,
         "x": [
          "2007",
          "2007",
          "2007",
          "2007",
          "2007",
          "2007",
          "2007",
          "2007",
          "2007",
          "2007"
         ],
         "y": [
          1,
          2,
          3,
          4,
          5,
          6,
          7,
          8,
          9,
          10
         ]
        },
        {
         "marker": {
          "size": 20
         },
         "mode": "markers+text",
         "name": "2008",
         "text": [
          "Kosmyk Charlie's Y2K Catastrophe Ale",
          "Alley Kat Bad Hare Day",
          "Mean Manalishi Double I.P.A.",
          "Baeren Rye",
          "Half Pints Bulldog Amber Ale",
          "Consecration",
          "Baladin Xyauyù Etichetta Rame (Copper Label)",
          "Terrapin Big Sloppy Monster",
          "Neumarkter Lammsbräu (Organic) Dunkel",
          "Old Crafty Hen"
         ],
         "textfont": {
          "size": 12
         },
         "textposition": "top right",
         "type": "scatter",
         "visible": false,
         "x": [
          "2008",
          "2008",
          "2008",
          "2008",
          "2008",
          "2008",
          "2008",
          "2008",
          "2008",
          "2008"
         ],
         "y": [
          1,
          2,
          3,
          4,
          5,
          6,
          7,
          8,
          9,
          10
         ]
        },
        {
         "marker": {
          "size": 20
         },
         "mode": "markers+text",
         "name": "2009",
         "text": [
          "Lvivske Porter",
          "Borefts Bok 2009",
          "Old Engine Oil Special Reserve (Aged In Malt Whiskey Casks)",
          "RJ Le Cheval Blanc Snoreau",
          "Granville Island Merry Monks Dopplebock",
          "Driftwood Sartori Harvest IPA",
          "Southampton Grand Cru",
          "Dieu du Ciel Solstice dÉté aux Framboises",
          "Primátor Premium",
          "Søgaards Trippel"
         ],
         "textfont": {
          "size": 12
         },
         "textposition": "top right",
         "type": "scatter",
         "visible": false,
         "x": [
          "2009",
          "2009",
          "2009",
          "2009",
          "2009",
          "2009",
          "2009",
          "2009",
          "2009",
          "2009"
         ],
         "y": [
          1,
          2,
          3,
          4,
          5,
          6,
          7,
          8,
          9,
          10
         ]
        },
        {
         "marker": {
          "size": 20
         },
         "mode": "markers+text",
         "name": "2010",
         "text": [
          "Piccolo Birrificio Ego",
          "Bedondaine et Bedons Ronds Reyne Descosse Gelée",
          "Saison Du Tracteur",
          "Birra del Borgo ReAle Extra",
          "Charlevoix Dominus Vobiscum Brut",
          "Toccalmatto Stray Dog No Rules Bitter",
          "La Trappe Quadrupel (Oak Aged)",
          "Birrificio del Ducato LUltima Luna",
          "Toccalmatto Sibilla",
          "Captivator Doppelbock"
         ],
         "textfont": {
          "size": 12
         },
         "textposition": "top right",
         "type": "scatter",
         "visible": false,
         "x": [
          "2010",
          "2010",
          "2010",
          "2010",
          "2010",
          "2010",
          "2010",
          "2010",
          "2010",
          "2010"
         ],
         "y": [
          1,
          2,
          3,
          4,
          5,
          6,
          7,
          8,
          9,
          10
         ]
        },
        {
         "marker": {
          "size": 20
         },
         "mode": "markers+text",
         "name": "2011",
         "text": [
          "Beer Here / Raasted Bukkake",
          "Drie Fonteinen Millennium Geuze",
          "Drie Fonteinen Oude Geuze 1998 (50th Anniversary)",
          "Eichbaum Pilsener",
          "Montegioco Quarta Runa",
          "Ølfabrikken Petit Blau",
          "Cantillon Don Quijote",
          "Les Brasseurs du Temps Mea Magna Culpa",
          "Cantillon Blåbær Lambik",
          "Tipo Pils"
         ],
         "textfont": {
          "size": 12
         },
         "textposition": "top right",
         "type": "scatter",
         "visible": false,
         "x": [
          "2011",
          "2011",
          "2011",
          "2011",
          "2011",
          "2011",
          "2011",
          "2011",
          "2011",
          "2011"
         ],
         "y": [
          1,
          2,
          3,
          4,
          5,
          6,
          7,
          8,
          9,
          10
         ]
        },
        {
         "marker": {
          "size": 20
         },
         "mode": "markers+text",
         "name": "2012",
         "text": [
          "Cantillon Loerik",
          "L'Amoureuse Rouge",
          "Kamenitza Lev",
          "Watermelon Warhead",
          "Drie Fonteinen Oude Geuze 1998 (50th Anniversary)",
          "Whistler Chocolate Winter Dunkel",
          "Le Cheval Blanc Double Bonheur",
          "Black Tokyo Horizon",
          "Depuration",
          "Ann"
         ],
         "textfont": {
          "size": 12
         },
         "textposition": "top right",
         "type": "scatter",
         "visible": false,
         "x": [
          "2012",
          "2012",
          "2012",
          "2012",
          "2012",
          "2012",
          "2012",
          "2012",
          "2012",
          "2012"
         ],
         "y": [
          1,
          2,
          3,
          4,
          5,
          6,
          7,
          8,
          9,
          10
         ]
        },
        {
         "marker": {
          "size": 20
         },
         "mode": "markers+text",
         "name": "2013",
         "text": [
          "Birra del Borgo Perle ai Porci (Pearls for Pigs)",
          "Edward",
          "Svaneke Julebryg",
          "Collesi 1970 Ambrata",
          "Bavarias Best Imperial Stout",
          "Innis & Gunn Spiced Rum Aged",
          "Brasseurs du Monde Gamme Festive Célébrante",
          "Cantillon Bruocsella (1900) Grand Cru",
          "Rapture",
          "Tamamura-Honten Yamabushi Saison 1 Aged in Oak Barrels"
         ],
         "textfont": {
          "size": 12
         },
         "textposition": "top right",
         "type": "scatter",
         "visible": false,
         "x": [
          "2013",
          "2013",
          "2013",
          "2013",
          "2013",
          "2013",
          "2013",
          "2013",
          "2013",
          "2013"
         ],
         "y": [
          1,
          2,
          3,
          4,
          5,
          6,
          7,
          8,
          9,
          10
         ]
        },
        {
         "marker": {
          "size": 20
         },
         "mode": "markers+text",
         "name": "2014",
         "text": [
          "Mandøl Smagen af Mandø",
          "Molson Standard Lager",
          "Extraomnes Saison",
          "Cantillon Spuyten Duyvil",
          "Wicked Juju",
          "Minerva Colonial",
          "Schneider Weisse Tap 6 Unser Aventinus",
          "Cantillon Blåbær Lambik",
          "Melbourne Bitter",
          "Cantillon Crianza Helena"
         ],
         "textfont": {
          "size": 12
         },
         "textposition": "top right",
         "type": "scatter",
         "visible": false,
         "x": [
          "2014",
          "2014",
          "2014",
          "2014",
          "2014",
          "2014",
          "2014",
          "2014",
          "2014",
          "2014"
         ],
         "y": [
          1,
          2,
          3,
          4,
          5,
          6,
          7,
          8,
          9,
          10
         ]
        },
        {
         "marker": {
          "size": 20
         },
         "mode": "markers+text",
         "name": "2015",
         "text": [
          "Opperbacco Blanche de Lotario",
          "Four Winds Phaedra Rye Wheat IPA",
          "Unibroue Blanche de Chambly",
          "Saison Bernice",
          "Charlevoix Dominus Vobiscum Lupulus",
          "Sanctification",
          "Dunham Saison Réserve",
          "Buxton / Omnipollo Yellow Belly Sundae",
          "Flying Monkeys City and Colour",
          "Driftwood Sartori Harvest IPA"
         ],
         "textfont": {
          "size": 12
         },
         "textposition": "top right",
         "type": "scatter",
         "visible": false,
         "x": [
          "2015",
          "2015",
          "2015",
          "2015",
          "2015",
          "2015",
          "2015",
          "2015",
          "2015",
          "2015"
         ],
         "y": [
          1,
          2,
          3,
          4,
          5,
          6,
          7,
          8,
          9,
          10
         ]
        },
        {
         "marker": {
          "size": 20
         },
         "mode": "markers+text",
         "name": "2016",
         "text": [
          "Indie Alehouse Zombie Apocalypse (Bourbon)",
          "Skovlyst Lossen",
          "Ghost Black Beast",
          "Charlevoix Dominus Vobiscum Lupulus",
          "Skovlyst Julebryg",
          "Xyauyù Etichetta Rame (Copper)",
          "To Øl Passion Of The Weisst",
          "Frejdahl Gudmund",
          "Hors Série Ceci N'est Pas Une Gueuze",
          "Aardmonnik - Earthmonk"
         ],
         "textfont": {
          "size": 12
         },
         "textposition": "top right",
         "type": "scatter",
         "visible": false,
         "x": [
          "2016",
          "2016",
          "2016",
          "2016",
          "2016",
          "2016",
          "2016",
          "2016",
          "2016",
          "2016"
         ],
         "y": [
          1,
          2,
          3,
          4,
          5,
          6,
          7,
          8,
          9,
          10
         ]
        },
        {
         "marker": {
          "size": 20
         },
         "mode": "markers+text",
         "name": "2017",
         "text": [
          "Coedo / Stone / Garage Project Tsuyu Saison",
          "Pladderballe Brodtgaard Basement Reserve",
          "Thisted Thy Ale",
          "Double Nelson",
          "RJ Le Cheval Blanc Double Blanche (IPA belge)",
          "Amager / Lervig Brown Boobies Falling",
          "Midtfyns Jule Stout",
          "Birrificio Italiano Nigredo (Negra 3.0)",
          "Benelux Moisson (2011)",
          "LoverBeer A Renna Glüh"
         ],
         "textfont": {
          "size": 12
         },
         "textposition": "top right",
         "type": "scatter",
         "visible": false,
         "x": [
          "2017",
          "2017",
          "2017",
          "2017",
          "2017",
          "2017",
          "2017",
          "2017",
          "2017",
          "2017"
         ],
         "y": [
          1,
          2,
          3,
          4,
          5,
          6,
          7,
          8,
          9,
          10
         ]
        }
       ],
       "layout": {
        "height": 800,
        "showlegend": false,
        "sliders": [
         {
          "active": 0,
          "steps": [
           {
            "args": [
             {
              "visible": [
               true,
               true,
               false,
               false,
               false,
               false,
               false,
               false,
               false,
               false,
               false,
               false,
               false,
               false,
               false,
               false,
               false,
               false
              ]
             }
            ],
            "label": "2000",
            "method": "update"
           },
           {
            "args": [
             {
              "visible": [
               true,
               true,
               true,
               false,
               false,
               false,
               false,
               false,
               false,
               false,
               false,
               false,
               false,
               false,
               false,
               false,
               false,
               false
              ]
             }
            ],
            "label": "2001",
            "method": "update"
           },
           {
            "args": [
             {
              "visible": [
               false,
               true,
               true,
               true,
               false,
               false,
               false,
               false,
               false,
               false,
               false,
               false,
               false,
               false,
               false,
               false,
               false,
               false
              ]
             }
            ],
            "label": "2002",
            "method": "update"
           },
           {
            "args": [
             {
              "visible": [
               false,
               false,
               true,
               true,
               true,
               false,
               false,
               false,
               false,
               false,
               false,
               false,
               false,
               false,
               false,
               false,
               false,
               false
              ]
             }
            ],
            "label": "2003",
            "method": "update"
           },
           {
            "args": [
             {
              "visible": [
               false,
               false,
               false,
               true,
               true,
               true,
               false,
               false,
               false,
               false,
               false,
               false,
               false,
               false,
               false,
               false,
               false,
               false
              ]
             }
            ],
            "label": "2004",
            "method": "update"
           },
           {
            "args": [
             {
              "visible": [
               false,
               false,
               false,
               false,
               true,
               true,
               true,
               false,
               false,
               false,
               false,
               false,
               false,
               false,
               false,
               false,
               false,
               false
              ]
             }
            ],
            "label": "2005",
            "method": "update"
           },
           {
            "args": [
             {
              "visible": [
               false,
               false,
               false,
               false,
               false,
               true,
               true,
               true,
               false,
               false,
               false,
               false,
               false,
               false,
               false,
               false,
               false,
               false
              ]
             }
            ],
            "label": "2006",
            "method": "update"
           },
           {
            "args": [
             {
              "visible": [
               false,
               false,
               false,
               false,
               false,
               false,
               true,
               true,
               true,
               false,
               false,
               false,
               false,
               false,
               false,
               false,
               false,
               false
              ]
             }
            ],
            "label": "2007",
            "method": "update"
           },
           {
            "args": [
             {
              "visible": [
               false,
               false,
               false,
               false,
               false,
               false,
               false,
               true,
               true,
               true,
               false,
               false,
               false,
               false,
               false,
               false,
               false,
               false
              ]
             }
            ],
            "label": "2008",
            "method": "update"
           },
           {
            "args": [
             {
              "visible": [
               false,
               false,
               false,
               false,
               false,
               false,
               false,
               false,
               true,
               true,
               true,
               false,
               false,
               false,
               false,
               false,
               false,
               false
              ]
             }
            ],
            "label": "2009",
            "method": "update"
           },
           {
            "args": [
             {
              "visible": [
               false,
               false,
               false,
               false,
               false,
               false,
               false,
               false,
               false,
               true,
               true,
               true,
               false,
               false,
               false,
               false,
               false,
               false
              ]
             }
            ],
            "label": "2010",
            "method": "update"
           },
           {
            "args": [
             {
              "visible": [
               false,
               false,
               false,
               false,
               false,
               false,
               false,
               false,
               false,
               false,
               true,
               true,
               true,
               false,
               false,
               false,
               false,
               false
              ]
             }
            ],
            "label": "2011",
            "method": "update"
           },
           {
            "args": [
             {
              "visible": [
               false,
               false,
               false,
               false,
               false,
               false,
               false,
               false,
               false,
               false,
               false,
               true,
               true,
               true,
               false,
               false,
               false,
               false
              ]
             }
            ],
            "label": "2012",
            "method": "update"
           },
           {
            "args": [
             {
              "visible": [
               false,
               false,
               false,
               false,
               false,
               false,
               false,
               false,
               false,
               false,
               false,
               false,
               true,
               true,
               true,
               false,
               false,
               false
              ]
             }
            ],
            "label": "2013",
            "method": "update"
           },
           {
            "args": [
             {
              "visible": [
               false,
               false,
               false,
               false,
               false,
               false,
               false,
               false,
               false,
               false,
               false,
               false,
               false,
               true,
               true,
               true,
               false,
               false
              ]
             }
            ],
            "label": "2014",
            "method": "update"
           },
           {
            "args": [
             {
              "visible": [
               false,
               false,
               false,
               false,
               false,
               false,
               false,
               false,
               false,
               false,
               false,
               false,
               false,
               false,
               true,
               true,
               true,
               false
              ]
             }
            ],
            "label": "2015",
            "method": "update"
           },
           {
            "args": [
             {
              "visible": [
               false,
               false,
               false,
               false,
               false,
               false,
               false,
               false,
               false,
               false,
               false,
               false,
               false,
               false,
               false,
               true,
               true,
               true
              ]
             }
            ],
            "label": "2016",
            "method": "update"
           },
           {
            "args": [
             {
              "visible": [
               false,
               false,
               false,
               false,
               false,
               false,
               false,
               false,
               false,
               false,
               false,
               false,
               false,
               false,
               false,
               false,
               true,
               true
              ]
             }
            ],
            "label": "2017",
            "method": "update"
           }
          ]
         }
        ],
        "template": {
         "data": {
          "bar": [
           {
            "error_x": {
             "color": "#2a3f5f"
            },
            "error_y": {
             "color": "#2a3f5f"
            },
            "marker": {
             "line": {
              "color": "#E5ECF6",
              "width": 0.5
             },
             "pattern": {
              "fillmode": "overlay",
              "size": 10,
              "solidity": 0.2
             }
            },
            "type": "bar"
           }
          ],
          "barpolar": [
           {
            "marker": {
             "line": {
              "color": "#E5ECF6",
              "width": 0.5
             },
             "pattern": {
              "fillmode": "overlay",
              "size": 10,
              "solidity": 0.2
             }
            },
            "type": "barpolar"
           }
          ],
          "carpet": [
           {
            "aaxis": {
             "endlinecolor": "#2a3f5f",
             "gridcolor": "white",
             "linecolor": "white",
             "minorgridcolor": "white",
             "startlinecolor": "#2a3f5f"
            },
            "baxis": {
             "endlinecolor": "#2a3f5f",
             "gridcolor": "white",
             "linecolor": "white",
             "minorgridcolor": "white",
             "startlinecolor": "#2a3f5f"
            },
            "type": "carpet"
           }
          ],
          "choropleth": [
           {
            "colorbar": {
             "outlinewidth": 0,
             "ticks": ""
            },
            "type": "choropleth"
           }
          ],
          "contour": [
           {
            "colorbar": {
             "outlinewidth": 0,
             "ticks": ""
            },
            "colorscale": [
             [
              0,
              "#0d0887"
             ],
             [
              0.1111111111111111,
              "#46039f"
             ],
             [
              0.2222222222222222,
              "#7201a8"
             ],
             [
              0.3333333333333333,
              "#9c179e"
             ],
             [
              0.4444444444444444,
              "#bd3786"
             ],
             [
              0.5555555555555556,
              "#d8576b"
             ],
             [
              0.6666666666666666,
              "#ed7953"
             ],
             [
              0.7777777777777778,
              "#fb9f3a"
             ],
             [
              0.8888888888888888,
              "#fdca26"
             ],
             [
              1,
              "#f0f921"
             ]
            ],
            "type": "contour"
           }
          ],
          "contourcarpet": [
           {
            "colorbar": {
             "outlinewidth": 0,
             "ticks": ""
            },
            "type": "contourcarpet"
           }
          ],
          "heatmap": [
           {
            "colorbar": {
             "outlinewidth": 0,
             "ticks": ""
            },
            "colorscale": [
             [
              0,
              "#0d0887"
             ],
             [
              0.1111111111111111,
              "#46039f"
             ],
             [
              0.2222222222222222,
              "#7201a8"
             ],
             [
              0.3333333333333333,
              "#9c179e"
             ],
             [
              0.4444444444444444,
              "#bd3786"
             ],
             [
              0.5555555555555556,
              "#d8576b"
             ],
             [
              0.6666666666666666,
              "#ed7953"
             ],
             [
              0.7777777777777778,
              "#fb9f3a"
             ],
             [
              0.8888888888888888,
              "#fdca26"
             ],
             [
              1,
              "#f0f921"
             ]
            ],
            "type": "heatmap"
           }
          ],
          "heatmapgl": [
           {
            "colorbar": {
             "outlinewidth": 0,
             "ticks": ""
            },
            "colorscale": [
             [
              0,
              "#0d0887"
             ],
             [
              0.1111111111111111,
              "#46039f"
             ],
             [
              0.2222222222222222,
              "#7201a8"
             ],
             [
              0.3333333333333333,
              "#9c179e"
             ],
             [
              0.4444444444444444,
              "#bd3786"
             ],
             [
              0.5555555555555556,
              "#d8576b"
             ],
             [
              0.6666666666666666,
              "#ed7953"
             ],
             [
              0.7777777777777778,
              "#fb9f3a"
             ],
             [
              0.8888888888888888,
              "#fdca26"
             ],
             [
              1,
              "#f0f921"
             ]
            ],
            "type": "heatmapgl"
           }
          ],
          "histogram": [
           {
            "marker": {
             "pattern": {
              "fillmode": "overlay",
              "size": 10,
              "solidity": 0.2
             }
            },
            "type": "histogram"
           }
          ],
          "histogram2d": [
           {
            "colorbar": {
             "outlinewidth": 0,
             "ticks": ""
            },
            "colorscale": [
             [
              0,
              "#0d0887"
             ],
             [
              0.1111111111111111,
              "#46039f"
             ],
             [
              0.2222222222222222,
              "#7201a8"
             ],
             [
              0.3333333333333333,
              "#9c179e"
             ],
             [
              0.4444444444444444,
              "#bd3786"
             ],
             [
              0.5555555555555556,
              "#d8576b"
             ],
             [
              0.6666666666666666,
              "#ed7953"
             ],
             [
              0.7777777777777778,
              "#fb9f3a"
             ],
             [
              0.8888888888888888,
              "#fdca26"
             ],
             [
              1,
              "#f0f921"
             ]
            ],
            "type": "histogram2d"
           }
          ],
          "histogram2dcontour": [
           {
            "colorbar": {
             "outlinewidth": 0,
             "ticks": ""
            },
            "colorscale": [
             [
              0,
              "#0d0887"
             ],
             [
              0.1111111111111111,
              "#46039f"
             ],
             [
              0.2222222222222222,
              "#7201a8"
             ],
             [
              0.3333333333333333,
              "#9c179e"
             ],
             [
              0.4444444444444444,
              "#bd3786"
             ],
             [
              0.5555555555555556,
              "#d8576b"
             ],
             [
              0.6666666666666666,
              "#ed7953"
             ],
             [
              0.7777777777777778,
              "#fb9f3a"
             ],
             [
              0.8888888888888888,
              "#fdca26"
             ],
             [
              1,
              "#f0f921"
             ]
            ],
            "type": "histogram2dcontour"
           }
          ],
          "mesh3d": [
           {
            "colorbar": {
             "outlinewidth": 0,
             "ticks": ""
            },
            "type": "mesh3d"
           }
          ],
          "parcoords": [
           {
            "line": {
             "colorbar": {
              "outlinewidth": 0,
              "ticks": ""
             }
            },
            "type": "parcoords"
           }
          ],
          "pie": [
           {
            "automargin": true,
            "type": "pie"
           }
          ],
          "scatter": [
           {
            "fillpattern": {
             "fillmode": "overlay",
             "size": 10,
             "solidity": 0.2
            },
            "type": "scatter"
           }
          ],
          "scatter3d": [
           {
            "line": {
             "colorbar": {
              "outlinewidth": 0,
              "ticks": ""
             }
            },
            "marker": {
             "colorbar": {
              "outlinewidth": 0,
              "ticks": ""
             }
            },
            "type": "scatter3d"
           }
          ],
          "scattercarpet": [
           {
            "marker": {
             "colorbar": {
              "outlinewidth": 0,
              "ticks": ""
             }
            },
            "type": "scattercarpet"
           }
          ],
          "scattergeo": [
           {
            "marker": {
             "colorbar": {
              "outlinewidth": 0,
              "ticks": ""
             }
            },
            "type": "scattergeo"
           }
          ],
          "scattergl": [
           {
            "marker": {
             "colorbar": {
              "outlinewidth": 0,
              "ticks": ""
             }
            },
            "type": "scattergl"
           }
          ],
          "scattermapbox": [
           {
            "marker": {
             "colorbar": {
              "outlinewidth": 0,
              "ticks": ""
             }
            },
            "type": "scattermapbox"
           }
          ],
          "scatterpolar": [
           {
            "marker": {
             "colorbar": {
              "outlinewidth": 0,
              "ticks": ""
             }
            },
            "type": "scatterpolar"
           }
          ],
          "scatterpolargl": [
           {
            "marker": {
             "colorbar": {
              "outlinewidth": 0,
              "ticks": ""
             }
            },
            "type": "scatterpolargl"
           }
          ],
          "scatterternary": [
           {
            "marker": {
             "colorbar": {
              "outlinewidth": 0,
              "ticks": ""
             }
            },
            "type": "scatterternary"
           }
          ],
          "surface": [
           {
            "colorbar": {
             "outlinewidth": 0,
             "ticks": ""
            },
            "colorscale": [
             [
              0,
              "#0d0887"
             ],
             [
              0.1111111111111111,
              "#46039f"
             ],
             [
              0.2222222222222222,
              "#7201a8"
             ],
             [
              0.3333333333333333,
              "#9c179e"
             ],
             [
              0.4444444444444444,
              "#bd3786"
             ],
             [
              0.5555555555555556,
              "#d8576b"
             ],
             [
              0.6666666666666666,
              "#ed7953"
             ],
             [
              0.7777777777777778,
              "#fb9f3a"
             ],
             [
              0.8888888888888888,
              "#fdca26"
             ],
             [
              1,
              "#f0f921"
             ]
            ],
            "type": "surface"
           }
          ],
          "table": [
           {
            "cells": {
             "fill": {
              "color": "#EBF0F8"
             },
             "line": {
              "color": "white"
             }
            },
            "header": {
             "fill": {
              "color": "#C8D4E3"
             },
             "line": {
              "color": "white"
             }
            },
            "type": "table"
           }
          ]
         },
         "layout": {
          "annotationdefaults": {
           "arrowcolor": "#2a3f5f",
           "arrowhead": 0,
           "arrowwidth": 1
          },
          "autotypenumbers": "strict",
          "coloraxis": {
           "colorbar": {
            "outlinewidth": 0,
            "ticks": ""
           }
          },
          "colorscale": {
           "diverging": [
            [
             0,
             "#8e0152"
            ],
            [
             0.1,
             "#c51b7d"
            ],
            [
             0.2,
             "#de77ae"
            ],
            [
             0.3,
             "#f1b6da"
            ],
            [
             0.4,
             "#fde0ef"
            ],
            [
             0.5,
             "#f7f7f7"
            ],
            [
             0.6,
             "#e6f5d0"
            ],
            [
             0.7,
             "#b8e186"
            ],
            [
             0.8,
             "#7fbc41"
            ],
            [
             0.9,
             "#4d9221"
            ],
            [
             1,
             "#276419"
            ]
           ],
           "sequential": [
            [
             0,
             "#0d0887"
            ],
            [
             0.1111111111111111,
             "#46039f"
            ],
            [
             0.2222222222222222,
             "#7201a8"
            ],
            [
             0.3333333333333333,
             "#9c179e"
            ],
            [
             0.4444444444444444,
             "#bd3786"
            ],
            [
             0.5555555555555556,
             "#d8576b"
            ],
            [
             0.6666666666666666,
             "#ed7953"
            ],
            [
             0.7777777777777778,
             "#fb9f3a"
            ],
            [
             0.8888888888888888,
             "#fdca26"
            ],
            [
             1,
             "#f0f921"
            ]
           ],
           "sequentialminus": [
            [
             0,
             "#0d0887"
            ],
            [
             0.1111111111111111,
             "#46039f"
            ],
            [
             0.2222222222222222,
             "#7201a8"
            ],
            [
             0.3333333333333333,
             "#9c179e"
            ],
            [
             0.4444444444444444,
             "#bd3786"
            ],
            [
             0.5555555555555556,
             "#d8576b"
            ],
            [
             0.6666666666666666,
             "#ed7953"
            ],
            [
             0.7777777777777778,
             "#fb9f3a"
            ],
            [
             0.8888888888888888,
             "#fdca26"
            ],
            [
             1,
             "#f0f921"
            ]
           ]
          },
          "colorway": [
           "#636efa",
           "#EF553B",
           "#00cc96",
           "#ab63fa",
           "#FFA15A",
           "#19d3f3",
           "#FF6692",
           "#B6E880",
           "#FF97FF",
           "#FECB52"
          ],
          "font": {
           "color": "#2a3f5f"
          },
          "geo": {
           "bgcolor": "white",
           "lakecolor": "white",
           "landcolor": "#E5ECF6",
           "showlakes": true,
           "showland": true,
           "subunitcolor": "white"
          },
          "hoverlabel": {
           "align": "left"
          },
          "hovermode": "closest",
          "mapbox": {
           "style": "light"
          },
          "paper_bgcolor": "white",
          "plot_bgcolor": "#E5ECF6",
          "polar": {
           "angularaxis": {
            "gridcolor": "white",
            "linecolor": "white",
            "ticks": ""
           },
           "bgcolor": "#E5ECF6",
           "radialaxis": {
            "gridcolor": "white",
            "linecolor": "white",
            "ticks": ""
           }
          },
          "scene": {
           "xaxis": {
            "backgroundcolor": "#E5ECF6",
            "gridcolor": "white",
            "gridwidth": 2,
            "linecolor": "white",
            "showbackground": true,
            "ticks": "",
            "zerolinecolor": "white"
           },
           "yaxis": {
            "backgroundcolor": "#E5ECF6",
            "gridcolor": "white",
            "gridwidth": 2,
            "linecolor": "white",
            "showbackground": true,
            "ticks": "",
            "zerolinecolor": "white"
           },
           "zaxis": {
            "backgroundcolor": "#E5ECF6",
            "gridcolor": "white",
            "gridwidth": 2,
            "linecolor": "white",
            "showbackground": true,
            "ticks": "",
            "zerolinecolor": "white"
           }
          },
          "shapedefaults": {
           "line": {
            "color": "#2a3f5f"
           }
          },
          "ternary": {
           "aaxis": {
            "gridcolor": "white",
            "linecolor": "white",
            "ticks": ""
           },
           "baxis": {
            "gridcolor": "white",
            "linecolor": "white",
            "ticks": ""
           },
           "bgcolor": "#E5ECF6",
           "caxis": {
            "gridcolor": "white",
            "linecolor": "white",
            "ticks": ""
           }
          },
          "title": {
           "x": 0.05
          },
          "xaxis": {
           "automargin": true,
           "gridcolor": "white",
           "linecolor": "white",
           "ticks": "",
           "title": {
            "standoff": 15
           },
           "zerolinecolor": "white",
           "zerolinewidth": 2
          },
          "yaxis": {
           "automargin": true,
           "gridcolor": "white",
           "linecolor": "white",
           "ticks": "",
           "title": {
            "standoff": 15
           },
           "zerolinecolor": "white",
           "zerolinewidth": 2
          }
         }
        },
        "title": {
         "text": "Evolution of Top 10 Beers"
        },
        "width": 1600,
        "xaxis": {
         "dtick": 0.1,
         "tickmode": "array",
         "ticktext": [
          "2000",
          "2001",
          "2002",
          "2003",
          "2004",
          "2005",
          "2006",
          "2007",
          "2008",
          "2009",
          "2010",
          "2011",
          "2012",
          "2013",
          "2014",
          "2015",
          "2016",
          "2017"
         ],
         "tickvals": [
          "2000",
          "2001",
          "2002",
          "2003",
          "2004",
          "2005",
          "2006",
          "2007",
          "2008",
          "2009",
          "2010",
          "2011",
          "2012",
          "2013",
          "2014",
          "2015",
          "2016",
          "2017"
         ],
         "title": {
          "text": "Year"
         }
        },
        "yaxis": {
         "autorange": "reversed",
         "dtick": 1,
         "tickmode": "linear",
         "tickvals": [
          1,
          2,
          3,
          4,
          5,
          6,
          7,
          8,
          9,
          10
         ],
         "title": {
          "text": "Position in Top 10"
         }
        }
       }
      }
     },
     "metadata": {},
     "output_type": "display_data"
    }
   ],
   "source": [
    "import pandas as pd\n",
    "import plotly.graph_objects as go\n",
    "\n",
    "# ... (votre code pour créer le DataFrame et les classements)\n",
    "\n",
    "fig = go.Figure()\n",
    "\n",
    "# Ajouter un scatter pour chaque année entière\n",
    "scatter_data = []\n",
    "for i, year in enumerate(years):\n",
    "    try:\n",
    "        if float(year).is_integer():  # Exclure les années avec des décimales\n",
    "            top_10 = df_filled[df_filled['year'] == int(year)].nlargest(10, 'new_rating')\n",
    "            scatter_data.append(go.Scatter(\n",
    "                x=[year] * 10,\n",
    "                y=list(range(1,11)),  # Inverser l'axe y\n",
    "                mode='markers+text',\n",
    "                marker=dict(size=20),\n",
    "                text=top_10['beer_name'],\n",
    "                name=str(int(year)),  # Convertir l'année en entier pour l'affichage\n",
    "                visible=(i == 0),  # Les deux dernières années sont visibles par défaut\n",
    "                textposition='top right', \n",
    "                 textfont=dict(size=12) # Ajuster la position du texte\n",
    "            ))\n",
    "    except ValueError:\n",
    "        pass  # Ignore les valeurs non convertibles en float\n",
    "\n",
    "fig.update_layout(\n",
    "    title='Evolution of Top 10 Beers',\n",
    "    xaxis=dict(title='Year', tickmode='array', tickvals=years, ticktext=[str(year) for year in years], dtick=0.1),  # Utiliser les années entières sur l'axe x\n",
    "    yaxis=dict(title='Position in Top 10', tickmode= 'linear', tickvals= list(range(1,11)), dtick=1,autorange='reversed'),  # Inverser l'axe y\n",
    "    showlegend=False,\n",
    "    height= 800,  # Masquer la légende\n",
    "    width=1600,  # Ajuster la largeur de la figure\n",
    "    sliders=[{\n",
    "        'active': 0,\n",
    "        'steps': [{'label': str(year), 'method': 'update', 'args': [{'visible': [i == j or i == j-1 or i == j+1 for j in range(len(years))]}]} for i, year in enumerate(years)]\n",
    "    }],\n",
    ")\n",
    "\n",
    "fig.add_traces(scatter_data)\n",
    "\n",
    "fig.show()\n"
   ]
  },
  {
   "cell_type": "code",
   "execution_count": 111,
   "metadata": {},
   "outputs": [
    {
     "data": {
      "application/vnd.plotly.v1+json": {
       "config": {
        "plotlyServerURL": "https://plot.ly"
       },
       "data": [
        {
         "marker": {
          "size": 15
         },
         "mode": "markers+text",
         "name": "2000",
         "text": [
          "Weihenstephaner Original",
          "Unibroue La Fin du Monde",
          "Unibroue Eau Bénite",
          "Unibroue Maudite",
          "Alley Kat Scona Gold",
          "Guinness Extra Stout (North America)",
          "Unibroue Blanche de Chambly",
          "Beck's Oktoberfest",
          "Wellington Iron Duke Strong Ale",
          "Smuttynose Portsmouth Lager"
         ],
         "textfont": {
          "size": 12
         },
         "textposition": "top center",
         "type": "scatter",
         "visible": true,
         "x": [
          -0.9,
          -0.9,
          -0.9,
          -0.9,
          -0.9,
          -0.9,
          -0.9,
          -0.9,
          -0.9,
          -0.9
         ],
         "y": [
          1,
          2,
          3,
          4,
          5,
          6,
          7,
          8,
          9,
          10
         ]
        },
        {
         "marker": {
          "size": 15
         },
         "mode": "markers+text",
         "name": "2001",
         "text": [
          "Okanagan Spring Pale Ale",
          "Creemore Springs Premium Lager",
          "Ayinger Celebrator Doppelbock",
          "Paulaner Oktoberfest-Märzen",
          "Hancock Old Gambrinus Beer Light",
          "Samuel Smith's Organic Best Ale",
          "Unibroue Eau Bénite",
          "Wellington Imperial Russian Stout",
          "Apollo Pilsner",
          "Olands Premium Red Draught"
         ],
         "textfont": {
          "size": 12
         },
         "textposition": "top center",
         "type": "scatter",
         "visible": false,
         "x": [
          -0.8,
          -0.8,
          -0.8,
          -0.8,
          -0.8,
          -0.8,
          -0.8,
          -0.8,
          -0.8,
          -0.8
         ],
         "y": [
          1,
          2,
          3,
          4,
          5,
          6,
          7,
          8,
          9,
          10
         ]
        },
        {
         "marker": {
          "size": 15
         },
         "mode": "markers+text",
         "name": "2002",
         "text": [
          "Casta Bruna",
          "Brava Cerveza",
          "Le Cheval Blanc Bière dHiver",
          "Hancock Old Gambrinus Beer Dark",
          "Upper Canada Dark Ale",
          "Thomas Hardy's Ale (1968-1999)",
          "Schwarzer Abt",
          "Rickards Gold",
          "Noche Buena",
          "Traquair House Ale"
         ],
         "textfont": {
          "size": 12
         },
         "textposition": "top center",
         "type": "scatter",
         "visible": false,
         "x": [
          -0.7000000000000001,
          -0.7000000000000001,
          -0.7000000000000001,
          -0.7000000000000001,
          -0.7000000000000001,
          -0.7000000000000001,
          -0.7000000000000001,
          -0.7000000000000001,
          -0.7000000000000001,
          -0.7000000000000001
         ],
         "y": [
          1,
          2,
          3,
          4,
          5,
          6,
          7,
          8,
          9,
          10
         ]
        },
        {
         "marker": {
          "size": 15
         },
         "mode": "markers+text",
         "name": "2003",
         "text": [
          "Val-Dieu Triple",
          "Ørbæk Påskebryg",
          "Tsingtao Dark",
          "Trafalgar Winter Warmer",
          "Harvest Ale (Limited Edition)",
          "Hancock Old Gambrinus Beer Dark",
          "Brooklyn Black Chocolate Stout",
          "Thornbury Pickup No. 26 Pilsener",
          "Trappistes Rochefort 10",
          "Éphémère (Cranberry)"
         ],
         "textfont": {
          "size": 12
         },
         "textposition": "top center",
         "type": "scatter",
         "visible": false,
         "x": [
          -0.6000000000000001,
          -0.6000000000000001,
          -0.6000000000000001,
          -0.6000000000000001,
          -0.6000000000000001,
          -0.6000000000000001,
          -0.6000000000000001,
          -0.6000000000000001,
          -0.6000000000000001,
          -0.6000000000000001
         ],
         "y": [
          1,
          2,
          3,
          4,
          5,
          6,
          7,
          8,
          9,
          10
         ]
        },
        {
         "marker": {
          "size": 15
         },
         "mode": "markers+text",
         "name": "2004",
         "text": [
          "Picaroons Irish Red",
          "Éphémère (Cranberry)",
          "Olands Export Ale",
          "Dieu du Ciel Péché Mortel",
          "De Dolle Speciaal Brouwsel 20",
          "Coopers Sparkling Ale",
          "Trappistes Rochefort 10",
          "Yo-Ho Yona Yona Ale",
          "Unibroue Seigneuriale",
          "Bièropholie Bock Émissaire"
         ],
         "textfont": {
          "size": 12
         },
         "textposition": "top center",
         "type": "scatter",
         "visible": false,
         "x": [
          -0.5,
          -0.5,
          -0.5,
          -0.5,
          -0.5,
          -0.5,
          -0.5,
          -0.5,
          -0.5,
          -0.5
         ],
         "y": [
          1,
          2,
          3,
          4,
          5,
          6,
          7,
          8,
          9,
          10
         ]
        },
        {
         "marker": {
          "size": 15
         },
         "mode": "markers+text",
         "name": "2005",
         "text": [
          "Panil Barriquée  (Italy Version)",
          "Gale's Jubilee Ale (2002)",
          "Ursus Pils",
          "Lions Winter Ale",
          "Fuller's Special Edition ESB",
          "Scotch Irish Tsarina Katarina Imperial Stout",
          "Cantillon Spuyten Duyvil",
          "Brooklyn Black Chocolate Stout",
          "Mai Bock",
          "WinterCoat Oatmeal Stout"
         ],
         "textfont": {
          "size": 12
         },
         "textposition": "top center",
         "type": "scatter",
         "visible": false,
         "x": [
          -0.4,
          -0.4,
          -0.4,
          -0.4,
          -0.4,
          -0.4,
          -0.4,
          -0.4,
          -0.4,
          -0.4
         ],
         "y": [
          1,
          2,
          3,
          4,
          5,
          6,
          7,
          8,
          9,
          10
         ]
        },
        {
         "marker": {
          "size": 15
         },
         "mode": "markers+text",
         "name": "2006",
         "text": [
          "Lakeport Pilsener",
          "Bedondaine et Bedons Ronds Reyne Descosse",
          "Phillips Amnesiac Double IPA",
          "Birrificio Italiano Tipopils",
          "Urbock 23°",
          "Granville Island GIBitter",
          "Bièropholie IPA",
          "Nickel Brook Ale (pre 2009)",
          "Little Creatures Pale Ale",
          "Smuggler's Ale"
         ],
         "textfont": {
          "size": 12
         },
         "textposition": "top center",
         "type": "scatter",
         "visible": false,
         "x": [
          -0.30000000000000004,
          -0.30000000000000004,
          -0.30000000000000004,
          -0.30000000000000004,
          -0.30000000000000004,
          -0.30000000000000004,
          -0.30000000000000004,
          -0.30000000000000004,
          -0.30000000000000004,
          -0.30000000000000004
         ],
         "y": [
          1,
          2,
          3,
          4,
          5,
          6,
          7,
          8,
          9,
          10
         ]
        },
        {
         "marker": {
          "size": 15
         },
         "mode": "markers+text",
         "name": "2007",
         "text": [
          "Innis & Gunn Limited Edition 2005",
          "Les Trois Mousquetaires G.C. Porter Baltique",
          "Original Stieglbock",
          "Side Launch Wheat",
          "Schneider Weisse Tap 1 Mein Blondes",
          "Abbaye De Saint Bon-Chien",
          "Ølfabrikken Gammel Ekstra Porter",
          "La Lièvre IPA",
          "Drie Fonteinen Millennium Geuze",
          "Sanctification"
         ],
         "textfont": {
          "size": 12
         },
         "textposition": "top center",
         "type": "scatter",
         "visible": false,
         "x": [
          -0.2,
          -0.2,
          -0.2,
          -0.2,
          -0.2,
          -0.2,
          -0.2,
          -0.2,
          -0.2,
          -0.2
         ],
         "y": [
          1,
          2,
          3,
          4,
          5,
          6,
          7,
          8,
          9,
          10
         ]
        },
        {
         "marker": {
          "size": 15
         },
         "mode": "markers+text",
         "name": "2008",
         "text": [
          "Kosmyk Charlie's Y2K Catastrophe Ale",
          "Alley Kat Bad Hare Day",
          "Mean Manalishi Double I.P.A.",
          "Baeren Rye",
          "Half Pints Bulldog Amber Ale",
          "Consecration",
          "Baladin Xyauyù Etichetta Rame (Copper Label)",
          "Terrapin Big Sloppy Monster",
          "Neumarkter Lammsbräu (Organic) Dunkel",
          "Old Crafty Hen"
         ],
         "textfont": {
          "size": 12
         },
         "textposition": "top center",
         "type": "scatter",
         "visible": false,
         "x": [
          -0.1,
          -0.1,
          -0.1,
          -0.1,
          -0.1,
          -0.1,
          -0.1,
          -0.1,
          -0.1,
          -0.1
         ],
         "y": [
          1,
          2,
          3,
          4,
          5,
          6,
          7,
          8,
          9,
          10
         ]
        },
        {
         "marker": {
          "size": 15
         },
         "mode": "markers+text",
         "name": "2009",
         "text": [
          "Lvivske Porter",
          "Borefts Bok 2009",
          "Old Engine Oil Special Reserve (Aged In Malt Whiskey Casks)",
          "RJ Le Cheval Blanc Snoreau",
          "Granville Island Merry Monks Dopplebock",
          "Driftwood Sartori Harvest IPA",
          "Southampton Grand Cru",
          "Dieu du Ciel Solstice dÉté aux Framboises",
          "Primátor Premium",
          "Søgaards Trippel"
         ],
         "textfont": {
          "size": 12
         },
         "textposition": "top center",
         "type": "scatter",
         "visible": false,
         "x": [
          0,
          0,
          0,
          0,
          0,
          0,
          0,
          0,
          0,
          0
         ],
         "y": [
          1,
          2,
          3,
          4,
          5,
          6,
          7,
          8,
          9,
          10
         ]
        },
        {
         "marker": {
          "size": 15
         },
         "mode": "markers+text",
         "name": "2010",
         "text": [
          "Piccolo Birrificio Ego",
          "Bedondaine et Bedons Ronds Reyne Descosse Gelée",
          "Saison Du Tracteur",
          "Birra del Borgo ReAle Extra",
          "Charlevoix Dominus Vobiscum Brut",
          "Toccalmatto Stray Dog No Rules Bitter",
          "La Trappe Quadrupel (Oak Aged)",
          "Birrificio del Ducato LUltima Luna",
          "Toccalmatto Sibilla",
          "Captivator Doppelbock"
         ],
         "textfont": {
          "size": 12
         },
         "textposition": "top center",
         "type": "scatter",
         "visible": false,
         "x": [
          0.1,
          0.1,
          0.1,
          0.1,
          0.1,
          0.1,
          0.1,
          0.1,
          0.1,
          0.1
         ],
         "y": [
          1,
          2,
          3,
          4,
          5,
          6,
          7,
          8,
          9,
          10
         ]
        },
        {
         "marker": {
          "size": 15
         },
         "mode": "markers+text",
         "name": "2011",
         "text": [
          "Beer Here / Raasted Bukkake",
          "Drie Fonteinen Millennium Geuze",
          "Drie Fonteinen Oude Geuze 1998 (50th Anniversary)",
          "Eichbaum Pilsener",
          "Montegioco Quarta Runa",
          "Ølfabrikken Petit Blau",
          "Cantillon Don Quijote",
          "Les Brasseurs du Temps Mea Magna Culpa",
          "Cantillon Blåbær Lambik",
          "Tipo Pils"
         ],
         "textfont": {
          "size": 12
         },
         "textposition": "top center",
         "type": "scatter",
         "visible": false,
         "x": [
          0.2,
          0.2,
          0.2,
          0.2,
          0.2,
          0.2,
          0.2,
          0.2,
          0.2,
          0.2
         ],
         "y": [
          1,
          2,
          3,
          4,
          5,
          6,
          7,
          8,
          9,
          10
         ]
        },
        {
         "marker": {
          "size": 15
         },
         "mode": "markers+text",
         "name": "2012",
         "text": [
          "Cantillon Loerik",
          "L'Amoureuse Rouge",
          "Kamenitza Lev",
          "Watermelon Warhead",
          "Drie Fonteinen Oude Geuze 1998 (50th Anniversary)",
          "Whistler Chocolate Winter Dunkel",
          "Le Cheval Blanc Double Bonheur",
          "Black Tokyo Horizon",
          "Depuration",
          "Ann"
         ],
         "textfont": {
          "size": 12
         },
         "textposition": "top center",
         "type": "scatter",
         "visible": false,
         "x": [
          0.30000000000000004,
          0.30000000000000004,
          0.30000000000000004,
          0.30000000000000004,
          0.30000000000000004,
          0.30000000000000004,
          0.30000000000000004,
          0.30000000000000004,
          0.30000000000000004,
          0.30000000000000004
         ],
         "y": [
          1,
          2,
          3,
          4,
          5,
          6,
          7,
          8,
          9,
          10
         ]
        },
        {
         "marker": {
          "size": 15
         },
         "mode": "markers+text",
         "name": "2013",
         "text": [
          "Birra del Borgo Perle ai Porci (Pearls for Pigs)",
          "Edward",
          "Svaneke Julebryg",
          "Collesi 1970 Ambrata",
          "Bavarias Best Imperial Stout",
          "Innis & Gunn Spiced Rum Aged",
          "Brasseurs du Monde Gamme Festive Célébrante",
          "Cantillon Bruocsella (1900) Grand Cru",
          "Rapture",
          "Tamamura-Honten Yamabushi Saison 1 Aged in Oak Barrels"
         ],
         "textfont": {
          "size": 12
         },
         "textposition": "top center",
         "type": "scatter",
         "visible": false,
         "x": [
          0.4,
          0.4,
          0.4,
          0.4,
          0.4,
          0.4,
          0.4,
          0.4,
          0.4,
          0.4
         ],
         "y": [
          1,
          2,
          3,
          4,
          5,
          6,
          7,
          8,
          9,
          10
         ]
        },
        {
         "marker": {
          "size": 15
         },
         "mode": "markers+text",
         "name": "2014",
         "text": [
          "Mandøl Smagen af Mandø",
          "Molson Standard Lager",
          "Extraomnes Saison",
          "Cantillon Spuyten Duyvil",
          "Wicked Juju",
          "Minerva Colonial",
          "Schneider Weisse Tap 6 Unser Aventinus",
          "Cantillon Blåbær Lambik",
          "Melbourne Bitter",
          "Cantillon Crianza Helena"
         ],
         "textfont": {
          "size": 12
         },
         "textposition": "top center",
         "type": "scatter",
         "visible": false,
         "x": [
          0.5,
          0.5,
          0.5,
          0.5,
          0.5,
          0.5,
          0.5,
          0.5,
          0.5,
          0.5
         ],
         "y": [
          1,
          2,
          3,
          4,
          5,
          6,
          7,
          8,
          9,
          10
         ]
        },
        {
         "marker": {
          "size": 15
         },
         "mode": "markers+text",
         "name": "2015",
         "text": [
          "Opperbacco Blanche de Lotario",
          "Four Winds Phaedra Rye Wheat IPA",
          "Unibroue Blanche de Chambly",
          "Saison Bernice",
          "Charlevoix Dominus Vobiscum Lupulus",
          "Sanctification",
          "Dunham Saison Réserve",
          "Buxton / Omnipollo Yellow Belly Sundae",
          "Flying Monkeys City and Colour",
          "Driftwood Sartori Harvest IPA"
         ],
         "textfont": {
          "size": 12
         },
         "textposition": "top center",
         "type": "scatter",
         "visible": false,
         "x": [
          0.6000000000000001,
          0.6000000000000001,
          0.6000000000000001,
          0.6000000000000001,
          0.6000000000000001,
          0.6000000000000001,
          0.6000000000000001,
          0.6000000000000001,
          0.6000000000000001,
          0.6000000000000001
         ],
         "y": [
          1,
          2,
          3,
          4,
          5,
          6,
          7,
          8,
          9,
          10
         ]
        },
        {
         "marker": {
          "size": 15
         },
         "mode": "markers+text",
         "name": "2016",
         "text": [
          "Indie Alehouse Zombie Apocalypse (Bourbon)",
          "Skovlyst Lossen",
          "Ghost Black Beast",
          "Charlevoix Dominus Vobiscum Lupulus",
          "Skovlyst Julebryg",
          "Xyauyù Etichetta Rame (Copper)",
          "To Øl Passion Of The Weisst",
          "Frejdahl Gudmund",
          "Hors Série Ceci N'est Pas Une Gueuze",
          "Aardmonnik - Earthmonk"
         ],
         "textfont": {
          "size": 12
         },
         "textposition": "top center",
         "type": "scatter",
         "visible": false,
         "x": [
          0.7000000000000001,
          0.7000000000000001,
          0.7000000000000001,
          0.7000000000000001,
          0.7000000000000001,
          0.7000000000000001,
          0.7000000000000001,
          0.7000000000000001,
          0.7000000000000001,
          0.7000000000000001
         ],
         "y": [
          1,
          2,
          3,
          4,
          5,
          6,
          7,
          8,
          9,
          10
         ]
        },
        {
         "marker": {
          "size": 15
         },
         "mode": "markers+text",
         "name": "2017",
         "text": [
          "Coedo / Stone / Garage Project Tsuyu Saison",
          "Pladderballe Brodtgaard Basement Reserve",
          "Thisted Thy Ale",
          "Double Nelson",
          "RJ Le Cheval Blanc Double Blanche (IPA belge)",
          "Amager / Lervig Brown Boobies Falling",
          "Midtfyns Jule Stout",
          "Birrificio Italiano Nigredo (Negra 3.0)",
          "Benelux Moisson (2011)",
          "LoverBeer A Renna Glüh"
         ],
         "textfont": {
          "size": 12
         },
         "textposition": "top center",
         "type": "scatter",
         "visible": false,
         "x": [
          0.8,
          0.8,
          0.8,
          0.8,
          0.8,
          0.8,
          0.8,
          0.8,
          0.8,
          0.8
         ],
         "y": [
          1,
          2,
          3,
          4,
          5,
          6,
          7,
          8,
          9,
          10
         ]
        }
       ],
       "layout": {
        "height": 800,
        "showlegend": false,
        "sliders": [
         {
          "active": 0,
          "steps": [
           {
            "args": [
             {
              "visible": [
               true,
               true,
               false,
               false,
               false,
               false,
               false,
               false,
               false,
               false,
               false,
               false,
               false,
               false,
               false,
               false,
               false,
               false
              ]
             }
            ],
            "label": "2000",
            "method": "update"
           },
           {
            "args": [
             {
              "visible": [
               true,
               true,
               true,
               false,
               false,
               false,
               false,
               false,
               false,
               false,
               false,
               false,
               false,
               false,
               false,
               false,
               false,
               false
              ]
             }
            ],
            "label": "2001",
            "method": "update"
           },
           {
            "args": [
             {
              "visible": [
               false,
               true,
               true,
               true,
               false,
               false,
               false,
               false,
               false,
               false,
               false,
               false,
               false,
               false,
               false,
               false,
               false,
               false
              ]
             }
            ],
            "label": "2002",
            "method": "update"
           },
           {
            "args": [
             {
              "visible": [
               false,
               false,
               true,
               true,
               true,
               false,
               false,
               false,
               false,
               false,
               false,
               false,
               false,
               false,
               false,
               false,
               false,
               false
              ]
             }
            ],
            "label": "2003",
            "method": "update"
           },
           {
            "args": [
             {
              "visible": [
               false,
               false,
               false,
               true,
               true,
               true,
               false,
               false,
               false,
               false,
               false,
               false,
               false,
               false,
               false,
               false,
               false,
               false
              ]
             }
            ],
            "label": "2004",
            "method": "update"
           },
           {
            "args": [
             {
              "visible": [
               false,
               false,
               false,
               false,
               true,
               true,
               true,
               false,
               false,
               false,
               false,
               false,
               false,
               false,
               false,
               false,
               false,
               false
              ]
             }
            ],
            "label": "2005",
            "method": "update"
           },
           {
            "args": [
             {
              "visible": [
               false,
               false,
               false,
               false,
               false,
               true,
               true,
               true,
               false,
               false,
               false,
               false,
               false,
               false,
               false,
               false,
               false,
               false
              ]
             }
            ],
            "label": "2006",
            "method": "update"
           },
           {
            "args": [
             {
              "visible": [
               false,
               false,
               false,
               false,
               false,
               false,
               true,
               true,
               true,
               false,
               false,
               false,
               false,
               false,
               false,
               false,
               false,
               false
              ]
             }
            ],
            "label": "2007",
            "method": "update"
           },
           {
            "args": [
             {
              "visible": [
               false,
               false,
               false,
               false,
               false,
               false,
               false,
               true,
               true,
               true,
               false,
               false,
               false,
               false,
               false,
               false,
               false,
               false
              ]
             }
            ],
            "label": "2008",
            "method": "update"
           },
           {
            "args": [
             {
              "visible": [
               false,
               false,
               false,
               false,
               false,
               false,
               false,
               false,
               true,
               true,
               true,
               false,
               false,
               false,
               false,
               false,
               false,
               false
              ]
             }
            ],
            "label": "2009",
            "method": "update"
           },
           {
            "args": [
             {
              "visible": [
               false,
               false,
               false,
               false,
               false,
               false,
               false,
               false,
               false,
               true,
               true,
               true,
               false,
               false,
               false,
               false,
               false,
               false
              ]
             }
            ],
            "label": "2010",
            "method": "update"
           },
           {
            "args": [
             {
              "visible": [
               false,
               false,
               false,
               false,
               false,
               false,
               false,
               false,
               false,
               false,
               true,
               true,
               true,
               false,
               false,
               false,
               false,
               false
              ]
             }
            ],
            "label": "2011",
            "method": "update"
           },
           {
            "args": [
             {
              "visible": [
               false,
               false,
               false,
               false,
               false,
               false,
               false,
               false,
               false,
               false,
               false,
               true,
               true,
               true,
               false,
               false,
               false,
               false
              ]
             }
            ],
            "label": "2012",
            "method": "update"
           },
           {
            "args": [
             {
              "visible": [
               false,
               false,
               false,
               false,
               false,
               false,
               false,
               false,
               false,
               false,
               false,
               false,
               true,
               true,
               true,
               false,
               false,
               false
              ]
             }
            ],
            "label": "2013",
            "method": "update"
           },
           {
            "args": [
             {
              "visible": [
               false,
               false,
               false,
               false,
               false,
               false,
               false,
               false,
               false,
               false,
               false,
               false,
               false,
               true,
               true,
               true,
               false,
               false
              ]
             }
            ],
            "label": "2014",
            "method": "update"
           },
           {
            "args": [
             {
              "visible": [
               false,
               false,
               false,
               false,
               false,
               false,
               false,
               false,
               false,
               false,
               false,
               false,
               false,
               false,
               true,
               true,
               true,
               false
              ]
             }
            ],
            "label": "2015",
            "method": "update"
           },
           {
            "args": [
             {
              "visible": [
               false,
               false,
               false,
               false,
               false,
               false,
               false,
               false,
               false,
               false,
               false,
               false,
               false,
               false,
               false,
               true,
               true,
               true
              ]
             }
            ],
            "label": "2016",
            "method": "update"
           },
           {
            "args": [
             {
              "visible": [
               false,
               false,
               false,
               false,
               false,
               false,
               false,
               false,
               false,
               false,
               false,
               false,
               false,
               false,
               false,
               false,
               true,
               true
              ]
             }
            ],
            "label": "2017",
            "method": "update"
           }
          ]
         }
        ],
        "template": {
         "data": {
          "bar": [
           {
            "error_x": {
             "color": "#2a3f5f"
            },
            "error_y": {
             "color": "#2a3f5f"
            },
            "marker": {
             "line": {
              "color": "#E5ECF6",
              "width": 0.5
             },
             "pattern": {
              "fillmode": "overlay",
              "size": 10,
              "solidity": 0.2
             }
            },
            "type": "bar"
           }
          ],
          "barpolar": [
           {
            "marker": {
             "line": {
              "color": "#E5ECF6",
              "width": 0.5
             },
             "pattern": {
              "fillmode": "overlay",
              "size": 10,
              "solidity": 0.2
             }
            },
            "type": "barpolar"
           }
          ],
          "carpet": [
           {
            "aaxis": {
             "endlinecolor": "#2a3f5f",
             "gridcolor": "white",
             "linecolor": "white",
             "minorgridcolor": "white",
             "startlinecolor": "#2a3f5f"
            },
            "baxis": {
             "endlinecolor": "#2a3f5f",
             "gridcolor": "white",
             "linecolor": "white",
             "minorgridcolor": "white",
             "startlinecolor": "#2a3f5f"
            },
            "type": "carpet"
           }
          ],
          "choropleth": [
           {
            "colorbar": {
             "outlinewidth": 0,
             "ticks": ""
            },
            "type": "choropleth"
           }
          ],
          "contour": [
           {
            "colorbar": {
             "outlinewidth": 0,
             "ticks": ""
            },
            "colorscale": [
             [
              0,
              "#0d0887"
             ],
             [
              0.1111111111111111,
              "#46039f"
             ],
             [
              0.2222222222222222,
              "#7201a8"
             ],
             [
              0.3333333333333333,
              "#9c179e"
             ],
             [
              0.4444444444444444,
              "#bd3786"
             ],
             [
              0.5555555555555556,
              "#d8576b"
             ],
             [
              0.6666666666666666,
              "#ed7953"
             ],
             [
              0.7777777777777778,
              "#fb9f3a"
             ],
             [
              0.8888888888888888,
              "#fdca26"
             ],
             [
              1,
              "#f0f921"
             ]
            ],
            "type": "contour"
           }
          ],
          "contourcarpet": [
           {
            "colorbar": {
             "outlinewidth": 0,
             "ticks": ""
            },
            "type": "contourcarpet"
           }
          ],
          "heatmap": [
           {
            "colorbar": {
             "outlinewidth": 0,
             "ticks": ""
            },
            "colorscale": [
             [
              0,
              "#0d0887"
             ],
             [
              0.1111111111111111,
              "#46039f"
             ],
             [
              0.2222222222222222,
              "#7201a8"
             ],
             [
              0.3333333333333333,
              "#9c179e"
             ],
             [
              0.4444444444444444,
              "#bd3786"
             ],
             [
              0.5555555555555556,
              "#d8576b"
             ],
             [
              0.6666666666666666,
              "#ed7953"
             ],
             [
              0.7777777777777778,
              "#fb9f3a"
             ],
             [
              0.8888888888888888,
              "#fdca26"
             ],
             [
              1,
              "#f0f921"
             ]
            ],
            "type": "heatmap"
           }
          ],
          "heatmapgl": [
           {
            "colorbar": {
             "outlinewidth": 0,
             "ticks": ""
            },
            "colorscale": [
             [
              0,
              "#0d0887"
             ],
             [
              0.1111111111111111,
              "#46039f"
             ],
             [
              0.2222222222222222,
              "#7201a8"
             ],
             [
              0.3333333333333333,
              "#9c179e"
             ],
             [
              0.4444444444444444,
              "#bd3786"
             ],
             [
              0.5555555555555556,
              "#d8576b"
             ],
             [
              0.6666666666666666,
              "#ed7953"
             ],
             [
              0.7777777777777778,
              "#fb9f3a"
             ],
             [
              0.8888888888888888,
              "#fdca26"
             ],
             [
              1,
              "#f0f921"
             ]
            ],
            "type": "heatmapgl"
           }
          ],
          "histogram": [
           {
            "marker": {
             "pattern": {
              "fillmode": "overlay",
              "size": 10,
              "solidity": 0.2
             }
            },
            "type": "histogram"
           }
          ],
          "histogram2d": [
           {
            "colorbar": {
             "outlinewidth": 0,
             "ticks": ""
            },
            "colorscale": [
             [
              0,
              "#0d0887"
             ],
             [
              0.1111111111111111,
              "#46039f"
             ],
             [
              0.2222222222222222,
              "#7201a8"
             ],
             [
              0.3333333333333333,
              "#9c179e"
             ],
             [
              0.4444444444444444,
              "#bd3786"
             ],
             [
              0.5555555555555556,
              "#d8576b"
             ],
             [
              0.6666666666666666,
              "#ed7953"
             ],
             [
              0.7777777777777778,
              "#fb9f3a"
             ],
             [
              0.8888888888888888,
              "#fdca26"
             ],
             [
              1,
              "#f0f921"
             ]
            ],
            "type": "histogram2d"
           }
          ],
          "histogram2dcontour": [
           {
            "colorbar": {
             "outlinewidth": 0,
             "ticks": ""
            },
            "colorscale": [
             [
              0,
              "#0d0887"
             ],
             [
              0.1111111111111111,
              "#46039f"
             ],
             [
              0.2222222222222222,
              "#7201a8"
             ],
             [
              0.3333333333333333,
              "#9c179e"
             ],
             [
              0.4444444444444444,
              "#bd3786"
             ],
             [
              0.5555555555555556,
              "#d8576b"
             ],
             [
              0.6666666666666666,
              "#ed7953"
             ],
             [
              0.7777777777777778,
              "#fb9f3a"
             ],
             [
              0.8888888888888888,
              "#fdca26"
             ],
             [
              1,
              "#f0f921"
             ]
            ],
            "type": "histogram2dcontour"
           }
          ],
          "mesh3d": [
           {
            "colorbar": {
             "outlinewidth": 0,
             "ticks": ""
            },
            "type": "mesh3d"
           }
          ],
          "parcoords": [
           {
            "line": {
             "colorbar": {
              "outlinewidth": 0,
              "ticks": ""
             }
            },
            "type": "parcoords"
           }
          ],
          "pie": [
           {
            "automargin": true,
            "type": "pie"
           }
          ],
          "scatter": [
           {
            "fillpattern": {
             "fillmode": "overlay",
             "size": 10,
             "solidity": 0.2
            },
            "type": "scatter"
           }
          ],
          "scatter3d": [
           {
            "line": {
             "colorbar": {
              "outlinewidth": 0,
              "ticks": ""
             }
            },
            "marker": {
             "colorbar": {
              "outlinewidth": 0,
              "ticks": ""
             }
            },
            "type": "scatter3d"
           }
          ],
          "scattercarpet": [
           {
            "marker": {
             "colorbar": {
              "outlinewidth": 0,
              "ticks": ""
             }
            },
            "type": "scattercarpet"
           }
          ],
          "scattergeo": [
           {
            "marker": {
             "colorbar": {
              "outlinewidth": 0,
              "ticks": ""
             }
            },
            "type": "scattergeo"
           }
          ],
          "scattergl": [
           {
            "marker": {
             "colorbar": {
              "outlinewidth": 0,
              "ticks": ""
             }
            },
            "type": "scattergl"
           }
          ],
          "scattermapbox": [
           {
            "marker": {
             "colorbar": {
              "outlinewidth": 0,
              "ticks": ""
             }
            },
            "type": "scattermapbox"
           }
          ],
          "scatterpolar": [
           {
            "marker": {
             "colorbar": {
              "outlinewidth": 0,
              "ticks": ""
             }
            },
            "type": "scatterpolar"
           }
          ],
          "scatterpolargl": [
           {
            "marker": {
             "colorbar": {
              "outlinewidth": 0,
              "ticks": ""
             }
            },
            "type": "scatterpolargl"
           }
          ],
          "scatterternary": [
           {
            "marker": {
             "colorbar": {
              "outlinewidth": 0,
              "ticks": ""
             }
            },
            "type": "scatterternary"
           }
          ],
          "surface": [
           {
            "colorbar": {
             "outlinewidth": 0,
             "ticks": ""
            },
            "colorscale": [
             [
              0,
              "#0d0887"
             ],
             [
              0.1111111111111111,
              "#46039f"
             ],
             [
              0.2222222222222222,
              "#7201a8"
             ],
             [
              0.3333333333333333,
              "#9c179e"
             ],
             [
              0.4444444444444444,
              "#bd3786"
             ],
             [
              0.5555555555555556,
              "#d8576b"
             ],
             [
              0.6666666666666666,
              "#ed7953"
             ],
             [
              0.7777777777777778,
              "#fb9f3a"
             ],
             [
              0.8888888888888888,
              "#fdca26"
             ],
             [
              1,
              "#f0f921"
             ]
            ],
            "type": "surface"
           }
          ],
          "table": [
           {
            "cells": {
             "fill": {
              "color": "#EBF0F8"
             },
             "line": {
              "color": "white"
             }
            },
            "header": {
             "fill": {
              "color": "#C8D4E3"
             },
             "line": {
              "color": "white"
             }
            },
            "type": "table"
           }
          ]
         },
         "layout": {
          "annotationdefaults": {
           "arrowcolor": "#2a3f5f",
           "arrowhead": 0,
           "arrowwidth": 1
          },
          "autotypenumbers": "strict",
          "coloraxis": {
           "colorbar": {
            "outlinewidth": 0,
            "ticks": ""
           }
          },
          "colorscale": {
           "diverging": [
            [
             0,
             "#8e0152"
            ],
            [
             0.1,
             "#c51b7d"
            ],
            [
             0.2,
             "#de77ae"
            ],
            [
             0.3,
             "#f1b6da"
            ],
            [
             0.4,
             "#fde0ef"
            ],
            [
             0.5,
             "#f7f7f7"
            ],
            [
             0.6,
             "#e6f5d0"
            ],
            [
             0.7,
             "#b8e186"
            ],
            [
             0.8,
             "#7fbc41"
            ],
            [
             0.9,
             "#4d9221"
            ],
            [
             1,
             "#276419"
            ]
           ],
           "sequential": [
            [
             0,
             "#0d0887"
            ],
            [
             0.1111111111111111,
             "#46039f"
            ],
            [
             0.2222222222222222,
             "#7201a8"
            ],
            [
             0.3333333333333333,
             "#9c179e"
            ],
            [
             0.4444444444444444,
             "#bd3786"
            ],
            [
             0.5555555555555556,
             "#d8576b"
            ],
            [
             0.6666666666666666,
             "#ed7953"
            ],
            [
             0.7777777777777778,
             "#fb9f3a"
            ],
            [
             0.8888888888888888,
             "#fdca26"
            ],
            [
             1,
             "#f0f921"
            ]
           ],
           "sequentialminus": [
            [
             0,
             "#0d0887"
            ],
            [
             0.1111111111111111,
             "#46039f"
            ],
            [
             0.2222222222222222,
             "#7201a8"
            ],
            [
             0.3333333333333333,
             "#9c179e"
            ],
            [
             0.4444444444444444,
             "#bd3786"
            ],
            [
             0.5555555555555556,
             "#d8576b"
            ],
            [
             0.6666666666666666,
             "#ed7953"
            ],
            [
             0.7777777777777778,
             "#fb9f3a"
            ],
            [
             0.8888888888888888,
             "#fdca26"
            ],
            [
             1,
             "#f0f921"
            ]
           ]
          },
          "colorway": [
           "#636efa",
           "#EF553B",
           "#00cc96",
           "#ab63fa",
           "#FFA15A",
           "#19d3f3",
           "#FF6692",
           "#B6E880",
           "#FF97FF",
           "#FECB52"
          ],
          "font": {
           "color": "#2a3f5f"
          },
          "geo": {
           "bgcolor": "white",
           "lakecolor": "white",
           "landcolor": "#E5ECF6",
           "showlakes": true,
           "showland": true,
           "subunitcolor": "white"
          },
          "hoverlabel": {
           "align": "left"
          },
          "hovermode": "closest",
          "mapbox": {
           "style": "light"
          },
          "paper_bgcolor": "white",
          "plot_bgcolor": "#E5ECF6",
          "polar": {
           "angularaxis": {
            "gridcolor": "white",
            "linecolor": "white",
            "ticks": ""
           },
           "bgcolor": "#E5ECF6",
           "radialaxis": {
            "gridcolor": "white",
            "linecolor": "white",
            "ticks": ""
           }
          },
          "scene": {
           "xaxis": {
            "backgroundcolor": "#E5ECF6",
            "gridcolor": "white",
            "gridwidth": 2,
            "linecolor": "white",
            "showbackground": true,
            "ticks": "",
            "zerolinecolor": "white"
           },
           "yaxis": {
            "backgroundcolor": "#E5ECF6",
            "gridcolor": "white",
            "gridwidth": 2,
            "linecolor": "white",
            "showbackground": true,
            "ticks": "",
            "zerolinecolor": "white"
           },
           "zaxis": {
            "backgroundcolor": "#E5ECF6",
            "gridcolor": "white",
            "gridwidth": 2,
            "linecolor": "white",
            "showbackground": true,
            "ticks": "",
            "zerolinecolor": "white"
           }
          },
          "shapedefaults": {
           "line": {
            "color": "#2a3f5f"
           }
          },
          "ternary": {
           "aaxis": {
            "gridcolor": "white",
            "linecolor": "white",
            "ticks": ""
           },
           "baxis": {
            "gridcolor": "white",
            "linecolor": "white",
            "ticks": ""
           },
           "bgcolor": "#E5ECF6",
           "caxis": {
            "gridcolor": "white",
            "linecolor": "white",
            "ticks": ""
           }
          },
          "title": {
           "x": 0.05
          },
          "xaxis": {
           "automargin": true,
           "gridcolor": "white",
           "linecolor": "white",
           "ticks": "",
           "title": {
            "standoff": 15
           },
           "zerolinecolor": "white",
           "zerolinewidth": 2
          },
          "yaxis": {
           "automargin": true,
           "gridcolor": "white",
           "linecolor": "white",
           "ticks": "",
           "title": {
            "standoff": 15
           },
           "zerolinecolor": "white",
           "zerolinewidth": 2
          }
         }
        },
        "title": {
         "text": "Evolution of Top 10 Beers"
        },
        "width": 1600,
        "xaxis": {
         "dtick": 0.1,
         "tickmode": "array",
         "ticktext": [
          "2000",
          "2001",
          "2002",
          "2003",
          "2004",
          "2005",
          "2006",
          "2007",
          "2008",
          "2009",
          "2010",
          "2011",
          "2012",
          "2013",
          "2014",
          "2015",
          "2016",
          "2017"
         ],
         "tickvals": [
          -0.9,
          -0.8,
          -0.7000000000000001,
          -0.6000000000000001,
          -0.5,
          -0.4,
          -0.30000000000000004,
          -0.2,
          -0.1,
          0,
          0.1,
          0.2,
          0.30000000000000004,
          0.4,
          0.5,
          0.6000000000000001,
          0.7000000000000001,
          0.8
         ],
         "title": {
          "text": "Year"
         }
        },
        "yaxis": {
         "autorange": "reversed",
         "dtick": 1,
         "tickmode": "linear",
         "tickvals": [
          1,
          2,
          3,
          4,
          5,
          6,
          7,
          8,
          9,
          10
         ],
         "title": {
          "text": "Position in Top 10"
         }
        }
       }
      }
     },
     "metadata": {},
     "output_type": "display_data"
    }
   ],
   "source": [
    "\n",
    "# ... (votre code pour créer le DataFrame et les classements)\n",
    "\n",
    "fig = go.Figure()\n",
    "\n",
    "# Ajouter un scatter pour chaque année entière\n",
    "scatter_data = []\n",
    "spacing = 0.1  # Ajustez l'espacement selon vos préférences\n",
    "\n",
    "for i, year in enumerate(years):\n",
    "    try:\n",
    "        if float(year).is_integer():  # Exclure les années avec des décimales\n",
    "            top_10 = df_filled[df_filled['year'] == int(year)].nlargest(10, 'new_rating')\n",
    "            scatter_data.append(go.Scatter(\n",
    "                x=[(i - len(years) / 2) * spacing] * 10,  # Centrer les années sur l'axe x\n",
    "                y=list(range(1, 11)),\n",
    "                mode='markers+text',\n",
    "                marker=dict(size=15),\n",
    "                text=top_10['beer_name'],\n",
    "                name=str(int(year)),\n",
    "                visible=(i == 0),  # La première année est visible par défaut\n",
    "                textposition='top center',\n",
    "                textfont=dict(size=12),\n",
    "            ))\n",
    "    except ValueError:\n",
    "        pass  # Ignore les valeurs non convertibles en float\n",
    "\n",
    "slider_steps = [{'label': str(year), 'method': 'update', 'args': [{'visible': [i == j or i == j + 1 or i == j - 1 for j in range(len(years))]}]} for i, year in enumerate(years)]\n",
    "\n",
    "fig.update_layout(\n",
    "    title='Evolution of Top 10 Beers',\n",
    "    xaxis=dict(title='Year', tickmode='array', tickvals=[(i - len(years) / 2)*spacing for i in range(len(years))], ticktext=[str(year) for year in years], dtick=spacing),\n",
    "    yaxis=dict(title='Position in Top 10', tickmode='linear', tickvals=list(range(1, 11)), dtick=1, autorange='reversed'),\n",
    "    showlegend=False,\n",
    "    height=800,\n",
    "    width=1600,  # Ajuster la largeur de la figure\n",
    "    sliders=[{\n",
    "        'active': 0,  # La première année est active par défaut\n",
    "        'steps': slider_steps,\n",
    "    }],\n",
    ")\n",
    "\n",
    "fig.add_traces(scatter_data)\n",
    "\n",
    "fig.show()\n"
   ]
  },
  {
   "cell_type": "code",
   "execution_count": 118,
   "metadata": {},
   "outputs": [
    {
     "data": {
      "application/vnd.plotly.v1+json": {
       "config": {
        "plotlyServerURL": "https://plot.ly"
       },
       "data": [
        {
         "cliponaxis": false,
         "hoverinfo": "all",
         "marker": {
          "color": [
           "rgb(181, 19, 61)",
           "rgb(160, 203, 201)",
           "rgb(114, 87, 179)",
           "rgb(200, 238, 197)",
           "rgb(164, 108, 23)",
           "rgb(214, 48, 189)",
           "rgb(76, 26, 63)",
           "rgb(188, 72, 79)",
           "rgb(216, 199, 93)",
           "rgb(64, 178, 181)"
          ]
         },
         "orientation": "h",
         "textangle": 0,
         "textposition": "outside",
         "texttemplate": "%{y}<br>%{x:.4s}",
         "type": "bar",
         "x": [
          0.0856980269090535,
          0.1413983790078688,
          0.1474960597172014,
          0.2916820056995468,
          0.3633911590367735,
          0.4020559589920901,
          0.7832398558263911,
          0.7922630921178851,
          0.8024114516969543,
          1.2724582070724737
         ],
         "y": [
          "Smuttynose Portsmouth Lager",
          "Wellington Iron Duke Strong Ale",
          "Beck's Oktoberfest",
          "Unibroue Blanche de Chambly",
          "Guinness Extra Stout (North America)",
          "Alley Kat Scona Gold",
          "Unibroue Maudite",
          "Unibroue Eau Bénite",
          "Unibroue La Fin du Monde",
          "Weihenstephaner Original"
         ]
        }
       ],
       "frames": [
        {
         "data": [
          {
           "cliponaxis": false,
           "hoverinfo": "all",
           "hovertemplate": "<extra></extra>",
           "marker": {
            "color": [
             "rgb(181, 19, 61)",
             "rgb(160, 203, 201)",
             "rgb(114, 87, 179)",
             "rgb(200, 238, 197)",
             "rgb(164, 108, 23)",
             "rgb(214, 48, 189)",
             "rgb(76, 26, 63)",
             "rgb(188, 72, 79)",
             "rgb(216, 199, 93)",
             "rgb(64, 178, 181)"
            ]
           },
           "orientation": "h",
           "textangle": 0,
           "textposition": "outside",
           "texttemplate": "%{y}<br>%{x:.4s}",
           "type": "bar",
           "x": [
            0.0856980269090535,
            0.1413983790078688,
            0.1474960597172014,
            0.2916820056995468,
            0.3633911590367735,
            0.4020559589920901,
            0.7832398558263911,
            0.7922630921178851,
            0.8024114516969543,
            1.2724582070724737
           ],
           "y": [
            "Smuttynose Portsmouth Lager",
            "Wellington Iron Duke Strong Ale",
            "Beck's Oktoberfest",
            "Unibroue Blanche de Chambly",
            "Guinness Extra Stout (North America)",
            "Alley Kat Scona Gold",
            "Unibroue Maudite",
            "Unibroue Eau Bénite",
            "Unibroue La Fin du Monde",
            "Weihenstephaner Original"
           ]
          }
         ],
         "layout": {
          "bargap": 0.15,
          "font": {
           "size": 14
          },
          "plot_bgcolor": "#FFFFFF",
          "title": {
           "text": "Top 10 beers in the world from 2000 to 2017"
          },
          "xaxis": {
           "range": [
            0,
            2.796358605054868
           ],
           "showline": true,
           "visible": true
          },
          "yaxis": {
           "showline": false,
           "visible": true
          }
         },
         "name": "2000.0"
        },
        {
         "data": [
          {
           "cliponaxis": false,
           "hoverinfo": "all",
           "hovertemplate": "<extra></extra>",
           "marker": {
            "color": [
             "rgb(103, 53, 19)",
             "rgb(175, 228, 7)",
             "rgb(36, 5, 92)",
             "rgb(188, 72, 79)",
             "rgb(175, 239, 77)",
             "rgb(141, 254, 9)",
             "rgb(175, 157, 46)",
             "rgb(133, 207, 153)",
             "rgb(79, 227, 15)",
             "rgb(71, 211, 73)"
            ]
           },
           "orientation": "h",
           "textangle": 0,
           "textposition": "outside",
           "texttemplate": "%{y}<br>%{x:.4s}",
           "type": "bar",
           "x": [
            0.9785837672582662,
            1.0058875532587828,
            1.063970250411699,
            1.0725839073783556,
            1.1062115555022047,
            1.1406137542872845,
            1.1540869577021826,
            1.2406882489229227,
            1.292176928309711,
            1.6237857546298675
           ],
           "y": [
            "Olands Premium Red Draught",
            "Apollo Pilsner",
            "Wellington Imperial Russian Stout",
            "Unibroue Eau Bénite",
            "Samuel Smith's Organic Best Ale",
            "Hancock Old Gambrinus Beer Light",
            "Paulaner Oktoberfest-Märzen",
            "Ayinger Celebrator Doppelbock",
            "Creemore Springs Premium Lager",
            "Okanagan Spring Pale Ale"
           ]
          }
         ],
         "layout": {
          "bargap": 0.15,
          "font": {
           "size": 14
          },
          "plot_bgcolor": "#FFFFFF",
          "title": {
           "text": "Top 10 beers in the world from 2000 to 2017"
          },
          "xaxis": {
           "range": [
            0,
            2.796358605054868
           ],
           "showline": true,
           "visible": true
          },
          "yaxis": {
           "showline": false,
           "visible": true
          }
         },
         "name": "2001.0"
        },
        {
         "data": [
          {
           "cliponaxis": false,
           "hoverinfo": "all",
           "hovertemplate": "<extra></extra>",
           "marker": {
            "color": [
             "rgb(184, 253, 12)",
             "rgb(182, 117, 158)",
             "rgb(183, 15, 76)",
             "rgb(192, 186, 45)",
             "rgb(121, 113, 148)",
             "rgb(52, 54, 179)",
             "rgb(190, 184, 46)",
             "rgb(32, 25, 208)",
             "rgb(152, 35, 183)",
             "rgb(3, 209, 46)"
            ]
           },
           "orientation": "h",
           "textangle": 0,
           "textposition": "outside",
           "texttemplate": "%{y}<br>%{x:.4s}",
           "type": "bar",
           "x": [
            1.0971892330254818,
            1.117999273528437,
            1.1892809268470006,
            1.1946513838248962,
            1.2298686075598522,
            1.2363237954738322,
            1.2464736767652496,
            1.296739938062742,
            1.3506758306197617,
            1.7157031714601243
           ],
           "y": [
            "Traquair House Ale",
            "Noche Buena",
            "Rickards Gold",
            "Schwarzer Abt",
            "Thomas Hardy's Ale (1968-1999)",
            "Upper Canada Dark Ale",
            "Hancock Old Gambrinus Beer Dark",
            "Le Cheval Blanc Bière dHiver",
            "Brava Cerveza",
            "Casta Bruna"
           ]
          }
         ],
         "layout": {
          "bargap": 0.15,
          "font": {
           "size": 14
          },
          "plot_bgcolor": "#FFFFFF",
          "title": {
           "text": "Top 10 beers in the world from 2000 to 2017"
          },
          "xaxis": {
           "range": [
            0,
            2.796358605054868
           ],
           "showline": true,
           "visible": true
          },
          "yaxis": {
           "showline": false,
           "visible": true
          }
         },
         "name": "2002.0"
        },
        {
         "data": [
          {
           "cliponaxis": false,
           "hoverinfo": "all",
           "hovertemplate": "<extra></extra>",
           "marker": {
            "color": [
             "rgb(204, 179, 180)",
             "rgb(162, 115, 37)",
             "rgb(160, 120, 198)",
             "rgb(142, 29, 212)",
             "rgb(190, 184, 46)",
             "rgb(86, 88, 48)",
             "rgb(94, 153, 220)",
             "rgb(118, 89, 60)",
             "rgb(61, 155, 230)",
             "rgb(170, 33, 91)"
            ]
           },
           "orientation": "h",
           "textangle": 0,
           "textposition": "outside",
           "texttemplate": "%{y}<br>%{x:.4s}",
           "type": "bar",
           "x": [
            1.020106685335022,
            1.0497129223965398,
            1.051065535567698,
            1.0984893371560656,
            1.0993684957865837,
            1.1365903819140273,
            1.1370635087602423,
            1.138117036597784,
            1.141220885476117,
            1.1624204770873334
           ],
           "y": [
            "Éphémère (Cranberry)",
            "Trappistes Rochefort 10",
            "Thornbury Pickup No. 26 Pilsener",
            "Brooklyn Black Chocolate Stout",
            "Hancock Old Gambrinus Beer Dark",
            "Harvest Ale (Limited Edition)",
            "Trafalgar Winter Warmer",
            "Tsingtao Dark",
            "Ørbæk Påskebryg",
            "Val-Dieu Triple"
           ]
          }
         ],
         "layout": {
          "bargap": 0.15,
          "font": {
           "size": 14
          },
          "plot_bgcolor": "#FFFFFF",
          "title": {
           "text": "Top 10 beers in the world from 2000 to 2017"
          },
          "xaxis": {
           "range": [
            0,
            2.796358605054868
           ],
           "showline": true,
           "visible": true
          },
          "yaxis": {
           "showline": false,
           "visible": true
          }
         },
         "name": "2003.0"
        },
        {
         "data": [
          {
           "cliponaxis": false,
           "hoverinfo": "all",
           "hovertemplate": "<extra></extra>",
           "marker": {
            "color": [
             "rgb(126, 39, 159)",
             "rgb(151, 47, 73)",
             "rgb(81, 172, 154)",
             "rgb(162, 115, 37)",
             "rgb(248, 182, 245)",
             "rgb(212, 73, 10)",
             "rgb(216, 53, 225)",
             "rgb(189, 41, 74)",
             "rgb(204, 179, 180)",
             "rgb(39, 47, 147)"
            ]
           },
           "orientation": "h",
           "textangle": 0,
           "textposition": "outside",
           "texttemplate": "%{y}<br>%{x:.4s}",
           "type": "bar",
           "x": [
            1.1189133450981463,
            1.1516669950713043,
            1.1528166236042097,
            1.1716356265310237,
            1.1741023273154845,
            1.1760713745592537,
            1.217131086340976,
            1.276741053311066,
            1.3539639927626284,
            1.7084785431180471
           ],
           "y": [
            "Bièropholie Bock Émissaire",
            "Unibroue Seigneuriale",
            "Yo-Ho Yona Yona Ale",
            "Trappistes Rochefort 10",
            "Coopers Sparkling Ale",
            "De Dolle Speciaal Brouwsel 20",
            "Dieu du Ciel Péché Mortel",
            "Olands Export Ale",
            "Éphémère (Cranberry)",
            "Picaroons Irish Red"
           ]
          }
         ],
         "layout": {
          "bargap": 0.15,
          "font": {
           "size": 14
          },
          "plot_bgcolor": "#FFFFFF",
          "title": {
           "text": "Top 10 beers in the world from 2000 to 2017"
          },
          "xaxis": {
           "range": [
            0,
            2.796358605054868
           ],
           "showline": true,
           "visible": true
          },
          "yaxis": {
           "showline": false,
           "visible": true
          }
         },
         "name": "2004.0"
        },
        {
         "data": [
          {
           "cliponaxis": false,
           "hoverinfo": "all",
           "hovertemplate": "<extra></extra>",
           "marker": {
            "color": [
             "rgb(226, 114, 68)",
             "rgb(214, 243, 110)",
             "rgb(142, 29, 212)",
             "rgb(108, 45, 211)",
             "rgb(170, 17, 67)",
             "rgb(91, 148, 49)",
             "rgb(103, 28, 226)",
             "rgb(156, 189, 149)",
             "rgb(180, 181, 54)",
             "rgb(77, 228, 99)"
            ]
           },
           "orientation": "h",
           "textangle": 0,
           "textposition": "outside",
           "texttemplate": "%{y}<br>%{x:.4s}",
           "type": "bar",
           "x": [
            1.128126928846783,
            1.1301521826016678,
            1.146847234543368,
            1.148323250291148,
            1.1483720433411242,
            1.1580044374770952,
            1.187508763872131,
            1.2330532509224803,
            1.3158032691133454,
            1.3961302319078674
           ],
           "y": [
            "WinterCoat Oatmeal Stout",
            "Mai Bock",
            "Brooklyn Black Chocolate Stout",
            "Cantillon Spuyten Duyvil",
            "Scotch Irish Tsarina Katarina Imperial Stout",
            "Fuller's Special Edition ESB",
            "Lions Winter Ale",
            "Ursus Pils",
            "Gale's Jubilee Ale (2002)",
            "Panil Barriquée  (Italy Version)"
           ]
          }
         ],
         "layout": {
          "bargap": 0.15,
          "font": {
           "size": 14
          },
          "plot_bgcolor": "#FFFFFF",
          "title": {
           "text": "Top 10 beers in the world from 2000 to 2017"
          },
          "xaxis": {
           "range": [
            0,
            2.796358605054868
           ],
           "showline": true,
           "visible": true
          },
          "yaxis": {
           "showline": false,
           "visible": true
          }
         },
         "name": "2005.0"
        },
        {
         "data": [
          {
           "cliponaxis": false,
           "hoverinfo": "all",
           "hovertemplate": "<extra></extra>",
           "marker": {
            "color": [
             "rgb(94, 190, 105)",
             "rgb(186, 34, 19)",
             "rgb(3, 55, 219)",
             "rgb(8, 82, 9)",
             "rgb(213, 5, 199)",
             "rgb(169, 150, 218)",
             "rgb(48, 152, 216)",
             "rgb(232, 252, 169)",
             "rgb(129, 13, 169)",
             "rgb(132, 215, 184)"
            ]
           },
           "orientation": "h",
           "textangle": 0,
           "textposition": "outside",
           "texttemplate": "%{y}<br>%{x:.4s}",
           "type": "bar",
           "x": [
            1.1013018745460426,
            1.1081949452181952,
            1.10970020597058,
            1.1429170607485464,
            1.1814772124502742,
            1.1951664258337198,
            1.224148644787213,
            1.224792193965514,
            1.2294622768994474,
            1.2311662394036298
           ],
           "y": [
            "Smuggler's Ale",
            "Little Creatures Pale Ale",
            "Nickel Brook Ale (pre 2009)",
            "Bièropholie IPA",
            "Granville Island GIBitter",
            "Urbock 23°",
            "Birrificio Italiano Tipopils",
            "Phillips Amnesiac Double IPA",
            "Bedondaine et Bedons Ronds Reyne Descosse",
            "Lakeport Pilsener"
           ]
          }
         ],
         "layout": {
          "bargap": 0.15,
          "font": {
           "size": 14
          },
          "plot_bgcolor": "#FFFFFF",
          "title": {
           "text": "Top 10 beers in the world from 2000 to 2017"
          },
          "xaxis": {
           "range": [
            0,
            2.796358605054868
           ],
           "showline": true,
           "visible": true
          },
          "yaxis": {
           "showline": false,
           "visible": true
          }
         },
         "name": "2006.0"
        },
        {
         "data": [
          {
           "cliponaxis": false,
           "hoverinfo": "all",
           "hovertemplate": "<extra></extra>",
           "marker": {
            "color": [
             "rgb(32, 60, 55)",
             "rgb(188, 73, 96)",
             "rgb(165, 185, 82)",
             "rgb(158, 145, 108)",
             "rgb(128, 45, 84)",
             "rgb(161, 46, 211)",
             "rgb(212, 184, 167)",
             "rgb(106, 79, 102)",
             "rgb(139, 44, 242)",
             "rgb(56, 76, 240)"
            ]
           },
           "orientation": "h",
           "textangle": 0,
           "textposition": "outside",
           "texttemplate": "%{y}<br>%{x:.4s}",
           "type": "bar",
           "x": [
            1.2396660302431133,
            1.2500517929893469,
            1.2669803376987006,
            1.2687902499092345,
            1.2801873813826143,
            1.296022595401119,
            1.3128778567226451,
            1.321458650317355,
            1.3320290468008888,
            1.4208028086796662
           ],
           "y": [
            "Sanctification",
            "Drie Fonteinen Millennium Geuze",
            "La Lièvre IPA",
            "Ølfabrikken Gammel Ekstra Porter",
            "Abbaye De Saint Bon-Chien",
            "Schneider Weisse Tap 1 Mein Blondes",
            "Side Launch Wheat",
            "Original Stieglbock",
            "Les Trois Mousquetaires G.C. Porter Baltique",
            "Innis & Gunn Limited Edition 2005"
           ]
          }
         ],
         "layout": {
          "bargap": 0.15,
          "font": {
           "size": 14
          },
          "plot_bgcolor": "#FFFFFF",
          "title": {
           "text": "Top 10 beers in the world from 2000 to 2017"
          },
          "xaxis": {
           "range": [
            0,
            2.796358605054868
           ],
           "showline": true,
           "visible": true
          },
          "yaxis": {
           "showline": false,
           "visible": true
          }
         },
         "name": "2007.0"
        },
        {
         "data": [
          {
           "cliponaxis": false,
           "hoverinfo": "all",
           "hovertemplate": "<extra></extra>",
           "marker": {
            "color": [
             "rgb(83, 41, 17)",
             "rgb(59, 27, 49)",
             "rgb(76, 30, 222)",
             "rgb(219, 12, 237)",
             "rgb(54, 212, 159)",
             "rgb(217, 102, 39)",
             "rgb(136, 17, 48)",
             "rgb(193, 113, 236)",
             "rgb(209, 248, 158)",
             "rgb(215, 180, 135)"
            ]
           },
           "orientation": "h",
           "textangle": 0,
           "textposition": "outside",
           "texttemplate": "%{y}<br>%{x:.4s}",
           "type": "bar",
           "x": [
            1.1670864372733072,
            1.1766039835149418,
            1.1919126098650494,
            1.2012607567449864,
            1.2064338315271683,
            1.207766811476634,
            1.2547272238898888,
            1.377381643490348,
            1.391734911093819,
            1.4392218691560568
           ],
           "y": [
            "Old Crafty Hen",
            "Neumarkter Lammsbräu (Organic) Dunkel",
            "Terrapin Big Sloppy Monster",
            "Baladin Xyauyù Etichetta Rame (Copper Label)",
            "Consecration",
            "Half Pints Bulldog Amber Ale",
            "Baeren Rye",
            "Mean Manalishi Double I.P.A.",
            "Alley Kat Bad Hare Day",
            "Kosmyk Charlie's Y2K Catastrophe Ale"
           ]
          }
         ],
         "layout": {
          "bargap": 0.15,
          "font": {
           "size": 14
          },
          "plot_bgcolor": "#FFFFFF",
          "title": {
           "text": "Top 10 beers in the world from 2000 to 2017"
          },
          "xaxis": {
           "range": [
            0,
            2.796358605054868
           ],
           "showline": true,
           "visible": true
          },
          "yaxis": {
           "showline": false,
           "visible": true
          }
         },
         "name": "2008.0"
        },
        {
         "data": [
          {
           "cliponaxis": false,
           "hoverinfo": "all",
           "hovertemplate": "<extra></extra>",
           "marker": {
            "color": [
             "rgb(180, 149, 18)",
             "rgb(160, 62, 28)",
             "rgb(245, 97, 180)",
             "rgb(149, 14, 8)",
             "rgb(242, 47, 187)",
             "rgb(72, 180, 181)",
             "rgb(119, 103, 23)",
             "rgb(203, 155, 216)",
             "rgb(15, 20, 222)",
             "rgb(128, 46, 146)"
            ]
           },
           "orientation": "h",
           "textangle": 0,
           "textposition": "outside",
           "texttemplate": "%{y}<br>%{x:.4s}",
           "type": "bar",
           "x": [
            1.2338471807274276,
            1.2393466430040996,
            1.2454384142571973,
            1.2469121186642012,
            1.2824851557175203,
            1.325754327205307,
            1.3561829163911925,
            1.372316618062027,
            1.381964656606547,
            1.8194648164280256
           ],
           "y": [
            "Søgaards Trippel",
            "Primátor Premium",
            "Dieu du Ciel Solstice dÉté aux Framboises",
            "Southampton Grand Cru",
            "Driftwood Sartori Harvest IPA",
            "Granville Island Merry Monks Dopplebock",
            "RJ Le Cheval Blanc Snoreau",
            "Old Engine Oil Special Reserve (Aged In Malt Whiskey Casks)",
            "Borefts Bok 2009",
            "Lvivske Porter"
           ]
          }
         ],
         "layout": {
          "bargap": 0.15,
          "font": {
           "size": 14
          },
          "plot_bgcolor": "#FFFFFF",
          "title": {
           "text": "Top 10 beers in the world from 2000 to 2017"
          },
          "xaxis": {
           "range": [
            0,
            2.796358605054868
           ],
           "showline": true,
           "visible": true
          },
          "yaxis": {
           "showline": false,
           "visible": true
          }
         },
         "name": "2009.0"
        },
        {
         "data": [
          {
           "cliponaxis": false,
           "hoverinfo": "all",
           "hovertemplate": "<extra></extra>",
           "marker": {
            "color": [
             "rgb(13, 44, 162)",
             "rgb(88, 41, 251)",
             "rgb(71, 58, 17)",
             "rgb(4, 110, 206)",
             "rgb(110, 197, 215)",
             "rgb(100, 68, 7)",
             "rgb(198, 72, 201)",
             "rgb(207, 216, 8)",
             "rgb(225, 217, 235)",
             "rgb(147, 90, 222)"
            ]
           },
           "orientation": "h",
           "textangle": 0,
           "textposition": "outside",
           "texttemplate": "%{y}<br>%{x:.4s}",
           "type": "bar",
           "x": [
            1.289513947212004,
            1.3022892741280632,
            1.3504165952011944,
            1.3695815104674731,
            1.4186131609391872,
            1.4294349003691191,
            1.5284823417762363,
            1.5542583799019265,
            1.7288080087834743,
            1.7654250681805317
           ],
           "y": [
            "Captivator Doppelbock",
            "Toccalmatto Sibilla",
            "Birrificio del Ducato LUltima Luna",
            "La Trappe Quadrupel (Oak Aged)",
            "Toccalmatto Stray Dog No Rules Bitter",
            "Charlevoix Dominus Vobiscum Brut",
            "Birra del Borgo ReAle Extra",
            "Saison Du Tracteur",
            "Bedondaine et Bedons Ronds Reyne Descosse Gelée",
            "Piccolo Birrificio Ego"
           ]
          }
         ],
         "layout": {
          "bargap": 0.15,
          "font": {
           "size": 14
          },
          "plot_bgcolor": "#FFFFFF",
          "title": {
           "text": "Top 10 beers in the world from 2000 to 2017"
          },
          "xaxis": {
           "range": [
            0,
            2.796358605054868
           ],
           "showline": true,
           "visible": true
          },
          "yaxis": {
           "showline": false,
           "visible": true
          }
         },
         "name": "2010.0"
        },
        {
         "data": [
          {
           "cliponaxis": false,
           "hoverinfo": "all",
           "hovertemplate": "<extra></extra>",
           "marker": {
            "color": [
             "rgb(55, 89, 1)",
             "rgb(68, 212, 19)",
             "rgb(146, 101, 228)",
             "rgb(82, 115, 48)",
             "rgb(40, 237, 15)",
             "rgb(169, 124, 91)",
             "rgb(76, 157, 64)",
             "rgb(9, 176, 84)",
             "rgb(188, 73, 96)",
             "rgb(194, 85, 133)"
            ]
           },
           "orientation": "h",
           "textangle": 0,
           "textposition": "outside",
           "texttemplate": "%{y}<br>%{x:.4s}",
           "type": "bar",
           "x": [
            1.2600744288590362,
            1.265080505108473,
            1.301966246878607,
            1.3262397837477289,
            1.333344904716972,
            1.347954076030384,
            1.3505600121785313,
            1.4710240611434864,
            1.703014364073218,
            2.253825333425378
           ],
           "y": [
            "Tipo Pils",
            "Cantillon Blåbær Lambik",
            "Les Brasseurs du Temps Mea Magna Culpa",
            "Cantillon Don Quijote",
            "Ølfabrikken Petit Blau",
            "Montegioco Quarta Runa",
            "Eichbaum Pilsener",
            "Drie Fonteinen Oude Geuze 1998 (50th Anniversary)",
            "Drie Fonteinen Millennium Geuze",
            "Beer Here / Raasted Bukkake"
           ]
          }
         ],
         "layout": {
          "bargap": 0.15,
          "font": {
           "size": 14
          },
          "plot_bgcolor": "#FFFFFF",
          "title": {
           "text": "Top 10 beers in the world from 2000 to 2017"
          },
          "xaxis": {
           "range": [
            0,
            2.796358605054868
           ],
           "showline": true,
           "visible": true
          },
          "yaxis": {
           "showline": false,
           "visible": true
          }
         },
         "name": "2011.0"
        },
        {
         "data": [
          {
           "cliponaxis": false,
           "hoverinfo": "all",
           "hovertemplate": "<extra></extra>",
           "marker": {
            "color": [
             "rgb(229, 48, 65)",
             "rgb(61, 134, 12)",
             "rgb(40, 105, 93)",
             "rgb(119, 183, 247)",
             "rgb(67, 128, 119)",
             "rgb(9, 176, 84)",
             "rgb(198, 237, 119)",
             "rgb(120, 49, 194)",
             "rgb(231, 43, 85)",
             "rgb(182, 241, 237)"
            ]
           },
           "orientation": "h",
           "textangle": 0,
           "textposition": "outside",
           "texttemplate": "%{y}<br>%{x:.4s}",
           "type": "bar",
           "x": [
            1.3265020252683697,
            1.3490384193077791,
            1.364564975250266,
            1.3688333984444223,
            1.369805348429683,
            1.3975667870645416,
            1.4323060786846682,
            1.457841090882981,
            1.4672320479745289,
            1.5564273480419248
           ],
           "y": [
            "Ann",
            "Depuration",
            "Black Tokyo Horizon",
            "Le Cheval Blanc Double Bonheur",
            "Whistler Chocolate Winter Dunkel",
            "Drie Fonteinen Oude Geuze 1998 (50th Anniversary)",
            "Watermelon Warhead",
            "Kamenitza Lev",
            "L'Amoureuse Rouge",
            "Cantillon Loerik"
           ]
          }
         ],
         "layout": {
          "bargap": 0.15,
          "font": {
           "size": 14
          },
          "plot_bgcolor": "#FFFFFF",
          "title": {
           "text": "Top 10 beers in the world from 2000 to 2017"
          },
          "xaxis": {
           "range": [
            0,
            2.796358605054868
           ],
           "showline": true,
           "visible": true
          },
          "yaxis": {
           "showline": false,
           "visible": true
          }
         },
         "name": "2012.0"
        },
        {
         "data": [
          {
           "cliponaxis": false,
           "hoverinfo": "all",
           "hovertemplate": "<extra></extra>",
           "marker": {
            "color": [
             "rgb(78, 144, 204)",
             "rgb(79, 25, 83)",
             "rgb(39, 28, 4)",
             "rgb(202, 7, 2)",
             "rgb(123, 65, 125)",
             "rgb(161, 104, 147)",
             "rgb(241, 95, 74)",
             "rgb(101, 131, 191)",
             "rgb(22, 10, 47)",
             "rgb(15, 98, 38)"
            ]
           },
           "orientation": "h",
           "textangle": 0,
           "textposition": "outside",
           "texttemplate": "%{y}<br>%{x:.4s}",
           "type": "bar",
           "x": [
            1.3746493096975472,
            1.4041402200725015,
            1.4570126267878116,
            1.4741651011372767,
            1.493197763699144,
            1.5596210420758312,
            1.6521573868793042,
            1.6747480446151457,
            1.784840369968013,
            2.510691214725717
           ],
           "y": [
            "Tamamura-Honten Yamabushi Saison 1 Aged in Oak Barrels",
            "Rapture",
            "Cantillon Bruocsella (1900) Grand Cru",
            "Brasseurs du Monde Gamme Festive Célébrante",
            "Innis & Gunn Spiced Rum Aged",
            "Bavarias Best Imperial Stout",
            "Collesi 1970 Ambrata",
            "Svaneke Julebryg",
            "Edward",
            "Birra del Borgo Perle ai Porci (Pearls for Pigs)"
           ]
          }
         ],
         "layout": {
          "bargap": 0.15,
          "font": {
           "size": 14
          },
          "plot_bgcolor": "#FFFFFF",
          "title": {
           "text": "Top 10 beers in the world from 2000 to 2017"
          },
          "xaxis": {
           "range": [
            0,
            2.796358605054868
           ],
           "showline": true,
           "visible": true
          },
          "yaxis": {
           "showline": false,
           "visible": true
          }
         },
         "name": "2013.0"
        },
        {
         "data": [
          {
           "cliponaxis": false,
           "hoverinfo": "all",
           "hovertemplate": "<extra></extra>",
           "marker": {
            "color": [
             "rgb(155, 4, 203)",
             "rgb(229, 38, 82)",
             "rgb(68, 212, 19)",
             "rgb(211, 254, 105)",
             "rgb(115, 53, 225)",
             "rgb(185, 232, 79)",
             "rgb(108, 45, 211)",
             "rgb(153, 155, 190)",
             "rgb(66, 144, 244)",
             "rgb(246, 119, 189)"
            ]
           },
           "orientation": "h",
           "textangle": 0,
           "textposition": "outside",
           "texttemplate": "%{y}<br>%{x:.4s}",
           "type": "bar",
           "x": [
            1.481905996838515,
            1.4953778917662726,
            1.498668519392976,
            1.5958805494661334,
            1.6764028325986928,
            1.7425096415533683,
            1.7429667157083328,
            1.8860097723067208,
            1.9268002384767275,
            2.796358605054868
           ],
           "y": [
            "Cantillon Crianza Helena",
            "Melbourne Bitter",
            "Cantillon Blåbær Lambik",
            "Schneider Weisse Tap 6 Unser Aventinus",
            "Minerva Colonial",
            "Wicked Juju",
            "Cantillon Spuyten Duyvil",
            "Extraomnes Saison",
            "Molson Standard Lager",
            "Mandøl Smagen af Mandø"
           ]
          }
         ],
         "layout": {
          "bargap": 0.15,
          "font": {
           "size": 14
          },
          "plot_bgcolor": "#FFFFFF",
          "title": {
           "text": "Top 10 beers in the world from 2000 to 2017"
          },
          "xaxis": {
           "range": [
            0,
            2.796358605054868
           ],
           "showline": true,
           "visible": true
          },
          "yaxis": {
           "showline": false,
           "visible": true
          }
         },
         "name": "2014.0"
        },
        {
         "data": [
          {
           "cliponaxis": false,
           "hoverinfo": "all",
           "hovertemplate": "<extra></extra>",
           "marker": {
            "color": [
             "rgb(242, 47, 187)",
             "rgb(228, 45, 52)",
             "rgb(73, 53, 85)",
             "rgb(203, 194, 193)",
             "rgb(32, 60, 55)",
             "rgb(172, 13, 165)",
             "rgb(200, 157, 67)",
             "rgb(200, 238, 197)",
             "rgb(172, 72, 181)",
             "rgb(236, 224, 130)"
            ]
           },
           "orientation": "h",
           "textangle": 0,
           "textposition": "outside",
           "texttemplate": "%{y}<br>%{x:.4s}",
           "type": "bar",
           "x": [
            1.5676276553776711,
            1.5751038516002658,
            1.622719541991331,
            1.623539297914094,
            1.6258817104558627,
            1.6387533424741991,
            1.6738321718245197,
            1.70740160723289,
            1.7625116163067636,
            1.82482572270457
           ],
           "y": [
            "Driftwood Sartori Harvest IPA",
            "Flying Monkeys City and Colour",
            "Buxton / Omnipollo Yellow Belly Sundae",
            "Dunham Saison Réserve",
            "Sanctification",
            "Charlevoix Dominus Vobiscum Lupulus",
            "Saison Bernice",
            "Unibroue Blanche de Chambly",
            "Four Winds Phaedra Rye Wheat IPA",
            "Opperbacco Blanche de Lotario"
           ]
          }
         ],
         "layout": {
          "bargap": 0.15,
          "font": {
           "size": 14
          },
          "plot_bgcolor": "#FFFFFF",
          "title": {
           "text": "Top 10 beers in the world from 2000 to 2017"
          },
          "xaxis": {
           "range": [
            0,
            2.796358605054868
           ],
           "showline": true,
           "visible": true
          },
          "yaxis": {
           "showline": false,
           "visible": true
          }
         },
         "name": "2015.0"
        },
        {
         "data": [
          {
           "cliponaxis": false,
           "hoverinfo": "all",
           "hovertemplate": "<extra></extra>",
           "marker": {
            "color": [
             "rgb(231, 112, 222)",
             "rgb(119, 126, 174)",
             "rgb(30, 77, 29)",
             "rgb(238, 176, 174)",
             "rgb(111, 93, 181)",
             "rgb(252, 113, 142)",
             "rgb(172, 13, 165)",
             "rgb(37, 227, 225)",
             "rgb(70, 4, 11)",
             "rgb(79, 76, 172)"
            ]
           },
           "orientation": "h",
           "textangle": 0,
           "textposition": "outside",
           "texttemplate": "%{y}<br>%{x:.4s}",
           "type": "bar",
           "x": [
            1.6309133236150697,
            1.6327746884700929,
            1.65167625476196,
            1.9003550471197763,
            1.9148003899577124,
            1.932732074470068,
            1.9683048585754683,
            2.0956611027231538,
            2.32265547193058,
            2.330646926702521
           ],
           "y": [
            "Aardmonnik - Earthmonk",
            "Hors Série Ceci N'est Pas Une Gueuze",
            "Frejdahl Gudmund",
            "To Øl Passion Of The Weisst",
            "Xyauyù Etichetta Rame (Copper)",
            "Skovlyst Julebryg",
            "Charlevoix Dominus Vobiscum Lupulus",
            "Ghost Black Beast",
            "Skovlyst Lossen",
            "Indie Alehouse Zombie Apocalypse (Bourbon)"
           ]
          }
         ],
         "layout": {
          "bargap": 0.15,
          "font": {
           "size": 14
          },
          "plot_bgcolor": "#FFFFFF",
          "title": {
           "text": "Top 10 beers in the world from 2000 to 2017"
          },
          "xaxis": {
           "range": [
            0,
            2.796358605054868
           ],
           "showline": true,
           "visible": true
          },
          "yaxis": {
           "showline": false,
           "visible": true
          }
         },
         "name": "2016.0"
        },
        {
         "data": [
          {
           "cliponaxis": false,
           "hoverinfo": "all",
           "hovertemplate": "<extra></extra>",
           "marker": {
            "color": [
             "rgb(241, 26, 65)",
             "rgb(169, 205, 168)",
             "rgb(210, 120, 78)",
             "rgb(130, 248, 233)",
             "rgb(55, 75, 121)",
             "rgb(64, 41, 211)",
             "rgb(112, 138, 169)",
             "rgb(175, 197, 254)",
             "rgb(3, 66, 91)",
             "rgb(152, 239, 43)"
            ]
           },
           "orientation": "h",
           "textangle": 0,
           "textposition": "outside",
           "texttemplate": "%{y}<br>%{x:.4s}",
           "type": "bar",
           "x": [
            1.5461166604658836,
            1.547184850088554,
            1.5563119039202395,
            1.581953108750554,
            1.6360558401007417,
            1.654410184218145,
            1.7331561781565548,
            1.7420509005188278,
            1.778935444645838,
            1.8188611526235283
           ],
           "y": [
            "LoverBeer A Renna Glüh",
            "Benelux Moisson (2011)",
            "Birrificio Italiano Nigredo (Negra 3.0)",
            "Midtfyns Jule Stout",
            "Amager / Lervig Brown Boobies Falling",
            "RJ Le Cheval Blanc Double Blanche (IPA belge)",
            "Double Nelson",
            "Thisted Thy Ale",
            "Pladderballe Brodtgaard Basement Reserve",
            "Coedo / Stone / Garage Project Tsuyu Saison"
           ]
          }
         ],
         "layout": {
          "bargap": 0.15,
          "font": {
           "size": 14
          },
          "plot_bgcolor": "#FFFFFF",
          "title": {
           "text": "Top 10 beers in the world from 2000 to 2017"
          },
          "xaxis": {
           "range": [
            0,
            2.796358605054868
           ],
           "showline": true,
           "visible": true
          },
          "yaxis": {
           "showline": false,
           "visible": true
          }
         },
         "name": "2017.0"
        }
       ],
       "layout": {
        "bargap": 0.15,
        "font": {
         "size": 14
        },
        "plot_bgcolor": "#FFFFFF",
        "sliders": [
         {
          "active": 0,
          "currentvalue": {
           "font": {
            "size": 20
           },
           "prefix": "Date: ",
           "visible": true,
           "xanchor": "right"
          },
          "len": 0.9,
          "pad": {
           "b": 10,
           "t": 50
          },
          "steps": [
           {
            "args": [
             [
              "2000.0"
             ],
             {
              "frame": {
               "duration": 800,
               "redraw": false
              },
              "mode": "immediate",
              "transition": {
               "duration": 800
              }
             }
            ],
            "label": "2000.0",
            "method": "animate"
           },
           {
            "args": [
             [
              "2001.0"
             ],
             {
              "frame": {
               "duration": 800,
               "redraw": false
              },
              "mode": "immediate",
              "transition": {
               "duration": 800
              }
             }
            ],
            "label": "2001.0",
            "method": "animate"
           },
           {
            "args": [
             [
              "2002.0"
             ],
             {
              "frame": {
               "duration": 800,
               "redraw": false
              },
              "mode": "immediate",
              "transition": {
               "duration": 800
              }
             }
            ],
            "label": "2002.0",
            "method": "animate"
           },
           {
            "args": [
             [
              "2003.0"
             ],
             {
              "frame": {
               "duration": 800,
               "redraw": false
              },
              "mode": "immediate",
              "transition": {
               "duration": 800
              }
             }
            ],
            "label": "2003.0",
            "method": "animate"
           },
           {
            "args": [
             [
              "2004.0"
             ],
             {
              "frame": {
               "duration": 800,
               "redraw": false
              },
              "mode": "immediate",
              "transition": {
               "duration": 800
              }
             }
            ],
            "label": "2004.0",
            "method": "animate"
           },
           {
            "args": [
             [
              "2005.0"
             ],
             {
              "frame": {
               "duration": 800,
               "redraw": false
              },
              "mode": "immediate",
              "transition": {
               "duration": 800
              }
             }
            ],
            "label": "2005.0",
            "method": "animate"
           },
           {
            "args": [
             [
              "2006.0"
             ],
             {
              "frame": {
               "duration": 800,
               "redraw": false
              },
              "mode": "immediate",
              "transition": {
               "duration": 800
              }
             }
            ],
            "label": "2006.0",
            "method": "animate"
           },
           {
            "args": [
             [
              "2007.0"
             ],
             {
              "frame": {
               "duration": 800,
               "redraw": false
              },
              "mode": "immediate",
              "transition": {
               "duration": 800
              }
             }
            ],
            "label": "2007.0",
            "method": "animate"
           },
           {
            "args": [
             [
              "2008.0"
             ],
             {
              "frame": {
               "duration": 800,
               "redraw": false
              },
              "mode": "immediate",
              "transition": {
               "duration": 800
              }
             }
            ],
            "label": "2008.0",
            "method": "animate"
           },
           {
            "args": [
             [
              "2009.0"
             ],
             {
              "frame": {
               "duration": 800,
               "redraw": false
              },
              "mode": "immediate",
              "transition": {
               "duration": 800
              }
             }
            ],
            "label": "2009.0",
            "method": "animate"
           },
           {
            "args": [
             [
              "2010.0"
             ],
             {
              "frame": {
               "duration": 800,
               "redraw": false
              },
              "mode": "immediate",
              "transition": {
               "duration": 800
              }
             }
            ],
            "label": "2010.0",
            "method": "animate"
           },
           {
            "args": [
             [
              "2011.0"
             ],
             {
              "frame": {
               "duration": 800,
               "redraw": false
              },
              "mode": "immediate",
              "transition": {
               "duration": 800
              }
             }
            ],
            "label": "2011.0",
            "method": "animate"
           },
           {
            "args": [
             [
              "2012.0"
             ],
             {
              "frame": {
               "duration": 800,
               "redraw": false
              },
              "mode": "immediate",
              "transition": {
               "duration": 800
              }
             }
            ],
            "label": "2012.0",
            "method": "animate"
           },
           {
            "args": [
             [
              "2013.0"
             ],
             {
              "frame": {
               "duration": 800,
               "redraw": false
              },
              "mode": "immediate",
              "transition": {
               "duration": 800
              }
             }
            ],
            "label": "2013.0",
            "method": "animate"
           },
           {
            "args": [
             [
              "2014.0"
             ],
             {
              "frame": {
               "duration": 800,
               "redraw": false
              },
              "mode": "immediate",
              "transition": {
               "duration": 800
              }
             }
            ],
            "label": "2014.0",
            "method": "animate"
           },
           {
            "args": [
             [
              "2015.0"
             ],
             {
              "frame": {
               "duration": 800,
               "redraw": false
              },
              "mode": "immediate",
              "transition": {
               "duration": 800
              }
             }
            ],
            "label": "2015.0",
            "method": "animate"
           },
           {
            "args": [
             [
              "2016.0"
             ],
             {
              "frame": {
               "duration": 800,
               "redraw": false
              },
              "mode": "immediate",
              "transition": {
               "duration": 800
              }
             }
            ],
            "label": "2016.0",
            "method": "animate"
           },
           {
            "args": [
             [
              "2017.0"
             ],
             {
              "frame": {
               "duration": 800,
               "redraw": false
              },
              "mode": "immediate",
              "transition": {
               "duration": 800
              }
             }
            ],
            "label": "2017.0",
            "method": "animate"
           }
          ],
          "transition": {
           "duration": 300,
           "easing": "cubic-in-out"
          },
          "x": 0.1,
          "xanchor": "left",
          "y": 0,
          "yanchor": "top"
         }
        ],
        "template": {
         "data": {
          "bar": [
           {
            "error_x": {
             "color": "#2a3f5f"
            },
            "error_y": {
             "color": "#2a3f5f"
            },
            "marker": {
             "line": {
              "color": "#E5ECF6",
              "width": 0.5
             },
             "pattern": {
              "fillmode": "overlay",
              "size": 10,
              "solidity": 0.2
             }
            },
            "type": "bar"
           }
          ],
          "barpolar": [
           {
            "marker": {
             "line": {
              "color": "#E5ECF6",
              "width": 0.5
             },
             "pattern": {
              "fillmode": "overlay",
              "size": 10,
              "solidity": 0.2
             }
            },
            "type": "barpolar"
           }
          ],
          "carpet": [
           {
            "aaxis": {
             "endlinecolor": "#2a3f5f",
             "gridcolor": "white",
             "linecolor": "white",
             "minorgridcolor": "white",
             "startlinecolor": "#2a3f5f"
            },
            "baxis": {
             "endlinecolor": "#2a3f5f",
             "gridcolor": "white",
             "linecolor": "white",
             "minorgridcolor": "white",
             "startlinecolor": "#2a3f5f"
            },
            "type": "carpet"
           }
          ],
          "choropleth": [
           {
            "colorbar": {
             "outlinewidth": 0,
             "ticks": ""
            },
            "type": "choropleth"
           }
          ],
          "contour": [
           {
            "colorbar": {
             "outlinewidth": 0,
             "ticks": ""
            },
            "colorscale": [
             [
              0,
              "#0d0887"
             ],
             [
              0.1111111111111111,
              "#46039f"
             ],
             [
              0.2222222222222222,
              "#7201a8"
             ],
             [
              0.3333333333333333,
              "#9c179e"
             ],
             [
              0.4444444444444444,
              "#bd3786"
             ],
             [
              0.5555555555555556,
              "#d8576b"
             ],
             [
              0.6666666666666666,
              "#ed7953"
             ],
             [
              0.7777777777777778,
              "#fb9f3a"
             ],
             [
              0.8888888888888888,
              "#fdca26"
             ],
             [
              1,
              "#f0f921"
             ]
            ],
            "type": "contour"
           }
          ],
          "contourcarpet": [
           {
            "colorbar": {
             "outlinewidth": 0,
             "ticks": ""
            },
            "type": "contourcarpet"
           }
          ],
          "heatmap": [
           {
            "colorbar": {
             "outlinewidth": 0,
             "ticks": ""
            },
            "colorscale": [
             [
              0,
              "#0d0887"
             ],
             [
              0.1111111111111111,
              "#46039f"
             ],
             [
              0.2222222222222222,
              "#7201a8"
             ],
             [
              0.3333333333333333,
              "#9c179e"
             ],
             [
              0.4444444444444444,
              "#bd3786"
             ],
             [
              0.5555555555555556,
              "#d8576b"
             ],
             [
              0.6666666666666666,
              "#ed7953"
             ],
             [
              0.7777777777777778,
              "#fb9f3a"
             ],
             [
              0.8888888888888888,
              "#fdca26"
             ],
             [
              1,
              "#f0f921"
             ]
            ],
            "type": "heatmap"
           }
          ],
          "heatmapgl": [
           {
            "colorbar": {
             "outlinewidth": 0,
             "ticks": ""
            },
            "colorscale": [
             [
              0,
              "#0d0887"
             ],
             [
              0.1111111111111111,
              "#46039f"
             ],
             [
              0.2222222222222222,
              "#7201a8"
             ],
             [
              0.3333333333333333,
              "#9c179e"
             ],
             [
              0.4444444444444444,
              "#bd3786"
             ],
             [
              0.5555555555555556,
              "#d8576b"
             ],
             [
              0.6666666666666666,
              "#ed7953"
             ],
             [
              0.7777777777777778,
              "#fb9f3a"
             ],
             [
              0.8888888888888888,
              "#fdca26"
             ],
             [
              1,
              "#f0f921"
             ]
            ],
            "type": "heatmapgl"
           }
          ],
          "histogram": [
           {
            "marker": {
             "pattern": {
              "fillmode": "overlay",
              "size": 10,
              "solidity": 0.2
             }
            },
            "type": "histogram"
           }
          ],
          "histogram2d": [
           {
            "colorbar": {
             "outlinewidth": 0,
             "ticks": ""
            },
            "colorscale": [
             [
              0,
              "#0d0887"
             ],
             [
              0.1111111111111111,
              "#46039f"
             ],
             [
              0.2222222222222222,
              "#7201a8"
             ],
             [
              0.3333333333333333,
              "#9c179e"
             ],
             [
              0.4444444444444444,
              "#bd3786"
             ],
             [
              0.5555555555555556,
              "#d8576b"
             ],
             [
              0.6666666666666666,
              "#ed7953"
             ],
             [
              0.7777777777777778,
              "#fb9f3a"
             ],
             [
              0.8888888888888888,
              "#fdca26"
             ],
             [
              1,
              "#f0f921"
             ]
            ],
            "type": "histogram2d"
           }
          ],
          "histogram2dcontour": [
           {
            "colorbar": {
             "outlinewidth": 0,
             "ticks": ""
            },
            "colorscale": [
             [
              0,
              "#0d0887"
             ],
             [
              0.1111111111111111,
              "#46039f"
             ],
             [
              0.2222222222222222,
              "#7201a8"
             ],
             [
              0.3333333333333333,
              "#9c179e"
             ],
             [
              0.4444444444444444,
              "#bd3786"
             ],
             [
              0.5555555555555556,
              "#d8576b"
             ],
             [
              0.6666666666666666,
              "#ed7953"
             ],
             [
              0.7777777777777778,
              "#fb9f3a"
             ],
             [
              0.8888888888888888,
              "#fdca26"
             ],
             [
              1,
              "#f0f921"
             ]
            ],
            "type": "histogram2dcontour"
           }
          ],
          "mesh3d": [
           {
            "colorbar": {
             "outlinewidth": 0,
             "ticks": ""
            },
            "type": "mesh3d"
           }
          ],
          "parcoords": [
           {
            "line": {
             "colorbar": {
              "outlinewidth": 0,
              "ticks": ""
             }
            },
            "type": "parcoords"
           }
          ],
          "pie": [
           {
            "automargin": true,
            "type": "pie"
           }
          ],
          "scatter": [
           {
            "fillpattern": {
             "fillmode": "overlay",
             "size": 10,
             "solidity": 0.2
            },
            "type": "scatter"
           }
          ],
          "scatter3d": [
           {
            "line": {
             "colorbar": {
              "outlinewidth": 0,
              "ticks": ""
             }
            },
            "marker": {
             "colorbar": {
              "outlinewidth": 0,
              "ticks": ""
             }
            },
            "type": "scatter3d"
           }
          ],
          "scattercarpet": [
           {
            "marker": {
             "colorbar": {
              "outlinewidth": 0,
              "ticks": ""
             }
            },
            "type": "scattercarpet"
           }
          ],
          "scattergeo": [
           {
            "marker": {
             "colorbar": {
              "outlinewidth": 0,
              "ticks": ""
             }
            },
            "type": "scattergeo"
           }
          ],
          "scattergl": [
           {
            "marker": {
             "colorbar": {
              "outlinewidth": 0,
              "ticks": ""
             }
            },
            "type": "scattergl"
           }
          ],
          "scattermapbox": [
           {
            "marker": {
             "colorbar": {
              "outlinewidth": 0,
              "ticks": ""
             }
            },
            "type": "scattermapbox"
           }
          ],
          "scatterpolar": [
           {
            "marker": {
             "colorbar": {
              "outlinewidth": 0,
              "ticks": ""
             }
            },
            "type": "scatterpolar"
           }
          ],
          "scatterpolargl": [
           {
            "marker": {
             "colorbar": {
              "outlinewidth": 0,
              "ticks": ""
             }
            },
            "type": "scatterpolargl"
           }
          ],
          "scatterternary": [
           {
            "marker": {
             "colorbar": {
              "outlinewidth": 0,
              "ticks": ""
             }
            },
            "type": "scatterternary"
           }
          ],
          "surface": [
           {
            "colorbar": {
             "outlinewidth": 0,
             "ticks": ""
            },
            "colorscale": [
             [
              0,
              "#0d0887"
             ],
             [
              0.1111111111111111,
              "#46039f"
             ],
             [
              0.2222222222222222,
              "#7201a8"
             ],
             [
              0.3333333333333333,
              "#9c179e"
             ],
             [
              0.4444444444444444,
              "#bd3786"
             ],
             [
              0.5555555555555556,
              "#d8576b"
             ],
             [
              0.6666666666666666,
              "#ed7953"
             ],
             [
              0.7777777777777778,
              "#fb9f3a"
             ],
             [
              0.8888888888888888,
              "#fdca26"
             ],
             [
              1,
              "#f0f921"
             ]
            ],
            "type": "surface"
           }
          ],
          "table": [
           {
            "cells": {
             "fill": {
              "color": "#EBF0F8"
             },
             "line": {
              "color": "white"
             }
            },
            "header": {
             "fill": {
              "color": "#C8D4E3"
             },
             "line": {
              "color": "white"
             }
            },
            "type": "table"
           }
          ]
         },
         "layout": {
          "annotationdefaults": {
           "arrowcolor": "#2a3f5f",
           "arrowhead": 0,
           "arrowwidth": 1
          },
          "autotypenumbers": "strict",
          "coloraxis": {
           "colorbar": {
            "outlinewidth": 0,
            "ticks": ""
           }
          },
          "colorscale": {
           "diverging": [
            [
             0,
             "#8e0152"
            ],
            [
             0.1,
             "#c51b7d"
            ],
            [
             0.2,
             "#de77ae"
            ],
            [
             0.3,
             "#f1b6da"
            ],
            [
             0.4,
             "#fde0ef"
            ],
            [
             0.5,
             "#f7f7f7"
            ],
            [
             0.6,
             "#e6f5d0"
            ],
            [
             0.7,
             "#b8e186"
            ],
            [
             0.8,
             "#7fbc41"
            ],
            [
             0.9,
             "#4d9221"
            ],
            [
             1,
             "#276419"
            ]
           ],
           "sequential": [
            [
             0,
             "#0d0887"
            ],
            [
             0.1111111111111111,
             "#46039f"
            ],
            [
             0.2222222222222222,
             "#7201a8"
            ],
            [
             0.3333333333333333,
             "#9c179e"
            ],
            [
             0.4444444444444444,
             "#bd3786"
            ],
            [
             0.5555555555555556,
             "#d8576b"
            ],
            [
             0.6666666666666666,
             "#ed7953"
            ],
            [
             0.7777777777777778,
             "#fb9f3a"
            ],
            [
             0.8888888888888888,
             "#fdca26"
            ],
            [
             1,
             "#f0f921"
            ]
           ],
           "sequentialminus": [
            [
             0,
             "#0d0887"
            ],
            [
             0.1111111111111111,
             "#46039f"
            ],
            [
             0.2222222222222222,
             "#7201a8"
            ],
            [
             0.3333333333333333,
             "#9c179e"
            ],
            [
             0.4444444444444444,
             "#bd3786"
            ],
            [
             0.5555555555555556,
             "#d8576b"
            ],
            [
             0.6666666666666666,
             "#ed7953"
            ],
            [
             0.7777777777777778,
             "#fb9f3a"
            ],
            [
             0.8888888888888888,
             "#fdca26"
            ],
            [
             1,
             "#f0f921"
            ]
           ]
          },
          "colorway": [
           "#636efa",
           "#EF553B",
           "#00cc96",
           "#ab63fa",
           "#FFA15A",
           "#19d3f3",
           "#FF6692",
           "#B6E880",
           "#FF97FF",
           "#FECB52"
          ],
          "font": {
           "color": "#2a3f5f"
          },
          "geo": {
           "bgcolor": "white",
           "lakecolor": "white",
           "landcolor": "#E5ECF6",
           "showlakes": true,
           "showland": true,
           "subunitcolor": "white"
          },
          "hoverlabel": {
           "align": "left"
          },
          "hovermode": "closest",
          "mapbox": {
           "style": "light"
          },
          "paper_bgcolor": "white",
          "plot_bgcolor": "#E5ECF6",
          "polar": {
           "angularaxis": {
            "gridcolor": "white",
            "linecolor": "white",
            "ticks": ""
           },
           "bgcolor": "#E5ECF6",
           "radialaxis": {
            "gridcolor": "white",
            "linecolor": "white",
            "ticks": ""
           }
          },
          "scene": {
           "xaxis": {
            "backgroundcolor": "#E5ECF6",
            "gridcolor": "white",
            "gridwidth": 2,
            "linecolor": "white",
            "showbackground": true,
            "ticks": "",
            "zerolinecolor": "white"
           },
           "yaxis": {
            "backgroundcolor": "#E5ECF6",
            "gridcolor": "white",
            "gridwidth": 2,
            "linecolor": "white",
            "showbackground": true,
            "ticks": "",
            "zerolinecolor": "white"
           },
           "zaxis": {
            "backgroundcolor": "#E5ECF6",
            "gridcolor": "white",
            "gridwidth": 2,
            "linecolor": "white",
            "showbackground": true,
            "ticks": "",
            "zerolinecolor": "white"
           }
          },
          "shapedefaults": {
           "line": {
            "color": "#2a3f5f"
           }
          },
          "ternary": {
           "aaxis": {
            "gridcolor": "white",
            "linecolor": "white",
            "ticks": ""
           },
           "baxis": {
            "gridcolor": "white",
            "linecolor": "white",
            "ticks": ""
           },
           "bgcolor": "#E5ECF6",
           "caxis": {
            "gridcolor": "white",
            "linecolor": "white",
            "ticks": ""
           }
          },
          "title": {
           "x": 0.05
          },
          "xaxis": {
           "automargin": true,
           "gridcolor": "white",
           "linecolor": "white",
           "ticks": "",
           "title": {
            "standoff": 15
           },
           "zerolinecolor": "white",
           "zerolinewidth": 2
          },
          "yaxis": {
           "automargin": true,
           "gridcolor": "white",
           "linecolor": "white",
           "ticks": "",
           "title": {
            "standoff": 15
           },
           "zerolinecolor": "white",
           "zerolinewidth": 2
          }
         }
        },
        "title": {
         "text": "Top 10 beers in the world from 2000 to 2017"
        },
        "updatemenus": [
         {
          "buttons": [
           {
            "args": [
             null,
             {
              "frame": {
               "duration": 800,
               "redraw": false
              },
              "fromcurrent": true,
              "transition": {
               "duration": 800,
               "easing": "quadratic-in-out"
              }
             }
            ],
            "label": "Play",
            "method": "animate"
           },
           {
            "args": [
             [
              null
             ],
             {
              "frame": {
               "duration": 0,
               "redraw": false
              },
              "mode": "immediate",
              "transition": {
               "duration": 0
              }
             }
            ],
            "label": "Pause",
            "method": "animate"
           }
          ],
          "direction": "left",
          "pad": {
           "r": 10,
           "t": 87
          },
          "showactive": true,
          "type": "buttons",
          "x": 0.1,
          "xanchor": "right",
          "y": 0,
          "yanchor": "top"
         }
        ],
        "xaxis": {
         "range": [
          0,
          2.796358605054868
         ],
         "showline": true,
         "showticklabels": true,
         "title": {
          "text": "New rating"
         },
         "visible": true
        },
        "yaxis": {
         "showline": false,
         "showticklabels": false,
         "title": {
          "text": "Top 10 beers"
         },
         "visible": true
        }
       }
      }
     },
     "metadata": {},
     "output_type": "display_data"
    }
   ],
   "source": [
    "import pandas as pd\n",
    "from raceplotly.plots import barplot\n",
    "\n",
    "data = pd.read_csv('./../../Project/top_10_beers_by_year.csv')\n",
    "\n",
    "my_raceplot = barplot(data,\n",
    "                      item_column='beer_name',\n",
    "                      value_column='new_rating',\n",
    "                      time_column='year')\n",
    "\n",
    "my_raceplot.plot(title = 'Top 10 beers in the world from 2000 to 2017',\n",
    "                 item_label = 'Top 10 beers',\n",
    "                 value_label = 'New rating',\n",
    "                 frame_duration = 800)"
   ]
  },
  {
   "cell_type": "code",
   "execution_count": null,
   "metadata": {},
   "outputs": [],
   "source": []
  }
 ],
 "metadata": {
  "kernelspec": {
   "display_name": "ada",
   "language": "python",
   "name": "python3"
  },
  "language_info": {
   "codemirror_mode": {
    "name": "ipython",
    "version": 3
   },
   "file_extension": ".py",
   "mimetype": "text/x-python",
   "name": "python",
   "nbconvert_exporter": "python",
   "pygments_lexer": "ipython3",
   "version": "3.9.18"
  }
 },
 "nbformat": 4,
 "nbformat_minor": 2
}
