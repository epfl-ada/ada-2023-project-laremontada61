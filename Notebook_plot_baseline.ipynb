{
 "cells": [
  {
   "cell_type": "markdown",
   "metadata": {},
   "source": [
    "# 1.Introduction"
   ]
  },
  {
   "cell_type": "markdown",
   "metadata": {},
   "source": [
    "[1. 1.Introduction](#1.-1.introduction)  \n",
    "&emsp;&emsp;&emsp;&emsp;[1.1. Virtual environment setup](#1.1.-virtual-environment-setup)  \n",
    "&emsp;&emsp;&emsp;&emsp;[1.2. Libraries import](#1.2.-libraries-import)  \n",
    "&emsp;&emsp;&emsp;&emsp;[1.3. Paths definition](#1.3.-paths-definition)  \n",
    "&emsp;&emsp;&emsp;&emsp;[1.4. Functions definition](#1.4.-functions-definition)  \n",
    "[2. Data handling](#2.-data-handling)  \n",
    "&emsp;&emsp;&emsp;&emsp;[2.1. Data import TCN FOR U](#2.1.-data-import-tcn-for-u)  \n",
    "&emsp;&emsp;&emsp;&emsp;&emsp;&emsp;&emsp;&emsp;[2.1.1. Import text files](#2.1.1.-import-text-files)  \n",
    "&emsp;&emsp;&emsp;&emsp;&emsp;&emsp;&emsp;&emsp;[2.1.2. Load the other data](#2.1.2.-load-the-other-data)  \n",
    "&emsp;&emsp;&emsp;&emsp;&emsp;&emsp;&emsp;&emsp;[2.1.3. Data types](#2.1.3.-data-types)  \n",
    "&emsp;&emsp;&emsp;&emsp;&emsp;&emsp;&emsp;&emsp;&emsp;&emsp;&emsp;&emsp;[2.1.3.1. Check the types](#2.1.3.1.-check-the-types)  \n",
    "&emsp;&emsp;&emsp;&emsp;&emsp;&emsp;&emsp;&emsp;&emsp;&emsp;&emsp;&emsp;[2.1.3.2. 2.1.3.2 Change the types](#2.1.3.2.-2.1.3.2-change-the-types)  \n",
    "&emsp;&emsp;&emsp;&emsp;[2.2. Data exploration CCT FOR U](#2.2.-data-exploration-cct-for-u)  \n",
    "&emsp;&emsp;&emsp;&emsp;[2.3. Data combination](#2.3.-data-combination)  \n",
    "&emsp;&emsp;&emsp;&emsp;&emsp;&emsp;&emsp;&emsp;[2.3.1. Preprocessing](#2.3.1.-preprocessing)  \n",
    "&emsp;&emsp;&emsp;&emsp;&emsp;&emsp;&emsp;&emsp;&emsp;&emsp;&emsp;&emsp;[2.3.1.1. Standardize ratings_BA and ratings_RB annually](#2.3.1.1.-standardize-ratings_ba-and-ratings_rb-annually)  \n",
    "&emsp;&emsp;&emsp;&emsp;&emsp;&emsp;&emsp;&emsp;&emsp;&emsp;&emsp;&emsp;[2.3.1.2. Standardization of the matched' ratings](#2.3.1.2.-standardization-of-the-matched'-ratings)  \n",
    "&emsp;&emsp;&emsp;&emsp;&emsp;&emsp;&emsp;&emsp;[2.3.2. Summaries standardized data](#2.3.2.-summaries-standardized-data)  \n",
    "&emsp;&emsp;&emsp;&emsp;&emsp;&emsp;&emsp;&emsp;[2.3.3. Concatenation of the dataframes](#2.3.3.-concatenation-of-the-dataframes)  \n",
    "[3. Data Analysis](#3.-data-analysis)  \n",
    "&emsp;&emsp;&emsp;&emsp;[3.1. 3.1 Numerical ranking TCN FOR U](#3.1.-3.1-numerical-ranking-tcn-for-u)  \n",
    "&emsp;&emsp;&emsp;&emsp;&emsp;&emsp;&emsp;&emsp;[3.1.1. Filtering of the data](#3.1.1.-filtering-of-the-data)  \n",
    "&emsp;&emsp;&emsp;&emsp;&emsp;&emsp;&emsp;&emsp;[3.1.2. Weighted ranking](#3.1.2.-weighted-ranking)  \n",
    "&emsp;&emsp;&emsp;&emsp;&emsp;&emsp;&emsp;&emsp;&emsp;&emsp;&emsp;&emsp;[3.1.2.1. All-time weighted ranking](#3.1.2.1.-all-time-weighted-ranking)  \n",
    "&emsp;&emsp;&emsp;&emsp;&emsp;&emsp;&emsp;&emsp;&emsp;&emsp;&emsp;&emsp;[3.1.2.2. Weighted ranking per year](#3.1.2.2.-weighted-ranking-per-year)  \n",
    "&emsp;&emsp;&emsp;&emsp;&emsp;&emsp;&emsp;&emsp;[3.1.3. Quality-based ranking](#3.1.3.-quality-based-ranking)  \n",
    "&emsp;&emsp;&emsp;&emsp;&emsp;&emsp;&emsp;&emsp;&emsp;&emsp;&emsp;&emsp;[3.1.3.1. All time quality ranking](#3.1.3.1.-all-time-quality-ranking)  \n",
    "&emsp;&emsp;&emsp;&emsp;&emsp;&emsp;&emsp;&emsp;&emsp;&emsp;&emsp;&emsp;[3.1.3.2. Quality ranking per year](#3.1.3.2.-quality-ranking-per-year)  \n",
    "&emsp;&emsp;&emsp;&emsp;&emsp;&emsp;&emsp;&emsp;[3.1.4. 3.1.3 Evolution of the best breweries grade across the years](#3.1.4.-3.1.3-evolution-of-the-best-breweries-grade-across-the-years)  \n",
    "&emsp;&emsp;&emsp;&emsp;[3.2. Link between polarity, subjectivity of the reviews and ratings CCT FOR U](#3.2.-link-between-polarity,-subjectivity-of-the-reviews-and-ratings-cct-for-u)  \n",
    "&emsp;&emsp;&emsp;&emsp;[3.3. Advanced ranking](#3.3.-advanced-ranking)  \n",
    "&emsp;&emsp;&emsp;&emsp;&emsp;&emsp;&emsp;&emsp;[3.3.1. Reviews' preprocessing](#3.3.1.-reviews'-preprocessing)  \n",
    "&emsp;&emsp;&emsp;&emsp;&emsp;&emsp;&emsp;&emsp;[3.3.2. Calculations of polarity and subjectivity of the reviews with NLP analysis](#3.3.2.-calculations-of-polarity-and-subjectivity-of-the-reviews-with-nlp-analysis)  \n",
    "&emsp;&emsp;&emsp;&emsp;&emsp;&emsp;&emsp;&emsp;[3.3.3. Analysis with the new ranking system](#3.3.3.-analysis-with-the-new-ranking-system)  \n",
    "&emsp;&emsp;&emsp;&emsp;&emsp;&emsp;&emsp;&emsp;&emsp;&emsp;&emsp;&emsp;[3.3.3.1. New ranking system](#3.3.3.1.-new-ranking-system)  \n",
    "&emsp;&emsp;&emsp;&emsp;&emsp;&emsp;&emsp;&emsp;&emsp;&emsp;&emsp;&emsp;[3.3.3.2. Best breweries in the world around the years](#3.3.3.2.-best-breweries-in-the-world-around-the-years)  \n",
    "[4. Annexes](#4.-annexes)  \n",
    "&emsp;&emsp;&emsp;&emsp;[4.1. Generation of the table of content](#4.1.-generation-of-the-table-of-content)  "
   ]
  },
  {
   "cell_type": "markdown",
   "metadata": {},
   "source": [
    "## 1.1. Virtual environment setup"
   ]
  },
  {
   "cell_type": "markdown",
   "metadata": {},
   "source": [
    "A NE PAS OUBLIER"
   ]
  },
  {
   "cell_type": "markdown",
   "metadata": {},
   "source": [
    "## 1.2. Libraries import"
   ]
  },
  {
   "cell_type": "code",
   "execution_count": 3,
   "metadata": {},
   "outputs": [],
   "source": [
    "# import all the libraries\n",
    "import pandas as pd\n",
    "import numpy as np\n",
    "import matplotlib.pyplot as plt\n",
    "import seaborn as sns\n",
    "import regex as re\n",
    "import os\n",
    "import warnings\n",
    "import spacy\n",
    "\n",
    "from textblob import TextBlob\n",
    "from IPython.display import display, HTML, Markdown, Image\n",
    "\n",
    "from sklearn.feature_extraction.text import CountVectorizer\n",
    "from sklearn.preprocessing import StandardScaler, MinMaxScaler\n",
    "\n",
    "import string\n",
    "import nltk\n",
    "from nltk.corpus import stopwords, words\n",
    "from nltk.stem import WordNetLemmatizer\n",
    "from nltk.tokenize import word_tokenize\n",
    "\n",
    "from wordcloud import WordCloud\n",
    "from collections import Counter\n",
    "#import vaderSentiment\n",
    "#from vaderSentiment.vaderSentiment import SentimentIntensityAnalyzer\n",
    "# statistics\n",
    "from scipy.stats import ttest_rel, ttest_ind\n",
    "import statsmodels.formula.api as smf\n",
    "from raceplotly.plots import barplot\n",
    "\n",
    "warnings.filterwarnings('ignore') # remove the warnings"
   ]
  },
  {
   "cell_type": "markdown",
   "metadata": {},
   "source": [
    "## 1.3. Paths definition"
   ]
  },
  {
   "cell_type": "code",
   "execution_count": 7,
   "metadata": {},
   "outputs": [],
   "source": [
    "html_plots = \"docs/assets/plot/\"\n",
    "png_plots = \"imgs/\""
   ]
  },
  {
   "cell_type": "markdown",
   "metadata": {},
   "source": [
    "## 1.4. Functions definition"
   ]
  },
  {
   "cell_type": "code",
   "execution_count": 8,
   "metadata": {},
   "outputs": [],
   "source": [
    "# A function is defined to save the plots in .html and .png format\n",
    "def plot_format (fig, name):\n",
    "    fig.write_html(html_plots + name + \".html\")\n",
    "    fig.write_image(png_plots + name + \".png\", engine=\"kaleido\")\n",
    "\n",
    "    #Show plot image in notebook\n",
    "    return Image(png_plots + name + \".png\")"
   ]
  },
  {
   "cell_type": "markdown",
   "metadata": {},
   "source": [
    "# 2. Data handling"
   ]
  },
  {
   "cell_type": "markdown",
   "metadata": {},
   "source": [
    "## 2.1. Data import TCN FOR U"
   ]
  },
  {
   "cell_type": "markdown",
   "metadata": {},
   "source": [
    "It also accommodates inherent differences between the two websites, such as additional review columns for BeerAdvocate.\n",
    "\n",
    "Once loaded into DataFrames, we utilize the sample_data function to randomly sample a fraction of the data, enabling efficient handling of the substantial dataset.\n",
    "\n",
    "As we've seen in Milestone P2, loading directly the \"rating.txt\" with a standard pipeline is impractical due to laptop memory limitations. We thus splitted the .txt files into N subfiles and load the data iteratively using a function.\n",
    "\n",
    "The function allows control over the fraction of initial data loaded via the parameter **Nb_files**, which determines the number of subfiles to load. It also accommodates inherent differences between the two websites, such as additional review columns for BeerAdvocate. We'd like to load the maximal fraction of intial data thus the maximum number of files\n",
    "\n",
    "Thanks to this loading strategy, we managed to load all the data from the .txt file in dataframe instance without having to sample element from those dataframes"
   ]
  },
  {
   "cell_type": "markdown",
   "metadata": {},
   "source": [
    "### 2.1.1. Import text files"
   ]
  },
  {
   "cell_type": "code",
   "execution_count": 11,
   "metadata": {},
   "outputs": [],
   "source": [
    "def load_txt_file(website, Nb_files):\n",
    "    if website == 'BeerAdvocate':\n",
    "        # Specify the directory containing the text files \n",
    "        # Need to be outside of the repo folder and might need to change the path according to one's unique folders configuration\n",
    "        directory = './../dataset_BeerReviews/BeerAdvocate/'\n",
    "    else:\n",
    "        directory = './../dataset_BeerReviews/RateBeer/'\n",
    "        \n",
    "    # Initialize an empty list to store DataFrames\n",
    "    dfs = []\n",
    "\n",
    "    # Loop through the files in reverse order (ratings-5.txt to ratings-1.txt)\n",
    "    for i in range(Nb_files, 0, -1):\n",
    "        file_name = f'ratings-{i}.txt'\n",
    "        file_path = os.path.join(directory, file_name)\n",
    "\n",
    "        with open(file_path, 'r') as f:\n",
    "            text = f.read()\n",
    "\n",
    "        # Remove double quotes at the beginning of each line\n",
    "        data = re.sub('\"', '', text)\n",
    "        data = re.sub(r'^\"', '', data, flags=re.MULTILINE)\n",
    "\n",
    "        # Split the text into individual beer reviews\n",
    "        beer_reviews = data.split('beer_name')\n",
    "\n",
    "        # Extract the beer information from each review\n",
    "        beer_data = []\n",
    "        for review in beer_reviews:\n",
    "            beer_info = {}\n",
    "            for line in [entry.split(':', 1) for entry in review.split('\\n') if ':' in entry]:# and 'text' not in entry]:\n",
    "                if line:  # Check if the list is not empty\n",
    "                    key, value = line[0].strip(), line[1].strip()\n",
    "                    beer_info[key] = value\n",
    "            beer_data.append(beer_info)\n",
    "\n",
    "        # Convert the beer data into a DataFrame\n",
    "        df = pd.DataFrame(beer_data)\n",
    "\n",
    "        # Append the DataFrame to the list\n",
    "        dfs.append(df)\n",
    "\n",
    "    # Concatenate all DataFrames into a single DataFrame\n",
    "    final_df = pd.concat(dfs, ignore_index=True)\n",
    "\n",
    "    # Rename the columns depending on the website\n",
    "    if website == 'BeerAdvocate':\n",
    "        final_df.columns = [\n",
    "            'beer_name',\n",
    "            'beer_id',\n",
    "            'brewery_name',\n",
    "            'brewery_id',\n",
    "            'style',\n",
    "            'abv',\n",
    "            'date',\n",
    "            'user_name',\n",
    "            'user_id',\n",
    "            'appearance',\n",
    "            'aroma',\n",
    "            'palate',\n",
    "            'taste',\n",
    "            'overall',\n",
    "            'rating',\n",
    "            'text',\n",
    "            'review'] # additional column compared to RB\n",
    "    else:\n",
    "        final_df.columns = [\n",
    "            'beer_name',\n",
    "            'beer_id',\n",
    "            'brewery_name',\n",
    "            'brewery_id',\n",
    "            'style',\n",
    "            'abv',\n",
    "            'date',\n",
    "            'user_name',\n",
    "            'user_id',\n",
    "            'appearance',\n",
    "            'aroma',\n",
    "            'palate',\n",
    "            'taste',\n",
    "            'overall',\n",
    "            'rating',\n",
    "            'text']\n",
    "    return final_df\n",
    "\n",
    "def sample_data(df, ratio):\n",
    "    # sample the data to make it even smaller\n",
    "    return df.sample(frac = ratio, random_state=42)"
   ]
  },
  {
   "cell_type": "code",
   "execution_count": 12,
   "metadata": {},
   "outputs": [],
   "source": [
    "# Load data : for faster processing, we will only load 1 file out of the whole dataset\n",
    "ratings_BA = load_txt_file('BeerAdvocate', 19)\n",
    "ratings_RB = load_txt_file('RateBeer', 16)"
   ]
  },
  {
   "cell_type": "code",
   "execution_count": 258,
   "metadata": {},
   "outputs": [],
   "source": [
    "# Sample data to make it even smaller AND RANDOMIZED (not randomized in the initial txt splitting process)\n",
    "#ratings_BA = sample_data(df = ratings_BA, ratio = 0.25)\n",
    "#ratings_RB = sample_data(df = ratings_RB, ratio = 0.25)"
   ]
  },
  {
   "cell_type": "code",
   "execution_count": 259,
   "metadata": {},
   "outputs": [
    {
     "name": "stdout",
     "output_type": "stream",
     "text": [
      "Length of ratings_BA (BeerAdvocate) dataframe : 111084\n",
      "Length of ratings_RB (RateBeer) dataframe : 111698\n"
     ]
    },
    {
     "data": {
      "text/html": [
       "<div>\n",
       "<style scoped>\n",
       "    .dataframe tbody tr th:only-of-type {\n",
       "        vertical-align: middle;\n",
       "    }\n",
       "\n",
       "    .dataframe tbody tr th {\n",
       "        vertical-align: top;\n",
       "    }\n",
       "\n",
       "    .dataframe thead th {\n",
       "        text-align: right;\n",
       "    }\n",
       "</style>\n",
       "<table border=\"1\" class=\"dataframe\">\n",
       "  <thead>\n",
       "    <tr style=\"text-align: right;\">\n",
       "      <th></th>\n",
       "      <th>beer_name</th>\n",
       "      <th>beer_id</th>\n",
       "      <th>brewery_name</th>\n",
       "      <th>brewery_id</th>\n",
       "      <th>style</th>\n",
       "      <th>abv</th>\n",
       "      <th>date</th>\n",
       "      <th>user_name</th>\n",
       "      <th>user_id</th>\n",
       "      <th>appearance</th>\n",
       "      <th>aroma</th>\n",
       "      <th>palate</th>\n",
       "      <th>taste</th>\n",
       "      <th>overall</th>\n",
       "      <th>rating</th>\n",
       "      <th>text</th>\n",
       "      <th>review</th>\n",
       "    </tr>\n",
       "  </thead>\n",
       "  <tbody>\n",
       "    <tr>\n",
       "      <th>43736</th>\n",
       "      <td>Hello, My Name Is Ingrid</td>\n",
       "      <td>67199</td>\n",
       "      <td>BrewDog</td>\n",
       "      <td>16315</td>\n",
       "      <td>American Double / Imperial IPA</td>\n",
       "      <td>8.2</td>\n",
       "      <td>1370426400</td>\n",
       "      <td>aztraz</td>\n",
       "      <td>aztraz.671249</td>\n",
       "      <td>nan</td>\n",
       "      <td>nan</td>\n",
       "      <td>nan</td>\n",
       "      <td>nan</td>\n",
       "      <td>nan</td>\n",
       "      <td>3.50</td>\n",
       "      <td>nan</td>\n",
       "      <td>False</td>\n",
       "    </tr>\n",
       "    <tr>\n",
       "      <th>121830</th>\n",
       "      <td>Tetley's English Ale</td>\n",
       "      <td>706</td>\n",
       "      <td>Carlsberg-Tetley Brewing Ltd</td>\n",
       "      <td>8535</td>\n",
       "      <td>English Pale Ale</td>\n",
       "      <td>3.6</td>\n",
       "      <td>1451041200</td>\n",
       "      <td>hockeyfighter19</td>\n",
       "      <td>hockeyfighter19.683185</td>\n",
       "      <td>4.0</td>\n",
       "      <td>3.75</td>\n",
       "      <td>3.75</td>\n",
       "      <td>4.0</td>\n",
       "      <td>3.75</td>\n",
       "      <td>3.87</td>\n",
       "      <td>nan</td>\n",
       "      <td>False</td>\n",
       "    </tr>\n",
       "  </tbody>\n",
       "</table>\n",
       "</div>"
      ],
      "text/plain": [
       "                       beer_name beer_id                  brewery_name  \\\n",
       "43736   Hello, My Name Is Ingrid   67199                       BrewDog   \n",
       "121830      Tetley's English Ale     706  Carlsberg-Tetley Brewing Ltd   \n",
       "\n",
       "       brewery_id                           style  abv        date  \\\n",
       "43736       16315  American Double / Imperial IPA  8.2  1370426400   \n",
       "121830       8535                English Pale Ale  3.6  1451041200   \n",
       "\n",
       "              user_name                 user_id appearance aroma palate taste  \\\n",
       "43736            aztraz           aztraz.671249        nan   nan    nan   nan   \n",
       "121830  hockeyfighter19  hockeyfighter19.683185        4.0  3.75   3.75   4.0   \n",
       "\n",
       "       overall rating text review  \n",
       "43736      nan   3.50  nan  False  \n",
       "121830    3.75   3.87  nan  False  "
      ]
     },
     "metadata": {},
     "output_type": "display_data"
    },
    {
     "data": {
      "text/html": [
       "<div>\n",
       "<style scoped>\n",
       "    .dataframe tbody tr th:only-of-type {\n",
       "        vertical-align: middle;\n",
       "    }\n",
       "\n",
       "    .dataframe tbody tr th {\n",
       "        vertical-align: top;\n",
       "    }\n",
       "\n",
       "    .dataframe thead th {\n",
       "        text-align: right;\n",
       "    }\n",
       "</style>\n",
       "<table border=\"1\" class=\"dataframe\">\n",
       "  <thead>\n",
       "    <tr style=\"text-align: right;\">\n",
       "      <th></th>\n",
       "      <th>beer_name</th>\n",
       "      <th>beer_id</th>\n",
       "      <th>brewery_name</th>\n",
       "      <th>brewery_id</th>\n",
       "      <th>style</th>\n",
       "      <th>abv</th>\n",
       "      <th>date</th>\n",
       "      <th>user_name</th>\n",
       "      <th>user_id</th>\n",
       "      <th>appearance</th>\n",
       "      <th>aroma</th>\n",
       "      <th>palate</th>\n",
       "      <th>taste</th>\n",
       "      <th>overall</th>\n",
       "      <th>rating</th>\n",
       "      <th>text</th>\n",
       "    </tr>\n",
       "  </thead>\n",
       "  <tbody>\n",
       "    <tr>\n",
       "      <th>123650</th>\n",
       "      <td>Dieu du Ciel Corne du Diable</td>\n",
       "      <td>31102</td>\n",
       "      <td>Dieu du Ciel</td>\n",
       "      <td>364</td>\n",
       "      <td>India Pale Ale (IPA)</td>\n",
       "      <td>6.5</td>\n",
       "      <td>1382004000</td>\n",
       "      <td>pumpkinhead2</td>\n",
       "      <td>263831</td>\n",
       "      <td>4</td>\n",
       "      <td>5</td>\n",
       "      <td>3</td>\n",
       "      <td>6</td>\n",
       "      <td>12</td>\n",
       "      <td>3.00</td>\n",
       "      <td>BiÃ¨re orangÃ©e cuivrÃ©e, voilÃ©e, moyennement...</td>\n",
       "    </tr>\n",
       "    <tr>\n",
       "      <th>55875</th>\n",
       "      <td>Modelo Especial</td>\n",
       "      <td>744</td>\n",
       "      <td>Grupo Modelo (Corona)</td>\n",
       "      <td>119</td>\n",
       "      <td>Pale Lager</td>\n",
       "      <td>4.5</td>\n",
       "      <td>1334052000</td>\n",
       "      <td>gunnfryd</td>\n",
       "      <td>31397</td>\n",
       "      <td>2</td>\n",
       "      <td>2</td>\n",
       "      <td>2</td>\n",
       "      <td>2</td>\n",
       "      <td>4</td>\n",
       "      <td>1.20</td>\n",
       "      <td>Bottle. Golden colour with a small white head....</td>\n",
       "    </tr>\n",
       "  </tbody>\n",
       "</table>\n",
       "</div>"
      ],
      "text/plain": [
       "                           beer_name beer_id           brewery_name  \\\n",
       "123650  Dieu du Ciel Corne du Diable   31102           Dieu du Ciel   \n",
       "55875                Modelo Especial     744  Grupo Modelo (Corona)   \n",
       "\n",
       "       brewery_id                 style  abv        date     user_name  \\\n",
       "123650        364  India Pale Ale (IPA)  6.5  1382004000  pumpkinhead2   \n",
       "55875         119            Pale Lager  4.5  1334052000      gunnfryd   \n",
       "\n",
       "       user_id appearance aroma palate taste overall rating  \\\n",
       "123650  263831          4     5      3     6      12   3.00   \n",
       "55875    31397          2     2      2     2       4   1.20   \n",
       "\n",
       "                                                     text  \n",
       "123650  BiÃ¨re orangÃ©e cuivrÃ©e, voilÃ©e, moyennement...  \n",
       "55875   Bottle. Golden colour with a small white head....  "
      ]
     },
     "metadata": {},
     "output_type": "display_data"
    }
   ],
   "source": [
    "print(f\"Length of ratings_BA (BeerAdvocate) dataframe : {len(ratings_BA)}\")\n",
    "print(f\"Length of ratings_RB (RateBeer) dataframe : {len(ratings_RB)}\")\n",
    "display(ratings_BA.head(2),ratings_RB.head(2))"
   ]
  },
  {
   "cell_type": "markdown",
   "metadata": {},
   "source": [
    "### 2.1.2. Load the other data"
   ]
  },
  {
   "cell_type": "code",
   "execution_count": 260,
   "metadata": {},
   "outputs": [],
   "source": [
    "# BeerAdvocate\n",
    "beers_BA = pd.read_csv(\"./../dataset_BeerReviews/BeerAdvocate/beers.csv\")\n",
    "breweries_BA = pd.read_csv(\"./../dataset_BeerReviews/BeerAdvocate/breweries.csv\")\n",
    "users_BA = pd.read_csv(\"./../dataset_BeerReviews/BeerAdvocate/users.csv\")\n",
    "\n",
    "# RateBeer\n",
    "beers_RB = pd.read_csv(\"./../dataset_BeerReviews/RateBeer/beers.csv\")\n",
    "breweries_RB = pd.read_csv(\"./../dataset_BeerReviews/RateBeer/breweries.csv\")\n",
    "users_RB = pd.read_csv(\"./../dataset_BeerReviews/RateBeer/users.csv\")\n",
    "\n",
    "# matched_beer_data\n",
    "beers_matched = pd.read_csv(\"./../dataset_BeerReviews/matched_beer_data/beers.csv\", header=1)\n",
    "breweries_matched = pd.read_csv(\"./../dataset_BeerReviews/matched_beer_data/breweries.csv\", header = 1)\n",
    "ratings_matched = pd.read_csv(\"./../dataset_BeerReviews/matched_beer_data/ratings.csv\", header=1)\n",
    "users_approx = pd.read_csv(\"./../dataset_BeerReviews/matched_beer_data/users_approx.csv\", header=1)\n",
    "users_matched = pd.read_csv(\"./../dataset_BeerReviews/matched_beer_data/users.csv\", header=1)"
   ]
  },
  {
   "cell_type": "markdown",
   "metadata": {},
   "source": [
    "### 2.1.3. Data types"
   ]
  },
  {
   "cell_type": "markdown",
   "metadata": {},
   "source": [
    "#### 2.1.3.1. Check the types"
   ]
  },
  {
   "cell_type": "code",
   "execution_count": 261,
   "metadata": {},
   "outputs": [
    {
     "data": {
      "text/html": [
       "<div>\n",
       "<style scoped>\n",
       "    .dataframe tbody tr th:only-of-type {\n",
       "        vertical-align: middle;\n",
       "    }\n",
       "\n",
       "    .dataframe tbody tr th {\n",
       "        vertical-align: top;\n",
       "    }\n",
       "\n",
       "    .dataframe thead th {\n",
       "        text-align: right;\n",
       "    }\n",
       "</style>\n",
       "<table border=\"1\" class=\"dataframe\">\n",
       "  <thead>\n",
       "    <tr style=\"text-align: right;\">\n",
       "      <th></th>\n",
       "      <th>DataFrame 1</th>\n",
       "      <th>DataFrame 2</th>\n",
       "    </tr>\n",
       "  </thead>\n",
       "  <tbody>\n",
       "    <tr>\n",
       "      <th>beer_name</th>\n",
       "      <td>object</td>\n",
       "      <td>object</td>\n",
       "    </tr>\n",
       "    <tr>\n",
       "      <th>beer_id</th>\n",
       "      <td>object</td>\n",
       "      <td>object</td>\n",
       "    </tr>\n",
       "    <tr>\n",
       "      <th>brewery_name</th>\n",
       "      <td>object</td>\n",
       "      <td>object</td>\n",
       "    </tr>\n",
       "    <tr>\n",
       "      <th>brewery_id</th>\n",
       "      <td>object</td>\n",
       "      <td>object</td>\n",
       "    </tr>\n",
       "    <tr>\n",
       "      <th>style</th>\n",
       "      <td>object</td>\n",
       "      <td>object</td>\n",
       "    </tr>\n",
       "    <tr>\n",
       "      <th>abv</th>\n",
       "      <td>object</td>\n",
       "      <td>object</td>\n",
       "    </tr>\n",
       "    <tr>\n",
       "      <th>date</th>\n",
       "      <td>object</td>\n",
       "      <td>object</td>\n",
       "    </tr>\n",
       "    <tr>\n",
       "      <th>user_name</th>\n",
       "      <td>object</td>\n",
       "      <td>object</td>\n",
       "    </tr>\n",
       "    <tr>\n",
       "      <th>user_id</th>\n",
       "      <td>object</td>\n",
       "      <td>object</td>\n",
       "    </tr>\n",
       "    <tr>\n",
       "      <th>appearance</th>\n",
       "      <td>object</td>\n",
       "      <td>object</td>\n",
       "    </tr>\n",
       "    <tr>\n",
       "      <th>aroma</th>\n",
       "      <td>object</td>\n",
       "      <td>object</td>\n",
       "    </tr>\n",
       "    <tr>\n",
       "      <th>palate</th>\n",
       "      <td>object</td>\n",
       "      <td>object</td>\n",
       "    </tr>\n",
       "    <tr>\n",
       "      <th>taste</th>\n",
       "      <td>object</td>\n",
       "      <td>object</td>\n",
       "    </tr>\n",
       "    <tr>\n",
       "      <th>overall</th>\n",
       "      <td>object</td>\n",
       "      <td>object</td>\n",
       "    </tr>\n",
       "    <tr>\n",
       "      <th>rating</th>\n",
       "      <td>object</td>\n",
       "      <td>object</td>\n",
       "    </tr>\n",
       "    <tr>\n",
       "      <th>text</th>\n",
       "      <td>object</td>\n",
       "      <td>object</td>\n",
       "    </tr>\n",
       "    <tr>\n",
       "      <th>review</th>\n",
       "      <td>object</td>\n",
       "      <td>NaN</td>\n",
       "    </tr>\n",
       "  </tbody>\n",
       "</table>\n",
       "</div>"
      ],
      "text/plain": [
       "             DataFrame 1 DataFrame 2\n",
       "beer_name         object      object\n",
       "beer_id           object      object\n",
       "brewery_name      object      object\n",
       "brewery_id        object      object\n",
       "style             object      object\n",
       "abv               object      object\n",
       "date              object      object\n",
       "user_name         object      object\n",
       "user_id           object      object\n",
       "appearance        object      object\n",
       "aroma             object      object\n",
       "palate            object      object\n",
       "taste             object      object\n",
       "overall           object      object\n",
       "rating            object      object\n",
       "text              object      object\n",
       "review            object         NaN"
      ]
     },
     "execution_count": 261,
     "metadata": {},
     "output_type": "execute_result"
    }
   ],
   "source": [
    "# Get types of features in each DataFrame\n",
    "df_types = pd.concat([df.dtypes.rename(f\"DataFrame {i+1}\") for i, df in enumerate([ratings_BA, ratings_RB])], axis=1)\n",
    "df_types"
   ]
  },
  {
   "cell_type": "markdown",
   "metadata": {},
   "source": [
    "#### 2.1.3.2 Change the types"
   ]
  },
  {
   "cell_type": "markdown",
   "metadata": {},
   "source": [
    "One can see that all the features of **ratings_BA** and **ratings_RB** have a `object` type, which is not very convenient if we want to automate the visualization process, for example plotting the distribution of the numerical features in histograms. As a first preprocessing step, we will thus convert the type of the numerical variables to `float64` with the function **convert_type** below."
   ]
  },
  {
   "cell_type": "code",
   "execution_count": 262,
   "metadata": {},
   "outputs": [],
   "source": [
    "def convert_type(df, col):\n",
    "    df[col] = df[col].astype('float64')\n",
    "    return df\n",
    "\n",
    "# columns including the numerical features for both websites\n",
    "# user_id is numerical in RB but categorical in BA so we don't include it\n",
    "numerical_cols = ['beer_id', 'brewery_id', 'abv', 'appearance', 'aroma', 'palate', 'taste', 'overall', 'rating']\n",
    "\n",
    "for col in numerical_cols : \n",
    "    ratings_BA = convert_type(ratings_BA, col)\n",
    "    ratings_RB = convert_type(ratings_RB, col)"
   ]
  },
  {
   "cell_type": "code",
   "execution_count": 263,
   "metadata": {},
   "outputs": [
    {
     "data": {
      "text/html": [
       "<div>\n",
       "<style scoped>\n",
       "    .dataframe tbody tr th:only-of-type {\n",
       "        vertical-align: middle;\n",
       "    }\n",
       "\n",
       "    .dataframe tbody tr th {\n",
       "        vertical-align: top;\n",
       "    }\n",
       "\n",
       "    .dataframe thead th {\n",
       "        text-align: right;\n",
       "    }\n",
       "</style>\n",
       "<table border=\"1\" class=\"dataframe\">\n",
       "  <thead>\n",
       "    <tr style=\"text-align: right;\">\n",
       "      <th></th>\n",
       "      <th>DataFrame 1</th>\n",
       "      <th>DataFrame 2</th>\n",
       "    </tr>\n",
       "  </thead>\n",
       "  <tbody>\n",
       "    <tr>\n",
       "      <th>beer_name</th>\n",
       "      <td>object</td>\n",
       "      <td>object</td>\n",
       "    </tr>\n",
       "    <tr>\n",
       "      <th>beer_id</th>\n",
       "      <td>float64</td>\n",
       "      <td>float64</td>\n",
       "    </tr>\n",
       "    <tr>\n",
       "      <th>brewery_name</th>\n",
       "      <td>object</td>\n",
       "      <td>object</td>\n",
       "    </tr>\n",
       "    <tr>\n",
       "      <th>brewery_id</th>\n",
       "      <td>float64</td>\n",
       "      <td>float64</td>\n",
       "    </tr>\n",
       "    <tr>\n",
       "      <th>style</th>\n",
       "      <td>object</td>\n",
       "      <td>object</td>\n",
       "    </tr>\n",
       "    <tr>\n",
       "      <th>abv</th>\n",
       "      <td>float64</td>\n",
       "      <td>float64</td>\n",
       "    </tr>\n",
       "    <tr>\n",
       "      <th>date</th>\n",
       "      <td>object</td>\n",
       "      <td>object</td>\n",
       "    </tr>\n",
       "    <tr>\n",
       "      <th>user_name</th>\n",
       "      <td>object</td>\n",
       "      <td>object</td>\n",
       "    </tr>\n",
       "    <tr>\n",
       "      <th>user_id</th>\n",
       "      <td>object</td>\n",
       "      <td>object</td>\n",
       "    </tr>\n",
       "    <tr>\n",
       "      <th>appearance</th>\n",
       "      <td>float64</td>\n",
       "      <td>float64</td>\n",
       "    </tr>\n",
       "    <tr>\n",
       "      <th>aroma</th>\n",
       "      <td>float64</td>\n",
       "      <td>float64</td>\n",
       "    </tr>\n",
       "    <tr>\n",
       "      <th>palate</th>\n",
       "      <td>float64</td>\n",
       "      <td>float64</td>\n",
       "    </tr>\n",
       "    <tr>\n",
       "      <th>taste</th>\n",
       "      <td>float64</td>\n",
       "      <td>float64</td>\n",
       "    </tr>\n",
       "    <tr>\n",
       "      <th>overall</th>\n",
       "      <td>float64</td>\n",
       "      <td>float64</td>\n",
       "    </tr>\n",
       "    <tr>\n",
       "      <th>rating</th>\n",
       "      <td>float64</td>\n",
       "      <td>float64</td>\n",
       "    </tr>\n",
       "    <tr>\n",
       "      <th>text</th>\n",
       "      <td>object</td>\n",
       "      <td>object</td>\n",
       "    </tr>\n",
       "    <tr>\n",
       "      <th>review</th>\n",
       "      <td>object</td>\n",
       "      <td>NaN</td>\n",
       "    </tr>\n",
       "  </tbody>\n",
       "</table>\n",
       "</div>"
      ],
      "text/plain": [
       "             DataFrame 1 DataFrame 2\n",
       "beer_name         object      object\n",
       "beer_id          float64     float64\n",
       "brewery_name      object      object\n",
       "brewery_id       float64     float64\n",
       "style             object      object\n",
       "abv              float64     float64\n",
       "date              object      object\n",
       "user_name         object      object\n",
       "user_id           object      object\n",
       "appearance       float64     float64\n",
       "aroma            float64     float64\n",
       "palate           float64     float64\n",
       "taste            float64     float64\n",
       "overall          float64     float64\n",
       "rating           float64     float64\n",
       "text              object      object\n",
       "review            object         NaN"
      ]
     },
     "execution_count": 263,
     "metadata": {},
     "output_type": "execute_result"
    }
   ],
   "source": [
    "# Get types of features in each DataFrame\n",
    "df_types = pd.concat([df.dtypes.rename(f\"DataFrame {i+1}\") for i, df in enumerate([ratings_BA, ratings_RB])], axis=1)\n",
    "df_types"
   ]
  },
  {
   "cell_type": "markdown",
   "metadata": {},
   "source": [
    "## 2.2. Data exploration CCT FOR U"
   ]
  },
  {
   "cell_type": "markdown",
   "metadata": {},
   "source": [
    "## 2.3. Data combination"
   ]
  },
  {
   "cell_type": "markdown",
   "metadata": {},
   "source": [
    "- matched (already standardized, need to check scales though of numerical features)\n",
    "- BA (not standardized yet)\n",
    "- RB (not standardized yet)\n",
    "\n",
    "First we need to standardize the data from ratings_BA and ratings_RB before combining them with matched (which has already been standardized per year and per website, see paper)\n",
    "\n",
    "Explain that we duplicate the matched samples (1 from BA and 1 from RB), so that we keep all the reviews, independently of the website.\n"
   ]
  },
  {
   "cell_type": "markdown",
   "metadata": {},
   "source": [
    "### 2.3.1. Preprocessing"
   ]
  },
  {
   "cell_type": "markdown",
   "metadata": {},
   "source": [
    "#### 2.3.1.1. Standardize ratings_BA and ratings_RB annually"
   ]
  },
  {
   "cell_type": "markdown",
   "metadata": {},
   "source": [
    "- Need to add time dimension first: month and year"
   ]
  },
  {
   "cell_type": "code",
   "execution_count": 264,
   "metadata": {},
   "outputs": [],
   "source": [
    "def add_time_features(df):\n",
    "    \"\"\"\n",
    "    Adds a 'month' and a 'year' features to the DataFrame based on the 'date' column.\n",
    "    \n",
    "    Parameters\n",
    "    ----------\n",
    "    df : DataFrame\n",
    "        Contains data including a 'date' column.\n",
    "\n",
    "    Returns\n",
    "    -------\n",
    "    df_m : DataFrame\n",
    "        Contains the original data with an additional 'month' and 'year' features.\n",
    "    \"\"\"\n",
    "    # Create a copy of the DataFrame\n",
    "    df_time = df.copy()\n",
    "    # Conversion of date feature from timestamp to text date\n",
    "    pd.to_numeric(df_time['date'], errors='coerce', downcast='integer')\n",
    "    # Convert 'date' to datetime and extract the date\n",
    "    df_time.date = df.date.apply(lambda d: pd.to_datetime(d, unit='s'))\n",
    "    df_time['date'] = df_time['date'].dt.date\n",
    "\n",
    "    # Extract the month from the 'date' column and add it as a new feature 'month'\n",
    "    df_time['month'] = pd.to_datetime(df_time['date']).dt.month\n",
    "    # Extract the year from the 'date' column and add it as a new feature 'year'\n",
    "    df_time['year'] = pd.to_datetime(df_time['date']).dt.year\n",
    "\n",
    "    return df_time\n",
    "\n",
    "def standardize_annually_ratings(df):\n",
    "    \"\"\"\n",
    "    Standardizes the ratings annually and per website.\n",
    "    \n",
    "    Parameters\n",
    "    ----------\n",
    "    df : DataFrame\n",
    "        Containing all data\n",
    "\n",
    "    Returns\n",
    "    -------\n",
    "    df : DataFrame\n",
    "        Containing all data with standardized ratings with additional column 'standardized_rating'.\n",
    "                \n",
    "    \"\"\"\n",
    "    df_copy = df.copy()\n",
    "    grouped = df_copy.groupby('year')['rating'].agg(['mean', 'std'])\n",
    "    df_copy = pd.merge(df_copy, grouped, left_on='year', right_index=True)\n",
    "    df_copy['std_rating'] = (df_copy['rating'] - df_copy['mean']) / df_copy['std']\n",
    "    \n",
    "    return df_copy, grouped"
   ]
  },
  {
   "cell_type": "code",
   "execution_count": 265,
   "metadata": {},
   "outputs": [],
   "source": [
    "# add time feature to standardize ratings by year and by website\n",
    "ratings_BA_with_time = add_time_features(ratings_BA)\n",
    "ratings_RB_with_time = add_time_features(ratings_RB)\n",
    "\n",
    "# apply standardization\n",
    "ratings_BA_standardized, mean_std_BA = standardize_annually_ratings(ratings_BA_with_time)\n",
    "ratings_RB_standardized, mean_std_RB = standardize_annually_ratings(ratings_RB_with_time)"
   ]
  },
  {
   "cell_type": "code",
   "execution_count": 266,
   "metadata": {},
   "outputs": [],
   "source": [
    "def plot_mean_std_errorbar(grouped_BA, grouped_RB):\n",
    "    plt.figure(figsize=(7, 7))\n",
    "    plt.subplot(2, 1, 1)\n",
    "    plt.errorbar(grouped_BA.index, grouped_BA['mean'], yerr=1.96 * grouped_BA['std'] / np.sqrt(grouped_BA['std'].count()), fmt='o', capsize=5, linestyle='-', label = 'BeerAdvocate')\n",
    "    plt.errorbar(grouped_RB.index, grouped_RB['mean'], yerr=1.96 * grouped_RB['std'] / np.sqrt(grouped_RB['std'].count()), fmt='o', capsize=5, linestyle='-', label = 'RateBeer')\n",
    "    plt.title('Mean Ratings across Years')\n",
    "    plt.legend()\n",
    "\n",
    "    plt.subplot(2, 1, 2)\n",
    "    plt.errorbar(grouped_BA.index, grouped_BA['std'], yerr=1.96 * grouped_BA['std'] / np.sqrt(grouped_BA['std'].count()), fmt='o', capsize=5, linestyle='-', label = 'BeerAdvocate')\n",
    "    plt.errorbar(grouped_RB.index, grouped_RB['std'], yerr=1.96 * grouped_RB['std'] / np.sqrt(grouped_RB['std'].count()), fmt='o', capsize=5, linestyle='-', label = 'RateBeer')\n",
    "    plt.title('Standard Deviation of Ratings across Years')\n",
    "    plt.tight_layout()\n",
    "    plt.legend()\n",
    "    plt.show()"
   ]
  },
  {
   "cell_type": "markdown",
   "metadata": {},
   "source": [
    "Some plots"
   ]
  },
  {
   "cell_type": "code",
   "execution_count": 267,
   "metadata": {},
   "outputs": [
    {
     "name": "stdout",
     "output_type": "stream",
     "text": [
      "Before standardization\n"
     ]
    },
    {
     "data": {
      "image/png": "[encoded data removed]",
      "text/plain": [
       "<Figure size 700x700 with 2 Axes>"
      ]
     },
     "metadata": {},
     "output_type": "display_data"
    }
   ],
   "source": [
    "print(\"Before standardization\")\n",
    "plot_mean_std_errorbar(mean_std_BA, mean_std_RB)"
   ]
  },
  {
   "cell_type": "code",
   "execution_count": 268,
   "metadata": {},
   "outputs": [
    {
     "name": "stdout",
     "output_type": "stream",
     "text": [
      "After standardization\n"
     ]
    },
    {
     "data": {
      "image/png": "[encoded data removed]",
      "text/plain": [
       "<Figure size 700x700 with 2 Axes>"
      ]
     },
     "metadata": {},
     "output_type": "display_data"
    }
   ],
   "source": [
    "mean_std_BA_standardized = ratings_BA_standardized.groupby('year')['std_rating'].agg(['mean', 'std'])\n",
    "mean_std_RB_standardized = ratings_RB_standardized.groupby('year')['std_rating'].agg(['mean', 'std'])\n",
    "print(\"After standardization\")\n",
    "plot_mean_std_errorbar(mean_std_BA_standardized, mean_std_RB_standardized)"
   ]
  },
  {
   "cell_type": "code",
   "execution_count": 269,
   "metadata": {},
   "outputs": [
    {
     "data": {
      "image/png": "[encoded data removed]",
      "text/plain": [
       "<Figure size 1000x700 with 1 Axes>"
      ]
     },
     "metadata": {},
     "output_type": "display_data"
    }
   ],
   "source": [
    "plt.figure(figsize=(10, 7))\n",
    "sns.histplot(data=ratings_matched['rating'], bins=50, label = 'ratings_BA_matched')\n",
    "sns.histplot(data=ratings_matched['rating.1'], bins=50, label = 'ratings_RB_matched')\n",
    "sns.histplot(data=ratings_BA_standardized['std_rating'], bins=50, label = 'ratings_BA_standardized')\n",
    "sns.histplot(data=ratings_RB_standardized['std_rating'], bins=50, label = 'ratings_RB_standardized')\n",
    "plt.legend()\n",
    "plt.show()"
   ]
  },
  {
   "cell_type": "markdown",
   "metadata": {},
   "source": [
    "#### 2.3.1.2. Standardization of the matched' ratings"
   ]
  },
  {
   "cell_type": "code",
   "execution_count": 270,
   "metadata": {},
   "outputs": [],
   "source": [
    "ratings_matched_copy = ratings_matched.copy(deep=True)\n",
    "ratings_matched_copy['beer_id.1'] = ratings_matched_copy['beer_id']\n",
    "ratings_matched_copy['brewery_id.1'] = ratings_matched_copy['brewery_id']\n",
    "ratings_matched_copy['beer_name.1'] = ratings_matched_copy['beer_name']\n",
    "ratings_matched_copy['brewery_name.1'] = ratings_matched_copy['brewery_name']\n",
    "\n",
    "# Retrieve the columns of interest for BeerAdvocate\n",
    "ratings_matched_BA = ratings_matched_copy.iloc[:, :17]\n",
    "ratings_matched_BA = ratings_matched_BA.drop(['review'], axis=1) # drop the column that is not common to both websites\n",
    "\n",
    "#Retrieve the columns of interest for RateBeer\n",
    "ratings_matched_RB = ratings_matched_copy.iloc[:, 17:]\n",
    "ratings_matched_RB['overall.1'] = ratings_matched_RB['overall.1']*5/20\n",
    "ratings_matched_RB['aroma.1'] = ratings_matched_RB['aroma.1']*5/10\n",
    "ratings_matched_RB['taste.1'] = ratings_matched_RB['taste.1']*5/10\n",
    "ratings_matched_RB.columns = ratings_matched_BA.columns\n",
    "\n",
    "# add time features to standardize by year\n",
    "ratings_matched_BA_with_time = add_time_features(ratings_matched_BA)\n",
    "ratings_matched_RB_with_time = add_time_features(ratings_matched_RB)\n",
    "\n",
    "# standardize ratings of matched data to have mean 0 and std 1\n",
    "ratings_matched_BA_standardized, mean_std_BA_matched = standardize_annually_ratings(ratings_matched_BA_with_time) # adds column 'std_rating'\n",
    "ratings_matched_RB_standardized, mean_std_RB_matched = standardize_annually_ratings(ratings_matched_RB_with_time) # adds column 'std_rating'"
   ]
  },
  {
   "cell_type": "markdown",
   "metadata": {},
   "source": [
    "### 2.3.2. Summaries standardized data"
   ]
  },
  {
   "cell_type": "markdown",
   "metadata": {},
   "source": [
    "All dataframes have an additional column 'std_rating' with the standardized rating."
   ]
  },
  {
   "cell_type": "code",
   "execution_count": 271,
   "metadata": {},
   "outputs": [
    {
     "data": {
      "image/png": "[encoded data removed]",
      "text/plain": [
       "<Figure size 1000x700 with 1 Axes>"
      ]
     },
     "metadata": {},
     "output_type": "display_data"
    }
   ],
   "source": [
    "# Compute mean values for each distribution\n",
    "mean_rating_BA_matched = ratings_matched_BA_standardized['std_rating'].mean()\n",
    "mean_rating_RB_matched = ratings_matched_RB_standardized['std_rating'].mean()\n",
    "mean_rating_BA_standardized = ratings_BA_standardized['std_rating'].mean()\n",
    "mean_rating_RB_standardized = ratings_RB_standardized['std_rating'].mean()\n",
    "\n",
    "\n",
    "plt.figure(figsize=(10, 7))\n",
    "sns.histplot(data=ratings_matched_BA_standardized['std_rating'], bins=50, label = 'ratings_BA_matched_standardized')\n",
    "sns.histplot(data=ratings_matched_RB_standardized['std_rating'], bins=50, label = 'ratings_RB_matched_standardized')\n",
    "sns.histplot(data=ratings_BA_standardized['std_rating'], bins=50, label = 'ratings_BA_standardized')\n",
    "sns.histplot(data=ratings_RB_standardized['std_rating'], bins=50, label = 'ratings_RB_standardized')\n",
    "\n",
    "# Plot vertical lines for mean values\n",
    "plt.axvline(x=mean_rating_BA_matched, color='green', linestyle='--', label=f'Mean BA Matched: {mean_rating_BA_matched:.2f}')\n",
    "plt.axvline(x=mean_rating_RB_matched, color='blue', linestyle='--', label=f'Mean RB Matched: {mean_rating_RB_matched:.2f}')\n",
    "plt.axvline(x=mean_rating_BA_standardized, color='orange', linestyle='--', label=f'Mean BA Standardized: {mean_rating_BA_standardized:.2f}')\n",
    "plt.axvline(x=mean_rating_RB_standardized, color='red', linestyle='--', label=f'Mean RB Standardized: {mean_rating_RB_standardized:.2f}')\n",
    "\n",
    "plt.legend()\n",
    "plt.show()"
   ]
  },
  {
   "cell_type": "markdown",
   "metadata": {},
   "source": [
    "### 2.3.3. Concatenation of the dataframes"
   ]
  },
  {
   "cell_type": "code",
   "execution_count": 272,
   "metadata": {},
   "outputs": [
    {
     "name": "stdout",
     "output_type": "stream",
     "text": [
      "Length of ratings matched: 21964\n",
      "Length of ratings BA: 111084\n",
      "Length of ratings RB: 111698\n",
      "Length of combined dataset: 266710\n"
     ]
    },
    {
     "data": {
      "image/png": "[encoded data removed]",
      "text/plain": [
       "<Figure size 640x480 with 1 Axes>"
      ]
     },
     "metadata": {},
     "output_type": "display_data"
    },
    {
     "data": {
      "text/html": [
       "<div>\n",
       "<style scoped>\n",
       "    .dataframe tbody tr th:only-of-type {\n",
       "        vertical-align: middle;\n",
       "    }\n",
       "\n",
       "    .dataframe tbody tr th {\n",
       "        vertical-align: top;\n",
       "    }\n",
       "\n",
       "    .dataframe thead th {\n",
       "        text-align: right;\n",
       "    }\n",
       "</style>\n",
       "<table border=\"1\" class=\"dataframe\">\n",
       "  <thead>\n",
       "    <tr style=\"text-align: right;\">\n",
       "      <th></th>\n",
       "      <th>beer_name</th>\n",
       "      <th>beer_id</th>\n",
       "      <th>brewery_name</th>\n",
       "      <th>brewery_id</th>\n",
       "      <th>style</th>\n",
       "      <th>abv</th>\n",
       "      <th>date</th>\n",
       "      <th>user_name</th>\n",
       "      <th>user_id</th>\n",
       "      <th>appearance</th>\n",
       "      <th>...</th>\n",
       "      <th>taste</th>\n",
       "      <th>overall</th>\n",
       "      <th>rating</th>\n",
       "      <th>text</th>\n",
       "      <th>review</th>\n",
       "      <th>month</th>\n",
       "      <th>year</th>\n",
       "      <th>mean</th>\n",
       "      <th>std</th>\n",
       "      <th>std_rating</th>\n",
       "    </tr>\n",
       "  </thead>\n",
       "  <tbody>\n",
       "    <tr>\n",
       "      <th>43736</th>\n",
       "      <td>Hello, My Name Is Ingrid</td>\n",
       "      <td>67199.0</td>\n",
       "      <td>BrewDog</td>\n",
       "      <td>16315.0</td>\n",
       "      <td>American Double / Imperial IPA</td>\n",
       "      <td>8.2</td>\n",
       "      <td>2013-06-05</td>\n",
       "      <td>aztraz</td>\n",
       "      <td>aztraz.671249</td>\n",
       "      <td>NaN</td>\n",
       "      <td>...</td>\n",
       "      <td>NaN</td>\n",
       "      <td>NaN</td>\n",
       "      <td>3.5</td>\n",
       "      <td>nan</td>\n",
       "      <td>False</td>\n",
       "      <td>6</td>\n",
       "      <td>2013</td>\n",
       "      <td>3.657516</td>\n",
       "      <td>0.702117</td>\n",
       "      <td>-0.224345</td>\n",
       "    </tr>\n",
       "    <tr>\n",
       "      <th>25783</th>\n",
       "      <td>Fraoch Heather Ale</td>\n",
       "      <td>245.0</td>\n",
       "      <td>Williams Brothers Brewing Company</td>\n",
       "      <td>12142.0</td>\n",
       "      <td>Scottish Gruit / Ancient Herbed Ale</td>\n",
       "      <td>5.0</td>\n",
       "      <td>2013-08-07</td>\n",
       "      <td>ekalb31</td>\n",
       "      <td>ekalb31.747152</td>\n",
       "      <td>NaN</td>\n",
       "      <td>...</td>\n",
       "      <td>NaN</td>\n",
       "      <td>NaN</td>\n",
       "      <td>3.5</td>\n",
       "      <td>nan</td>\n",
       "      <td>False</td>\n",
       "      <td>8</td>\n",
       "      <td>2013</td>\n",
       "      <td>3.657516</td>\n",
       "      <td>0.702117</td>\n",
       "      <td>-0.224345</td>\n",
       "    </tr>\n",
       "  </tbody>\n",
       "</table>\n",
       "<p>2 rows × 22 columns</p>\n",
       "</div>"
      ],
      "text/plain": [
       "                      beer_name  beer_id                       brewery_name  \\\n",
       "43736  Hello, My Name Is Ingrid  67199.0                            BrewDog   \n",
       "25783        Fraoch Heather Ale    245.0  Williams Brothers Brewing Company   \n",
       "\n",
       "       brewery_id                                style  abv        date  \\\n",
       "43736     16315.0       American Double / Imperial IPA  8.2  2013-06-05   \n",
       "25783     12142.0  Scottish Gruit / Ancient Herbed Ale  5.0  2013-08-07   \n",
       "\n",
       "      user_name         user_id  appearance  ...  taste  overall  rating  \\\n",
       "43736    aztraz   aztraz.671249         NaN  ...    NaN      NaN     3.5   \n",
       "25783   ekalb31  ekalb31.747152         NaN  ...    NaN      NaN     3.5   \n",
       "\n",
       "       text  review month  year      mean       std  std_rating  \n",
       "43736   nan   False     6  2013  3.657516  0.702117   -0.224345  \n",
       "25783   nan   False     8  2013  3.657516  0.702117   -0.224345  \n",
       "\n",
       "[2 rows x 22 columns]"
      ]
     },
     "execution_count": 272,
     "metadata": {},
     "output_type": "execute_result"
    }
   ],
   "source": [
    "# concatenate matched data from both websites\n",
    "ratings_matched_BA_RB = pd.concat([ratings_matched_BA_standardized, ratings_matched_RB_standardized], axis=0)\n",
    "ratings_matched_BA_RB.sort_values(by=['beer_id', 'user_id'], inplace=True)\n",
    "\n",
    "# concatenate matched data with ratings_BA and ratings_RB\n",
    "all_data= pd.concat([ratings_BA_standardized, \n",
    "                    ratings_RB_standardized,\n",
    "                    ratings_matched_BA_RB], axis=0)\n",
    "\n",
    "# test\n",
    "print(f\"Length of ratings matched: {len(ratings_matched)}\")\n",
    "print(f\"Length of ratings BA: {len(ratings_BA)}\")\n",
    "print(f\"Length of ratings RB: {len(ratings_RB)}\")\n",
    "print(f\"Length of combined dataset: {len(all_data)}\")\n",
    "\n",
    "# check\n",
    "sns.histplot(data=all_data['std_rating'], bins=50)\n",
    "plt.show()\n",
    "\n",
    "all_data.head(2)"
   ]
  },
  {
   "cell_type": "markdown",
   "metadata": {},
   "source": [
    "# 3. Data Analysis"
   ]
  },
  {
   "cell_type": "markdown",
   "metadata": {},
   "source": [
    "## 3.1 Numerical ranking TCN FOR U"
   ]
  },
  {
   "cell_type": "markdown",
   "metadata": {},
   "source": [
    "In this section we will construct two ranking of the best breweries by grading them based on their beers grade. We filter out the breweries with too few reviews to maintain the ranking credibility and ensure that the rating reflects a consensus among significant number of reviewers. This minimum number of review is set to 30 review, This threshold gives us a robust ranking. We tested with some lower threshold for instance 10 or 15, in those cases the best brewery contained 16 beers, only one of its beer had more than 5 review, which is not significant enough. Its average was very high due to the small number of reviews. As we will see later, a threshold of 30 gives a more robust ranking because the breweries have a satisfactory number of reviews. In both ranking we start by computing the averages obtained by each of the brewery's beers. Here is the first ranking system."
   ]
  },
  {
   "cell_type": "markdown",
   "metadata": {},
   "source": [
    "-  The first ranking is a weighted ranking, when computing the grade of the brewerie we leverage the importance of each beers by the number of reviews it has received. This ranking isn't really sensitive to beers with a low number of reviews we thus don't filter out beers with little number of reviews. "
   ]
  },
  {
   "cell_type": "markdown",
   "metadata": {},
   "source": [
    "However, this classification may not be considered representative of a brewery's quality. A brewery could have a very popular beer that is highly rated and drunk a lot, and the rest of its beers that are less highly rated and drunk less. This brewery in the first ranking will obtain a good average. However, the quality of the brewery can be questioned since only one of its beers is well rated. \n"
   ]
  },
  {
   "cell_type": "markdown",
   "metadata": {},
   "source": [
    "- The second ranking takes this effect into account.It's a quality ranking as it doesn't take into account the quantity of review. It calculates a brewery's rating by averaging the beers without taking their frequency into account. This ranking could represent a better ranking of a brewery quality because it values quality among different beers. This ranking is very sensitive to beers that are rated very few times, which is why we have to filter out beers with too few reviews. We have decided that a beer with fewer than 4 reviews cannot be considered. "
   ]
  },
  {
   "cell_type": "markdown",
   "metadata": {},
   "source": [
    "Additionally we will also explore the evolution of those ranking across the years. "
   ]
  },
  {
   "cell_type": "markdown",
   "metadata": {},
   "source": [
    "### 3.1.1. Filtering of the data"
   ]
  },
  {
   "cell_type": "markdown",
   "metadata": {},
   "source": [
    "We first explore the distribution of the number of review per beers or breweries, to have an idea of the impact of our filtering on the data "
   ]
  },
  {
   "cell_type": "code",
   "execution_count": 273,
   "metadata": {},
   "outputs": [],
   "source": [
    "def plot_reviews(beers, breweries):\n",
    "    fig, axs = plt.subplots(2, 1)\n",
    "\n",
    "    axs[0].hist(beers,bins=100, log=True,histtype='step')\n",
    "    axs[0].set_title(\"Distribution of the number of review per beer\")\n",
    "    \n",
    "    \n",
    "    axs[1].hist(breweries,bins=100 , log=True,histtype='step')\n",
    "    axs[1].set_title(\"Distribution of the number of review per breweries\")\n",
    "    plt.subplots_adjust(bottom=0.15)\n",
    "    plt.tight_layout()\n",
    "    plt.show()"
   ]
  },
  {
   "cell_type": "code",
   "execution_count": 274,
   "metadata": {},
   "outputs": [
    {
     "data": {
      "image/png": "[encoded data removed]",
      "text/plain": [
       "<Figure size 640x480 with 2 Axes>"
      ]
     },
     "metadata": {},
     "output_type": "display_data"
    }
   ],
   "source": [
    "nb_rev_beer = all_data.groupby('beer_name').apply(lambda x:len(x))\n",
    "nb_rev_breweries = all_data.groupby('brewery_name').apply(lambda x:len(x))\n",
    "plot_reviews(nb_rev_beer, nb_rev_breweries)"
   ]
  },
  {
   "cell_type": "markdown",
   "metadata": {},
   "source": [
    "Let's see how many beers are removed when we apply a thresold of 4 reviews per beer for the second rating system "
   ]
  },
  {
   "cell_type": "code",
   "execution_count": 275,
   "metadata": {},
   "outputs": [
    {
     "name": "stdout",
     "output_type": "stream",
     "text": [
      "We kicked 29873 beeer out of 39479 and 56022 out of 266710 reviews \n",
      "which is 75.668% of the beer and 21.005% of the reviews\n"
     ]
    }
   ],
   "source": [
    "ratings_filtered = all_data.groupby('beer_name').filter(lambda x: len(x)>4)\n",
    "values =sum(1 for element in nb_rev_beer.values if element <= 4)\n",
    "length_beer =len(nb_rev_beer.values)\n",
    "length_review =all_data.shape[0]\n",
    "print(f\"We kicked {values} beeer out of {length_beer} and {all_data.shape[0]-ratings_filtered.shape[0]} out of {all_data.shape[0]} reviews \")\n",
    "print(f\"which is {np.round(values/length_beer*100,3)}% of the beer and {np.round(100*(all_data.shape[0]-ratings_filtered.shape[0])/all_data.shape[0], 3)}% of the reviews\")"
   ]
  },
  {
   "cell_type": "markdown",
   "metadata": {},
   "source": [
    "Here we filter the breweries with less than 30 reviews and count the propotion of breweries removed"
   ]
  },
  {
   "cell_type": "code",
   "execution_count": 276,
   "metadata": {},
   "outputs": [
    {
     "name": "stdout",
     "output_type": "stream",
     "text": [
      "We kicked 2925 breweries out of 4750\n",
      "which is 61.579% of the breweries\n"
     ]
    }
   ],
   "source": [
    "#Justfier avec graph le threshold brasserie\n",
    "all_data = all_data.groupby('brewery_name').filter(lambda x: len(x)>30)\n",
    "# %%\n",
    "\n",
    "kicked_brew =sum(1 for element in nb_rev_breweries.values if element <= 10)\n",
    "length_brew =len(nb_rev_breweries.values)\n",
    "print(f\"We kicked {kicked_brew} breweries out of {length_brew}\")# and {ratings_BA.shape[0]-length_review} out of {ratings_BA.shape[0]} reviews \")\n",
    "print(f\"which is {np.round(kicked_brew/length_brew*100,3)}% of the breweries\")"
   ]
  },
  {
   "cell_type": "markdown",
   "metadata": {},
   "source": [
    "Now let's do the ranking itself, in order to visualize and compare the results of the two system, we'll need those two plot functions"
   ]
  },
  {
   "cell_type": "code",
   "execution_count": 368,
   "metadata": {},
   "outputs": [],
   "source": [
    "import pandas as pd\n",
    "import raceplotly.plots as rp\n",
    "from raceplotly.plots import barplot\n",
    "import plotly.offline as opy\n",
    "\n"
   ]
  },
  {
   "cell_type": "code",
   "execution_count": 369,
   "metadata": {},
   "outputs": [],
   "source": [
    "def plot_ranking(ranking_sorted, topN):\n",
    "    plt.figure(figsize=(8, topN/4))\n",
    "    colors = plt.cm.Reds(ranking_sorted[:topN] / ranking_sorted[:topN].max())\n",
    "    plt.barh(ranking_sorted.index[:topN], ranking_sorted[:topN], color=colors)\n",
    "    plt.gca().invert_yaxis()\n",
    "    plt.title(f'Top {topN} Breweries of all time')\n",
    "    plt.show()\n",
    "    \n",
    "def compare_ranking(ranking_sorted_1, ranking_sorted_2, topN):\n",
    "    fig, axes = plt.subplots(1, 2, figsize=(16, 6))\n",
    "    \n",
    "    colors_1 = plt.cm.Reds(ranking_sorted_1[:topN] / ranking_sorted_1[:topN].max())\n",
    "    axes[0].barh(ranking_sorted_1.index[:topN], ranking_sorted_1[:topN], color=colors_1)\n",
    "    axes[0].invert_yaxis()\n",
    "    axes[0].set_title(f'Top {topN} Breweries - Weighted Ranking')\n",
    "    \n",
    "    colors_2 = plt.cm.Blues(ranking_sorted_2[:topN] / ranking_sorted_2[:topN].max())\n",
    "    axes[1].barh(ranking_sorted_2.index[:topN], ranking_sorted_2[:topN], color=colors_2)\n",
    "    axes[1].invert_yaxis()\n",
    "    axes[1].set_title(f'Top {topN} Breweries - Fair Ranking')\n",
    "    \n",
    "    plt.tight_layout()\n",
    "    plt.show()\n",
    "    \n",
    "\n",
    "        \n",
    "def plot_quality_top_ten_year(data):\n",
    "        weighted_csv = data.to_csv('./../quality_top_10_beers_by_year.csv', index = False)\n",
    "        data = pd.read_csv('./../quality_top_10_beers_by_year.csv')\n",
    "        data[\"std_rating\"] = data[\"std_rating\"].round(2)\n",
    "        my_raceplot = barplot(data,\n",
    "                            item_column='brewery_name',\n",
    "                            value_column='std_rating',\n",
    "                            time_column='year')\n",
    "\n",
    "        my_raceplot.plot(title = 'Top 10 beers in the world from 2000 to 2017',\n",
    "                        item_label = 'Top 10 beers',\n",
    "                        value_label = 'New rating',\n",
    "                        frame_duration = 800)"
   ]
  },
  {
   "cell_type": "markdown",
   "metadata": {},
   "source": [
    "The data is grouped by brewery and by beer. This number gives you the scores for each brewery. In the case of the classification by year, we also take into account the year."
   ]
  },
  {
   "cell_type": "code",
   "execution_count": 278,
   "metadata": {},
   "outputs": [],
   "source": [
    "grouped_brew = all_data.groupby(['brewery_name',\"beer_name\"])[\"std_rating\"]\n",
    "grouped_brew_year = all_data.groupby(['brewery_name',\"beer_name\",\"year\"])[\"std_rating\"]"
   ]
  },
  {
   "cell_type": "markdown",
   "metadata": {},
   "source": [
    "### 3.1.2. Weighted ranking"
   ]
  },
  {
   "cell_type": "code",
   "execution_count": 319,
   "metadata": {},
   "outputs": [],
   "source": [
    "def weighted_ranking(data , version , col):\n",
    "    if version == \"all\":\n",
    "        grouped_brew = data.groupby(['brewery_name',\"beer_name\"])[col]\n",
    "        grouped_agg = grouped_brew.agg(['mean', 'size'])\n",
    "        grouped_agg['weighted_rating'] = grouped_agg['mean'] * grouped_agg['size']\n",
    "\n",
    "        #Here we calculate the scores by taking into account the nb of ratings \n",
    "        nb_review = grouped_agg.groupby('brewery_name')['size'].sum()#.apply(lambda x : len(x))\n",
    "        weighted_ranking = grouped_agg.groupby('brewery_name')['weighted_rating'].sum() / nb_review\n",
    "        weighted_ranking_sorted = weighted_ranking.sort_values(ascending=False)\n",
    "\n",
    "        print(weighted_ranking_sorted.head())\n",
    "        return weighted_ranking_sorted\n",
    "    else :\n",
    "        grouped_brew_year = data.groupby(['brewery_name',\"beer_name\",\"year\"])[\"std_rating\"]\n",
    "        grouped_agg_year = grouped_brew_year.agg(['mean', 'size'])\n",
    "        grouped_agg_year['weighted_rating'] = grouped_agg_year['mean'] * grouped_agg_year['size']\n",
    "\n",
    "        nb_review = grouped_agg_year.groupby('brewery_name')['size'].sum()\n",
    "        weighted_ranking_year = grouped_agg_year.groupby(['brewery_name',\"year\"])['weighted_rating'].sum() / nb_review\n",
    "        averaged_per_year = weighted_ranking_year.reset_index(level='brewery_name')\n",
    "        averaged_per_year.columns.values[1] = 'std_rating'\n",
    "\n",
    "        top_brewery_year_avg = averaged_per_year.groupby('year').apply(lambda x: x.nlargest(10, 'std_rating'))\n",
    "\n",
    "        top_across_avg = top_brewery_year_avg.groupby(\"brewery_name\").value_counts().nlargest(5)\n",
    "\n",
    "        weighted_ranking_year_sorted = top_brewery_year_avg.groupby(\"year\").first()\n",
    "        return top_brewery_year_avg"
   ]
  },
  {
   "cell_type": "markdown",
   "metadata": {},
   "source": [
    "#### 3.1.2.1. All-time weighted ranking"
   ]
  },
  {
   "cell_type": "code",
   "execution_count": 280,
   "metadata": {},
   "outputs": [
    {
     "name": "stdout",
     "output_type": "stream",
     "text": [
      "brewery_name\n",
      "Brasserie de Rochefort              1.354391\n",
      "Stigbergets Bryggeri                1.095439\n",
      "Brasserie Auval Brewing Co.         1.086672\n",
      "Toppling Goliath Brewing Company    1.071659\n",
      "AleSmith Brewing Company            1.064468\n",
      "dtype: float64\n"
     ]
    }
   ],
   "source": [
    "weighted_ranking_sorted = weighted_ranking(all_data,\"all\",\"std_rating\")"
   ]
  },
  {
   "cell_type": "markdown",
   "metadata": {},
   "source": [
    "Visualize the n best breweries of all time "
   ]
  },
  {
   "cell_type": "code",
   "execution_count": 281,
   "metadata": {},
   "outputs": [
    {
     "data": {
      "image/png": "[encoded data removed]",
      "text/plain": [
       "<Figure size 800x250 with 1 Axes>"
      ]
     },
     "metadata": {},
     "output_type": "display_data"
    }
   ],
   "source": [
    "plot_ranking(weighted_ranking_sorted, 10)"
   ]
  },
  {
   "cell_type": "markdown",
   "metadata": {},
   "source": [
    "#### 3.1.2.2. Weighted ranking per year"
   ]
  },
  {
   "cell_type": "markdown",
   "metadata": {},
   "source": [
    "We compute the same ranking per year and only keep the top ten."
   ]
  },
  {
   "cell_type": "code",
   "execution_count": 397,
   "metadata": {},
   "outputs": [
    {
     "ename": "ValueError",
     "evalue": "Mime type rendering requires nbformat>=4.2.0 but it is not installed",
     "output_type": "error",
     "traceback": [
      "\u001b[0;31m---------------------------------------------------------------------------\u001b[0m",
      "\u001b[0;31mValueError\u001b[0m                                Traceback (most recent call last)",
      "File \u001b[0;32m~/miniconda3/lib/python3.11/site-packages/IPython/core/formatters.py:922\u001b[0m, in \u001b[0;36mIPythonDisplayFormatter.__call__\u001b[0;34m(self, obj)\u001b[0m\n\u001b[1;32m    920\u001b[0m method \u001b[38;5;241m=\u001b[39m get_real_method(obj, \u001b[38;5;28mself\u001b[39m\u001b[38;5;241m.\u001b[39mprint_method)\n\u001b[1;32m    921\u001b[0m \u001b[38;5;28;01mif\u001b[39;00m method \u001b[38;5;129;01mis\u001b[39;00m \u001b[38;5;129;01mnot\u001b[39;00m \u001b[38;5;28;01mNone\u001b[39;00m:\n\u001b[0;32m--> 922\u001b[0m     method()\n\u001b[1;32m    923\u001b[0m     \u001b[38;5;28;01mreturn\u001b[39;00m \u001b[38;5;28;01mTrue\u001b[39;00m\n",
      "File \u001b[0;32m~/miniconda3/lib/python3.11/site-packages/plotly/basedatatypes.py:832\u001b[0m, in \u001b[0;36mBaseFigure._ipython_display_\u001b[0;34m(self)\u001b[0m\n\u001b[1;32m    829\u001b[0m \u001b[38;5;28;01mimport\u001b[39;00m \u001b[38;5;21;01mplotly\u001b[39;00m\u001b[38;5;21;01m.\u001b[39;00m\u001b[38;5;21;01mio\u001b[39;00m \u001b[38;5;28;01mas\u001b[39;00m \u001b[38;5;21;01mpio\u001b[39;00m\n\u001b[1;32m    831\u001b[0m \u001b[38;5;28;01mif\u001b[39;00m pio\u001b[38;5;241m.\u001b[39mrenderers\u001b[38;5;241m.\u001b[39mrender_on_display \u001b[38;5;129;01mand\u001b[39;00m pio\u001b[38;5;241m.\u001b[39mrenderers\u001b[38;5;241m.\u001b[39mdefault:\n\u001b[0;32m--> 832\u001b[0m     pio\u001b[38;5;241m.\u001b[39mshow(\u001b[38;5;28mself\u001b[39m)\n\u001b[1;32m    833\u001b[0m \u001b[38;5;28;01melse\u001b[39;00m:\n\u001b[1;32m    834\u001b[0m     \u001b[38;5;28mprint\u001b[39m(\u001b[38;5;28mrepr\u001b[39m(\u001b[38;5;28mself\u001b[39m))\n",
      "File \u001b[0;32m~/miniconda3/lib/python3.11/site-packages/plotly/io/_renderers.py:394\u001b[0m, in \u001b[0;36mshow\u001b[0;34m(fig, renderer, validate, **kwargs)\u001b[0m\n\u001b[1;32m    389\u001b[0m         \u001b[38;5;28;01mraise\u001b[39;00m \u001b[38;5;167;01mValueError\u001b[39;00m(\n\u001b[1;32m    390\u001b[0m             \u001b[38;5;124m\"\u001b[39m\u001b[38;5;124mMime type rendering requires ipython but it is not installed\u001b[39m\u001b[38;5;124m\"\u001b[39m\n\u001b[1;32m    391\u001b[0m         )\n\u001b[1;32m    393\u001b[0m     \u001b[38;5;28;01mif\u001b[39;00m \u001b[38;5;129;01mnot\u001b[39;00m nbformat \u001b[38;5;129;01mor\u001b[39;00m Version(nbformat\u001b[38;5;241m.\u001b[39m__version__) \u001b[38;5;241m<\u001b[39m Version(\u001b[38;5;124m\"\u001b[39m\u001b[38;5;124m4.2.0\u001b[39m\u001b[38;5;124m\"\u001b[39m):\n\u001b[0;32m--> 394\u001b[0m         \u001b[38;5;28;01mraise\u001b[39;00m \u001b[38;5;167;01mValueError\u001b[39;00m(\n\u001b[1;32m    395\u001b[0m             \u001b[38;5;124m\"\u001b[39m\u001b[38;5;124mMime type rendering requires nbformat>=4.2.0 but it is not installed\u001b[39m\u001b[38;5;124m\"\u001b[39m\n\u001b[1;32m    396\u001b[0m         )\n\u001b[1;32m    398\u001b[0m     ipython_display\u001b[38;5;241m.\u001b[39mdisplay(bundle, raw\u001b[38;5;241m=\u001b[39m\u001b[38;5;28;01mTrue\u001b[39;00m)\n\u001b[1;32m    400\u001b[0m \u001b[38;5;66;03m# external renderers\u001b[39;00m\n",
      "\u001b[0;31mValueError\u001b[0m: Mime type rendering requires nbformat>=4.2.0 but it is not installed"
     ]
    },
    {
     "data": {
      "application/vnd.plotly.v1+json": {
       "config": {
        "plotlyServerURL": "https://plot.ly"
       },
       "data": [
        {
         "cliponaxis": false,
         "hoverinfo": "all",
         "marker": {
          "color": [
           "rgb(209, 15, 97)"
          ]
         },
         "orientation": "h",
         "textangle": 0,
         "textposition": "outside",
         "texttemplate": "%{y}<br>%{x:.4s}",
         "type": "bar",
         "x": [
          0
         ],
         "y": [
          "Whitbread PLC"
         ]
        }
       ],
       "frames": [
        {
         "data": [
          {
           "cliponaxis": false,
           "hoverinfo": "all",
           "hovertemplate": "<extra></extra>",
           "marker": {
            "color": [
             "rgb(209, 15, 97)"
            ]
           },
           "orientation": "h",
           "textangle": 0,
           "textposition": "outside",
           "texttemplate": "%{y}<br>%{x:.4s}",
           "type": "bar",
           "x": [
            0
           ],
           "y": [
            "Whitbread PLC"
           ]
          }
         ],
         "layout": {
          "bargap": 0.15,
          "font": {
           "size": 14
          },
          "plot_bgcolor": "#FFFFFF",
          "title": {
           "text": "Weighted Top 10 beers in the world from 2000 to 2017"
          },
          "xaxis": {
           "range": [
            0,
            0.77
           ],
           "showline": true,
           "visible": true
          },
          "yaxis": {
           "showline": false,
           "visible": true
          }
         },
         "name": "1998"
        },
        {
         "data": [
          {
           "cliponaxis": false,
           "hoverinfo": "all",
           "hovertemplate": "<extra></extra>",
           "marker": {
            "color": [
             "rgb(191, 7, 141)",
             "rgb(215, 245, 116)",
             "rgb(27, 161, 86)",
             "rgb(14, 155, 224)",
             "rgb(21, 65, 43)",
             "rgb(53, 222, 246)",
             "rgb(249, 226, 95)",
             "rgb(238, 10, 213)",
             "rgb(172, 112, 30)",
             "rgb(203, 70, 54)"
            ]
           },
           "orientation": "h",
           "textangle": 0,
           "textposition": "outside",
           "texttemplate": "%{y}<br>%{x:.4s}",
           "type": "bar",
           "x": [
            0,
            0,
            0,
            0,
            0,
            0,
            0.01,
            0.01,
            0.02,
            0.06
           ],
           "y": [
            "Alley Kat Brewing Company",
            "Carlsberg-Tetley Brewing Ltd",
            "Creemore Springs  &#40;MolsonCoors&#41;",
            "Columbia Brewery &#40;Labatt-InBev&#41;",
            "Unibroue &#40;Sapporo&#41;",
            "McAuslan Brewing &#40;Brasseurs RJ&#41;",
            "Niagara Falls Brewing &#40;Moosehead&#41;",
            "Yaletown Brewing Co.",
            "Yakima Brewing Co. / Bert Grant's Ales",
            "LInox Maîtres Brasseurs"
           ]
          }
         ],
         "layout": {
          "bargap": 0.15,
          "font": {
           "size": 14
          },
          "plot_bgcolor": "#FFFFFF",
          "title": {
           "text": "Weighted Top 10 beers in the world from 2000 to 2017"
          },
          "xaxis": {
           "range": [
            0,
            0.77
           ],
           "showline": true,
           "visible": true
          },
          "yaxis": {
           "showline": false,
           "visible": true
          }
         },
         "name": "2000"
        },
        {
         "data": [
          {
           "cliponaxis": false,
           "hoverinfo": "all",
           "hovertemplate": "<extra></extra>",
           "marker": {
            "color": [
             "rgb(253, 78, 134)",
             "rgb(27, 161, 86)",
             "rgb(185, 134, 29)",
             "rgb(179, 252, 88)",
             "rgb(121, 108, 249)",
             "rgb(87, 202, 27)",
             "rgb(16, 171, 196)",
             "rgb(115, 152, 178)",
             "rgb(2, 81, 159)",
             "rgb(249, 226, 95)"
            ]
           },
           "orientation": "h",
           "textangle": 0,
           "textposition": "outside",
           "texttemplate": "%{y}<br>%{x:.4s}",
           "type": "bar",
           "x": [
            0.01,
            0.01,
            0.01,
            0.01,
            0.01,
            0.01,
            0.01,
            0.01,
            0.02,
            0.03
           ],
           "y": [
            "Okanagan Spring Brewery &#40;Sapporo&#41;",
            "Creemore Springs  &#40;MolsonCoors&#41;",
            "Maritime Beer Company, Inc. &#40;Sapporo&#41;",
            "Granite Brewery &#40;Halifax&#41;",
            "Freeminer Brewery Ltd.",
            "Whistler Brewhouse/High Mountain",
            "Salopian Brewing Company Ltd",
            "Speakeasy Ales & Lagers",
            "Coastal Extreme Brewing Co.",
            "Niagara Falls Brewing &#40;Moosehead&#41;"
           ]
          }
         ],
         "layout": {
          "bargap": 0.15,
          "font": {
           "size": 14
          },
          "plot_bgcolor": "#FFFFFF",
          "title": {
           "text": "Weighted Top 10 beers in the world from 2000 to 2017"
          },
          "xaxis": {
           "range": [
            0,
            0.77
           ],
           "showline": true,
           "visible": true
          },
          "yaxis": {
           "showline": false,
           "visible": true
          }
         },
         "name": "2001"
        },
        {
         "data": [
          {
           "cliponaxis": false,
           "hoverinfo": "all",
           "hovertemplate": "<extra></extra>",
           "marker": {
            "color": [
             "rgb(172, 112, 30)",
             "rgb(150, 85, 51)",
             "rgb(192, 154, 238)",
             "rgb(119, 145, 93)",
             "rgb(27, 139, 172)",
             "rgb(243, 122, 158)",
             "rgb(22, 192, 195)",
             "rgb(72, 79, 237)",
             "rgb(20, 139, 185)",
             "rgb(89, 150, 209)"
            ]
           },
           "orientation": "h",
           "textangle": 0,
           "textposition": "outside",
           "texttemplate": "%{y}<br>%{x:.4s}",
           "type": "bar",
           "x": [
            0.03,
            0.03,
            0.03,
            0.03,
            0.04,
            0.04,
            0.05,
            0.05,
            0.05,
            0.06
           ],
           "y": [
            "Yakima Brewing Co. / Bert Grant's Ales",
            "Font Salem Portugal (Damm)",
            "Brasserie de Rochefort",
            "Brouwerij Van den Bossche",
            "Side Launch Brewing Company",
            "Cest What",
            "Jämtlands Bryggeri AB",
            "Heavyweight Brewing Co.",
            "Pelican Pub & Brewery",
            "Especialidades Cerveceras (FEMSA)"
           ]
          }
         ],
         "layout": {
          "bargap": 0.15,
          "font": {
           "size": 14
          },
          "plot_bgcolor": "#FFFFFF",
          "title": {
           "text": "Weighted Top 10 beers in the world from 2000 to 2017"
          },
          "xaxis": {
           "range": [
            0,
            0.77
           ],
           "showline": true,
           "visible": true
          },
          "yaxis": {
           "showline": false,
           "visible": true
          }
         },
         "name": "2002"
        },
        {
         "data": [
          {
           "cliponaxis": false,
           "hoverinfo": "all",
           "hovertemplate": "<extra></extra>",
           "marker": {
            "color": [
             "rgb(60, 55, 194)",
             "rgb(115, 152, 178)",
             "rgb(45, 174, 242)",
             "rgb(192, 154, 238)",
             "rgb(121, 108, 249)",
             "rgb(172, 112, 30)",
             "rgb(89, 150, 209)",
             "rgb(1, 209, 42)",
             "rgb(110, 122, 133)",
             "rgb(72, 79, 237)"
            ]
           },
           "orientation": "h",
           "textangle": 0,
           "textposition": "outside",
           "texttemplate": "%{y}<br>%{x:.4s}",
           "type": "bar",
           "x": [
            0.06,
            0.06,
            0.06,
            0.06,
            0.07,
            0.07,
            0.08,
            0.09,
            0.09,
            0.21
           ],
           "y": [
            "Felinfoel Brewery Co.",
            "Speakeasy Ales & Lagers",
            "LAmère à Boire",
            "Brasserie de Rochefort",
            "Freeminer Brewery Ltd.",
            "Yakima Brewing Co. / Bert Grant's Ales",
            "Especialidades Cerveceras (FEMSA)",
            "Brouwerij De Smedt / Brouwerij Affligem",
            "Brouwerij Sterkens N.V.",
            "Heavyweight Brewing Co."
           ]
          }
         ],
         "layout": {
          "bargap": 0.15,
          "font": {
           "size": 14
          },
          "plot_bgcolor": "#FFFFFF",
          "title": {
           "text": "Weighted Top 10 beers in the world from 2000 to 2017"
          },
          "xaxis": {
           "range": [
            0,
            0.77
           ],
           "showline": true,
           "visible": true
          },
          "yaxis": {
           "showline": false,
           "visible": true
          }
         },
         "name": "2003"
        },
        {
         "data": [
          {
           "cliponaxis": false,
           "hoverinfo": "all",
           "hovertemplate": "<extra></extra>",
           "marker": {
            "color": [
             "rgb(119, 69, 111)",
             "rgb(89, 150, 209)",
             "rgb(22, 192, 195)",
             "rgb(168, 74, 29)",
             "rgb(179, 252, 88)",
             "rgb(107, 131, 219)",
             "rgb(249, 226, 95)",
             "rgb(72, 79, 237)",
             "rgb(214, 233, 89)",
             "rgb(121, 108, 249)"
            ]
           },
           "orientation": "h",
           "textangle": 0,
           "textposition": "outside",
           "texttemplate": "%{y}<br>%{x:.4s}",
           "type": "bar",
           "x": [
            0.08,
            0.09,
            0.09,
            0.1,
            0.11,
            0.11,
            0.12,
            0.13,
            0.13,
            0.14
           ],
           "y": [
            "Bushwakker Brewing Co.",
            "Especialidades Cerveceras (FEMSA)",
            "Jämtlands Bryggeri AB",
            "Brouwerij De Dolle Brouwers",
            "Granite Brewery &#40;Halifax&#41;",
            "McNeill's Brewery",
            "Niagara Falls Brewing &#40;Moosehead&#41;",
            "Heavyweight Brewing Co.",
            "Bièropholie",
            "Freeminer Brewery Ltd."
           ]
          }
         ],
         "layout": {
          "bargap": 0.15,
          "font": {
           "size": 14
          },
          "plot_bgcolor": "#FFFFFF",
          "title": {
           "text": "Weighted Top 10 beers in the world from 2000 to 2017"
          },
          "xaxis": {
           "range": [
            0,
            0.77
           ],
           "showline": true,
           "visible": true
          },
          "yaxis": {
           "showline": false,
           "visible": true
          }
         },
         "name": "2004"
        },
        {
         "data": [
          {
           "cliponaxis": false,
           "hoverinfo": "all",
           "hovertemplate": "<extra></extra>",
           "marker": {
            "color": [
             "rgb(63, 204, 132)",
             "rgb(245, 180, 242)",
             "rgb(92, 150, 193)",
             "rgb(89, 150, 209)",
             "rgb(2, 81, 159)",
             "rgb(22, 192, 195)",
             "rgb(45, 174, 242)",
             "rgb(141, 108, 17)",
             "rgb(197, 196, 234)",
             "rgb(214, 233, 89)"
            ]
           },
           "orientation": "h",
           "textangle": 0,
           "textposition": "outside",
           "texttemplate": "%{y}<br>%{x:.4s}",
           "type": "bar",
           "x": [
            0.08,
            0.08,
            0.09,
            0.09,
            0.11,
            0.12,
            0.12,
            0.13,
            0.15,
            0.17
           ],
           "y": [
            "Old Yale Brewing Co",
            "Bedondaine et Bedons Ronds",
            "Brasserie Chez Gambrinus",
            "Especialidades Cerveceras (FEMSA)",
            "Coastal Extreme Brewing Co.",
            "Jämtlands Bryggeri AB",
            "LAmère à Boire",
            "Sierra Madre Brewing Co.",
            "Fat Cat Brewery",
            "Bièropholie"
           ]
          }
         ],
         "layout": {
          "bargap": 0.15,
          "font": {
           "size": 14
          },
          "plot_bgcolor": "#FFFFFF",
          "title": {
           "text": "Weighted Top 10 beers in the world from 2000 to 2017"
          },
          "xaxis": {
           "range": [
            0,
            0.77
           ],
           "showline": true,
           "visible": true
          },
          "yaxis": {
           "showline": false,
           "visible": true
          }
         },
         "name": "2005"
        },
        {
         "data": [
          {
           "cliponaxis": false,
           "hoverinfo": "all",
           "hovertemplate": "<extra></extra>",
           "marker": {
            "color": [
             "rgb(179, 252, 88)",
             "rgb(245, 180, 242)",
             "rgb(21, 65, 43)",
             "rgb(132, 82, 126)",
             "rgb(10, 166, 124)",
             "rgb(171, 63, 166)",
             "rgb(214, 233, 89)",
             "rgb(28, 250, 64)",
             "rgb(31, 201, 247)",
             "rgb(83, 202, 192)"
            ]
           },
           "orientation": "h",
           "textangle": 0,
           "textposition": "outside",
           "texttemplate": "%{y}<br>%{x:.4s}",
           "type": "bar",
           "x": [
            0.08,
            0.08,
            0.08,
            0.08,
            0.09,
            0.09,
            0.11,
            0.14,
            0.15,
            0.46
           ],
           "y": [
            "Granite Brewery &#40;Halifax&#41;",
            "Bedondaine et Bedons Ronds",
            "Unibroue &#40;Sapporo&#41;",
            "Dark Star Brewing Company Limited",
            "Kichesippi Beer Company",
            "Dix BBQ & Brewery",
            "Bièropholie",
            "Brouemont",
            "Beer Factory Restaurant & Wood Grill",
            "The Shed Restaurant & Brewery"
           ]
          }
         ],
         "layout": {
          "bargap": 0.15,
          "font": {
           "size": 14
          },
          "plot_bgcolor": "#FFFFFF",
          "title": {
           "text": "Weighted Top 10 beers in the world from 2000 to 2017"
          },
          "xaxis": {
           "range": [
            0,
            0.77
           ],
           "showline": true,
           "visible": true
          },
          "yaxis": {
           "showline": false,
           "visible": true
          }
         },
         "name": "2006"
        },
        {
         "data": [
          {
           "cliponaxis": false,
           "hoverinfo": "all",
           "hovertemplate": "<extra></extra>",
           "marker": {
            "color": [
             "rgb(21, 65, 43)",
             "rgb(10, 166, 124)",
             "rgb(179, 191, 110)",
             "rgb(38, 186, 202)",
             "rgb(92, 115, 124)",
             "rgb(192, 154, 238)",
             "rgb(28, 250, 64)",
             "rgb(197, 196, 234)",
             "rgb(214, 233, 89)",
             "rgb(204, 105, 169)"
            ]
           },
           "orientation": "h",
           "textangle": 0,
           "textposition": "outside",
           "texttemplate": "%{y}<br>%{x:.4s}",
           "type": "bar",
           "x": [
            0.09,
            0.09,
            0.1,
            0.1,
            0.1,
            0.1,
            0.11,
            0.13,
            0.13,
            0.16
           ],
           "y": [
            "Unibroue &#40;Sapporo&#41;",
            "Kichesippi Beer Company",
            "County Durham Brewing",
            "Wildwood Restaurant & Brew Pub",
            "Brasseurs et Frères",
            "Brasserie de Rochefort",
            "Brouemont",
            "Fat Cat Brewery",
            "Bièropholie",
            "Hida Takayama Beer"
           ]
          }
         ],
         "layout": {
          "bargap": 0.15,
          "font": {
           "size": 14
          },
          "plot_bgcolor": "#FFFFFF",
          "title": {
           "text": "Weighted Top 10 beers in the world from 2000 to 2017"
          },
          "xaxis": {
           "range": [
            0,
            0.77
           ],
           "showline": true,
           "visible": true
          },
          "yaxis": {
           "showline": false,
           "visible": true
          }
         },
         "name": "2007"
        },
        {
         "data": [
          {
           "cliponaxis": false,
           "hoverinfo": "all",
           "hovertemplate": "<extra></extra>",
           "marker": {
            "color": [
             "rgb(181, 222, 40)",
             "rgb(77, 226, 189)",
             "rgb(140, 233, 223)",
             "rgb(187, 89, 147)",
             "rgb(165, 225, 88)",
             "rgb(192, 154, 238)",
             "rgb(214, 233, 89)",
             "rgb(237, 173, 156)",
             "rgb(198, 246, 229)",
             "rgb(213, 240, 39)"
            ]
           },
           "orientation": "h",
           "textangle": 0,
           "textposition": "outside",
           "texttemplate": "%{y}<br>%{x:.4s}",
           "type": "bar",
           "x": [
            0.09,
            0.09,
            0.1,
            0.1,
            0.11,
            0.11,
            0.13,
            0.14,
            0.15,
            0.16
           ],
           "y": [
            "Uncommon Brewers",
            "Nils Oscar",
            "Free State Brewing Co.",
            "Cerveceria Primus",
            "Russian River Brewing Company",
            "Brasserie de Rochefort",
            "Bièropholie",
            "Southampton Publick House",
            "Nynäshamns Ångbryggeri",
            "AleSmith Brewing Company"
           ]
          }
         ],
         "layout": {
          "bargap": 0.15,
          "font": {
           "size": 14
          },
          "plot_bgcolor": "#FFFFFF",
          "title": {
           "text": "Weighted Top 10 beers in the world from 2000 to 2017"
          },
          "xaxis": {
           "range": [
            0,
            0.77
           ],
           "showline": true,
           "visible": true
          },
          "yaxis": {
           "showline": false,
           "visible": true
          }
         },
         "name": "2008"
        },
        {
         "data": [
          {
           "cliponaxis": false,
           "hoverinfo": "all",
           "hovertemplate": "<extra></extra>",
           "marker": {
            "color": [
             "rgb(179, 191, 110)",
             "rgb(204, 105, 169)",
             "rgb(131, 33, 6)",
             "rgb(202, 153, 43)",
             "rgb(213, 240, 39)",
             "rgb(165, 225, 88)",
             "rgb(192, 154, 238)",
             "rgb(231, 98, 245)",
             "rgb(154, 87, 225)",
             "rgb(37, 2, 193)"
            ]
           },
           "orientation": "h",
           "textangle": 0,
           "textposition": "outside",
           "texttemplate": "%{y}<br>%{x:.4s}",
           "type": "bar",
           "x": [
            0.11,
            0.11,
            0.11,
            0.12,
            0.12,
            0.12,
            0.14,
            0.17,
            0.18,
            0.22
           ],
           "y": [
            "County Durham Brewing",
            "Hida Takayama Beer",
            "River Horse Brewing Co.",
            "Ægir Bryggeri",
            "AleSmith Brewing Company",
            "Russian River Brewing Company",
            "Brasserie de Rochefort",
            "Hopworks Urban Brewery",
            "Beer Here",
            "Hart & Thistle"
           ]
          }
         ],
         "layout": {
          "bargap": 0.15,
          "font": {
           "size": 14
          },
          "plot_bgcolor": "#FFFFFF",
          "title": {
           "text": "Weighted Top 10 beers in the world from 2000 to 2017"
          },
          "xaxis": {
           "range": [
            0,
            0.77
           ],
           "showline": true,
           "visible": true
          },
          "yaxis": {
           "showline": false,
           "visible": true
          }
         },
         "name": "2009"
        },
        {
         "data": [
          {
           "cliponaxis": false,
           "hoverinfo": "all",
           "hovertemplate": "<extra></extra>",
           "marker": {
            "color": [
             "rgb(192, 154, 238)",
             "rgb(119, 144, 38)",
             "rgb(171, 63, 166)",
             "rgb(90, 108, 7)",
             "rgb(102, 139, 240)",
             "rgb(165, 225, 88)",
             "rgb(121, 58, 225)",
             "rgb(161, 183, 44)",
             "rgb(154, 87, 225)",
             "rgb(37, 2, 193)"
            ]
           },
           "orientation": "h",
           "textangle": 0,
           "textposition": "outside",
           "texttemplate": "%{y}<br>%{x:.4s}",
           "type": "bar",
           "x": [
            0.11,
            0.11,
            0.12,
            0.13,
            0.13,
            0.14,
            0.18,
            0.18,
            0.24,
            0.31
           ],
           "y": [
            "Brasserie de Rochefort",
            "Klosterbrauerei Andechs",
            "Dix BBQ & Brewery",
            "Brasserie Cantillon",
            "Captain Lawrence Brewing Co.",
            "Russian River Brewing Company",
            "Rohrbach Brewing Company (Brewpub)",
            "Duggans Brewery",
            "Beer Here",
            "Hart & Thistle"
           ]
          }
         ],
         "layout": {
          "bargap": 0.15,
          "font": {
           "size": 14
          },
          "plot_bgcolor": "#FFFFFF",
          "title": {
           "text": "Weighted Top 10 beers in the world from 2000 to 2017"
          },
          "xaxis": {
           "range": [
            0,
            0.77
           ],
           "showline": true,
           "visible": true
          },
          "yaxis": {
           "showline": false,
           "visible": true
          }
         },
         "name": "2010"
        },
        {
         "data": [
          {
           "cliponaxis": false,
           "hoverinfo": "all",
           "hovertemplate": "<extra></extra>",
           "marker": {
            "color": [
             "rgb(216, 40, 163)",
             "rgb(102, 139, 240)",
             "rgb(192, 154, 238)",
             "rgb(242, 217, 77)",
             "rgb(185, 232, 97)",
             "rgb(90, 108, 7)",
             "rgb(0, 90, 113)",
             "rgb(72, 55, 65)",
             "rgb(86, 228, 161)",
             "rgb(37, 2, 193)"
            ]
           },
           "orientation": "h",
           "textangle": 0,
           "textposition": "outside",
           "texttemplate": "%{y}<br>%{x:.4s}",
           "type": "bar",
           "x": [
            0.11,
            0.11,
            0.11,
            0.11,
            0.12,
            0.13,
            0.15,
            0.16,
            0.18,
            0.3
           ],
           "y": [
            "Beachwood BBQ & Brewing",
            "Captain Lawrence Brewing Co.",
            "Brasserie de Rochefort",
            "Taps Brewing &#40;Sydicate&#41;",
            "Nebraska Brewing Company",
            "Brasserie Cantillon",
            "Hill Farmstead Brewery",
            "Brouwerij 3 Fonteinen",
            "House Ales",
            "Hart & Thistle"
           ]
          }
         ],
         "layout": {
          "bargap": 0.15,
          "font": {
           "size": 14
          },
          "plot_bgcolor": "#FFFFFF",
          "title": {
           "text": "Weighted Top 10 beers in the world from 2000 to 2017"
          },
          "xaxis": {
           "range": [
            0,
            0.77
           ],
           "showline": true,
           "visible": true
          },
          "yaxis": {
           "showline": false,
           "visible": true
          }
         },
         "name": "2011"
        },
        {
         "data": [
          {
           "cliponaxis": false,
           "hoverinfo": "all",
           "hovertemplate": "<extra></extra>",
           "marker": {
            "color": [
             "rgb(10, 111, 247)",
             "rgb(90, 108, 7)",
             "rgb(79, 23, 8)",
             "rgb(192, 154, 238)",
             "rgb(161, 73, 156)",
             "rgb(0, 90, 113)",
             "rgb(162, 181, 96)",
             "rgb(160, 143, 44)",
             "rgb(132, 180, 58)",
             "rgb(86, 228, 161)"
            ]
           },
           "orientation": "h",
           "textangle": 0,
           "textposition": "outside",
           "texttemplate": "%{y}<br>%{x:.4s}",
           "type": "bar",
           "x": [
            0.16,
            0.16,
            0.17,
            0.18,
            0.2,
            0.2,
            0.21,
            0.21,
            0.22,
            0.23
           ],
           "y": [
            "Ölvisholt Brugghús",
            "Brasserie Cantillon",
            "Ale Industries",
            "Brasserie de Rochefort",
            "Logsdon Farmhouse Ales",
            "Hill Farmstead Brewery",
            "8 Wired Brewing Co.",
            "Windsor & Eton Brewery",
            "Anchorage Brewing Company",
            "House Ales"
           ]
          }
         ],
         "layout": {
          "bargap": 0.15,
          "font": {
           "size": 14
          },
          "plot_bgcolor": "#FFFFFF",
          "title": {
           "text": "Weighted Top 10 beers in the world from 2000 to 2017"
          },
          "xaxis": {
           "range": [
            0,
            0.77
           ],
           "showline": true,
           "visible": true
          },
          "yaxis": {
           "showline": false,
           "visible": true
          }
         },
         "name": "2012"
        },
        {
         "data": [
          {
           "cliponaxis": false,
           "hoverinfo": "all",
           "hovertemplate": "<extra></extra>",
           "marker": {
            "color": [
             "rgb(36, 63, 66)",
             "rgb(207, 29, 190)",
             "rgb(106, 109, 192)",
             "rgb(0, 90, 113)",
             "rgb(244, 74, 35)",
             "rgb(72, 55, 65)",
             "rgb(4, 188, 235)",
             "rgb(161, 73, 156)",
             "rgb(39, 16, 238)",
             "rgb(222, 139, 163)"
            ]
           },
           "orientation": "h",
           "textangle": 0,
           "textposition": "outside",
           "texttemplate": "%{y}<br>%{x:.4s}",
           "type": "bar",
           "x": [
            0.17,
            0.19,
            0.2,
            0.2,
            0.21,
            0.21,
            0.22,
            0.24,
            0.26,
            0.29
           ],
           "y": [
            "Partizan Brewery",
            "Toppling Goliath Brewing Company",
            "Maine Beer Company",
            "Hill Farmstead Brewery",
            "Sante Adairius Rustic Ales",
            "Brouwerij 3 Fonteinen",
            "Jukebox",
            "Logsdon Farmhouse Ales",
            "Societe Brewing Co.",
            "Blue Lobster Brewing Company"
           ]
          }
         ],
         "layout": {
          "bargap": 0.15,
          "font": {
           "size": 14
          },
          "plot_bgcolor": "#FFFFFF",
          "title": {
           "text": "Weighted Top 10 beers in the world from 2000 to 2017"
          },
          "xaxis": {
           "range": [
            0,
            0.77
           ],
           "showline": true,
           "visible": true
          },
          "yaxis": {
           "showline": false,
           "visible": true
          }
         },
         "name": "2013"
        },
        {
         "data": [
          {
           "cliponaxis": false,
           "hoverinfo": "all",
           "hovertemplate": "<extra></extra>",
           "marker": {
            "color": [
             "rgb(48, 100, 204)",
             "rgb(244, 74, 35)",
             "rgb(8, 132, 223)",
             "rgb(106, 109, 192)",
             "rgb(84, 224, 159)",
             "rgb(119, 240, 231)",
             "rgb(188, 0, 10)",
             "rgb(38, 253, 51)",
             "rgb(220, 30, 14)",
             "rgb(207, 29, 190)"
            ]
           },
           "orientation": "h",
           "textangle": 0,
           "textposition": "outside",
           "texttemplate": "%{y}<br>%{x:.4s}",
           "type": "bar",
           "x": [
            0.16,
            0.16,
            0.16,
            0.18,
            0.19,
            0.2,
            0.21,
            0.27,
            0.36,
            0.4
           ],
           "y": [
            "Beer Academy",
            "Sante Adairius Rustic Ales",
            "Rockbottom Brewpub",
            "Maine Beer Company",
            "Grassroots Brewing",
            "North Brewing Co.",
            "Cellarmaker Brewing Co.",
            "Lawson's Finest Liquids",
            "Fiddlehead Brewing Company",
            "Toppling Goliath Brewing Company"
           ]
          }
         ],
         "layout": {
          "bargap": 0.15,
          "font": {
           "size": 14
          },
          "plot_bgcolor": "#FFFFFF",
          "title": {
           "text": "Weighted Top 10 beers in the world from 2000 to 2017"
          },
          "xaxis": {
           "range": [
            0,
            0.77
           ],
           "showline": true,
           "visible": true
          },
          "yaxis": {
           "showline": false,
           "visible": true
          }
         },
         "name": "2014"
        },
        {
         "data": [
          {
           "cliponaxis": false,
           "hoverinfo": "all",
           "hovertemplate": "<extra></extra>",
           "marker": {
            "color": [
             "rgb(78, 143, 251)",
             "rgb(90, 30, 230)",
             "rgb(160, 112, 10)",
             "rgb(124, 43, 175)",
             "rgb(204, 143, 160)",
             "rgb(207, 29, 190)",
             "rgb(9, 43, 163)",
             "rgb(220, 30, 14)",
             "rgb(73, 93, 223)",
             "rgb(225, 252, 210)"
            ]
           },
           "orientation": "h",
           "textangle": 0,
           "textposition": "outside",
           "texttemplate": "%{y}<br>%{x:.4s}",
           "type": "bar",
           "x": [
            0.25,
            0.26,
            0.27,
            0.28,
            0.31,
            0.31,
            0.32,
            0.34,
            0.35,
            0.35
           ],
           "y": [
            "Kehrwieder Kreativbrauerei",
            "Zmajska Pivovara",
            "Brekeriet",
            "Passarola Brewing",
            "Manantler Brewing",
            "Toppling Goliath Brewing Company",
            "Orpheus Brewing",
            "Fiddlehead Brewing Company",
            "Bissell Brothers Brewing Co.",
            "Stoneface Brewing Co."
           ]
          }
         ],
         "layout": {
          "bargap": 0.15,
          "font": {
           "size": 14
          },
          "plot_bgcolor": "#FFFFFF",
          "title": {
           "text": "Weighted Top 10 beers in the world from 2000 to 2017"
          },
          "xaxis": {
           "range": [
            0,
            0.77
           ],
           "showline": true,
           "visible": true
          },
          "yaxis": {
           "showline": false,
           "visible": true
          }
         },
         "name": "2015"
        },
        {
         "data": [
          {
           "cliponaxis": false,
           "hoverinfo": "all",
           "hovertemplate": "<extra></extra>",
           "marker": {
            "color": [
             "rgb(179, 25, 1)",
             "rgb(101, 150, 3)",
             "rgb(53, 22, 192)",
             "rgb(239, 2, 202)",
             "rgb(73, 93, 223)",
             "rgb(65, 75, 59)",
             "rgb(5, 127, 71)",
             "rgb(168, 92, 230)",
             "rgb(89, 12, 14)",
             "rgb(211, 245, 33)"
            ]
           },
           "orientation": "h",
           "textangle": 0,
           "textposition": "outside",
           "texttemplate": "%{y}<br>%{x:.4s}",
           "type": "bar",
           "x": [
            0.32,
            0.34,
            0.35,
            0.35,
            0.35,
            0.36,
            0.42,
            0.44,
            0.45,
            0.77
           ],
           "y": [
            "Straight To Ale",
            "Microbrasserie Vox Populi",
            "Grimm Artisanal Ales",
            "Brasserie Auval",
            "Bissell Brothers Brewing Co.",
            "Unfiltered Brewing",
            "Noctem Artisans Brasseurs",
            "Stigbergets Bryggeri",
            "Sutton Brouërie",
            "Brasserie Auval Brewing Co."
           ]
          }
         ],
         "layout": {
          "bargap": 0.15,
          "font": {
           "size": 14
          },
          "plot_bgcolor": "#FFFFFF",
          "title": {
           "text": "Weighted Top 10 beers in the world from 2000 to 2017"
          },
          "xaxis": {
           "range": [
            0,
            0.77
           ],
           "showline": true,
           "visible": true
          },
          "yaxis": {
           "showline": false,
           "visible": true
          }
         },
         "name": "2016"
        },
        {
         "data": [
          {
           "cliponaxis": false,
           "hoverinfo": "all",
           "hovertemplate": "<extra></extra>",
           "marker": {
            "color": [
             "rgb(50, 93, 53)",
             "rgb(20, 66, 245)",
             "rgb(151, 122, 196)",
             "rgb(174, 131, 137)",
             "rgb(175, 54, 248)",
             "rgb(92, 158, 128)",
             "rgb(101, 150, 3)",
             "rgb(149, 95, 44)",
             "rgb(42, 46, 252)",
             "rgb(168, 92, 230)"
            ]
           },
           "orientation": "h",
           "textangle": 0,
           "textposition": "outside",
           "texttemplate": "%{y}<br>%{x:.4s}",
           "type": "bar",
           "x": [
            0.28,
            0.3,
            0.31,
            0.33,
            0.37,
            0.42,
            0.49,
            0.52,
            0.56,
            0.69
           ],
           "y": [
            "Redline Brewhouse",
            "Ground Zero",
            "Nova Runda",
            "Bereta Brewing Co.",
            "Twin Sails Brewing",
            "Hop Hooligans",
            "Microbrasserie Vox Populi",
            "Microbrasserie Maltstrom",
            "Cloudwater Brew Co.",
            "Stigbergets Bryggeri"
           ]
          }
         ],
         "layout": {
          "bargap": 0.15,
          "font": {
           "size": 14
          },
          "plot_bgcolor": "#FFFFFF",
          "title": {
           "text": "Weighted Top 10 beers in the world from 2000 to 2017"
          },
          "xaxis": {
           "range": [
            0,
            0.77
           ],
           "showline": true,
           "visible": true
          },
          "yaxis": {
           "showline": false,
           "visible": true
          }
         },
         "name": "2017"
        }
       ],
       "layout": {
        "bargap": 0.15,
        "font": {
         "size": 14
        },
        "plot_bgcolor": "#FFFFFF",
        "sliders": [
         {
          "active": 0,
          "currentvalue": {
           "font": {
            "size": 20
           },
           "prefix": "Date: ",
           "visible": true,
           "xanchor": "right"
          },
          "len": 0.9,
          "pad": {
           "b": 10,
           "t": 50
          },
          "steps": [
           {
            "args": [
             [
              "1998"
             ],
             {
              "frame": {
               "duration": 800,
               "redraw": false
              },
              "mode": "immediate",
              "transition": {
               "duration": 800
              }
             }
            ],
            "label": "1998",
            "method": "animate"
           },
           {
            "args": [
             [
              "2000"
             ],
             {
              "frame": {
               "duration": 800,
               "redraw": false
              },
              "mode": "immediate",
              "transition": {
               "duration": 800
              }
             }
            ],
            "label": "2000",
            "method": "animate"
           },
           {
            "args": [
             [
              "2001"
             ],
             {
              "frame": {
               "duration": 800,
               "redraw": false
              },
              "mode": "immediate",
              "transition": {
               "duration": 800
              }
             }
            ],
            "label": "2001",
            "method": "animate"
           },
           {
            "args": [
             [
              "2002"
             ],
             {
              "frame": {
               "duration": 800,
               "redraw": false
              },
              "mode": "immediate",
              "transition": {
               "duration": 800
              }
             }
            ],
            "label": "2002",
            "method": "animate"
           },
           {
            "args": [
             [
              "2003"
             ],
             {
              "frame": {
               "duration": 800,
               "redraw": false
              },
              "mode": "immediate",
              "transition": {
               "duration": 800
              }
             }
            ],
            "label": "2003",
            "method": "animate"
           },
           {
            "args": [
             [
              "2004"
             ],
             {
              "frame": {
               "duration": 800,
               "redraw": false
              },
              "mode": "immediate",
              "transition": {
               "duration": 800
              }
             }
            ],
            "label": "2004",
            "method": "animate"
           },
           {
            "args": [
             [
              "2005"
             ],
             {
              "frame": {
               "duration": 800,
               "redraw": false
              },
              "mode": "immediate",
              "transition": {
               "duration": 800
              }
             }
            ],
            "label": "2005",
            "method": "animate"
           },
           {
            "args": [
             [
              "2006"
             ],
             {
              "frame": {
               "duration": 800,
               "redraw": false
              },
              "mode": "immediate",
              "transition": {
               "duration": 800
              }
             }
            ],
            "label": "2006",
            "method": "animate"
           },
           {
            "args": [
             [
              "2007"
             ],
             {
              "frame": {
               "duration": 800,
               "redraw": false
              },
              "mode": "immediate",
              "transition": {
               "duration": 800
              }
             }
            ],
            "label": "2007",
            "method": "animate"
           },
           {
            "args": [
             [
              "2008"
             ],
             {
              "frame": {
               "duration": 800,
               "redraw": false
              },
              "mode": "immediate",
              "transition": {
               "duration": 800
              }
             }
            ],
            "label": "2008",
            "method": "animate"
           },
           {
            "args": [
             [
              "2009"
             ],
             {
              "frame": {
               "duration": 800,
               "redraw": false
              },
              "mode": "immediate",
              "transition": {
               "duration": 800
              }
             }
            ],
            "label": "2009",
            "method": "animate"
           },
           {
            "args": [
             [
              "2010"
             ],
             {
              "frame": {
               "duration": 800,
               "redraw": false
              },
              "mode": "immediate",
              "transition": {
               "duration": 800
              }
             }
            ],
            "label": "2010",
            "method": "animate"
           },
           {
            "args": [
             [
              "2011"
             ],
             {
              "frame": {
               "duration": 800,
               "redraw": false
              },
              "mode": "immediate",
              "transition": {
               "duration": 800
              }
             }
            ],
            "label": "2011",
            "method": "animate"
           },
           {
            "args": [
             [
              "2012"
             ],
             {
              "frame": {
               "duration": 800,
               "redraw": false
              },
              "mode": "immediate",
              "transition": {
               "duration": 800
              }
             }
            ],
            "label": "2012",
            "method": "animate"
           },
           {
            "args": [
             [
              "2013"
             ],
             {
              "frame": {
               "duration": 800,
               "redraw": false
              },
              "mode": "immediate",
              "transition": {
               "duration": 800
              }
             }
            ],
            "label": "2013",
            "method": "animate"
           },
           {
            "args": [
             [
              "2014"
             ],
             {
              "frame": {
               "duration": 800,
               "redraw": false
              },
              "mode": "immediate",
              "transition": {
               "duration": 800
              }
             }
            ],
            "label": "2014",
            "method": "animate"
           },
           {
            "args": [
             [
              "2015"
             ],
             {
              "frame": {
               "duration": 800,
               "redraw": false
              },
              "mode": "immediate",
              "transition": {
               "duration": 800
              }
             }
            ],
            "label": "2015",
            "method": "animate"
           },
           {
            "args": [
             [
              "2016"
             ],
             {
              "frame": {
               "duration": 800,
               "redraw": false
              },
              "mode": "immediate",
              "transition": {
               "duration": 800
              }
             }
            ],
            "label": "2016",
            "method": "animate"
           },
           {
            "args": [
             [
              "2017"
             ],
             {
              "frame": {
               "duration": 800,
               "redraw": false
              },
              "mode": "immediate",
              "transition": {
               "duration": 800
              }
             }
            ],
            "label": "2017",
            "method": "animate"
           }
          ],
          "transition": {
           "duration": 300,
           "easing": "cubic-in-out"
          },
          "x": 0.1,
          "xanchor": "left",
          "y": 0,
          "yanchor": "top"
         }
        ],
        "template": {
         "data": {
          "bar": [
           {
            "error_x": {
             "color": "#2a3f5f"
            },
            "error_y": {
             "color": "#2a3f5f"
            },
            "marker": {
             "line": {
              "color": "#E5ECF6",
              "width": 0.5
             },
             "pattern": {
              "fillmode": "overlay",
              "size": 10,
              "solidity": 0.2
             }
            },
            "type": "bar"
           }
          ],
          "barpolar": [
           {
            "marker": {
             "line": {
              "color": "#E5ECF6",
              "width": 0.5
             },
             "pattern": {
              "fillmode": "overlay",
              "size": 10,
              "solidity": 0.2
             }
            },
            "type": "barpolar"
           }
          ],
          "carpet": [
           {
            "aaxis": {
             "endlinecolor": "#2a3f5f",
             "gridcolor": "white",
             "linecolor": "white",
             "minorgridcolor": "white",
             "startlinecolor": "#2a3f5f"
            },
            "baxis": {
             "endlinecolor": "#2a3f5f",
             "gridcolor": "white",
             "linecolor": "white",
             "minorgridcolor": "white",
             "startlinecolor": "#2a3f5f"
            },
            "type": "carpet"
           }
          ],
          "choropleth": [
           {
            "colorbar": {
             "outlinewidth": 0,
             "ticks": ""
            },
            "type": "choropleth"
           }
          ],
          "contour": [
           {
            "colorbar": {
             "outlinewidth": 0,
             "ticks": ""
            },
            "colorscale": [
             [
              0,
              "#0d0887"
             ],
             [
              0.1111111111111111,
              "#46039f"
             ],
             [
              0.2222222222222222,
              "#7201a8"
             ],
             [
              0.3333333333333333,
              "#9c179e"
             ],
             [
              0.4444444444444444,
              "#bd3786"
             ],
             [
              0.5555555555555556,
              "#d8576b"
             ],
             [
              0.6666666666666666,
              "#ed7953"
             ],
             [
              0.7777777777777778,
              "#fb9f3a"
             ],
             [
              0.8888888888888888,
              "#fdca26"
             ],
             [
              1,
              "#f0f921"
             ]
            ],
            "type": "contour"
           }
          ],
          "contourcarpet": [
           {
            "colorbar": {
             "outlinewidth": 0,
             "ticks": ""
            },
            "type": "contourcarpet"
           }
          ],
          "heatmap": [
           {
            "colorbar": {
             "outlinewidth": 0,
             "ticks": ""
            },
            "colorscale": [
             [
              0,
              "#0d0887"
             ],
             [
              0.1111111111111111,
              "#46039f"
             ],
             [
              0.2222222222222222,
              "#7201a8"
             ],
             [
              0.3333333333333333,
              "#9c179e"
             ],
             [
              0.4444444444444444,
              "#bd3786"
             ],
             [
              0.5555555555555556,
              "#d8576b"
             ],
             [
              0.6666666666666666,
              "#ed7953"
             ],
             [
              0.7777777777777778,
              "#fb9f3a"
             ],
             [
              0.8888888888888888,
              "#fdca26"
             ],
             [
              1,
              "#f0f921"
             ]
            ],
            "type": "heatmap"
           }
          ],
          "heatmapgl": [
           {
            "colorbar": {
             "outlinewidth": 0,
             "ticks": ""
            },
            "colorscale": [
             [
              0,
              "#0d0887"
             ],
             [
              0.1111111111111111,
              "#46039f"
             ],
             [
              0.2222222222222222,
              "#7201a8"
             ],
             [
              0.3333333333333333,
              "#9c179e"
             ],
             [
              0.4444444444444444,
              "#bd3786"
             ],
             [
              0.5555555555555556,
              "#d8576b"
             ],
             [
              0.6666666666666666,
              "#ed7953"
             ],
             [
              0.7777777777777778,
              "#fb9f3a"
             ],
             [
              0.8888888888888888,
              "#fdca26"
             ],
             [
              1,
              "#f0f921"
             ]
            ],
            "type": "heatmapgl"
           }
          ],
          "histogram": [
           {
            "marker": {
             "pattern": {
              "fillmode": "overlay",
              "size": 10,
              "solidity": 0.2
             }
            },
            "type": "histogram"
           }
          ],
          "histogram2d": [
           {
            "colorbar": {
             "outlinewidth": 0,
             "ticks": ""
            },
            "colorscale": [
             [
              0,
              "#0d0887"
             ],
             [
              0.1111111111111111,
              "#46039f"
             ],
             [
              0.2222222222222222,
              "#7201a8"
             ],
             [
              0.3333333333333333,
              "#9c179e"
             ],
             [
              0.4444444444444444,
              "#bd3786"
             ],
             [
              0.5555555555555556,
              "#d8576b"
             ],
             [
              0.6666666666666666,
              "#ed7953"
             ],
             [
              0.7777777777777778,
              "#fb9f3a"
             ],
             [
              0.8888888888888888,
              "#fdca26"
             ],
             [
              1,
              "#f0f921"
             ]
            ],
            "type": "histogram2d"
           }
          ],
          "histogram2dcontour": [
           {
            "colorbar": {
             "outlinewidth": 0,
             "ticks": ""
            },
            "colorscale": [
             [
              0,
              "#0d0887"
             ],
             [
              0.1111111111111111,
              "#46039f"
             ],
             [
              0.2222222222222222,
              "#7201a8"
             ],
             [
              0.3333333333333333,
              "#9c179e"
             ],
             [
              0.4444444444444444,
              "#bd3786"
             ],
             [
              0.5555555555555556,
              "#d8576b"
             ],
             [
              0.6666666666666666,
              "#ed7953"
             ],
             [
              0.7777777777777778,
              "#fb9f3a"
             ],
             [
              0.8888888888888888,
              "#fdca26"
             ],
             [
              1,
              "#f0f921"
             ]
            ],
            "type": "histogram2dcontour"
           }
          ],
          "mesh3d": [
           {
            "colorbar": {
             "outlinewidth": 0,
             "ticks": ""
            },
            "type": "mesh3d"
           }
          ],
          "parcoords": [
           {
            "line": {
             "colorbar": {
              "outlinewidth": 0,
              "ticks": ""
             }
            },
            "type": "parcoords"
           }
          ],
          "pie": [
           {
            "automargin": true,
            "type": "pie"
           }
          ],
          "scatter": [
           {
            "fillpattern": {
             "fillmode": "overlay",
             "size": 10,
             "solidity": 0.2
            },
            "type": "scatter"
           }
          ],
          "scatter3d": [
           {
            "line": {
             "colorbar": {
              "outlinewidth": 0,
              "ticks": ""
             }
            },
            "marker": {
             "colorbar": {
              "outlinewidth": 0,
              "ticks": ""
             }
            },
            "type": "scatter3d"
           }
          ],
          "scattercarpet": [
           {
            "marker": {
             "colorbar": {
              "outlinewidth": 0,
              "ticks": ""
             }
            },
            "type": "scattercarpet"
           }
          ],
          "scattergeo": [
           {
            "marker": {
             "colorbar": {
              "outlinewidth": 0,
              "ticks": ""
             }
            },
            "type": "scattergeo"
           }
          ],
          "scattergl": [
           {
            "marker": {
             "colorbar": {
              "outlinewidth": 0,
              "ticks": ""
             }
            },
            "type": "scattergl"
           }
          ],
          "scattermapbox": [
           {
            "marker": {
             "colorbar": {
              "outlinewidth": 0,
              "ticks": ""
             }
            },
            "type": "scattermapbox"
           }
          ],
          "scatterpolar": [
           {
            "marker": {
             "colorbar": {
              "outlinewidth": 0,
              "ticks": ""
             }
            },
            "type": "scatterpolar"
           }
          ],
          "scatterpolargl": [
           {
            "marker": {
             "colorbar": {
              "outlinewidth": 0,
              "ticks": ""
             }
            },
            "type": "scatterpolargl"
           }
          ],
          "scatterternary": [
           {
            "marker": {
             "colorbar": {
              "outlinewidth": 0,
              "ticks": ""
             }
            },
            "type": "scatterternary"
           }
          ],
          "surface": [
           {
            "colorbar": {
             "outlinewidth": 0,
             "ticks": ""
            },
            "colorscale": [
             [
              0,
              "#0d0887"
             ],
             [
              0.1111111111111111,
              "#46039f"
             ],
             [
              0.2222222222222222,
              "#7201a8"
             ],
             [
              0.3333333333333333,
              "#9c179e"
             ],
             [
              0.4444444444444444,
              "#bd3786"
             ],
             [
              0.5555555555555556,
              "#d8576b"
             ],
             [
              0.6666666666666666,
              "#ed7953"
             ],
             [
              0.7777777777777778,
              "#fb9f3a"
             ],
             [
              0.8888888888888888,
              "#fdca26"
             ],
             [
              1,
              "#f0f921"
             ]
            ],
            "type": "surface"
           }
          ],
          "table": [
           {
            "cells": {
             "fill": {
              "color": "#EBF0F8"
             },
             "line": {
              "color": "white"
             }
            },
            "header": {
             "fill": {
              "color": "#C8D4E3"
             },
             "line": {
              "color": "white"
             }
            },
            "type": "table"
           }
          ]
         },
         "layout": {
          "annotationdefaults": {
           "arrowcolor": "#2a3f5f",
           "arrowhead": 0,
           "arrowwidth": 1
          },
          "autotypenumbers": "strict",
          "coloraxis": {
           "colorbar": {
            "outlinewidth": 0,
            "ticks": ""
           }
          },
          "colorscale": {
           "diverging": [
            [
             0,
             "#8e0152"
            ],
            [
             0.1,
             "#c51b7d"
            ],
            [
             0.2,
             "#de77ae"
            ],
            [
             0.3,
             "#f1b6da"
            ],
            [
             0.4,
             "#fde0ef"
            ],
            [
             0.5,
             "#f7f7f7"
            ],
            [
             0.6,
             "#e6f5d0"
            ],
            [
             0.7,
             "#b8e186"
            ],
            [
             0.8,
             "#7fbc41"
            ],
            [
             0.9,
             "#4d9221"
            ],
            [
             1,
             "#276419"
            ]
           ],
           "sequential": [
            [
             0,
             "#0d0887"
            ],
            [
             0.1111111111111111,
             "#46039f"
            ],
            [
             0.2222222222222222,
             "#7201a8"
            ],
            [
             0.3333333333333333,
             "#9c179e"
            ],
            [
             0.4444444444444444,
             "#bd3786"
            ],
            [
             0.5555555555555556,
             "#d8576b"
            ],
            [
             0.6666666666666666,
             "#ed7953"
            ],
            [
             0.7777777777777778,
             "#fb9f3a"
            ],
            [
             0.8888888888888888,
             "#fdca26"
            ],
            [
             1,
             "#f0f921"
            ]
           ],
           "sequentialminus": [
            [
             0,
             "#0d0887"
            ],
            [
             0.1111111111111111,
             "#46039f"
            ],
            [
             0.2222222222222222,
             "#7201a8"
            ],
            [
             0.3333333333333333,
             "#9c179e"
            ],
            [
             0.4444444444444444,
             "#bd3786"
            ],
            [
             0.5555555555555556,
             "#d8576b"
            ],
            [
             0.6666666666666666,
             "#ed7953"
            ],
            [
             0.7777777777777778,
             "#fb9f3a"
            ],
            [
             0.8888888888888888,
             "#fdca26"
            ],
            [
             1,
             "#f0f921"
            ]
           ]
          },
          "colorway": [
           "#636efa",
           "#EF553B",
           "#00cc96",
           "#ab63fa",
           "#FFA15A",
           "#19d3f3",
           "#FF6692",
           "#B6E880",
           "#FF97FF",
           "#FECB52"
          ],
          "font": {
           "color": "#2a3f5f"
          },
          "geo": {
           "bgcolor": "white",
           "lakecolor": "white",
           "landcolor": "#E5ECF6",
           "showlakes": true,
           "showland": true,
           "subunitcolor": "white"
          },
          "hoverlabel": {
           "align": "left"
          },
          "hovermode": "closest",
          "mapbox": {
           "style": "light"
          },
          "paper_bgcolor": "white",
          "plot_bgcolor": "#E5ECF6",
          "polar": {
           "angularaxis": {
            "gridcolor": "white",
            "linecolor": "white",
            "ticks": ""
           },
           "bgcolor": "#E5ECF6",
           "radialaxis": {
            "gridcolor": "white",
            "linecolor": "white",
            "ticks": ""
           }
          },
          "scene": {
           "xaxis": {
            "backgroundcolor": "#E5ECF6",
            "gridcolor": "white",
            "gridwidth": 2,
            "linecolor": "white",
            "showbackground": true,
            "ticks": "",
            "zerolinecolor": "white"
           },
           "yaxis": {
            "backgroundcolor": "#E5ECF6",
            "gridcolor": "white",
            "gridwidth": 2,
            "linecolor": "white",
            "showbackground": true,
            "ticks": "",
            "zerolinecolor": "white"
           },
           "zaxis": {
            "backgroundcolor": "#E5ECF6",
            "gridcolor": "white",
            "gridwidth": 2,
            "linecolor": "white",
            "showbackground": true,
            "ticks": "",
            "zerolinecolor": "white"
           }
          },
          "shapedefaults": {
           "line": {
            "color": "#2a3f5f"
           }
          },
          "ternary": {
           "aaxis": {
            "gridcolor": "white",
            "linecolor": "white",
            "ticks": ""
           },
           "baxis": {
            "gridcolor": "white",
            "linecolor": "white",
            "ticks": ""
           },
           "bgcolor": "#E5ECF6",
           "caxis": {
            "gridcolor": "white",
            "linecolor": "white",
            "ticks": ""
           }
          },
          "title": {
           "x": 0.05
          },
          "xaxis": {
           "automargin": true,
           "gridcolor": "white",
           "linecolor": "white",
           "ticks": "",
           "title": {
            "standoff": 15
           },
           "zerolinecolor": "white",
           "zerolinewidth": 2
          },
          "yaxis": {
           "automargin": true,
           "gridcolor": "white",
           "linecolor": "white",
           "ticks": "",
           "title": {
            "standoff": 15
           },
           "zerolinecolor": "white",
           "zerolinewidth": 2
          }
         }
        },
        "title": {
         "text": "Weighted Top 10 beers in the world from 2000 to 2017"
        },
        "updatemenus": [
         {
          "buttons": [
           {
            "args": [
             null,
             {
              "frame": {
               "duration": 800,
               "redraw": false
              },
              "fromcurrent": true,
              "transition": {
               "duration": 800,
               "easing": "quadratic-in-out"
              }
             }
            ],
            "label": "Play",
            "method": "animate"
           },
           {
            "args": [
             [
              null
             ],
             {
              "frame": {
               "duration": 0,
               "redraw": false
              },
              "mode": "immediate",
              "transition": {
               "duration": 0
              }
             }
            ],
            "label": "Pause",
            "method": "animate"
           }
          ],
          "direction": "left",
          "pad": {
           "r": 10,
           "t": 87
          },
          "showactive": true,
          "type": "buttons",
          "x": 0.1,
          "xanchor": "right",
          "y": 0,
          "yanchor": "top"
         }
        ],
        "xaxis": {
         "range": [
          0,
          0.77
         ],
         "showline": true,
         "showticklabels": true,
         "title": {
          "text": "Weighted rating"
         },
         "visible": true
        },
        "yaxis": {
         "showline": false,
         "showticklabels": false,
         "title": {
          "text": "Top 10 "
         },
         "visible": true
        }
       }
      },
      "text/html": [
       "<div>                        <script type=\"text/javascript\">window.PlotlyConfig = {MathJaxConfig: 'local'};</script>\n",
       "        <script charset=\"utf-8\" src=\"https://cdn.plot.ly/plotly-2.27.0.min.js\"></script>                <div id=\"2df9936c-0360-44b5-b8f1-7c297d011c58\" class=\"plotly-graph-div\" style=\"height:100%; width:100%;\"></div>            <script type=\"text/javascript\">                                    window.PLOTLYENV=window.PLOTLYENV || {};                                    if (document.getElementById(\"2df9936c-0360-44b5-b8f1-7c297d011c58\")) {                    Plotly.newPlot(                        \"2df9936c-0360-44b5-b8f1-7c297d011c58\",                        [{\"cliponaxis\":false,\"hoverinfo\":\"all\",\"marker\":{\"color\":[\"rgb(209, 15, 97)\"]},\"orientation\":\"h\",\"textangle\":0,\"textposition\":\"outside\",\"texttemplate\":\"%{y}\\u003cbr\\u003e%{x:.4s}\",\"x\":[0.0],\"y\":[\"Whitbread PLC\"],\"type\":\"bar\"}],                        {\"bargap\":0.15,\"font\":{\"size\":14},\"plot_bgcolor\":\"#FFFFFF\",\"title\":{\"text\":\"Weighted Top 10 beers in the world from 2000 to 2017\"},\"xaxis\":{\"range\":[0,0.77],\"showline\":true,\"visible\":true,\"title\":{\"text\":\"Weighted rating\"},\"showticklabels\":true},\"yaxis\":{\"showline\":false,\"visible\":true,\"title\":{\"text\":\"Top 10 \"},\"showticklabels\":false},\"template\":{\"data\":{\"histogram2dcontour\":[{\"type\":\"histogram2dcontour\",\"colorbar\":{\"outlinewidth\":0,\"ticks\":\"\"},\"colorscale\":[[0.0,\"#0d0887\"],[0.1111111111111111,\"#46039f\"],[0.2222222222222222,\"#7201a8\"],[0.3333333333333333,\"#9c179e\"],[0.4444444444444444,\"#bd3786\"],[0.5555555555555556,\"#d8576b\"],[0.6666666666666666,\"#ed7953\"],[0.7777777777777778,\"#fb9f3a\"],[0.8888888888888888,\"#fdca26\"],[1.0,\"#f0f921\"]]}],\"choropleth\":[{\"type\":\"choropleth\",\"colorbar\":{\"outlinewidth\":0,\"ticks\":\"\"}}],\"histogram2d\":[{\"type\":\"histogram2d\",\"colorbar\":{\"outlinewidth\":0,\"ticks\":\"\"},\"colorscale\":[[0.0,\"#0d0887\"],[0.1111111111111111,\"#46039f\"],[0.2222222222222222,\"#7201a8\"],[0.3333333333333333,\"#9c179e\"],[0.4444444444444444,\"#bd3786\"],[0.5555555555555556,\"#d8576b\"],[0.6666666666666666,\"#ed7953\"],[0.7777777777777778,\"#fb9f3a\"],[0.8888888888888888,\"#fdca26\"],[1.0,\"#f0f921\"]]}],\"heatmap\":[{\"type\":\"heatmap\",\"colorbar\":{\"outlinewidth\":0,\"ticks\":\"\"},\"colorscale\":[[0.0,\"#0d0887\"],[0.1111111111111111,\"#46039f\"],[0.2222222222222222,\"#7201a8\"],[0.3333333333333333,\"#9c179e\"],[0.4444444444444444,\"#bd3786\"],[0.5555555555555556,\"#d8576b\"],[0.6666666666666666,\"#ed7953\"],[0.7777777777777778,\"#fb9f3a\"],[0.8888888888888888,\"#fdca26\"],[1.0,\"#f0f921\"]]}],\"heatmapgl\":[{\"type\":\"heatmapgl\",\"colorbar\":{\"outlinewidth\":0,\"ticks\":\"\"},\"colorscale\":[[0.0,\"#0d0887\"],[0.1111111111111111,\"#46039f\"],[0.2222222222222222,\"#7201a8\"],[0.3333333333333333,\"#9c179e\"],[0.4444444444444444,\"#bd3786\"],[0.5555555555555556,\"#d8576b\"],[0.6666666666666666,\"#ed7953\"],[0.7777777777777778,\"#fb9f3a\"],[0.8888888888888888,\"#fdca26\"],[1.0,\"#f0f921\"]]}],\"contourcarpet\":[{\"type\":\"contourcarpet\",\"colorbar\":{\"outlinewidth\":0,\"ticks\":\"\"}}],\"contour\":[{\"type\":\"contour\",\"colorbar\":{\"outlinewidth\":0,\"ticks\":\"\"},\"colorscale\":[[0.0,\"#0d0887\"],[0.1111111111111111,\"#46039f\"],[0.2222222222222222,\"#7201a8\"],[0.3333333333333333,\"#9c179e\"],[0.4444444444444444,\"#bd3786\"],[0.5555555555555556,\"#d8576b\"],[0.6666666666666666,\"#ed7953\"],[0.7777777777777778,\"#fb9f3a\"],[0.8888888888888888,\"#fdca26\"],[1.0,\"#f0f921\"]]}],\"surface\":[{\"type\":\"surface\",\"colorbar\":{\"outlinewidth\":0,\"ticks\":\"\"},\"colorscale\":[[0.0,\"#0d0887\"],[0.1111111111111111,\"#46039f\"],[0.2222222222222222,\"#7201a8\"],[0.3333333333333333,\"#9c179e\"],[0.4444444444444444,\"#bd3786\"],[0.5555555555555556,\"#d8576b\"],[0.6666666666666666,\"#ed7953\"],[0.7777777777777778,\"#fb9f3a\"],[0.8888888888888888,\"#fdca26\"],[1.0,\"#f0f921\"]]}],\"mesh3d\":[{\"type\":\"mesh3d\",\"colorbar\":{\"outlinewidth\":0,\"ticks\":\"\"}}],\"scatter\":[{\"fillpattern\":{\"fillmode\":\"overlay\",\"size\":10,\"solidity\":0.2},\"type\":\"scatter\"}],\"parcoords\":[{\"type\":\"parcoords\",\"line\":{\"colorbar\":{\"outlinewidth\":0,\"ticks\":\"\"}}}],\"scatterpolargl\":[{\"type\":\"scatterpolargl\",\"marker\":{\"colorbar\":{\"outlinewidth\":0,\"ticks\":\"\"}}}],\"bar\":[{\"error_x\":{\"color\":\"#2a3f5f\"},\"error_y\":{\"color\":\"#2a3f5f\"},\"marker\":{\"line\":{\"color\":\"#E5ECF6\",\"width\":0.5},\"pattern\":{\"fillmode\":\"overlay\",\"size\":10,\"solidity\":0.2}},\"type\":\"bar\"}],\"scattergeo\":[{\"type\":\"scattergeo\",\"marker\":{\"colorbar\":{\"outlinewidth\":0,\"ticks\":\"\"}}}],\"scatterpolar\":[{\"type\":\"scatterpolar\",\"marker\":{\"colorbar\":{\"outlinewidth\":0,\"ticks\":\"\"}}}],\"histogram\":[{\"marker\":{\"pattern\":{\"fillmode\":\"overlay\",\"size\":10,\"solidity\":0.2}},\"type\":\"histogram\"}],\"scattergl\":[{\"type\":\"scattergl\",\"marker\":{\"colorbar\":{\"outlinewidth\":0,\"ticks\":\"\"}}}],\"scatter3d\":[{\"type\":\"scatter3d\",\"line\":{\"colorbar\":{\"outlinewidth\":0,\"ticks\":\"\"}},\"marker\":{\"colorbar\":{\"outlinewidth\":0,\"ticks\":\"\"}}}],\"scattermapbox\":[{\"type\":\"scattermapbox\",\"marker\":{\"colorbar\":{\"outlinewidth\":0,\"ticks\":\"\"}}}],\"scatterternary\":[{\"type\":\"scatterternary\",\"marker\":{\"colorbar\":{\"outlinewidth\":0,\"ticks\":\"\"}}}],\"scattercarpet\":[{\"type\":\"scattercarpet\",\"marker\":{\"colorbar\":{\"outlinewidth\":0,\"ticks\":\"\"}}}],\"carpet\":[{\"aaxis\":{\"endlinecolor\":\"#2a3f5f\",\"gridcolor\":\"white\",\"linecolor\":\"white\",\"minorgridcolor\":\"white\",\"startlinecolor\":\"#2a3f5f\"},\"baxis\":{\"endlinecolor\":\"#2a3f5f\",\"gridcolor\":\"white\",\"linecolor\":\"white\",\"minorgridcolor\":\"white\",\"startlinecolor\":\"#2a3f5f\"},\"type\":\"carpet\"}],\"table\":[{\"cells\":{\"fill\":{\"color\":\"#EBF0F8\"},\"line\":{\"color\":\"white\"}},\"header\":{\"fill\":{\"color\":\"#C8D4E3\"},\"line\":{\"color\":\"white\"}},\"type\":\"table\"}],\"barpolar\":[{\"marker\":{\"line\":{\"color\":\"#E5ECF6\",\"width\":0.5},\"pattern\":{\"fillmode\":\"overlay\",\"size\":10,\"solidity\":0.2}},\"type\":\"barpolar\"}],\"pie\":[{\"automargin\":true,\"type\":\"pie\"}]},\"layout\":{\"autotypenumbers\":\"strict\",\"colorway\":[\"#636efa\",\"#EF553B\",\"#00cc96\",\"#ab63fa\",\"#FFA15A\",\"#19d3f3\",\"#FF6692\",\"#B6E880\",\"#FF97FF\",\"#FECB52\"],\"font\":{\"color\":\"#2a3f5f\"},\"hovermode\":\"closest\",\"hoverlabel\":{\"align\":\"left\"},\"paper_bgcolor\":\"white\",\"plot_bgcolor\":\"#E5ECF6\",\"polar\":{\"bgcolor\":\"#E5ECF6\",\"angularaxis\":{\"gridcolor\":\"white\",\"linecolor\":\"white\",\"ticks\":\"\"},\"radialaxis\":{\"gridcolor\":\"white\",\"linecolor\":\"white\",\"ticks\":\"\"}},\"ternary\":{\"bgcolor\":\"#E5ECF6\",\"aaxis\":{\"gridcolor\":\"white\",\"linecolor\":\"white\",\"ticks\":\"\"},\"baxis\":{\"gridcolor\":\"white\",\"linecolor\":\"white\",\"ticks\":\"\"},\"caxis\":{\"gridcolor\":\"white\",\"linecolor\":\"white\",\"ticks\":\"\"}},\"coloraxis\":{\"colorbar\":{\"outlinewidth\":0,\"ticks\":\"\"}},\"colorscale\":{\"sequential\":[[0.0,\"#0d0887\"],[0.1111111111111111,\"#46039f\"],[0.2222222222222222,\"#7201a8\"],[0.3333333333333333,\"#9c179e\"],[0.4444444444444444,\"#bd3786\"],[0.5555555555555556,\"#d8576b\"],[0.6666666666666666,\"#ed7953\"],[0.7777777777777778,\"#fb9f3a\"],[0.8888888888888888,\"#fdca26\"],[1.0,\"#f0f921\"]],\"sequentialminus\":[[0.0,\"#0d0887\"],[0.1111111111111111,\"#46039f\"],[0.2222222222222222,\"#7201a8\"],[0.3333333333333333,\"#9c179e\"],[0.4444444444444444,\"#bd3786\"],[0.5555555555555556,\"#d8576b\"],[0.6666666666666666,\"#ed7953\"],[0.7777777777777778,\"#fb9f3a\"],[0.8888888888888888,\"#fdca26\"],[1.0,\"#f0f921\"]],\"diverging\":[[0,\"#8e0152\"],[0.1,\"#c51b7d\"],[0.2,\"#de77ae\"],[0.3,\"#f1b6da\"],[0.4,\"#fde0ef\"],[0.5,\"#f7f7f7\"],[0.6,\"#e6f5d0\"],[0.7,\"#b8e186\"],[0.8,\"#7fbc41\"],[0.9,\"#4d9221\"],[1,\"#276419\"]]},\"xaxis\":{\"gridcolor\":\"white\",\"linecolor\":\"white\",\"ticks\":\"\",\"title\":{\"standoff\":15},\"zerolinecolor\":\"white\",\"automargin\":true,\"zerolinewidth\":2},\"yaxis\":{\"gridcolor\":\"white\",\"linecolor\":\"white\",\"ticks\":\"\",\"title\":{\"standoff\":15},\"zerolinecolor\":\"white\",\"automargin\":true,\"zerolinewidth\":2},\"scene\":{\"xaxis\":{\"backgroundcolor\":\"#E5ECF6\",\"gridcolor\":\"white\",\"linecolor\":\"white\",\"showbackground\":true,\"ticks\":\"\",\"zerolinecolor\":\"white\",\"gridwidth\":2},\"yaxis\":{\"backgroundcolor\":\"#E5ECF6\",\"gridcolor\":\"white\",\"linecolor\":\"white\",\"showbackground\":true,\"ticks\":\"\",\"zerolinecolor\":\"white\",\"gridwidth\":2},\"zaxis\":{\"backgroundcolor\":\"#E5ECF6\",\"gridcolor\":\"white\",\"linecolor\":\"white\",\"showbackground\":true,\"ticks\":\"\",\"zerolinecolor\":\"white\",\"gridwidth\":2}},\"shapedefaults\":{\"line\":{\"color\":\"#2a3f5f\"}},\"annotationdefaults\":{\"arrowcolor\":\"#2a3f5f\",\"arrowhead\":0,\"arrowwidth\":1},\"geo\":{\"bgcolor\":\"white\",\"landcolor\":\"#E5ECF6\",\"subunitcolor\":\"white\",\"showland\":true,\"showlakes\":true,\"lakecolor\":\"white\"},\"title\":{\"x\":0.05},\"mapbox\":{\"style\":\"light\"}}},\"updatemenus\":[{\"buttons\":[{\"args\":[null,{\"frame\":{\"duration\":800,\"redraw\":false},\"fromcurrent\":true,\"transition\":{\"duration\":800,\"easing\":\"quadratic-in-out\"}}],\"label\":\"Play\",\"method\":\"animate\"},{\"args\":[[null],{\"frame\":{\"duration\":0,\"redraw\":false},\"mode\":\"immediate\",\"transition\":{\"duration\":0}}],\"label\":\"Pause\",\"method\":\"animate\"}],\"direction\":\"left\",\"pad\":{\"r\":10,\"t\":87},\"showactive\":true,\"type\":\"buttons\",\"x\":0.1,\"xanchor\":\"right\",\"y\":0,\"yanchor\":\"top\"}],\"sliders\":[{\"active\":0,\"currentvalue\":{\"font\":{\"size\":20},\"prefix\":\"Date: \",\"visible\":true,\"xanchor\":\"right\"},\"len\":0.9,\"pad\":{\"b\":10,\"t\":50},\"steps\":[{\"args\":[[\"1998\"],{\"frame\":{\"duration\":800,\"redraw\":false},\"mode\":\"immediate\",\"transition\":{\"duration\":800}}],\"label\":\"1998\",\"method\":\"animate\"},{\"args\":[[\"2000\"],{\"frame\":{\"duration\":800,\"redraw\":false},\"mode\":\"immediate\",\"transition\":{\"duration\":800}}],\"label\":\"2000\",\"method\":\"animate\"},{\"args\":[[\"2001\"],{\"frame\":{\"duration\":800,\"redraw\":false},\"mode\":\"immediate\",\"transition\":{\"duration\":800}}],\"label\":\"2001\",\"method\":\"animate\"},{\"args\":[[\"2002\"],{\"frame\":{\"duration\":800,\"redraw\":false},\"mode\":\"immediate\",\"transition\":{\"duration\":800}}],\"label\":\"2002\",\"method\":\"animate\"},{\"args\":[[\"2003\"],{\"frame\":{\"duration\":800,\"redraw\":false},\"mode\":\"immediate\",\"transition\":{\"duration\":800}}],\"label\":\"2003\",\"method\":\"animate\"},{\"args\":[[\"2004\"],{\"frame\":{\"duration\":800,\"redraw\":false},\"mode\":\"immediate\",\"transition\":{\"duration\":800}}],\"label\":\"2004\",\"method\":\"animate\"},{\"args\":[[\"2005\"],{\"frame\":{\"duration\":800,\"redraw\":false},\"mode\":\"immediate\",\"transition\":{\"duration\":800}}],\"label\":\"2005\",\"method\":\"animate\"},{\"args\":[[\"2006\"],{\"frame\":{\"duration\":800,\"redraw\":false},\"mode\":\"immediate\",\"transition\":{\"duration\":800}}],\"label\":\"2006\",\"method\":\"animate\"},{\"args\":[[\"2007\"],{\"frame\":{\"duration\":800,\"redraw\":false},\"mode\":\"immediate\",\"transition\":{\"duration\":800}}],\"label\":\"2007\",\"method\":\"animate\"},{\"args\":[[\"2008\"],{\"frame\":{\"duration\":800,\"redraw\":false},\"mode\":\"immediate\",\"transition\":{\"duration\":800}}],\"label\":\"2008\",\"method\":\"animate\"},{\"args\":[[\"2009\"],{\"frame\":{\"duration\":800,\"redraw\":false},\"mode\":\"immediate\",\"transition\":{\"duration\":800}}],\"label\":\"2009\",\"method\":\"animate\"},{\"args\":[[\"2010\"],{\"frame\":{\"duration\":800,\"redraw\":false},\"mode\":\"immediate\",\"transition\":{\"duration\":800}}],\"label\":\"2010\",\"method\":\"animate\"},{\"args\":[[\"2011\"],{\"frame\":{\"duration\":800,\"redraw\":false},\"mode\":\"immediate\",\"transition\":{\"duration\":800}}],\"label\":\"2011\",\"method\":\"animate\"},{\"args\":[[\"2012\"],{\"frame\":{\"duration\":800,\"redraw\":false},\"mode\":\"immediate\",\"transition\":{\"duration\":800}}],\"label\":\"2012\",\"method\":\"animate\"},{\"args\":[[\"2013\"],{\"frame\":{\"duration\":800,\"redraw\":false},\"mode\":\"immediate\",\"transition\":{\"duration\":800}}],\"label\":\"2013\",\"method\":\"animate\"},{\"args\":[[\"2014\"],{\"frame\":{\"duration\":800,\"redraw\":false},\"mode\":\"immediate\",\"transition\":{\"duration\":800}}],\"label\":\"2014\",\"method\":\"animate\"},{\"args\":[[\"2015\"],{\"frame\":{\"duration\":800,\"redraw\":false},\"mode\":\"immediate\",\"transition\":{\"duration\":800}}],\"label\":\"2015\",\"method\":\"animate\"},{\"args\":[[\"2016\"],{\"frame\":{\"duration\":800,\"redraw\":false},\"mode\":\"immediate\",\"transition\":{\"duration\":800}}],\"label\":\"2016\",\"method\":\"animate\"},{\"args\":[[\"2017\"],{\"frame\":{\"duration\":800,\"redraw\":false},\"mode\":\"immediate\",\"transition\":{\"duration\":800}}],\"label\":\"2017\",\"method\":\"animate\"}],\"transition\":{\"duration\":300,\"easing\":\"cubic-in-out\"},\"x\":0.1,\"xanchor\":\"left\",\"y\":0,\"yanchor\":\"top\"}]},                        {\"responsive\": true}                    ).then(function(){\n",
       "                            Plotly.addFrames('2df9936c-0360-44b5-b8f1-7c297d011c58', [{\"data\":[{\"cliponaxis\":false,\"hoverinfo\":\"all\",\"hovertemplate\":\"\\u003cextra\\u003e\\u003c\\u002fextra\\u003e\",\"marker\":{\"color\":[\"rgb(209, 15, 97)\"]},\"orientation\":\"h\",\"textangle\":0,\"textposition\":\"outside\",\"texttemplate\":\"%{y}\\u003cbr\\u003e%{x:.4s}\",\"x\":[0.0],\"y\":[\"Whitbread PLC\"],\"type\":\"bar\"}],\"layout\":{\"bargap\":0.15,\"font\":{\"size\":14},\"plot_bgcolor\":\"#FFFFFF\",\"title\":{\"text\":\"Weighted Top 10 beers in the world from 2000 to 2017\"},\"xaxis\":{\"range\":[0,0.77],\"showline\":true,\"visible\":true},\"yaxis\":{\"showline\":false,\"visible\":true}},\"name\":\"1998\"},{\"data\":[{\"cliponaxis\":false,\"hoverinfo\":\"all\",\"hovertemplate\":\"\\u003cextra\\u003e\\u003c\\u002fextra\\u003e\",\"marker\":{\"color\":[\"rgb(191, 7, 141)\",\"rgb(215, 245, 116)\",\"rgb(27, 161, 86)\",\"rgb(14, 155, 224)\",\"rgb(21, 65, 43)\",\"rgb(53, 222, 246)\",\"rgb(249, 226, 95)\",\"rgb(238, 10, 213)\",\"rgb(172, 112, 30)\",\"rgb(203, 70, 54)\"]},\"orientation\":\"h\",\"textangle\":0,\"textposition\":\"outside\",\"texttemplate\":\"%{y}\\u003cbr\\u003e%{x:.4s}\",\"x\":[0.0,0.0,0.0,0.0,0.0,0.0,0.01,0.01,0.02,0.06],\"y\":[\"Alley Kat Brewing Company\",\"Carlsberg-Tetley Brewing Ltd\",\"Creemore Springs  &#40;MolsonCoors&#41;\",\"Columbia Brewery &#40;Labatt-InBev&#41;\",\"Unibroue &#40;Sapporo&#41;\",\"McAuslan Brewing &#40;Brasseurs RJ&#41;\",\"Niagara Falls Brewing &#40;Moosehead&#41;\",\"Yaletown Brewing Co.\",\"Yakima Brewing Co. \\u002f Bert Grant's Ales\",\"L\\u0092Inox Ma\\u00eetres Brasseurs\"],\"type\":\"bar\"}],\"layout\":{\"bargap\":0.15,\"font\":{\"size\":14},\"plot_bgcolor\":\"#FFFFFF\",\"title\":{\"text\":\"Weighted Top 10 beers in the world from 2000 to 2017\"},\"xaxis\":{\"range\":[0,0.77],\"showline\":true,\"visible\":true},\"yaxis\":{\"showline\":false,\"visible\":true}},\"name\":\"2000\"},{\"data\":[{\"cliponaxis\":false,\"hoverinfo\":\"all\",\"hovertemplate\":\"\\u003cextra\\u003e\\u003c\\u002fextra\\u003e\",\"marker\":{\"color\":[\"rgb(253, 78, 134)\",\"rgb(27, 161, 86)\",\"rgb(185, 134, 29)\",\"rgb(179, 252, 88)\",\"rgb(121, 108, 249)\",\"rgb(87, 202, 27)\",\"rgb(16, 171, 196)\",\"rgb(115, 152, 178)\",\"rgb(2, 81, 159)\",\"rgb(249, 226, 95)\"]},\"orientation\":\"h\",\"textangle\":0,\"textposition\":\"outside\",\"texttemplate\":\"%{y}\\u003cbr\\u003e%{x:.4s}\",\"x\":[0.01,0.01,0.01,0.01,0.01,0.01,0.01,0.01,0.02,0.03],\"y\":[\"Okanagan Spring Brewery &#40;Sapporo&#41;\",\"Creemore Springs  &#40;MolsonCoors&#41;\",\"Maritime Beer Company, Inc. &#40;Sapporo&#41;\",\"Granite Brewery &#40;Halifax&#41;\",\"Freeminer Brewery Ltd.\",\"Whistler Brewhouse\\u002fHigh Mountain\",\"Salopian Brewing Company Ltd\",\"Speakeasy Ales & Lagers\",\"Coastal Extreme Brewing Co.\",\"Niagara Falls Brewing &#40;Moosehead&#41;\"],\"type\":\"bar\"}],\"layout\":{\"bargap\":0.15,\"font\":{\"size\":14},\"plot_bgcolor\":\"#FFFFFF\",\"title\":{\"text\":\"Weighted Top 10 beers in the world from 2000 to 2017\"},\"xaxis\":{\"range\":[0,0.77],\"showline\":true,\"visible\":true},\"yaxis\":{\"showline\":false,\"visible\":true}},\"name\":\"2001\"},{\"data\":[{\"cliponaxis\":false,\"hoverinfo\":\"all\",\"hovertemplate\":\"\\u003cextra\\u003e\\u003c\\u002fextra\\u003e\",\"marker\":{\"color\":[\"rgb(172, 112, 30)\",\"rgb(150, 85, 51)\",\"rgb(192, 154, 238)\",\"rgb(119, 145, 93)\",\"rgb(27, 139, 172)\",\"rgb(243, 122, 158)\",\"rgb(22, 192, 195)\",\"rgb(72, 79, 237)\",\"rgb(20, 139, 185)\",\"rgb(89, 150, 209)\"]},\"orientation\":\"h\",\"textangle\":0,\"textposition\":\"outside\",\"texttemplate\":\"%{y}\\u003cbr\\u003e%{x:.4s}\",\"x\":[0.03,0.03,0.03,0.03,0.04,0.04,0.05,0.05,0.05,0.06],\"y\":[\"Yakima Brewing Co. \\u002f Bert Grant's Ales\",\"Font Salem Portugal (Damm)\",\"Brasserie de Rochefort\",\"Brouwerij Van den Bossche\",\"Side Launch Brewing Company\",\"Cest What\",\"J\\u00e4mtlands Bryggeri AB\",\"Heavyweight Brewing Co.\",\"Pelican Pub & Brewery\",\"Especialidades Cerveceras (FEMSA)\"],\"type\":\"bar\"}],\"layout\":{\"bargap\":0.15,\"font\":{\"size\":14},\"plot_bgcolor\":\"#FFFFFF\",\"title\":{\"text\":\"Weighted Top 10 beers in the world from 2000 to 2017\"},\"xaxis\":{\"range\":[0,0.77],\"showline\":true,\"visible\":true},\"yaxis\":{\"showline\":false,\"visible\":true}},\"name\":\"2002\"},{\"data\":[{\"cliponaxis\":false,\"hoverinfo\":\"all\",\"hovertemplate\":\"\\u003cextra\\u003e\\u003c\\u002fextra\\u003e\",\"marker\":{\"color\":[\"rgb(60, 55, 194)\",\"rgb(115, 152, 178)\",\"rgb(45, 174, 242)\",\"rgb(192, 154, 238)\",\"rgb(121, 108, 249)\",\"rgb(172, 112, 30)\",\"rgb(89, 150, 209)\",\"rgb(1, 209, 42)\",\"rgb(110, 122, 133)\",\"rgb(72, 79, 237)\"]},\"orientation\":\"h\",\"textangle\":0,\"textposition\":\"outside\",\"texttemplate\":\"%{y}\\u003cbr\\u003e%{x:.4s}\",\"x\":[0.06,0.06,0.06,0.06,0.07,0.07,0.08,0.09,0.09,0.21],\"y\":[\"Felinfoel Brewery Co.\",\"Speakeasy Ales & Lagers\",\"L\\u0092Am\\u00e8re \\u00e0 Boire\",\"Brasserie de Rochefort\",\"Freeminer Brewery Ltd.\",\"Yakima Brewing Co. \\u002f Bert Grant's Ales\",\"Especialidades Cerveceras (FEMSA)\",\"Brouwerij De Smedt \\u002f Brouwerij Affligem\",\"Brouwerij Sterkens N.V.\",\"Heavyweight Brewing Co.\"],\"type\":\"bar\"}],\"layout\":{\"bargap\":0.15,\"font\":{\"size\":14},\"plot_bgcolor\":\"#FFFFFF\",\"title\":{\"text\":\"Weighted Top 10 beers in the world from 2000 to 2017\"},\"xaxis\":{\"range\":[0,0.77],\"showline\":true,\"visible\":true},\"yaxis\":{\"showline\":false,\"visible\":true}},\"name\":\"2003\"},{\"data\":[{\"cliponaxis\":false,\"hoverinfo\":\"all\",\"hovertemplate\":\"\\u003cextra\\u003e\\u003c\\u002fextra\\u003e\",\"marker\":{\"color\":[\"rgb(119, 69, 111)\",\"rgb(89, 150, 209)\",\"rgb(22, 192, 195)\",\"rgb(168, 74, 29)\",\"rgb(179, 252, 88)\",\"rgb(107, 131, 219)\",\"rgb(249, 226, 95)\",\"rgb(72, 79, 237)\",\"rgb(214, 233, 89)\",\"rgb(121, 108, 249)\"]},\"orientation\":\"h\",\"textangle\":0,\"textposition\":\"outside\",\"texttemplate\":\"%{y}\\u003cbr\\u003e%{x:.4s}\",\"x\":[0.08,0.09,0.09,0.1,0.11,0.11,0.12,0.13,0.13,0.14],\"y\":[\"Bushwakker Brewing Co.\",\"Especialidades Cerveceras (FEMSA)\",\"J\\u00e4mtlands Bryggeri AB\",\"Brouwerij De Dolle Brouwers\",\"Granite Brewery &#40;Halifax&#41;\",\"McNeill's Brewery\",\"Niagara Falls Brewing &#40;Moosehead&#41;\",\"Heavyweight Brewing Co.\",\"Bi\\u00e8ropholie\",\"Freeminer Brewery Ltd.\"],\"type\":\"bar\"}],\"layout\":{\"bargap\":0.15,\"font\":{\"size\":14},\"plot_bgcolor\":\"#FFFFFF\",\"title\":{\"text\":\"Weighted Top 10 beers in the world from 2000 to 2017\"},\"xaxis\":{\"range\":[0,0.77],\"showline\":true,\"visible\":true},\"yaxis\":{\"showline\":false,\"visible\":true}},\"name\":\"2004\"},{\"data\":[{\"cliponaxis\":false,\"hoverinfo\":\"all\",\"hovertemplate\":\"\\u003cextra\\u003e\\u003c\\u002fextra\\u003e\",\"marker\":{\"color\":[\"rgb(63, 204, 132)\",\"rgb(245, 180, 242)\",\"rgb(92, 150, 193)\",\"rgb(89, 150, 209)\",\"rgb(2, 81, 159)\",\"rgb(22, 192, 195)\",\"rgb(45, 174, 242)\",\"rgb(141, 108, 17)\",\"rgb(197, 196, 234)\",\"rgb(214, 233, 89)\"]},\"orientation\":\"h\",\"textangle\":0,\"textposition\":\"outside\",\"texttemplate\":\"%{y}\\u003cbr\\u003e%{x:.4s}\",\"x\":[0.08,0.08,0.09,0.09,0.11,0.12,0.12,0.13,0.15,0.17],\"y\":[\"Old Yale Brewing Co\",\"Bedondaine et Bedons Ronds\",\"Brasserie Chez Gambrinus\",\"Especialidades Cerveceras (FEMSA)\",\"Coastal Extreme Brewing Co.\",\"J\\u00e4mtlands Bryggeri AB\",\"L\\u0092Am\\u00e8re \\u00e0 Boire\",\"Sierra Madre Brewing Co.\",\"Fat Cat Brewery\",\"Bi\\u00e8ropholie\"],\"type\":\"bar\"}],\"layout\":{\"bargap\":0.15,\"font\":{\"size\":14},\"plot_bgcolor\":\"#FFFFFF\",\"title\":{\"text\":\"Weighted Top 10 beers in the world from 2000 to 2017\"},\"xaxis\":{\"range\":[0,0.77],\"showline\":true,\"visible\":true},\"yaxis\":{\"showline\":false,\"visible\":true}},\"name\":\"2005\"},{\"data\":[{\"cliponaxis\":false,\"hoverinfo\":\"all\",\"hovertemplate\":\"\\u003cextra\\u003e\\u003c\\u002fextra\\u003e\",\"marker\":{\"color\":[\"rgb(179, 252, 88)\",\"rgb(245, 180, 242)\",\"rgb(21, 65, 43)\",\"rgb(132, 82, 126)\",\"rgb(10, 166, 124)\",\"rgb(171, 63, 166)\",\"rgb(214, 233, 89)\",\"rgb(28, 250, 64)\",\"rgb(31, 201, 247)\",\"rgb(83, 202, 192)\"]},\"orientation\":\"h\",\"textangle\":0,\"textposition\":\"outside\",\"texttemplate\":\"%{y}\\u003cbr\\u003e%{x:.4s}\",\"x\":[0.08,0.08,0.08,0.08,0.09,0.09,0.11,0.14,0.15,0.46],\"y\":[\"Granite Brewery &#40;Halifax&#41;\",\"Bedondaine et Bedons Ronds\",\"Unibroue &#40;Sapporo&#41;\",\"Dark Star Brewing Company Limited\",\"Kichesippi Beer Company\",\"Dix BBQ & Brewery\",\"Bi\\u00e8ropholie\",\"Brouemont\",\"Beer Factory Restaurant & Wood Grill\",\"The Shed Restaurant & Brewery\"],\"type\":\"bar\"}],\"layout\":{\"bargap\":0.15,\"font\":{\"size\":14},\"plot_bgcolor\":\"#FFFFFF\",\"title\":{\"text\":\"Weighted Top 10 beers in the world from 2000 to 2017\"},\"xaxis\":{\"range\":[0,0.77],\"showline\":true,\"visible\":true},\"yaxis\":{\"showline\":false,\"visible\":true}},\"name\":\"2006\"},{\"data\":[{\"cliponaxis\":false,\"hoverinfo\":\"all\",\"hovertemplate\":\"\\u003cextra\\u003e\\u003c\\u002fextra\\u003e\",\"marker\":{\"color\":[\"rgb(21, 65, 43)\",\"rgb(10, 166, 124)\",\"rgb(179, 191, 110)\",\"rgb(38, 186, 202)\",\"rgb(92, 115, 124)\",\"rgb(192, 154, 238)\",\"rgb(28, 250, 64)\",\"rgb(197, 196, 234)\",\"rgb(214, 233, 89)\",\"rgb(204, 105, 169)\"]},\"orientation\":\"h\",\"textangle\":0,\"textposition\":\"outside\",\"texttemplate\":\"%{y}\\u003cbr\\u003e%{x:.4s}\",\"x\":[0.09,0.09,0.1,0.1,0.1,0.1,0.11,0.13,0.13,0.16],\"y\":[\"Unibroue &#40;Sapporo&#41;\",\"Kichesippi Beer Company\",\"County Durham Brewing\",\"Wildwood Restaurant & Brew Pub\",\"Brasseurs et Fr\\u00e8res\",\"Brasserie de Rochefort\",\"Brouemont\",\"Fat Cat Brewery\",\"Bi\\u00e8ropholie\",\"Hida Takayama Beer\"],\"type\":\"bar\"}],\"layout\":{\"bargap\":0.15,\"font\":{\"size\":14},\"plot_bgcolor\":\"#FFFFFF\",\"title\":{\"text\":\"Weighted Top 10 beers in the world from 2000 to 2017\"},\"xaxis\":{\"range\":[0,0.77],\"showline\":true,\"visible\":true},\"yaxis\":{\"showline\":false,\"visible\":true}},\"name\":\"2007\"},{\"data\":[{\"cliponaxis\":false,\"hoverinfo\":\"all\",\"hovertemplate\":\"\\u003cextra\\u003e\\u003c\\u002fextra\\u003e\",\"marker\":{\"color\":[\"rgb(181, 222, 40)\",\"rgb(77, 226, 189)\",\"rgb(140, 233, 223)\",\"rgb(187, 89, 147)\",\"rgb(165, 225, 88)\",\"rgb(192, 154, 238)\",\"rgb(214, 233, 89)\",\"rgb(237, 173, 156)\",\"rgb(198, 246, 229)\",\"rgb(213, 240, 39)\"]},\"orientation\":\"h\",\"textangle\":0,\"textposition\":\"outside\",\"texttemplate\":\"%{y}\\u003cbr\\u003e%{x:.4s}\",\"x\":[0.09,0.09,0.1,0.1,0.11,0.11,0.13,0.14,0.15,0.16],\"y\":[\"Uncommon Brewers\",\"Nils Oscar\",\"Free State Brewing Co.\",\"Cerveceria Primus\",\"Russian River Brewing Company\",\"Brasserie de Rochefort\",\"Bi\\u00e8ropholie\",\"Southampton Publick House\",\"Nyn\\u00e4shamns \\u00c5ngbryggeri\",\"AleSmith Brewing Company\"],\"type\":\"bar\"}],\"layout\":{\"bargap\":0.15,\"font\":{\"size\":14},\"plot_bgcolor\":\"#FFFFFF\",\"title\":{\"text\":\"Weighted Top 10 beers in the world from 2000 to 2017\"},\"xaxis\":{\"range\":[0,0.77],\"showline\":true,\"visible\":true},\"yaxis\":{\"showline\":false,\"visible\":true}},\"name\":\"2008\"},{\"data\":[{\"cliponaxis\":false,\"hoverinfo\":\"all\",\"hovertemplate\":\"\\u003cextra\\u003e\\u003c\\u002fextra\\u003e\",\"marker\":{\"color\":[\"rgb(179, 191, 110)\",\"rgb(204, 105, 169)\",\"rgb(131, 33, 6)\",\"rgb(202, 153, 43)\",\"rgb(213, 240, 39)\",\"rgb(165, 225, 88)\",\"rgb(192, 154, 238)\",\"rgb(231, 98, 245)\",\"rgb(154, 87, 225)\",\"rgb(37, 2, 193)\"]},\"orientation\":\"h\",\"textangle\":0,\"textposition\":\"outside\",\"texttemplate\":\"%{y}\\u003cbr\\u003e%{x:.4s}\",\"x\":[0.11,0.11,0.11,0.12,0.12,0.12,0.14,0.17,0.18,0.22],\"y\":[\"County Durham Brewing\",\"Hida Takayama Beer\",\"River Horse Brewing Co.\",\"\\u00c6gir Bryggeri\",\"AleSmith Brewing Company\",\"Russian River Brewing Company\",\"Brasserie de Rochefort\",\"Hopworks Urban Brewery\",\"Beer Here\",\"Hart & Thistle\"],\"type\":\"bar\"}],\"layout\":{\"bargap\":0.15,\"font\":{\"size\":14},\"plot_bgcolor\":\"#FFFFFF\",\"title\":{\"text\":\"Weighted Top 10 beers in the world from 2000 to 2017\"},\"xaxis\":{\"range\":[0,0.77],\"showline\":true,\"visible\":true},\"yaxis\":{\"showline\":false,\"visible\":true}},\"name\":\"2009\"},{\"data\":[{\"cliponaxis\":false,\"hoverinfo\":\"all\",\"hovertemplate\":\"\\u003cextra\\u003e\\u003c\\u002fextra\\u003e\",\"marker\":{\"color\":[\"rgb(192, 154, 238)\",\"rgb(119, 144, 38)\",\"rgb(171, 63, 166)\",\"rgb(90, 108, 7)\",\"rgb(102, 139, 240)\",\"rgb(165, 225, 88)\",\"rgb(121, 58, 225)\",\"rgb(161, 183, 44)\",\"rgb(154, 87, 225)\",\"rgb(37, 2, 193)\"]},\"orientation\":\"h\",\"textangle\":0,\"textposition\":\"outside\",\"texttemplate\":\"%{y}\\u003cbr\\u003e%{x:.4s}\",\"x\":[0.11,0.11,0.12,0.13,0.13,0.14,0.18,0.18,0.24,0.31],\"y\":[\"Brasserie de Rochefort\",\"Klosterbrauerei Andechs\",\"Dix BBQ & Brewery\",\"Brasserie Cantillon\",\"Captain Lawrence Brewing Co.\",\"Russian River Brewing Company\",\"Rohrbach Brewing Company (Brewpub)\",\"Duggan\\u0092s Brewery\",\"Beer Here\",\"Hart & Thistle\"],\"type\":\"bar\"}],\"layout\":{\"bargap\":0.15,\"font\":{\"size\":14},\"plot_bgcolor\":\"#FFFFFF\",\"title\":{\"text\":\"Weighted Top 10 beers in the world from 2000 to 2017\"},\"xaxis\":{\"range\":[0,0.77],\"showline\":true,\"visible\":true},\"yaxis\":{\"showline\":false,\"visible\":true}},\"name\":\"2010\"},{\"data\":[{\"cliponaxis\":false,\"hoverinfo\":\"all\",\"hovertemplate\":\"\\u003cextra\\u003e\\u003c\\u002fextra\\u003e\",\"marker\":{\"color\":[\"rgb(216, 40, 163)\",\"rgb(102, 139, 240)\",\"rgb(192, 154, 238)\",\"rgb(242, 217, 77)\",\"rgb(185, 232, 97)\",\"rgb(90, 108, 7)\",\"rgb(0, 90, 113)\",\"rgb(72, 55, 65)\",\"rgb(86, 228, 161)\",\"rgb(37, 2, 193)\"]},\"orientation\":\"h\",\"textangle\":0,\"textposition\":\"outside\",\"texttemplate\":\"%{y}\\u003cbr\\u003e%{x:.4s}\",\"x\":[0.11,0.11,0.11,0.11,0.12,0.13,0.15,0.16,0.18,0.3],\"y\":[\"Beachwood BBQ & Brewing\",\"Captain Lawrence Brewing Co.\",\"Brasserie de Rochefort\",\"Taps Brewing &#40;Sydicate&#41;\",\"Nebraska Brewing Company\",\"Brasserie Cantillon\",\"Hill Farmstead Brewery\",\"Brouwerij 3 Fonteinen\",\"House Ales\",\"Hart & Thistle\"],\"type\":\"bar\"}],\"layout\":{\"bargap\":0.15,\"font\":{\"size\":14},\"plot_bgcolor\":\"#FFFFFF\",\"title\":{\"text\":\"Weighted Top 10 beers in the world from 2000 to 2017\"},\"xaxis\":{\"range\":[0,0.77],\"showline\":true,\"visible\":true},\"yaxis\":{\"showline\":false,\"visible\":true}},\"name\":\"2011\"},{\"data\":[{\"cliponaxis\":false,\"hoverinfo\":\"all\",\"hovertemplate\":\"\\u003cextra\\u003e\\u003c\\u002fextra\\u003e\",\"marker\":{\"color\":[\"rgb(10, 111, 247)\",\"rgb(90, 108, 7)\",\"rgb(79, 23, 8)\",\"rgb(192, 154, 238)\",\"rgb(161, 73, 156)\",\"rgb(0, 90, 113)\",\"rgb(162, 181, 96)\",\"rgb(160, 143, 44)\",\"rgb(132, 180, 58)\",\"rgb(86, 228, 161)\"]},\"orientation\":\"h\",\"textangle\":0,\"textposition\":\"outside\",\"texttemplate\":\"%{y}\\u003cbr\\u003e%{x:.4s}\",\"x\":[0.16,0.16,0.17,0.18,0.2,0.2,0.21,0.21,0.22,0.23],\"y\":[\"\\u00d6lvisholt Bruggh\\u00fas\",\"Brasserie Cantillon\",\"Ale Industries\",\"Brasserie de Rochefort\",\"Logsdon Farmhouse Ales\",\"Hill Farmstead Brewery\",\"8 Wired Brewing Co.\",\"Windsor & Eton Brewery\",\"Anchorage Brewing Company\",\"House Ales\"],\"type\":\"bar\"}],\"layout\":{\"bargap\":0.15,\"font\":{\"size\":14},\"plot_bgcolor\":\"#FFFFFF\",\"title\":{\"text\":\"Weighted Top 10 beers in the world from 2000 to 2017\"},\"xaxis\":{\"range\":[0,0.77],\"showline\":true,\"visible\":true},\"yaxis\":{\"showline\":false,\"visible\":true}},\"name\":\"2012\"},{\"data\":[{\"cliponaxis\":false,\"hoverinfo\":\"all\",\"hovertemplate\":\"\\u003cextra\\u003e\\u003c\\u002fextra\\u003e\",\"marker\":{\"color\":[\"rgb(36, 63, 66)\",\"rgb(207, 29, 190)\",\"rgb(106, 109, 192)\",\"rgb(0, 90, 113)\",\"rgb(244, 74, 35)\",\"rgb(72, 55, 65)\",\"rgb(4, 188, 235)\",\"rgb(161, 73, 156)\",\"rgb(39, 16, 238)\",\"rgb(222, 139, 163)\"]},\"orientation\":\"h\",\"textangle\":0,\"textposition\":\"outside\",\"texttemplate\":\"%{y}\\u003cbr\\u003e%{x:.4s}\",\"x\":[0.17,0.19,0.2,0.2,0.21,0.21,0.22,0.24,0.26,0.29],\"y\":[\"Partizan Brewery\",\"Toppling Goliath Brewing Company\",\"Maine Beer Company\",\"Hill Farmstead Brewery\",\"Sante Adairius Rustic Ales\",\"Brouwerij 3 Fonteinen\",\"Jukebox\",\"Logsdon Farmhouse Ales\",\"Societe Brewing Co.\",\"Blue Lobster Brewing Company\"],\"type\":\"bar\"}],\"layout\":{\"bargap\":0.15,\"font\":{\"size\":14},\"plot_bgcolor\":\"#FFFFFF\",\"title\":{\"text\":\"Weighted Top 10 beers in the world from 2000 to 2017\"},\"xaxis\":{\"range\":[0,0.77],\"showline\":true,\"visible\":true},\"yaxis\":{\"showline\":false,\"visible\":true}},\"name\":\"2013\"},{\"data\":[{\"cliponaxis\":false,\"hoverinfo\":\"all\",\"hovertemplate\":\"\\u003cextra\\u003e\\u003c\\u002fextra\\u003e\",\"marker\":{\"color\":[\"rgb(48, 100, 204)\",\"rgb(244, 74, 35)\",\"rgb(8, 132, 223)\",\"rgb(106, 109, 192)\",\"rgb(84, 224, 159)\",\"rgb(119, 240, 231)\",\"rgb(188, 0, 10)\",\"rgb(38, 253, 51)\",\"rgb(220, 30, 14)\",\"rgb(207, 29, 190)\"]},\"orientation\":\"h\",\"textangle\":0,\"textposition\":\"outside\",\"texttemplate\":\"%{y}\\u003cbr\\u003e%{x:.4s}\",\"x\":[0.16,0.16,0.16,0.18,0.19,0.2,0.21,0.27,0.36,0.4],\"y\":[\"Beer Academy\",\"Sante Adairius Rustic Ales\",\"Rockbottom Brewpub\",\"Maine Beer Company\",\"Grassroots Brewing\",\"North Brewing Co.\",\"Cellarmaker Brewing Co.\",\"Lawson's Finest Liquids\",\"Fiddlehead Brewing Company\",\"Toppling Goliath Brewing Company\"],\"type\":\"bar\"}],\"layout\":{\"bargap\":0.15,\"font\":{\"size\":14},\"plot_bgcolor\":\"#FFFFFF\",\"title\":{\"text\":\"Weighted Top 10 beers in the world from 2000 to 2017\"},\"xaxis\":{\"range\":[0,0.77],\"showline\":true,\"visible\":true},\"yaxis\":{\"showline\":false,\"visible\":true}},\"name\":\"2014\"},{\"data\":[{\"cliponaxis\":false,\"hoverinfo\":\"all\",\"hovertemplate\":\"\\u003cextra\\u003e\\u003c\\u002fextra\\u003e\",\"marker\":{\"color\":[\"rgb(78, 143, 251)\",\"rgb(90, 30, 230)\",\"rgb(160, 112, 10)\",\"rgb(124, 43, 175)\",\"rgb(204, 143, 160)\",\"rgb(207, 29, 190)\",\"rgb(9, 43, 163)\",\"rgb(220, 30, 14)\",\"rgb(73, 93, 223)\",\"rgb(225, 252, 210)\"]},\"orientation\":\"h\",\"textangle\":0,\"textposition\":\"outside\",\"texttemplate\":\"%{y}\\u003cbr\\u003e%{x:.4s}\",\"x\":[0.25,0.26,0.27,0.28,0.31,0.31,0.32,0.34,0.35,0.35],\"y\":[\"Kehrwieder Kreativbrauerei\",\"Zmajska Pivovara\",\"Brekeriet\",\"Passarola Brewing\",\"Manantler Brewing\",\"Toppling Goliath Brewing Company\",\"Orpheus Brewing\",\"Fiddlehead Brewing Company\",\"Bissell Brothers Brewing Co.\",\"Stoneface Brewing Co.\"],\"type\":\"bar\"}],\"layout\":{\"bargap\":0.15,\"font\":{\"size\":14},\"plot_bgcolor\":\"#FFFFFF\",\"title\":{\"text\":\"Weighted Top 10 beers in the world from 2000 to 2017\"},\"xaxis\":{\"range\":[0,0.77],\"showline\":true,\"visible\":true},\"yaxis\":{\"showline\":false,\"visible\":true}},\"name\":\"2015\"},{\"data\":[{\"cliponaxis\":false,\"hoverinfo\":\"all\",\"hovertemplate\":\"\\u003cextra\\u003e\\u003c\\u002fextra\\u003e\",\"marker\":{\"color\":[\"rgb(179, 25, 1)\",\"rgb(101, 150, 3)\",\"rgb(53, 22, 192)\",\"rgb(239, 2, 202)\",\"rgb(73, 93, 223)\",\"rgb(65, 75, 59)\",\"rgb(5, 127, 71)\",\"rgb(168, 92, 230)\",\"rgb(89, 12, 14)\",\"rgb(211, 245, 33)\"]},\"orientation\":\"h\",\"textangle\":0,\"textposition\":\"outside\",\"texttemplate\":\"%{y}\\u003cbr\\u003e%{x:.4s}\",\"x\":[0.32,0.34,0.35,0.35,0.35,0.36,0.42,0.44,0.45,0.77],\"y\":[\"Straight To Ale\",\"Microbrasserie Vox Populi\",\"Grimm Artisanal Ales\",\"Brasserie Auval\",\"Bissell Brothers Brewing Co.\",\"Unfiltered Brewing\",\"Noctem Artisans Brasseurs\",\"Stigbergets Bryggeri\",\"Sutton Brou\\u00ebrie\",\"Brasserie Auval Brewing Co.\"],\"type\":\"bar\"}],\"layout\":{\"bargap\":0.15,\"font\":{\"size\":14},\"plot_bgcolor\":\"#FFFFFF\",\"title\":{\"text\":\"Weighted Top 10 beers in the world from 2000 to 2017\"},\"xaxis\":{\"range\":[0,0.77],\"showline\":true,\"visible\":true},\"yaxis\":{\"showline\":false,\"visible\":true}},\"name\":\"2016\"},{\"data\":[{\"cliponaxis\":false,\"hoverinfo\":\"all\",\"hovertemplate\":\"\\u003cextra\\u003e\\u003c\\u002fextra\\u003e\",\"marker\":{\"color\":[\"rgb(50, 93, 53)\",\"rgb(20, 66, 245)\",\"rgb(151, 122, 196)\",\"rgb(174, 131, 137)\",\"rgb(175, 54, 248)\",\"rgb(92, 158, 128)\",\"rgb(101, 150, 3)\",\"rgb(149, 95, 44)\",\"rgb(42, 46, 252)\",\"rgb(168, 92, 230)\"]},\"orientation\":\"h\",\"textangle\":0,\"textposition\":\"outside\",\"texttemplate\":\"%{y}\\u003cbr\\u003e%{x:.4s}\",\"x\":[0.28,0.3,0.31,0.33,0.37,0.42,0.49,0.52,0.56,0.69],\"y\":[\"Redline Brewhouse\",\"Ground Zero\",\"Nova Runda\",\"Bereta Brewing Co.\",\"Twin Sails Brewing\",\"Hop Hooligans\",\"Microbrasserie Vox Populi\",\"Microbrasserie Maltstrom\",\"Cloudwater Brew Co.\",\"Stigbergets Bryggeri\"],\"type\":\"bar\"}],\"layout\":{\"bargap\":0.15,\"font\":{\"size\":14},\"plot_bgcolor\":\"#FFFFFF\",\"title\":{\"text\":\"Weighted Top 10 beers in the world from 2000 to 2017\"},\"xaxis\":{\"range\":[0,0.77],\"showline\":true,\"visible\":true},\"yaxis\":{\"showline\":false,\"visible\":true}},\"name\":\"2017\"}]);\n",
       "                        }).then(function(){\n",
       "                            Plotly.animate('2df9936c-0360-44b5-b8f1-7c297d011c58', null);\n",
       "                        })                };                            </script>        </div>"
      ],
      "text/plain": [
       "Figure({\n",
       "    'data': [{'cliponaxis': False,\n",
       "              'hoverinfo': 'all',\n",
       "              'marker': {'color': array(['rgb(209, 15, 97)'], dtype=object)},\n",
       "              'orientation': 'h',\n",
       "              'textangle': 0,\n",
       "              'textposition': 'outside',\n",
       "              'texttemplate': '%{y}<br>%{x:.4s}',\n",
       "              'type': 'bar',\n",
       "              'x': array([0.]),\n",
       "              'y': array(['Whitbread PLC'], dtype=object)}],\n",
       "    'frames': [{'data': [{'cliponaxis': False,\n",
       "                          'hoverinfo': 'all',\n",
       "                          'hovertemplate': '<extra></extra>',\n",
       "                          'marker': {'color': array(['rgb(209, 15, 97)'], dtype=object)},\n",
       "                          'orientation': 'h',\n",
       "                          'textangle': 0,\n",
       "                          'textposition': 'outside',\n",
       "                          'texttemplate': '%{y}<br>%{x:.4s}',\n",
       "                          'type': 'bar',\n",
       "                          'x': array([0.]),\n",
       "                          'y': array(['Whitbread PLC'], dtype=object)}],\n",
       "                'layout': {'bargap': 0.15,\n",
       "                           'font': {'size': 14},\n",
       "                           'plot_bgcolor': '#FFFFFF',\n",
       "                           'title': {'text': 'Weighted Top 10 beers in the world from 2000 to 2017'},\n",
       "                           'xaxis': {'range': [0, 0.77], 'showline': True, 'visible': True},\n",
       "                           'yaxis': {'showline': False, 'visible': True}},\n",
       "                'name': '1998'},\n",
       "               {'data': [{'cliponaxis': False,\n",
       "                          'hoverinfo': 'all',\n",
       "                          'hovertemplate': '<extra></extra>',\n",
       "                          'marker': {'color': array(['rgb(191, 7, 141)', 'rgb(215, 245, 116)', 'rgb(27, 161, 86)',\n",
       "                                                     'rgb(14, 155, 224)', 'rgb(21, 65, 43)', 'rgb(53, 222, 246)',\n",
       "                                                     'rgb(249, 226, 95)', 'rgb(238, 10, 213)', 'rgb(172, 112, 30)',\n",
       "                                                     'rgb(203, 70, 54)'], dtype=object)},\n",
       "                          'orientation': 'h',\n",
       "                          'textangle': 0,\n",
       "                          'textposition': 'outside',\n",
       "                          'texttemplate': '%{y}<br>%{x:.4s}',\n",
       "                          'type': 'bar',\n",
       "                          'x': array([0.  , 0.  , 0.  , 0.  , 0.  , 0.  , 0.01, 0.01, 0.02, 0.06]),\n",
       "                          'y': array(['Alley Kat Brewing Company', 'Carlsberg-Tetley Brewing Ltd',\n",
       "                                      'Creemore Springs  &#40;MolsonCoors&#41;',\n",
       "                                      'Columbia Brewery &#40;Labatt-InBev&#41;', 'Unibroue &#40;Sapporo&#41;',\n",
       "                                      'McAuslan Brewing &#40;Brasseurs RJ&#41;',\n",
       "                                      'Niagara Falls Brewing &#40;Moosehead&#41;', 'Yaletown Brewing Co.',\n",
       "                                      \"Yakima Brewing Co. / Bert Grant's Ales\", 'L\\x92Inox Maîtres Brasseurs'],\n",
       "                                     dtype=object)}],\n",
       "                'layout': {'bargap': 0.15,\n",
       "                           'font': {'size': 14},\n",
       "                           'plot_bgcolor': '#FFFFFF',\n",
       "                           'title': {'text': 'Weighted Top 10 beers in the world from 2000 to 2017'},\n",
       "                           'xaxis': {'range': [0, 0.77], 'showline': True, 'visible': True},\n",
       "                           'yaxis': {'showline': False, 'visible': True}},\n",
       "                'name': '2000'},\n",
       "               {'data': [{'cliponaxis': False,\n",
       "                          'hoverinfo': 'all',\n",
       "                          'hovertemplate': '<extra></extra>',\n",
       "                          'marker': {'color': array(['rgb(253, 78, 134)', 'rgb(27, 161, 86)', 'rgb(185, 134, 29)',\n",
       "                                                     'rgb(179, 252, 88)', 'rgb(121, 108, 249)', 'rgb(87, 202, 27)',\n",
       "                                                     'rgb(16, 171, 196)', 'rgb(115, 152, 178)', 'rgb(2, 81, 159)',\n",
       "                                                     'rgb(249, 226, 95)'], dtype=object)},\n",
       "                          'orientation': 'h',\n",
       "                          'textangle': 0,\n",
       "                          'textposition': 'outside',\n",
       "                          'texttemplate': '%{y}<br>%{x:.4s}',\n",
       "                          'type': 'bar',\n",
       "                          'x': array([0.01, 0.01, 0.01, 0.01, 0.01, 0.01, 0.01, 0.01, 0.02, 0.03]),\n",
       "                          'y': array(['Okanagan Spring Brewery &#40;Sapporo&#41;',\n",
       "                                      'Creemore Springs  &#40;MolsonCoors&#41;',\n",
       "                                      'Maritime Beer Company, Inc. &#40;Sapporo&#41;',\n",
       "                                      'Granite Brewery &#40;Halifax&#41;', 'Freeminer Brewery Ltd.',\n",
       "                                      'Whistler Brewhouse/High Mountain', 'Salopian Brewing Company Ltd',\n",
       "                                      'Speakeasy Ales & Lagers', 'Coastal Extreme Brewing Co.',\n",
       "                                      'Niagara Falls Brewing &#40;Moosehead&#41;'], dtype=object)}],\n",
       "                'layout': {'bargap': 0.15,\n",
       "                           'font': {'size': 14},\n",
       "                           'plot_bgcolor': '#FFFFFF',\n",
       "                           'title': {'text': 'Weighted Top 10 beers in the world from 2000 to 2017'},\n",
       "                           'xaxis': {'range': [0, 0.77], 'showline': True, 'visible': True},\n",
       "                           'yaxis': {'showline': False, 'visible': True}},\n",
       "                'name': '2001'},\n",
       "               {'data': [{'cliponaxis': False,\n",
       "                          'hoverinfo': 'all',\n",
       "                          'hovertemplate': '<extra></extra>',\n",
       "                          'marker': {'color': array(['rgb(172, 112, 30)', 'rgb(150, 85, 51)', 'rgb(192, 154, 238)',\n",
       "                                                     'rgb(119, 145, 93)', 'rgb(27, 139, 172)', 'rgb(243, 122, 158)',\n",
       "                                                     'rgb(22, 192, 195)', 'rgb(72, 79, 237)', 'rgb(20, 139, 185)',\n",
       "                                                     'rgb(89, 150, 209)'], dtype=object)},\n",
       "                          'orientation': 'h',\n",
       "                          'textangle': 0,\n",
       "                          'textposition': 'outside',\n",
       "                          'texttemplate': '%{y}<br>%{x:.4s}',\n",
       "                          'type': 'bar',\n",
       "                          'x': array([0.03, 0.03, 0.03, 0.03, 0.04, 0.04, 0.05, 0.05, 0.05, 0.06]),\n",
       "                          'y': array([\"Yakima Brewing Co. / Bert Grant's Ales\", 'Font Salem Portugal (Damm)',\n",
       "                                      'Brasserie de Rochefort', 'Brouwerij Van den Bossche',\n",
       "                                      'Side Launch Brewing Company', 'Cest What', 'Jämtlands Bryggeri AB',\n",
       "                                      'Heavyweight Brewing Co.', 'Pelican Pub & Brewery',\n",
       "                                      'Especialidades Cerveceras (FEMSA)'], dtype=object)}],\n",
       "                'layout': {'bargap': 0.15,\n",
       "                           'font': {'size': 14},\n",
       "                           'plot_bgcolor': '#FFFFFF',\n",
       "                           'title': {'text': 'Weighted Top 10 beers in the world from 2000 to 2017'},\n",
       "                           'xaxis': {'range': [0, 0.77], 'showline': True, 'visible': True},\n",
       "                           'yaxis': {'showline': False, 'visible': True}},\n",
       "                'name': '2002'},\n",
       "               {'data': [{'cliponaxis': False,\n",
       "                          'hoverinfo': 'all',\n",
       "                          'hovertemplate': '<extra></extra>',\n",
       "                          'marker': {'color': array(['rgb(60, 55, 194)', 'rgb(115, 152, 178)', 'rgb(45, 174, 242)',\n",
       "                                                     'rgb(192, 154, 238)', 'rgb(121, 108, 249)', 'rgb(172, 112, 30)',\n",
       "                                                     'rgb(89, 150, 209)', 'rgb(1, 209, 42)', 'rgb(110, 122, 133)',\n",
       "                                                     'rgb(72, 79, 237)'], dtype=object)},\n",
       "                          'orientation': 'h',\n",
       "                          'textangle': 0,\n",
       "                          'textposition': 'outside',\n",
       "                          'texttemplate': '%{y}<br>%{x:.4s}',\n",
       "                          'type': 'bar',\n",
       "                          'x': array([0.06, 0.06, 0.06, 0.06, 0.07, 0.07, 0.08, 0.09, 0.09, 0.21]),\n",
       "                          'y': array(['Felinfoel Brewery Co.', 'Speakeasy Ales & Lagers',\n",
       "                                      'L\\x92Amère à Boire', 'Brasserie de Rochefort',\n",
       "                                      'Freeminer Brewery Ltd.', \"Yakima Brewing Co. / Bert Grant's Ales\",\n",
       "                                      'Especialidades Cerveceras (FEMSA)',\n",
       "                                      'Brouwerij De Smedt / Brouwerij Affligem', 'Brouwerij Sterkens N.V.',\n",
       "                                      'Heavyweight Brewing Co.'], dtype=object)}],\n",
       "                'layout': {'bargap': 0.15,\n",
       "                           'font': {'size': 14},\n",
       "                           'plot_bgcolor': '#FFFFFF',\n",
       "                           'title': {'text': 'Weighted Top 10 beers in the world from 2000 to 2017'},\n",
       "                           'xaxis': {'range': [0, 0.77], 'showline': True, 'visible': True},\n",
       "                           'yaxis': {'showline': False, 'visible': True}},\n",
       "                'name': '2003'},\n",
       "               {'data': [{'cliponaxis': False,\n",
       "                          'hoverinfo': 'all',\n",
       "                          'hovertemplate': '<extra></extra>',\n",
       "                          'marker': {'color': array(['rgb(119, 69, 111)', 'rgb(89, 150, 209)', 'rgb(22, 192, 195)',\n",
       "                                                     'rgb(168, 74, 29)', 'rgb(179, 252, 88)', 'rgb(107, 131, 219)',\n",
       "                                                     'rgb(249, 226, 95)', 'rgb(72, 79, 237)', 'rgb(214, 233, 89)',\n",
       "                                                     'rgb(121, 108, 249)'], dtype=object)},\n",
       "                          'orientation': 'h',\n",
       "                          'textangle': 0,\n",
       "                          'textposition': 'outside',\n",
       "                          'texttemplate': '%{y}<br>%{x:.4s}',\n",
       "                          'type': 'bar',\n",
       "                          'x': array([0.08, 0.09, 0.09, 0.1 , 0.11, 0.11, 0.12, 0.13, 0.13, 0.14]),\n",
       "                          'y': array(['Bushwakker Brewing Co.', 'Especialidades Cerveceras (FEMSA)',\n",
       "                                      'Jämtlands Bryggeri AB', 'Brouwerij De Dolle Brouwers',\n",
       "                                      'Granite Brewery &#40;Halifax&#41;', \"McNeill's Brewery\",\n",
       "                                      'Niagara Falls Brewing &#40;Moosehead&#41;', 'Heavyweight Brewing Co.',\n",
       "                                      'Bièropholie', 'Freeminer Brewery Ltd.'], dtype=object)}],\n",
       "                'layout': {'bargap': 0.15,\n",
       "                           'font': {'size': 14},\n",
       "                           'plot_bgcolor': '#FFFFFF',\n",
       "                           'title': {'text': 'Weighted Top 10 beers in the world from 2000 to 2017'},\n",
       "                           'xaxis': {'range': [0, 0.77], 'showline': True, 'visible': True},\n",
       "                           'yaxis': {'showline': False, 'visible': True}},\n",
       "                'name': '2004'},\n",
       "               {'data': [{'cliponaxis': False,\n",
       "                          'hoverinfo': 'all',\n",
       "                          'hovertemplate': '<extra></extra>',\n",
       "                          'marker': {'color': array(['rgb(63, 204, 132)', 'rgb(245, 180, 242)', 'rgb(92, 150, 193)',\n",
       "                                                     'rgb(89, 150, 209)', 'rgb(2, 81, 159)', 'rgb(22, 192, 195)',\n",
       "                                                     'rgb(45, 174, 242)', 'rgb(141, 108, 17)', 'rgb(197, 196, 234)',\n",
       "                                                     'rgb(214, 233, 89)'], dtype=object)},\n",
       "                          'orientation': 'h',\n",
       "                          'textangle': 0,\n",
       "                          'textposition': 'outside',\n",
       "                          'texttemplate': '%{y}<br>%{x:.4s}',\n",
       "                          'type': 'bar',\n",
       "                          'x': array([0.08, 0.08, 0.09, 0.09, 0.11, 0.12, 0.12, 0.13, 0.15, 0.17]),\n",
       "                          'y': array(['Old Yale Brewing Co', 'Bedondaine et Bedons Ronds',\n",
       "                                      'Brasserie Chez Gambrinus', 'Especialidades Cerveceras (FEMSA)',\n",
       "                                      'Coastal Extreme Brewing Co.', 'Jämtlands Bryggeri AB',\n",
       "                                      'L\\x92Amère à Boire', 'Sierra Madre Brewing Co.', 'Fat Cat Brewery',\n",
       "                                      'Bièropholie'], dtype=object)}],\n",
       "                'layout': {'bargap': 0.15,\n",
       "                           'font': {'size': 14},\n",
       "                           'plot_bgcolor': '#FFFFFF',\n",
       "                           'title': {'text': 'Weighted Top 10 beers in the world from 2000 to 2017'},\n",
       "                           'xaxis': {'range': [0, 0.77], 'showline': True, 'visible': True},\n",
       "                           'yaxis': {'showline': False, 'visible': True}},\n",
       "                'name': '2005'},\n",
       "               {'data': [{'cliponaxis': False,\n",
       "                          'hoverinfo': 'all',\n",
       "                          'hovertemplate': '<extra></extra>',\n",
       "                          'marker': {'color': array(['rgb(179, 252, 88)', 'rgb(245, 180, 242)', 'rgb(21, 65, 43)',\n",
       "                                                     'rgb(132, 82, 126)', 'rgb(10, 166, 124)', 'rgb(171, 63, 166)',\n",
       "                                                     'rgb(214, 233, 89)', 'rgb(28, 250, 64)', 'rgb(31, 201, 247)',\n",
       "                                                     'rgb(83, 202, 192)'], dtype=object)},\n",
       "                          'orientation': 'h',\n",
       "                          'textangle': 0,\n",
       "                          'textposition': 'outside',\n",
       "                          'texttemplate': '%{y}<br>%{x:.4s}',\n",
       "                          'type': 'bar',\n",
       "                          'x': array([0.08, 0.08, 0.08, 0.08, 0.09, 0.09, 0.11, 0.14, 0.15, 0.46]),\n",
       "                          'y': array(['Granite Brewery &#40;Halifax&#41;', 'Bedondaine et Bedons Ronds',\n",
       "                                      'Unibroue &#40;Sapporo&#41;', 'Dark Star Brewing Company Limited',\n",
       "                                      'Kichesippi Beer Company', 'Dix BBQ & Brewery', 'Bièropholie',\n",
       "                                      'Brouemont', 'Beer Factory Restaurant & Wood Grill',\n",
       "                                      'The Shed Restaurant & Brewery'], dtype=object)}],\n",
       "                'layout': {'bargap': 0.15,\n",
       "                           'font': {'size': 14},\n",
       "                           'plot_bgcolor': '#FFFFFF',\n",
       "                           'title': {'text': 'Weighted Top 10 beers in the world from 2000 to 2017'},\n",
       "                           'xaxis': {'range': [0, 0.77], 'showline': True, 'visible': True},\n",
       "                           'yaxis': {'showline': False, 'visible': True}},\n",
       "                'name': '2006'},\n",
       "               {'data': [{'cliponaxis': False,\n",
       "                          'hoverinfo': 'all',\n",
       "                          'hovertemplate': '<extra></extra>',\n",
       "                          'marker': {'color': array(['rgb(21, 65, 43)', 'rgb(10, 166, 124)', 'rgb(179, 191, 110)',\n",
       "                                                     'rgb(38, 186, 202)', 'rgb(92, 115, 124)', 'rgb(192, 154, 238)',\n",
       "                                                     'rgb(28, 250, 64)', 'rgb(197, 196, 234)', 'rgb(214, 233, 89)',\n",
       "                                                     'rgb(204, 105, 169)'], dtype=object)},\n",
       "                          'orientation': 'h',\n",
       "                          'textangle': 0,\n",
       "                          'textposition': 'outside',\n",
       "                          'texttemplate': '%{y}<br>%{x:.4s}',\n",
       "                          'type': 'bar',\n",
       "                          'x': array([0.09, 0.09, 0.1 , 0.1 , 0.1 , 0.1 , 0.11, 0.13, 0.13, 0.16]),\n",
       "                          'y': array(['Unibroue &#40;Sapporo&#41;', 'Kichesippi Beer Company',\n",
       "                                      'County Durham Brewing', 'Wildwood Restaurant & Brew Pub',\n",
       "                                      'Brasseurs et Frères', 'Brasserie de Rochefort', 'Brouemont',\n",
       "                                      'Fat Cat Brewery', 'Bièropholie', 'Hida Takayama Beer'], dtype=object)}],\n",
       "                'layout': {'bargap': 0.15,\n",
       "                           'font': {'size': 14},\n",
       "                           'plot_bgcolor': '#FFFFFF',\n",
       "                           'title': {'text': 'Weighted Top 10 beers in the world from 2000 to 2017'},\n",
       "                           'xaxis': {'range': [0, 0.77], 'showline': True, 'visible': True},\n",
       "                           'yaxis': {'showline': False, 'visible': True}},\n",
       "                'name': '2007'},\n",
       "               {'data': [{'cliponaxis': False,\n",
       "                          'hoverinfo': 'all',\n",
       "                          'hovertemplate': '<extra></extra>',\n",
       "                          'marker': {'color': array(['rgb(181, 222, 40)', 'rgb(77, 226, 189)', 'rgb(140, 233, 223)',\n",
       "                                                     'rgb(187, 89, 147)', 'rgb(165, 225, 88)', 'rgb(192, 154, 238)',\n",
       "                                                     'rgb(214, 233, 89)', 'rgb(237, 173, 156)', 'rgb(198, 246, 229)',\n",
       "                                                     'rgb(213, 240, 39)'], dtype=object)},\n",
       "                          'orientation': 'h',\n",
       "                          'textangle': 0,\n",
       "                          'textposition': 'outside',\n",
       "                          'texttemplate': '%{y}<br>%{x:.4s}',\n",
       "                          'type': 'bar',\n",
       "                          'x': array([0.09, 0.09, 0.1 , 0.1 , 0.11, 0.11, 0.13, 0.14, 0.15, 0.16]),\n",
       "                          'y': array(['Uncommon Brewers', 'Nils Oscar', 'Free State Brewing Co.',\n",
       "                                      'Cerveceria Primus', 'Russian River Brewing Company',\n",
       "                                      'Brasserie de Rochefort', 'Bièropholie', 'Southampton Publick House',\n",
       "                                      'Nynäshamns Ångbryggeri', 'AleSmith Brewing Company'], dtype=object)}],\n",
       "                'layout': {'bargap': 0.15,\n",
       "                           'font': {'size': 14},\n",
       "                           'plot_bgcolor': '#FFFFFF',\n",
       "                           'title': {'text': 'Weighted Top 10 beers in the world from 2000 to 2017'},\n",
       "                           'xaxis': {'range': [0, 0.77], 'showline': True, 'visible': True},\n",
       "                           'yaxis': {'showline': False, 'visible': True}},\n",
       "                'name': '2008'},\n",
       "               {'data': [{'cliponaxis': False,\n",
       "                          'hoverinfo': 'all',\n",
       "                          'hovertemplate': '<extra></extra>',\n",
       "                          'marker': {'color': array(['rgb(179, 191, 110)', 'rgb(204, 105, 169)', 'rgb(131, 33, 6)',\n",
       "                                                     'rgb(202, 153, 43)', 'rgb(213, 240, 39)', 'rgb(165, 225, 88)',\n",
       "                                                     'rgb(192, 154, 238)', 'rgb(231, 98, 245)', 'rgb(154, 87, 225)',\n",
       "                                                     'rgb(37, 2, 193)'], dtype=object)},\n",
       "                          'orientation': 'h',\n",
       "                          'textangle': 0,\n",
       "                          'textposition': 'outside',\n",
       "                          'texttemplate': '%{y}<br>%{x:.4s}',\n",
       "                          'type': 'bar',\n",
       "                          'x': array([0.11, 0.11, 0.11, 0.12, 0.12, 0.12, 0.14, 0.17, 0.18, 0.22]),\n",
       "                          'y': array(['County Durham Brewing', 'Hida Takayama Beer',\n",
       "                                      'River Horse Brewing Co.', 'Ægir Bryggeri', 'AleSmith Brewing Company',\n",
       "                                      'Russian River Brewing Company', 'Brasserie de Rochefort',\n",
       "                                      'Hopworks Urban Brewery', 'Beer Here', 'Hart & Thistle'], dtype=object)}],\n",
       "                'layout': {'bargap': 0.15,\n",
       "                           'font': {'size': 14},\n",
       "                           'plot_bgcolor': '#FFFFFF',\n",
       "                           'title': {'text': 'Weighted Top 10 beers in the world from 2000 to 2017'},\n",
       "                           'xaxis': {'range': [0, 0.77], 'showline': True, 'visible': True},\n",
       "                           'yaxis': {'showline': False, 'visible': True}},\n",
       "                'name': '2009'},\n",
       "               {'data': [{'cliponaxis': False,\n",
       "                          'hoverinfo': 'all',\n",
       "                          'hovertemplate': '<extra></extra>',\n",
       "                          'marker': {'color': array(['rgb(192, 154, 238)', 'rgb(119, 144, 38)', 'rgb(171, 63, 166)',\n",
       "                                                     'rgb(90, 108, 7)', 'rgb(102, 139, 240)', 'rgb(165, 225, 88)',\n",
       "                                                     'rgb(121, 58, 225)', 'rgb(161, 183, 44)', 'rgb(154, 87, 225)',\n",
       "                                                     'rgb(37, 2, 193)'], dtype=object)},\n",
       "                          'orientation': 'h',\n",
       "                          'textangle': 0,\n",
       "                          'textposition': 'outside',\n",
       "                          'texttemplate': '%{y}<br>%{x:.4s}',\n",
       "                          'type': 'bar',\n",
       "                          'x': array([0.11, 0.11, 0.12, 0.13, 0.13, 0.14, 0.18, 0.18, 0.24, 0.31]),\n",
       "                          'y': array(['Brasserie de Rochefort', 'Klosterbrauerei Andechs',\n",
       "                                      'Dix BBQ & Brewery', 'Brasserie Cantillon',\n",
       "                                      'Captain Lawrence Brewing Co.', 'Russian River Brewing Company',\n",
       "                                      'Rohrbach Brewing Company (Brewpub)', 'Duggan\\x92s Brewery',\n",
       "                                      'Beer Here', 'Hart & Thistle'], dtype=object)}],\n",
       "                'layout': {'bargap': 0.15,\n",
       "                           'font': {'size': 14},\n",
       "                           'plot_bgcolor': '#FFFFFF',\n",
       "                           'title': {'text': 'Weighted Top 10 beers in the world from 2000 to 2017'},\n",
       "                           'xaxis': {'range': [0, 0.77], 'showline': True, 'visible': True},\n",
       "                           'yaxis': {'showline': False, 'visible': True}},\n",
       "                'name': '2010'},\n",
       "               {'data': [{'cliponaxis': False,\n",
       "                          'hoverinfo': 'all',\n",
       "                          'hovertemplate': '<extra></extra>',\n",
       "                          'marker': {'color': array(['rgb(216, 40, 163)', 'rgb(102, 139, 240)', 'rgb(192, 154, 238)',\n",
       "                                                     'rgb(242, 217, 77)', 'rgb(185, 232, 97)', 'rgb(90, 108, 7)',\n",
       "                                                     'rgb(0, 90, 113)', 'rgb(72, 55, 65)', 'rgb(86, 228, 161)',\n",
       "                                                     'rgb(37, 2, 193)'], dtype=object)},\n",
       "                          'orientation': 'h',\n",
       "                          'textangle': 0,\n",
       "                          'textposition': 'outside',\n",
       "                          'texttemplate': '%{y}<br>%{x:.4s}',\n",
       "                          'type': 'bar',\n",
       "                          'x': array([0.11, 0.11, 0.11, 0.11, 0.12, 0.13, 0.15, 0.16, 0.18, 0.3 ]),\n",
       "                          'y': array(['Beachwood BBQ & Brewing', 'Captain Lawrence Brewing Co.',\n",
       "                                      'Brasserie de Rochefort', 'Taps Brewing &#40;Sydicate&#41;',\n",
       "                                      'Nebraska Brewing Company', 'Brasserie Cantillon',\n",
       "                                      'Hill Farmstead Brewery', 'Brouwerij 3 Fonteinen', 'House Ales',\n",
       "                                      'Hart & Thistle'], dtype=object)}],\n",
       "                'layout': {'bargap': 0.15,\n",
       "                           'font': {'size': 14},\n",
       "                           'plot_bgcolor': '#FFFFFF',\n",
       "                           'title': {'text': 'Weighted Top 10 beers in the world from 2000 to 2017'},\n",
       "                           'xaxis': {'range': [0, 0.77], 'showline': True, 'visible': True},\n",
       "                           'yaxis': {'showline': False, 'visible': True}},\n",
       "                'name': '2011'},\n",
       "               {'data': [{'cliponaxis': False,\n",
       "                          'hoverinfo': 'all',\n",
       "                          'hovertemplate': '<extra></extra>',\n",
       "                          'marker': {'color': array(['rgb(10, 111, 247)', 'rgb(90, 108, 7)', 'rgb(79, 23, 8)',\n",
       "                                                     'rgb(192, 154, 238)', 'rgb(161, 73, 156)', 'rgb(0, 90, 113)',\n",
       "                                                     'rgb(162, 181, 96)', 'rgb(160, 143, 44)', 'rgb(132, 180, 58)',\n",
       "                                                     'rgb(86, 228, 161)'], dtype=object)},\n",
       "                          'orientation': 'h',\n",
       "                          'textangle': 0,\n",
       "                          'textposition': 'outside',\n",
       "                          'texttemplate': '%{y}<br>%{x:.4s}',\n",
       "                          'type': 'bar',\n",
       "                          'x': array([0.16, 0.16, 0.17, 0.18, 0.2 , 0.2 , 0.21, 0.21, 0.22, 0.23]),\n",
       "                          'y': array(['Ölvisholt Brugghús', 'Brasserie Cantillon', 'Ale Industries',\n",
       "                                      'Brasserie de Rochefort', 'Logsdon Farmhouse Ales',\n",
       "                                      'Hill Farmstead Brewery', '8 Wired Brewing Co.',\n",
       "                                      'Windsor & Eton Brewery', 'Anchorage Brewing Company', 'House Ales'],\n",
       "                                     dtype=object)}],\n",
       "                'layout': {'bargap': 0.15,\n",
       "                           'font': {'size': 14},\n",
       "                           'plot_bgcolor': '#FFFFFF',\n",
       "                           'title': {'text': 'Weighted Top 10 beers in the world from 2000 to 2017'},\n",
       "                           'xaxis': {'range': [0, 0.77], 'showline': True, 'visible': True},\n",
       "                           'yaxis': {'showline': False, 'visible': True}},\n",
       "                'name': '2012'},\n",
       "               {'data': [{'cliponaxis': False,\n",
       "                          'hoverinfo': 'all',\n",
       "                          'hovertemplate': '<extra></extra>',\n",
       "                          'marker': {'color': array(['rgb(36, 63, 66)', 'rgb(207, 29, 190)', 'rgb(106, 109, 192)',\n",
       "                                                     'rgb(0, 90, 113)', 'rgb(244, 74, 35)', 'rgb(72, 55, 65)',\n",
       "                                                     'rgb(4, 188, 235)', 'rgb(161, 73, 156)', 'rgb(39, 16, 238)',\n",
       "                                                     'rgb(222, 139, 163)'], dtype=object)},\n",
       "                          'orientation': 'h',\n",
       "                          'textangle': 0,\n",
       "                          'textposition': 'outside',\n",
       "                          'texttemplate': '%{y}<br>%{x:.4s}',\n",
       "                          'type': 'bar',\n",
       "                          'x': array([0.17, 0.19, 0.2 , 0.2 , 0.21, 0.21, 0.22, 0.24, 0.26, 0.29]),\n",
       "                          'y': array(['Partizan Brewery', 'Toppling Goliath Brewing Company',\n",
       "                                      'Maine Beer Company', 'Hill Farmstead Brewery',\n",
       "                                      'Sante Adairius Rustic Ales', 'Brouwerij 3 Fonteinen', 'Jukebox',\n",
       "                                      'Logsdon Farmhouse Ales', 'Societe Brewing Co.',\n",
       "                                      'Blue Lobster Brewing Company'], dtype=object)}],\n",
       "                'layout': {'bargap': 0.15,\n",
       "                           'font': {'size': 14},\n",
       "                           'plot_bgcolor': '#FFFFFF',\n",
       "                           'title': {'text': 'Weighted Top 10 beers in the world from 2000 to 2017'},\n",
       "                           'xaxis': {'range': [0, 0.77], 'showline': True, 'visible': True},\n",
       "                           'yaxis': {'showline': False, 'visible': True}},\n",
       "                'name': '2013'},\n",
       "               {'data': [{'cliponaxis': False,\n",
       "                          'hoverinfo': 'all',\n",
       "                          'hovertemplate': '<extra></extra>',\n",
       "                          'marker': {'color': array(['rgb(48, 100, 204)', 'rgb(244, 74, 35)', 'rgb(8, 132, 223)',\n",
       "                                                     'rgb(106, 109, 192)', 'rgb(84, 224, 159)', 'rgb(119, 240, 231)',\n",
       "                                                     'rgb(188, 0, 10)', 'rgb(38, 253, 51)', 'rgb(220, 30, 14)',\n",
       "                                                     'rgb(207, 29, 190)'], dtype=object)},\n",
       "                          'orientation': 'h',\n",
       "                          'textangle': 0,\n",
       "                          'textposition': 'outside',\n",
       "                          'texttemplate': '%{y}<br>%{x:.4s}',\n",
       "                          'type': 'bar',\n",
       "                          'x': array([0.16, 0.16, 0.16, 0.18, 0.19, 0.2 , 0.21, 0.27, 0.36, 0.4 ]),\n",
       "                          'y': array(['Beer Academy', 'Sante Adairius Rustic Ales', 'Rockbottom Brewpub',\n",
       "                                      'Maine Beer Company', 'Grassroots Brewing', 'North Brewing Co.',\n",
       "                                      'Cellarmaker Brewing Co.', \"Lawson's Finest Liquids\",\n",
       "                                      'Fiddlehead Brewing Company', 'Toppling Goliath Brewing Company'],\n",
       "                                     dtype=object)}],\n",
       "                'layout': {'bargap': 0.15,\n",
       "                           'font': {'size': 14},\n",
       "                           'plot_bgcolor': '#FFFFFF',\n",
       "                           'title': {'text': 'Weighted Top 10 beers in the world from 2000 to 2017'},\n",
       "                           'xaxis': {'range': [0, 0.77], 'showline': True, 'visible': True},\n",
       "                           'yaxis': {'showline': False, 'visible': True}},\n",
       "                'name': '2014'},\n",
       "               {'data': [{'cliponaxis': False,\n",
       "                          'hoverinfo': 'all',\n",
       "                          'hovertemplate': '<extra></extra>',\n",
       "                          'marker': {'color': array(['rgb(78, 143, 251)', 'rgb(90, 30, 230)', 'rgb(160, 112, 10)',\n",
       "                                                     'rgb(124, 43, 175)', 'rgb(204, 143, 160)', 'rgb(207, 29, 190)',\n",
       "                                                     'rgb(9, 43, 163)', 'rgb(220, 30, 14)', 'rgb(73, 93, 223)',\n",
       "                                                     'rgb(225, 252, 210)'], dtype=object)},\n",
       "                          'orientation': 'h',\n",
       "                          'textangle': 0,\n",
       "                          'textposition': 'outside',\n",
       "                          'texttemplate': '%{y}<br>%{x:.4s}',\n",
       "                          'type': 'bar',\n",
       "                          'x': array([0.25, 0.26, 0.27, 0.28, 0.31, 0.31, 0.32, 0.34, 0.35, 0.35]),\n",
       "                          'y': array(['Kehrwieder Kreativbrauerei', 'Zmajska Pivovara', 'Brekeriet',\n",
       "                                      'Passarola Brewing', 'Manantler Brewing',\n",
       "                                      'Toppling Goliath Brewing Company', 'Orpheus Brewing',\n",
       "                                      'Fiddlehead Brewing Company', 'Bissell Brothers Brewing Co.',\n",
       "                                      'Stoneface Brewing Co.'], dtype=object)}],\n",
       "                'layout': {'bargap': 0.15,\n",
       "                           'font': {'size': 14},\n",
       "                           'plot_bgcolor': '#FFFFFF',\n",
       "                           'title': {'text': 'Weighted Top 10 beers in the world from 2000 to 2017'},\n",
       "                           'xaxis': {'range': [0, 0.77], 'showline': True, 'visible': True},\n",
       "                           'yaxis': {'showline': False, 'visible': True}},\n",
       "                'name': '2015'},\n",
       "               {'data': [{'cliponaxis': False,\n",
       "                          'hoverinfo': 'all',\n",
       "                          'hovertemplate': '<extra></extra>',\n",
       "                          'marker': {'color': array(['rgb(179, 25, 1)', 'rgb(101, 150, 3)', 'rgb(53, 22, 192)',\n",
       "                                                     'rgb(239, 2, 202)', 'rgb(73, 93, 223)', 'rgb(65, 75, 59)',\n",
       "                                                     'rgb(5, 127, 71)', 'rgb(168, 92, 230)', 'rgb(89, 12, 14)',\n",
       "                                                     'rgb(211, 245, 33)'], dtype=object)},\n",
       "                          'orientation': 'h',\n",
       "                          'textangle': 0,\n",
       "                          'textposition': 'outside',\n",
       "                          'texttemplate': '%{y}<br>%{x:.4s}',\n",
       "                          'type': 'bar',\n",
       "                          'x': array([0.32, 0.34, 0.35, 0.35, 0.35, 0.36, 0.42, 0.44, 0.45, 0.77]),\n",
       "                          'y': array(['Straight To Ale', 'Microbrasserie Vox Populi', 'Grimm Artisanal Ales',\n",
       "                                      'Brasserie Auval', 'Bissell Brothers Brewing Co.', 'Unfiltered Brewing',\n",
       "                                      'Noctem Artisans Brasseurs', 'Stigbergets Bryggeri', 'Sutton Brouërie',\n",
       "                                      'Brasserie Auval Brewing Co.'], dtype=object)}],\n",
       "                'layout': {'bargap': 0.15,\n",
       "                           'font': {'size': 14},\n",
       "                           'plot_bgcolor': '#FFFFFF',\n",
       "                           'title': {'text': 'Weighted Top 10 beers in the world from 2000 to 2017'},\n",
       "                           'xaxis': {'range': [0, 0.77], 'showline': True, 'visible': True},\n",
       "                           'yaxis': {'showline': False, 'visible': True}},\n",
       "                'name': '2016'},\n",
       "               {'data': [{'cliponaxis': False,\n",
       "                          'hoverinfo': 'all',\n",
       "                          'hovertemplate': '<extra></extra>',\n",
       "                          'marker': {'color': array(['rgb(50, 93, 53)', 'rgb(20, 66, 245)', 'rgb(151, 122, 196)',\n",
       "                                                     'rgb(174, 131, 137)', 'rgb(175, 54, 248)', 'rgb(92, 158, 128)',\n",
       "                                                     'rgb(101, 150, 3)', 'rgb(149, 95, 44)', 'rgb(42, 46, 252)',\n",
       "                                                     'rgb(168, 92, 230)'], dtype=object)},\n",
       "                          'orientation': 'h',\n",
       "                          'textangle': 0,\n",
       "                          'textposition': 'outside',\n",
       "                          'texttemplate': '%{y}<br>%{x:.4s}',\n",
       "                          'type': 'bar',\n",
       "                          'x': array([0.28, 0.3 , 0.31, 0.33, 0.37, 0.42, 0.49, 0.52, 0.56, 0.69]),\n",
       "                          'y': array(['Redline Brewhouse', 'Ground Zero', 'Nova Runda', 'Bereta Brewing Co.',\n",
       "                                      'Twin Sails Brewing', 'Hop Hooligans', 'Microbrasserie Vox Populi',\n",
       "                                      'Microbrasserie Maltstrom', 'Cloudwater Brew Co.',\n",
       "                                      'Stigbergets Bryggeri'], dtype=object)}],\n",
       "                'layout': {'bargap': 0.15,\n",
       "                           'font': {'size': 14},\n",
       "                           'plot_bgcolor': '#FFFFFF',\n",
       "                           'title': {'text': 'Weighted Top 10 beers in the world from 2000 to 2017'},\n",
       "                           'xaxis': {'range': [0, 0.77], 'showline': True, 'visible': True},\n",
       "                           'yaxis': {'showline': False, 'visible': True}},\n",
       "                'name': '2017'}],\n",
       "    'layout': {'bargap': 0.15,\n",
       "               'font': {'size': 14},\n",
       "               'plot_bgcolor': '#FFFFFF',\n",
       "               'sliders': [{'active': 0,\n",
       "                            'currentvalue': {'font': {'size': 20},\n",
       "                                             'prefix': 'Date: ',\n",
       "                                             'visible': True,\n",
       "                                             'xanchor': 'right'},\n",
       "                            'len': 0.9,\n",
       "                            'pad': {'b': 10, 't': 50},\n",
       "                            'steps': [{'args': [['1998'], {'frame': {'duration':\n",
       "                                                800, 'redraw': False}, 'mode':\n",
       "                                                'immediate', 'transition':\n",
       "                                                {'duration': 800}}],\n",
       "                                       'label': '1998',\n",
       "                                       'method': 'animate'},\n",
       "                                      {'args': [['2000'], {'frame': {'duration':\n",
       "                                                800, 'redraw': False}, 'mode':\n",
       "                                                'immediate', 'transition':\n",
       "                                                {'duration': 800}}],\n",
       "                                       'label': '2000',\n",
       "                                       'method': 'animate'},\n",
       "                                      {'args': [['2001'], {'frame': {'duration':\n",
       "                                                800, 'redraw': False}, 'mode':\n",
       "                                                'immediate', 'transition':\n",
       "                                                {'duration': 800}}],\n",
       "                                       'label': '2001',\n",
       "                                       'method': 'animate'},\n",
       "                                      {'args': [['2002'], {'frame': {'duration':\n",
       "                                                800, 'redraw': False}, 'mode':\n",
       "                                                'immediate', 'transition':\n",
       "                                                {'duration': 800}}],\n",
       "                                       'label': '2002',\n",
       "                                       'method': 'animate'},\n",
       "                                      {'args': [['2003'], {'frame': {'duration':\n",
       "                                                800, 'redraw': False}, 'mode':\n",
       "                                                'immediate', 'transition':\n",
       "                                                {'duration': 800}}],\n",
       "                                       'label': '2003',\n",
       "                                       'method': 'animate'},\n",
       "                                      {'args': [['2004'], {'frame': {'duration':\n",
       "                                                800, 'redraw': False}, 'mode':\n",
       "                                                'immediate', 'transition':\n",
       "                                                {'duration': 800}}],\n",
       "                                       'label': '2004',\n",
       "                                       'method': 'animate'},\n",
       "                                      {'args': [['2005'], {'frame': {'duration':\n",
       "                                                800, 'redraw': False}, 'mode':\n",
       "                                                'immediate', 'transition':\n",
       "                                                {'duration': 800}}],\n",
       "                                       'label': '2005',\n",
       "                                       'method': 'animate'},\n",
       "                                      {'args': [['2006'], {'frame': {'duration':\n",
       "                                                800, 'redraw': False}, 'mode':\n",
       "                                                'immediate', 'transition':\n",
       "                                                {'duration': 800}}],\n",
       "                                       'label': '2006',\n",
       "                                       'method': 'animate'},\n",
       "                                      {'args': [['2007'], {'frame': {'duration':\n",
       "                                                800, 'redraw': False}, 'mode':\n",
       "                                                'immediate', 'transition':\n",
       "                                                {'duration': 800}}],\n",
       "                                       'label': '2007',\n",
       "                                       'method': 'animate'},\n",
       "                                      {'args': [['2008'], {'frame': {'duration':\n",
       "                                                800, 'redraw': False}, 'mode':\n",
       "                                                'immediate', 'transition':\n",
       "                                                {'duration': 800}}],\n",
       "                                       'label': '2008',\n",
       "                                       'method': 'animate'},\n",
       "                                      {'args': [['2009'], {'frame': {'duration':\n",
       "                                                800, 'redraw': False}, 'mode':\n",
       "                                                'immediate', 'transition':\n",
       "                                                {'duration': 800}}],\n",
       "                                       'label': '2009',\n",
       "                                       'method': 'animate'},\n",
       "                                      {'args': [['2010'], {'frame': {'duration':\n",
       "                                                800, 'redraw': False}, 'mode':\n",
       "                                                'immediate', 'transition':\n",
       "                                                {'duration': 800}}],\n",
       "                                       'label': '2010',\n",
       "                                       'method': 'animate'},\n",
       "                                      {'args': [['2011'], {'frame': {'duration':\n",
       "                                                800, 'redraw': False}, 'mode':\n",
       "                                                'immediate', 'transition':\n",
       "                                                {'duration': 800}}],\n",
       "                                       'label': '2011',\n",
       "                                       'method': 'animate'},\n",
       "                                      {'args': [['2012'], {'frame': {'duration':\n",
       "                                                800, 'redraw': False}, 'mode':\n",
       "                                                'immediate', 'transition':\n",
       "                                                {'duration': 800}}],\n",
       "                                       'label': '2012',\n",
       "                                       'method': 'animate'},\n",
       "                                      {'args': [['2013'], {'frame': {'duration':\n",
       "                                                800, 'redraw': False}, 'mode':\n",
       "                                                'immediate', 'transition':\n",
       "                                                {'duration': 800}}],\n",
       "                                       'label': '2013',\n",
       "                                       'method': 'animate'},\n",
       "                                      {'args': [['2014'], {'frame': {'duration':\n",
       "                                                800, 'redraw': False}, 'mode':\n",
       "                                                'immediate', 'transition':\n",
       "                                                {'duration': 800}}],\n",
       "                                       'label': '2014',\n",
       "                                       'method': 'animate'},\n",
       "                                      {'args': [['2015'], {'frame': {'duration':\n",
       "                                                800, 'redraw': False}, 'mode':\n",
       "                                                'immediate', 'transition':\n",
       "                                                {'duration': 800}}],\n",
       "                                       'label': '2015',\n",
       "                                       'method': 'animate'},\n",
       "                                      {'args': [['2016'], {'frame': {'duration':\n",
       "                                                800, 'redraw': False}, 'mode':\n",
       "                                                'immediate', 'transition':\n",
       "                                                {'duration': 800}}],\n",
       "                                       'label': '2016',\n",
       "                                       'method': 'animate'},\n",
       "                                      {'args': [['2017'], {'frame': {'duration':\n",
       "                                                800, 'redraw': False}, 'mode':\n",
       "                                                'immediate', 'transition':\n",
       "                                                {'duration': 800}}],\n",
       "                                       'label': '2017',\n",
       "                                       'method': 'animate'}],\n",
       "                            'transition': {'duration': 300, 'easing': 'cubic-in-out'},\n",
       "                            'x': 0.1,\n",
       "                            'xanchor': 'left',\n",
       "                            'y': 0,\n",
       "                            'yanchor': 'top'}],\n",
       "               'template': '...',\n",
       "               'title': {'text': 'Weighted Top 10 beers in the world from 2000 to 2017'},\n",
       "               'updatemenus': [{'buttons': [{'args': [None, {'frame': {'duration':\n",
       "                                                      800, 'redraw': False},\n",
       "                                                      'fromcurrent': True,\n",
       "                                                      'transition': {'duration':\n",
       "                                                      800, 'easing': 'quadratic-in-\n",
       "                                                      out'}}],\n",
       "                                             'label': 'Play',\n",
       "                                             'method': 'animate'},\n",
       "                                            {'args': [[None], {'frame':\n",
       "                                                      {'duration': 0, 'redraw':\n",
       "                                                      False}, 'mode': 'immediate',\n",
       "                                                      'transition': {'duration':\n",
       "                                                      0}}],\n",
       "                                             'label': 'Pause',\n",
       "                                             'method': 'animate'}],\n",
       "                                'direction': 'left',\n",
       "                                'pad': {'r': 10, 't': 87},\n",
       "                                'showactive': True,\n",
       "                                'type': 'buttons',\n",
       "                                'x': 0.1,\n",
       "                                'xanchor': 'right',\n",
       "                                'y': 0,\n",
       "                                'yanchor': 'top'}],\n",
       "               'xaxis': {'range': [0, 0.77],\n",
       "                         'showline': True,\n",
       "                         'showticklabels': True,\n",
       "                         'title': {'text': 'Weighted rating'},\n",
       "                         'visible': True},\n",
       "               'yaxis': {'showline': False, 'showticklabels': False, 'title': {'text': 'Top 10 '}, 'visible': True}}\n",
       "})"
      ]
     },
     "execution_count": 397,
     "metadata": {},
     "output_type": "execute_result"
    }
   ],
   "source": [
    "weighted_ranking_year_sorted = weighted_ranking(all_data,\"year\",\"std_rating\").reset_index(level = 0)\n",
    "\n",
    "weighted_csv = weighted_ranking_year_sorted.to_csv('./../weighted_top_10_beers_by_year.csv', index = False)\n",
    "data = pd.read_csv('./../weighted_top_10_beers_by_year.csv')\n",
    "data[\"std_rating\"] = data[\"std_rating\"].round(2)\n",
    "my_raceplot = barplot(data,\n",
    "                        item_column='brewery_name',\n",
    "                        value_column='std_rating',\n",
    "                        time_column='year')\n",
    "\n",
    "my_raceplot.plot(title = 'Weighted Top 10 beers in the world from 2000 to 2017',\n",
    "                item_label = 'Top 10 ',\n",
    "                value_label = 'Weighted rating',\n",
    "                \n",
    "                frame_duration = 800)\n",
    "        "
   ]
  },
  {
   "cell_type": "markdown",
   "metadata": {},
   "source": [
    "### 3.1.3. Quality-based ranking"
   ]
  },
  {
   "cell_type": "code",
   "execution_count": 385,
   "metadata": {},
   "outputs": [],
   "source": [
    "def quality_ranking(data , version , col):\n",
    "    ratings_filtered = data.groupby('beer_name').filter(lambda x: len(x)>4)\n",
    "    if version == \"all\":\n",
    "    \n",
    "        grouped_brew = ratings_filtered.groupby(['brewery_name',\"beer_name\"])[col]\n",
    "        grouped_agg = grouped_brew.agg(['mean'])\n",
    "        nb_beer = grouped_agg.groupby('brewery_name').apply(lambda x : len(x))\n",
    "        quality_ranking = grouped_agg.groupby('brewery_name')['mean'].sum() / nb_beer\n",
    "        #fair_ranking = grouped_agg.groupby('brewery_name')['mean'].mean()\n",
    "        quality_ranking_sorted = quality_ranking.sort_values(ascending=False)\n",
    "\n",
    "        print(quality_ranking_sorted.head())\n",
    "        return quality_ranking_sorted\n",
    "    else :\n",
    "        grouped_brew_year = ratings_filtered.groupby(['brewery_name',\"beer_name\",\"year\"])[col]\n",
    "        grouped_agg_year = grouped_brew_year.agg(['mean'])\n",
    "\n",
    "\n",
    "        nb_beer = grouped_agg_year.groupby('brewery_name').apply(lambda x : len(x))\n",
    "        quality_ranking_year = grouped_agg_year.groupby(['brewery_name',\"year\"])['mean'].sum() / nb_beer\n",
    "\n",
    "        averaged_quality_per_year = quality_ranking_year.reset_index(level='brewery_name')\n",
    "        averaged_quality_per_year.columns.values[1] = 'std_rating'\n",
    "\n",
    "        top_brewery_year_quality = averaged_quality_per_year.groupby('year').apply(lambda x: x.nlargest(10, 'std_rating'))\n",
    "        top_across_fair = top_brewery_year_quality.groupby(\"brewery_name\").value_counts().nlargest(5)\n",
    "\n",
    "        quality_ranking_year_sorted = top_brewery_year_quality.groupby(\"year\").first()\n",
    "        quality_ranking_year_sorted.head(10)\n",
    "        return top_brewery_year_quality"
   ]
  },
  {
   "cell_type": "markdown",
   "metadata": {},
   "source": [
    "#### 3.1.3.1. All time quality ranking"
   ]
  },
  {
   "cell_type": "markdown",
   "metadata": {},
   "source": [
    "In this ranking we start by filtering out the beers with less than 4 reviews"
   ]
  },
  {
   "cell_type": "code",
   "execution_count": 43,
   "metadata": {},
   "outputs": [
    {
     "name": "stdout",
     "output_type": "stream",
     "text": [
      "brewery_name\n",
      "Stigbergets Bryggeri      1.401863\n",
      "Brasserie de Rochefort    1.354391\n",
      "Boombox                   1.263641\n",
      "Brouwerij 3 Fonteinen     1.192531\n",
      "Dix BBQ & Brewery         1.116615\n",
      "dtype: float64\n"
     ]
    }
   ],
   "source": [
    "quality_ranking_all = quality_ranking(all_data,\"all\",\"std_rating\") "
   ]
  },
  {
   "cell_type": "markdown",
   "metadata": {},
   "source": [
    "Let's now compare the results of those two systems for the overall ranking "
   ]
  },
  {
   "cell_type": "code",
   "execution_count": 45,
   "metadata": {},
   "outputs": [
    {
     "data": {
      "image/png": "[encoded data removed]",
      "text/plain": [
       "<Figure size 1600x600 with 2 Axes>"
      ]
     },
     "metadata": {},
     "output_type": "display_data"
    }
   ],
   "source": [
    "compare_ranking(weighted_ranking_sorted, quality_ranking_all, 20)"
   ]
  },
  {
   "cell_type": "markdown",
   "metadata": {},
   "source": [
    "#### 3.1.2.2. Quality ranking per year"
   ]
  },
  {
   "cell_type": "markdown",
   "metadata": {},
   "source": [
    "As for the weighted system let's see the ranking per year "
   ]
  },
  {
   "cell_type": "code",
   "execution_count": 390,
   "metadata": {},
   "outputs": [],
   "source": [
    "quality_ranking_year = quality_ranking(all_data,\"year\",\"std_rating\").reset_index(0)"
   ]
  },
  {
   "cell_type": "code",
   "execution_count": 396,
   "metadata": {},
   "outputs": [
    {
     "ename": "ValueError",
     "evalue": "Mime type rendering requires nbformat>=4.2.0 but it is not installed",
     "output_type": "error",
     "traceback": [
      "\u001b[0;31m---------------------------------------------------------------------------\u001b[0m",
      "\u001b[0;31mValueError\u001b[0m                                Traceback (most recent call last)",
      "File \u001b[0;32m~/miniconda3/lib/python3.11/site-packages/IPython/core/formatters.py:922\u001b[0m, in \u001b[0;36mIPythonDisplayFormatter.__call__\u001b[0;34m(self, obj)\u001b[0m\n\u001b[1;32m    920\u001b[0m method \u001b[38;5;241m=\u001b[39m get_real_method(obj, \u001b[38;5;28mself\u001b[39m\u001b[38;5;241m.\u001b[39mprint_method)\n\u001b[1;32m    921\u001b[0m \u001b[38;5;28;01mif\u001b[39;00m method \u001b[38;5;129;01mis\u001b[39;00m \u001b[38;5;129;01mnot\u001b[39;00m \u001b[38;5;28;01mNone\u001b[39;00m:\n\u001b[0;32m--> 922\u001b[0m     method()\n\u001b[1;32m    923\u001b[0m     \u001b[38;5;28;01mreturn\u001b[39;00m \u001b[38;5;28;01mTrue\u001b[39;00m\n",
      "File \u001b[0;32m~/miniconda3/lib/python3.11/site-packages/plotly/basedatatypes.py:832\u001b[0m, in \u001b[0;36mBaseFigure._ipython_display_\u001b[0;34m(self)\u001b[0m\n\u001b[1;32m    829\u001b[0m \u001b[38;5;28;01mimport\u001b[39;00m \u001b[38;5;21;01mplotly\u001b[39;00m\u001b[38;5;21;01m.\u001b[39;00m\u001b[38;5;21;01mio\u001b[39;00m \u001b[38;5;28;01mas\u001b[39;00m \u001b[38;5;21;01mpio\u001b[39;00m\n\u001b[1;32m    831\u001b[0m \u001b[38;5;28;01mif\u001b[39;00m pio\u001b[38;5;241m.\u001b[39mrenderers\u001b[38;5;241m.\u001b[39mrender_on_display \u001b[38;5;129;01mand\u001b[39;00m pio\u001b[38;5;241m.\u001b[39mrenderers\u001b[38;5;241m.\u001b[39mdefault:\n\u001b[0;32m--> 832\u001b[0m     pio\u001b[38;5;241m.\u001b[39mshow(\u001b[38;5;28mself\u001b[39m)\n\u001b[1;32m    833\u001b[0m \u001b[38;5;28;01melse\u001b[39;00m:\n\u001b[1;32m    834\u001b[0m     \u001b[38;5;28mprint\u001b[39m(\u001b[38;5;28mrepr\u001b[39m(\u001b[38;5;28mself\u001b[39m))\n",
      "File \u001b[0;32m~/miniconda3/lib/python3.11/site-packages/plotly/io/_renderers.py:394\u001b[0m, in \u001b[0;36mshow\u001b[0;34m(fig, renderer, validate, **kwargs)\u001b[0m\n\u001b[1;32m    389\u001b[0m         \u001b[38;5;28;01mraise\u001b[39;00m \u001b[38;5;167;01mValueError\u001b[39;00m(\n\u001b[1;32m    390\u001b[0m             \u001b[38;5;124m\"\u001b[39m\u001b[38;5;124mMime type rendering requires ipython but it is not installed\u001b[39m\u001b[38;5;124m\"\u001b[39m\n\u001b[1;32m    391\u001b[0m         )\n\u001b[1;32m    393\u001b[0m     \u001b[38;5;28;01mif\u001b[39;00m \u001b[38;5;129;01mnot\u001b[39;00m nbformat \u001b[38;5;129;01mor\u001b[39;00m Version(nbformat\u001b[38;5;241m.\u001b[39m__version__) \u001b[38;5;241m<\u001b[39m Version(\u001b[38;5;124m\"\u001b[39m\u001b[38;5;124m4.2.0\u001b[39m\u001b[38;5;124m\"\u001b[39m):\n\u001b[0;32m--> 394\u001b[0m         \u001b[38;5;28;01mraise\u001b[39;00m \u001b[38;5;167;01mValueError\u001b[39;00m(\n\u001b[1;32m    395\u001b[0m             \u001b[38;5;124m\"\u001b[39m\u001b[38;5;124mMime type rendering requires nbformat>=4.2.0 but it is not installed\u001b[39m\u001b[38;5;124m\"\u001b[39m\n\u001b[1;32m    396\u001b[0m         )\n\u001b[1;32m    398\u001b[0m     ipython_display\u001b[38;5;241m.\u001b[39mdisplay(bundle, raw\u001b[38;5;241m=\u001b[39m\u001b[38;5;28;01mTrue\u001b[39;00m)\n\u001b[1;32m    400\u001b[0m \u001b[38;5;66;03m# external renderers\u001b[39;00m\n",
      "\u001b[0;31mValueError\u001b[0m: Mime type rendering requires nbformat>=4.2.0 but it is not installed"
     ]
    },
    {
     "data": {
      "application/vnd.plotly.v1+json": {
       "config": {
        "plotlyServerURL": "https://plot.ly"
       },
       "data": [
        {
         "cliponaxis": false,
         "hoverinfo": "all",
         "marker": {
          "color": [
           "rgb(133, 187, 180)"
          ]
         },
         "orientation": "h",
         "textangle": 0,
         "textposition": "outside",
         "texttemplate": "%{y}<br>%{x:.4s}",
         "type": "bar",
         "x": [
          0.02
         ],
         "y": [
          "Whitbread PLC"
         ]
        }
       ],
       "frames": [
        {
         "data": [
          {
           "cliponaxis": false,
           "hoverinfo": "all",
           "hovertemplate": "<extra></extra>",
           "marker": {
            "color": [
             "rgb(133, 187, 180)"
            ]
           },
           "orientation": "h",
           "textangle": 0,
           "textposition": "outside",
           "texttemplate": "%{y}<br>%{x:.4s}",
           "type": "bar",
           "x": [
            0.02
           ],
           "y": [
            "Whitbread PLC"
           ]
          }
         ],
         "layout": {
          "bargap": 0.15,
          "font": {
           "size": 14
          },
          "plot_bgcolor": "#FFFFFF",
          "title": {
           "text": "Top 10 beers in the world from 2000 to 2017"
          },
          "xaxis": {
           "range": [
            0,
            1.26
           ],
           "showline": true,
           "visible": true
          },
          "yaxis": {
           "showline": false,
           "visible": true
          }
         },
         "name": "1998"
        },
        {
         "data": [
          {
           "cliponaxis": false,
           "hoverinfo": "all",
           "hovertemplate": "<extra></extra>",
           "marker": {
            "color": [
             "rgb(90, 15, 24)",
             "rgb(235, 220, 150)",
             "rgb(85, 182, 213)",
             "rgb(154, 199, 23)",
             "rgb(42, 65, 111)",
             "rgb(106, 123, 131)",
             "rgb(44, 223, 164)",
             "rgb(148, 178, 204)",
             "rgb(20, 161, 180)",
             "rgb(204, 196, 18)"
            ]
           },
           "orientation": "h",
           "textangle": 0,
           "textposition": "outside",
           "texttemplate": "%{y}<br>%{x:.4s}",
           "type": "bar",
           "x": [
            0,
            0,
            0,
            0.01,
            0.01,
            0.01,
            0.02,
            0.02,
            0.06,
            0.06
           ],
           "y": [
            "Singapore Brewery (Asia Pacific Breweries-Heineken)",
            "Alley Kat Brewing Company",
            "Trafalgar Ales and Meads",
            "Carlsberg-Tetley Brewing Ltd",
            "Creemore Springs  &#40;MolsonCoors&#41;",
            "McAuslan Brewing &#40;Brasseurs RJ&#41;",
            "Niagara Falls Brewing &#40;Moosehead&#41;",
            "Unibroue &#40;Sapporo&#41;",
            "LInox Maîtres Brasseurs",
            "Yakima Brewing Co. / Bert Grant's Ales"
           ]
          }
         ],
         "layout": {
          "bargap": 0.15,
          "font": {
           "size": 14
          },
          "plot_bgcolor": "#FFFFFF",
          "title": {
           "text": "Top 10 beers in the world from 2000 to 2017"
          },
          "xaxis": {
           "range": [
            0,
            1.26
           ],
           "showline": true,
           "visible": true
          },
          "yaxis": {
           "showline": false,
           "visible": true
          }
         },
         "name": "2000"
        },
        {
         "data": [
          {
           "cliponaxis": false,
           "hoverinfo": "all",
           "hovertemplate": "<extra></extra>",
           "marker": {
            "color": [
             "rgb(106, 123, 131)",
             "rgb(228, 186, 57)",
             "rgb(90, 15, 24)",
             "rgb(219, 48, 170)",
             "rgb(118, 27, 5)",
             "rgb(42, 65, 111)",
             "rgb(127, 177, 254)",
             "rgb(4, 3, 149)",
             "rgb(44, 223, 164)",
             "rgb(59, 34, 224)"
            ]
           },
           "orientation": "h",
           "textangle": 0,
           "textposition": "outside",
           "texttemplate": "%{y}<br>%{x:.4s}",
           "type": "bar",
           "x": [
            0.02,
            0.03,
            0.03,
            0.03,
            0.03,
            0.03,
            0.04,
            0.05,
            0.07,
            0.08
           ],
           "y": [
            "McAuslan Brewing &#40;Brasseurs RJ&#41;",
            "Speakeasy Ales & Lagers",
            "Singapore Brewery (Asia Pacific Breweries-Heineken)",
            "Okanagan Spring Brewery &#40;Sapporo&#41;",
            "Granite Brewery &#40;Halifax&#41;",
            "Creemore Springs  &#40;MolsonCoors&#41;",
            "Freeminer Brewery Ltd.",
            "Salopian Brewing Company Ltd",
            "Niagara Falls Brewing &#40;Moosehead&#41;",
            "Maritime Beer Company, Inc. &#40;Sapporo&#41;"
           ]
          }
         ],
         "layout": {
          "bargap": 0.15,
          "font": {
           "size": 14
          },
          "plot_bgcolor": "#FFFFFF",
          "title": {
           "text": "Top 10 beers in the world from 2000 to 2017"
          },
          "xaxis": {
           "range": [
            0,
            1.26
           ],
           "showline": true,
           "visible": true
          },
          "yaxis": {
           "showline": false,
           "visible": true
          }
         },
         "name": "2001"
        },
        {
         "data": [
          {
           "cliponaxis": false,
           "hoverinfo": "all",
           "hovertemplate": "<extra></extra>",
           "marker": {
            "color": [
             "rgb(194, 76, 249)",
             "rgb(203, 135, 137)",
             "rgb(4, 3, 149)",
             "rgb(137, 121, 35)",
             "rgb(141, 46, 220)",
             "rgb(204, 196, 18)",
             "rgb(15, 175, 10)",
             "rgb(12, 38, 198)",
             "rgb(13, 48, 197)",
             "rgb(49, 123, 186)"
            ]
           },
           "orientation": "h",
           "textangle": 0,
           "textposition": "outside",
           "texttemplate": "%{y}<br>%{x:.4s}",
           "type": "bar",
           "x": [
            0.06,
            0.06,
            0.06,
            0.07,
            0.07,
            0.08,
            0.09,
            0.1,
            0.12,
            0.18
           ],
           "y": [
            "Side Launch Brewing Company",
            "Pelican Pub & Brewery",
            "Salopian Brewing Company Ltd",
            "Especialidades Cerveceras (FEMSA)",
            "Jämtlands Bryggeri AB",
            "Yakima Brewing Co. / Bert Grant's Ales",
            "Font Salem Portugal (Damm)",
            "Brasserie de Rochefort",
            "Columbia Brewery &#40;Labatt-InBev&#41;",
            "Heavyweight Brewing Co."
           ]
          }
         ],
         "layout": {
          "bargap": 0.15,
          "font": {
           "size": 14
          },
          "plot_bgcolor": "#FFFFFF",
          "title": {
           "text": "Top 10 beers in the world from 2000 to 2017"
          },
          "xaxis": {
           "range": [
            0,
            1.26
           ],
           "showline": true,
           "visible": true
          },
          "yaxis": {
           "showline": false,
           "visible": true
          }
         },
         "name": "2002"
        },
        {
         "data": [
          {
           "cliponaxis": false,
           "hoverinfo": "all",
           "hovertemplate": "<extra></extra>",
           "marker": {
            "color": [
             "rgb(100, 231, 172)",
             "rgb(194, 217, 213)",
             "rgb(74, 191, 121)",
             "rgb(5, 29, 190)",
             "rgb(53, 197, 194)",
             "rgb(12, 38, 198)",
             "rgb(119, 246, 101)",
             "rgb(25, 206, 209)",
             "rgb(20, 161, 180)",
             "rgb(49, 123, 186)"
            ]
           },
           "orientation": "h",
           "textangle": 0,
           "textposition": "outside",
           "texttemplate": "%{y}<br>%{x:.4s}",
           "type": "bar",
           "x": [
            0.07,
            0.08,
            0.08,
            0.08,
            0.09,
            0.09,
            0.1,
            0.1,
            0.1,
            0.18
           ],
           "y": [
            "Storm Brewing &#40;BC&#41;",
            "Butcombe Brewery Ltd.",
            "Brasserie Chez Gambrinus",
            "Brouwerij Van den Bossche",
            "McNeill's Brewery",
            "Brasserie de Rochefort",
            "C'est What?",
            "Fort Garry Brewing",
            "LInox Maîtres Brasseurs",
            "Heavyweight Brewing Co."
           ]
          }
         ],
         "layout": {
          "bargap": 0.15,
          "font": {
           "size": 14
          },
          "plot_bgcolor": "#FFFFFF",
          "title": {
           "text": "Top 10 beers in the world from 2000 to 2017"
          },
          "xaxis": {
           "range": [
            0,
            1.26
           ],
           "showline": true,
           "visible": true
          },
          "yaxis": {
           "showline": false,
           "visible": true
          }
         },
         "name": "2003"
        },
        {
         "data": [
          {
           "cliponaxis": false,
           "hoverinfo": "all",
           "hovertemplate": "<extra></extra>",
           "marker": {
            "color": [
             "rgb(119, 246, 101)",
             "rgb(51, 87, 235)",
             "rgb(141, 46, 220)",
             "rgb(49, 123, 186)",
             "rgb(137, 121, 35)",
             "rgb(63, 194, 179)",
             "rgb(53, 197, 194)",
             "rgb(221, 111, 10)",
             "rgb(38, 245, 177)",
             "rgb(12, 38, 198)"
            ]
           },
           "orientation": "h",
           "textangle": 0,
           "textposition": "outside",
           "texttemplate": "%{y}<br>%{x:.4s}",
           "type": "bar",
           "x": [
            0.07,
            0.07,
            0.08,
            0.08,
            0.08,
            0.08,
            0.08,
            0.09,
            0.09,
            0.1
           ],
           "y": [
            "C'est What?",
            "AleSmith Brewing Company",
            "Jämtlands Bryggeri AB",
            "Heavyweight Brewing Co.",
            "Especialidades Cerveceras (FEMSA)",
            "Brouemont",
            "McNeill's Brewery",
            "Brasserie de Blaugies",
            "Fat Cat Brewery",
            "Brasserie de Rochefort"
           ]
          }
         ],
         "layout": {
          "bargap": 0.15,
          "font": {
           "size": 14
          },
          "plot_bgcolor": "#FFFFFF",
          "title": {
           "text": "Top 10 beers in the world from 2000 to 2017"
          },
          "xaxis": {
           "range": [
            0,
            1.26
           ],
           "showline": true,
           "visible": true
          },
          "yaxis": {
           "showline": false,
           "visible": true
          }
         },
         "name": "2004"
        },
        {
         "data": [
          {
           "cliponaxis": false,
           "hoverinfo": "all",
           "hovertemplate": "<extra></extra>",
           "marker": {
            "color": [
             "rgb(224, 88, 220)",
             "rgb(204, 62, 173)",
             "rgb(74, 191, 121)",
             "rgb(103, 66, 159)",
             "rgb(230, 134, 85)",
             "rgb(35, 222, 93)",
             "rgb(63, 194, 179)",
             "rgb(47, 103, 155)",
             "rgb(141, 46, 220)",
             "rgb(124, 12, 13)"
            ]
           },
           "orientation": "h",
           "textangle": 0,
           "textposition": "outside",
           "texttemplate": "%{y}<br>%{x:.4s}",
           "type": "bar",
           "x": [
            0.1,
            0.11,
            0.12,
            0.13,
            0.14,
            0.14,
            0.16,
            0.16,
            0.18,
            0.26
           ],
           "y": [
            "Timothy Taylor & Co. Limited",
            "Coastal Extreme Brewing Co.",
            "Brasserie Chez Gambrinus",
            "Aqula",
            "Sierra Madre Brewing Co.",
            "Brouwerij De Dolle Brouwers",
            "Brouemont",
            "Baeren",
            "Jämtlands Bryggeri AB",
            "Bushwakker Brewing Company"
           ]
          }
         ],
         "layout": {
          "bargap": 0.15,
          "font": {
           "size": 14
          },
          "plot_bgcolor": "#FFFFFF",
          "title": {
           "text": "Top 10 beers in the world from 2000 to 2017"
          },
          "xaxis": {
           "range": [
            0,
            1.26
           ],
           "showline": true,
           "visible": true
          },
          "yaxis": {
           "showline": false,
           "visible": true
          }
         },
         "name": "2005"
        },
        {
         "data": [
          {
           "cliponaxis": false,
           "hoverinfo": "all",
           "hovertemplate": "<extra></extra>",
           "marker": {
            "color": [
             "rgb(157, 214, 119)",
             "rgb(35, 222, 93)",
             "rgb(12, 38, 198)",
             "rgb(72, 114, 204)",
             "rgb(115, 68, 92)",
             "rgb(24, 45, 217)",
             "rgb(197, 196, 115)",
             "rgb(63, 194, 179)",
             "rgb(12, 47, 10)",
             "rgb(132, 87, 29)"
            ]
           },
           "orientation": "h",
           "textangle": 0,
           "textposition": "outside",
           "texttemplate": "%{y}<br>%{x:.4s}",
           "type": "bar",
           "x": [
            0.08,
            0.09,
            0.09,
            0.1,
            0.1,
            0.11,
            0.14,
            0.2,
            0.36,
            0.45
           ],
           "y": [
            "Beer Factory Restaurant & Wood Grill",
            "Brouwerij De Dolle Brouwers",
            "Brasserie de Rochefort",
            "Dark Star Brewing Company Limited",
            "Bièropholie",
            "Chateau Kamiya (Ushiku Beer)",
            "Titanic Brewery",
            "Brouemont",
            "Dix BBQ & Brewery",
            "The Shed Restaurant & Brewery"
           ]
          }
         ],
         "layout": {
          "bargap": 0.15,
          "font": {
           "size": 14
          },
          "plot_bgcolor": "#FFFFFF",
          "title": {
           "text": "Top 10 beers in the world from 2000 to 2017"
          },
          "xaxis": {
           "range": [
            0,
            1.26
           ],
           "showline": true,
           "visible": true
          },
          "yaxis": {
           "showline": false,
           "visible": true
          }
         },
         "name": "2006"
        },
        {
         "data": [
          {
           "cliponaxis": false,
           "hoverinfo": "all",
           "hovertemplate": "<extra></extra>",
           "marker": {
            "color": [
             "rgb(118, 27, 5)",
             "rgb(12, 38, 198)",
             "rgb(148, 61, 79)",
             "rgb(204, 62, 173)",
             "rgb(230, 134, 85)",
             "rgb(124, 12, 13)",
             "rgb(64, 128, 46)",
             "rgb(63, 194, 179)",
             "rgb(12, 47, 10)",
             "rgb(191, 77, 230)"
            ]
           },
           "orientation": "h",
           "textangle": 0,
           "textposition": "outside",
           "texttemplate": "%{y}<br>%{x:.4s}",
           "type": "bar",
           "x": [
            0.09,
            0.09,
            0.1,
            0.11,
            0.12,
            0.12,
            0.12,
            0.17,
            0.21,
            0.64
           ],
           "y": [
            "Granite Brewery &#40;Halifax&#41;",
            "Brasserie de Rochefort",
            "Bedondaine et Bedons Ronds",
            "Coastal Extreme Brewing Co.",
            "Sierra Madre Brewing Co.",
            "Bushwakker Brewing Company",
            "Big Ridge Brewing Co.",
            "Brouemont",
            "Dix BBQ & Brewery",
            "Seabright Brewery"
           ]
          }
         ],
         "layout": {
          "bargap": 0.15,
          "font": {
           "size": 14
          },
          "plot_bgcolor": "#FFFFFF",
          "title": {
           "text": "Top 10 beers in the world from 2000 to 2017"
          },
          "xaxis": {
           "range": [
            0,
            1.26
           ],
           "showline": true,
           "visible": true
          },
          "yaxis": {
           "showline": false,
           "visible": true
          }
         },
         "name": "2007"
        },
        {
         "data": [
          {
           "cliponaxis": false,
           "hoverinfo": "all",
           "hovertemplate": "<extra></extra>",
           "marker": {
            "color": [
             "rgb(236, 226, 173)",
             "rgb(157, 214, 119)",
             "rgb(105, 103, 251)",
             "rgb(147, 64, 193)",
             "rgb(115, 68, 92)",
             "rgb(51, 87, 235)",
             "rgb(57, 148, 222)",
             "rgb(184, 65, 20)",
             "rgb(254, 80, 14)",
             "rgb(191, 77, 230)"
            ]
           },
           "orientation": "h",
           "textangle": 0,
           "textposition": "outside",
           "texttemplate": "%{y}<br>%{x:.4s}",
           "type": "bar",
           "x": [
            0.08,
            0.09,
            0.09,
            0.09,
            0.1,
            0.1,
            0.11,
            0.15,
            0.18,
            0.2
           ],
           "y": [
            "Nynäshamns Ångbryggeri",
            "Beer Factory Restaurant & Wood Grill",
            "Southampton Publick House",
            "Russian River Brewing Company",
            "Bièropholie",
            "AleSmith Brewing Company",
            "Uncommon Brewers",
            "Hida Takayama Beer",
            "Sea Level Brewing",
            "Seabright Brewery"
           ]
          }
         ],
         "layout": {
          "bargap": 0.15,
          "font": {
           "size": 14
          },
          "plot_bgcolor": "#FFFFFF",
          "title": {
           "text": "Top 10 beers in the world from 2000 to 2017"
          },
          "xaxis": {
           "range": [
            0,
            1.26
           ],
           "showline": true,
           "visible": true
          },
          "yaxis": {
           "showline": false,
           "visible": true
          }
         },
         "name": "2008"
        },
        {
         "data": [
          {
           "cliponaxis": false,
           "hoverinfo": "all",
           "hovertemplate": "<extra></extra>",
           "marker": {
            "color": [
             "rgb(49, 44, 161)",
             "rgb(14, 109, 40)",
             "rgb(105, 90, 255)",
             "rgb(245, 7, 174)",
             "rgb(51, 56, 65)",
             "rgb(145, 7, 81)",
             "rgb(136, 134, 2)",
             "rgb(107, 233, 131)",
             "rgb(219, 236, 237)",
             "rgb(96, 154, 115)"
            ]
           },
           "orientation": "h",
           "textangle": 0,
           "textposition": "outside",
           "texttemplate": "%{y}<br>%{x:.4s}",
           "type": "bar",
           "x": [
            0.11,
            0.12,
            0.13,
            0.13,
            0.13,
            0.15,
            0.18,
            0.19,
            0.19,
            1.11
           ],
           "y": [
            "Nebraska Brewing Company",
            "Merchant Ale House / Murray Street Brewing",
            "Duggans Brewery",
            "Hopworks Urban Brewery",
            "Captain Lawrence Brewing Co.",
            "Rohrbach Brewing Company (Brewpub)",
            "Cotleigh Brewery",
            "Birrificio Montegioco",
            "Beer Here",
            "Hart & Thistle"
           ]
          }
         ],
         "layout": {
          "bargap": 0.15,
          "font": {
           "size": 14
          },
          "plot_bgcolor": "#FFFFFF",
          "title": {
           "text": "Top 10 beers in the world from 2000 to 2017"
          },
          "xaxis": {
           "range": [
            0,
            1.26
           ],
           "showline": true,
           "visible": true
          },
          "yaxis": {
           "showline": false,
           "visible": true
          }
         },
         "name": "2009"
        },
        {
         "data": [
          {
           "cliponaxis": false,
           "hoverinfo": "all",
           "hovertemplate": "<extra></extra>",
           "marker": {
            "color": [
             "rgb(219, 236, 237)",
             "rgb(83, 7, 71)",
             "rgb(151, 138, 225)",
             "rgb(194, 217, 213)",
             "rgb(216, 213, 107)",
             "rgb(136, 134, 2)",
             "rgb(105, 90, 255)",
             "rgb(63, 194, 179)",
             "rgb(145, 7, 81)",
             "rgb(12, 47, 10)"
            ]
           },
           "orientation": "h",
           "textangle": 0,
           "textposition": "outside",
           "texttemplate": "%{y}<br>%{x:.4s}",
           "type": "bar",
           "x": [
            0.1,
            0.1,
            0.11,
            0.11,
            0.13,
            0.13,
            0.13,
            0.17,
            0.23,
            0.38
           ],
           "y": [
            "Beer Here",
            "Le Saint-Bock",
            "Brouwerij 3 Fonteinen",
            "Butcombe Brewery Ltd.",
            "Bierbrier Brewing Inc.",
            "Cotleigh Brewery",
            "Duggans Brewery",
            "Brouemont",
            "Rohrbach Brewing Company (Brewpub)",
            "Dix BBQ & Brewery"
           ]
          }
         ],
         "layout": {
          "bargap": 0.15,
          "font": {
           "size": 14
          },
          "plot_bgcolor": "#FFFFFF",
          "title": {
           "text": "Top 10 beers in the world from 2000 to 2017"
          },
          "xaxis": {
           "range": [
            0,
            1.26
           ],
           "showline": true,
           "visible": true
          },
          "yaxis": {
           "showline": false,
           "visible": true
          }
         },
         "name": "2010"
        },
        {
         "data": [
          {
           "cliponaxis": false,
           "hoverinfo": "all",
           "hovertemplate": "<extra></extra>",
           "marker": {
            "color": [
             "rgb(203, 135, 137)",
             "rgb(51, 56, 65)",
             "rgb(44, 98, 237)",
             "rgb(151, 138, 225)",
             "rgb(210, 186, 247)",
             "rgb(68, 205, 174)",
             "rgb(2, 77, 44)",
             "rgb(100, 235, 249)",
             "rgb(162, 137, 253)",
             "rgb(122, 120, 234)"
            ]
           },
           "orientation": "h",
           "textangle": 0,
           "textposition": "outside",
           "texttemplate": "%{y}<br>%{x:.4s}",
           "type": "bar",
           "x": [
            0.11,
            0.11,
            0.11,
            0.12,
            0.12,
            0.12,
            0.13,
            0.17,
            0.17,
            0.23
           ],
           "y": [
            "Pelican Pub & Brewery",
            "Captain Lawrence Brewing Co.",
            "Hill Farmstead Brewery",
            "Brouwerij 3 Fonteinen",
            "Beachwood BBQ & Brewing",
            "Brouwerij De Dochter van de Korenaar",
            "Freetail Brewing Company",
            "La Fabrique",
            "Windsor & Eton Brewery",
            "House Ales"
           ]
          }
         ],
         "layout": {
          "bargap": 0.15,
          "font": {
           "size": 14
          },
          "plot_bgcolor": "#FFFFFF",
          "title": {
           "text": "Top 10 beers in the world from 2000 to 2017"
          },
          "xaxis": {
           "range": [
            0,
            1.26
           ],
           "showline": true,
           "visible": true
          },
          "yaxis": {
           "showline": false,
           "visible": true
          }
         },
         "name": "2011"
        },
        {
         "data": [
          {
           "cliponaxis": false,
           "hoverinfo": "all",
           "hovertemplate": "<extra></extra>",
           "marker": {
            "color": [
             "rgb(44, 98, 237)",
             "rgb(0, 1, 28)",
             "rgb(100, 126, 99)",
             "rgb(88, 230, 77)",
             "rgb(122, 120, 234)",
             "rgb(2, 77, 44)",
             "rgb(162, 137, 253)",
             "rgb(171, 100, 80)",
             "rgb(74, 233, 14)",
             "rgb(7, 172, 141)"
            ]
           },
           "orientation": "h",
           "textangle": 0,
           "textposition": "outside",
           "texttemplate": "%{y}<br>%{x:.4s}",
           "type": "bar",
           "x": [
            0.17,
            0.19,
            0.2,
            0.21,
            0.22,
            0.22,
            0.25,
            0.27,
            0.35,
            0.87
           ],
           "y": [
            "Hill Farmstead Brewery",
            "Perennial Artisan Ales",
            "Beer Academy",
            "Microbrasserie des Beaux Prés",
            "House Ales",
            "Freetail Brewing Company",
            "Windsor & Eton Brewery",
            "Burnt Hickory Brewery",
            "Sigtuna Brygghus",
            "Bewdley Brewery Co."
           ]
          }
         ],
         "layout": {
          "bargap": 0.15,
          "font": {
           "size": 14
          },
          "plot_bgcolor": "#FFFFFF",
          "title": {
           "text": "Top 10 beers in the world from 2000 to 2017"
          },
          "xaxis": {
           "range": [
            0,
            1.26
           ],
           "showline": true,
           "visible": true
          },
          "yaxis": {
           "showline": false,
           "visible": true
          }
         },
         "name": "2012"
        },
        {
         "data": [
          {
           "cliponaxis": false,
           "hoverinfo": "all",
           "hovertemplate": "<extra></extra>",
           "marker": {
            "color": [
             "rgb(15, 249, 238)",
             "rgb(168, 50, 82)",
             "rgb(18, 161, 54)",
             "rgb(155, 231, 194)",
             "rgb(67, 232, 120)",
             "rgb(224, 198, 48)",
             "rgb(252, 107, 34)",
             "rgb(105, 251, 35)",
             "rgb(190, 207, 56)",
             "rgb(244, 238, 36)"
            ]
           },
           "orientation": "h",
           "textangle": 0,
           "textposition": "outside",
           "texttemplate": "%{y}<br>%{x:.4s}",
           "type": "bar",
           "x": [
            0.19,
            0.2,
            0.22,
            0.23,
            0.27,
            0.29,
            0.33,
            0.33,
            0.54,
            0.55
           ],
           "y": [
            "Fabrica de Bere Bună",
            "Toppling Goliath Brewing Company",
            "Pipeworks Brewing Company",
            "Sante Adairius Rustic Ales",
            "Fiddlehead Brewing Company",
            "Blue Lobster Brewing Company",
            "Jing-A (京A) Brewing Co.",
            "Societe Brewing Co.",
            "Griffin Claw Brewing Company",
            "Ashton Brewing"
           ]
          }
         ],
         "layout": {
          "bargap": 0.15,
          "font": {
           "size": 14
          },
          "plot_bgcolor": "#FFFFFF",
          "title": {
           "text": "Top 10 beers in the world from 2000 to 2017"
          },
          "xaxis": {
           "range": [
            0,
            1.26
           ],
           "showline": true,
           "visible": true
          },
          "yaxis": {
           "showline": false,
           "visible": true
          }
         },
         "name": "2013"
        },
        {
         "data": [
          {
           "cliponaxis": false,
           "hoverinfo": "all",
           "hovertemplate": "<extra></extra>",
           "marker": {
            "color": [
             "rgb(67, 232, 120)",
             "rgb(207, 26, 131)",
             "rgb(74, 230, 123)",
             "rgb(223, 153, 225)",
             "rgb(210, 74, 229)",
             "rgb(49, 128, 150)",
             "rgb(179, 121, 174)",
             "rgb(153, 215, 92)",
             "rgb(156, 225, 14)",
             "rgb(241, 8, 224)"
            ]
           },
           "orientation": "h",
           "textangle": 0,
           "textposition": "outside",
           "texttemplate": "%{y}<br>%{x:.4s}",
           "type": "bar",
           "x": [
            0.22,
            0.23,
            0.23,
            0.24,
            0.24,
            0.24,
            0.25,
            0.26,
            0.32,
            0.37
           ],
           "y": [
            "Fiddlehead Brewing Company",
            "Lawson's Finest Liquids",
            "Three Taverns Craft Brewery",
            "Brekeriet",
            "Far Yeast Brewing Company",
            "North Brewing Co.",
            "Rockbottom Brewpub",
            "Benelux Brasserie Artisanale &#40;Verdun&#41;",
            "Border Psycho Brewery",
            "Gigantic Brewing Company"
           ]
          }
         ],
         "layout": {
          "bargap": 0.15,
          "font": {
           "size": 14
          },
          "plot_bgcolor": "#FFFFFF",
          "title": {
           "text": "Top 10 beers in the world from 2000 to 2017"
          },
          "xaxis": {
           "range": [
            0,
            1.26
           ],
           "showline": true,
           "visible": true
          },
          "yaxis": {
           "showline": false,
           "visible": true
          }
         },
         "name": "2014"
        },
        {
         "data": [
          {
           "cliponaxis": false,
           "hoverinfo": "all",
           "hovertemplate": "<extra></extra>",
           "marker": {
            "color": [
             "rgb(232, 186, 169)",
             "rgb(168, 50, 82)",
             "rgb(67, 232, 120)",
             "rgb(240, 66, 92)",
             "rgb(108, 98, 86)",
             "rgb(131, 78, 227)",
             "rgb(254, 214, 94)",
             "rgb(113, 19, 103)",
             "rgb(26, 136, 104)",
             "rgb(93, 66, 112)"
            ]
           },
           "orientation": "h",
           "textangle": 0,
           "textposition": "outside",
           "texttemplate": "%{y}<br>%{x:.4s}",
           "type": "bar",
           "x": [
            0.28,
            0.28,
            0.29,
            0.34,
            0.34,
            0.39,
            0.43,
            0.46,
            0.47,
            0.71
           ],
           "y": [
            "Ægir Bryggeri",
            "Toppling Goliath Brewing Company",
            "Fiddlehead Brewing Company",
            "Bissell Brothers Brewing Co.",
            "Throwback Brewery",
            "Grimm Artisanal Ales",
            "Manantler Brewing",
            "Stoneface Brewing Co.",
            "Orpheus Brewing",
            "Great North Aleworks"
           ]
          }
         ],
         "layout": {
          "bargap": 0.15,
          "font": {
           "size": 14
          },
          "plot_bgcolor": "#FFFFFF",
          "title": {
           "text": "Top 10 beers in the world from 2000 to 2017"
          },
          "xaxis": {
           "range": [
            0,
            1.26
           ],
           "showline": true,
           "visible": true
          },
          "yaxis": {
           "showline": false,
           "visible": true
          }
         },
         "name": "2015"
        },
        {
         "data": [
          {
           "cliponaxis": false,
           "hoverinfo": "all",
           "hovertemplate": "<extra></extra>",
           "marker": {
            "color": [
             "rgb(131, 78, 227)",
             "rgb(148, 212, 64)",
             "rgb(64, 234, 176)",
             "rgb(124, 208, 103)",
             "rgb(60, 53, 121)",
             "rgb(240, 66, 92)",
             "rgb(95, 155, 54)",
             "rgb(36, 214, 146)",
             "rgb(91, 171, 191)",
             "rgb(249, 181, 59)"
            ]
           },
           "orientation": "h",
           "textangle": 0,
           "textposition": "outside",
           "texttemplate": "%{y}<br>%{x:.4s}",
           "type": "bar",
           "x": [
            0.41,
            0.43,
            0.44,
            0.49,
            0.51,
            0.53,
            0.57,
            0.64,
            0.79,
            1.26
           ],
           "y": [
            "Grimm Artisanal Ales",
            "Microbrasserie la Memphré",
            "Cloudwater Brew Co.",
            "Modern Times Beer",
            "Brasserie Auval Brewing Co.",
            "Bissell Brothers Brewing Co.",
            "Microbrasserie Maltstrom",
            "Stigbergets Bryggeri",
            "Manantler Craft Brewing",
            "Boombox"
           ]
          }
         ],
         "layout": {
          "bargap": 0.15,
          "font": {
           "size": 14
          },
          "plot_bgcolor": "#FFFFFF",
          "title": {
           "text": "Top 10 beers in the world from 2000 to 2017"
          },
          "xaxis": {
           "range": [
            0,
            1.26
           ],
           "showline": true,
           "visible": true
          },
          "yaxis": {
           "showline": false,
           "visible": true
          }
         },
         "name": "2016"
        },
        {
         "data": [
          {
           "cliponaxis": false,
           "hoverinfo": "all",
           "hovertemplate": "<extra></extra>",
           "marker": {
            "color": [
             "rgb(185, 96, 129)",
             "rgb(4, 111, 244)",
             "rgb(117, 67, 255)",
             "rgb(60, 53, 121)",
             "rgb(95, 155, 54)",
             "rgb(64, 234, 176)",
             "rgb(172, 251, 216)",
             "rgb(236, 147, 162)",
             "rgb(122, 88, 103)",
             "rgb(36, 214, 146)"
            ]
           },
           "orientation": "h",
           "textangle": 0,
           "textposition": "outside",
           "texttemplate": "%{y}<br>%{x:.4s}",
           "type": "bar",
           "x": [
            0.33,
            0.37,
            0.39,
            0.4,
            0.44,
            0.52,
            0.54,
            0.55,
            0.59,
            0.85
           ],
           "y": [
            "Nova Runda",
            "Hop Hooligans",
            "Brasserie Harricana",
            "Brasserie Auval Brewing Co.",
            "Microbrasserie Maltstrom",
            "Cloudwater Brew Co.",
            "Microbrasserie Vox Populi",
            "Situation Brewing",
            "Strathcona Beer Company",
            "Stigbergets Bryggeri"
           ]
          }
         ],
         "layout": {
          "bargap": 0.15,
          "font": {
           "size": 14
          },
          "plot_bgcolor": "#FFFFFF",
          "title": {
           "text": "Top 10 beers in the world from 2000 to 2017"
          },
          "xaxis": {
           "range": [
            0,
            1.26
           ],
           "showline": true,
           "visible": true
          },
          "yaxis": {
           "showline": false,
           "visible": true
          }
         },
         "name": "2017"
        }
       ],
       "layout": {
        "bargap": 0.15,
        "font": {
         "size": 14
        },
        "plot_bgcolor": "#FFFFFF",
        "sliders": [
         {
          "active": 0,
          "currentvalue": {
           "font": {
            "size": 20
           },
           "prefix": "Date: ",
           "visible": true,
           "xanchor": "right"
          },
          "len": 0.9,
          "pad": {
           "b": 10,
           "t": 50
          },
          "steps": [
           {
            "args": [
             [
              "1998"
             ],
             {
              "frame": {
               "duration": 800,
               "redraw": false
              },
              "mode": "immediate",
              "transition": {
               "duration": 800
              }
             }
            ],
            "label": "1998",
            "method": "animate"
           },
           {
            "args": [
             [
              "2000"
             ],
             {
              "frame": {
               "duration": 800,
               "redraw": false
              },
              "mode": "immediate",
              "transition": {
               "duration": 800
              }
             }
            ],
            "label": "2000",
            "method": "animate"
           },
           {
            "args": [
             [
              "2001"
             ],
             {
              "frame": {
               "duration": 800,
               "redraw": false
              },
              "mode": "immediate",
              "transition": {
               "duration": 800
              }
             }
            ],
            "label": "2001",
            "method": "animate"
           },
           {
            "args": [
             [
              "2002"
             ],
             {
              "frame": {
               "duration": 800,
               "redraw": false
              },
              "mode": "immediate",
              "transition": {
               "duration": 800
              }
             }
            ],
            "label": "2002",
            "method": "animate"
           },
           {
            "args": [
             [
              "2003"
             ],
             {
              "frame": {
               "duration": 800,
               "redraw": false
              },
              "mode": "immediate",
              "transition": {
               "duration": 800
              }
             }
            ],
            "label": "2003",
            "method": "animate"
           },
           {
            "args": [
             [
              "2004"
             ],
             {
              "frame": {
               "duration": 800,
               "redraw": false
              },
              "mode": "immediate",
              "transition": {
               "duration": 800
              }
             }
            ],
            "label": "2004",
            "method": "animate"
           },
           {
            "args": [
             [
              "2005"
             ],
             {
              "frame": {
               "duration": 800,
               "redraw": false
              },
              "mode": "immediate",
              "transition": {
               "duration": 800
              }
             }
            ],
            "label": "2005",
            "method": "animate"
           },
           {
            "args": [
             [
              "2006"
             ],
             {
              "frame": {
               "duration": 800,
               "redraw": false
              },
              "mode": "immediate",
              "transition": {
               "duration": 800
              }
             }
            ],
            "label": "2006",
            "method": "animate"
           },
           {
            "args": [
             [
              "2007"
             ],
             {
              "frame": {
               "duration": 800,
               "redraw": false
              },
              "mode": "immediate",
              "transition": {
               "duration": 800
              }
             }
            ],
            "label": "2007",
            "method": "animate"
           },
           {
            "args": [
             [
              "2008"
             ],
             {
              "frame": {
               "duration": 800,
               "redraw": false
              },
              "mode": "immediate",
              "transition": {
               "duration": 800
              }
             }
            ],
            "label": "2008",
            "method": "animate"
           },
           {
            "args": [
             [
              "2009"
             ],
             {
              "frame": {
               "duration": 800,
               "redraw": false
              },
              "mode": "immediate",
              "transition": {
               "duration": 800
              }
             }
            ],
            "label": "2009",
            "method": "animate"
           },
           {
            "args": [
             [
              "2010"
             ],
             {
              "frame": {
               "duration": 800,
               "redraw": false
              },
              "mode": "immediate",
              "transition": {
               "duration": 800
              }
             }
            ],
            "label": "2010",
            "method": "animate"
           },
           {
            "args": [
             [
              "2011"
             ],
             {
              "frame": {
               "duration": 800,
               "redraw": false
              },
              "mode": "immediate",
              "transition": {
               "duration": 800
              }
             }
            ],
            "label": "2011",
            "method": "animate"
           },
           {
            "args": [
             [
              "2012"
             ],
             {
              "frame": {
               "duration": 800,
               "redraw": false
              },
              "mode": "immediate",
              "transition": {
               "duration": 800
              }
             }
            ],
            "label": "2012",
            "method": "animate"
           },
           {
            "args": [
             [
              "2013"
             ],
             {
              "frame": {
               "duration": 800,
               "redraw": false
              },
              "mode": "immediate",
              "transition": {
               "duration": 800
              }
             }
            ],
            "label": "2013",
            "method": "animate"
           },
           {
            "args": [
             [
              "2014"
             ],
             {
              "frame": {
               "duration": 800,
               "redraw": false
              },
              "mode": "immediate",
              "transition": {
               "duration": 800
              }
             }
            ],
            "label": "2014",
            "method": "animate"
           },
           {
            "args": [
             [
              "2015"
             ],
             {
              "frame": {
               "duration": 800,
               "redraw": false
              },
              "mode": "immediate",
              "transition": {
               "duration": 800
              }
             }
            ],
            "label": "2015",
            "method": "animate"
           },
           {
            "args": [
             [
              "2016"
             ],
             {
              "frame": {
               "duration": 800,
               "redraw": false
              },
              "mode": "immediate",
              "transition": {
               "duration": 800
              }
             }
            ],
            "label": "2016",
            "method": "animate"
           },
           {
            "args": [
             [
              "2017"
             ],
             {
              "frame": {
               "duration": 800,
               "redraw": false
              },
              "mode": "immediate",
              "transition": {
               "duration": 800
              }
             }
            ],
            "label": "2017",
            "method": "animate"
           }
          ],
          "transition": {
           "duration": 300,
           "easing": "cubic-in-out"
          },
          "x": 0.1,
          "xanchor": "left",
          "y": 0,
          "yanchor": "top"
         }
        ],
        "template": {
         "data": {
          "bar": [
           {
            "error_x": {
             "color": "#2a3f5f"
            },
            "error_y": {
             "color": "#2a3f5f"
            },
            "marker": {
             "line": {
              "color": "#E5ECF6",
              "width": 0.5
             },
             "pattern": {
              "fillmode": "overlay",
              "size": 10,
              "solidity": 0.2
             }
            },
            "type": "bar"
           }
          ],
          "barpolar": [
           {
            "marker": {
             "line": {
              "color": "#E5ECF6",
              "width": 0.5
             },
             "pattern": {
              "fillmode": "overlay",
              "size": 10,
              "solidity": 0.2
             }
            },
            "type": "barpolar"
           }
          ],
          "carpet": [
           {
            "aaxis": {
             "endlinecolor": "#2a3f5f",
             "gridcolor": "white",
             "linecolor": "white",
             "minorgridcolor": "white",
             "startlinecolor": "#2a3f5f"
            },
            "baxis": {
             "endlinecolor": "#2a3f5f",
             "gridcolor": "white",
             "linecolor": "white",
             "minorgridcolor": "white",
             "startlinecolor": "#2a3f5f"
            },
            "type": "carpet"
           }
          ],
          "choropleth": [
           {
            "colorbar": {
             "outlinewidth": 0,
             "ticks": ""
            },
            "type": "choropleth"
           }
          ],
          "contour": [
           {
            "colorbar": {
             "outlinewidth": 0,
             "ticks": ""
            },
            "colorscale": [
             [
              0,
              "#0d0887"
             ],
             [
              0.1111111111111111,
              "#46039f"
             ],
             [
              0.2222222222222222,
              "#7201a8"
             ],
             [
              0.3333333333333333,
              "#9c179e"
             ],
             [
              0.4444444444444444,
              "#bd3786"
             ],
             [
              0.5555555555555556,
              "#d8576b"
             ],
             [
              0.6666666666666666,
              "#ed7953"
             ],
             [
              0.7777777777777778,
              "#fb9f3a"
             ],
             [
              0.8888888888888888,
              "#fdca26"
             ],
             [
              1,
              "#f0f921"
             ]
            ],
            "type": "contour"
           }
          ],
          "contourcarpet": [
           {
            "colorbar": {
             "outlinewidth": 0,
             "ticks": ""
            },
            "type": "contourcarpet"
           }
          ],
          "heatmap": [
           {
            "colorbar": {
             "outlinewidth": 0,
             "ticks": ""
            },
            "colorscale": [
             [
              0,
              "#0d0887"
             ],
             [
              0.1111111111111111,
              "#46039f"
             ],
             [
              0.2222222222222222,
              "#7201a8"
             ],
             [
              0.3333333333333333,
              "#9c179e"
             ],
             [
              0.4444444444444444,
              "#bd3786"
             ],
             [
              0.5555555555555556,
              "#d8576b"
             ],
             [
              0.6666666666666666,
              "#ed7953"
             ],
             [
              0.7777777777777778,
              "#fb9f3a"
             ],
             [
              0.8888888888888888,
              "#fdca26"
             ],
             [
              1,
              "#f0f921"
             ]
            ],
            "type": "heatmap"
           }
          ],
          "heatmapgl": [
           {
            "colorbar": {
             "outlinewidth": 0,
             "ticks": ""
            },
            "colorscale": [
             [
              0,
              "#0d0887"
             ],
             [
              0.1111111111111111,
              "#46039f"
             ],
             [
              0.2222222222222222,
              "#7201a8"
             ],
             [
              0.3333333333333333,
              "#9c179e"
             ],
             [
              0.4444444444444444,
              "#bd3786"
             ],
             [
              0.5555555555555556,
              "#d8576b"
             ],
             [
              0.6666666666666666,
              "#ed7953"
             ],
             [
              0.7777777777777778,
              "#fb9f3a"
             ],
             [
              0.8888888888888888,
              "#fdca26"
             ],
             [
              1,
              "#f0f921"
             ]
            ],
            "type": "heatmapgl"
           }
          ],
          "histogram": [
           {
            "marker": {
             "pattern": {
              "fillmode": "overlay",
              "size": 10,
              "solidity": 0.2
             }
            },
            "type": "histogram"
           }
          ],
          "histogram2d": [
           {
            "colorbar": {
             "outlinewidth": 0,
             "ticks": ""
            },
            "colorscale": [
             [
              0,
              "#0d0887"
             ],
             [
              0.1111111111111111,
              "#46039f"
             ],
             [
              0.2222222222222222,
              "#7201a8"
             ],
             [
              0.3333333333333333,
              "#9c179e"
             ],
             [
              0.4444444444444444,
              "#bd3786"
             ],
             [
              0.5555555555555556,
              "#d8576b"
             ],
             [
              0.6666666666666666,
              "#ed7953"
             ],
             [
              0.7777777777777778,
              "#fb9f3a"
             ],
             [
              0.8888888888888888,
              "#fdca26"
             ],
             [
              1,
              "#f0f921"
             ]
            ],
            "type": "histogram2d"
           }
          ],
          "histogram2dcontour": [
           {
            "colorbar": {
             "outlinewidth": 0,
             "ticks": ""
            },
            "colorscale": [
             [
              0,
              "#0d0887"
             ],
             [
              0.1111111111111111,
              "#46039f"
             ],
             [
              0.2222222222222222,
              "#7201a8"
             ],
             [
              0.3333333333333333,
              "#9c179e"
             ],
             [
              0.4444444444444444,
              "#bd3786"
             ],
             [
              0.5555555555555556,
              "#d8576b"
             ],
             [
              0.6666666666666666,
              "#ed7953"
             ],
             [
              0.7777777777777778,
              "#fb9f3a"
             ],
             [
              0.8888888888888888,
              "#fdca26"
             ],
             [
              1,
              "#f0f921"
             ]
            ],
            "type": "histogram2dcontour"
           }
          ],
          "mesh3d": [
           {
            "colorbar": {
             "outlinewidth": 0,
             "ticks": ""
            },
            "type": "mesh3d"
           }
          ],
          "parcoords": [
           {
            "line": {
             "colorbar": {
              "outlinewidth": 0,
              "ticks": ""
             }
            },
            "type": "parcoords"
           }
          ],
          "pie": [
           {
            "automargin": true,
            "type": "pie"
           }
          ],
          "scatter": [
           {
            "fillpattern": {
             "fillmode": "overlay",
             "size": 10,
             "solidity": 0.2
            },
            "type": "scatter"
           }
          ],
          "scatter3d": [
           {
            "line": {
             "colorbar": {
              "outlinewidth": 0,
              "ticks": ""
             }
            },
            "marker": {
             "colorbar": {
              "outlinewidth": 0,
              "ticks": ""
             }
            },
            "type": "scatter3d"
           }
          ],
          "scattercarpet": [
           {
            "marker": {
             "colorbar": {
              "outlinewidth": 0,
              "ticks": ""
             }
            },
            "type": "scattercarpet"
           }
          ],
          "scattergeo": [
           {
            "marker": {
             "colorbar": {
              "outlinewidth": 0,
              "ticks": ""
             }
            },
            "type": "scattergeo"
           }
          ],
          "scattergl": [
           {
            "marker": {
             "colorbar": {
              "outlinewidth": 0,
              "ticks": ""
             }
            },
            "type": "scattergl"
           }
          ],
          "scattermapbox": [
           {
            "marker": {
             "colorbar": {
              "outlinewidth": 0,
              "ticks": ""
             }
            },
            "type": "scattermapbox"
           }
          ],
          "scatterpolar": [
           {
            "marker": {
             "colorbar": {
              "outlinewidth": 0,
              "ticks": ""
             }
            },
            "type": "scatterpolar"
           }
          ],
          "scatterpolargl": [
           {
            "marker": {
             "colorbar": {
              "outlinewidth": 0,
              "ticks": ""
             }
            },
            "type": "scatterpolargl"
           }
          ],
          "scatterternary": [
           {
            "marker": {
             "colorbar": {
              "outlinewidth": 0,
              "ticks": ""
             }
            },
            "type": "scatterternary"
           }
          ],
          "surface": [
           {
            "colorbar": {
             "outlinewidth": 0,
             "ticks": ""
            },
            "colorscale": [
             [
              0,
              "#0d0887"
             ],
             [
              0.1111111111111111,
              "#46039f"
             ],
             [
              0.2222222222222222,
              "#7201a8"
             ],
             [
              0.3333333333333333,
              "#9c179e"
             ],
             [
              0.4444444444444444,
              "#bd3786"
             ],
             [
              0.5555555555555556,
              "#d8576b"
             ],
             [
              0.6666666666666666,
              "#ed7953"
             ],
             [
              0.7777777777777778,
              "#fb9f3a"
             ],
             [
              0.8888888888888888,
              "#fdca26"
             ],
             [
              1,
              "#f0f921"
             ]
            ],
            "type": "surface"
           }
          ],
          "table": [
           {
            "cells": {
             "fill": {
              "color": "#EBF0F8"
             },
             "line": {
              "color": "white"
             }
            },
            "header": {
             "fill": {
              "color": "#C8D4E3"
             },
             "line": {
              "color": "white"
             }
            },
            "type": "table"
           }
          ]
         },
         "layout": {
          "annotationdefaults": {
           "arrowcolor": "#2a3f5f",
           "arrowhead": 0,
           "arrowwidth": 1
          },
          "autotypenumbers": "strict",
          "coloraxis": {
           "colorbar": {
            "outlinewidth": 0,
            "ticks": ""
           }
          },
          "colorscale": {
           "diverging": [
            [
             0,
             "#8e0152"
            ],
            [
             0.1,
             "#c51b7d"
            ],
            [
             0.2,
             "#de77ae"
            ],
            [
             0.3,
             "#f1b6da"
            ],
            [
             0.4,
             "#fde0ef"
            ],
            [
             0.5,
             "#f7f7f7"
            ],
            [
             0.6,
             "#e6f5d0"
            ],
            [
             0.7,
             "#b8e186"
            ],
            [
             0.8,
             "#7fbc41"
            ],
            [
             0.9,
             "#4d9221"
            ],
            [
             1,
             "#276419"
            ]
           ],
           "sequential": [
            [
             0,
             "#0d0887"
            ],
            [
             0.1111111111111111,
             "#46039f"
            ],
            [
             0.2222222222222222,
             "#7201a8"
            ],
            [
             0.3333333333333333,
             "#9c179e"
            ],
            [
             0.4444444444444444,
             "#bd3786"
            ],
            [
             0.5555555555555556,
             "#d8576b"
            ],
            [
             0.6666666666666666,
             "#ed7953"
            ],
            [
             0.7777777777777778,
             "#fb9f3a"
            ],
            [
             0.8888888888888888,
             "#fdca26"
            ],
            [
             1,
             "#f0f921"
            ]
           ],
           "sequentialminus": [
            [
             0,
             "#0d0887"
            ],
            [
             0.1111111111111111,
             "#46039f"
            ],
            [
             0.2222222222222222,
             "#7201a8"
            ],
            [
             0.3333333333333333,
             "#9c179e"
            ],
            [
             0.4444444444444444,
             "#bd3786"
            ],
            [
             0.5555555555555556,
             "#d8576b"
            ],
            [
             0.6666666666666666,
             "#ed7953"
            ],
            [
             0.7777777777777778,
             "#fb9f3a"
            ],
            [
             0.8888888888888888,
             "#fdca26"
            ],
            [
             1,
             "#f0f921"
            ]
           ]
          },
          "colorway": [
           "#636efa",
           "#EF553B",
           "#00cc96",
           "#ab63fa",
           "#FFA15A",
           "#19d3f3",
           "#FF6692",
           "#B6E880",
           "#FF97FF",
           "#FECB52"
          ],
          "font": {
           "color": "#2a3f5f"
          },
          "geo": {
           "bgcolor": "white",
           "lakecolor": "white",
           "landcolor": "#E5ECF6",
           "showlakes": true,
           "showland": true,
           "subunitcolor": "white"
          },
          "hoverlabel": {
           "align": "left"
          },
          "hovermode": "closest",
          "mapbox": {
           "style": "light"
          },
          "paper_bgcolor": "white",
          "plot_bgcolor": "#E5ECF6",
          "polar": {
           "angularaxis": {
            "gridcolor": "white",
            "linecolor": "white",
            "ticks": ""
           },
           "bgcolor": "#E5ECF6",
           "radialaxis": {
            "gridcolor": "white",
            "linecolor": "white",
            "ticks": ""
           }
          },
          "scene": {
           "xaxis": {
            "backgroundcolor": "#E5ECF6",
            "gridcolor": "white",
            "gridwidth": 2,
            "linecolor": "white",
            "showbackground": true,
            "ticks": "",
            "zerolinecolor": "white"
           },
           "yaxis": {
            "backgroundcolor": "#E5ECF6",
            "gridcolor": "white",
            "gridwidth": 2,
            "linecolor": "white",
            "showbackground": true,
            "ticks": "",
            "zerolinecolor": "white"
           },
           "zaxis": {
            "backgroundcolor": "#E5ECF6",
            "gridcolor": "white",
            "gridwidth": 2,
            "linecolor": "white",
            "showbackground": true,
            "ticks": "",
            "zerolinecolor": "white"
           }
          },
          "shapedefaults": {
           "line": {
            "color": "#2a3f5f"
           }
          },
          "ternary": {
           "aaxis": {
            "gridcolor": "white",
            "linecolor": "white",
            "ticks": ""
           },
           "baxis": {
            "gridcolor": "white",
            "linecolor": "white",
            "ticks": ""
           },
           "bgcolor": "#E5ECF6",
           "caxis": {
            "gridcolor": "white",
            "linecolor": "white",
            "ticks": ""
           }
          },
          "title": {
           "x": 0.05
          },
          "xaxis": {
           "automargin": true,
           "gridcolor": "white",
           "linecolor": "white",
           "ticks": "",
           "title": {
            "standoff": 15
           },
           "zerolinecolor": "white",
           "zerolinewidth": 2
          },
          "yaxis": {
           "automargin": true,
           "gridcolor": "white",
           "linecolor": "white",
           "ticks": "",
           "title": {
            "standoff": 15
           },
           "zerolinecolor": "white",
           "zerolinewidth": 2
          }
         }
        },
        "title": {
         "text": "Top 10 beers in the world from 2000 to 2017"
        },
        "updatemenus": [
         {
          "buttons": [
           {
            "args": [
             null,
             {
              "frame": {
               "duration": 800,
               "redraw": false
              },
              "fromcurrent": true,
              "transition": {
               "duration": 800,
               "easing": "quadratic-in-out"
              }
             }
            ],
            "label": "Play",
            "method": "animate"
           },
           {
            "args": [
             [
              null
             ],
             {
              "frame": {
               "duration": 0,
               "redraw": false
              },
              "mode": "immediate",
              "transition": {
               "duration": 0
              }
             }
            ],
            "label": "Pause",
            "method": "animate"
           }
          ],
          "direction": "left",
          "pad": {
           "r": 10,
           "t": 87
          },
          "showactive": true,
          "type": "buttons",
          "x": 0.1,
          "xanchor": "right",
          "y": 0,
          "yanchor": "top"
         }
        ],
        "xaxis": {
         "range": [
          0,
          1.26
         ],
         "showline": true,
         "showticklabels": true,
         "title": {
          "text": "New rating"
         },
         "visible": true
        },
        "yaxis": {
         "showline": false,
         "showticklabels": false,
         "title": {
          "text": "Top 10 beers"
         },
         "visible": true
        }
       }
      },
      "text/html": [
       "<div>                        <script type=\"text/javascript\">window.PlotlyConfig = {MathJaxConfig: 'local'};</script>\n",
       "        <script charset=\"utf-8\" src=\"https://cdn.plot.ly/plotly-2.27.0.min.js\"></script>                <div id=\"c624fea4-a2ea-4d97-939a-94f54b6acd74\" class=\"plotly-graph-div\" style=\"height:100%; width:100%;\"></div>            <script type=\"text/javascript\">                                    window.PLOTLYENV=window.PLOTLYENV || {};                                    if (document.getElementById(\"c624fea4-a2ea-4d97-939a-94f54b6acd74\")) {                    Plotly.newPlot(                        \"c624fea4-a2ea-4d97-939a-94f54b6acd74\",                        [{\"cliponaxis\":false,\"hoverinfo\":\"all\",\"marker\":{\"color\":[\"rgb(133, 187, 180)\"]},\"orientation\":\"h\",\"textangle\":0,\"textposition\":\"outside\",\"texttemplate\":\"%{y}\\u003cbr\\u003e%{x:.4s}\",\"x\":[0.02],\"y\":[\"Whitbread PLC\"],\"type\":\"bar\"}],                        {\"bargap\":0.15,\"font\":{\"size\":14},\"plot_bgcolor\":\"#FFFFFF\",\"title\":{\"text\":\"Top 10 beers in the world from 2000 to 2017\"},\"xaxis\":{\"range\":[0,1.26],\"showline\":true,\"visible\":true,\"title\":{\"text\":\"New rating\"},\"showticklabels\":true},\"yaxis\":{\"showline\":false,\"visible\":true,\"title\":{\"text\":\"Top 10 beers\"},\"showticklabels\":false},\"template\":{\"data\":{\"histogram2dcontour\":[{\"type\":\"histogram2dcontour\",\"colorbar\":{\"outlinewidth\":0,\"ticks\":\"\"},\"colorscale\":[[0.0,\"#0d0887\"],[0.1111111111111111,\"#46039f\"],[0.2222222222222222,\"#7201a8\"],[0.3333333333333333,\"#9c179e\"],[0.4444444444444444,\"#bd3786\"],[0.5555555555555556,\"#d8576b\"],[0.6666666666666666,\"#ed7953\"],[0.7777777777777778,\"#fb9f3a\"],[0.8888888888888888,\"#fdca26\"],[1.0,\"#f0f921\"]]}],\"choropleth\":[{\"type\":\"choropleth\",\"colorbar\":{\"outlinewidth\":0,\"ticks\":\"\"}}],\"histogram2d\":[{\"type\":\"histogram2d\",\"colorbar\":{\"outlinewidth\":0,\"ticks\":\"\"},\"colorscale\":[[0.0,\"#0d0887\"],[0.1111111111111111,\"#46039f\"],[0.2222222222222222,\"#7201a8\"],[0.3333333333333333,\"#9c179e\"],[0.4444444444444444,\"#bd3786\"],[0.5555555555555556,\"#d8576b\"],[0.6666666666666666,\"#ed7953\"],[0.7777777777777778,\"#fb9f3a\"],[0.8888888888888888,\"#fdca26\"],[1.0,\"#f0f921\"]]}],\"heatmap\":[{\"type\":\"heatmap\",\"colorbar\":{\"outlinewidth\":0,\"ticks\":\"\"},\"colorscale\":[[0.0,\"#0d0887\"],[0.1111111111111111,\"#46039f\"],[0.2222222222222222,\"#7201a8\"],[0.3333333333333333,\"#9c179e\"],[0.4444444444444444,\"#bd3786\"],[0.5555555555555556,\"#d8576b\"],[0.6666666666666666,\"#ed7953\"],[0.7777777777777778,\"#fb9f3a\"],[0.8888888888888888,\"#fdca26\"],[1.0,\"#f0f921\"]]}],\"heatmapgl\":[{\"type\":\"heatmapgl\",\"colorbar\":{\"outlinewidth\":0,\"ticks\":\"\"},\"colorscale\":[[0.0,\"#0d0887\"],[0.1111111111111111,\"#46039f\"],[0.2222222222222222,\"#7201a8\"],[0.3333333333333333,\"#9c179e\"],[0.4444444444444444,\"#bd3786\"],[0.5555555555555556,\"#d8576b\"],[0.6666666666666666,\"#ed7953\"],[0.7777777777777778,\"#fb9f3a\"],[0.8888888888888888,\"#fdca26\"],[1.0,\"#f0f921\"]]}],\"contourcarpet\":[{\"type\":\"contourcarpet\",\"colorbar\":{\"outlinewidth\":0,\"ticks\":\"\"}}],\"contour\":[{\"type\":\"contour\",\"colorbar\":{\"outlinewidth\":0,\"ticks\":\"\"},\"colorscale\":[[0.0,\"#0d0887\"],[0.1111111111111111,\"#46039f\"],[0.2222222222222222,\"#7201a8\"],[0.3333333333333333,\"#9c179e\"],[0.4444444444444444,\"#bd3786\"],[0.5555555555555556,\"#d8576b\"],[0.6666666666666666,\"#ed7953\"],[0.7777777777777778,\"#fb9f3a\"],[0.8888888888888888,\"#fdca26\"],[1.0,\"#f0f921\"]]}],\"surface\":[{\"type\":\"surface\",\"colorbar\":{\"outlinewidth\":0,\"ticks\":\"\"},\"colorscale\":[[0.0,\"#0d0887\"],[0.1111111111111111,\"#46039f\"],[0.2222222222222222,\"#7201a8\"],[0.3333333333333333,\"#9c179e\"],[0.4444444444444444,\"#bd3786\"],[0.5555555555555556,\"#d8576b\"],[0.6666666666666666,\"#ed7953\"],[0.7777777777777778,\"#fb9f3a\"],[0.8888888888888888,\"#fdca26\"],[1.0,\"#f0f921\"]]}],\"mesh3d\":[{\"type\":\"mesh3d\",\"colorbar\":{\"outlinewidth\":0,\"ticks\":\"\"}}],\"scatter\":[{\"fillpattern\":{\"fillmode\":\"overlay\",\"size\":10,\"solidity\":0.2},\"type\":\"scatter\"}],\"parcoords\":[{\"type\":\"parcoords\",\"line\":{\"colorbar\":{\"outlinewidth\":0,\"ticks\":\"\"}}}],\"scatterpolargl\":[{\"type\":\"scatterpolargl\",\"marker\":{\"colorbar\":{\"outlinewidth\":0,\"ticks\":\"\"}}}],\"bar\":[{\"error_x\":{\"color\":\"#2a3f5f\"},\"error_y\":{\"color\":\"#2a3f5f\"},\"marker\":{\"line\":{\"color\":\"#E5ECF6\",\"width\":0.5},\"pattern\":{\"fillmode\":\"overlay\",\"size\":10,\"solidity\":0.2}},\"type\":\"bar\"}],\"scattergeo\":[{\"type\":\"scattergeo\",\"marker\":{\"colorbar\":{\"outlinewidth\":0,\"ticks\":\"\"}}}],\"scatterpolar\":[{\"type\":\"scatterpolar\",\"marker\":{\"colorbar\":{\"outlinewidth\":0,\"ticks\":\"\"}}}],\"histogram\":[{\"marker\":{\"pattern\":{\"fillmode\":\"overlay\",\"size\":10,\"solidity\":0.2}},\"type\":\"histogram\"}],\"scattergl\":[{\"type\":\"scattergl\",\"marker\":{\"colorbar\":{\"outlinewidth\":0,\"ticks\":\"\"}}}],\"scatter3d\":[{\"type\":\"scatter3d\",\"line\":{\"colorbar\":{\"outlinewidth\":0,\"ticks\":\"\"}},\"marker\":{\"colorbar\":{\"outlinewidth\":0,\"ticks\":\"\"}}}],\"scattermapbox\":[{\"type\":\"scattermapbox\",\"marker\":{\"colorbar\":{\"outlinewidth\":0,\"ticks\":\"\"}}}],\"scatterternary\":[{\"type\":\"scatterternary\",\"marker\":{\"colorbar\":{\"outlinewidth\":0,\"ticks\":\"\"}}}],\"scattercarpet\":[{\"type\":\"scattercarpet\",\"marker\":{\"colorbar\":{\"outlinewidth\":0,\"ticks\":\"\"}}}],\"carpet\":[{\"aaxis\":{\"endlinecolor\":\"#2a3f5f\",\"gridcolor\":\"white\",\"linecolor\":\"white\",\"minorgridcolor\":\"white\",\"startlinecolor\":\"#2a3f5f\"},\"baxis\":{\"endlinecolor\":\"#2a3f5f\",\"gridcolor\":\"white\",\"linecolor\":\"white\",\"minorgridcolor\":\"white\",\"startlinecolor\":\"#2a3f5f\"},\"type\":\"carpet\"}],\"table\":[{\"cells\":{\"fill\":{\"color\":\"#EBF0F8\"},\"line\":{\"color\":\"white\"}},\"header\":{\"fill\":{\"color\":\"#C8D4E3\"},\"line\":{\"color\":\"white\"}},\"type\":\"table\"}],\"barpolar\":[{\"marker\":{\"line\":{\"color\":\"#E5ECF6\",\"width\":0.5},\"pattern\":{\"fillmode\":\"overlay\",\"size\":10,\"solidity\":0.2}},\"type\":\"barpolar\"}],\"pie\":[{\"automargin\":true,\"type\":\"pie\"}]},\"layout\":{\"autotypenumbers\":\"strict\",\"colorway\":[\"#636efa\",\"#EF553B\",\"#00cc96\",\"#ab63fa\",\"#FFA15A\",\"#19d3f3\",\"#FF6692\",\"#B6E880\",\"#FF97FF\",\"#FECB52\"],\"font\":{\"color\":\"#2a3f5f\"},\"hovermode\":\"closest\",\"hoverlabel\":{\"align\":\"left\"},\"paper_bgcolor\":\"white\",\"plot_bgcolor\":\"#E5ECF6\",\"polar\":{\"bgcolor\":\"#E5ECF6\",\"angularaxis\":{\"gridcolor\":\"white\",\"linecolor\":\"white\",\"ticks\":\"\"},\"radialaxis\":{\"gridcolor\":\"white\",\"linecolor\":\"white\",\"ticks\":\"\"}},\"ternary\":{\"bgcolor\":\"#E5ECF6\",\"aaxis\":{\"gridcolor\":\"white\",\"linecolor\":\"white\",\"ticks\":\"\"},\"baxis\":{\"gridcolor\":\"white\",\"linecolor\":\"white\",\"ticks\":\"\"},\"caxis\":{\"gridcolor\":\"white\",\"linecolor\":\"white\",\"ticks\":\"\"}},\"coloraxis\":{\"colorbar\":{\"outlinewidth\":0,\"ticks\":\"\"}},\"colorscale\":{\"sequential\":[[0.0,\"#0d0887\"],[0.1111111111111111,\"#46039f\"],[0.2222222222222222,\"#7201a8\"],[0.3333333333333333,\"#9c179e\"],[0.4444444444444444,\"#bd3786\"],[0.5555555555555556,\"#d8576b\"],[0.6666666666666666,\"#ed7953\"],[0.7777777777777778,\"#fb9f3a\"],[0.8888888888888888,\"#fdca26\"],[1.0,\"#f0f921\"]],\"sequentialminus\":[[0.0,\"#0d0887\"],[0.1111111111111111,\"#46039f\"],[0.2222222222222222,\"#7201a8\"],[0.3333333333333333,\"#9c179e\"],[0.4444444444444444,\"#bd3786\"],[0.5555555555555556,\"#d8576b\"],[0.6666666666666666,\"#ed7953\"],[0.7777777777777778,\"#fb9f3a\"],[0.8888888888888888,\"#fdca26\"],[1.0,\"#f0f921\"]],\"diverging\":[[0,\"#8e0152\"],[0.1,\"#c51b7d\"],[0.2,\"#de77ae\"],[0.3,\"#f1b6da\"],[0.4,\"#fde0ef\"],[0.5,\"#f7f7f7\"],[0.6,\"#e6f5d0\"],[0.7,\"#b8e186\"],[0.8,\"#7fbc41\"],[0.9,\"#4d9221\"],[1,\"#276419\"]]},\"xaxis\":{\"gridcolor\":\"white\",\"linecolor\":\"white\",\"ticks\":\"\",\"title\":{\"standoff\":15},\"zerolinecolor\":\"white\",\"automargin\":true,\"zerolinewidth\":2},\"yaxis\":{\"gridcolor\":\"white\",\"linecolor\":\"white\",\"ticks\":\"\",\"title\":{\"standoff\":15},\"zerolinecolor\":\"white\",\"automargin\":true,\"zerolinewidth\":2},\"scene\":{\"xaxis\":{\"backgroundcolor\":\"#E5ECF6\",\"gridcolor\":\"white\",\"linecolor\":\"white\",\"showbackground\":true,\"ticks\":\"\",\"zerolinecolor\":\"white\",\"gridwidth\":2},\"yaxis\":{\"backgroundcolor\":\"#E5ECF6\",\"gridcolor\":\"white\",\"linecolor\":\"white\",\"showbackground\":true,\"ticks\":\"\",\"zerolinecolor\":\"white\",\"gridwidth\":2},\"zaxis\":{\"backgroundcolor\":\"#E5ECF6\",\"gridcolor\":\"white\",\"linecolor\":\"white\",\"showbackground\":true,\"ticks\":\"\",\"zerolinecolor\":\"white\",\"gridwidth\":2}},\"shapedefaults\":{\"line\":{\"color\":\"#2a3f5f\"}},\"annotationdefaults\":{\"arrowcolor\":\"#2a3f5f\",\"arrowhead\":0,\"arrowwidth\":1},\"geo\":{\"bgcolor\":\"white\",\"landcolor\":\"#E5ECF6\",\"subunitcolor\":\"white\",\"showland\":true,\"showlakes\":true,\"lakecolor\":\"white\"},\"title\":{\"x\":0.05},\"mapbox\":{\"style\":\"light\"}}},\"updatemenus\":[{\"buttons\":[{\"args\":[null,{\"frame\":{\"duration\":800,\"redraw\":false},\"fromcurrent\":true,\"transition\":{\"duration\":800,\"easing\":\"quadratic-in-out\"}}],\"label\":\"Play\",\"method\":\"animate\"},{\"args\":[[null],{\"frame\":{\"duration\":0,\"redraw\":false},\"mode\":\"immediate\",\"transition\":{\"duration\":0}}],\"label\":\"Pause\",\"method\":\"animate\"}],\"direction\":\"left\",\"pad\":{\"r\":10,\"t\":87},\"showactive\":true,\"type\":\"buttons\",\"x\":0.1,\"xanchor\":\"right\",\"y\":0,\"yanchor\":\"top\"}],\"sliders\":[{\"active\":0,\"currentvalue\":{\"font\":{\"size\":20},\"prefix\":\"Date: \",\"visible\":true,\"xanchor\":\"right\"},\"len\":0.9,\"pad\":{\"b\":10,\"t\":50},\"steps\":[{\"args\":[[\"1998\"],{\"frame\":{\"duration\":800,\"redraw\":false},\"mode\":\"immediate\",\"transition\":{\"duration\":800}}],\"label\":\"1998\",\"method\":\"animate\"},{\"args\":[[\"2000\"],{\"frame\":{\"duration\":800,\"redraw\":false},\"mode\":\"immediate\",\"transition\":{\"duration\":800}}],\"label\":\"2000\",\"method\":\"animate\"},{\"args\":[[\"2001\"],{\"frame\":{\"duration\":800,\"redraw\":false},\"mode\":\"immediate\",\"transition\":{\"duration\":800}}],\"label\":\"2001\",\"method\":\"animate\"},{\"args\":[[\"2002\"],{\"frame\":{\"duration\":800,\"redraw\":false},\"mode\":\"immediate\",\"transition\":{\"duration\":800}}],\"label\":\"2002\",\"method\":\"animate\"},{\"args\":[[\"2003\"],{\"frame\":{\"duration\":800,\"redraw\":false},\"mode\":\"immediate\",\"transition\":{\"duration\":800}}],\"label\":\"2003\",\"method\":\"animate\"},{\"args\":[[\"2004\"],{\"frame\":{\"duration\":800,\"redraw\":false},\"mode\":\"immediate\",\"transition\":{\"duration\":800}}],\"label\":\"2004\",\"method\":\"animate\"},{\"args\":[[\"2005\"],{\"frame\":{\"duration\":800,\"redraw\":false},\"mode\":\"immediate\",\"transition\":{\"duration\":800}}],\"label\":\"2005\",\"method\":\"animate\"},{\"args\":[[\"2006\"],{\"frame\":{\"duration\":800,\"redraw\":false},\"mode\":\"immediate\",\"transition\":{\"duration\":800}}],\"label\":\"2006\",\"method\":\"animate\"},{\"args\":[[\"2007\"],{\"frame\":{\"duration\":800,\"redraw\":false},\"mode\":\"immediate\",\"transition\":{\"duration\":800}}],\"label\":\"2007\",\"method\":\"animate\"},{\"args\":[[\"2008\"],{\"frame\":{\"duration\":800,\"redraw\":false},\"mode\":\"immediate\",\"transition\":{\"duration\":800}}],\"label\":\"2008\",\"method\":\"animate\"},{\"args\":[[\"2009\"],{\"frame\":{\"duration\":800,\"redraw\":false},\"mode\":\"immediate\",\"transition\":{\"duration\":800}}],\"label\":\"2009\",\"method\":\"animate\"},{\"args\":[[\"2010\"],{\"frame\":{\"duration\":800,\"redraw\":false},\"mode\":\"immediate\",\"transition\":{\"duration\":800}}],\"label\":\"2010\",\"method\":\"animate\"},{\"args\":[[\"2011\"],{\"frame\":{\"duration\":800,\"redraw\":false},\"mode\":\"immediate\",\"transition\":{\"duration\":800}}],\"label\":\"2011\",\"method\":\"animate\"},{\"args\":[[\"2012\"],{\"frame\":{\"duration\":800,\"redraw\":false},\"mode\":\"immediate\",\"transition\":{\"duration\":800}}],\"label\":\"2012\",\"method\":\"animate\"},{\"args\":[[\"2013\"],{\"frame\":{\"duration\":800,\"redraw\":false},\"mode\":\"immediate\",\"transition\":{\"duration\":800}}],\"label\":\"2013\",\"method\":\"animate\"},{\"args\":[[\"2014\"],{\"frame\":{\"duration\":800,\"redraw\":false},\"mode\":\"immediate\",\"transition\":{\"duration\":800}}],\"label\":\"2014\",\"method\":\"animate\"},{\"args\":[[\"2015\"],{\"frame\":{\"duration\":800,\"redraw\":false},\"mode\":\"immediate\",\"transition\":{\"duration\":800}}],\"label\":\"2015\",\"method\":\"animate\"},{\"args\":[[\"2016\"],{\"frame\":{\"duration\":800,\"redraw\":false},\"mode\":\"immediate\",\"transition\":{\"duration\":800}}],\"label\":\"2016\",\"method\":\"animate\"},{\"args\":[[\"2017\"],{\"frame\":{\"duration\":800,\"redraw\":false},\"mode\":\"immediate\",\"transition\":{\"duration\":800}}],\"label\":\"2017\",\"method\":\"animate\"}],\"transition\":{\"duration\":300,\"easing\":\"cubic-in-out\"},\"x\":0.1,\"xanchor\":\"left\",\"y\":0,\"yanchor\":\"top\"}]},                        {\"responsive\": true}                    ).then(function(){\n",
       "                            Plotly.addFrames('c624fea4-a2ea-4d97-939a-94f54b6acd74', [{\"data\":[{\"cliponaxis\":false,\"hoverinfo\":\"all\",\"hovertemplate\":\"\\u003cextra\\u003e\\u003c\\u002fextra\\u003e\",\"marker\":{\"color\":[\"rgb(133, 187, 180)\"]},\"orientation\":\"h\",\"textangle\":0,\"textposition\":\"outside\",\"texttemplate\":\"%{y}\\u003cbr\\u003e%{x:.4s}\",\"x\":[0.02],\"y\":[\"Whitbread PLC\"],\"type\":\"bar\"}],\"layout\":{\"bargap\":0.15,\"font\":{\"size\":14},\"plot_bgcolor\":\"#FFFFFF\",\"title\":{\"text\":\"Top 10 beers in the world from 2000 to 2017\"},\"xaxis\":{\"range\":[0,1.26],\"showline\":true,\"visible\":true},\"yaxis\":{\"showline\":false,\"visible\":true}},\"name\":\"1998\"},{\"data\":[{\"cliponaxis\":false,\"hoverinfo\":\"all\",\"hovertemplate\":\"\\u003cextra\\u003e\\u003c\\u002fextra\\u003e\",\"marker\":{\"color\":[\"rgb(90, 15, 24)\",\"rgb(235, 220, 150)\",\"rgb(85, 182, 213)\",\"rgb(154, 199, 23)\",\"rgb(42, 65, 111)\",\"rgb(106, 123, 131)\",\"rgb(44, 223, 164)\",\"rgb(148, 178, 204)\",\"rgb(20, 161, 180)\",\"rgb(204, 196, 18)\"]},\"orientation\":\"h\",\"textangle\":0,\"textposition\":\"outside\",\"texttemplate\":\"%{y}\\u003cbr\\u003e%{x:.4s}\",\"x\":[0.0,0.0,0.0,0.01,0.01,0.01,0.02,0.02,0.06,0.06],\"y\":[\"Singapore Brewery (Asia Pacific Breweries-Heineken)\",\"Alley Kat Brewing Company\",\"Trafalgar Ales and Meads\",\"Carlsberg-Tetley Brewing Ltd\",\"Creemore Springs  &#40;MolsonCoors&#41;\",\"McAuslan Brewing &#40;Brasseurs RJ&#41;\",\"Niagara Falls Brewing &#40;Moosehead&#41;\",\"Unibroue &#40;Sapporo&#41;\",\"L\\u0092Inox Ma\\u00eetres Brasseurs\",\"Yakima Brewing Co. \\u002f Bert Grant's Ales\"],\"type\":\"bar\"}],\"layout\":{\"bargap\":0.15,\"font\":{\"size\":14},\"plot_bgcolor\":\"#FFFFFF\",\"title\":{\"text\":\"Top 10 beers in the world from 2000 to 2017\"},\"xaxis\":{\"range\":[0,1.26],\"showline\":true,\"visible\":true},\"yaxis\":{\"showline\":false,\"visible\":true}},\"name\":\"2000\"},{\"data\":[{\"cliponaxis\":false,\"hoverinfo\":\"all\",\"hovertemplate\":\"\\u003cextra\\u003e\\u003c\\u002fextra\\u003e\",\"marker\":{\"color\":[\"rgb(106, 123, 131)\",\"rgb(228, 186, 57)\",\"rgb(90, 15, 24)\",\"rgb(219, 48, 170)\",\"rgb(118, 27, 5)\",\"rgb(42, 65, 111)\",\"rgb(127, 177, 254)\",\"rgb(4, 3, 149)\",\"rgb(44, 223, 164)\",\"rgb(59, 34, 224)\"]},\"orientation\":\"h\",\"textangle\":0,\"textposition\":\"outside\",\"texttemplate\":\"%{y}\\u003cbr\\u003e%{x:.4s}\",\"x\":[0.02,0.03,0.03,0.03,0.03,0.03,0.04,0.05,0.07,0.08],\"y\":[\"McAuslan Brewing &#40;Brasseurs RJ&#41;\",\"Speakeasy Ales & Lagers\",\"Singapore Brewery (Asia Pacific Breweries-Heineken)\",\"Okanagan Spring Brewery &#40;Sapporo&#41;\",\"Granite Brewery &#40;Halifax&#41;\",\"Creemore Springs  &#40;MolsonCoors&#41;\",\"Freeminer Brewery Ltd.\",\"Salopian Brewing Company Ltd\",\"Niagara Falls Brewing &#40;Moosehead&#41;\",\"Maritime Beer Company, Inc. &#40;Sapporo&#41;\"],\"type\":\"bar\"}],\"layout\":{\"bargap\":0.15,\"font\":{\"size\":14},\"plot_bgcolor\":\"#FFFFFF\",\"title\":{\"text\":\"Top 10 beers in the world from 2000 to 2017\"},\"xaxis\":{\"range\":[0,1.26],\"showline\":true,\"visible\":true},\"yaxis\":{\"showline\":false,\"visible\":true}},\"name\":\"2001\"},{\"data\":[{\"cliponaxis\":false,\"hoverinfo\":\"all\",\"hovertemplate\":\"\\u003cextra\\u003e\\u003c\\u002fextra\\u003e\",\"marker\":{\"color\":[\"rgb(194, 76, 249)\",\"rgb(203, 135, 137)\",\"rgb(4, 3, 149)\",\"rgb(137, 121, 35)\",\"rgb(141, 46, 220)\",\"rgb(204, 196, 18)\",\"rgb(15, 175, 10)\",\"rgb(12, 38, 198)\",\"rgb(13, 48, 197)\",\"rgb(49, 123, 186)\"]},\"orientation\":\"h\",\"textangle\":0,\"textposition\":\"outside\",\"texttemplate\":\"%{y}\\u003cbr\\u003e%{x:.4s}\",\"x\":[0.06,0.06,0.06,0.07,0.07,0.08,0.09,0.1,0.12,0.18],\"y\":[\"Side Launch Brewing Company\",\"Pelican Pub & Brewery\",\"Salopian Brewing Company Ltd\",\"Especialidades Cerveceras (FEMSA)\",\"J\\u00e4mtlands Bryggeri AB\",\"Yakima Brewing Co. \\u002f Bert Grant's Ales\",\"Font Salem Portugal (Damm)\",\"Brasserie de Rochefort\",\"Columbia Brewery &#40;Labatt-InBev&#41;\",\"Heavyweight Brewing Co.\"],\"type\":\"bar\"}],\"layout\":{\"bargap\":0.15,\"font\":{\"size\":14},\"plot_bgcolor\":\"#FFFFFF\",\"title\":{\"text\":\"Top 10 beers in the world from 2000 to 2017\"},\"xaxis\":{\"range\":[0,1.26],\"showline\":true,\"visible\":true},\"yaxis\":{\"showline\":false,\"visible\":true}},\"name\":\"2002\"},{\"data\":[{\"cliponaxis\":false,\"hoverinfo\":\"all\",\"hovertemplate\":\"\\u003cextra\\u003e\\u003c\\u002fextra\\u003e\",\"marker\":{\"color\":[\"rgb(100, 231, 172)\",\"rgb(194, 217, 213)\",\"rgb(74, 191, 121)\",\"rgb(5, 29, 190)\",\"rgb(53, 197, 194)\",\"rgb(12, 38, 198)\",\"rgb(119, 246, 101)\",\"rgb(25, 206, 209)\",\"rgb(20, 161, 180)\",\"rgb(49, 123, 186)\"]},\"orientation\":\"h\",\"textangle\":0,\"textposition\":\"outside\",\"texttemplate\":\"%{y}\\u003cbr\\u003e%{x:.4s}\",\"x\":[0.07,0.08,0.08,0.08,0.09,0.09,0.1,0.1,0.1,0.18],\"y\":[\"Storm Brewing &#40;BC&#41;\",\"Butcombe Brewery Ltd.\",\"Brasserie Chez Gambrinus\",\"Brouwerij Van den Bossche\",\"McNeill's Brewery\",\"Brasserie de Rochefort\",\"C'est What?\",\"Fort Garry Brewing\",\"L\\u0092Inox Ma\\u00eetres Brasseurs\",\"Heavyweight Brewing Co.\"],\"type\":\"bar\"}],\"layout\":{\"bargap\":0.15,\"font\":{\"size\":14},\"plot_bgcolor\":\"#FFFFFF\",\"title\":{\"text\":\"Top 10 beers in the world from 2000 to 2017\"},\"xaxis\":{\"range\":[0,1.26],\"showline\":true,\"visible\":true},\"yaxis\":{\"showline\":false,\"visible\":true}},\"name\":\"2003\"},{\"data\":[{\"cliponaxis\":false,\"hoverinfo\":\"all\",\"hovertemplate\":\"\\u003cextra\\u003e\\u003c\\u002fextra\\u003e\",\"marker\":{\"color\":[\"rgb(119, 246, 101)\",\"rgb(51, 87, 235)\",\"rgb(141, 46, 220)\",\"rgb(49, 123, 186)\",\"rgb(137, 121, 35)\",\"rgb(63, 194, 179)\",\"rgb(53, 197, 194)\",\"rgb(221, 111, 10)\",\"rgb(38, 245, 177)\",\"rgb(12, 38, 198)\"]},\"orientation\":\"h\",\"textangle\":0,\"textposition\":\"outside\",\"texttemplate\":\"%{y}\\u003cbr\\u003e%{x:.4s}\",\"x\":[0.07,0.07,0.08,0.08,0.08,0.08,0.08,0.09,0.09,0.1],\"y\":[\"C'est What?\",\"AleSmith Brewing Company\",\"J\\u00e4mtlands Bryggeri AB\",\"Heavyweight Brewing Co.\",\"Especialidades Cerveceras (FEMSA)\",\"Brouemont\",\"McNeill's Brewery\",\"Brasserie de Blaugies\",\"Fat Cat Brewery\",\"Brasserie de Rochefort\"],\"type\":\"bar\"}],\"layout\":{\"bargap\":0.15,\"font\":{\"size\":14},\"plot_bgcolor\":\"#FFFFFF\",\"title\":{\"text\":\"Top 10 beers in the world from 2000 to 2017\"},\"xaxis\":{\"range\":[0,1.26],\"showline\":true,\"visible\":true},\"yaxis\":{\"showline\":false,\"visible\":true}},\"name\":\"2004\"},{\"data\":[{\"cliponaxis\":false,\"hoverinfo\":\"all\",\"hovertemplate\":\"\\u003cextra\\u003e\\u003c\\u002fextra\\u003e\",\"marker\":{\"color\":[\"rgb(224, 88, 220)\",\"rgb(204, 62, 173)\",\"rgb(74, 191, 121)\",\"rgb(103, 66, 159)\",\"rgb(230, 134, 85)\",\"rgb(35, 222, 93)\",\"rgb(63, 194, 179)\",\"rgb(47, 103, 155)\",\"rgb(141, 46, 220)\",\"rgb(124, 12, 13)\"]},\"orientation\":\"h\",\"textangle\":0,\"textposition\":\"outside\",\"texttemplate\":\"%{y}\\u003cbr\\u003e%{x:.4s}\",\"x\":[0.1,0.11,0.12,0.13,0.14,0.14,0.16,0.16,0.18,0.26],\"y\":[\"Timothy Taylor & Co. Limited\",\"Coastal Extreme Brewing Co.\",\"Brasserie Chez Gambrinus\",\"Aqula\",\"Sierra Madre Brewing Co.\",\"Brouwerij De Dolle Brouwers\",\"Brouemont\",\"Baeren\",\"J\\u00e4mtlands Bryggeri AB\",\"Bushwakker Brewing Company\"],\"type\":\"bar\"}],\"layout\":{\"bargap\":0.15,\"font\":{\"size\":14},\"plot_bgcolor\":\"#FFFFFF\",\"title\":{\"text\":\"Top 10 beers in the world from 2000 to 2017\"},\"xaxis\":{\"range\":[0,1.26],\"showline\":true,\"visible\":true},\"yaxis\":{\"showline\":false,\"visible\":true}},\"name\":\"2005\"},{\"data\":[{\"cliponaxis\":false,\"hoverinfo\":\"all\",\"hovertemplate\":\"\\u003cextra\\u003e\\u003c\\u002fextra\\u003e\",\"marker\":{\"color\":[\"rgb(157, 214, 119)\",\"rgb(35, 222, 93)\",\"rgb(12, 38, 198)\",\"rgb(72, 114, 204)\",\"rgb(115, 68, 92)\",\"rgb(24, 45, 217)\",\"rgb(197, 196, 115)\",\"rgb(63, 194, 179)\",\"rgb(12, 47, 10)\",\"rgb(132, 87, 29)\"]},\"orientation\":\"h\",\"textangle\":0,\"textposition\":\"outside\",\"texttemplate\":\"%{y}\\u003cbr\\u003e%{x:.4s}\",\"x\":[0.08,0.09,0.09,0.1,0.1,0.11,0.14,0.2,0.36,0.45],\"y\":[\"Beer Factory Restaurant & Wood Grill\",\"Brouwerij De Dolle Brouwers\",\"Brasserie de Rochefort\",\"Dark Star Brewing Company Limited\",\"Bi\\u00e8ropholie\",\"Chateau Kamiya (Ushiku Beer)\",\"Titanic Brewery\",\"Brouemont\",\"Dix BBQ & Brewery\",\"The Shed Restaurant & Brewery\"],\"type\":\"bar\"}],\"layout\":{\"bargap\":0.15,\"font\":{\"size\":14},\"plot_bgcolor\":\"#FFFFFF\",\"title\":{\"text\":\"Top 10 beers in the world from 2000 to 2017\"},\"xaxis\":{\"range\":[0,1.26],\"showline\":true,\"visible\":true},\"yaxis\":{\"showline\":false,\"visible\":true}},\"name\":\"2006\"},{\"data\":[{\"cliponaxis\":false,\"hoverinfo\":\"all\",\"hovertemplate\":\"\\u003cextra\\u003e\\u003c\\u002fextra\\u003e\",\"marker\":{\"color\":[\"rgb(118, 27, 5)\",\"rgb(12, 38, 198)\",\"rgb(148, 61, 79)\",\"rgb(204, 62, 173)\",\"rgb(230, 134, 85)\",\"rgb(124, 12, 13)\",\"rgb(64, 128, 46)\",\"rgb(63, 194, 179)\",\"rgb(12, 47, 10)\",\"rgb(191, 77, 230)\"]},\"orientation\":\"h\",\"textangle\":0,\"textposition\":\"outside\",\"texttemplate\":\"%{y}\\u003cbr\\u003e%{x:.4s}\",\"x\":[0.09,0.09,0.1,0.11,0.12,0.12,0.12,0.17,0.21,0.64],\"y\":[\"Granite Brewery &#40;Halifax&#41;\",\"Brasserie de Rochefort\",\"Bedondaine et Bedons Ronds\",\"Coastal Extreme Brewing Co.\",\"Sierra Madre Brewing Co.\",\"Bushwakker Brewing Company\",\"Big Ridge Brewing Co.\",\"Brouemont\",\"Dix BBQ & Brewery\",\"Seabright Brewery\"],\"type\":\"bar\"}],\"layout\":{\"bargap\":0.15,\"font\":{\"size\":14},\"plot_bgcolor\":\"#FFFFFF\",\"title\":{\"text\":\"Top 10 beers in the world from 2000 to 2017\"},\"xaxis\":{\"range\":[0,1.26],\"showline\":true,\"visible\":true},\"yaxis\":{\"showline\":false,\"visible\":true}},\"name\":\"2007\"},{\"data\":[{\"cliponaxis\":false,\"hoverinfo\":\"all\",\"hovertemplate\":\"\\u003cextra\\u003e\\u003c\\u002fextra\\u003e\",\"marker\":{\"color\":[\"rgb(236, 226, 173)\",\"rgb(157, 214, 119)\",\"rgb(105, 103, 251)\",\"rgb(147, 64, 193)\",\"rgb(115, 68, 92)\",\"rgb(51, 87, 235)\",\"rgb(57, 148, 222)\",\"rgb(184, 65, 20)\",\"rgb(254, 80, 14)\",\"rgb(191, 77, 230)\"]},\"orientation\":\"h\",\"textangle\":0,\"textposition\":\"outside\",\"texttemplate\":\"%{y}\\u003cbr\\u003e%{x:.4s}\",\"x\":[0.08,0.09,0.09,0.09,0.1,0.1,0.11,0.15,0.18,0.2],\"y\":[\"Nyn\\u00e4shamns \\u00c5ngbryggeri\",\"Beer Factory Restaurant & Wood Grill\",\"Southampton Publick House\",\"Russian River Brewing Company\",\"Bi\\u00e8ropholie\",\"AleSmith Brewing Company\",\"Uncommon Brewers\",\"Hida Takayama Beer\",\"Sea Level Brewing\",\"Seabright Brewery\"],\"type\":\"bar\"}],\"layout\":{\"bargap\":0.15,\"font\":{\"size\":14},\"plot_bgcolor\":\"#FFFFFF\",\"title\":{\"text\":\"Top 10 beers in the world from 2000 to 2017\"},\"xaxis\":{\"range\":[0,1.26],\"showline\":true,\"visible\":true},\"yaxis\":{\"showline\":false,\"visible\":true}},\"name\":\"2008\"},{\"data\":[{\"cliponaxis\":false,\"hoverinfo\":\"all\",\"hovertemplate\":\"\\u003cextra\\u003e\\u003c\\u002fextra\\u003e\",\"marker\":{\"color\":[\"rgb(49, 44, 161)\",\"rgb(14, 109, 40)\",\"rgb(105, 90, 255)\",\"rgb(245, 7, 174)\",\"rgb(51, 56, 65)\",\"rgb(145, 7, 81)\",\"rgb(136, 134, 2)\",\"rgb(107, 233, 131)\",\"rgb(219, 236, 237)\",\"rgb(96, 154, 115)\"]},\"orientation\":\"h\",\"textangle\":0,\"textposition\":\"outside\",\"texttemplate\":\"%{y}\\u003cbr\\u003e%{x:.4s}\",\"x\":[0.11,0.12,0.13,0.13,0.13,0.15,0.18,0.19,0.19,1.11],\"y\":[\"Nebraska Brewing Company\",\"Merchant Ale House \\u002f Murray Street Brewing\",\"Duggan\\u0092s Brewery\",\"Hopworks Urban Brewery\",\"Captain Lawrence Brewing Co.\",\"Rohrbach Brewing Company (Brewpub)\",\"Cotleigh Brewery\",\"Birrificio Montegioco\",\"Beer Here\",\"Hart & Thistle\"],\"type\":\"bar\"}],\"layout\":{\"bargap\":0.15,\"font\":{\"size\":14},\"plot_bgcolor\":\"#FFFFFF\",\"title\":{\"text\":\"Top 10 beers in the world from 2000 to 2017\"},\"xaxis\":{\"range\":[0,1.26],\"showline\":true,\"visible\":true},\"yaxis\":{\"showline\":false,\"visible\":true}},\"name\":\"2009\"},{\"data\":[{\"cliponaxis\":false,\"hoverinfo\":\"all\",\"hovertemplate\":\"\\u003cextra\\u003e\\u003c\\u002fextra\\u003e\",\"marker\":{\"color\":[\"rgb(219, 236, 237)\",\"rgb(83, 7, 71)\",\"rgb(151, 138, 225)\",\"rgb(194, 217, 213)\",\"rgb(216, 213, 107)\",\"rgb(136, 134, 2)\",\"rgb(105, 90, 255)\",\"rgb(63, 194, 179)\",\"rgb(145, 7, 81)\",\"rgb(12, 47, 10)\"]},\"orientation\":\"h\",\"textangle\":0,\"textposition\":\"outside\",\"texttemplate\":\"%{y}\\u003cbr\\u003e%{x:.4s}\",\"x\":[0.1,0.1,0.11,0.11,0.13,0.13,0.13,0.17,0.23,0.38],\"y\":[\"Beer Here\",\"Le Saint-Bock\",\"Brouwerij 3 Fonteinen\",\"Butcombe Brewery Ltd.\",\"Bierbrier Brewing Inc.\",\"Cotleigh Brewery\",\"Duggan\\u0092s Brewery\",\"Brouemont\",\"Rohrbach Brewing Company (Brewpub)\",\"Dix BBQ & Brewery\"],\"type\":\"bar\"}],\"layout\":{\"bargap\":0.15,\"font\":{\"size\":14},\"plot_bgcolor\":\"#FFFFFF\",\"title\":{\"text\":\"Top 10 beers in the world from 2000 to 2017\"},\"xaxis\":{\"range\":[0,1.26],\"showline\":true,\"visible\":true},\"yaxis\":{\"showline\":false,\"visible\":true}},\"name\":\"2010\"},{\"data\":[{\"cliponaxis\":false,\"hoverinfo\":\"all\",\"hovertemplate\":\"\\u003cextra\\u003e\\u003c\\u002fextra\\u003e\",\"marker\":{\"color\":[\"rgb(203, 135, 137)\",\"rgb(51, 56, 65)\",\"rgb(44, 98, 237)\",\"rgb(151, 138, 225)\",\"rgb(210, 186, 247)\",\"rgb(68, 205, 174)\",\"rgb(2, 77, 44)\",\"rgb(100, 235, 249)\",\"rgb(162, 137, 253)\",\"rgb(122, 120, 234)\"]},\"orientation\":\"h\",\"textangle\":0,\"textposition\":\"outside\",\"texttemplate\":\"%{y}\\u003cbr\\u003e%{x:.4s}\",\"x\":[0.11,0.11,0.11,0.12,0.12,0.12,0.13,0.17,0.17,0.23],\"y\":[\"Pelican Pub & Brewery\",\"Captain Lawrence Brewing Co.\",\"Hill Farmstead Brewery\",\"Brouwerij 3 Fonteinen\",\"Beachwood BBQ & Brewing\",\"Brouwerij De Dochter van de Korenaar\",\"Freetail Brewing Company\",\"La Fabrique\",\"Windsor & Eton Brewery\",\"House Ales\"],\"type\":\"bar\"}],\"layout\":{\"bargap\":0.15,\"font\":{\"size\":14},\"plot_bgcolor\":\"#FFFFFF\",\"title\":{\"text\":\"Top 10 beers in the world from 2000 to 2017\"},\"xaxis\":{\"range\":[0,1.26],\"showline\":true,\"visible\":true},\"yaxis\":{\"showline\":false,\"visible\":true}},\"name\":\"2011\"},{\"data\":[{\"cliponaxis\":false,\"hoverinfo\":\"all\",\"hovertemplate\":\"\\u003cextra\\u003e\\u003c\\u002fextra\\u003e\",\"marker\":{\"color\":[\"rgb(44, 98, 237)\",\"rgb(0, 1, 28)\",\"rgb(100, 126, 99)\",\"rgb(88, 230, 77)\",\"rgb(122, 120, 234)\",\"rgb(2, 77, 44)\",\"rgb(162, 137, 253)\",\"rgb(171, 100, 80)\",\"rgb(74, 233, 14)\",\"rgb(7, 172, 141)\"]},\"orientation\":\"h\",\"textangle\":0,\"textposition\":\"outside\",\"texttemplate\":\"%{y}\\u003cbr\\u003e%{x:.4s}\",\"x\":[0.17,0.19,0.2,0.21,0.22,0.22,0.25,0.27,0.35,0.87],\"y\":[\"Hill Farmstead Brewery\",\"Perennial Artisan Ales\",\"Beer Academy\",\"Microbrasserie des Beaux Pr\\u00e9s\",\"House Ales\",\"Freetail Brewing Company\",\"Windsor & Eton Brewery\",\"Burnt Hickory Brewery\",\"Sigtuna Brygghus\",\"Bewdley Brewery Co.\"],\"type\":\"bar\"}],\"layout\":{\"bargap\":0.15,\"font\":{\"size\":14},\"plot_bgcolor\":\"#FFFFFF\",\"title\":{\"text\":\"Top 10 beers in the world from 2000 to 2017\"},\"xaxis\":{\"range\":[0,1.26],\"showline\":true,\"visible\":true},\"yaxis\":{\"showline\":false,\"visible\":true}},\"name\":\"2012\"},{\"data\":[{\"cliponaxis\":false,\"hoverinfo\":\"all\",\"hovertemplate\":\"\\u003cextra\\u003e\\u003c\\u002fextra\\u003e\",\"marker\":{\"color\":[\"rgb(15, 249, 238)\",\"rgb(168, 50, 82)\",\"rgb(18, 161, 54)\",\"rgb(155, 231, 194)\",\"rgb(67, 232, 120)\",\"rgb(224, 198, 48)\",\"rgb(252, 107, 34)\",\"rgb(105, 251, 35)\",\"rgb(190, 207, 56)\",\"rgb(244, 238, 36)\"]},\"orientation\":\"h\",\"textangle\":0,\"textposition\":\"outside\",\"texttemplate\":\"%{y}\\u003cbr\\u003e%{x:.4s}\",\"x\":[0.19,0.2,0.22,0.23,0.27,0.29,0.33,0.33,0.54,0.55],\"y\":[\"Fabrica de Bere Bun\\u0103\",\"Toppling Goliath Brewing Company\",\"Pipeworks Brewing Company\",\"Sante Adairius Rustic Ales\",\"Fiddlehead Brewing Company\",\"Blue Lobster Brewing Company\",\"Jing-A (\\u4eacA) Brewing Co.\",\"Societe Brewing Co.\",\"Griffin Claw Brewing Company\",\"Ashton Brewing\"],\"type\":\"bar\"}],\"layout\":{\"bargap\":0.15,\"font\":{\"size\":14},\"plot_bgcolor\":\"#FFFFFF\",\"title\":{\"text\":\"Top 10 beers in the world from 2000 to 2017\"},\"xaxis\":{\"range\":[0,1.26],\"showline\":true,\"visible\":true},\"yaxis\":{\"showline\":false,\"visible\":true}},\"name\":\"2013\"},{\"data\":[{\"cliponaxis\":false,\"hoverinfo\":\"all\",\"hovertemplate\":\"\\u003cextra\\u003e\\u003c\\u002fextra\\u003e\",\"marker\":{\"color\":[\"rgb(67, 232, 120)\",\"rgb(207, 26, 131)\",\"rgb(74, 230, 123)\",\"rgb(223, 153, 225)\",\"rgb(210, 74, 229)\",\"rgb(49, 128, 150)\",\"rgb(179, 121, 174)\",\"rgb(153, 215, 92)\",\"rgb(156, 225, 14)\",\"rgb(241, 8, 224)\"]},\"orientation\":\"h\",\"textangle\":0,\"textposition\":\"outside\",\"texttemplate\":\"%{y}\\u003cbr\\u003e%{x:.4s}\",\"x\":[0.22,0.23,0.23,0.24,0.24,0.24,0.25,0.26,0.32,0.37],\"y\":[\"Fiddlehead Brewing Company\",\"Lawson's Finest Liquids\",\"Three Taverns Craft Brewery\",\"Brekeriet\",\"Far Yeast Brewing Company\",\"North Brewing Co.\",\"Rockbottom Brewpub\",\"Benelux Brasserie Artisanale &#40;Verdun&#41;\",\"Border Psycho Brewery\",\"Gigantic Brewing Company\"],\"type\":\"bar\"}],\"layout\":{\"bargap\":0.15,\"font\":{\"size\":14},\"plot_bgcolor\":\"#FFFFFF\",\"title\":{\"text\":\"Top 10 beers in the world from 2000 to 2017\"},\"xaxis\":{\"range\":[0,1.26],\"showline\":true,\"visible\":true},\"yaxis\":{\"showline\":false,\"visible\":true}},\"name\":\"2014\"},{\"data\":[{\"cliponaxis\":false,\"hoverinfo\":\"all\",\"hovertemplate\":\"\\u003cextra\\u003e\\u003c\\u002fextra\\u003e\",\"marker\":{\"color\":[\"rgb(232, 186, 169)\",\"rgb(168, 50, 82)\",\"rgb(67, 232, 120)\",\"rgb(240, 66, 92)\",\"rgb(108, 98, 86)\",\"rgb(131, 78, 227)\",\"rgb(254, 214, 94)\",\"rgb(113, 19, 103)\",\"rgb(26, 136, 104)\",\"rgb(93, 66, 112)\"]},\"orientation\":\"h\",\"textangle\":0,\"textposition\":\"outside\",\"texttemplate\":\"%{y}\\u003cbr\\u003e%{x:.4s}\",\"x\":[0.28,0.28,0.29,0.34,0.34,0.39,0.43,0.46,0.47,0.71],\"y\":[\"\\u00c6gir Bryggeri\",\"Toppling Goliath Brewing Company\",\"Fiddlehead Brewing Company\",\"Bissell Brothers Brewing Co.\",\"Throwback Brewery\",\"Grimm Artisanal Ales\",\"Manantler Brewing\",\"Stoneface Brewing Co.\",\"Orpheus Brewing\",\"Great North Aleworks\"],\"type\":\"bar\"}],\"layout\":{\"bargap\":0.15,\"font\":{\"size\":14},\"plot_bgcolor\":\"#FFFFFF\",\"title\":{\"text\":\"Top 10 beers in the world from 2000 to 2017\"},\"xaxis\":{\"range\":[0,1.26],\"showline\":true,\"visible\":true},\"yaxis\":{\"showline\":false,\"visible\":true}},\"name\":\"2015\"},{\"data\":[{\"cliponaxis\":false,\"hoverinfo\":\"all\",\"hovertemplate\":\"\\u003cextra\\u003e\\u003c\\u002fextra\\u003e\",\"marker\":{\"color\":[\"rgb(131, 78, 227)\",\"rgb(148, 212, 64)\",\"rgb(64, 234, 176)\",\"rgb(124, 208, 103)\",\"rgb(60, 53, 121)\",\"rgb(240, 66, 92)\",\"rgb(95, 155, 54)\",\"rgb(36, 214, 146)\",\"rgb(91, 171, 191)\",\"rgb(249, 181, 59)\"]},\"orientation\":\"h\",\"textangle\":0,\"textposition\":\"outside\",\"texttemplate\":\"%{y}\\u003cbr\\u003e%{x:.4s}\",\"x\":[0.41,0.43,0.44,0.49,0.51,0.53,0.57,0.64,0.79,1.26],\"y\":[\"Grimm Artisanal Ales\",\"Microbrasserie la Memphr\\u00e9\",\"Cloudwater Brew Co.\",\"Modern Times Beer\",\"Brasserie Auval Brewing Co.\",\"Bissell Brothers Brewing Co.\",\"Microbrasserie Maltstrom\",\"Stigbergets Bryggeri\",\"Manantler Craft Brewing\",\"Boombox\"],\"type\":\"bar\"}],\"layout\":{\"bargap\":0.15,\"font\":{\"size\":14},\"plot_bgcolor\":\"#FFFFFF\",\"title\":{\"text\":\"Top 10 beers in the world from 2000 to 2017\"},\"xaxis\":{\"range\":[0,1.26],\"showline\":true,\"visible\":true},\"yaxis\":{\"showline\":false,\"visible\":true}},\"name\":\"2016\"},{\"data\":[{\"cliponaxis\":false,\"hoverinfo\":\"all\",\"hovertemplate\":\"\\u003cextra\\u003e\\u003c\\u002fextra\\u003e\",\"marker\":{\"color\":[\"rgb(185, 96, 129)\",\"rgb(4, 111, 244)\",\"rgb(117, 67, 255)\",\"rgb(60, 53, 121)\",\"rgb(95, 155, 54)\",\"rgb(64, 234, 176)\",\"rgb(172, 251, 216)\",\"rgb(236, 147, 162)\",\"rgb(122, 88, 103)\",\"rgb(36, 214, 146)\"]},\"orientation\":\"h\",\"textangle\":0,\"textposition\":\"outside\",\"texttemplate\":\"%{y}\\u003cbr\\u003e%{x:.4s}\",\"x\":[0.33,0.37,0.39,0.4,0.44,0.52,0.54,0.55,0.59,0.85],\"y\":[\"Nova Runda\",\"Hop Hooligans\",\"Brasserie Harricana\",\"Brasserie Auval Brewing Co.\",\"Microbrasserie Maltstrom\",\"Cloudwater Brew Co.\",\"Microbrasserie Vox Populi\",\"Situation Brewing\",\"Strathcona Beer Company\",\"Stigbergets Bryggeri\"],\"type\":\"bar\"}],\"layout\":{\"bargap\":0.15,\"font\":{\"size\":14},\"plot_bgcolor\":\"#FFFFFF\",\"title\":{\"text\":\"Top 10 beers in the world from 2000 to 2017\"},\"xaxis\":{\"range\":[0,1.26],\"showline\":true,\"visible\":true},\"yaxis\":{\"showline\":false,\"visible\":true}},\"name\":\"2017\"}]);\n",
       "                        }).then(function(){\n",
       "                            Plotly.animate('c624fea4-a2ea-4d97-939a-94f54b6acd74', null);\n",
       "                        })                };                            </script>        </div>"
      ],
      "text/plain": [
       "Figure({\n",
       "    'data': [{'cliponaxis': False,\n",
       "              'hoverinfo': 'all',\n",
       "              'marker': {'color': array(['rgb(133, 187, 180)'], dtype=object)},\n",
       "              'orientation': 'h',\n",
       "              'textangle': 0,\n",
       "              'textposition': 'outside',\n",
       "              'texttemplate': '%{y}<br>%{x:.4s}',\n",
       "              'type': 'bar',\n",
       "              'x': array([0.02]),\n",
       "              'y': array(['Whitbread PLC'], dtype=object)}],\n",
       "    'frames': [{'data': [{'cliponaxis': False,\n",
       "                          'hoverinfo': 'all',\n",
       "                          'hovertemplate': '<extra></extra>',\n",
       "                          'marker': {'color': array(['rgb(133, 187, 180)'], dtype=object)},\n",
       "                          'orientation': 'h',\n",
       "                          'textangle': 0,\n",
       "                          'textposition': 'outside',\n",
       "                          'texttemplate': '%{y}<br>%{x:.4s}',\n",
       "                          'type': 'bar',\n",
       "                          'x': array([0.02]),\n",
       "                          'y': array(['Whitbread PLC'], dtype=object)}],\n",
       "                'layout': {'bargap': 0.15,\n",
       "                           'font': {'size': 14},\n",
       "                           'plot_bgcolor': '#FFFFFF',\n",
       "                           'title': {'text': 'Top 10 beers in the world from 2000 to 2017'},\n",
       "                           'xaxis': {'range': [0, 1.26], 'showline': True, 'visible': True},\n",
       "                           'yaxis': {'showline': False, 'visible': True}},\n",
       "                'name': '1998'},\n",
       "               {'data': [{'cliponaxis': False,\n",
       "                          'hoverinfo': 'all',\n",
       "                          'hovertemplate': '<extra></extra>',\n",
       "                          'marker': {'color': array(['rgb(90, 15, 24)', 'rgb(235, 220, 150)', 'rgb(85, 182, 213)',\n",
       "                                                     'rgb(154, 199, 23)', 'rgb(42, 65, 111)', 'rgb(106, 123, 131)',\n",
       "                                                     'rgb(44, 223, 164)', 'rgb(148, 178, 204)', 'rgb(20, 161, 180)',\n",
       "                                                     'rgb(204, 196, 18)'], dtype=object)},\n",
       "                          'orientation': 'h',\n",
       "                          'textangle': 0,\n",
       "                          'textposition': 'outside',\n",
       "                          'texttemplate': '%{y}<br>%{x:.4s}',\n",
       "                          'type': 'bar',\n",
       "                          'x': array([0.  , 0.  , 0.  , 0.01, 0.01, 0.01, 0.02, 0.02, 0.06, 0.06]),\n",
       "                          'y': array(['Singapore Brewery (Asia Pacific Breweries-Heineken)',\n",
       "                                      'Alley Kat Brewing Company', 'Trafalgar Ales and Meads',\n",
       "                                      'Carlsberg-Tetley Brewing Ltd',\n",
       "                                      'Creemore Springs  &#40;MolsonCoors&#41;',\n",
       "                                      'McAuslan Brewing &#40;Brasseurs RJ&#41;',\n",
       "                                      'Niagara Falls Brewing &#40;Moosehead&#41;',\n",
       "                                      'Unibroue &#40;Sapporo&#41;', 'L\\x92Inox Maîtres Brasseurs',\n",
       "                                      \"Yakima Brewing Co. / Bert Grant's Ales\"], dtype=object)}],\n",
       "                'layout': {'bargap': 0.15,\n",
       "                           'font': {'size': 14},\n",
       "                           'plot_bgcolor': '#FFFFFF',\n",
       "                           'title': {'text': 'Top 10 beers in the world from 2000 to 2017'},\n",
       "                           'xaxis': {'range': [0, 1.26], 'showline': True, 'visible': True},\n",
       "                           'yaxis': {'showline': False, 'visible': True}},\n",
       "                'name': '2000'},\n",
       "               {'data': [{'cliponaxis': False,\n",
       "                          'hoverinfo': 'all',\n",
       "                          'hovertemplate': '<extra></extra>',\n",
       "                          'marker': {'color': array(['rgb(106, 123, 131)', 'rgb(228, 186, 57)', 'rgb(90, 15, 24)',\n",
       "                                                     'rgb(219, 48, 170)', 'rgb(118, 27, 5)', 'rgb(42, 65, 111)',\n",
       "                                                     'rgb(127, 177, 254)', 'rgb(4, 3, 149)', 'rgb(44, 223, 164)',\n",
       "                                                     'rgb(59, 34, 224)'], dtype=object)},\n",
       "                          'orientation': 'h',\n",
       "                          'textangle': 0,\n",
       "                          'textposition': 'outside',\n",
       "                          'texttemplate': '%{y}<br>%{x:.4s}',\n",
       "                          'type': 'bar',\n",
       "                          'x': array([0.02, 0.03, 0.03, 0.03, 0.03, 0.03, 0.04, 0.05, 0.07, 0.08]),\n",
       "                          'y': array(['McAuslan Brewing &#40;Brasseurs RJ&#41;', 'Speakeasy Ales & Lagers',\n",
       "                                      'Singapore Brewery (Asia Pacific Breweries-Heineken)',\n",
       "                                      'Okanagan Spring Brewery &#40;Sapporo&#41;',\n",
       "                                      'Granite Brewery &#40;Halifax&#41;',\n",
       "                                      'Creemore Springs  &#40;MolsonCoors&#41;', 'Freeminer Brewery Ltd.',\n",
       "                                      'Salopian Brewing Company Ltd',\n",
       "                                      'Niagara Falls Brewing &#40;Moosehead&#41;',\n",
       "                                      'Maritime Beer Company, Inc. &#40;Sapporo&#41;'], dtype=object)}],\n",
       "                'layout': {'bargap': 0.15,\n",
       "                           'font': {'size': 14},\n",
       "                           'plot_bgcolor': '#FFFFFF',\n",
       "                           'title': {'text': 'Top 10 beers in the world from 2000 to 2017'},\n",
       "                           'xaxis': {'range': [0, 1.26], 'showline': True, 'visible': True},\n",
       "                           'yaxis': {'showline': False, 'visible': True}},\n",
       "                'name': '2001'},\n",
       "               {'data': [{'cliponaxis': False,\n",
       "                          'hoverinfo': 'all',\n",
       "                          'hovertemplate': '<extra></extra>',\n",
       "                          'marker': {'color': array(['rgb(194, 76, 249)', 'rgb(203, 135, 137)', 'rgb(4, 3, 149)',\n",
       "                                                     'rgb(137, 121, 35)', 'rgb(141, 46, 220)', 'rgb(204, 196, 18)',\n",
       "                                                     'rgb(15, 175, 10)', 'rgb(12, 38, 198)', 'rgb(13, 48, 197)',\n",
       "                                                     'rgb(49, 123, 186)'], dtype=object)},\n",
       "                          'orientation': 'h',\n",
       "                          'textangle': 0,\n",
       "                          'textposition': 'outside',\n",
       "                          'texttemplate': '%{y}<br>%{x:.4s}',\n",
       "                          'type': 'bar',\n",
       "                          'x': array([0.06, 0.06, 0.06, 0.07, 0.07, 0.08, 0.09, 0.1 , 0.12, 0.18]),\n",
       "                          'y': array(['Side Launch Brewing Company', 'Pelican Pub & Brewery',\n",
       "                                      'Salopian Brewing Company Ltd', 'Especialidades Cerveceras (FEMSA)',\n",
       "                                      'Jämtlands Bryggeri AB', \"Yakima Brewing Co. / Bert Grant's Ales\",\n",
       "                                      'Font Salem Portugal (Damm)', 'Brasserie de Rochefort',\n",
       "                                      'Columbia Brewery &#40;Labatt-InBev&#41;', 'Heavyweight Brewing Co.'],\n",
       "                                     dtype=object)}],\n",
       "                'layout': {'bargap': 0.15,\n",
       "                           'font': {'size': 14},\n",
       "                           'plot_bgcolor': '#FFFFFF',\n",
       "                           'title': {'text': 'Top 10 beers in the world from 2000 to 2017'},\n",
       "                           'xaxis': {'range': [0, 1.26], 'showline': True, 'visible': True},\n",
       "                           'yaxis': {'showline': False, 'visible': True}},\n",
       "                'name': '2002'},\n",
       "               {'data': [{'cliponaxis': False,\n",
       "                          'hoverinfo': 'all',\n",
       "                          'hovertemplate': '<extra></extra>',\n",
       "                          'marker': {'color': array(['rgb(100, 231, 172)', 'rgb(194, 217, 213)', 'rgb(74, 191, 121)',\n",
       "                                                     'rgb(5, 29, 190)', 'rgb(53, 197, 194)', 'rgb(12, 38, 198)',\n",
       "                                                     'rgb(119, 246, 101)', 'rgb(25, 206, 209)', 'rgb(20, 161, 180)',\n",
       "                                                     'rgb(49, 123, 186)'], dtype=object)},\n",
       "                          'orientation': 'h',\n",
       "                          'textangle': 0,\n",
       "                          'textposition': 'outside',\n",
       "                          'texttemplate': '%{y}<br>%{x:.4s}',\n",
       "                          'type': 'bar',\n",
       "                          'x': array([0.07, 0.08, 0.08, 0.08, 0.09, 0.09, 0.1 , 0.1 , 0.1 , 0.18]),\n",
       "                          'y': array(['Storm Brewing &#40;BC&#41;', 'Butcombe Brewery Ltd.',\n",
       "                                      'Brasserie Chez Gambrinus', 'Brouwerij Van den Bossche',\n",
       "                                      \"McNeill's Brewery\", 'Brasserie de Rochefort', \"C'est What?\",\n",
       "                                      'Fort Garry Brewing', 'L\\x92Inox Maîtres Brasseurs',\n",
       "                                      'Heavyweight Brewing Co.'], dtype=object)}],\n",
       "                'layout': {'bargap': 0.15,\n",
       "                           'font': {'size': 14},\n",
       "                           'plot_bgcolor': '#FFFFFF',\n",
       "                           'title': {'text': 'Top 10 beers in the world from 2000 to 2017'},\n",
       "                           'xaxis': {'range': [0, 1.26], 'showline': True, 'visible': True},\n",
       "                           'yaxis': {'showline': False, 'visible': True}},\n",
       "                'name': '2003'},\n",
       "               {'data': [{'cliponaxis': False,\n",
       "                          'hoverinfo': 'all',\n",
       "                          'hovertemplate': '<extra></extra>',\n",
       "                          'marker': {'color': array(['rgb(119, 246, 101)', 'rgb(51, 87, 235)', 'rgb(141, 46, 220)',\n",
       "                                                     'rgb(49, 123, 186)', 'rgb(137, 121, 35)', 'rgb(63, 194, 179)',\n",
       "                                                     'rgb(53, 197, 194)', 'rgb(221, 111, 10)', 'rgb(38, 245, 177)',\n",
       "                                                     'rgb(12, 38, 198)'], dtype=object)},\n",
       "                          'orientation': 'h',\n",
       "                          'textangle': 0,\n",
       "                          'textposition': 'outside',\n",
       "                          'texttemplate': '%{y}<br>%{x:.4s}',\n",
       "                          'type': 'bar',\n",
       "                          'x': array([0.07, 0.07, 0.08, 0.08, 0.08, 0.08, 0.08, 0.09, 0.09, 0.1 ]),\n",
       "                          'y': array([\"C'est What?\", 'AleSmith Brewing Company', 'Jämtlands Bryggeri AB',\n",
       "                                      'Heavyweight Brewing Co.', 'Especialidades Cerveceras (FEMSA)',\n",
       "                                      'Brouemont', \"McNeill's Brewery\", 'Brasserie de Blaugies',\n",
       "                                      'Fat Cat Brewery', 'Brasserie de Rochefort'], dtype=object)}],\n",
       "                'layout': {'bargap': 0.15,\n",
       "                           'font': {'size': 14},\n",
       "                           'plot_bgcolor': '#FFFFFF',\n",
       "                           'title': {'text': 'Top 10 beers in the world from 2000 to 2017'},\n",
       "                           'xaxis': {'range': [0, 1.26], 'showline': True, 'visible': True},\n",
       "                           'yaxis': {'showline': False, 'visible': True}},\n",
       "                'name': '2004'},\n",
       "               {'data': [{'cliponaxis': False,\n",
       "                          'hoverinfo': 'all',\n",
       "                          'hovertemplate': '<extra></extra>',\n",
       "                          'marker': {'color': array(['rgb(224, 88, 220)', 'rgb(204, 62, 173)', 'rgb(74, 191, 121)',\n",
       "                                                     'rgb(103, 66, 159)', 'rgb(230, 134, 85)', 'rgb(35, 222, 93)',\n",
       "                                                     'rgb(63, 194, 179)', 'rgb(47, 103, 155)', 'rgb(141, 46, 220)',\n",
       "                                                     'rgb(124, 12, 13)'], dtype=object)},\n",
       "                          'orientation': 'h',\n",
       "                          'textangle': 0,\n",
       "                          'textposition': 'outside',\n",
       "                          'texttemplate': '%{y}<br>%{x:.4s}',\n",
       "                          'type': 'bar',\n",
       "                          'x': array([0.1 , 0.11, 0.12, 0.13, 0.14, 0.14, 0.16, 0.16, 0.18, 0.26]),\n",
       "                          'y': array(['Timothy Taylor & Co. Limited', 'Coastal Extreme Brewing Co.',\n",
       "                                      'Brasserie Chez Gambrinus', 'Aqula', 'Sierra Madre Brewing Co.',\n",
       "                                      'Brouwerij De Dolle Brouwers', 'Brouemont', 'Baeren',\n",
       "                                      'Jämtlands Bryggeri AB', 'Bushwakker Brewing Company'], dtype=object)}],\n",
       "                'layout': {'bargap': 0.15,\n",
       "                           'font': {'size': 14},\n",
       "                           'plot_bgcolor': '#FFFFFF',\n",
       "                           'title': {'text': 'Top 10 beers in the world from 2000 to 2017'},\n",
       "                           'xaxis': {'range': [0, 1.26], 'showline': True, 'visible': True},\n",
       "                           'yaxis': {'showline': False, 'visible': True}},\n",
       "                'name': '2005'},\n",
       "               {'data': [{'cliponaxis': False,\n",
       "                          'hoverinfo': 'all',\n",
       "                          'hovertemplate': '<extra></extra>',\n",
       "                          'marker': {'color': array(['rgb(157, 214, 119)', 'rgb(35, 222, 93)', 'rgb(12, 38, 198)',\n",
       "                                                     'rgb(72, 114, 204)', 'rgb(115, 68, 92)', 'rgb(24, 45, 217)',\n",
       "                                                     'rgb(197, 196, 115)', 'rgb(63, 194, 179)', 'rgb(12, 47, 10)',\n",
       "                                                     'rgb(132, 87, 29)'], dtype=object)},\n",
       "                          'orientation': 'h',\n",
       "                          'textangle': 0,\n",
       "                          'textposition': 'outside',\n",
       "                          'texttemplate': '%{y}<br>%{x:.4s}',\n",
       "                          'type': 'bar',\n",
       "                          'x': array([0.08, 0.09, 0.09, 0.1 , 0.1 , 0.11, 0.14, 0.2 , 0.36, 0.45]),\n",
       "                          'y': array(['Beer Factory Restaurant & Wood Grill', 'Brouwerij De Dolle Brouwers',\n",
       "                                      'Brasserie de Rochefort', 'Dark Star Brewing Company Limited',\n",
       "                                      'Bièropholie', 'Chateau Kamiya (Ushiku Beer)', 'Titanic Brewery',\n",
       "                                      'Brouemont', 'Dix BBQ & Brewery', 'The Shed Restaurant & Brewery'],\n",
       "                                     dtype=object)}],\n",
       "                'layout': {'bargap': 0.15,\n",
       "                           'font': {'size': 14},\n",
       "                           'plot_bgcolor': '#FFFFFF',\n",
       "                           'title': {'text': 'Top 10 beers in the world from 2000 to 2017'},\n",
       "                           'xaxis': {'range': [0, 1.26], 'showline': True, 'visible': True},\n",
       "                           'yaxis': {'showline': False, 'visible': True}},\n",
       "                'name': '2006'},\n",
       "               {'data': [{'cliponaxis': False,\n",
       "                          'hoverinfo': 'all',\n",
       "                          'hovertemplate': '<extra></extra>',\n",
       "                          'marker': {'color': array(['rgb(118, 27, 5)', 'rgb(12, 38, 198)', 'rgb(148, 61, 79)',\n",
       "                                                     'rgb(204, 62, 173)', 'rgb(230, 134, 85)', 'rgb(124, 12, 13)',\n",
       "                                                     'rgb(64, 128, 46)', 'rgb(63, 194, 179)', 'rgb(12, 47, 10)',\n",
       "                                                     'rgb(191, 77, 230)'], dtype=object)},\n",
       "                          'orientation': 'h',\n",
       "                          'textangle': 0,\n",
       "                          'textposition': 'outside',\n",
       "                          'texttemplate': '%{y}<br>%{x:.4s}',\n",
       "                          'type': 'bar',\n",
       "                          'x': array([0.09, 0.09, 0.1 , 0.11, 0.12, 0.12, 0.12, 0.17, 0.21, 0.64]),\n",
       "                          'y': array(['Granite Brewery &#40;Halifax&#41;', 'Brasserie de Rochefort',\n",
       "                                      'Bedondaine et Bedons Ronds', 'Coastal Extreme Brewing Co.',\n",
       "                                      'Sierra Madre Brewing Co.', 'Bushwakker Brewing Company',\n",
       "                                      'Big Ridge Brewing Co.', 'Brouemont', 'Dix BBQ & Brewery',\n",
       "                                      'Seabright Brewery'], dtype=object)}],\n",
       "                'layout': {'bargap': 0.15,\n",
       "                           'font': {'size': 14},\n",
       "                           'plot_bgcolor': '#FFFFFF',\n",
       "                           'title': {'text': 'Top 10 beers in the world from 2000 to 2017'},\n",
       "                           'xaxis': {'range': [0, 1.26], 'showline': True, 'visible': True},\n",
       "                           'yaxis': {'showline': False, 'visible': True}},\n",
       "                'name': '2007'},\n",
       "               {'data': [{'cliponaxis': False,\n",
       "                          'hoverinfo': 'all',\n",
       "                          'hovertemplate': '<extra></extra>',\n",
       "                          'marker': {'color': array(['rgb(236, 226, 173)', 'rgb(157, 214, 119)', 'rgb(105, 103, 251)',\n",
       "                                                     'rgb(147, 64, 193)', 'rgb(115, 68, 92)', 'rgb(51, 87, 235)',\n",
       "                                                     'rgb(57, 148, 222)', 'rgb(184, 65, 20)', 'rgb(254, 80, 14)',\n",
       "                                                     'rgb(191, 77, 230)'], dtype=object)},\n",
       "                          'orientation': 'h',\n",
       "                          'textangle': 0,\n",
       "                          'textposition': 'outside',\n",
       "                          'texttemplate': '%{y}<br>%{x:.4s}',\n",
       "                          'type': 'bar',\n",
       "                          'x': array([0.08, 0.09, 0.09, 0.09, 0.1 , 0.1 , 0.11, 0.15, 0.18, 0.2 ]),\n",
       "                          'y': array(['Nynäshamns Ångbryggeri', 'Beer Factory Restaurant & Wood Grill',\n",
       "                                      'Southampton Publick House', 'Russian River Brewing Company',\n",
       "                                      'Bièropholie', 'AleSmith Brewing Company', 'Uncommon Brewers',\n",
       "                                      'Hida Takayama Beer', 'Sea Level Brewing', 'Seabright Brewery'],\n",
       "                                     dtype=object)}],\n",
       "                'layout': {'bargap': 0.15,\n",
       "                           'font': {'size': 14},\n",
       "                           'plot_bgcolor': '#FFFFFF',\n",
       "                           'title': {'text': 'Top 10 beers in the world from 2000 to 2017'},\n",
       "                           'xaxis': {'range': [0, 1.26], 'showline': True, 'visible': True},\n",
       "                           'yaxis': {'showline': False, 'visible': True}},\n",
       "                'name': '2008'},\n",
       "               {'data': [{'cliponaxis': False,\n",
       "                          'hoverinfo': 'all',\n",
       "                          'hovertemplate': '<extra></extra>',\n",
       "                          'marker': {'color': array(['rgb(49, 44, 161)', 'rgb(14, 109, 40)', 'rgb(105, 90, 255)',\n",
       "                                                     'rgb(245, 7, 174)', 'rgb(51, 56, 65)', 'rgb(145, 7, 81)',\n",
       "                                                     'rgb(136, 134, 2)', 'rgb(107, 233, 131)', 'rgb(219, 236, 237)',\n",
       "                                                     'rgb(96, 154, 115)'], dtype=object)},\n",
       "                          'orientation': 'h',\n",
       "                          'textangle': 0,\n",
       "                          'textposition': 'outside',\n",
       "                          'texttemplate': '%{y}<br>%{x:.4s}',\n",
       "                          'type': 'bar',\n",
       "                          'x': array([0.11, 0.12, 0.13, 0.13, 0.13, 0.15, 0.18, 0.19, 0.19, 1.11]),\n",
       "                          'y': array(['Nebraska Brewing Company',\n",
       "                                      'Merchant Ale House / Murray Street Brewing', 'Duggan\\x92s Brewery',\n",
       "                                      'Hopworks Urban Brewery', 'Captain Lawrence Brewing Co.',\n",
       "                                      'Rohrbach Brewing Company (Brewpub)', 'Cotleigh Brewery',\n",
       "                                      'Birrificio Montegioco', 'Beer Here', 'Hart & Thistle'], dtype=object)}],\n",
       "                'layout': {'bargap': 0.15,\n",
       "                           'font': {'size': 14},\n",
       "                           'plot_bgcolor': '#FFFFFF',\n",
       "                           'title': {'text': 'Top 10 beers in the world from 2000 to 2017'},\n",
       "                           'xaxis': {'range': [0, 1.26], 'showline': True, 'visible': True},\n",
       "                           'yaxis': {'showline': False, 'visible': True}},\n",
       "                'name': '2009'},\n",
       "               {'data': [{'cliponaxis': False,\n",
       "                          'hoverinfo': 'all',\n",
       "                          'hovertemplate': '<extra></extra>',\n",
       "                          'marker': {'color': array(['rgb(219, 236, 237)', 'rgb(83, 7, 71)', 'rgb(151, 138, 225)',\n",
       "                                                     'rgb(194, 217, 213)', 'rgb(216, 213, 107)', 'rgb(136, 134, 2)',\n",
       "                                                     'rgb(105, 90, 255)', 'rgb(63, 194, 179)', 'rgb(145, 7, 81)',\n",
       "                                                     'rgb(12, 47, 10)'], dtype=object)},\n",
       "                          'orientation': 'h',\n",
       "                          'textangle': 0,\n",
       "                          'textposition': 'outside',\n",
       "                          'texttemplate': '%{y}<br>%{x:.4s}',\n",
       "                          'type': 'bar',\n",
       "                          'x': array([0.1 , 0.1 , 0.11, 0.11, 0.13, 0.13, 0.13, 0.17, 0.23, 0.38]),\n",
       "                          'y': array(['Beer Here', 'Le Saint-Bock', 'Brouwerij 3 Fonteinen',\n",
       "                                      'Butcombe Brewery Ltd.', 'Bierbrier Brewing Inc.', 'Cotleigh Brewery',\n",
       "                                      'Duggan\\x92s Brewery', 'Brouemont',\n",
       "                                      'Rohrbach Brewing Company (Brewpub)', 'Dix BBQ & Brewery'], dtype=object)}],\n",
       "                'layout': {'bargap': 0.15,\n",
       "                           'font': {'size': 14},\n",
       "                           'plot_bgcolor': '#FFFFFF',\n",
       "                           'title': {'text': 'Top 10 beers in the world from 2000 to 2017'},\n",
       "                           'xaxis': {'range': [0, 1.26], 'showline': True, 'visible': True},\n",
       "                           'yaxis': {'showline': False, 'visible': True}},\n",
       "                'name': '2010'},\n",
       "               {'data': [{'cliponaxis': False,\n",
       "                          'hoverinfo': 'all',\n",
       "                          'hovertemplate': '<extra></extra>',\n",
       "                          'marker': {'color': array(['rgb(203, 135, 137)', 'rgb(51, 56, 65)', 'rgb(44, 98, 237)',\n",
       "                                                     'rgb(151, 138, 225)', 'rgb(210, 186, 247)', 'rgb(68, 205, 174)',\n",
       "                                                     'rgb(2, 77, 44)', 'rgb(100, 235, 249)', 'rgb(162, 137, 253)',\n",
       "                                                     'rgb(122, 120, 234)'], dtype=object)},\n",
       "                          'orientation': 'h',\n",
       "                          'textangle': 0,\n",
       "                          'textposition': 'outside',\n",
       "                          'texttemplate': '%{y}<br>%{x:.4s}',\n",
       "                          'type': 'bar',\n",
       "                          'x': array([0.11, 0.11, 0.11, 0.12, 0.12, 0.12, 0.13, 0.17, 0.17, 0.23]),\n",
       "                          'y': array(['Pelican Pub & Brewery', 'Captain Lawrence Brewing Co.',\n",
       "                                      'Hill Farmstead Brewery', 'Brouwerij 3 Fonteinen',\n",
       "                                      'Beachwood BBQ & Brewing', 'Brouwerij De Dochter van de Korenaar',\n",
       "                                      'Freetail Brewing Company', 'La Fabrique', 'Windsor & Eton Brewery',\n",
       "                                      'House Ales'], dtype=object)}],\n",
       "                'layout': {'bargap': 0.15,\n",
       "                           'font': {'size': 14},\n",
       "                           'plot_bgcolor': '#FFFFFF',\n",
       "                           'title': {'text': 'Top 10 beers in the world from 2000 to 2017'},\n",
       "                           'xaxis': {'range': [0, 1.26], 'showline': True, 'visible': True},\n",
       "                           'yaxis': {'showline': False, 'visible': True}},\n",
       "                'name': '2011'},\n",
       "               {'data': [{'cliponaxis': False,\n",
       "                          'hoverinfo': 'all',\n",
       "                          'hovertemplate': '<extra></extra>',\n",
       "                          'marker': {'color': array(['rgb(44, 98, 237)', 'rgb(0, 1, 28)', 'rgb(100, 126, 99)',\n",
       "                                                     'rgb(88, 230, 77)', 'rgb(122, 120, 234)', 'rgb(2, 77, 44)',\n",
       "                                                     'rgb(162, 137, 253)', 'rgb(171, 100, 80)', 'rgb(74, 233, 14)',\n",
       "                                                     'rgb(7, 172, 141)'], dtype=object)},\n",
       "                          'orientation': 'h',\n",
       "                          'textangle': 0,\n",
       "                          'textposition': 'outside',\n",
       "                          'texttemplate': '%{y}<br>%{x:.4s}',\n",
       "                          'type': 'bar',\n",
       "                          'x': array([0.17, 0.19, 0.2 , 0.21, 0.22, 0.22, 0.25, 0.27, 0.35, 0.87]),\n",
       "                          'y': array(['Hill Farmstead Brewery', 'Perennial Artisan Ales', 'Beer Academy',\n",
       "                                      'Microbrasserie des Beaux Prés', 'House Ales',\n",
       "                                      'Freetail Brewing Company', 'Windsor & Eton Brewery',\n",
       "                                      'Burnt Hickory Brewery', 'Sigtuna Brygghus', 'Bewdley Brewery Co.'],\n",
       "                                     dtype=object)}],\n",
       "                'layout': {'bargap': 0.15,\n",
       "                           'font': {'size': 14},\n",
       "                           'plot_bgcolor': '#FFFFFF',\n",
       "                           'title': {'text': 'Top 10 beers in the world from 2000 to 2017'},\n",
       "                           'xaxis': {'range': [0, 1.26], 'showline': True, 'visible': True},\n",
       "                           'yaxis': {'showline': False, 'visible': True}},\n",
       "                'name': '2012'},\n",
       "               {'data': [{'cliponaxis': False,\n",
       "                          'hoverinfo': 'all',\n",
       "                          'hovertemplate': '<extra></extra>',\n",
       "                          'marker': {'color': array(['rgb(15, 249, 238)', 'rgb(168, 50, 82)', 'rgb(18, 161, 54)',\n",
       "                                                     'rgb(155, 231, 194)', 'rgb(67, 232, 120)', 'rgb(224, 198, 48)',\n",
       "                                                     'rgb(252, 107, 34)', 'rgb(105, 251, 35)', 'rgb(190, 207, 56)',\n",
       "                                                     'rgb(244, 238, 36)'], dtype=object)},\n",
       "                          'orientation': 'h',\n",
       "                          'textangle': 0,\n",
       "                          'textposition': 'outside',\n",
       "                          'texttemplate': '%{y}<br>%{x:.4s}',\n",
       "                          'type': 'bar',\n",
       "                          'x': array([0.19, 0.2 , 0.22, 0.23, 0.27, 0.29, 0.33, 0.33, 0.54, 0.55]),\n",
       "                          'y': array(['Fabrica de Bere Bună', 'Toppling Goliath Brewing Company',\n",
       "                                      'Pipeworks Brewing Company', 'Sante Adairius Rustic Ales',\n",
       "                                      'Fiddlehead Brewing Company', 'Blue Lobster Brewing Company',\n",
       "                                      'Jing-A (京A) Brewing Co.', 'Societe Brewing Co.',\n",
       "                                      'Griffin Claw Brewing Company', 'Ashton Brewing'], dtype=object)}],\n",
       "                'layout': {'bargap': 0.15,\n",
       "                           'font': {'size': 14},\n",
       "                           'plot_bgcolor': '#FFFFFF',\n",
       "                           'title': {'text': 'Top 10 beers in the world from 2000 to 2017'},\n",
       "                           'xaxis': {'range': [0, 1.26], 'showline': True, 'visible': True},\n",
       "                           'yaxis': {'showline': False, 'visible': True}},\n",
       "                'name': '2013'},\n",
       "               {'data': [{'cliponaxis': False,\n",
       "                          'hoverinfo': 'all',\n",
       "                          'hovertemplate': '<extra></extra>',\n",
       "                          'marker': {'color': array(['rgb(67, 232, 120)', 'rgb(207, 26, 131)', 'rgb(74, 230, 123)',\n",
       "                                                     'rgb(223, 153, 225)', 'rgb(210, 74, 229)', 'rgb(49, 128, 150)',\n",
       "                                                     'rgb(179, 121, 174)', 'rgb(153, 215, 92)', 'rgb(156, 225, 14)',\n",
       "                                                     'rgb(241, 8, 224)'], dtype=object)},\n",
       "                          'orientation': 'h',\n",
       "                          'textangle': 0,\n",
       "                          'textposition': 'outside',\n",
       "                          'texttemplate': '%{y}<br>%{x:.4s}',\n",
       "                          'type': 'bar',\n",
       "                          'x': array([0.22, 0.23, 0.23, 0.24, 0.24, 0.24, 0.25, 0.26, 0.32, 0.37]),\n",
       "                          'y': array(['Fiddlehead Brewing Company', \"Lawson's Finest Liquids\",\n",
       "                                      'Three Taverns Craft Brewery', 'Brekeriet', 'Far Yeast Brewing Company',\n",
       "                                      'North Brewing Co.', 'Rockbottom Brewpub',\n",
       "                                      'Benelux Brasserie Artisanale &#40;Verdun&#41;',\n",
       "                                      'Border Psycho Brewery', 'Gigantic Brewing Company'], dtype=object)}],\n",
       "                'layout': {'bargap': 0.15,\n",
       "                           'font': {'size': 14},\n",
       "                           'plot_bgcolor': '#FFFFFF',\n",
       "                           'title': {'text': 'Top 10 beers in the world from 2000 to 2017'},\n",
       "                           'xaxis': {'range': [0, 1.26], 'showline': True, 'visible': True},\n",
       "                           'yaxis': {'showline': False, 'visible': True}},\n",
       "                'name': '2014'},\n",
       "               {'data': [{'cliponaxis': False,\n",
       "                          'hoverinfo': 'all',\n",
       "                          'hovertemplate': '<extra></extra>',\n",
       "                          'marker': {'color': array(['rgb(232, 186, 169)', 'rgb(168, 50, 82)', 'rgb(67, 232, 120)',\n",
       "                                                     'rgb(240, 66, 92)', 'rgb(108, 98, 86)', 'rgb(131, 78, 227)',\n",
       "                                                     'rgb(254, 214, 94)', 'rgb(113, 19, 103)', 'rgb(26, 136, 104)',\n",
       "                                                     'rgb(93, 66, 112)'], dtype=object)},\n",
       "                          'orientation': 'h',\n",
       "                          'textangle': 0,\n",
       "                          'textposition': 'outside',\n",
       "                          'texttemplate': '%{y}<br>%{x:.4s}',\n",
       "                          'type': 'bar',\n",
       "                          'x': array([0.28, 0.28, 0.29, 0.34, 0.34, 0.39, 0.43, 0.46, 0.47, 0.71]),\n",
       "                          'y': array(['Ægir Bryggeri', 'Toppling Goliath Brewing Company',\n",
       "                                      'Fiddlehead Brewing Company', 'Bissell Brothers Brewing Co.',\n",
       "                                      'Throwback Brewery', 'Grimm Artisanal Ales', 'Manantler Brewing',\n",
       "                                      'Stoneface Brewing Co.', 'Orpheus Brewing', 'Great North Aleworks'],\n",
       "                                     dtype=object)}],\n",
       "                'layout': {'bargap': 0.15,\n",
       "                           'font': {'size': 14},\n",
       "                           'plot_bgcolor': '#FFFFFF',\n",
       "                           'title': {'text': 'Top 10 beers in the world from 2000 to 2017'},\n",
       "                           'xaxis': {'range': [0, 1.26], 'showline': True, 'visible': True},\n",
       "                           'yaxis': {'showline': False, 'visible': True}},\n",
       "                'name': '2015'},\n",
       "               {'data': [{'cliponaxis': False,\n",
       "                          'hoverinfo': 'all',\n",
       "                          'hovertemplate': '<extra></extra>',\n",
       "                          'marker': {'color': array(['rgb(131, 78, 227)', 'rgb(148, 212, 64)', 'rgb(64, 234, 176)',\n",
       "                                                     'rgb(124, 208, 103)', 'rgb(60, 53, 121)', 'rgb(240, 66, 92)',\n",
       "                                                     'rgb(95, 155, 54)', 'rgb(36, 214, 146)', 'rgb(91, 171, 191)',\n",
       "                                                     'rgb(249, 181, 59)'], dtype=object)},\n",
       "                          'orientation': 'h',\n",
       "                          'textangle': 0,\n",
       "                          'textposition': 'outside',\n",
       "                          'texttemplate': '%{y}<br>%{x:.4s}',\n",
       "                          'type': 'bar',\n",
       "                          'x': array([0.41, 0.43, 0.44, 0.49, 0.51, 0.53, 0.57, 0.64, 0.79, 1.26]),\n",
       "                          'y': array(['Grimm Artisanal Ales', 'Microbrasserie la Memphré',\n",
       "                                      'Cloudwater Brew Co.', 'Modern Times Beer',\n",
       "                                      'Brasserie Auval Brewing Co.', 'Bissell Brothers Brewing Co.',\n",
       "                                      'Microbrasserie Maltstrom', 'Stigbergets Bryggeri',\n",
       "                                      'Manantler Craft Brewing', 'Boombox'], dtype=object)}],\n",
       "                'layout': {'bargap': 0.15,\n",
       "                           'font': {'size': 14},\n",
       "                           'plot_bgcolor': '#FFFFFF',\n",
       "                           'title': {'text': 'Top 10 beers in the world from 2000 to 2017'},\n",
       "                           'xaxis': {'range': [0, 1.26], 'showline': True, 'visible': True},\n",
       "                           'yaxis': {'showline': False, 'visible': True}},\n",
       "                'name': '2016'},\n",
       "               {'data': [{'cliponaxis': False,\n",
       "                          'hoverinfo': 'all',\n",
       "                          'hovertemplate': '<extra></extra>',\n",
       "                          'marker': {'color': array(['rgb(185, 96, 129)', 'rgb(4, 111, 244)', 'rgb(117, 67, 255)',\n",
       "                                                     'rgb(60, 53, 121)', 'rgb(95, 155, 54)', 'rgb(64, 234, 176)',\n",
       "                                                     'rgb(172, 251, 216)', 'rgb(236, 147, 162)', 'rgb(122, 88, 103)',\n",
       "                                                     'rgb(36, 214, 146)'], dtype=object)},\n",
       "                          'orientation': 'h',\n",
       "                          'textangle': 0,\n",
       "                          'textposition': 'outside',\n",
       "                          'texttemplate': '%{y}<br>%{x:.4s}',\n",
       "                          'type': 'bar',\n",
       "                          'x': array([0.33, 0.37, 0.39, 0.4 , 0.44, 0.52, 0.54, 0.55, 0.59, 0.85]),\n",
       "                          'y': array(['Nova Runda', 'Hop Hooligans', 'Brasserie Harricana',\n",
       "                                      'Brasserie Auval Brewing Co.', 'Microbrasserie Maltstrom',\n",
       "                                      'Cloudwater Brew Co.', 'Microbrasserie Vox Populi', 'Situation Brewing',\n",
       "                                      'Strathcona Beer Company', 'Stigbergets Bryggeri'], dtype=object)}],\n",
       "                'layout': {'bargap': 0.15,\n",
       "                           'font': {'size': 14},\n",
       "                           'plot_bgcolor': '#FFFFFF',\n",
       "                           'title': {'text': 'Top 10 beers in the world from 2000 to 2017'},\n",
       "                           'xaxis': {'range': [0, 1.26], 'showline': True, 'visible': True},\n",
       "                           'yaxis': {'showline': False, 'visible': True}},\n",
       "                'name': '2017'}],\n",
       "    'layout': {'bargap': 0.15,\n",
       "               'font': {'size': 14},\n",
       "               'plot_bgcolor': '#FFFFFF',\n",
       "               'sliders': [{'active': 0,\n",
       "                            'currentvalue': {'font': {'size': 20},\n",
       "                                             'prefix': 'Date: ',\n",
       "                                             'visible': True,\n",
       "                                             'xanchor': 'right'},\n",
       "                            'len': 0.9,\n",
       "                            'pad': {'b': 10, 't': 50},\n",
       "                            'steps': [{'args': [['1998'], {'frame': {'duration':\n",
       "                                                800, 'redraw': False}, 'mode':\n",
       "                                                'immediate', 'transition':\n",
       "                                                {'duration': 800}}],\n",
       "                                       'label': '1998',\n",
       "                                       'method': 'animate'},\n",
       "                                      {'args': [['2000'], {'frame': {'duration':\n",
       "                                                800, 'redraw': False}, 'mode':\n",
       "                                                'immediate', 'transition':\n",
       "                                                {'duration': 800}}],\n",
       "                                       'label': '2000',\n",
       "                                       'method': 'animate'},\n",
       "                                      {'args': [['2001'], {'frame': {'duration':\n",
       "                                                800, 'redraw': False}, 'mode':\n",
       "                                                'immediate', 'transition':\n",
       "                                                {'duration': 800}}],\n",
       "                                       'label': '2001',\n",
       "                                       'method': 'animate'},\n",
       "                                      {'args': [['2002'], {'frame': {'duration':\n",
       "                                                800, 'redraw': False}, 'mode':\n",
       "                                                'immediate', 'transition':\n",
       "                                                {'duration': 800}}],\n",
       "                                       'label': '2002',\n",
       "                                       'method': 'animate'},\n",
       "                                      {'args': [['2003'], {'frame': {'duration':\n",
       "                                                800, 'redraw': False}, 'mode':\n",
       "                                                'immediate', 'transition':\n",
       "                                                {'duration': 800}}],\n",
       "                                       'label': '2003',\n",
       "                                       'method': 'animate'},\n",
       "                                      {'args': [['2004'], {'frame': {'duration':\n",
       "                                                800, 'redraw': False}, 'mode':\n",
       "                                                'immediate', 'transition':\n",
       "                                                {'duration': 800}}],\n",
       "                                       'label': '2004',\n",
       "                                       'method': 'animate'},\n",
       "                                      {'args': [['2005'], {'frame': {'duration':\n",
       "                                                800, 'redraw': False}, 'mode':\n",
       "                                                'immediate', 'transition':\n",
       "                                                {'duration': 800}}],\n",
       "                                       'label': '2005',\n",
       "                                       'method': 'animate'},\n",
       "                                      {'args': [['2006'], {'frame': {'duration':\n",
       "                                                800, 'redraw': False}, 'mode':\n",
       "                                                'immediate', 'transition':\n",
       "                                                {'duration': 800}}],\n",
       "                                       'label': '2006',\n",
       "                                       'method': 'animate'},\n",
       "                                      {'args': [['2007'], {'frame': {'duration':\n",
       "                                                800, 'redraw': False}, 'mode':\n",
       "                                                'immediate', 'transition':\n",
       "                                                {'duration': 800}}],\n",
       "                                       'label': '2007',\n",
       "                                       'method': 'animate'},\n",
       "                                      {'args': [['2008'], {'frame': {'duration':\n",
       "                                                800, 'redraw': False}, 'mode':\n",
       "                                                'immediate', 'transition':\n",
       "                                                {'duration': 800}}],\n",
       "                                       'label': '2008',\n",
       "                                       'method': 'animate'},\n",
       "                                      {'args': [['2009'], {'frame': {'duration':\n",
       "                                                800, 'redraw': False}, 'mode':\n",
       "                                                'immediate', 'transition':\n",
       "                                                {'duration': 800}}],\n",
       "                                       'label': '2009',\n",
       "                                       'method': 'animate'},\n",
       "                                      {'args': [['2010'], {'frame': {'duration':\n",
       "                                                800, 'redraw': False}, 'mode':\n",
       "                                                'immediate', 'transition':\n",
       "                                                {'duration': 800}}],\n",
       "                                       'label': '2010',\n",
       "                                       'method': 'animate'},\n",
       "                                      {'args': [['2011'], {'frame': {'duration':\n",
       "                                                800, 'redraw': False}, 'mode':\n",
       "                                                'immediate', 'transition':\n",
       "                                                {'duration': 800}}],\n",
       "                                       'label': '2011',\n",
       "                                       'method': 'animate'},\n",
       "                                      {'args': [['2012'], {'frame': {'duration':\n",
       "                                                800, 'redraw': False}, 'mode':\n",
       "                                                'immediate', 'transition':\n",
       "                                                {'duration': 800}}],\n",
       "                                       'label': '2012',\n",
       "                                       'method': 'animate'},\n",
       "                                      {'args': [['2013'], {'frame': {'duration':\n",
       "                                                800, 'redraw': False}, 'mode':\n",
       "                                                'immediate', 'transition':\n",
       "                                                {'duration': 800}}],\n",
       "                                       'label': '2013',\n",
       "                                       'method': 'animate'},\n",
       "                                      {'args': [['2014'], {'frame': {'duration':\n",
       "                                                800, 'redraw': False}, 'mode':\n",
       "                                                'immediate', 'transition':\n",
       "                                                {'duration': 800}}],\n",
       "                                       'label': '2014',\n",
       "                                       'method': 'animate'},\n",
       "                                      {'args': [['2015'], {'frame': {'duration':\n",
       "                                                800, 'redraw': False}, 'mode':\n",
       "                                                'immediate', 'transition':\n",
       "                                                {'duration': 800}}],\n",
       "                                       'label': '2015',\n",
       "                                       'method': 'animate'},\n",
       "                                      {'args': [['2016'], {'frame': {'duration':\n",
       "                                                800, 'redraw': False}, 'mode':\n",
       "                                                'immediate', 'transition':\n",
       "                                                {'duration': 800}}],\n",
       "                                       'label': '2016',\n",
       "                                       'method': 'animate'},\n",
       "                                      {'args': [['2017'], {'frame': {'duration':\n",
       "                                                800, 'redraw': False}, 'mode':\n",
       "                                                'immediate', 'transition':\n",
       "                                                {'duration': 800}}],\n",
       "                                       'label': '2017',\n",
       "                                       'method': 'animate'}],\n",
       "                            'transition': {'duration': 300, 'easing': 'cubic-in-out'},\n",
       "                            'x': 0.1,\n",
       "                            'xanchor': 'left',\n",
       "                            'y': 0,\n",
       "                            'yanchor': 'top'}],\n",
       "               'template': '...',\n",
       "               'title': {'text': 'Top 10 beers in the world from 2000 to 2017'},\n",
       "               'updatemenus': [{'buttons': [{'args': [None, {'frame': {'duration':\n",
       "                                                      800, 'redraw': False},\n",
       "                                                      'fromcurrent': True,\n",
       "                                                      'transition': {'duration':\n",
       "                                                      800, 'easing': 'quadratic-in-\n",
       "                                                      out'}}],\n",
       "                                             'label': 'Play',\n",
       "                                             'method': 'animate'},\n",
       "                                            {'args': [[None], {'frame':\n",
       "                                                      {'duration': 0, 'redraw':\n",
       "                                                      False}, 'mode': 'immediate',\n",
       "                                                      'transition': {'duration':\n",
       "                                                      0}}],\n",
       "                                             'label': 'Pause',\n",
       "                                             'method': 'animate'}],\n",
       "                                'direction': 'left',\n",
       "                                'pad': {'r': 10, 't': 87},\n",
       "                                'showactive': True,\n",
       "                                'type': 'buttons',\n",
       "                                'x': 0.1,\n",
       "                                'xanchor': 'right',\n",
       "                                'y': 0,\n",
       "                                'yanchor': 'top'}],\n",
       "               'xaxis': {'range': [0, 1.26],\n",
       "                         'showline': True,\n",
       "                         'showticklabels': True,\n",
       "                         'title': {'text': 'New rating'},\n",
       "                         'visible': True},\n",
       "               'yaxis': {'showline': False, 'showticklabels': False, 'title': {'text': 'Top 10 beers'}, 'visible': True}}\n",
       "})"
      ]
     },
     "execution_count": 396,
     "metadata": {},
     "output_type": "execute_result"
    }
   ],
   "source": [
    "quality_ranking_year = quality_ranking(all_data,\"year\",\"std_rating\").reset_index(0)\n",
    "quality_csv = quality_ranking_year.to_csv('./../quality_top_10_beers_by_year.csv', index = False)\n",
    "data = pd.read_csv('./../quality_top_10_beers_by_year.csv')\n",
    "\n",
    "data[\"std_rating\"] = data[\"std_rating\"].round(2)\n",
    "\n",
    "my_raceplot = barplot(data,\n",
    "                        item_column='brewery_name',\n",
    "                        value_column='std_rating',\n",
    "                        time_column='year')\n",
    "\n",
    "my_raceplot.plot(title = 'Quality top 10 beers in the world from 2000 to 2017',\n",
    "                item_label = 'Top ',\n",
    "                value_label = 'Quality rating',\n",
    "                \n",
    "                frame_duration = 800)\n",
    "\n",
    "plot_format(my_raceplot, \"quality_top_10_beers_by_year\")\n"
   ]
  },
  {
   "cell_type": "markdown",
   "metadata": {},
   "source": [
    "### 3.1.3 Evolution of the best breweries grade across the years"
   ]
  },
  {
   "cell_type": "markdown",
   "metadata": {},
   "source": [
    "In this part we plot the evolution of the rating of our top 3 best brewerie across the year, we decided to plot the ratings not standardized for it to be interpretable "
   ]
  },
  {
   "cell_type": "code",
   "execution_count": null,
   "metadata": {},
   "outputs": [],
   "source": [
    "top_three = weighted_ranking_sorted.head(1).index.to_list()\n",
    "leader = all_data[all_data[\"brewery_name\"].isin(top_three)]\n",
    "leader_by_year = leader.groupby([\"brewery_name\",'year']).apply(lambda x:pd.Series({\n",
    "        'average_rate': x[\"rating\"].mean(),\n",
    "        'std_rate': x[\"rating\"].std()\n",
    "    }))\n",
    "unstacked = leader_by_year.unstack(level = \"brewery_name\")\n",
    "print(unstacked.index)\n",
    "for brewery in top_three:\n",
    "    plt.errorbar(unstacked.index, unstacked[(\"average_rate\",brewery)],label = brewery)# ,yerr = unstacked[(\"std_rate\",brewery)]"
   ]
  },
  {
   "cell_type": "markdown",
   "metadata": {},
   "source": [
    "## 3.2. Link between polarity, subjectivity of the reviews and ratings CCT FOR U"
   ]
  },
  {
   "cell_type": "markdown",
   "metadata": {},
   "source": [
    "## 3.3. Advanced ranking"
   ]
  },
  {
   "cell_type": "markdown",
   "metadata": {},
   "source": [
    "### 3.3.1. Reviews' preprocessing"
   ]
  },
  {
   "cell_type": "code",
   "execution_count": null,
   "metadata": {},
   "outputs": [],
   "source": [
    "nltk.download('words')\n",
    "nltk.download('stopwords') # Download NLTK stopwords\n",
    "nltk.download('wordnet')   # Lemmatization\n",
    "nltk.download('words')\n",
    "english_words=set(words.words())"
   ]
  },
  {
   "cell_type": "markdown",
   "metadata": {},
   "source": [
    "In the ratings, there are some people that have not made a textual review so we remove them to have equity in our ranking. We keep only english reviews because translating is too much calculative expensive, and require use of Google Translation API. The principal reason is also that 90% of the reviews are in English and the polarity and subjectivity calculation need to be consistent."
   ]
  },
  {
   "cell_type": "markdown",
   "metadata": {},
   "source": [
    " JUSTIFY AVEC PLOT "
   ]
  },
  {
   "cell_type": "code",
   "execution_count": null,
   "metadata": {},
   "outputs": [],
   "source": [
    "\n",
    "def remove_no_sentences(df):\n",
    "    df = df.dropna(subset=['text'])\n",
    "    df = df[df['text'].str.strip().astype(bool)]  # Check for non-empty strings\n",
    "    df = df[df['text'] != 'nan']\n",
    "    return df\n",
    "def keep_only_english(sentence):\n",
    "    return \" \".join(w for w in nltk.wordpunct_tokenize(sentence) if w.lower() in english_words or not w.isalpha())\n",
    "\n"
   ]
  },
  {
   "cell_type": "code",
   "execution_count": null,
   "metadata": {},
   "outputs": [],
   "source": [
    "all_data = remove_no_sentences(all_data)\n",
    "all_data['text'] = all_data['text'].apply(lambda x: keep_only_english(x))"
   ]
  },
  {
   "cell_type": "markdown",
   "metadata": {},
   "source": [
    "### 3.3.2. Calculations of polarity and subjectivity of the reviews with NLP analysis"
   ]
  },
  {
   "cell_type": "code",
   "execution_count": null,
   "metadata": {},
   "outputs": [],
   "source": [
    "analyzer = SentimentIntensityAnalyzer()\n",
    "\n",
    "def getSubjectivity(text):\n",
    "    return TextBlob(text).sentiment.subjectivity\n",
    "\n",
    "def getPolarity(text):\n",
    "    return analyzer.polarity_scores(text)"
   ]
  },
  {
   "cell_type": "code",
   "execution_count": null,
   "metadata": {},
   "outputs": [],
   "source": [
    "all_data['polarity_text'] = all_data['text'].apply(lambda x: getPolarity(x))\n",
    "all_data['polarity_rating'] = all_data['text'].apply(lambda x: getPolarity(x)['compound'])\n",
    "all_data['subjectivity'] = all_data['text'].apply(lambda x: getSubjectivity(x))\n",
    "all_data.head(5)"
   ]
  },
  {
   "cell_type": "markdown",
   "metadata": {},
   "source": [
    "### 3.3.3. Analysis with the new ranking system"
   ]
  },
  {
   "cell_type": "markdown",
   "metadata": {},
   "source": [
    "#### 3.3.3.1. New ranking system"
   ]
  },
  {
   "cell_type": "markdown",
   "metadata": {},
   "source": [
    " STANDARDIZATION BY YEARS AVEC FONCTION MAXIME ADAPTEE"
   ]
  },
  {
   "cell_type": "markdown",
   "metadata": {},
   "source": [
    "The initial rankings are solely based on numerical ratings. To enhance the fairness of our rating system, we have decided to incorporate textual reviews. To achieve this, we will consider the polarity of the comments, representing a score ranging from -1 (very negative) to 1 (very positive). However, it is crucial to acknowledge that individuals may introduce subjectivity into their ratings, denoted on a scale from 0 to 1, where 0 indicates objectivity and 1 signifies high subjectivity.\n",
    "\n",
    "In our quest for a fair ranking system, we aim to mitigate the impact of highly subjective opinions. To accomplish this, we introduce a coefficient (1-subjectivity), ensuring that individuals with more subjective views carry less weight in the final ranking.\n",
    "\n",
    "Additionally, we're streamlining our review process by standardizing all polarity scores together and not website by website as numerical ratings. This means that individuals expressing similar sentiments will receive the same polarity rating, irrespective of variations in their numerical ratings. For example, if two people share the same thoughts and emotions, one giving a rating of 3 and the other a 4, our machine learning system will assign them identical polarity ratings. This simplification ensures coherence and consistency in our overall ranking system."
   ]
  },
  {
   "cell_type": "code",
   "execution_count": null,
   "metadata": {},
   "outputs": [],
   "source": [
    "all_data['new_rating'] = (all_data['std_rating'] + all_data['std_polarity_rating'])*(1-all_data['subjectivity'])"
   ]
  },
  {
   "cell_type": "markdown",
   "metadata": {},
   "source": [
    "#### 3.3.3.2. Best breweries in the world around the years"
   ]
  },
  {
   "cell_type": "code",
   "execution_count": null,
   "metadata": {},
   "outputs": [],
   "source": [
    "new_best_beers = all_data.groupby('beer_name')['new_rating'].mean().nlargest(10)\n",
    "new_best_beers"
   ]
  },
  {
   "cell_type": "code",
   "execution_count": null,
   "metadata": {},
   "outputs": [],
   "source": [
    "new_best_breweries = all_data.groupby('brewery_name')['new_rating'].mean().nlargest(10)\n",
    "new_best_breweries  "
   ]
  },
  {
   "cell_type": "code",
   "execution_count": null,
   "metadata": {},
   "outputs": [],
   "source": [
    "average_ratings = all_data.groupby(['beer_name', 'year'])['new_rating'].mean().reset_index()\n",
    "\n",
    "# Obtenir le top 10 des bières pour chaque année\n",
    "top_10_beers_by_year = (\n",
    "    average_ratings.sort_values(by=['year', 'new_rating'], ascending=[True, False]).groupby('year').head(10).reset_index(drop=True))"
   ]
  },
  {
   "cell_type": "code",
   "execution_count": null,
   "metadata": {},
   "outputs": [],
   "source": [
    "print(top_10_beers_by_year)"
   ]
  },
  {
   "cell_type": "markdown",
   "metadata": {},
   "source": [
    "# 4. Annexes"
   ]
  },
  {
   "cell_type": "markdown",
   "metadata": {},
   "source": [
    "## 4.1. Generation of the table of content"
   ]
  },
  {
   "cell_type": "code",
   "execution_count": 20,
   "metadata": {},
   "outputs": [],
   "source": [
    "import nbformat\n",
    "import pandas as pd\n",
    "\n",
    "# Load the .ipynb file\n",
    "with open('./Baseline_merged.ipynb', 'r') as f:\n",
    "    notebook = nbformat.read(f, as_version=4)\n",
    "\n",
    "# Extract the markdown cells\n",
    "markdown_cells = [cell for cell in notebook['cells'] if cell['cell_type'] == 'markdown']\n",
    "\n",
    "def levelf (lev, niv):\n",
    "    i = lev[0:niv]\n",
    "    string = \"\"\n",
    "    for n in i:\n",
    "        string = string + str(n) + \".\"\n",
    "    string += \" \"\n",
    "    return string\n",
    "\n",
    "#Get all the markdown cells heading names and rename them with a sorted number and change the mardowns names in the notebook\n",
    "index = [0, 0, 0, 0, 0, 0]\n",
    "heading_corr = []\n",
    "for i in range(len(notebook['cells'])):\n",
    "    if notebook['cells'][i]['cell_type'] == 'markdown':\n",
    "        if ('###### ') in notebook['cells'][i]['source'][0:7]:\n",
    "            heading = notebook['cells'][i]['source']\n",
    "            index[5] += 1\n",
    "            level = levelf(index, 6)\n",
    "            notebook['cells'][i]['source'] = '###### ' + level + heading[heading.rfind(\". \"):][2:] if \". \" in heading else '###### ' + level + heading[7:]\n",
    "            head = level + heading[heading.rfind(\". \"):][2:] if \". \" in heading else level + heading[7:]\n",
    "            heading_corr.append([\"<a style='font-size:0.5em'>\" + head + \"</a>\", head, level])\n",
    "        elif ('##### ') in notebook['cells'][i]['source'][0:6]:\n",
    "            heading = notebook['cells'][i]['source']\n",
    "            index[4] += 1\n",
    "            index[5] = 0\n",
    "            level = levelf(index, 5)\n",
    "            notebook['cells'][i]['source'] = '##### ' + level + heading[heading.rfind(\". \"):][2:] if \". \" in heading else '##### ' + level + heading[6:]\n",
    "            head = level + heading[heading.rfind(\". \"):][2:] if \". \" in heading else level + heading[6:]\n",
    "            heading_corr.append([\"<a style='font-size:0.75em'>\" + head + \"</a>\", head, level])\n",
    "        elif ('#### ') in notebook['cells'][i]['source'][0:5]:\n",
    "            heading = notebook['cells'][i]['source']\n",
    "            index[3] += 1\n",
    "            index[4] = 0\n",
    "            index[5] = 0\n",
    "            level = levelf(index, 4)\n",
    "            notebook['cells'][i]['source'] = '#### ' + level + heading[heading.rfind(\". \"):][2:] if \". \" in heading else '#### ' + level + heading[5:]\n",
    "            head = level + heading[heading.rfind(\". \"):][2:] if \". \" in heading else level + heading[5:]\n",
    "            heading_corr.append([\"<a style='font-size:1.25em'>\" + head + \"</a>\", head, level])\n",
    "        elif ('### ') in notebook['cells'][i]['source'][0:4]:\n",
    "            heading = notebook['cells'][i]['source']\n",
    "            index[2] += 1\n",
    "            index[3] = 0\n",
    "            index[4] = 0\n",
    "            index[5] = 0\n",
    "            level = levelf(index, 3)\n",
    "            notebook['cells'][i]['source'] = '### ' + level + heading[heading.rfind(\". \"):][2:] if \". \" in heading else '### ' + level + heading[4:]\n",
    "            head = level + heading[heading.rfind(\". \"):][2:] if \". \" in heading else level + heading[4:]\n",
    "            heading_corr.append([\"<a style='font-size:1.5em'>\" + head + \"</a>\", head, level])\n",
    "        elif ('## ') in notebook['cells'][i]['source'][0:3]:\n",
    "            heading = notebook['cells'][i]['source']\n",
    "            index[1] += 1\n",
    "            index[2] = 0\n",
    "            index[3] = 0\n",
    "            index[4] = 0\n",
    "            index[5] = 0\n",
    "            level = levelf(index, 2)\n",
    "            notebook['cells'][i]['source'] = '## ' + level + heading[heading.rfind(\". \"):][2:] if \". \" in heading else '## ' + level + heading[3:]\n",
    "            head = level + heading[heading.rfind(\". \"):][2:] if \". \" in heading else level + heading[3:]\n",
    "            heading_corr.append([\"<a style='font-size:1.75em'>\" + head + \"</a>\", head, level])\n",
    "        elif ('# ') in notebook['cells'][i]['source'][0:2]:\n",
    "            heading = notebook['cells'][i]['source']\n",
    "            index[0] += 1\n",
    "            index[1] = 0\n",
    "            index[2] = 0\n",
    "            index[3] = 0\n",
    "            index[4] = 0\n",
    "            index[5] = 0\n",
    "            level = levelf(index, 1)\n",
    "            notebook['cells'][i]['source'] = '# ' + level + heading[heading.rfind(\". \"):][2:] if \". \" in heading else '# ' + level + heading[2:]\n",
    "            head = level + heading[heading.rfind(\". \"):][2:] if \". \" in heading else level + heading[2:]\n",
    "            heading_corr.append([\"<a style='font-size:2em'>\" + head + \"</a>\", head, level])\n",
    "\n",
    "# Combine lists\n",
    "heading_corr\n",
    "tab = \"&emsp;\"\n",
    "# Generate the table of contents\n",
    "toc = '\\n'.join(f'{int(len(level)-3)*2*tab}[{ref}](#{ref.lower().replace(\" \", \"-\")})  ' for heading, ref, level in heading_corr) #\n",
    "\n",
    "# Write the updated notebook to disk\n",
    "with open('./Baseline_merged.ipynb', 'w+') as f:\n",
    "    nbformat.write(notebook, f)"
   ]
  },
  {
   "cell_type": "code",
   "execution_count": 21,
   "metadata": {},
   "outputs": [
    {
     "name": "stdout",
     "output_type": "stream",
     "text": [
      "[1. 1.Introduction](#1.-1.introduction)  \n",
      "&emsp;&emsp;&emsp;&emsp;[1.1. Virtual environment setup](#1.1.-virtual-environment-setup)  \n",
      "&emsp;&emsp;&emsp;&emsp;[1.2. Libraries import](#1.2.-libraries-import)  \n",
      "&emsp;&emsp;&emsp;&emsp;[1.3. Paths definition](#1.3.-paths-definition)  \n",
      "&emsp;&emsp;&emsp;&emsp;[1.4. Functions definition](#1.4.-functions-definition)  \n",
      "[2. Data handling](#2.-data-handling)  \n",
      "&emsp;&emsp;&emsp;&emsp;[2.1. Data import TCN FOR U](#2.1.-data-import-tcn-for-u)  \n",
      "&emsp;&emsp;&emsp;&emsp;&emsp;&emsp;&emsp;&emsp;[2.1.1. Import text files](#2.1.1.-import-text-files)  \n",
      "&emsp;&emsp;&emsp;&emsp;&emsp;&emsp;&emsp;&emsp;[2.1.2. Load the other data](#2.1.2.-load-the-other-data)  \n",
      "&emsp;&emsp;&emsp;&emsp;&emsp;&emsp;&emsp;&emsp;[2.1.3. Data types](#2.1.3.-data-types)  \n",
      "&emsp;&emsp;&emsp;&emsp;&emsp;&emsp;&emsp;&emsp;&emsp;&emsp;&emsp;&emsp;[2.1.3.1. Check the types](#2.1.3.1.-check-the-types)  \n",
      "&emsp;&emsp;&emsp;&emsp;&emsp;&emsp;&emsp;&emsp;&emsp;&emsp;&emsp;&emsp;[2.1.3.2. 2.1.3.2 Change the types](#2.1.3.2.-2.1.3.2-change-the-types)  \n",
      "&emsp;&emsp;&emsp;&emsp;[2.2. Data exploration CCT FOR U](#2.2.-data-exploration-cct-for-u)  \n",
      "&emsp;&emsp;&emsp;&emsp;[2.3. Data combination](#2.3.-data-combination)  \n",
      "&emsp;&emsp;&emsp;&emsp;&emsp;&emsp;&emsp;&emsp;[2.3.1. Preprocessing](#2.3.1.-preprocessing)  \n",
      "&emsp;&emsp;&emsp;&emsp;&emsp;&emsp;&emsp;&emsp;&emsp;&emsp;&emsp;&emsp;[2.3.1.1. Standardize ratings_BA and ratings_RB annually](#2.3.1.1.-standardize-ratings_ba-and-ratings_rb-annually)  \n",
      "&emsp;&emsp;&emsp;&emsp;&emsp;&emsp;&emsp;&emsp;&emsp;&emsp;&emsp;&emsp;[2.3.1.2. Standardization of the matched' ratings](#2.3.1.2.-standardization-of-the-matched'-ratings)  \n",
      "&emsp;&emsp;&emsp;&emsp;&emsp;&emsp;&emsp;&emsp;[2.3.2. Summaries standardized data](#2.3.2.-summaries-standardized-data)  \n",
      "&emsp;&emsp;&emsp;&emsp;&emsp;&emsp;&emsp;&emsp;[2.3.3. Concatenation of the dataframes](#2.3.3.-concatenation-of-the-dataframes)  \n",
      "[3. Data Analysis](#3.-data-analysis)  \n",
      "&emsp;&emsp;&emsp;&emsp;[3.1. 3.1 Numerical ranking TCN FOR U](#3.1.-3.1-numerical-ranking-tcn-for-u)  \n",
      "&emsp;&emsp;&emsp;&emsp;&emsp;&emsp;&emsp;&emsp;[3.1.1. Filtering of the data](#3.1.1.-filtering-of-the-data)  \n",
      "&emsp;&emsp;&emsp;&emsp;&emsp;&emsp;&emsp;&emsp;[3.1.2. Weighted ranking](#3.1.2.-weighted-ranking)  \n",
      "&emsp;&emsp;&emsp;&emsp;&emsp;&emsp;&emsp;&emsp;&emsp;&emsp;&emsp;&emsp;[3.1.2.1. All-time weighted ranking](#3.1.2.1.-all-time-weighted-ranking)  \n",
      "&emsp;&emsp;&emsp;&emsp;&emsp;&emsp;&emsp;&emsp;&emsp;&emsp;&emsp;&emsp;[3.1.2.2. Weighted ranking per year](#3.1.2.2.-weighted-ranking-per-year)  \n",
      "&emsp;&emsp;&emsp;&emsp;&emsp;&emsp;&emsp;&emsp;[3.1.3. Quality-based ranking](#3.1.3.-quality-based-ranking)  \n",
      "&emsp;&emsp;&emsp;&emsp;&emsp;&emsp;&emsp;&emsp;&emsp;&emsp;&emsp;&emsp;[3.1.3.1. All time quality ranking](#3.1.3.1.-all-time-quality-ranking)  \n",
      "&emsp;&emsp;&emsp;&emsp;&emsp;&emsp;&emsp;&emsp;&emsp;&emsp;&emsp;&emsp;[3.1.3.2. Quality ranking per year](#3.1.3.2.-quality-ranking-per-year)  \n",
      "&emsp;&emsp;&emsp;&emsp;&emsp;&emsp;&emsp;&emsp;[3.1.4. 3.1.3 Evolution of the best breweries grade across the years](#3.1.4.-3.1.3-evolution-of-the-best-breweries-grade-across-the-years)  \n",
      "&emsp;&emsp;&emsp;&emsp;[3.2. Link between polarity, subjectivity of the reviews and ratings CCT FOR U](#3.2.-link-between-polarity,-subjectivity-of-the-reviews-and-ratings-cct-for-u)  \n",
      "&emsp;&emsp;&emsp;&emsp;[3.3. Advanced ranking](#3.3.-advanced-ranking)  \n",
      "&emsp;&emsp;&emsp;&emsp;&emsp;&emsp;&emsp;&emsp;[3.3.1. Reviews' preprocessing](#3.3.1.-reviews'-preprocessing)  \n",
      "&emsp;&emsp;&emsp;&emsp;&emsp;&emsp;&emsp;&emsp;[3.3.2. Calculations of polarity and subjectivity of the reviews with NLP analysis](#3.3.2.-calculations-of-polarity-and-subjectivity-of-the-reviews-with-nlp-analysis)  \n",
      "&emsp;&emsp;&emsp;&emsp;&emsp;&emsp;&emsp;&emsp;[3.3.3. Analysis with the new ranking system](#3.3.3.-analysis-with-the-new-ranking-system)  \n",
      "&emsp;&emsp;&emsp;&emsp;&emsp;&emsp;&emsp;&emsp;&emsp;&emsp;&emsp;&emsp;[3.3.3.1. New ranking system](#3.3.3.1.-new-ranking-system)  \n",
      "&emsp;&emsp;&emsp;&emsp;&emsp;&emsp;&emsp;&emsp;&emsp;&emsp;&emsp;&emsp;[3.3.3.2. Best breweries in the world around the years](#3.3.3.2.-best-breweries-in-the-world-around-the-years)  \n",
      "[4. Annexes](#4.-annexes)  \n",
      "&emsp;&emsp;&emsp;&emsp;[4.1. Generation of the table of content](#4.1.-generation-of-the-table-of-content)  \n"
     ]
    }
   ],
   "source": [
    "print(toc)"
   ]
  },
  {
   "cell_type": "markdown",
   "metadata": {},
   "source": []
  }
 ],
 "metadata": {
  "kernelspec": {
   "display_name": "ada",
   "language": "python",
   "name": "python3"
  },
  "language_info": {
   "codemirror_mode": {
    "name": "ipython",
    "version": 3
   },
   "file_extension": ".py",
   "mimetype": "text/x-python",
   "name": "python",
   "nbconvert_exporter": "python",
   "pygments_lexer": "ipython3",
   "version": "3.9.18"
  }
 },
 "nbformat": 4,
 "nbformat_minor": 2
}
