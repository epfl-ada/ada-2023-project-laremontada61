{
 "cells": [
  {
   "cell_type": "markdown",
   "metadata": {},
   "source": [
    "# 1.Introduction"
   ]
  },
  {
   "cell_type": "markdown",
   "metadata": {},
   "source": [
    "[1. 1.Introduction](#1.-1.introduction)  \n",
    "&emsp;&emsp;&emsp;&emsp;[1.1. Virtual environment setup](#1.1.-virtual-environment-setup)  \n",
    "&emsp;&emsp;&emsp;&emsp;[1.2. Libraries import](#1.2.-libraries-import)  \n",
    "&emsp;&emsp;&emsp;&emsp;[1.3. Paths definition](#1.3.-paths-definition)  \n",
    "&emsp;&emsp;&emsp;&emsp;[1.4. Functions definition](#1.4.-functions-definition)  \n",
    "[2. Data handling](#2.-data-handling)  \n",
    "&emsp;&emsp;&emsp;&emsp;[2.1. Data import TCN FOR U](#2.1.-data-import-tcn-for-u)  \n",
    "&emsp;&emsp;&emsp;&emsp;&emsp;&emsp;&emsp;&emsp;[2.1.1. Import text files](#2.1.1.-import-text-files)  \n",
    "&emsp;&emsp;&emsp;&emsp;&emsp;&emsp;&emsp;&emsp;[2.1.2. Load the other data](#2.1.2.-load-the-other-data)  \n",
    "&emsp;&emsp;&emsp;&emsp;&emsp;&emsp;&emsp;&emsp;[2.1.3. Data types](#2.1.3.-data-types)  \n",
    "&emsp;&emsp;&emsp;&emsp;&emsp;&emsp;&emsp;&emsp;&emsp;&emsp;&emsp;&emsp;[2.1.3.1. Check the types](#2.1.3.1.-check-the-types)  \n",
    "&emsp;&emsp;&emsp;&emsp;&emsp;&emsp;&emsp;&emsp;&emsp;&emsp;&emsp;&emsp;[2.1.3.2. 2.1.3.2 Change the types](#2.1.3.2.-2.1.3.2-change-the-types)  \n",
    "&emsp;&emsp;&emsp;&emsp;[2.2. Data exploration CCT FOR U](#2.2.-data-exploration-cct-for-u)  \n",
    "&emsp;&emsp;&emsp;&emsp;[2.3. Data combination](#2.3.-data-combination)  \n",
    "&emsp;&emsp;&emsp;&emsp;&emsp;&emsp;&emsp;&emsp;[2.3.1. Preprocessing](#2.3.1.-preprocessing)  \n",
    "&emsp;&emsp;&emsp;&emsp;&emsp;&emsp;&emsp;&emsp;&emsp;&emsp;&emsp;&emsp;[2.3.1.1. Standardize ratings_BA and ratings_RB annually](#2.3.1.1.-standardize-ratings_ba-and-ratings_rb-annually)  \n",
    "&emsp;&emsp;&emsp;&emsp;&emsp;&emsp;&emsp;&emsp;&emsp;&emsp;&emsp;&emsp;[2.3.1.2. Standardization of the matched' ratings](#2.3.1.2.-standardization-of-the-matched'-ratings)  \n",
    "&emsp;&emsp;&emsp;&emsp;&emsp;&emsp;&emsp;&emsp;[2.3.2. Summaries standardized data](#2.3.2.-summaries-standardized-data)  \n",
    "&emsp;&emsp;&emsp;&emsp;&emsp;&emsp;&emsp;&emsp;[2.3.3. Concatenation of the dataframes](#2.3.3.-concatenation-of-the-dataframes)  \n",
    "[3. Data Analysis](#3.-data-analysis)  \n",
    "&emsp;&emsp;&emsp;&emsp;[3.1. 3.1 Numerical ranking TCN FOR U](#3.1.-3.1-numerical-ranking-tcn-for-u)  \n",
    "&emsp;&emsp;&emsp;&emsp;&emsp;&emsp;&emsp;&emsp;[3.1.1. Filtering of the data](#3.1.1.-filtering-of-the-data)  \n",
    "&emsp;&emsp;&emsp;&emsp;&emsp;&emsp;&emsp;&emsp;[3.1.2. Weighted ranking](#3.1.2.-weighted-ranking)  \n",
    "&emsp;&emsp;&emsp;&emsp;&emsp;&emsp;&emsp;&emsp;&emsp;&emsp;&emsp;&emsp;[3.1.2.1. All-time weighted ranking](#3.1.2.1.-all-time-weighted-ranking)  \n",
    "&emsp;&emsp;&emsp;&emsp;&emsp;&emsp;&emsp;&emsp;&emsp;&emsp;&emsp;&emsp;[3.1.2.2. Weighted ranking per year](#3.1.2.2.-weighted-ranking-per-year)  \n",
    "&emsp;&emsp;&emsp;&emsp;&emsp;&emsp;&emsp;&emsp;[3.1.3. Quality-based ranking](#3.1.3.-quality-based-ranking)  \n",
    "&emsp;&emsp;&emsp;&emsp;&emsp;&emsp;&emsp;&emsp;&emsp;&emsp;&emsp;&emsp;[3.1.3.1. All time quality ranking](#3.1.3.1.-all-time-quality-ranking)  \n",
    "&emsp;&emsp;&emsp;&emsp;&emsp;&emsp;&emsp;&emsp;&emsp;&emsp;&emsp;&emsp;[3.1.3.2. Quality ranking per year](#3.1.3.2.-quality-ranking-per-year)  \n",
    "&emsp;&emsp;&emsp;&emsp;&emsp;&emsp;&emsp;&emsp;[3.1.4. 3.1.3 Evolution of the best breweries grade across the years](#3.1.4.-3.1.3-evolution-of-the-best-breweries-grade-across-the-years)  \n",
    "&emsp;&emsp;&emsp;&emsp;[3.2. Link between polarity, subjectivity of the reviews and ratings CCT FOR U](#3.2.-link-between-polarity,-subjectivity-of-the-reviews-and-ratings-cct-for-u)  \n",
    "&emsp;&emsp;&emsp;&emsp;[3.3. Advanced ranking](#3.3.-advanced-ranking)  \n",
    "&emsp;&emsp;&emsp;&emsp;&emsp;&emsp;&emsp;&emsp;[3.3.1. Reviews' preprocessing](#3.3.1.-reviews'-preprocessing)  \n",
    "&emsp;&emsp;&emsp;&emsp;&emsp;&emsp;&emsp;&emsp;[3.3.2. Calculations of polarity and subjectivity of the reviews with NLP analysis](#3.3.2.-calculations-of-polarity-and-subjectivity-of-the-reviews-with-nlp-analysis)  \n",
    "&emsp;&emsp;&emsp;&emsp;&emsp;&emsp;&emsp;&emsp;[3.3.3. Analysis with the new ranking system](#3.3.3.-analysis-with-the-new-ranking-system)  \n",
    "&emsp;&emsp;&emsp;&emsp;&emsp;&emsp;&emsp;&emsp;&emsp;&emsp;&emsp;&emsp;[3.3.3.1. New ranking system](#3.3.3.1.-new-ranking-system)  \n",
    "&emsp;&emsp;&emsp;&emsp;&emsp;&emsp;&emsp;&emsp;&emsp;&emsp;&emsp;&emsp;[3.3.3.2. Best breweries in the world around the years](#3.3.3.2.-best-breweries-in-the-world-around-the-years)  \n",
    "[4. Annexes](#4.-annexes)  \n",
    "&emsp;&emsp;&emsp;&emsp;[4.1. Generation of the table of content](#4.1.-generation-of-the-table-of-content)  "
   ]
  },
  {
   "cell_type": "markdown",
   "metadata": {},
   "source": [
    "## 1.1. Virtual environment setup"
   ]
  },
  {
   "cell_type": "markdown",
   "metadata": {},
   "source": [
    "A NE PAS OUBLIER"
   ]
  },
  {
   "cell_type": "markdown",
   "metadata": {},
   "source": [
    "## 1.2. Libraries import"
   ]
  },
  {
   "cell_type": "code",
   "execution_count": 1,
   "metadata": {},
   "outputs": [],
   "source": [
    "# import all the libraries\n",
    "import pandas as pd\n",
    "import numpy as np\n",
    "import matplotlib.pyplot as plt\n",
    "import seaborn as sns\n",
    "import regex as re\n",
    "import os\n",
    "import warnings\n",
    "import spacy\n",
    "\n",
    "from textblob import TextBlob\n",
    "from IPython.display import display, HTML, Markdown\n",
    "\n",
    "from sklearn.feature_extraction.text import CountVectorizer\n",
    "from sklearn.preprocessing import StandardScaler, MinMaxScaler\n",
    "\n",
    "import string\n",
    "import nltk\n",
    "from nltk.corpus import stopwords, words\n",
    "from nltk.stem import WordNetLemmatizer\n",
    "from nltk.tokenize import word_tokenize\n",
    "\n",
    "from wordcloud import WordCloud\n",
    "from collections import Counter\n",
    "import vaderSentiment\n",
    "from vaderSentiment.vaderSentiment import SentimentIntensityAnalyzer\n",
    "# statistics\n",
    "from scipy.stats import ttest_rel, ttest_ind\n",
    "import statsmodels.formula.api as smf\n",
    "\n",
    "warnings.filterwarnings('ignore') # remove the warnings"
   ]
  },
  {
   "cell_type": "markdown",
   "metadata": {},
   "source": [
    "## 1.3. Paths definition"
   ]
  },
  {
   "cell_type": "code",
   "execution_count": 2,
   "metadata": {},
   "outputs": [],
   "source": [
    "#mettre les paths "
   ]
  },
  {
   "cell_type": "markdown",
   "metadata": {},
   "source": [
    "## 1.4. Functions definition"
   ]
  },
  {
   "cell_type": "code",
   "execution_count": 3,
   "metadata": {},
   "outputs": [],
   "source": [
    "# A function is defined to save the plots in .html and .png format\n",
    "def plot_format (fig, name):\n",
    "    fig.write_html(output_plot_folder + name + \".html\")\n",
    "    fig.write_image(output_img_folder + name + \".png\", engine=\"kaleido\")\n",
    "\n",
    "    #Show plot image in notebook\n",
    "    return Image(output_img_folder + name + \".png\")"
   ]
  },
  {
   "cell_type": "markdown",
   "metadata": {},
   "source": [
    "# 2. Data handling"
   ]
  },
  {
   "cell_type": "markdown",
   "metadata": {},
   "source": [
    "## 2.1. Data import TCN FOR U"
   ]
  },
  {
   "cell_type": "markdown",
   "metadata": {},
   "source": [
    "It also accommodates inherent differences between the two websites, such as additional review columns for BeerAdvocate.\n",
    "\n",
    "Once loaded into DataFrames, we utilize the sample_data function to randomly sample a fraction of the data, enabling efficient handling of the substantial dataset."
   ]
  },
  {
   "cell_type": "markdown",
   "metadata": {},
   "source": [
    "### 2.1.1. Import text files"
   ]
  },
  {
   "cell_type": "code",
   "execution_count": 4,
   "metadata": {},
   "outputs": [],
   "source": [
    "def load_txt_file(website, Nb_files):\n",
    "    if website == 'BeerAdvocate':\n",
    "        # Specify the directory containing the text files \n",
    "        # Need to be outside of the repo folder and might need to change the path according to one's unique folders configuration\n",
    "        directory = './../dataset_BeerReviews/BeerAdvocate/ratings_split_BA_new/'\n",
    "    else:\n",
    "        directory = './../dataset_BeerReviews/RateBeer/ratings_split_RB_new/'\n",
    "        \n",
    "    # Initialize an empty list to store DataFrames\n",
    "    dfs = []\n",
    "\n",
    "    # Loop through the files in reverse order (ratings-5.txt to ratings-1.txt)\n",
    "    for i in range(Nb_files, 0, -1):\n",
    "        file_name = f'ratings-{i}.txt'\n",
    "        file_path = os.path.join(directory, file_name)\n",
    "\n",
    "        with open(file_path, 'r') as f:\n",
    "            text = f.read()\n",
    "\n",
    "        # Remove double quotes at the beginning of each line\n",
    "        data = re.sub('\"', '', text)\n",
    "        data = re.sub(r'^\"', '', data, flags=re.MULTILINE)\n",
    "\n",
    "        # Split the text into individual beer reviews\n",
    "        beer_reviews = data.split('beer_name')\n",
    "\n",
    "        # Extract the beer information from each review\n",
    "        beer_data = []\n",
    "        for review in beer_reviews:\n",
    "            beer_info = {}\n",
    "            for line in [entry.split(':', 1) for entry in review.split('\\n') if ':' in entry]:# and 'text' not in entry]:\n",
    "                if line:  # Check if the list is not empty\n",
    "                    key, value = line[0].strip(), line[1].strip()\n",
    "                    beer_info[key] = value\n",
    "            beer_data.append(beer_info)\n",
    "\n",
    "        # Convert the beer data into a DataFrame\n",
    "        df = pd.DataFrame(beer_data)\n",
    "\n",
    "        # Append the DataFrame to the list\n",
    "        dfs.append(df)\n",
    "\n",
    "    # Concatenate all DataFrames into a single DataFrame\n",
    "    final_df = pd.concat(dfs, ignore_index=True)\n",
    "\n",
    "    # Rename the columns depending on the website\n",
    "    if website == 'BeerAdvocate':\n",
    "        final_df.columns = [\n",
    "            'beer_name',\n",
    "            'beer_id',\n",
    "            'brewery_name',\n",
    "            'brewery_id',\n",
    "            'style',\n",
    "            'abv',\n",
    "            'date',\n",
    "            'user_name',\n",
    "            'user_id',\n",
    "            'appearance',\n",
    "            'aroma',\n",
    "            'palate',\n",
    "            'taste',\n",
    "            'overall',\n",
    "            'rating',\n",
    "            'text',\n",
    "            'review'] # additional column compared to RB\n",
    "    else:\n",
    "        final_df.columns = [\n",
    "            'beer_name',\n",
    "            'beer_id',\n",
    "            'brewery_name',\n",
    "            'brewery_id',\n",
    "            'style',\n",
    "            'abv',\n",
    "            'date',\n",
    "            'user_name',\n",
    "            'user_id',\n",
    "            'appearance',\n",
    "            'aroma',\n",
    "            'palate',\n",
    "            'taste',\n",
    "            'overall',\n",
    "            'rating',\n",
    "            'text']\n",
    "    return final_df\n",
    "\n",
    "def sample_data(df, ratio):\n",
    "    # sample the data to make it even smaller\n",
    "    return df.sample(frac = ratio, random_state=42)"
   ]
  },
  {
   "cell_type": "code",
   "execution_count": 49,
   "metadata": {},
   "outputs": [],
   "source": [
    "# Load data : for faster processing, we will only load 1 file out of the whole dataset\n",
    "ratings_BA = load_txt_file('BeerAdvocate', 2)\n",
    "ratings_RB = load_txt_file('RateBeer', 2)"
   ]
  },
  {
   "cell_type": "code",
   "execution_count": 50,
   "metadata": {},
   "outputs": [],
   "source": [
    "# Sample data to make it even smaller AND RANDOMIZED (not randomized in the initial txt splitting process)\n",
    "ratings_BA = sample_data(df = ratings_BA, ratio = 0.1)\n",
    "ratings_RB = sample_data(df = ratings_RB, ratio = 0.1)"
   ]
  },
  {
   "cell_type": "code",
   "execution_count": 51,
   "metadata": {},
   "outputs": [
    {
     "name": "stdout",
     "output_type": "stream",
     "text": [
      "Length of ratings_BA (BeerAdvocate) dataframe : 88868\n",
      "Length of ratings_RB (RateBeer) dataframe : 84672\n"
     ]
    },
    {
     "data": {
      "text/html": [
       "<div>\n",
       "<style scoped>\n",
       "    .dataframe tbody tr th:only-of-type {\n",
       "        vertical-align: middle;\n",
       "    }\n",
       "\n",
       "    .dataframe tbody tr th {\n",
       "        vertical-align: top;\n",
       "    }\n",
       "\n",
       "    .dataframe thead th {\n",
       "        text-align: right;\n",
       "    }\n",
       "</style>\n",
       "<table border=\"1\" class=\"dataframe\">\n",
       "  <thead>\n",
       "    <tr style=\"text-align: right;\">\n",
       "      <th></th>\n",
       "      <th>beer_name</th>\n",
       "      <th>beer_id</th>\n",
       "      <th>brewery_name</th>\n",
       "      <th>brewery_id</th>\n",
       "      <th>style</th>\n",
       "      <th>abv</th>\n",
       "      <th>date</th>\n",
       "      <th>user_name</th>\n",
       "      <th>user_id</th>\n",
       "      <th>appearance</th>\n",
       "      <th>aroma</th>\n",
       "      <th>palate</th>\n",
       "      <th>taste</th>\n",
       "      <th>overall</th>\n",
       "      <th>rating</th>\n",
       "      <th>text</th>\n",
       "      <th>review</th>\n",
       "    </tr>\n",
       "  </thead>\n",
       "  <tbody>\n",
       "    <tr>\n",
       "      <th>277730</th>\n",
       "      <td>Weihenstephaner Hefeweissbier Dunkel</td>\n",
       "      <td>808</td>\n",
       "      <td>Bayerische Staatsbrauerei Weihenstephan</td>\n",
       "      <td>252</td>\n",
       "      <td>Dunkelweizen</td>\n",
       "      <td>5.3</td>\n",
       "      <td>1384081200</td>\n",
       "      <td>dcmchew</td>\n",
       "      <td>dcmchew.760280</td>\n",
       "      <td>4.5</td>\n",
       "      <td>4.25</td>\n",
       "      <td>4.25</td>\n",
       "      <td>4.25</td>\n",
       "      <td>4.25</td>\n",
       "      <td>4.27</td>\n",
       "      <td>nan</td>\n",
       "      <td>False</td>\n",
       "    </tr>\n",
       "    <tr>\n",
       "      <th>848143</th>\n",
       "      <td>Funk Land II</td>\n",
       "      <td>237447</td>\n",
       "      <td>Half Hours on Earth</td>\n",
       "      <td>44830</td>\n",
       "      <td>Saison / Farmhouse Ale</td>\n",
       "      <td>5.5</td>\n",
       "      <td>1475402400</td>\n",
       "      <td>Sammy</td>\n",
       "      <td>sammy.3853</td>\n",
       "      <td>3.5</td>\n",
       "      <td>3.75</td>\n",
       "      <td>3.5</td>\n",
       "      <td>4.0</td>\n",
       "      <td>4.0</td>\n",
       "      <td>3.86</td>\n",
       "      <td>nan</td>\n",
       "      <td>False</td>\n",
       "    </tr>\n",
       "  </tbody>\n",
       "</table>\n",
       "</div>"
      ],
      "text/plain": [
       "                                   beer_name beer_id  \\\n",
       "277730  Weihenstephaner Hefeweissbier Dunkel     808   \n",
       "848143                          Funk Land II  237447   \n",
       "\n",
       "                                   brewery_name brewery_id  \\\n",
       "277730  Bayerische Staatsbrauerei Weihenstephan        252   \n",
       "848143                      Half Hours on Earth      44830   \n",
       "\n",
       "                         style  abv        date user_name         user_id  \\\n",
       "277730            Dunkelweizen  5.3  1384081200   dcmchew  dcmchew.760280   \n",
       "848143  Saison / Farmhouse Ale  5.5  1475402400     Sammy      sammy.3853   \n",
       "\n",
       "       appearance aroma palate taste overall rating text review  \n",
       "277730        4.5  4.25   4.25  4.25    4.25   4.27  nan  False  \n",
       "848143        3.5  3.75    3.5   4.0     4.0   3.86  nan  False  "
      ]
     },
     "metadata": {},
     "output_type": "display_data"
    },
    {
     "data": {
      "text/html": [
       "<div>\n",
       "<style scoped>\n",
       "    .dataframe tbody tr th:only-of-type {\n",
       "        vertical-align: middle;\n",
       "    }\n",
       "\n",
       "    .dataframe tbody tr th {\n",
       "        vertical-align: top;\n",
       "    }\n",
       "\n",
       "    .dataframe thead th {\n",
       "        text-align: right;\n",
       "    }\n",
       "</style>\n",
       "<table border=\"1\" class=\"dataframe\">\n",
       "  <thead>\n",
       "    <tr style=\"text-align: right;\">\n",
       "      <th></th>\n",
       "      <th>beer_name</th>\n",
       "      <th>beer_id</th>\n",
       "      <th>brewery_name</th>\n",
       "      <th>brewery_id</th>\n",
       "      <th>style</th>\n",
       "      <th>abv</th>\n",
       "      <th>date</th>\n",
       "      <th>user_name</th>\n",
       "      <th>user_id</th>\n",
       "      <th>appearance</th>\n",
       "      <th>aroma</th>\n",
       "      <th>palate</th>\n",
       "      <th>taste</th>\n",
       "      <th>overall</th>\n",
       "      <th>rating</th>\n",
       "      <th>text</th>\n",
       "    </tr>\n",
       "  </thead>\n",
       "  <tbody>\n",
       "    <tr>\n",
       "      <th>96914</th>\n",
       "      <td>Toccalmatto Surfing Hop Imperial IPA</td>\n",
       "      <td>95331</td>\n",
       "      <td>Birrificio Toccalmatto</td>\n",
       "      <td>9870</td>\n",
       "      <td>Imperial IPA</td>\n",
       "      <td>9.0</td>\n",
       "      <td>1445594400</td>\n",
       "      <td>pils70</td>\n",
       "      <td>386318</td>\n",
       "      <td>3</td>\n",
       "      <td>9</td>\n",
       "      <td>4</td>\n",
       "      <td>9</td>\n",
       "      <td>16</td>\n",
       "      <td>4.10</td>\n",
       "      <td>Color rosso rubino. Al naso e al palato una bo...</td>\n",
       "    </tr>\n",
       "    <tr>\n",
       "      <th>566028</th>\n",
       "      <td>Le Trou du Diable LOurs</td>\n",
       "      <td>242114</td>\n",
       "      <td>Le Trou du Diable</td>\n",
       "      <td>6444</td>\n",
       "      <td>Sour/Wild Ale</td>\n",
       "      <td>6.5</td>\n",
       "      <td>1388314800</td>\n",
       "      <td>tom10101</td>\n",
       "      <td>126758</td>\n",
       "      <td>4</td>\n",
       "      <td>8</td>\n",
       "      <td>4</td>\n",
       "      <td>8</td>\n",
       "      <td>17</td>\n",
       "      <td>4.10</td>\n",
       "      <td>Bottle (750 ml). Batch 001. Small gusher at th...</td>\n",
       "    </tr>\n",
       "  </tbody>\n",
       "</table>\n",
       "</div>"
      ],
      "text/plain": [
       "                                   beer_name beer_id            brewery_name  \\\n",
       "96914   Toccalmatto Surfing Hop Imperial IPA   95331  Birrificio Toccalmatto   \n",
       "566028              Le Trou du Diable LOurs  242114       Le Trou du Diable   \n",
       "\n",
       "       brewery_id          style  abv        date user_name user_id  \\\n",
       "96914        9870   Imperial IPA  9.0  1445594400    pils70  386318   \n",
       "566028       6444  Sour/Wild Ale  6.5  1388314800  tom10101  126758   \n",
       "\n",
       "       appearance aroma palate taste overall rating  \\\n",
       "96914           3     9      4     9      16   4.10   \n",
       "566028          4     8      4     8      17   4.10   \n",
       "\n",
       "                                                     text  \n",
       "96914   Color rosso rubino. Al naso e al palato una bo...  \n",
       "566028  Bottle (750 ml). Batch 001. Small gusher at th...  "
      ]
     },
     "metadata": {},
     "output_type": "display_data"
    }
   ],
   "source": [
    "print(f\"Length of ratings_BA (BeerAdvocate) dataframe : {len(ratings_BA)}\")\n",
    "print(f\"Length of ratings_RB (RateBeer) dataframe : {len(ratings_RB)}\")\n",
    "display(ratings_BA.head(2),ratings_RB.head(2))"
   ]
  },
  {
   "cell_type": "markdown",
   "metadata": {},
   "source": [
    "### 2.1.2. Load the other data"
   ]
  },
  {
   "cell_type": "code",
   "execution_count": 52,
   "metadata": {},
   "outputs": [],
   "source": [
    "# BeerAdvocate\n",
    "beers_BA = pd.read_csv(\"./dataset_BeerReviews/BeerAdvocate/beers.csv\")\n",
    "breweries_BA = pd.read_csv(\"./dataset_BeerReviews/BeerAdvocate/breweries.csv\")\n",
    "users_BA = pd.read_csv(\"./dataset_BeerReviews/BeerAdvocate/users.csv\")\n",
    "\n",
    "# RateBeer\n",
    "beers_RB = pd.read_csv(\"./dataset_BeerReviews/RateBeer/beers.csv\")\n",
    "breweries_RB = pd.read_csv(\"./dataset_BeerReviews/RateBeer/breweries.csv\")\n",
    "users_RB = pd.read_csv(\"./dataset_BeerReviews/RateBeer/users.csv\")\n",
    "\n",
    "# matched_beer_data\n",
    "beers_matched = pd.read_csv(\"./dataset_BeerReviews/matched_beer_data/beers.csv\", header=1)\n",
    "breweries_matched = pd.read_csv(\"./dataset_BeerReviews/matched_beer_data/breweries.csv\", header = 1)\n",
    "ratings_matched = pd.read_csv(\"./dataset_BeerReviews/matched_beer_data/ratings.csv\", header=1)\n",
    "users_approx = pd.read_csv(\"./dataset_BeerReviews/matched_beer_data/users_approx.csv\", header=1)\n",
    "users_matched = pd.read_csv(\"./dataset_BeerReviews/matched_beer_data/users.csv\", header=1)"
   ]
  },
  {
   "cell_type": "markdown",
   "metadata": {},
   "source": [
    "### 2.1.3. Data types\n",
    "\n",
    "#### 2.1.3.1. Quick preprocessing to :\n",
    "- drop the useless column of the ratings dataframes:\n",
    "\n",
    "    - ratings_BA\n",
    "    - ratings_RB\n",
    "    - ratings_matched\n",
    "\n",
    "- add the location to users and breweries to ratings dataframes"
   ]
  },
  {
   "cell_type": "code",
   "execution_count": 53,
   "metadata": {},
   "outputs": [],
   "source": [
    "ratings_BA.drop(columns=['abv', 'appearance', 'aroma', 'palate', 'taste', 'overall', 'review'], inplace=True)\n",
    "ratings_RB.drop(columns=['abv', 'appearance', 'aroma', 'palate', 'taste', 'overall'], inplace=True)\n",
    "ratings_matched.drop(columns=['abv', 'appearance', 'aroma', 'palate', 'taste', 'overall', 'review',\n",
    "                            'abv.1', 'appearance.1', 'aroma.1', 'palate.1', 'taste.1', 'overall.1'], inplace=True)"
   ]
  },
  {
   "cell_type": "markdown",
   "metadata": {},
   "source": [
    "## todo justify why we took users_approx to add the users' location"
   ]
  },
  {
   "cell_type": "code",
   "execution_count": 54,
   "metadata": {},
   "outputs": [],
   "source": [
    "def add_location(breweries_df, users_df, ratings_df):\n",
    "    ## Breweries\n",
    "    # Rename the column 'id' to 'brewery_id' in breweries_df\n",
    "    breweries_df.rename(columns={'id': 'brewery_id'}, inplace=True)\n",
    "    breweries_df.rename(columns={'location': 'brewery_location'}, inplace=True)\n",
    "    # Convert 'brewery_id' to str in both DataFrames before merging\n",
    "    breweries_df['brewery_id'] = breweries_df['brewery_id'].astype(str)\n",
    "    ratings_df['brewery_id'] = ratings_df['brewery_id'].astype(str)\n",
    "\n",
    "    # Add location of the brewery\n",
    "    ratings_df_merged = pd.merge(ratings_df, breweries_df[['brewery_id', 'brewery_location']], on='brewery_id', how='left')\n",
    "\n",
    "    # Change the order of the columns\n",
    "    last_column_b = ratings_df_merged.pop('brewery_location')\n",
    "    ratings_df_merged.insert(4, 'brewery_location', last_column_b)\n",
    "\n",
    "    ## Users\n",
    "    users_df.rename(columns={'location': 'user_location'}, inplace=True)\n",
    "    # Add location of the user\n",
    "    users_df['user_id'] = users_df['user_id'].astype(str)\n",
    "    ratings_df_merged['user_id'] = ratings_df_merged['user_id'].astype(str)\n",
    "\n",
    "    ratings_df_merged = pd.merge(ratings_df_merged, users_df[['user_id', 'user_location']], on='user_id', how='left')\n",
    "\n",
    "    # Change the order of the columns\n",
    "    last_column_u = ratings_df_merged.pop('user_location')\n",
    "    ratings_df_merged.insert(9, 'user_location', last_column_u)\n",
    "    return ratings_df_merged\n",
    "\n",
    "def add_location_matched(breweries_df, users_df, ratings_df):\n",
    "    # Rename the column 'id' to 'brewery_id' in breweries_df\n",
    "    breweries_df.rename(columns={'id': 'brewery_id'}, inplace=True)\n",
    "    breweries_df.rename(columns={'location': 'brewery_location'}, inplace=True)\n",
    "    # Convert 'brewery_id' to str in both DataFrames before merging\n",
    "    breweries_df['brewery_id'] = breweries_df['brewery_id'].astype(str)\n",
    "    ratings_df['brewery_id'] = ratings_df['brewery_id'].astype(str)\n",
    "\n",
    "    # Add location of the brewery\n",
    "    ratings_df_merged = pd.merge(ratings_df, breweries_df[['brewery_id', 'brewery_location']], on='brewery_id', how='left')\n",
    "\n",
    "    # Change the order of the columns\n",
    "    column_1 = ratings_df_merged.pop('brewery_location')\n",
    "    ratings_df_merged.insert(4, 'brewery_location', column_1)\n",
    "    ratings_df_merged.insert(15, 'brewery_location.1', column_1)\n",
    "\n",
    "    ## Users\n",
    "    users_df.rename(columns={'location': 'user_location'}, inplace=True)\n",
    "    # Add location of the user\n",
    "    users_df['user_id'] = users_df['user_id'].astype(str)\n",
    "    ratings_df_merged['user_id'] = ratings_df_merged['user_id'].astype(str)\n",
    "\n",
    "    ratings_df_merged = pd.merge(ratings_df_merged, users_df[['user_id', 'user_location']], on='user_id', how='left')\n",
    "\n",
    "    # Change the order of the columns\n",
    "    column_1 = ratings_df_merged.pop('user_location')\n",
    "    ratings_df_merged.insert(11, 'user_location', column_1)\n",
    "    ratings_df_merged.insert(23, 'user_location.1', column_1)\n",
    "    return ratings_df_merged"
   ]
  },
  {
   "cell_type": "code",
   "execution_count": 55,
   "metadata": {},
   "outputs": [
    {
     "data": {
      "text/html": [
       "<div>\n",
       "<style scoped>\n",
       "    .dataframe tbody tr th:only-of-type {\n",
       "        vertical-align: middle;\n",
       "    }\n",
       "\n",
       "    .dataframe tbody tr th {\n",
       "        vertical-align: top;\n",
       "    }\n",
       "\n",
       "    .dataframe thead th {\n",
       "        text-align: right;\n",
       "    }\n",
       "</style>\n",
       "<table border=\"1\" class=\"dataframe\">\n",
       "  <thead>\n",
       "    <tr style=\"text-align: right;\">\n",
       "      <th></th>\n",
       "      <th>beer_name</th>\n",
       "      <th>beer_id</th>\n",
       "      <th>brewery_name</th>\n",
       "      <th>brewery_id</th>\n",
       "      <th>brewery_location</th>\n",
       "      <th>style</th>\n",
       "      <th>date</th>\n",
       "      <th>user_name</th>\n",
       "      <th>user_id</th>\n",
       "      <th>user_location</th>\n",
       "      <th>rating</th>\n",
       "      <th>text</th>\n",
       "    </tr>\n",
       "  </thead>\n",
       "  <tbody>\n",
       "    <tr>\n",
       "      <th>0</th>\n",
       "      <td>Weihenstephaner Hefeweissbier Dunkel</td>\n",
       "      <td>808</td>\n",
       "      <td>Bayerische Staatsbrauerei Weihenstephan</td>\n",
       "      <td>252</td>\n",
       "      <td>Germany</td>\n",
       "      <td>Dunkelweizen</td>\n",
       "      <td>1384081200</td>\n",
       "      <td>dcmchew</td>\n",
       "      <td>dcmchew.760280</td>\n",
       "      <td>Romania</td>\n",
       "      <td>4.27</td>\n",
       "      <td>nan</td>\n",
       "    </tr>\n",
       "    <tr>\n",
       "      <th>1</th>\n",
       "      <td>Funk Land II</td>\n",
       "      <td>237447</td>\n",
       "      <td>Half Hours on Earth</td>\n",
       "      <td>44830</td>\n",
       "      <td>Canada</td>\n",
       "      <td>Saison / Farmhouse Ale</td>\n",
       "      <td>1475402400</td>\n",
       "      <td>Sammy</td>\n",
       "      <td>sammy.3853</td>\n",
       "      <td>Canada</td>\n",
       "      <td>3.86</td>\n",
       "      <td>nan</td>\n",
       "    </tr>\n",
       "  </tbody>\n",
       "</table>\n",
       "</div>"
      ],
      "text/plain": [
       "                              beer_name beer_id  \\\n",
       "0  Weihenstephaner Hefeweissbier Dunkel     808   \n",
       "1                          Funk Land II  237447   \n",
       "\n",
       "                              brewery_name brewery_id brewery_location  \\\n",
       "0  Bayerische Staatsbrauerei Weihenstephan        252          Germany   \n",
       "1                      Half Hours on Earth      44830           Canada   \n",
       "\n",
       "                    style        date user_name         user_id user_location  \\\n",
       "0            Dunkelweizen  1384081200   dcmchew  dcmchew.760280       Romania   \n",
       "1  Saison / Farmhouse Ale  1475402400     Sammy      sammy.3853        Canada   \n",
       "\n",
       "  rating text  \n",
       "0   4.27  nan  \n",
       "1   3.86  nan  "
      ]
     },
     "metadata": {},
     "output_type": "display_data"
    },
    {
     "data": {
      "text/html": [
       "<div>\n",
       "<style scoped>\n",
       "    .dataframe tbody tr th:only-of-type {\n",
       "        vertical-align: middle;\n",
       "    }\n",
       "\n",
       "    .dataframe tbody tr th {\n",
       "        vertical-align: top;\n",
       "    }\n",
       "\n",
       "    .dataframe thead th {\n",
       "        text-align: right;\n",
       "    }\n",
       "</style>\n",
       "<table border=\"1\" class=\"dataframe\">\n",
       "  <thead>\n",
       "    <tr style=\"text-align: right;\">\n",
       "      <th></th>\n",
       "      <th>beer_name</th>\n",
       "      <th>beer_id</th>\n",
       "      <th>brewery_name</th>\n",
       "      <th>brewery_id</th>\n",
       "      <th>brewery_location</th>\n",
       "      <th>style</th>\n",
       "      <th>date</th>\n",
       "      <th>user_name</th>\n",
       "      <th>user_id</th>\n",
       "      <th>user_location</th>\n",
       "      <th>rating</th>\n",
       "      <th>text</th>\n",
       "    </tr>\n",
       "  </thead>\n",
       "  <tbody>\n",
       "    <tr>\n",
       "      <th>0</th>\n",
       "      <td>Toccalmatto Surfing Hop Imperial IPA</td>\n",
       "      <td>95331</td>\n",
       "      <td>Birrificio Toccalmatto</td>\n",
       "      <td>9870</td>\n",
       "      <td>Italy</td>\n",
       "      <td>Imperial IPA</td>\n",
       "      <td>1445594400</td>\n",
       "      <td>pils70</td>\n",
       "      <td>386318</td>\n",
       "      <td>NaN</td>\n",
       "      <td>4.10</td>\n",
       "      <td>Color rosso rubino. Al naso e al palato una bo...</td>\n",
       "    </tr>\n",
       "    <tr>\n",
       "      <th>1</th>\n",
       "      <td>Le Trou du Diable LOurs</td>\n",
       "      <td>242114</td>\n",
       "      <td>Le Trou du Diable</td>\n",
       "      <td>6444</td>\n",
       "      <td>Canada</td>\n",
       "      <td>Sour/Wild Ale</td>\n",
       "      <td>1388314800</td>\n",
       "      <td>tom10101</td>\n",
       "      <td>126758</td>\n",
       "      <td>Canada</td>\n",
       "      <td>4.10</td>\n",
       "      <td>Bottle (750 ml). Batch 001. Small gusher at th...</td>\n",
       "    </tr>\n",
       "  </tbody>\n",
       "</table>\n",
       "</div>"
      ],
      "text/plain": [
       "                              beer_name beer_id            brewery_name  \\\n",
       "0  Toccalmatto Surfing Hop Imperial IPA   95331  Birrificio Toccalmatto   \n",
       "1              Le Trou du Diable LOurs  242114       Le Trou du Diable   \n",
       "\n",
       "  brewery_id brewery_location          style        date user_name user_id  \\\n",
       "0       9870            Italy   Imperial IPA  1445594400    pils70  386318   \n",
       "1       6444           Canada  Sour/Wild Ale  1388314800  tom10101  126758   \n",
       "\n",
       "  user_location rating                                               text  \n",
       "0           NaN   4.10  Color rosso rubino. Al naso e al palato una bo...  \n",
       "1        Canada   4.10  Bottle (750 ml). Batch 001. Small gusher at th...  "
      ]
     },
     "metadata": {},
     "output_type": "display_data"
    },
    {
     "data": {
      "text/html": [
       "<div>\n",
       "<style scoped>\n",
       "    .dataframe tbody tr th:only-of-type {\n",
       "        vertical-align: middle;\n",
       "    }\n",
       "\n",
       "    .dataframe tbody tr th {\n",
       "        vertical-align: top;\n",
       "    }\n",
       "\n",
       "    .dataframe thead th {\n",
       "        text-align: right;\n",
       "    }\n",
       "</style>\n",
       "<table border=\"1\" class=\"dataframe\">\n",
       "  <thead>\n",
       "    <tr style=\"text-align: right;\">\n",
       "      <th></th>\n",
       "      <th>beer_id</th>\n",
       "      <th>beer_name</th>\n",
       "      <th>brewery_id</th>\n",
       "      <th>brewery_name</th>\n",
       "      <th>brewery_location</th>\n",
       "      <th>date</th>\n",
       "      <th>rating</th>\n",
       "      <th>style</th>\n",
       "      <th>text</th>\n",
       "      <th>user_id</th>\n",
       "      <th>...</th>\n",
       "      <th>brewery_id.1</th>\n",
       "      <th>brewery_name.1</th>\n",
       "      <th>brewery_location.1</th>\n",
       "      <th>date.1</th>\n",
       "      <th>rating.1</th>\n",
       "      <th>style.1</th>\n",
       "      <th>text.1</th>\n",
       "      <th>user_id.1</th>\n",
       "      <th>user_name.1</th>\n",
       "      <th>user_location.1</th>\n",
       "    </tr>\n",
       "  </thead>\n",
       "  <tbody>\n",
       "    <tr>\n",
       "      <th>0</th>\n",
       "      <td>645</td>\n",
       "      <td>Trappistes Rochefort 10</td>\n",
       "      <td>207</td>\n",
       "      <td>Brasserie de Rochefort</td>\n",
       "      <td>Belgium</td>\n",
       "      <td>1324810800</td>\n",
       "      <td>4.8</td>\n",
       "      <td>Quadrupel (Quad)</td>\n",
       "      <td>Best before 27.07.2016Directly reviewed in com...</td>\n",
       "      <td>erzengel.248045</td>\n",
       "      <td>...</td>\n",
       "      <td>406</td>\n",
       "      <td>Brasserie Rochefort</td>\n",
       "      <td>Belgium</td>\n",
       "      <td>1387710000</td>\n",
       "      <td>4.6</td>\n",
       "      <td>Abt/Quadrupel</td>\n",
       "      <td>a)  Geruch malzig-schwer-sÃ¼Ã. Riecht schon ...</td>\n",
       "      <td>83106</td>\n",
       "      <td>Erzengel</td>\n",
       "      <td>Germany</td>\n",
       "    </tr>\n",
       "    <tr>\n",
       "      <th>1</th>\n",
       "      <td>28191</td>\n",
       "      <td>Myanmar Lager Beer</td>\n",
       "      <td>9369</td>\n",
       "      <td>Myanmar Brewery and Distillery</td>\n",
       "      <td>Myanmar</td>\n",
       "      <td>1322650800</td>\n",
       "      <td>3.0</td>\n",
       "      <td>American Adjunct Lager</td>\n",
       "      <td>NaN</td>\n",
       "      <td>visionthing.639993</td>\n",
       "      <td>...</td>\n",
       "      <td>2921</td>\n",
       "      <td>Myanmar Brewery and Distillery</td>\n",
       "      <td>Myanmar</td>\n",
       "      <td>1322564400</td>\n",
       "      <td>1.7</td>\n",
       "      <td>Pale Lager</td>\n",
       "      <td>Can. Weak and watery, not the best beer of the...</td>\n",
       "      <td>91324</td>\n",
       "      <td>visionthing</td>\n",
       "      <td>Estonia</td>\n",
       "    </tr>\n",
       "  </tbody>\n",
       "</table>\n",
       "<p>2 rows × 24 columns</p>\n",
       "</div>"
      ],
      "text/plain": [
       "   beer_id                beer_name brewery_id  \\\n",
       "0      645  Trappistes Rochefort 10        207   \n",
       "1    28191       Myanmar Lager Beer       9369   \n",
       "\n",
       "                     brewery_name brewery_location        date  rating  \\\n",
       "0          Brasserie de Rochefort          Belgium  1324810800     4.8   \n",
       "1  Myanmar Brewery and Distillery          Myanmar  1322650800     3.0   \n",
       "\n",
       "                    style                                               text  \\\n",
       "0        Quadrupel (Quad)  Best before 27.07.2016Directly reviewed in com...   \n",
       "1  American Adjunct Lager                                                NaN   \n",
       "\n",
       "              user_id  ... brewery_id.1                  brewery_name.1  \\\n",
       "0     erzengel.248045  ...          406             Brasserie Rochefort   \n",
       "1  visionthing.639993  ...         2921  Myanmar Brewery and Distillery   \n",
       "\n",
       "   brewery_location.1      date.1  rating.1        style.1  \\\n",
       "0             Belgium  1387710000       4.6  Abt/Quadrupel   \n",
       "1             Myanmar  1322564400       1.7     Pale Lager   \n",
       "\n",
       "                                              text.1  user_id.1  user_name.1  \\\n",
       "0   a)  Geruch malzig-schwer-sÃ¼Ã. Riecht schon ...      83106     Erzengel   \n",
       "1  Can. Weak and watery, not the best beer of the...      91324  visionthing   \n",
       "\n",
       "  user_location.1  \n",
       "0         Germany  \n",
       "1         Estonia  \n",
       "\n",
       "[2 rows x 24 columns]"
      ]
     },
     "metadata": {},
     "output_type": "display_data"
    }
   ],
   "source": [
    "# Modify the data before concatenating (to add locations of users and breweries)\n",
    "ratings_BA = add_location(breweries_BA, users_BA, ratings_BA)\n",
    "ratings_RB = add_location(breweries_RB, users_RB, ratings_RB)\n",
    "ratings_matched= add_location_matched(breweries_matched, users_approx, ratings_matched)\n",
    "\n",
    "display(ratings_BA.head(2), ratings_RB.head(2), ratings_matched.head(2))"
   ]
  },
  {
   "cell_type": "markdown",
   "metadata": {},
   "source": [
    "#### 2.1.3.2. Check the types"
   ]
  },
  {
   "cell_type": "code",
   "execution_count": 56,
   "metadata": {},
   "outputs": [
    {
     "data": {
      "text/html": [
       "<div>\n",
       "<style scoped>\n",
       "    .dataframe tbody tr th:only-of-type {\n",
       "        vertical-align: middle;\n",
       "    }\n",
       "\n",
       "    .dataframe tbody tr th {\n",
       "        vertical-align: top;\n",
       "    }\n",
       "\n",
       "    .dataframe thead th {\n",
       "        text-align: right;\n",
       "    }\n",
       "</style>\n",
       "<table border=\"1\" class=\"dataframe\">\n",
       "  <thead>\n",
       "    <tr style=\"text-align: right;\">\n",
       "      <th></th>\n",
       "      <th>DataFrame 1</th>\n",
       "      <th>DataFrame 2</th>\n",
       "    </tr>\n",
       "  </thead>\n",
       "  <tbody>\n",
       "    <tr>\n",
       "      <th>beer_name</th>\n",
       "      <td>object</td>\n",
       "      <td>object</td>\n",
       "    </tr>\n",
       "    <tr>\n",
       "      <th>beer_id</th>\n",
       "      <td>object</td>\n",
       "      <td>object</td>\n",
       "    </tr>\n",
       "    <tr>\n",
       "      <th>brewery_name</th>\n",
       "      <td>object</td>\n",
       "      <td>object</td>\n",
       "    </tr>\n",
       "    <tr>\n",
       "      <th>brewery_id</th>\n",
       "      <td>object</td>\n",
       "      <td>object</td>\n",
       "    </tr>\n",
       "    <tr>\n",
       "      <th>brewery_location</th>\n",
       "      <td>object</td>\n",
       "      <td>object</td>\n",
       "    </tr>\n",
       "    <tr>\n",
       "      <th>style</th>\n",
       "      <td>object</td>\n",
       "      <td>object</td>\n",
       "    </tr>\n",
       "    <tr>\n",
       "      <th>date</th>\n",
       "      <td>object</td>\n",
       "      <td>object</td>\n",
       "    </tr>\n",
       "    <tr>\n",
       "      <th>user_name</th>\n",
       "      <td>object</td>\n",
       "      <td>object</td>\n",
       "    </tr>\n",
       "    <tr>\n",
       "      <th>user_id</th>\n",
       "      <td>object</td>\n",
       "      <td>object</td>\n",
       "    </tr>\n",
       "    <tr>\n",
       "      <th>user_location</th>\n",
       "      <td>object</td>\n",
       "      <td>object</td>\n",
       "    </tr>\n",
       "    <tr>\n",
       "      <th>rating</th>\n",
       "      <td>object</td>\n",
       "      <td>object</td>\n",
       "    </tr>\n",
       "    <tr>\n",
       "      <th>text</th>\n",
       "      <td>object</td>\n",
       "      <td>object</td>\n",
       "    </tr>\n",
       "  </tbody>\n",
       "</table>\n",
       "</div>"
      ],
      "text/plain": [
       "                 DataFrame 1 DataFrame 2\n",
       "beer_name             object      object\n",
       "beer_id               object      object\n",
       "brewery_name          object      object\n",
       "brewery_id            object      object\n",
       "brewery_location      object      object\n",
       "style                 object      object\n",
       "date                  object      object\n",
       "user_name             object      object\n",
       "user_id               object      object\n",
       "user_location         object      object\n",
       "rating                object      object\n",
       "text                  object      object"
      ]
     },
     "execution_count": 56,
     "metadata": {},
     "output_type": "execute_result"
    }
   ],
   "source": [
    "# Get types of features in each DataFrame\n",
    "df_types = pd.concat([df.dtypes.rename(f\"DataFrame {i+1}\") for i, df in enumerate([ratings_BA, ratings_RB])], axis=1)\n",
    "df_types"
   ]
  },
  {
   "cell_type": "markdown",
   "metadata": {},
   "source": [
    "#### 2.1.3.3 Change the types"
   ]
  },
  {
   "cell_type": "markdown",
   "metadata": {},
   "source": [
    "One can see that all the features of **ratings_BA** and **ratings_RB** have a `object` type, which is not very convenient if we want to automate the visualization process, for example plotting the distribution of the numerical features in histograms. As a first preprocessing step, we will thus convert the type of the numerical variables to `float64` with the function **convert_type** below."
   ]
  },
  {
   "cell_type": "code",
   "execution_count": 57,
   "metadata": {},
   "outputs": [],
   "source": [
    "def convert_type(df, col):\n",
    "    df[col] = df[col].astype('float64')\n",
    "    return df\n",
    "\n",
    "# columns including the numerical features for both websites\n",
    "# user_id is numerical in RB but categorical in BA so we don't include it\n",
    "#numerical_cols = ['beer_id', 'brewery_id', 'abv', 'appearance', 'aroma', 'palate', 'taste', 'overall', 'rating']\n",
    "numerical_cols = ['beer_id', 'brewery_id', 'rating']\n",
    "\n",
    "for col in numerical_cols : \n",
    "    ratings_BA = convert_type(ratings_BA, col)\n",
    "    ratings_RB = convert_type(ratings_RB, col)"
   ]
  },
  {
   "cell_type": "code",
   "execution_count": 86,
   "metadata": {},
   "outputs": [
    {
     "data": {
      "text/html": [
       "<div>\n",
       "<style scoped>\n",
       "    .dataframe tbody tr th:only-of-type {\n",
       "        vertical-align: middle;\n",
       "    }\n",
       "\n",
       "    .dataframe tbody tr th {\n",
       "        vertical-align: top;\n",
       "    }\n",
       "\n",
       "    .dataframe thead th {\n",
       "        text-align: right;\n",
       "    }\n",
       "</style>\n",
       "<table border=\"1\" class=\"dataframe\">\n",
       "  <thead>\n",
       "    <tr style=\"text-align: right;\">\n",
       "      <th></th>\n",
       "      <th>DataFrame 1</th>\n",
       "      <th>DataFrame 2</th>\n",
       "    </tr>\n",
       "  </thead>\n",
       "  <tbody>\n",
       "    <tr>\n",
       "      <th>beer_name</th>\n",
       "      <td>object</td>\n",
       "      <td>object</td>\n",
       "    </tr>\n",
       "    <tr>\n",
       "      <th>beer_id</th>\n",
       "      <td>float64</td>\n",
       "      <td>float64</td>\n",
       "    </tr>\n",
       "    <tr>\n",
       "      <th>brewery_name</th>\n",
       "      <td>object</td>\n",
       "      <td>object</td>\n",
       "    </tr>\n",
       "    <tr>\n",
       "      <th>brewery_id</th>\n",
       "      <td>float64</td>\n",
       "      <td>float64</td>\n",
       "    </tr>\n",
       "    <tr>\n",
       "      <th>brewery_location</th>\n",
       "      <td>object</td>\n",
       "      <td>object</td>\n",
       "    </tr>\n",
       "    <tr>\n",
       "      <th>style</th>\n",
       "      <td>object</td>\n",
       "      <td>object</td>\n",
       "    </tr>\n",
       "    <tr>\n",
       "      <th>date</th>\n",
       "      <td>object</td>\n",
       "      <td>object</td>\n",
       "    </tr>\n",
       "    <tr>\n",
       "      <th>user_name</th>\n",
       "      <td>object</td>\n",
       "      <td>object</td>\n",
       "    </tr>\n",
       "    <tr>\n",
       "      <th>user_id</th>\n",
       "      <td>object</td>\n",
       "      <td>object</td>\n",
       "    </tr>\n",
       "    <tr>\n",
       "      <th>user_location</th>\n",
       "      <td>object</td>\n",
       "      <td>object</td>\n",
       "    </tr>\n",
       "    <tr>\n",
       "      <th>rating</th>\n",
       "      <td>float64</td>\n",
       "      <td>float64</td>\n",
       "    </tr>\n",
       "    <tr>\n",
       "      <th>text</th>\n",
       "      <td>object</td>\n",
       "      <td>object</td>\n",
       "    </tr>\n",
       "  </tbody>\n",
       "</table>\n",
       "</div>"
      ],
      "text/plain": [
       "                 DataFrame 1 DataFrame 2\n",
       "beer_name             object      object\n",
       "beer_id              float64     float64\n",
       "brewery_name          object      object\n",
       "brewery_id           float64     float64\n",
       "brewery_location      object      object\n",
       "style                 object      object\n",
       "date                  object      object\n",
       "user_name             object      object\n",
       "user_id               object      object\n",
       "user_location         object      object\n",
       "rating               float64     float64\n",
       "text                  object      object"
      ]
     },
     "execution_count": 86,
     "metadata": {},
     "output_type": "execute_result"
    }
   ],
   "source": [
    "# Get types of features in each DataFrame\n",
    "df_types = pd.concat([df.dtypes.rename(f\"DataFrame {i+1}\") for i, df in enumerate([ratings_BA, ratings_RB])], axis=1)\n",
    "df_types"
   ]
  },
  {
   "cell_type": "markdown",
   "metadata": {},
   "source": [
    "## 2.2. Data exploration CCT FOR U"
   ]
  },
  {
   "cell_type": "markdown",
   "metadata": {},
   "source": [
    "## 2.3. Data combination"
   ]
  },
  {
   "cell_type": "markdown",
   "metadata": {},
   "source": [
    "- matched (already standardized, need to check scales though of numerical features)\n",
    "- BA (not standardized yet)\n",
    "- RB (not standardized yet)\n",
    "\n",
    "First we need to standardize the data from ratings_BA and ratings_RB before combining them with matched (which has already been standardized per year and per website, see paper)\n",
    "\n",
    "Explain that we duplicate the matched samples (1 from BA and 1 from RB), so that we keep all the reviews, independently of the website.\n"
   ]
  },
  {
   "cell_type": "markdown",
   "metadata": {},
   "source": [
    "### 2.3.1. Preprocessing"
   ]
  },
  {
   "cell_type": "markdown",
   "metadata": {},
   "source": [
    "#### 2.3.1.1. Standardize ratings_BA and ratings_RB annually"
   ]
  },
  {
   "cell_type": "markdown",
   "metadata": {},
   "source": [
    "- Need to add time dimension first: month and year"
   ]
  },
  {
   "cell_type": "code",
   "execution_count": 89,
   "metadata": {},
   "outputs": [],
   "source": [
    "def add_time_features(df):\n",
    "    \"\"\"\n",
    "    Adds a 'month' and a 'year' features to the DataFrame based on the 'date' column.\n",
    "    \n",
    "    Parameters\n",
    "    ----------\n",
    "    df : DataFrame\n",
    "        Contains data including a 'date' column.\n",
    "\n",
    "    Returns\n",
    "    -------\n",
    "    df_m : DataFrame\n",
    "        Contains the original data with an additional 'month' and 'year' features.\n",
    "    \"\"\"\n",
    "    # Create a copy of the DataFrame\n",
    "    df_time = df.copy()\n",
    "    # Conversion of date feature from timestamp to text date\n",
    "    pd.to_numeric(df_time['date'], errors='coerce', downcast='integer')\n",
    "    # Convert 'date' to datetime and extract the date\n",
    "    df_time.date = df.date.apply(lambda d: pd.to_datetime(d, unit='s'))\n",
    "    df_time['date'] = df_time['date'].dt.date\n",
    "\n",
    "    # Extract the month from the 'date' column and add it as a new feature 'month'\n",
    "    df_time['month'] = pd.to_datetime(df_time['date']).dt.month\n",
    "    # Extract the year from the 'date' column and add it as a new feature 'year'\n",
    "    df_time['year'] = pd.to_datetime(df_time['date']).dt.year\n",
    "\n",
    "    return df_time\n",
    "\n",
    "def standardize_annually(df, col_to_standardize):\n",
    "    \"\"\"\n",
    "    Standardizes the ratings annually and per website.\n",
    "    \n",
    "    Parameters\n",
    "    ----------\n",
    "    df : DataFrame\n",
    "        Containing all data\n",
    "\n",
    "    Returns\n",
    "    -------\n",
    "    df : DataFrame\n",
    "        Containing all data with standardized ratings with additional column 'standardized_rating'.\n",
    "                \n",
    "    \"\"\"\n",
    "    df_copy = df.copy()\n",
    "    grouped = df_copy.groupby('year')[col_to_standardize].agg(['mean', 'std'])\n",
    "    df_copy = pd.merge(df_copy, grouped, left_on='year', right_index=True)\n",
    "    df_copy[f\"std_{col_to_standardize}\"] = (df_copy[col_to_standardize] - df_copy['mean']) / df_copy['std']\n",
    "    df_copy.drop(columns = ['mean', 'std'], inplace=True)\n",
    "    \n",
    "    return df_copy, grouped"
   ]
  },
  {
   "cell_type": "code",
   "execution_count": 90,
   "metadata": {},
   "outputs": [
    {
     "data": {
      "text/html": [
       "<div>\n",
       "<style scoped>\n",
       "    .dataframe tbody tr th:only-of-type {\n",
       "        vertical-align: middle;\n",
       "    }\n",
       "\n",
       "    .dataframe tbody tr th {\n",
       "        vertical-align: top;\n",
       "    }\n",
       "\n",
       "    .dataframe thead th {\n",
       "        text-align: right;\n",
       "    }\n",
       "</style>\n",
       "<table border=\"1\" class=\"dataframe\">\n",
       "  <thead>\n",
       "    <tr style=\"text-align: right;\">\n",
       "      <th></th>\n",
       "      <th>beer_name</th>\n",
       "      <th>beer_id</th>\n",
       "      <th>brewery_name</th>\n",
       "      <th>brewery_id</th>\n",
       "      <th>brewery_location</th>\n",
       "      <th>style</th>\n",
       "      <th>date</th>\n",
       "      <th>user_name</th>\n",
       "      <th>user_id</th>\n",
       "      <th>user_location</th>\n",
       "      <th>rating</th>\n",
       "      <th>text</th>\n",
       "      <th>month</th>\n",
       "      <th>year</th>\n",
       "      <th>std_rating</th>\n",
       "    </tr>\n",
       "  </thead>\n",
       "  <tbody>\n",
       "    <tr>\n",
       "      <th>0</th>\n",
       "      <td>Weihenstephaner Hefeweissbier Dunkel</td>\n",
       "      <td>808.0</td>\n",
       "      <td>Bayerische Staatsbrauerei Weihenstephan</td>\n",
       "      <td>252.0</td>\n",
       "      <td>Germany</td>\n",
       "      <td>Dunkelweizen</td>\n",
       "      <td>2013-11-10</td>\n",
       "      <td>dcmchew</td>\n",
       "      <td>dcmchew.760280</td>\n",
       "      <td>Romania</td>\n",
       "      <td>4.27</td>\n",
       "      <td>nan</td>\n",
       "      <td>11.0</td>\n",
       "      <td>2013.0</td>\n",
       "      <td>0.857199</td>\n",
       "    </tr>\n",
       "    <tr>\n",
       "      <th>9</th>\n",
       "      <td>Corona Light</td>\n",
       "      <td>233.0</td>\n",
       "      <td>Grupo Modelo S.A. de C.V.</td>\n",
       "      <td>75.0</td>\n",
       "      <td>Mexico</td>\n",
       "      <td>Light Lager</td>\n",
       "      <td>2013-12-27</td>\n",
       "      <td>JayJ14</td>\n",
       "      <td>jayj14.772458</td>\n",
       "      <td>United States, Minnesota</td>\n",
       "      <td>3.00</td>\n",
       "      <td>nan</td>\n",
       "      <td>12.0</td>\n",
       "      <td>2013.0</td>\n",
       "      <td>-0.955524</td>\n",
       "    </tr>\n",
       "  </tbody>\n",
       "</table>\n",
       "</div>"
      ],
      "text/plain": [
       "                              beer_name  beer_id  \\\n",
       "0  Weihenstephaner Hefeweissbier Dunkel    808.0   \n",
       "9                          Corona Light    233.0   \n",
       "\n",
       "                              brewery_name  brewery_id brewery_location  \\\n",
       "0  Bayerische Staatsbrauerei Weihenstephan       252.0          Germany   \n",
       "9                Grupo Modelo S.A. de C.V.        75.0           Mexico   \n",
       "\n",
       "          style        date user_name         user_id  \\\n",
       "0  Dunkelweizen  2013-11-10   dcmchew  dcmchew.760280   \n",
       "9   Light Lager  2013-12-27    JayJ14   jayj14.772458   \n",
       "\n",
       "              user_location  rating text  month    year  std_rating  \n",
       "0                   Romania    4.27  nan   11.0  2013.0    0.857199  \n",
       "9  United States, Minnesota    3.00  nan   12.0  2013.0   -0.955524  "
      ]
     },
     "metadata": {},
     "output_type": "display_data"
    },
    {
     "data": {
      "text/html": [
       "<div>\n",
       "<style scoped>\n",
       "    .dataframe tbody tr th:only-of-type {\n",
       "        vertical-align: middle;\n",
       "    }\n",
       "\n",
       "    .dataframe tbody tr th {\n",
       "        vertical-align: top;\n",
       "    }\n",
       "\n",
       "    .dataframe thead th {\n",
       "        text-align: right;\n",
       "    }\n",
       "</style>\n",
       "<table border=\"1\" class=\"dataframe\">\n",
       "  <thead>\n",
       "    <tr style=\"text-align: right;\">\n",
       "      <th></th>\n",
       "      <th>beer_name</th>\n",
       "      <th>beer_id</th>\n",
       "      <th>brewery_name</th>\n",
       "      <th>brewery_id</th>\n",
       "      <th>brewery_location</th>\n",
       "      <th>style</th>\n",
       "      <th>date</th>\n",
       "      <th>user_name</th>\n",
       "      <th>user_id</th>\n",
       "      <th>user_location</th>\n",
       "      <th>rating</th>\n",
       "      <th>text</th>\n",
       "      <th>month</th>\n",
       "      <th>year</th>\n",
       "      <th>std_rating</th>\n",
       "    </tr>\n",
       "  </thead>\n",
       "  <tbody>\n",
       "    <tr>\n",
       "      <th>0</th>\n",
       "      <td>Toccalmatto Surfing Hop Imperial IPA</td>\n",
       "      <td>95331.0</td>\n",
       "      <td>Birrificio Toccalmatto</td>\n",
       "      <td>9870.0</td>\n",
       "      <td>Italy</td>\n",
       "      <td>Imperial IPA</td>\n",
       "      <td>2015-10-23</td>\n",
       "      <td>pils70</td>\n",
       "      <td>386318</td>\n",
       "      <td>NaN</td>\n",
       "      <td>4.1</td>\n",
       "      <td>Color rosso rubino. Al naso e al palato una bo...</td>\n",
       "      <td>10</td>\n",
       "      <td>2015</td>\n",
       "      <td>1.356604</td>\n",
       "    </tr>\n",
       "    <tr>\n",
       "      <th>2</th>\n",
       "      <td>Vestslesvigsk Locus Dei</td>\n",
       "      <td>356526.0</td>\n",
       "      <td>Vestslesvigsk Bryghus</td>\n",
       "      <td>21449.0</td>\n",
       "      <td>Denmark</td>\n",
       "      <td>Sour/Wild Ale</td>\n",
       "      <td>2015-10-11</td>\n",
       "      <td>nybol</td>\n",
       "      <td>61403</td>\n",
       "      <td>Denmark</td>\n",
       "      <td>3.6</td>\n",
       "      <td>VildtgÃ¦rede Ã¸l deler altis vandene. Denne he...</td>\n",
       "      <td>10</td>\n",
       "      <td>2015</td>\n",
       "      <td>0.605015</td>\n",
       "    </tr>\n",
       "  </tbody>\n",
       "</table>\n",
       "</div>"
      ],
      "text/plain": [
       "                              beer_name   beer_id            brewery_name  \\\n",
       "0  Toccalmatto Surfing Hop Imperial IPA   95331.0  Birrificio Toccalmatto   \n",
       "2               Vestslesvigsk Locus Dei  356526.0   Vestslesvigsk Bryghus   \n",
       "\n",
       "   brewery_id brewery_location          style        date user_name user_id  \\\n",
       "0      9870.0            Italy   Imperial IPA  2015-10-23    pils70  386318   \n",
       "2     21449.0          Denmark  Sour/Wild Ale  2015-10-11     nybol   61403   \n",
       "\n",
       "  user_location  rating                                               text  \\\n",
       "0           NaN     4.1  Color rosso rubino. Al naso e al palato una bo...   \n",
       "2       Denmark     3.6  VildtgÃ¦rede Ã¸l deler altis vandene. Denne he...   \n",
       "\n",
       "   month  year  std_rating  \n",
       "0     10  2015    1.356604  \n",
       "2     10  2015    0.605015  "
      ]
     },
     "metadata": {},
     "output_type": "display_data"
    }
   ],
   "source": [
    "# add time feature to standardize ratings by year and by website\n",
    "ratings_BA_with_time = add_time_features(ratings_BA)\n",
    "ratings_RB_with_time = add_time_features(ratings_RB)\n",
    "\n",
    "# apply standardization\n",
    "ratings_BA_standardized, mean_std_BA = standardize_annually(ratings_BA_with_time, 'rating')\n",
    "ratings_RB_standardized, mean_std_RB = standardize_annually(ratings_RB_with_time, 'rating')\n",
    "\n",
    "display(ratings_BA_standardized.head(2), ratings_RB_standardized.head(2))"
   ]
  },
  {
   "cell_type": "code",
   "execution_count": 92,
   "metadata": {},
   "outputs": [
    {
     "name": "stdout",
     "output_type": "stream",
     "text": [
      "BeerAdvocate - Min year: 1998.0, Max year: 2017.0\n",
      "RateBeer - Min year: 2000, Max year: 2017\n"
     ]
    },
    {
     "data": {
      "image/png": "[encoded data removed]",
      "text/plain": [
       "<Figure size 1500x500 with 2 Axes>"
      ]
     },
     "metadata": {},
     "output_type": "display_data"
    }
   ],
   "source": [
    "min_year_BA = ratings_BA_standardized['year'].min()\n",
    "max_year_BA = ratings_BA_standardized['year'].max()\n",
    "min_year_RB = ratings_RB_standardized['year'].min()\n",
    "max_year_RB = ratings_RB_standardized['year'].max()\n",
    "\n",
    "print(f\"BeerAdvocate - Min year: {min_year_BA}, Max year: {max_year_BA}\")\n",
    "print(f\"RateBeer - Min year: {min_year_RB}, Max year: {max_year_RB}\")\n",
    "\n",
    "fig, axs = plt.subplots(1, 2, figsize=(15, 5))\n",
    "sns.histplot(data=ratings_BA_standardized, x=\"year\", ax = axs[0])\n",
    "sns.histplot(data=ratings_RB_standardized, x=\"year\", ax = axs[1])\n",
    "\n",
    "axs[0].set_xticks(np.arange(ratings_BA_standardized['year'].min(), ratings_BA_standardized['year'].max() + 1, 2))\n",
    "axs[1].set_xticks(np.arange(ratings_RB_standardized['year'].min(), ratings_RB_standardized['year'].max() + 1, 2))\n",
    "\n",
    "axs[0].set_title(\"Yearly distribution of reviews on BeerAdvocate\")\n",
    "axs[1].set_title(\"Yearly distribution of reviews on RateBeer\")\n",
    "plt.tight_layout()\n",
    "plt.show()"
   ]
  },
  {
   "cell_type": "code",
   "execution_count": 93,
   "metadata": {},
   "outputs": [],
   "source": [
    "def plot_mean_std_errorbar(grouped_BA, grouped_RB):\n",
    "    plt.figure(figsize=(7, 7))\n",
    "    plt.subplot(2, 1, 1)\n",
    "    plt.errorbar(grouped_BA.index, grouped_BA['mean'], yerr=1.96 * grouped_BA['std'] / np.sqrt(grouped_BA['std'].count()), fmt='o', capsize=5, linestyle='-', label = 'BeerAdvocate')\n",
    "    plt.errorbar(grouped_RB.index, grouped_RB['mean'], yerr=1.96 * grouped_RB['std'] / np.sqrt(grouped_RB['std'].count()), fmt='o', capsize=5, linestyle='-', label = 'RateBeer')\n",
    "    plt.xticks(np.arange(grouped_BA.index.min(), grouped_BA.index.max() + 1, 2))\n",
    "    plt.title('Mean Ratings across Years')\n",
    "    plt.legend()\n",
    "\n",
    "    plt.subplot(2, 1, 2)\n",
    "    plt.errorbar(grouped_BA.index, grouped_BA['std'], yerr=1.96 * grouped_BA['std'] / np.sqrt(grouped_BA['std'].count()), fmt='o', capsize=5, linestyle='-', label = 'BeerAdvocate')\n",
    "    plt.errorbar(grouped_RB.index, grouped_RB['std'], yerr=1.96 * grouped_RB['std'] / np.sqrt(grouped_RB['std'].count()), fmt='o', capsize=5, linestyle='-', label = 'RateBeer')\n",
    "    plt.title('Standard Deviation of Ratings across Years')\n",
    "    \n",
    "    plt.xticks(np.arange(grouped_BA.index.min(), grouped_BA.index.max() + 1, 2))\n",
    "    plt.xlabel('Years')  \n",
    "    plt.tight_layout()\n",
    "    plt.legend()\n",
    "    plt.show()"
   ]
  },
  {
   "cell_type": "code",
   "execution_count": 94,
   "metadata": {},
   "outputs": [
    {
     "name": "stdout",
     "output_type": "stream",
     "text": [
      "Before standardization\n"
     ]
    },
    {
     "data": {
      "image/png": "[encoded data removed]",
      "text/plain": [
       "<Figure size 700x700 with 2 Axes>"
      ]
     },
     "metadata": {},
     "output_type": "display_data"
    },
    {
     "name": "stdout",
     "output_type": "stream",
     "text": [
      "Standardization check:\n",
      "\n",
      "Mean of standardized ratings for BeerAdvocate : 4.9412651569169876e-17\n",
      "Mean of standardized ratings for RateBeer : -1.327987858253447e-16\n",
      "Standard deviation of standardized ratings for BeerAdvocate : 0.9998987187924709\n",
      "Standard deviation of standardized ratings for RateBeer : 0.9998996063977152\n"
     ]
    }
   ],
   "source": [
    "print(\"Before standardization\")\n",
    "plot_mean_std_errorbar(mean_std_BA, mean_std_RB)\n",
    "\n",
    "# check standardization\n",
    "print(\"Standardization check:\\n\")\n",
    "print(f\"Mean of standardized ratings for BeerAdvocate : {ratings_BA_standardized['std_rating'].mean()}\")\n",
    "print(f\"Mean of standardized ratings for RateBeer : {ratings_RB_standardized['std_rating'].mean()}\")\n",
    "print(f\"Standard deviation of standardized ratings for BeerAdvocate : {ratings_BA_standardized['std_rating'].std()}\")\n",
    "print(f\"Standard deviation of standardized ratings for RateBeer : {ratings_RB_standardized['std_rating'].std()}\")"
   ]
  },
  {
   "cell_type": "markdown",
   "metadata": {},
   "source": [
    "Looking at the graphs above, we decide to remove the data from BeerAdvocate to be consistent with the time window of RateBeer that only has reviews from the year 2000 onwards. "
   ]
  },
  {
   "cell_type": "code",
   "execution_count": 95,
   "metadata": {},
   "outputs": [
    {
     "name": "stdout",
     "output_type": "stream",
     "text": [
      "Number of reviews in BeerAdvocate before 2000: 4\n"
     ]
    }
   ],
   "source": [
    "print(f\"Number of reviews in BeerAdvocate before 2000: {len(ratings_BA_standardized[ratings_BA_standardized.year < 2000])}\")\n",
    "\n",
    "# keep only the reviews from 2000 onwards\n",
    "ratings_BA_standardized = ratings_BA_standardized[ratings_BA_standardized['year'] >= 2000]"
   ]
  },
  {
   "cell_type": "markdown",
   "metadata": {},
   "source": [
    "#### 2.3.1.2. Standardization of the matched' ratings"
   ]
  },
  {
   "cell_type": "code",
   "execution_count": 96,
   "metadata": {},
   "outputs": [],
   "source": [
    "ratings_matched_copy = ratings_matched.copy(deep=True)\n",
    "ratings_matched_copy['beer_id.1'] = ratings_matched_copy['beer_id']\n",
    "ratings_matched_copy['brewery_id.1'] = ratings_matched_copy['brewery_id']\n",
    "ratings_matched_copy['beer_name.1'] = ratings_matched_copy['beer_name']\n",
    "ratings_matched_copy['brewery_name.1'] = ratings_matched_copy['brewery_name']\n",
    "ratings_matched_copy['brewery_location.1'] = ratings_matched_copy['brewery_location']\n",
    "ratings_matched_copy['user_location.1'] = ratings_matched_copy['user_location']\n",
    "\n",
    "# Retrieve the columns of interest for BeerAdvocate\n",
    "ratings_matched_BA = ratings_matched_copy.iloc[:, :12]\n",
    "#Retrieve the columns of interest for RateBeer\n",
    "ratings_matched_RB = ratings_matched_copy.iloc[:, 12:]\n",
    "\n",
    "# match the columns names\n",
    "ratings_matched_BA = ratings_matched_BA.sort_index(axis=1)\n",
    "ratings_matched_RB = ratings_matched_RB.sort_index(axis=1)\n",
    "# Rename the columns to have the same name as the other datasets\n",
    "ratings_matched_RB.columns = ratings_matched_BA.columns"
   ]
  },
  {
   "cell_type": "code",
   "execution_count": 97,
   "metadata": {},
   "outputs": [
    {
     "data": {
      "text/html": [
       "<div>\n",
       "<style scoped>\n",
       "    .dataframe tbody tr th:only-of-type {\n",
       "        vertical-align: middle;\n",
       "    }\n",
       "\n",
       "    .dataframe tbody tr th {\n",
       "        vertical-align: top;\n",
       "    }\n",
       "\n",
       "    .dataframe thead th {\n",
       "        text-align: right;\n",
       "    }\n",
       "</style>\n",
       "<table border=\"1\" class=\"dataframe\">\n",
       "  <thead>\n",
       "    <tr style=\"text-align: right;\">\n",
       "      <th></th>\n",
       "      <th>beer_id</th>\n",
       "      <th>beer_name</th>\n",
       "      <th>brewery_id</th>\n",
       "      <th>brewery_location</th>\n",
       "      <th>brewery_name</th>\n",
       "      <th>date</th>\n",
       "      <th>rating</th>\n",
       "      <th>style</th>\n",
       "      <th>text</th>\n",
       "      <th>user_id</th>\n",
       "      <th>user_location</th>\n",
       "      <th>user_name</th>\n",
       "    </tr>\n",
       "  </thead>\n",
       "  <tbody>\n",
       "    <tr>\n",
       "      <th>0</th>\n",
       "      <td>645</td>\n",
       "      <td>Trappistes Rochefort 10</td>\n",
       "      <td>207</td>\n",
       "      <td>Belgium</td>\n",
       "      <td>Brasserie de Rochefort</td>\n",
       "      <td>1324810800</td>\n",
       "      <td>4.8</td>\n",
       "      <td>Quadrupel (Quad)</td>\n",
       "      <td>Best before 27.07.2016Directly reviewed in com...</td>\n",
       "      <td>erzengel.248045</td>\n",
       "      <td>Germany</td>\n",
       "      <td>Erzengel</td>\n",
       "    </tr>\n",
       "    <tr>\n",
       "      <th>1</th>\n",
       "      <td>28191</td>\n",
       "      <td>Myanmar Lager Beer</td>\n",
       "      <td>9369</td>\n",
       "      <td>Myanmar</td>\n",
       "      <td>Myanmar Brewery and Distillery</td>\n",
       "      <td>1322650800</td>\n",
       "      <td>3.0</td>\n",
       "      <td>American Adjunct Lager</td>\n",
       "      <td>NaN</td>\n",
       "      <td>visionthing.639993</td>\n",
       "      <td>Estonia</td>\n",
       "      <td>visionthing</td>\n",
       "    </tr>\n",
       "  </tbody>\n",
       "</table>\n",
       "</div>"
      ],
      "text/plain": [
       "   beer_id                beer_name brewery_id brewery_location  \\\n",
       "0      645  Trappistes Rochefort 10        207          Belgium   \n",
       "1    28191       Myanmar Lager Beer       9369          Myanmar   \n",
       "\n",
       "                     brewery_name        date  rating                   style  \\\n",
       "0          Brasserie de Rochefort  1324810800     4.8        Quadrupel (Quad)   \n",
       "1  Myanmar Brewery and Distillery  1322650800     3.0  American Adjunct Lager   \n",
       "\n",
       "                                                text             user_id  \\\n",
       "0  Best before 27.07.2016Directly reviewed in com...     erzengel.248045   \n",
       "1                                                NaN  visionthing.639993   \n",
       "\n",
       "  user_location    user_name  \n",
       "0       Germany     Erzengel  \n",
       "1       Estonia  visionthing  "
      ]
     },
     "metadata": {},
     "output_type": "display_data"
    },
    {
     "data": {
      "text/html": [
       "<div>\n",
       "<style scoped>\n",
       "    .dataframe tbody tr th:only-of-type {\n",
       "        vertical-align: middle;\n",
       "    }\n",
       "\n",
       "    .dataframe tbody tr th {\n",
       "        vertical-align: top;\n",
       "    }\n",
       "\n",
       "    .dataframe thead th {\n",
       "        text-align: right;\n",
       "    }\n",
       "</style>\n",
       "<table border=\"1\" class=\"dataframe\">\n",
       "  <thead>\n",
       "    <tr style=\"text-align: right;\">\n",
       "      <th></th>\n",
       "      <th>beer_id</th>\n",
       "      <th>beer_name</th>\n",
       "      <th>brewery_id</th>\n",
       "      <th>brewery_location</th>\n",
       "      <th>brewery_name</th>\n",
       "      <th>date</th>\n",
       "      <th>rating</th>\n",
       "      <th>style</th>\n",
       "      <th>text</th>\n",
       "      <th>user_id</th>\n",
       "      <th>user_location</th>\n",
       "      <th>user_name</th>\n",
       "    </tr>\n",
       "  </thead>\n",
       "  <tbody>\n",
       "    <tr>\n",
       "      <th>0</th>\n",
       "      <td>645</td>\n",
       "      <td>Trappistes Rochefort 10</td>\n",
       "      <td>207</td>\n",
       "      <td>Belgium</td>\n",
       "      <td>Brasserie de Rochefort</td>\n",
       "      <td>1387710000</td>\n",
       "      <td>4.6</td>\n",
       "      <td>Abt/Quadrupel</td>\n",
       "      <td>a)  Geruch malzig-schwer-sÃ¼Ã. Riecht schon ...</td>\n",
       "      <td>83106</td>\n",
       "      <td>Germany</td>\n",
       "      <td>Erzengel</td>\n",
       "    </tr>\n",
       "    <tr>\n",
       "      <th>1</th>\n",
       "      <td>28191</td>\n",
       "      <td>Myanmar Lager Beer</td>\n",
       "      <td>9369</td>\n",
       "      <td>Myanmar</td>\n",
       "      <td>Myanmar Brewery and Distillery</td>\n",
       "      <td>1322564400</td>\n",
       "      <td>1.7</td>\n",
       "      <td>Pale Lager</td>\n",
       "      <td>Can. Weak and watery, not the best beer of the...</td>\n",
       "      <td>91324</td>\n",
       "      <td>Estonia</td>\n",
       "      <td>visionthing</td>\n",
       "    </tr>\n",
       "  </tbody>\n",
       "</table>\n",
       "</div>"
      ],
      "text/plain": [
       "   beer_id                beer_name brewery_id brewery_location  \\\n",
       "0      645  Trappistes Rochefort 10        207          Belgium   \n",
       "1    28191       Myanmar Lager Beer       9369          Myanmar   \n",
       "\n",
       "                     brewery_name        date  rating          style  \\\n",
       "0          Brasserie de Rochefort  1387710000     4.6  Abt/Quadrupel   \n",
       "1  Myanmar Brewery and Distillery  1322564400     1.7     Pale Lager   \n",
       "\n",
       "                                                text  user_id user_location  \\\n",
       "0   a)  Geruch malzig-schwer-sÃ¼Ã. Riecht schon ...    83106       Germany   \n",
       "1  Can. Weak and watery, not the best beer of the...    91324       Estonia   \n",
       "\n",
       "     user_name  \n",
       "0     Erzengel  \n",
       "1  visionthing  "
      ]
     },
     "metadata": {},
     "output_type": "display_data"
    }
   ],
   "source": [
    "display(ratings_matched_BA.head(2), ratings_matched_RB.head(2))"
   ]
  },
  {
   "cell_type": "code",
   "execution_count": 98,
   "metadata": {},
   "outputs": [
    {
     "data": {
      "image/png": "[encoded data removed]",
      "text/plain": [
       "<Figure size 1000x700 with 1 Axes>"
      ]
     },
     "metadata": {},
     "output_type": "display_data"
    }
   ],
   "source": [
    "# Compute mean values for each distribution\n",
    "mean_rating_BA_matched = ratings_matched_BA['rating'].mean()\n",
    "mean_rating_RB_matched = ratings_matched_RB['rating'].mean()\n",
    "mean_rating_BA_standardized = ratings_BA_standardized['std_rating'].mean()\n",
    "mean_rating_RB_standardized = ratings_RB_standardized['std_rating'].mean()\n",
    "\n",
    "plt.figure(figsize=(10, 7))\n",
    "sns.histplot(data=ratings_matched_BA['rating'], bins=50, label = 'ratings_BA_matched')\n",
    "sns.histplot(data=ratings_matched_RB['rating'], bins=50, label = 'ratings_RB_matched')\n",
    "sns.histplot(data=ratings_BA_standardized['std_rating'], bins=50, label = 'ratings_BA_standardized')\n",
    "sns.histplot(data=ratings_RB_standardized['std_rating'], bins=50, label = 'ratings_RB_standardized')\n",
    "\n",
    "# Plot vertical lines for mean values\n",
    "plt.axvline(x=mean_rating_BA_matched, color='green', linestyle='--', label=f'Mean BA Matched: {mean_rating_BA_matched:.2f}')\n",
    "plt.axvline(x=mean_rating_RB_matched, color='blue', linestyle='--', label=f'Mean RB Matched: {mean_rating_RB_matched:.2f}')\n",
    "plt.axvline(x=mean_rating_BA_standardized, color='orange', linestyle='--', label=f'Mean BA Standardized: {mean_rating_BA_standardized:.2f}')\n",
    "plt.axvline(x=mean_rating_RB_standardized, color='red', linestyle='--', label=f'Mean RB Standardized: {mean_rating_RB_standardized:.2f}')\n",
    "\n",
    "plt.title(\"Before standardization of the matched dataset\")\n",
    "plt.legend()\n",
    "plt.show()"
   ]
  },
  {
   "cell_type": "markdown",
   "metadata": {},
   "source": [
    "We need to standardize the ratings of the matched dataframes."
   ]
  },
  {
   "cell_type": "code",
   "execution_count": 99,
   "metadata": {},
   "outputs": [],
   "source": [
    "# add time features to standardize by year\n",
    "ratings_matched_BA_with_time = add_time_features(ratings_matched_BA)\n",
    "ratings_matched_RB_with_time = add_time_features(ratings_matched_RB)\n",
    "\n",
    "# standardize ratings of matched data to have mean 0 and std 1\n",
    "ratings_matched_BA_standardized, mean_std_BA_matched = standardize_annually(ratings_matched_BA_with_time, 'rating') # adds column 'std_rating'\n",
    "ratings_matched_RB_standardized, mean_std_RB_matched = standardize_annually(ratings_matched_RB_with_time, 'rating') # adds column 'std_rating'"
   ]
  },
  {
   "cell_type": "markdown",
   "metadata": {},
   "source": [
    "Now we have all the ratings together, all standardized."
   ]
  },
  {
   "cell_type": "markdown",
   "metadata": {},
   "source": [
    "### 2.3.2. Summaries standardized data"
   ]
  },
  {
   "cell_type": "markdown",
   "metadata": {},
   "source": [
    "All dataframes have an additional column 'std_rating' with the standardized rating."
   ]
  },
  {
   "cell_type": "code",
   "execution_count": 100,
   "metadata": {},
   "outputs": [
    {
     "data": {
      "image/png": "[encoded data removed]",
      "text/plain": [
       "<Figure size 1000x700 with 1 Axes>"
      ]
     },
     "metadata": {},
     "output_type": "display_data"
    }
   ],
   "source": [
    "# Compute mean values for each distribution\n",
    "mean_rating_BA_matched = ratings_matched_BA_standardized['std_rating'].mean()\n",
    "mean_rating_RB_matched = ratings_matched_RB_standardized['std_rating'].mean()\n",
    "mean_rating_BA_standardized = ratings_BA_standardized['std_rating'].mean()\n",
    "mean_rating_RB_standardized = ratings_RB_standardized['std_rating'].mean()\n",
    "\n",
    "plt.figure(figsize=(10, 7))\n",
    "sns.histplot(data=ratings_matched_BA_standardized['std_rating'], bins=50, label = 'ratings_BA_matched_standardized')\n",
    "sns.histplot(data=ratings_matched_RB_standardized['std_rating'], bins=50, label = 'ratings_RB_matched_standardized')\n",
    "sns.histplot(data=ratings_BA_standardized['std_rating'], bins=50, label = 'ratings_BA_standardized')\n",
    "sns.histplot(data=ratings_RB_standardized['std_rating'], bins=50, label = 'ratings_RB_standardized')\n",
    "\n",
    "# Plot vertical lines for mean values\n",
    "plt.axvline(x=mean_rating_BA_matched, color='green', linestyle='--', label=f'Mean BA Matched: {mean_rating_BA_matched:.2f}')\n",
    "plt.axvline(x=mean_rating_RB_matched, color='blue', linestyle='--', label=f'Mean RB Matched: {mean_rating_RB_matched:.2f}')\n",
    "plt.axvline(x=mean_rating_BA_standardized, color='orange', linestyle='--', label=f'Mean BA Standardized: {mean_rating_BA_standardized:.2f}')\n",
    "plt.axvline(x=mean_rating_RB_standardized, color='red', linestyle='--', label=f'Mean RB Standardized: {mean_rating_RB_standardized:.2f}')\n",
    "\n",
    "plt.legend()\n",
    "plt.show()"
   ]
  },
  {
   "cell_type": "markdown",
   "metadata": {},
   "source": [
    "### 2.3.3. Concatenation of the dataframes\n",
    "\n",
    "# NB:\n",
    "\n",
    "- for ratings BA and RB: we first standardized the ratings and after added the location\n",
    "- for matched_ratings: we first added the location and after standardized the ratings"
   ]
  },
  {
   "cell_type": "code",
   "execution_count": 101,
   "metadata": {},
   "outputs": [
    {
     "name": "stdout",
     "output_type": "stream",
     "text": [
      "Length of ratings matched: 21977\n",
      "Length of ratings BA: 88868\n",
      "Length of ratings RB: 84672\n",
      "Length of combined dataset: 217489\n"
     ]
    },
    {
     "data": {
      "image/png": "[encoded data removed]",
      "text/plain": [
       "<Figure size 640x480 with 1 Axes>"
      ]
     },
     "metadata": {},
     "output_type": "display_data"
    }
   ],
   "source": [
    "# concatenate matched data from both websites\n",
    "ratings_matched_BA_RB = pd.concat([ratings_matched_BA_standardized, ratings_matched_RB_standardized], axis=0)\n",
    "ratings_matched_BA_RB.sort_values(by=['beer_id', 'user_id'], inplace=True)\n",
    "\n",
    "# concatenate matched data with ratings_BA and ratings_RB\n",
    "all_data= pd.concat([ratings_BA_standardized, \n",
    "                    ratings_RB_standardized,\n",
    "                    ratings_matched_BA_RB], axis=0)\n",
    "\n",
    "# test\n",
    "print(f\"Length of ratings matched: {len(ratings_matched)}\")\n",
    "print(f\"Length of ratings BA: {len(ratings_BA)}\")\n",
    "print(f\"Length of ratings RB: {len(ratings_RB)}\")\n",
    "print(f\"Length of combined dataset: {len(all_data)}\")\n",
    "\n",
    "# check\n",
    "sns.histplot(data=all_data['std_rating'], bins=50)\n",
    "plt.show()"
   ]
  },
  {
   "cell_type": "code",
   "execution_count": 102,
   "metadata": {},
   "outputs": [
    {
     "data": {
      "text/html": [
       "<div>\n",
       "<style scoped>\n",
       "    .dataframe tbody tr th:only-of-type {\n",
       "        vertical-align: middle;\n",
       "    }\n",
       "\n",
       "    .dataframe tbody tr th {\n",
       "        vertical-align: top;\n",
       "    }\n",
       "\n",
       "    .dataframe thead th {\n",
       "        text-align: right;\n",
       "    }\n",
       "</style>\n",
       "<table border=\"1\" class=\"dataframe\">\n",
       "  <thead>\n",
       "    <tr style=\"text-align: right;\">\n",
       "      <th></th>\n",
       "      <th>beer_name</th>\n",
       "      <th>beer_id</th>\n",
       "      <th>brewery_name</th>\n",
       "      <th>brewery_id</th>\n",
       "      <th>brewery_location</th>\n",
       "      <th>style</th>\n",
       "      <th>date</th>\n",
       "      <th>user_name</th>\n",
       "      <th>user_id</th>\n",
       "      <th>user_location</th>\n",
       "      <th>rating</th>\n",
       "      <th>text</th>\n",
       "      <th>month</th>\n",
       "      <th>year</th>\n",
       "      <th>std_rating</th>\n",
       "    </tr>\n",
       "  </thead>\n",
       "  <tbody>\n",
       "    <tr>\n",
       "      <th>0</th>\n",
       "      <td>Weihenstephaner Hefeweissbier Dunkel</td>\n",
       "      <td>808.0</td>\n",
       "      <td>Bayerische Staatsbrauerei Weihenstephan</td>\n",
       "      <td>252.0</td>\n",
       "      <td>Germany</td>\n",
       "      <td>Dunkelweizen</td>\n",
       "      <td>2013-11-10</td>\n",
       "      <td>dcmchew</td>\n",
       "      <td>dcmchew.760280</td>\n",
       "      <td>Romania</td>\n",
       "      <td>4.27</td>\n",
       "      <td>nan</td>\n",
       "      <td>11.0</td>\n",
       "      <td>2013.0</td>\n",
       "      <td>0.857199</td>\n",
       "    </tr>\n",
       "    <tr>\n",
       "      <th>9</th>\n",
       "      <td>Corona Light</td>\n",
       "      <td>233.0</td>\n",
       "      <td>Grupo Modelo S.A. de C.V.</td>\n",
       "      <td>75.0</td>\n",
       "      <td>Mexico</td>\n",
       "      <td>Light Lager</td>\n",
       "      <td>2013-12-27</td>\n",
       "      <td>JayJ14</td>\n",
       "      <td>jayj14.772458</td>\n",
       "      <td>United States, Minnesota</td>\n",
       "      <td>3.00</td>\n",
       "      <td>nan</td>\n",
       "      <td>12.0</td>\n",
       "      <td>2013.0</td>\n",
       "      <td>-0.955524</td>\n",
       "    </tr>\n",
       "    <tr>\n",
       "      <th>12</th>\n",
       "      <td>Samuel Smith's Organic Chocolate Stout</td>\n",
       "      <td>86189.0</td>\n",
       "      <td>Samuel Smith Old Brewery (Tadcaster)</td>\n",
       "      <td>113.0</td>\n",
       "      <td>England</td>\n",
       "      <td>English Stout</td>\n",
       "      <td>2013-10-01</td>\n",
       "      <td>Scooter131313</td>\n",
       "      <td>scooter131313.717726</td>\n",
       "      <td>United States, Minnesota</td>\n",
       "      <td>4.50</td>\n",
       "      <td>nan</td>\n",
       "      <td>10.0</td>\n",
       "      <td>2013.0</td>\n",
       "      <td>1.185487</td>\n",
       "    </tr>\n",
       "    <tr>\n",
       "      <th>45</th>\n",
       "      <td>White Tip Lager</td>\n",
       "      <td>71427.0</td>\n",
       "      <td>Cayman Islands Brewery Ltd.</td>\n",
       "      <td>16049.0</td>\n",
       "      <td>Cayman Islands</td>\n",
       "      <td>Euro Pale Lager</td>\n",
       "      <td>2013-02-04</td>\n",
       "      <td>buzzed</td>\n",
       "      <td>buzzed.687906</td>\n",
       "      <td>United States, Texas</td>\n",
       "      <td>1.75</td>\n",
       "      <td>nan</td>\n",
       "      <td>2.0</td>\n",
       "      <td>2013.0</td>\n",
       "      <td>-2.739700</td>\n",
       "    </tr>\n",
       "    <tr>\n",
       "      <th>46</th>\n",
       "      <td>Coconut Porter</td>\n",
       "      <td>49754.0</td>\n",
       "      <td>Swans Brewpub / Buckerfield Brewery</td>\n",
       "      <td>1250.0</td>\n",
       "      <td>Canada</td>\n",
       "      <td>American Porter</td>\n",
       "      <td>2013-05-04</td>\n",
       "      <td>schopenhauerale</td>\n",
       "      <td>schopenhauerale.640760</td>\n",
       "      <td>Canada</td>\n",
       "      <td>3.75</td>\n",
       "      <td>nan</td>\n",
       "      <td>5.0</td>\n",
       "      <td>2013.0</td>\n",
       "      <td>0.114982</td>\n",
       "    </tr>\n",
       "  </tbody>\n",
       "</table>\n",
       "</div>"
      ],
      "text/plain": [
       "                                 beer_name  beer_id  \\\n",
       "0     Weihenstephaner Hefeweissbier Dunkel    808.0   \n",
       "9                             Corona Light    233.0   \n",
       "12  Samuel Smith's Organic Chocolate Stout  86189.0   \n",
       "45                         White Tip Lager  71427.0   \n",
       "46                          Coconut Porter  49754.0   \n",
       "\n",
       "                               brewery_name brewery_id brewery_location  \\\n",
       "0   Bayerische Staatsbrauerei Weihenstephan      252.0          Germany   \n",
       "9                 Grupo Modelo S.A. de C.V.       75.0           Mexico   \n",
       "12     Samuel Smith Old Brewery (Tadcaster)      113.0          England   \n",
       "45              Cayman Islands Brewery Ltd.    16049.0   Cayman Islands   \n",
       "46      Swans Brewpub / Buckerfield Brewery     1250.0           Canada   \n",
       "\n",
       "              style        date        user_name                 user_id  \\\n",
       "0      Dunkelweizen  2013-11-10          dcmchew          dcmchew.760280   \n",
       "9       Light Lager  2013-12-27           JayJ14           jayj14.772458   \n",
       "12    English Stout  2013-10-01    Scooter131313    scooter131313.717726   \n",
       "45  Euro Pale Lager  2013-02-04           buzzed           buzzed.687906   \n",
       "46  American Porter  2013-05-04  schopenhauerale  schopenhauerale.640760   \n",
       "\n",
       "               user_location  rating text  month    year  std_rating  \n",
       "0                    Romania    4.27  nan   11.0  2013.0    0.857199  \n",
       "9   United States, Minnesota    3.00  nan   12.0  2013.0   -0.955524  \n",
       "12  United States, Minnesota    4.50  nan   10.0  2013.0    1.185487  \n",
       "45      United States, Texas    1.75  nan    2.0  2013.0   -2.739700  \n",
       "46                    Canada    3.75  nan    5.0  2013.0    0.114982  "
      ]
     },
     "execution_count": 102,
     "metadata": {},
     "output_type": "execute_result"
    }
   ],
   "source": [
    "all_data.head()"
   ]
  },
  {
   "cell_type": "markdown",
   "metadata": {},
   "source": [
    "# 3. Data Analysis"
   ]
  },
  {
   "cell_type": "markdown",
   "metadata": {},
   "source": [
    "## 3.1 Numerical ranking TCN FOR U"
   ]
  },
  {
   "cell_type": "markdown",
   "metadata": {},
   "source": [
    "In this section we will construct two ranking of the best breweries by grading them based on their beers grade. We filter out the breweries with too few reviews to maintain the ranking credibility and ensure that the rating reflects a consensus among significant number of reviewers. This minimum number of review is set to 30 review, This threshold gives us a robust ranking. We tested with some lower threshold for instance 10 or 15, in those cases the best brewery contained 16 beers, only one of its beer had more than 5 review, which is not significant enough. Its average was very high due to the small number of reviews. As we will see later, a threshold of 30 gives a more robust ranking because the breweries have a satisfactory number of reviews. In both ranking we start by computing the averages obtained by each of the brewery's beers. Here is the first ranking system."
   ]
  },
  {
   "cell_type": "markdown",
   "metadata": {},
   "source": [
    "-  The first ranking is a weighted ranking, when computing the grade of the brewerie we leverage the importance of each beers by the number of reviews it has received. This ranking isn't really sensitive to beers with a low number of reviews we thus don't filter out beers with little number of reviews. "
   ]
  },
  {
   "cell_type": "markdown",
   "metadata": {},
   "source": [
    "However, this classification may not be considered representative of a brewery's quality. A brewery could have a very popular beer that is highly rated and drunk a lot, and the rest of its beers that are less highly rated and drunk less. This brewery in the first ranking will obtain a good average. However, the quality of the brewery can be questioned since only one of its beers is well rated. \n"
   ]
  },
  {
   "cell_type": "markdown",
   "metadata": {},
   "source": [
    "- The second ranking takes this effect into account.It's a quality ranking as it doesn't take into account the quantity of review. It calculates a brewery's rating by averaging the beers without taking their frequency into account. This ranking could represent a better ranking of a brewery quality because it values quality among different beers. This ranking is very sensitive to beers that are rated very few times, which is why we have to filter out beers with too few reviews. We have decided that a beer with fewer than 4 reviews cannot be considered. "
   ]
  },
  {
   "cell_type": "markdown",
   "metadata": {},
   "source": [
    "Additionally we will also explore the evolution of those ranking across the years. "
   ]
  },
  {
   "cell_type": "markdown",
   "metadata": {},
   "source": [
    "### 3.1.1. Filtering of the data"
   ]
  },
  {
   "cell_type": "markdown",
   "metadata": {},
   "source": [
    "We first explore the distribution of the number of review per beers or breweries, to have an idea of the impact of our filtering on the data "
   ]
  },
  {
   "cell_type": "code",
   "execution_count": 103,
   "metadata": {},
   "outputs": [],
   "source": [
    "def plot_reviews(beers, breweries):\n",
    "    fig, axs = plt.subplots(2, 1)\n",
    "\n",
    "    axs[0].hist(beers,bins=100, log=True,histtype='step')\n",
    "    axs[0].set_title(\"Distribution of the number of review per beer\")\n",
    "    \n",
    "    \n",
    "    axs[1].hist(breweries,bins=100 , log=True,histtype='step')\n",
    "    axs[1].set_title(\"Distribution of the number of review per breweries\")\n",
    "    plt.subplots_adjust(bottom=0.15)\n",
    "    plt.tight_layout()\n",
    "    plt.show()"
   ]
  },
  {
   "cell_type": "code",
   "execution_count": 104,
   "metadata": {},
   "outputs": [
    {
     "data": {
      "image/png": "[encoded data removed]",
      "text/plain": [
       "<Figure size 640x480 with 2 Axes>"
      ]
     },
     "metadata": {},
     "output_type": "display_data"
    }
   ],
   "source": [
    "nb_rev_beer = all_data.groupby('beer_name').apply(lambda x:len(x))\n",
    "nb_rev_breweries = all_data.groupby('brewery_name').apply(lambda x:len(x))\n",
    "plot_reviews(nb_rev_beer, nb_rev_breweries)"
   ]
  },
  {
   "cell_type": "markdown",
   "metadata": {},
   "source": [
    "Let's see how many beers are removed when we apply a thresold of 4 reviews per beer for the second rating system "
   ]
  },
  {
   "cell_type": "code",
   "execution_count": 105,
   "metadata": {},
   "outputs": [
    {
     "name": "stdout",
     "output_type": "stream",
     "text": [
      "We kicked 36842 beeer out of 45632 and 65616 out of 217489 reviews \n",
      "which is 80.737% of the beer and 30.17% of the reviews\n"
     ]
    }
   ],
   "source": [
    "ratings_filtered = all_data.groupby('beer_name').filter(lambda x: len(x)>4)\n",
    "values =sum(1 for element in nb_rev_beer.values if element <= 4)\n",
    "length_beer =len(nb_rev_beer.values)\n",
    "length_review =all_data.shape[0]\n",
    "print(f\"We kicked {values} beeer out of {length_beer} and {all_data.shape[0]-ratings_filtered.shape[0]} out of {all_data.shape[0]} reviews \")\n",
    "print(f\"which is {np.round(values/length_beer*100,3)}% of the beer and {np.round(100*(all_data.shape[0]-ratings_filtered.shape[0])/all_data.shape[0], 3)}% of the reviews\")"
   ]
  },
  {
   "cell_type": "markdown",
   "metadata": {},
   "source": [
    "Here we filter the breweries with less than 30 reviews and count the propotion of breweries removed"
   ]
  },
  {
   "cell_type": "code",
   "execution_count": 106,
   "metadata": {},
   "outputs": [
    {
     "name": "stdout",
     "output_type": "stream",
     "text": [
      "We kicked 4557 breweries out of 6708\n",
      "which is 67.934% of the breweries\n"
     ]
    }
   ],
   "source": [
    "#Justfier avec graph le threshold brasserie\n",
    "all_data = all_data.groupby('brewery_name').filter(lambda x: len(x)>30)\n",
    "# %%\n",
    "\n",
    "kicked_brew =sum(1 for element in nb_rev_breweries.values if element <= 10)\n",
    "length_brew =len(nb_rev_breweries.values)\n",
    "print(f\"We kicked {kicked_brew} breweries out of {length_brew}\")# and {ratings_BA.shape[0]-length_review} out of {ratings_BA.shape[0]} reviews \")\n",
    "print(f\"which is {np.round(kicked_brew/length_brew*100,3)}% of the breweries\")"
   ]
  },
  {
   "cell_type": "markdown",
   "metadata": {},
   "source": [
    "Now let's do the ranking itself, in order to visualize and compare the results of the two system, we'll need those two plot functions"
   ]
  },
  {
   "cell_type": "code",
   "execution_count": 107,
   "metadata": {},
   "outputs": [],
   "source": [
    "def plot_ranking(ranking_sorted, topN):\n",
    "    plt.figure(figsize=(8, topN/4))\n",
    "    colors = plt.cm.Reds(ranking_sorted[:topN] / ranking_sorted[:topN].max())\n",
    "    plt.barh(ranking_sorted.index[:topN], ranking_sorted[:topN], color=colors)\n",
    "    plt.gca().invert_yaxis()\n",
    "    plt.title(f'Top {topN} Breweries of all time')\n",
    "    plt.show()\n",
    "    \n",
    "def compare_ranking(ranking_sorted_1, ranking_sorted_2, topN):\n",
    "    fig, axes = plt.subplots(1, 2, figsize=(16, 6))\n",
    "    \n",
    "    colors_1 = plt.cm.Reds(ranking_sorted_1[:topN] / ranking_sorted_1[:topN].max())\n",
    "    axes[0].barh(ranking_sorted_1.index[:topN], ranking_sorted_1[:topN], color=colors_1)\n",
    "    axes[0].invert_yaxis()\n",
    "    axes[0].set_title(f'Top {topN} Breweries - Weighted Ranking')\n",
    "    \n",
    "    colors_2 = plt.cm.Blues(ranking_sorted_2[:topN] / ranking_sorted_2[:topN].max())\n",
    "    axes[1].barh(ranking_sorted_2.index[:topN], ranking_sorted_2[:topN], color=colors_2)\n",
    "    axes[1].invert_yaxis()\n",
    "    axes[1].set_title(f'Top {topN} Breweries - Fair Ranking')\n",
    "    \n",
    "    plt.tight_layout()\n",
    "    plt.show()"
   ]
  },
  {
   "cell_type": "markdown",
   "metadata": {},
   "source": [
    "The data is grouped by brewery and by beer. This number gives you the scores for each brewery. In the case of the classification by year, we also take into account the year."
   ]
  },
  {
   "cell_type": "code",
   "execution_count": 108,
   "metadata": {},
   "outputs": [],
   "source": [
    "grouped_brew = all_data.groupby(['brewery_name',\"beer_name\"])[\"std_rating\"]\n",
    "grouped_brew_year = all_data.groupby(['brewery_name',\"beer_name\",\"year\"])[\"std_rating\"]"
   ]
  },
  {
   "cell_type": "markdown",
   "metadata": {},
   "source": [
    "### 3.1.2. Weighted ranking"
   ]
  },
  {
   "cell_type": "markdown",
   "metadata": {},
   "source": [
    "#### 3.1.2.1. All-time weighted ranking"
   ]
  },
  {
   "cell_type": "code",
   "execution_count": 109,
   "metadata": {},
   "outputs": [
    {
     "name": "stdout",
     "output_type": "stream",
     "text": [
      "brewery_name\n",
      "Brasserie de Rochefort              1.353835\n",
      "Brasserie Auval Brewing Co.         1.129028\n",
      "Stigbergets Bryggeri                1.094611\n",
      "Toppling Goliath Brewing Company    1.066061\n",
      "AleSmith Brewing Company            1.059085\n",
      "dtype: float64\n"
     ]
    }
   ],
   "source": [
    "grouped_agg = grouped_brew.agg(['mean', 'size'])\n",
    "grouped_agg['weighted_rating'] = grouped_agg['mean'] * grouped_agg['size']\n",
    "\n",
    "#Here we calculate the scores by taking into account the nb of ratings \n",
    "nb_review = grouped_agg.groupby('brewery_name')['size'].sum()#.apply(lambda x : len(x))\n",
    "weighted_ranking = grouped_agg.groupby('brewery_name')['weighted_rating'].sum() / nb_review\n",
    "weighted_ranking_sorted = weighted_ranking.sort_values(ascending=False)\n",
    "\n",
    "print(weighted_ranking_sorted.head())"
   ]
  },
  {
   "cell_type": "markdown",
   "metadata": {},
   "source": [
    "Visualize the n best breweries of all time "
   ]
  },
  {
   "cell_type": "code",
   "execution_count": 110,
   "metadata": {},
   "outputs": [
    {
     "data": {
      "image/png": "[encoded data removed]",
      "text/plain": [
       "<Figure size 800x250 with 1 Axes>"
      ]
     },
     "metadata": {},
     "output_type": "display_data"
    }
   ],
   "source": [
    "plot_ranking(weighted_ranking_sorted, 10)"
   ]
  },
  {
   "cell_type": "markdown",
   "metadata": {},
   "source": [
    "#### 3.1.2.2. Weighted ranking per year"
   ]
  },
  {
   "cell_type": "markdown",
   "metadata": {},
   "source": [
    "We compute the same ranking per year and only keep the top ten."
   ]
  },
  {
   "cell_type": "code",
   "execution_count": 111,
   "metadata": {},
   "outputs": [
    {
     "data": {
      "text/html": [
       "<div>\n",
       "<style scoped>\n",
       "    .dataframe tbody tr th:only-of-type {\n",
       "        vertical-align: middle;\n",
       "    }\n",
       "\n",
       "    .dataframe tbody tr th {\n",
       "        vertical-align: top;\n",
       "    }\n",
       "\n",
       "    .dataframe thead th {\n",
       "        text-align: right;\n",
       "    }\n",
       "</style>\n",
       "<table border=\"1\" class=\"dataframe\">\n",
       "  <thead>\n",
       "    <tr style=\"text-align: right;\">\n",
       "      <th></th>\n",
       "      <th>brewery_name</th>\n",
       "      <th>std_rating</th>\n",
       "    </tr>\n",
       "    <tr>\n",
       "      <th>year</th>\n",
       "      <th></th>\n",
       "      <th></th>\n",
       "    </tr>\n",
       "  </thead>\n",
       "  <tbody>\n",
       "    <tr>\n",
       "      <th>2000.0</th>\n",
       "      <td>Yakima Brewing Co. / Bert Grant's Ales</td>\n",
       "      <td>0.017678</td>\n",
       "    </tr>\n",
       "    <tr>\n",
       "      <th>2001.0</th>\n",
       "      <td>Freeminer Brewery Ltd.</td>\n",
       "      <td>0.023783</td>\n",
       "    </tr>\n",
       "    <tr>\n",
       "      <th>2002.0</th>\n",
       "      <td>Especialidades Cerveceras (FEMSA)</td>\n",
       "      <td>0.116654</td>\n",
       "    </tr>\n",
       "    <tr>\n",
       "      <th>2003.0</th>\n",
       "      <td>Heavyweight Brewing Co.</td>\n",
       "      <td>0.207941</td>\n",
       "    </tr>\n",
       "    <tr>\n",
       "      <th>2004.0</th>\n",
       "      <td>Freeminer Brewery Ltd.</td>\n",
       "      <td>0.287573</td>\n",
       "    </tr>\n",
       "    <tr>\n",
       "      <th>2005.0</th>\n",
       "      <td>Bièropholie</td>\n",
       "      <td>0.259208</td>\n",
       "    </tr>\n",
       "    <tr>\n",
       "      <th>2006.0</th>\n",
       "      <td>The Shed Restaurant &amp; Brewery</td>\n",
       "      <td>0.460242</td>\n",
       "    </tr>\n",
       "    <tr>\n",
       "      <th>2007.0</th>\n",
       "      <td>Hakusekikan Beer/Stone Iwamoto Co.</td>\n",
       "      <td>0.268590</td>\n",
       "    </tr>\n",
       "    <tr>\n",
       "      <th>2008.0</th>\n",
       "      <td>Eastcoast Brewing</td>\n",
       "      <td>0.251024</td>\n",
       "    </tr>\n",
       "    <tr>\n",
       "      <th>2009.0</th>\n",
       "      <td>Hakusekikan Beer/Stone Iwamoto Co.</td>\n",
       "      <td>0.197413</td>\n",
       "    </tr>\n",
       "  </tbody>\n",
       "</table>\n",
       "</div>"
      ],
      "text/plain": [
       "                                  brewery_name  std_rating\n",
       "year                                                      \n",
       "2000.0  Yakima Brewing Co. / Bert Grant's Ales    0.017678\n",
       "2001.0                  Freeminer Brewery Ltd.    0.023783\n",
       "2002.0       Especialidades Cerveceras (FEMSA)    0.116654\n",
       "2003.0                 Heavyweight Brewing Co.    0.207941\n",
       "2004.0                  Freeminer Brewery Ltd.    0.287573\n",
       "2005.0                             Bièropholie    0.259208\n",
       "2006.0           The Shed Restaurant & Brewery    0.460242\n",
       "2007.0      Hakusekikan Beer/Stone Iwamoto Co.    0.268590\n",
       "2008.0                       Eastcoast Brewing    0.251024\n",
       "2009.0      Hakusekikan Beer/Stone Iwamoto Co.    0.197413"
      ]
     },
     "execution_count": 111,
     "metadata": {},
     "output_type": "execute_result"
    }
   ],
   "source": [
    "grouped_agg_year = grouped_brew_year.agg(['mean', 'size'])\n",
    "grouped_agg_year['weighted_rating'] = grouped_agg_year['mean'] * grouped_agg_year['size']\n",
    "\n",
    "nb_review = grouped_agg.groupby('brewery_name')['size'].sum()\n",
    "weighted_ranking_year = grouped_agg_year.groupby(['brewery_name',\"year\"])['weighted_rating'].sum() / nb_review\n",
    "averaged_per_year = weighted_ranking_year.reset_index(level='brewery_name')\n",
    "averaged_per_year.columns.values[1] = 'std_rating'\n",
    "\n",
    "top_brewery_year_avg = averaged_per_year.groupby('year').apply(lambda x: x.nlargest(10, 'std_rating'))\n",
    "\n",
    "top_across_avg = top_brewery_year_avg.groupby(\"brewery_name\").value_counts().nlargest(5)\n",
    "\n",
    "weighted_ranking_year_sorted = top_brewery_year_avg.groupby(\"year\").first()\n",
    "weighted_ranking_year_sorted.head(10)"
   ]
  },
  {
   "cell_type": "markdown",
   "metadata": {},
   "source": [
    "### 3.1.3. Quality-based ranking"
   ]
  },
  {
   "cell_type": "markdown",
   "metadata": {},
   "source": [
    "#### 3.1.3.1. All time quality ranking"
   ]
  },
  {
   "cell_type": "markdown",
   "metadata": {},
   "source": [
    "In this ranking we start by filtering out the beers with less than 4 reviews"
   ]
  },
  {
   "cell_type": "code",
   "execution_count": 112,
   "metadata": {},
   "outputs": [],
   "source": [
    "ratings_filtered = all_data.groupby('beer_name').filter(lambda x: len(x)>4)\n",
    "grouped_brew = ratings_filtered.groupby(['brewery_name',\"beer_name\"])[\"std_rating\"]\n",
    "grouped_brew_year = ratings_filtered.groupby(['brewery_name',\"beer_name\",\"year\"])[\"std_rating\"]"
   ]
  },
  {
   "cell_type": "code",
   "execution_count": 113,
   "metadata": {},
   "outputs": [
    {
     "name": "stdout",
     "output_type": "stream",
     "text": [
      "brewery_name\n",
      "Stigbergets Bryggeri      1.401146\n",
      "Brasserie de Rochefort    1.353835\n",
      "Cloudwater Brew Co.       1.330506\n",
      "Brouwerij 3 Fonteinen     1.191354\n",
      "House Ales                1.137330\n",
      "dtype: float64\n"
     ]
    }
   ],
   "source": [
    "grouped_agg = grouped_brew.agg(['mean'])\n",
    "\n",
    "nb_beer = grouped_agg.groupby('brewery_name').apply(lambda x : len(x))\n",
    "quality_ranking = grouped_agg.groupby('brewery_name')['mean'].sum() / nb_beer\n",
    "#fair_ranking = grouped_agg.groupby('brewery_name')['mean'].mean()\n",
    "quality_ranking_sorted = quality_ranking.sort_values(ascending=False)\n",
    "\n",
    "print(quality_ranking_sorted.head())"
   ]
  },
  {
   "cell_type": "markdown",
   "metadata": {},
   "source": [
    "Let's now compare the results of those two systems for the overall ranking "
   ]
  },
  {
   "cell_type": "code",
   "execution_count": 114,
   "metadata": {},
   "outputs": [
    {
     "data": {
      "image/png": "[encoded data removed]",
      "text/plain": [
       "<Figure size 1600x600 with 2 Axes>"
      ]
     },
     "metadata": {},
     "output_type": "display_data"
    }
   ],
   "source": [
    "compare_ranking(weighted_ranking_sorted, quality_ranking_sorted, 20)"
   ]
  },
  {
   "cell_type": "markdown",
   "metadata": {},
   "source": [
    "#### 3.1.2.2. Quality ranking per year"
   ]
  },
  {
   "cell_type": "markdown",
   "metadata": {},
   "source": [
    "As for the weighted system let's see the ranking per year "
   ]
  },
  {
   "cell_type": "code",
   "execution_count": 115,
   "metadata": {},
   "outputs": [
    {
     "ename": "NameError",
     "evalue": "name 'quality_ranking_year' is not defined",
     "output_type": "error",
     "traceback": [
      "\u001b[1;31m---------------------------------------------------------------------------\u001b[0m",
      "\u001b[1;31mNameError\u001b[0m                                 Traceback (most recent call last)",
      "Cell \u001b[1;32mIn[115], line 7\u001b[0m\n\u001b[0;32m      4\u001b[0m nb_beer \u001b[38;5;241m=\u001b[39m grouped_agg\u001b[38;5;241m.\u001b[39mgroupby(\u001b[38;5;124m'\u001b[39m\u001b[38;5;124mbrewery_name\u001b[39m\u001b[38;5;124m'\u001b[39m)\u001b[38;5;241m.\u001b[39mapply(\u001b[38;5;28;01mlambda\u001b[39;00m x : \u001b[38;5;28mlen\u001b[39m(x))\n\u001b[0;32m      5\u001b[0m fair_ranking_year \u001b[38;5;241m=\u001b[39m grouped_agg_year\u001b[38;5;241m.\u001b[39mgroupby([\u001b[38;5;124m'\u001b[39m\u001b[38;5;124mbrewery_name\u001b[39m\u001b[38;5;124m'\u001b[39m,\u001b[38;5;124m\"\u001b[39m\u001b[38;5;124myear\u001b[39m\u001b[38;5;124m\"\u001b[39m])[\u001b[38;5;124m'\u001b[39m\u001b[38;5;124mmean\u001b[39m\u001b[38;5;124m'\u001b[39m]\u001b[38;5;241m.\u001b[39msum() \u001b[38;5;241m/\u001b[39m nb_beer\n\u001b[1;32m----> 7\u001b[0m averaged_quality_per_year \u001b[38;5;241m=\u001b[39m \u001b[43mquality_ranking_year\u001b[49m\u001b[38;5;241m.\u001b[39mreset_index(level\u001b[38;5;241m=\u001b[39m\u001b[38;5;124m'\u001b[39m\u001b[38;5;124mbrewery_name\u001b[39m\u001b[38;5;124m'\u001b[39m)\n\u001b[0;32m      8\u001b[0m averaged_quality_per_year\u001b[38;5;241m.\u001b[39mcolumns\u001b[38;5;241m.\u001b[39mvalues[\u001b[38;5;241m1\u001b[39m] \u001b[38;5;241m=\u001b[39m \u001b[38;5;124m'\u001b[39m\u001b[38;5;124mstd_rating\u001b[39m\u001b[38;5;124m'\u001b[39m\n\u001b[0;32m     10\u001b[0m top_brewery_year_quality \u001b[38;5;241m=\u001b[39m averaged_quality_per_year\u001b[38;5;241m.\u001b[39mgroupby(\u001b[38;5;124m'\u001b[39m\u001b[38;5;124myear\u001b[39m\u001b[38;5;124m'\u001b[39m)\u001b[38;5;241m.\u001b[39mapply(\u001b[38;5;28;01mlambda\u001b[39;00m x: x\u001b[38;5;241m.\u001b[39mnlargest(\u001b[38;5;241m10\u001b[39m, \u001b[38;5;124m'\u001b[39m\u001b[38;5;124mstd_rating\u001b[39m\u001b[38;5;124m'\u001b[39m))\n",
      "\u001b[1;31mNameError\u001b[0m: name 'quality_ranking_year' is not defined"
     ]
    }
   ],
   "source": [
    "grouped_agg_year = grouped_brew_year.agg(['mean'])\n",
    "\n",
    "\n",
    "nb_beer = grouped_agg.groupby('brewery_name').apply(lambda x : len(x))\n",
    "fair_ranking_year = grouped_agg_year.groupby(['brewery_name',\"year\"])['mean'].sum() / nb_beer\n",
    "\n",
    "averaged_quality_per_year = quality_ranking_year.reset_index(level='brewery_name')\n",
    "averaged_quality_per_year.columns.values[1] = 'std_rating'\n",
    "\n",
    "top_brewery_year_quality = averaged_quality_per_year.groupby('year').apply(lambda x: x.nlargest(10, 'std_rating'))\n",
    "top_across_fair = top_brewery_year_quality.groupby(\"brewery_name\").value_counts().nlargest(5)\n",
    "\n",
    "quality_ranking_year_sorted = top_brewery_year_quality.groupby(\"year\").first()\n",
    "quality_ranking_year_sorted.head(10)"
   ]
  },
  {
   "cell_type": "markdown",
   "metadata": {},
   "source": [
    "### 3.1.3 Evolution of the best breweries grade across the years"
   ]
  },
  {
   "cell_type": "markdown",
   "metadata": {},
   "source": [
    "In this part we plot the evolution of the rating of our top 3 best brewerie across the year, we decided to plot the ratings not standardized for it to be interpretable "
   ]
  },
  {
   "cell_type": "code",
   "execution_count": null,
   "metadata": {},
   "outputs": [],
   "source": [
    "top_three = weighted_ranking_sorted.head(1).index.to_list()\n",
    "leader = all_data[all_data[\"brewery_name\"].isin(top_three)]\n",
    "leader_by_year = leader.groupby([\"brewery_name\",'year']).apply(lambda x:pd.Series({\n",
    "        'average_rate': x[\"rating\"].mean(),\n",
    "        'std_rate': x[\"rating\"].std()\n",
    "    }))\n",
    "unstacked = leader_by_year.unstack(level = \"brewery_name\")\n",
    "print(unstacked.index)\n",
    "for brewery in top_three:\n",
    "    plt.errorbar(unstacked.index, unstacked[(\"average_rate\",brewery)],label = brewery)# ,yerr = unstacked[(\"std_rate\",brewery)]"
   ]
  },
  {
   "cell_type": "markdown",
   "metadata": {},
   "source": [
    "## 3.2. Link between polarity, subjectivity of the reviews and ratings CCT FOR U"
   ]
  },
  {
   "cell_type": "markdown",
   "metadata": {},
   "source": [
    "## 3.3. Advanced ranking"
   ]
  },
  {
   "cell_type": "markdown",
   "metadata": {},
   "source": [
    "### 3.3.1. Reviews' preprocessing"
   ]
  },
  {
   "cell_type": "code",
   "execution_count": 116,
   "metadata": {},
   "outputs": [
    {
     "name": "stderr",
     "output_type": "stream",
     "text": [
      "[nltk_data] Downloading package words to\n",
      "[nltk_data]     C:\\Users\\Maxime\\AppData\\Roaming\\nltk_data...\n",
      "[nltk_data]   Package words is already up-to-date!\n",
      "[nltk_data] Downloading package stopwords to\n",
      "[nltk_data]     C:\\Users\\Maxime\\AppData\\Roaming\\nltk_data...\n",
      "[nltk_data]   Package stopwords is already up-to-date!\n",
      "[nltk_data] Downloading package wordnet to\n",
      "[nltk_data]     C:\\Users\\Maxime\\AppData\\Roaming\\nltk_data...\n",
      "[nltk_data]   Package wordnet is already up-to-date!\n",
      "[nltk_data] Downloading package words to\n",
      "[nltk_data]     C:\\Users\\Maxime\\AppData\\Roaming\\nltk_data...\n",
      "[nltk_data]   Package words is already up-to-date!\n"
     ]
    }
   ],
   "source": [
    "nltk.download('words')\n",
    "nltk.download('stopwords') # Download NLTK stopwords\n",
    "nltk.download('wordnet')   # Lemmatization\n",
    "nltk.download('words')\n",
    "english_words=set(words.words())"
   ]
  },
  {
   "cell_type": "markdown",
   "metadata": {},
   "source": [
    "In the ratings, there are some people that have not made a textual review so we remove them to have equity in our ranking. We keep only english reviews because translating is too much calculative expensive, and require use of Google Translation API. The principal reason is also that 90% of the reviews are in English and the polarity and subjectivity calculation need to be consistent."
   ]
  },
  {
   "cell_type": "markdown",
   "metadata": {},
   "source": [
    " JUSTIFY AVEC PLOT "
   ]
  },
  {
   "cell_type": "code",
   "execution_count": 117,
   "metadata": {},
   "outputs": [],
   "source": [
    "def remove_no_sentences(df):\n",
    "    df = df.dropna(subset=['text'])\n",
    "    df = df[df['text'].str.strip().astype(bool)]  # Check for non-empty strings\n",
    "    df = df[df['text'] != 'nan']\n",
    "    return df\n",
    "def keep_only_english(sentence):\n",
    "    return \" \".join(w for w in nltk.wordpunct_tokenize(sentence) if w.lower() in english_words or not w.isalpha())"
   ]
  },
  {
   "cell_type": "code",
   "execution_count": 118,
   "metadata": {},
   "outputs": [],
   "source": [
    "all_data = remove_no_sentences(all_data)\n",
    "all_data['text'] = all_data['text'].apply(lambda x: keep_only_english(x))"
   ]
  },
  {
   "cell_type": "markdown",
   "metadata": {},
   "source": [
    "### 3.3.2. Calculations of polarity and subjectivity of the reviews with NLP analysis"
   ]
  },
  {
   "cell_type": "code",
   "execution_count": 119,
   "metadata": {},
   "outputs": [],
   "source": [
    "analyzer = SentimentIntensityAnalyzer()\n",
    "\n",
    "def getSubjectivity(text):\n",
    "    return TextBlob(text).sentiment.subjectivity\n",
    "\n",
    "def getPolarity(text):\n",
    "    return analyzer.polarity_scores(text)"
   ]
  },
  {
   "cell_type": "code",
   "execution_count": 120,
   "metadata": {},
   "outputs": [
    {
     "data": {
      "text/html": [
       "<div>\n",
       "<style scoped>\n",
       "    .dataframe tbody tr th:only-of-type {\n",
       "        vertical-align: middle;\n",
       "    }\n",
       "\n",
       "    .dataframe tbody tr th {\n",
       "        vertical-align: top;\n",
       "    }\n",
       "\n",
       "    .dataframe thead th {\n",
       "        text-align: right;\n",
       "    }\n",
       "</style>\n",
       "<table border=\"1\" class=\"dataframe\">\n",
       "  <thead>\n",
       "    <tr style=\"text-align: right;\">\n",
       "      <th></th>\n",
       "      <th>beer_name</th>\n",
       "      <th>beer_id</th>\n",
       "      <th>brewery_name</th>\n",
       "      <th>brewery_id</th>\n",
       "      <th>brewery_location</th>\n",
       "      <th>style</th>\n",
       "      <th>date</th>\n",
       "      <th>user_name</th>\n",
       "      <th>user_id</th>\n",
       "      <th>user_location</th>\n",
       "      <th>rating</th>\n",
       "      <th>text</th>\n",
       "      <th>month</th>\n",
       "      <th>year</th>\n",
       "      <th>std_rating</th>\n",
       "      <th>polarity_text</th>\n",
       "      <th>polarity_rating</th>\n",
       "      <th>subjectivity</th>\n",
       "    </tr>\n",
       "  </thead>\n",
       "  <tbody>\n",
       "    <tr>\n",
       "      <th>56</th>\n",
       "      <td>Open Baladin</td>\n",
       "      <td>50591.0</td>\n",
       "      <td>Birrificio Le Baladin</td>\n",
       "      <td>1675.0</td>\n",
       "      <td>Italy</td>\n",
       "      <td>Belgian Pale Ale</td>\n",
       "      <td>2013-03-20</td>\n",
       "      <td>stcules</td>\n",
       "      <td>stcules.473</td>\n",
       "      <td>Italy</td>\n",
       "      <td>2.65</td>\n",
       "      <td>Light orange color , slightly veiled , good ca...</td>\n",
       "      <td>3.0</td>\n",
       "      <td>2013.0</td>\n",
       "      <td>-1.455093</td>\n",
       "      <td>{'neg': 0.173, 'neu': 0.738, 'pos': 0.089, 'co...</td>\n",
       "      <td>-0.8182</td>\n",
       "      <td>0.502193</td>\n",
       "    </tr>\n",
       "    <tr>\n",
       "      <th>61</th>\n",
       "      <td>Deviator Doppelbock</td>\n",
       "      <td>75943.0</td>\n",
       "      <td>Cameron's Brewing Co.</td>\n",
       "      <td>3912.0</td>\n",
       "      <td>Canada</td>\n",
       "      <td>Doppelbock</td>\n",
       "      <td>2013-12-30</td>\n",
       "      <td>seand</td>\n",
       "      <td>seand.289492</td>\n",
       "      <td>United States, California</td>\n",
       "      <td>3.47</td>\n",
       "      <td>A : a dark translucent brown with a small amou...</td>\n",
       "      <td>12.0</td>\n",
       "      <td>2013.0</td>\n",
       "      <td>-0.284674</td>\n",
       "      <td>{'neg': 0.023, 'neu': 0.843, 'pos': 0.133, 'co...</td>\n",
       "      <td>0.8873</td>\n",
       "      <td>0.604167</td>\n",
       "    </tr>\n",
       "    <tr>\n",
       "      <th>87</th>\n",
       "      <td>USAlive! (Alive)</td>\n",
       "      <td>48238.0</td>\n",
       "      <td>Mikkeller ApS</td>\n",
       "      <td>13307.0</td>\n",
       "      <td>Denmark</td>\n",
       "      <td>Belgian Strong Pale Ale</td>\n",
       "      <td>2013-09-02</td>\n",
       "      <td>kylehay2004</td>\n",
       "      <td>kylehay2004.571365</td>\n",
       "      <td>United States, Illinois</td>\n",
       "      <td>3.11</td>\n",
       "      <td>A : single finger thick off white head with ni...</td>\n",
       "      <td>9.0</td>\n",
       "      <td>2013.0</td>\n",
       "      <td>-0.798516</td>\n",
       "      <td>{'neg': 0.051, 'neu': 0.879, 'pos': 0.07, 'com...</td>\n",
       "      <td>0.3947</td>\n",
       "      <td>0.471988</td>\n",
       "    </tr>\n",
       "    <tr>\n",
       "      <th>113</th>\n",
       "      <td>Spaten Dunkel</td>\n",
       "      <td>47748.0</td>\n",
       "      <td>Spaten-Franziskaner-Bräu</td>\n",
       "      <td>142.0</td>\n",
       "      <td>Germany</td>\n",
       "      <td>Munich Dunkel Lager</td>\n",
       "      <td>2013-07-03</td>\n",
       "      <td>wac9</td>\n",
       "      <td>wac9.144224</td>\n",
       "      <td>United States, Pennsylvania</td>\n",
       "      <td>3.27</td>\n",
       "      <td>what a wonderful beer its a great tasting beer...</td>\n",
       "      <td>7.0</td>\n",
       "      <td>2013.0</td>\n",
       "      <td>-0.570142</td>\n",
       "      <td>{'neg': 0.0, 'neu': 0.641, 'pos': 0.359, 'comp...</td>\n",
       "      <td>0.9719</td>\n",
       "      <td>0.477778</td>\n",
       "    </tr>\n",
       "    <tr>\n",
       "      <th>160</th>\n",
       "      <td>Corona Extra</td>\n",
       "      <td>232.0</td>\n",
       "      <td>Grupo Modelo S.A. de C.V.</td>\n",
       "      <td>75.0</td>\n",
       "      <td>Mexico</td>\n",
       "      <td>American Adjunct Lager</td>\n",
       "      <td>2013-06-21</td>\n",
       "      <td>Bouleboubier</td>\n",
       "      <td>bouleboubier.113255</td>\n",
       "      <td>United States, Pennsylvania</td>\n",
       "      <td>2.87</td>\n",
       "      <td>Yeah , I ' m with &amp; quot ; &amp; quot ;. I don ' t...</td>\n",
       "      <td>6.0</td>\n",
       "      <td>2013.0</td>\n",
       "      <td>-1.141078</td>\n",
       "      <td>{'neg': 0.042, 'neu': 0.879, 'pos': 0.078, 'co...</td>\n",
       "      <td>0.7845</td>\n",
       "      <td>0.467500</td>\n",
       "    </tr>\n",
       "  </tbody>\n",
       "</table>\n",
       "</div>"
      ],
      "text/plain": [
       "               beer_name  beer_id               brewery_name brewery_id  \\\n",
       "56          Open Baladin  50591.0      Birrificio Le Baladin     1675.0   \n",
       "61   Deviator Doppelbock  75943.0      Cameron's Brewing Co.     3912.0   \n",
       "87      USAlive! (Alive)  48238.0              Mikkeller ApS    13307.0   \n",
       "113        Spaten Dunkel  47748.0   Spaten-Franziskaner-Bräu      142.0   \n",
       "160         Corona Extra    232.0  Grupo Modelo S.A. de C.V.       75.0   \n",
       "\n",
       "    brewery_location                    style        date     user_name  \\\n",
       "56             Italy         Belgian Pale Ale  2013-03-20       stcules   \n",
       "61            Canada               Doppelbock  2013-12-30         seand   \n",
       "87           Denmark  Belgian Strong Pale Ale  2013-09-02   kylehay2004   \n",
       "113          Germany      Munich Dunkel Lager  2013-07-03          wac9   \n",
       "160           Mexico   American Adjunct Lager  2013-06-21  Bouleboubier   \n",
       "\n",
       "                 user_id                user_location  rating  \\\n",
       "56           stcules.473                        Italy    2.65   \n",
       "61          seand.289492    United States, California    3.47   \n",
       "87    kylehay2004.571365      United States, Illinois    3.11   \n",
       "113          wac9.144224  United States, Pennsylvania    3.27   \n",
       "160  bouleboubier.113255  United States, Pennsylvania    2.87   \n",
       "\n",
       "                                                  text  month    year  \\\n",
       "56   Light orange color , slightly veiled , good ca...    3.0  2013.0   \n",
       "61   A : a dark translucent brown with a small amou...   12.0  2013.0   \n",
       "87   A : single finger thick off white head with ni...    9.0  2013.0   \n",
       "113  what a wonderful beer its a great tasting beer...    7.0  2013.0   \n",
       "160  Yeah , I ' m with & quot ; & quot ;. I don ' t...    6.0  2013.0   \n",
       "\n",
       "     std_rating                                      polarity_text  \\\n",
       "56    -1.455093  {'neg': 0.173, 'neu': 0.738, 'pos': 0.089, 'co...   \n",
       "61    -0.284674  {'neg': 0.023, 'neu': 0.843, 'pos': 0.133, 'co...   \n",
       "87    -0.798516  {'neg': 0.051, 'neu': 0.879, 'pos': 0.07, 'com...   \n",
       "113   -0.570142  {'neg': 0.0, 'neu': 0.641, 'pos': 0.359, 'comp...   \n",
       "160   -1.141078  {'neg': 0.042, 'neu': 0.879, 'pos': 0.078, 'co...   \n",
       "\n",
       "     polarity_rating  subjectivity  \n",
       "56           -0.8182      0.502193  \n",
       "61            0.8873      0.604167  \n",
       "87            0.3947      0.471988  \n",
       "113           0.9719      0.477778  \n",
       "160           0.7845      0.467500  "
      ]
     },
     "execution_count": 120,
     "metadata": {},
     "output_type": "execute_result"
    }
   ],
   "source": [
    "all_data['polarity_text'] = all_data['text'].apply(lambda x: getPolarity(x))\n",
    "all_data['polarity_rating'] = all_data['text'].apply(lambda x: x['polarity_text']['compound'])\n",
    "all_data['subjectivity'] = all_data['text'].apply(lambda x: getSubjectivity(x))\n",
    "all_data.head(5)"
   ]
  },
  {
   "cell_type": "markdown",
   "metadata": {},
   "source": [
    "### 3.3.3. Analysis with the new ranking system"
   ]
  },
  {
   "cell_type": "markdown",
   "metadata": {},
   "source": [
    "#### 3.3.3.1. New ranking system"
   ]
  },
  {
   "cell_type": "markdown",
   "metadata": {},
   "source": [
    " STANDARDIZATION BY YEARS AVEC FONCTION MAXIME ADAPTEE"
   ]
  },
  {
   "cell_type": "markdown",
   "metadata": {},
   "source": [
    "The initial rankings are solely based on numerical ratings. To enhance the fairness of our rating system, we have decided to incorporate textual reviews. To achieve this, we will consider the polarity of the comments, representing a score ranging from -1 (very negative) to 1 (very positive). However, it is crucial to acknowledge that individuals may introduce subjectivity into their ratings, denoted on a scale from 0 to 1, where 0 indicates objectivity and 1 signifies high subjectivity.\n",
    "\n",
    "In our quest for a fair ranking system, we aim to mitigate the impact of highly subjective opinions. To accomplish this, we introduce a coefficient (1-subjectivity), ensuring that individuals with more subjective views carry less weight in the final ranking.\n",
    "\n",
    "Additionally, we're streamlining our review process by standardizing all polarity scores together and not website by website as numerical ratings. This means that individuals expressing similar sentiments will receive the same polarity rating, irrespective of variations in their numerical ratings. For example, if two people share the same thoughts and emotions, one giving a rating of 3 and the other a 4, our machine learning system will assign them identical polarity ratings. This simplification ensures coherence and consistency in our overall ranking system."
   ]
  },
  {
   "cell_type": "code",
   "execution_count": 121,
   "metadata": {},
   "outputs": [
    {
     "data": {
      "text/html": [
       "<div>\n",
       "<style scoped>\n",
       "    .dataframe tbody tr th:only-of-type {\n",
       "        vertical-align: middle;\n",
       "    }\n",
       "\n",
       "    .dataframe tbody tr th {\n",
       "        vertical-align: top;\n",
       "    }\n",
       "\n",
       "    .dataframe thead th {\n",
       "        text-align: right;\n",
       "    }\n",
       "</style>\n",
       "<table border=\"1\" class=\"dataframe\">\n",
       "  <thead>\n",
       "    <tr style=\"text-align: right;\">\n",
       "      <th></th>\n",
       "      <th>beer_name</th>\n",
       "      <th>beer_id</th>\n",
       "      <th>brewery_name</th>\n",
       "      <th>brewery_id</th>\n",
       "      <th>brewery_location</th>\n",
       "      <th>style</th>\n",
       "      <th>date</th>\n",
       "      <th>user_name</th>\n",
       "      <th>user_id</th>\n",
       "      <th>user_location</th>\n",
       "      <th>rating</th>\n",
       "      <th>text</th>\n",
       "      <th>month</th>\n",
       "      <th>year</th>\n",
       "      <th>std_rating</th>\n",
       "      <th>polarity_text</th>\n",
       "      <th>polarity_rating</th>\n",
       "      <th>subjectivity</th>\n",
       "      <th>std_polarity_rating</th>\n",
       "    </tr>\n",
       "  </thead>\n",
       "  <tbody>\n",
       "    <tr>\n",
       "      <th>56</th>\n",
       "      <td>Open Baladin</td>\n",
       "      <td>50591.0</td>\n",
       "      <td>Birrificio Le Baladin</td>\n",
       "      <td>1675.0</td>\n",
       "      <td>Italy</td>\n",
       "      <td>Belgian Pale Ale</td>\n",
       "      <td>2013-03-20</td>\n",
       "      <td>stcules</td>\n",
       "      <td>stcules.473</td>\n",
       "      <td>Italy</td>\n",
       "      <td>2.65</td>\n",
       "      <td>Light orange color , slightly veiled , good ca...</td>\n",
       "      <td>3.0</td>\n",
       "      <td>2013.0</td>\n",
       "      <td>-1.455093</td>\n",
       "      <td>{'neg': 0.173, 'neu': 0.738, 'pos': 0.089, 'co...</td>\n",
       "      <td>-0.8182</td>\n",
       "      <td>0.502193</td>\n",
       "      <td>-2.772193</td>\n",
       "    </tr>\n",
       "    <tr>\n",
       "      <th>61</th>\n",
       "      <td>Deviator Doppelbock</td>\n",
       "      <td>75943.0</td>\n",
       "      <td>Cameron's Brewing Co.</td>\n",
       "      <td>3912.0</td>\n",
       "      <td>Canada</td>\n",
       "      <td>Doppelbock</td>\n",
       "      <td>2013-12-30</td>\n",
       "      <td>seand</td>\n",
       "      <td>seand.289492</td>\n",
       "      <td>United States, California</td>\n",
       "      <td>3.47</td>\n",
       "      <td>A : a dark translucent brown with a small amou...</td>\n",
       "      <td>12.0</td>\n",
       "      <td>2013.0</td>\n",
       "      <td>-0.284674</td>\n",
       "      <td>{'neg': 0.023, 'neu': 0.843, 'pos': 0.133, 'co...</td>\n",
       "      <td>0.8873</td>\n",
       "      <td>0.604167</td>\n",
       "      <td>0.795729</td>\n",
       "    </tr>\n",
       "  </tbody>\n",
       "</table>\n",
       "</div>"
      ],
      "text/plain": [
       "              beer_name  beer_id           brewery_name brewery_id  \\\n",
       "56         Open Baladin  50591.0  Birrificio Le Baladin     1675.0   \n",
       "61  Deviator Doppelbock  75943.0  Cameron's Brewing Co.     3912.0   \n",
       "\n",
       "   brewery_location             style        date user_name       user_id  \\\n",
       "56            Italy  Belgian Pale Ale  2013-03-20   stcules   stcules.473   \n",
       "61           Canada        Doppelbock  2013-12-30     seand  seand.289492   \n",
       "\n",
       "                user_location  rating  \\\n",
       "56                      Italy    2.65   \n",
       "61  United States, California    3.47   \n",
       "\n",
       "                                                 text  month    year  \\\n",
       "56  Light orange color , slightly veiled , good ca...    3.0  2013.0   \n",
       "61  A : a dark translucent brown with a small amou...   12.0  2013.0   \n",
       "\n",
       "    std_rating                                      polarity_text  \\\n",
       "56   -1.455093  {'neg': 0.173, 'neu': 0.738, 'pos': 0.089, 'co...   \n",
       "61   -0.284674  {'neg': 0.023, 'neu': 0.843, 'pos': 0.133, 'co...   \n",
       "\n",
       "    polarity_rating  subjectivity  std_polarity_rating  \n",
       "56          -0.8182      0.502193            -2.772193  \n",
       "61           0.8873      0.604167             0.795729  "
      ]
     },
     "metadata": {},
     "output_type": "display_data"
    }
   ],
   "source": [
    "# apply standardization\n",
    "all_data, _ = standardize_annually(all_data, 'polarity_rating')\n",
    "\n",
    "display(all_data.head(2)) "
   ]
  },
  {
   "cell_type": "code",
   "execution_count": 124,
   "metadata": {},
   "outputs": [
    {
     "name": "stdout",
     "output_type": "stream",
     "text": [
      "Mean of standardized polarity ratings for BeerAdvocate : 1.5373080365247654e-17\n",
      "Standard deviation of standardized polarity ratings for BeerAdvocate : 0.9999378681085892\n"
     ]
    },
    {
     "data": {
      "text/plain": [
       "<Axes: xlabel='std_polarity_rating', ylabel='Count'>"
      ]
     },
     "execution_count": 124,
     "metadata": {},
     "output_type": "execute_result"
    },
    {
     "data": {
      "image/png": "[encoded data removed]",
      "text/plain": [
       "<Figure size 640x480 with 1 Axes>"
      ]
     },
     "metadata": {},
     "output_type": "display_data"
    }
   ],
   "source": [
    "print(f\"Mean of standardized polarity ratings for BeerAdvocate : {all_data['std_polarity_rating'].mean()}\")\n",
    "print(f\"Standard deviation of standardized polarity ratings for BeerAdvocate : {all_data['std_polarity_rating'].std()}\")\n",
    "sns.histplot(data=all_data['std_polarity_rating'], bins=50)"
   ]
  },
  {
   "cell_type": "code",
   "execution_count": null,
   "metadata": {},
   "outputs": [],
   "source": [
    "all_data['new_rating'] = (all_data['std_rating'] + all_data['std_polarity_rating'])*(1-all_data['subjectivity'])"
   ]
  },
  {
   "cell_type": "markdown",
   "metadata": {},
   "source": [
    "#### 3.3.3.2. Best breweries in the world around the years"
   ]
  },
  {
   "cell_type": "code",
   "execution_count": null,
   "metadata": {},
   "outputs": [],
   "source": [
    "new_best_beers = all_data.groupby('beer_name')['new_rating'].mean().nlargest(10)\n",
    "new_best_beers"
   ]
  },
  {
   "cell_type": "code",
   "execution_count": null,
   "metadata": {},
   "outputs": [],
   "source": [
    "new_best_breweries = all_data.groupby('brewery_name')['new_rating'].mean().nlargest(10)\n",
    "new_best_breweries  "
   ]
  },
  {
   "cell_type": "code",
   "execution_count": null,
   "metadata": {},
   "outputs": [],
   "source": [
    "average_ratings = all_data.groupby(['beer_name', 'year'])['new_rating'].mean().reset_index()\n",
    "\n",
    "# Obtenir le top 10 des bières pour chaque année\n",
    "top_10_beers_by_year = (\n",
    "    average_ratings.sort_values(by=['year', 'new_rating'], ascending=[True, False]).groupby('year').head(10).reset_index(drop=True))"
   ]
  },
  {
   "cell_type": "code",
   "execution_count": null,
   "metadata": {},
   "outputs": [],
   "source": [
    "print(top_10_beers_by_year)"
   ]
  },
  {
   "cell_type": "markdown",
   "metadata": {},
   "source": [
    "# 4. Annexes"
   ]
  },
  {
   "cell_type": "markdown",
   "metadata": {},
   "source": [
    "## 4.1. Generation of the table of content"
   ]
  },
  {
   "cell_type": "code",
   "execution_count": 19,
   "metadata": {},
   "outputs": [],
   "source": [
    "import nbformat\n",
    "import pandas as pd\n",
    "\n",
    "# Load the .ipynb file\n",
    "with open('./Baseline_merged.ipynb', 'r') as f:\n",
    "    notebook = nbformat.read(f, as_version=4)\n",
    "\n",
    "# Extract the markdown cells\n",
    "markdown_cells = [cell for cell in notebook['cells'] if cell['cell_type'] == 'markdown']\n",
    "\n",
    "def levelf (lev, niv):\n",
    "    i = lev[0:niv]\n",
    "    string = \"\"\n",
    "    for n in i:\n",
    "        string = string + str(n) + \".\"\n",
    "    string += \" \"\n",
    "    return string\n",
    "\n",
    "#Get all the markdown cells heading names and rename them with a sorted number and change the mardowns names in the notebook\n",
    "index = [0, 0, 0, 0, 0, 0]\n",
    "heading_corr = []\n",
    "for i in range(len(notebook['cells'])):\n",
    "    if notebook['cells'][i]['cell_type'] == 'markdown':\n",
    "        if ('###### ') in notebook['cells'][i]['source'][0:7]:\n",
    "            heading = notebook['cells'][i]['source']\n",
    "            index[5] += 1\n",
    "            level = levelf(index, 6)\n",
    "            notebook['cells'][i]['source'] = '###### ' + level + heading[heading.rfind(\". \"):][2:] if \". \" in heading else '###### ' + level + heading[7:]\n",
    "            head = level + heading[heading.rfind(\". \"):][2:] if \". \" in heading else level + heading[7:]\n",
    "            heading_corr.append([\"<a style='font-size:0.5em'>\" + head + \"</a>\", head, level])\n",
    "        elif ('##### ') in notebook['cells'][i]['source'][0:6]:\n",
    "            heading = notebook['cells'][i]['source']\n",
    "            index[4] += 1\n",
    "            index[5] = 0\n",
    "            level = levelf(index, 5)\n",
    "            notebook['cells'][i]['source'] = '##### ' + level + heading[heading.rfind(\". \"):][2:] if \". \" in heading else '##### ' + level + heading[6:]\n",
    "            head = level + heading[heading.rfind(\". \"):][2:] if \". \" in heading else level + heading[6:]\n",
    "            heading_corr.append([\"<a style='font-size:0.75em'>\" + head + \"</a>\", head, level])\n",
    "        elif ('#### ') in notebook['cells'][i]['source'][0:5]:\n",
    "            heading = notebook['cells'][i]['source']\n",
    "            index[3] += 1\n",
    "            index[4] = 0\n",
    "            index[5] = 0\n",
    "            level = levelf(index, 4)\n",
    "            notebook['cells'][i]['source'] = '#### ' + level + heading[heading.rfind(\". \"):][2:] if \". \" in heading else '#### ' + level + heading[5:]\n",
    "            head = level + heading[heading.rfind(\". \"):][2:] if \". \" in heading else level + heading[5:]\n",
    "            heading_corr.append([\"<a style='font-size:1.25em'>\" + head + \"</a>\", head, level])\n",
    "        elif ('### ') in notebook['cells'][i]['source'][0:4]:\n",
    "            heading = notebook['cells'][i]['source']\n",
    "            index[2] += 1\n",
    "            index[3] = 0\n",
    "            index[4] = 0\n",
    "            index[5] = 0\n",
    "            level = levelf(index, 3)\n",
    "            notebook['cells'][i]['source'] = '### ' + level + heading[heading.rfind(\". \"):][2:] if \". \" in heading else '### ' + level + heading[4:]\n",
    "            head = level + heading[heading.rfind(\". \"):][2:] if \". \" in heading else level + heading[4:]\n",
    "            heading_corr.append([\"<a style='font-size:1.5em'>\" + head + \"</a>\", head, level])\n",
    "        elif ('## ') in notebook['cells'][i]['source'][0:3]:\n",
    "            heading = notebook['cells'][i]['source']\n",
    "            index[1] += 1\n",
    "            index[2] = 0\n",
    "            index[3] = 0\n",
    "            index[4] = 0\n",
    "            index[5] = 0\n",
    "            level = levelf(index, 2)\n",
    "            notebook['cells'][i]['source'] = '## ' + level + heading[heading.rfind(\". \"):][2:] if \". \" in heading else '## ' + level + heading[3:]\n",
    "            head = level + heading[heading.rfind(\". \"):][2:] if \". \" in heading else level + heading[3:]\n",
    "            heading_corr.append([\"<a style='font-size:1.75em'>\" + head + \"</a>\", head, level])\n",
    "        elif ('# ') in notebook['cells'][i]['source'][0:2]:\n",
    "            heading = notebook['cells'][i]['source']\n",
    "            index[0] += 1\n",
    "            index[1] = 0\n",
    "            index[2] = 0\n",
    "            index[3] = 0\n",
    "            index[4] = 0\n",
    "            index[5] = 0\n",
    "            level = levelf(index, 1)\n",
    "            notebook['cells'][i]['source'] = '# ' + level + heading[heading.rfind(\". \"):][2:] if \". \" in heading else '# ' + level + heading[2:]\n",
    "            head = level + heading[heading.rfind(\". \"):][2:] if \". \" in heading else level + heading[2:]\n",
    "            heading_corr.append([\"<a style='font-size:2em'>\" + head + \"</a>\", head, level])\n",
    "\n",
    "# Combine lists\n",
    "heading_corr\n",
    "tab = \"&emsp;\"\n",
    "# Generate the table of contents\n",
    "toc = '\\n'.join(f'{int(len(level)-3)*2*tab}[{ref}](#{ref.lower().replace(\" \", \"-\")})  ' for heading, ref, level in heading_corr) #\n",
    "\n",
    "# Write the updated notebook to disk\n",
    "with open('./Baseline_merged.ipynb', 'w+') as f:\n",
    "    nbformat.write(notebook, f)"
   ]
  },
  {
   "cell_type": "code",
   "execution_count": 20,
   "metadata": {},
   "outputs": [
    {
     "name": "stdout",
     "output_type": "stream",
     "text": [
      "[1. 1.Introduction](#1.-1.introduction)  \n",
      "&emsp;&emsp;&emsp;&emsp;[1.1. Virtual environment setup](#1.1.-virtual-environment-setup)  \n",
      "&emsp;&emsp;&emsp;&emsp;[1.2. Libraries import](#1.2.-libraries-import)  \n",
      "&emsp;&emsp;&emsp;&emsp;[1.3. Paths definition](#1.3.-paths-definition)  \n",
      "&emsp;&emsp;&emsp;&emsp;[1.4. Functions definition](#1.4.-functions-definition)  \n",
      "[2. Data handling](#2.-data-handling)  \n",
      "&emsp;&emsp;&emsp;&emsp;[2.1. Data import TCN FOR U](#2.1.-data-import-tcn-for-u)  \n",
      "&emsp;&emsp;&emsp;&emsp;&emsp;&emsp;&emsp;&emsp;[2.1.1. Import text files](#2.1.1.-import-text-files)  \n",
      "&emsp;&emsp;&emsp;&emsp;&emsp;&emsp;&emsp;&emsp;[2.1.2. Load the other data](#2.1.2.-load-the-other-data)  \n",
      "&emsp;&emsp;&emsp;&emsp;&emsp;&emsp;&emsp;&emsp;[2.1.3. Data types](#2.1.3.-data-types)  \n",
      "&emsp;&emsp;&emsp;&emsp;&emsp;&emsp;&emsp;&emsp;&emsp;&emsp;&emsp;&emsp;[2.1.3.1. Check the types](#2.1.3.1.-check-the-types)  \n",
      "&emsp;&emsp;&emsp;&emsp;&emsp;&emsp;&emsp;&emsp;&emsp;&emsp;&emsp;&emsp;[2.1.3.2. 2.1.3.2 Change the types](#2.1.3.2.-2.1.3.2-change-the-types)  \n",
      "&emsp;&emsp;&emsp;&emsp;[2.2. Data exploration CCT FOR U](#2.2.-data-exploration-cct-for-u)  \n",
      "&emsp;&emsp;&emsp;&emsp;[2.3. Data combination](#2.3.-data-combination)  \n",
      "&emsp;&emsp;&emsp;&emsp;&emsp;&emsp;&emsp;&emsp;[2.3.1. Preprocessing](#2.3.1.-preprocessing)  \n",
      "&emsp;&emsp;&emsp;&emsp;&emsp;&emsp;&emsp;&emsp;&emsp;&emsp;&emsp;&emsp;[2.3.1.1. Standardize ratings_BA and ratings_RB annually](#2.3.1.1.-standardize-ratings_ba-and-ratings_rb-annually)  \n",
      "&emsp;&emsp;&emsp;&emsp;&emsp;&emsp;&emsp;&emsp;&emsp;&emsp;&emsp;&emsp;[2.3.1.2. Standardization of the matched' ratings](#2.3.1.2.-standardization-of-the-matched'-ratings)  \n",
      "&emsp;&emsp;&emsp;&emsp;&emsp;&emsp;&emsp;&emsp;[2.3.2. Summaries standardized data](#2.3.2.-summaries-standardized-data)  \n",
      "&emsp;&emsp;&emsp;&emsp;&emsp;&emsp;&emsp;&emsp;[2.3.3. Concatenation of the dataframes](#2.3.3.-concatenation-of-the-dataframes)  \n",
      "[3. Data Analysis](#3.-data-analysis)  \n",
      "&emsp;&emsp;&emsp;&emsp;[3.1. 3.1 Numerical ranking TCN FOR U](#3.1.-3.1-numerical-ranking-tcn-for-u)  \n",
      "&emsp;&emsp;&emsp;&emsp;&emsp;&emsp;&emsp;&emsp;[3.1.1. Filtering of the data](#3.1.1.-filtering-of-the-data)  \n",
      "&emsp;&emsp;&emsp;&emsp;&emsp;&emsp;&emsp;&emsp;[3.1.2. Weighted ranking](#3.1.2.-weighted-ranking)  \n",
      "&emsp;&emsp;&emsp;&emsp;&emsp;&emsp;&emsp;&emsp;&emsp;&emsp;&emsp;&emsp;[3.1.2.1. All-time weighted ranking](#3.1.2.1.-all-time-weighted-ranking)  \n",
      "&emsp;&emsp;&emsp;&emsp;&emsp;&emsp;&emsp;&emsp;&emsp;&emsp;&emsp;&emsp;[3.1.2.2. Weighted ranking per year](#3.1.2.2.-weighted-ranking-per-year)  \n",
      "&emsp;&emsp;&emsp;&emsp;&emsp;&emsp;&emsp;&emsp;[3.1.3. Quality-based ranking](#3.1.3.-quality-based-ranking)  \n",
      "&emsp;&emsp;&emsp;&emsp;&emsp;&emsp;&emsp;&emsp;&emsp;&emsp;&emsp;&emsp;[3.1.3.1. All time quality ranking](#3.1.3.1.-all-time-quality-ranking)  \n",
      "&emsp;&emsp;&emsp;&emsp;&emsp;&emsp;&emsp;&emsp;&emsp;&emsp;&emsp;&emsp;[3.1.3.2. Quality ranking per year](#3.1.3.2.-quality-ranking-per-year)  \n",
      "&emsp;&emsp;&emsp;&emsp;&emsp;&emsp;&emsp;&emsp;[3.1.4. 3.1.3 Evolution of the best breweries grade across the years](#3.1.4.-3.1.3-evolution-of-the-best-breweries-grade-across-the-years)  \n",
      "&emsp;&emsp;&emsp;&emsp;[3.2. Link between polarity, subjectivity of the reviews and ratings CCT FOR U](#3.2.-link-between-polarity,-subjectivity-of-the-reviews-and-ratings-cct-for-u)  \n",
      "&emsp;&emsp;&emsp;&emsp;[3.3. Advanced ranking](#3.3.-advanced-ranking)  \n",
      "&emsp;&emsp;&emsp;&emsp;&emsp;&emsp;&emsp;&emsp;[3.3.1. Reviews' preprocessing](#3.3.1.-reviews'-preprocessing)  \n",
      "&emsp;&emsp;&emsp;&emsp;&emsp;&emsp;&emsp;&emsp;[3.3.2. Calculations of polarity and subjectivity of the reviews with NLP analysis](#3.3.2.-calculations-of-polarity-and-subjectivity-of-the-reviews-with-nlp-analysis)  \n",
      "&emsp;&emsp;&emsp;&emsp;&emsp;&emsp;&emsp;&emsp;[3.3.3. Analysis with the new ranking system](#3.3.3.-analysis-with-the-new-ranking-system)  \n",
      "&emsp;&emsp;&emsp;&emsp;&emsp;&emsp;&emsp;&emsp;&emsp;&emsp;&emsp;&emsp;[3.3.3.1. New ranking system](#3.3.3.1.-new-ranking-system)  \n",
      "&emsp;&emsp;&emsp;&emsp;&emsp;&emsp;&emsp;&emsp;&emsp;&emsp;&emsp;&emsp;[3.3.3.2. Best breweries in the world around the years](#3.3.3.2.-best-breweries-in-the-world-around-the-years)  \n",
      "[4. Annexes](#4.-annexes)  \n",
      "&emsp;&emsp;&emsp;&emsp;[4.1. Generation of the table of content](#4.1.-generation-of-the-table-of-content)  \n"
     ]
    }
   ],
   "source": [
    "print(toc)"
   ]
  },
  {
   "cell_type": "markdown",
   "metadata": {},
   "source": []
  }
 ],
 "metadata": {
  "kernelspec": {
   "display_name": "ada",
   "language": "python",
   "name": "python3"
  },
  "language_info": {
   "codemirror_mode": {
    "name": "ipython",
    "version": 3
   },
   "file_extension": ".py",
   "mimetype": "text/x-python",
   "name": "python",
   "nbconvert_exporter": "python",
   "pygments_lexer": "ipython3",
   "version": "3.9.18"
  }
 },
 "nbformat": 4,
 "nbformat_minor": 2
}
