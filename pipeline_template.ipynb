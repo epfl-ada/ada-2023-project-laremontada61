{
 "cells": [
  {
   "cell_type": "markdown",
   "metadata": {},
   "source": [
    "# P2 submission"
   ]
  },
  {
   "cell_type": "markdown",
   "metadata": {},
   "source": [
    "---\n",
    "\n",
    "**Requirements**\n",
    "P2 submission notebook should show :\n",
    "- That you can handle the data in its size.\n",
    "- That you understand what’s in the data (formats, distributions, missing values, correlations, etc.).\n",
    "- That you considered ways to enrich, filter, transform the data according to your needs.\n",
    "- That you have a reasonable plan and ideas for methods you’re going to use, giving their essential mathematical details in the notebook.\n",
    "- That your plan for analysis and communication is reasonable and sound, potentially discussing alternatives to your choices that you considered but dropped.\n",
    "\n",
    "\n",
    "\n",
    "**Project proposal**\n",
    "\n",
    "Best breweries in the world \n",
    "\n",
    "The idea behind the identification of the best breweries is that the consumer might be more interested to try new and/or original products that come from a good brewery. This ranking is based on the ratings given by the tasters, but the ratings have to be weighted by the number of ratings for the best beers, the quality and emotions transmitted in the text following the different ratings. Some ratings might be biased or unclear so some of them might have to be filtered. Once the ranking is determined a visualisation is to be created to convey properly the attributes of the best breweries (number of “quality” beers, rankings by styles).\n",
    "\n",
    "*Feedback*\n",
    "\n",
    "Find and visualize the best breweries - clarity: 75 - creativity: 75 - feasibility: 75, using beer-level reviews as a proxy for brewery reviews is doable, yet will require detailed analysis. \n",
    "\n",
    "---"
   ]
  },
  {
   "cell_type": "markdown",
   "metadata": {},
   "source": [
    "# Beer reviews EDA\n",
    "\n",
    "This dataset consists of beer reviews from two Beer rating websites: BeerAdvocate and RateBeer, for a period of 17 years ranging from 2001 to 2017.\n",
    "\n",
    "Metadata about users, beers, and breweries (CSV)"
   ]
  },
  {
   "cell_type": "code",
   "execution_count": 3,
   "metadata": {},
   "outputs": [],
   "source": [
    "# import libraries\n",
    "import pandas as pd\n",
    "import numpy as np\n",
    "import matplotlib.pyplot as plt\n",
    "import seaborn as sns\n",
    "import regex as re\n",
    "import os\n",
    "import spacy"
   ]
  },
  {
   "cell_type": "markdown",
   "metadata": {},
   "source": [
    "# Handle size of the data\n",
    "\n",
    "\n",
    "TODO : add explanation of the whole process of splitting ratings.txt"
   ]
  },
  {
   "cell_type": "code",
   "execution_count": 4,
   "metadata": {},
   "outputs": [],
   "source": [
    "def load_txt_file(website):\n",
    "    if website == 'BeerAdvocate':\n",
    "        # Specify the directory containing the text files \n",
    "        # NB : - need to be outside the repo folder !!\n",
    "        #      - might need to change the path of the directory below\n",
    "        directory = './../dataset_BeerReviews/BeerAdvocate/rates_comp/'\n",
    "    else:\n",
    "        directory = './../dataset_BeerReviews/RateBeer/rates_comp/'\n",
    "\n",
    "    # Initialize an empty list to store DataFrames\n",
    "    dfs = []\n",
    "\n",
    "    # Loop through the files in reverse order (ratings-5.txt to ratings-1.txt)\n",
    "    for i in range(1, 0, -1):\n",
    "        file_name = f'ratings-{i}.txt'\n",
    "        file_path = os.path.join(directory, file_name)\n",
    "\n",
    "        with open(file_path, 'r') as f:\n",
    "            text = f.read()\n",
    "\n",
    "        # Remove double quotes at the beginning of each line\n",
    "        data = re.sub('\"', '', text)\n",
    "        data = re.sub(r'^\"', '', data, flags=re.MULTILINE)\n",
    "\n",
    "        # Split the text into individual beer reviews\n",
    "        beer_reviews = data.split('beer_name')\n",
    "\n",
    "        # Extract the beer information from each review\n",
    "        beer_data = []\n",
    "        for review in beer_reviews:\n",
    "            beer_info = {}\n",
    "            for line in [entry.split(':', 1) for entry in review.split('\\n') if ':' in entry]:# and 'text' not in entry]:\n",
    "                if line:  # Check if the list is not empty\n",
    "                    key, value = line[0].strip(), line[1].strip()\n",
    "                    beer_info[key] = value\n",
    "            beer_data.append(beer_info)\n",
    "\n",
    "        # Convert the beer data into a DataFrame\n",
    "        df = pd.DataFrame(beer_data)\n",
    "\n",
    "        # Append the DataFrame to the list\n",
    "        dfs.append(df)\n",
    "\n",
    "    # Concatenate all DataFrames into a single DataFrame\n",
    "    final_df = pd.concat(dfs, ignore_index=True)\n",
    "\n",
    "    # Rename the columns depending on the website\n",
    "    if website == 'BeerAdvocate':\n",
    "        final_df.columns = [\n",
    "            'beer_name',\n",
    "            'beer_id',\n",
    "            'brewery_name',\n",
    "            'brewery_id',\n",
    "            'style',\n",
    "            'abv',\n",
    "            'date',\n",
    "            'user_name',\n",
    "            'user_id',\n",
    "            'appearance',\n",
    "            'aroma',\n",
    "            'palate',\n",
    "            'taste',\n",
    "            'overall',\n",
    "            'rating',\n",
    "            'text',\n",
    "            'review'] # additional column compared to RB\n",
    "    else:\n",
    "        final_df.columns = [\n",
    "            'beer_name',\n",
    "            'beer_id',\n",
    "            'brewery_name',\n",
    "            'brewery_id',\n",
    "            'style',\n",
    "            'abv',\n",
    "            'date',\n",
    "            'user_name',\n",
    "            'user_id',\n",
    "            'appearance',\n",
    "            'aroma',\n",
    "            'palate',\n",
    "            'taste',\n",
    "            'overall',\n",
    "            'rating',\n",
    "            'text']\n",
    "    return final_df\n",
    "\n",
    "def sample_data(df, ratio):\n",
    "    # sample the data to make it even smaller\n",
    "    return df.sample(frac = ratio, random_state=42)"
   ]
  },
  {
   "cell_type": "code",
   "execution_count": 18,
   "metadata": {},
   "outputs": [],
   "source": [
    "# Load data\n",
    "ratings_BA = load_txt_file('BeerAdvocate')\n",
    "ratings_RB = load_txt_file('RateBeer')"
   ]
  },
  {
   "cell_type": "code",
   "execution_count": 23,
   "metadata": {},
   "outputs": [],
   "source": [
    "# Sample data to make it even smaller AND RANDOMIZED (not randomized in the initial txt splitting process)\n",
    "ratings_BA = sample_data(ratings_BA, 1)\n",
    "ratings_RB = sample_data(df = ratings_RB, ratio = 1)"
   ]
  },
  {
   "cell_type": "code",
   "execution_count": 24,
   "metadata": {},
   "outputs": [
    {
     "name": "stdout",
     "output_type": "stream",
     "text": [
      "402116\n"
     ]
    },
    {
     "data": {
      "text/html": [
       "<div>\n",
       "<style scoped>\n",
       "    .dataframe tbody tr th:only-of-type {\n",
       "        vertical-align: middle;\n",
       "    }\n",
       "\n",
       "    .dataframe tbody tr th {\n",
       "        vertical-align: top;\n",
       "    }\n",
       "\n",
       "    .dataframe thead th {\n",
       "        text-align: right;\n",
       "    }\n",
       "</style>\n",
       "<table border=\"1\" class=\"dataframe\">\n",
       "  <thead>\n",
       "    <tr style=\"text-align: right;\">\n",
       "      <th></th>\n",
       "      <th>beer_name</th>\n",
       "      <th>beer_id</th>\n",
       "      <th>brewery_name</th>\n",
       "      <th>brewery_id</th>\n",
       "      <th>style</th>\n",
       "      <th>abv</th>\n",
       "      <th>date</th>\n",
       "      <th>user_name</th>\n",
       "      <th>user_id</th>\n",
       "      <th>appearance</th>\n",
       "      <th>aroma</th>\n",
       "      <th>palate</th>\n",
       "      <th>taste</th>\n",
       "      <th>overall</th>\n",
       "      <th>rating</th>\n",
       "      <th>text</th>\n",
       "    </tr>\n",
       "  </thead>\n",
       "  <tbody>\n",
       "    <tr>\n",
       "      <th>82915</th>\n",
       "      <td>Rockbottom Wheat Beer</td>\n",
       "      <td>98653</td>\n",
       "      <td>Rockbottom Brewpub</td>\n",
       "      <td>10199</td>\n",
       "      <td>Wheat Ale</td>\n",
       "      <td>nan</td>\n",
       "      <td>1234004400</td>\n",
       "      <td>Gethinbeer</td>\n",
       "      <td>30267</td>\n",
       "      <td>2</td>\n",
       "      <td>3</td>\n",
       "      <td>3</td>\n",
       "      <td>3</td>\n",
       "      <td>7</td>\n",
       "      <td>1.80</td>\n",
       "      <td>On tap at Rockbottom, Halifax. Im sure this is...</td>\n",
       "    </tr>\n",
       "    <tr>\n",
       "      <th>242939</th>\n",
       "      <td>Bièropholie Bock Émissaire</td>\n",
       "      <td>29207</td>\n",
       "      <td>Bièropholie</td>\n",
       "      <td>6663</td>\n",
       "      <td>Dunkler Bock</td>\n",
       "      <td>6.0</td>\n",
       "      <td>1209376800</td>\n",
       "      <td>willblake</td>\n",
       "      <td>8089</td>\n",
       "      <td>3</td>\n",
       "      <td>8</td>\n",
       "      <td>3</td>\n",
       "      <td>8</td>\n",
       "      <td>16</td>\n",
       "      <td>3.80</td>\n",
       "      <td>20070303  341ml bottle, 2005, thanks RLB.  Fru...</td>\n",
       "    </tr>\n",
       "  </tbody>\n",
       "</table>\n",
       "</div>"
      ],
      "text/plain": [
       "                         beer_name beer_id        brewery_name brewery_id  \\\n",
       "82915        Rockbottom Wheat Beer   98653  Rockbottom Brewpub      10199   \n",
       "242939  Bièropholie Bock Émissaire   29207         Bièropholie       6663   \n",
       "\n",
       "               style  abv        date   user_name user_id appearance aroma  \\\n",
       "82915      Wheat Ale  nan  1234004400  Gethinbeer   30267          2     3   \n",
       "242939  Dunkler Bock  6.0  1209376800   willblake    8089          3     8   \n",
       "\n",
       "       palate taste overall rating  \\\n",
       "82915       3     3       7   1.80   \n",
       "242939      3     8      16   3.80   \n",
       "\n",
       "                                                     text  \n",
       "82915   On tap at Rockbottom, Halifax. Im sure this is...  \n",
       "242939  20070303  341ml bottle, 2005, thanks RLB.  Fru...  "
      ]
     },
     "execution_count": 24,
     "metadata": {},
     "output_type": "execute_result"
    }
   ],
   "source": [
    "print(len(ratings_RB))\n",
    "ratings_RB.head(2)"
   ]
  },
  {
   "cell_type": "markdown",
   "metadata": {},
   "source": [
    "### Load the other data"
   ]
  },
  {
   "cell_type": "code",
   "execution_count": 25,
   "metadata": {},
   "outputs": [],
   "source": [
    "# BeerAdvocate\n",
    "beers_BA = pd.read_csv(\"./dataset_BeerReviews/BeerAdvocate/beers.csv\")\n",
    "breweries_BA = pd.read_csv(\"./dataset_BeerReviews/BeerAdvocate/breweries.csv\")\n",
    "users_BA = pd.read_csv(\"./dataset_BeerReviews/BeerAdvocate/users.csv\")\n",
    "\n",
    "# RateBeer\n",
    "beers_RB = pd.read_csv(\"./dataset_BeerReviews/RateBeer/beers.csv\")\n",
    "breweries_RB = pd.read_csv(\"./dataset_BeerReviews/RateBeer/breweries.csv\")\n",
    "users_RB = pd.read_csv(\"./dataset_BeerReviews/RateBeer/users.csv\")\n",
    "\n",
    "# matched_beer_data\n",
    "beers_matched = pd.read_csv(\"./dataset_BeerReviews/matched_beer_data/beers.csv\", header=1)\n",
    "breweries_matched = pd.read_csv(\"./dataset_BeerReviews/matched_beer_data/breweries.csv\", header = 1)\n",
    "ratings_matched = pd.read_csv(\"./dataset_BeerReviews/matched_beer_data/ratings.csv\", header=1)\n",
    "users_approx = pd.read_csv(\"./dataset_BeerReviews/matched_beer_data/users_approx.csv\", header=1)\n",
    "users_matched = pd.read_csv(\"./dataset_BeerReviews/matched_beer_data/users.csv\", header=1)"
   ]
  },
  {
   "cell_type": "markdown",
   "metadata": {},
   "source": [
    "## EDA\n",
    "\n",
    "Do univariate and multivariate analysis\n",
    "\n",
    "\n",
    "- formats\n",
    "- distributions\n",
    "- missing values\n",
    "- correlations\n",
    "- etc...\n",
    "\n",
    "**Organisation of the EDA**\n",
    "- General data (users, breweries)\n",
    "- Numerical ratings\n",
    "- Textual reviews"
   ]
  },
  {
   "cell_type": "code",
   "execution_count": null,
   "metadata": {},
   "outputs": [],
   "source": [
    "def convert_type(df, col):\n",
    "    df[col] = df[col].astype('float64')\n",
    "    return df\n",
    "\n",
    "cols = ['beer_id', 'brewery_id', 'abv', 'user_id', 'appearance', 'aroma', 'palate', 'taste', 'overall', 'rating']\n",
    "\n",
    "for col in cols : \n",
    "    ratings_BA = convert_type(ratings_BA, col)"
   ]
  },
  {
   "cell_type": "code",
   "execution_count": null,
   "metadata": {},
   "outputs": [],
   "source": [
    "def get_feature_stats(df):\n",
    "    \"\"\"\n",
    "    Obtains descriptive statistics for all features and percentage of missing \n",
    "    values\n",
    "    \n",
    "    Parameters\n",
    "    ----------\n",
    "    df : DataFrame\n",
    "         Containing all data\n",
    "\n",
    "    Returns\n",
    "    -------\n",
    "    stats : DataFrame\n",
    "            Containing the statistics for all features.\n",
    "                   \n",
    "    \"\"\"\n",
    "    ### BEGIN SOLUTION\n",
    "    numerical = df.describe(include= ['float64', 'int64'])\n",
    "    categorical = df.describe(include= ['object'])\n",
    "    stats = pd.concat([numerical, categorical])\n",
    "    #stats = df.describe(include= 'all') # alternative\n",
    "    \n",
    "    # Select the desired statistics\n",
    "    stats = stats.loc[['mean', 'std', '50%', 'unique', 'top', 'freq']]\n",
    "    percentage = df.isnull().sum(axis = 0)*100 / len(df)\n",
    "    stats.loc['missing_values'] = np.array(percentage)\n",
    "    ### END SOLUTION\n",
    "    return stats\n",
    "\n",
    "ratings_BA_stats = get_feature_stats(ratings_BA)\n",
    "ratings_BA_stats"
   ]
  },
  {
   "cell_type": "code",
   "execution_count": null,
   "metadata": {},
   "outputs": [],
   "source": [
    "### 1.3\n",
    "def plot_features(df, title):\n",
    "    continuous_cols = ['abv', 'appearance', 'aroma', 'palate', 'taste', 'overall', 'rating'] #list(df._get_numeric_data().columns)\n",
    "    fig, axes = plt.subplots(2, 4, figsize=(15,10))\n",
    "    for i, col in enumerate(continuous_cols):\n",
    "        ax = axes[i // 4, i % 4]\n",
    "        data = df[~df[col].isna()]\n",
    "        sns.histplot(data=data[col], bins=50, ax=ax) #Filter out nan values in the features\n",
    "    fig.suptitle(title)\n",
    "    fig.tight_layout()\n",
    "    return plt\n",
    "    \n",
    "plot_features(ratings_BA,\"Distribution of numerical features\")\n",
    "plt.show()\n"
   ]
  },
  {
   "cell_type": "markdown",
   "metadata": {},
   "source": [
    "## Data preprocessing\n",
    "\n",
    "- enrichment\n",
    "- filtering\n",
    "- transformation"
   ]
  },
  {
   "cell_type": "code",
   "execution_count": null,
   "metadata": {},
   "outputs": [],
   "source": [
    "# todo"
   ]
  },
  {
   "cell_type": "markdown",
   "metadata": {},
   "source": [
    "## Feasibility check of project's methods\n",
    "- give their essential mathematical details in the notebook."
   ]
  },
  {
   "cell_type": "code",
   "execution_count": null,
   "metadata": {},
   "outputs": [],
   "source": [
    "# todo"
   ]
  },
  {
   "cell_type": "markdown",
   "metadata": {},
   "source": [
    "## Alternatives considered\n",
    "- analysis and communication is reasonable"
   ]
  },
  {
   "cell_type": "code",
   "execution_count": null,
   "metadata": {},
   "outputs": [],
   "source": [
    "# todo"
   ]
  }
 ],
 "metadata": {
  "kernelspec": {
   "display_name": "ada",
   "language": "python",
   "name": "python3"
  },
  "language_info": {
   "codemirror_mode": {
    "name": "ipython",
    "version": 3
   },
   "file_extension": ".py",
   "mimetype": "text/x-python",
   "name": "python",
   "nbconvert_exporter": "python",
   "pygments_lexer": "ipython3",
   "version": "3.9.18"
  }
 },
 "nbformat": 4,
 "nbformat_minor": 2
}
